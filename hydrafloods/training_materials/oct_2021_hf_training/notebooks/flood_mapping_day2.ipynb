{
  "nbformat": 4,
  "nbformat_minor": 0,
  "metadata": {
    "colab": {
      "private_outputs": true,
      "provenance": [],
      "include_colab_link": true
    },
    "kernelspec": {
      "name": "python3",
      "display_name": "Python 3"
    },
    "language_info": {
      "name": "python"
    }
  },
  "cells": [
    {
      "cell_type": "markdown",
      "metadata": {
        "id": "view-in-github",
        "colab_type": "text"
      },
      "source": [
        "<a href=\"https://colab.research.google.com/github/SERVIR/flood_mapping_intercomparison/blob/main/hydrafloods/training_materials/oct_2021_hf_training/notebooks/flood_mapping_day2.ipynb\" target=\"_parent\"><img src=\"https://colab.research.google.com/assets/colab-badge.svg\" alt=\"Open In Colab\"/></a>"
      ]
    },
    {
      "cell_type": "markdown",
      "metadata": {
        "id": "0uhp7yq0Vm5f"
      },
      "source": [
        "# Flood mapping using HYDRAFloods\n",
        "\n",
        "In this notebook we will look at further use of HYDRAFloods for creating flood maps. We will focus on the use of Sentinel 1 SAR data for creating flood maps for a use case for Hurricanes Eta/Iota. While we focus on SAR for this exercise, the concepts extend to optical data.\n",
        "\n",
        "HYDRAFloods Python package can be found at: https://servir-mekong.github.io/hydra-floods/"
      ]
    },
    {
      "cell_type": "markdown",
      "metadata": {
        "id": "mkFfcO7VXAz2"
      },
      "source": [
        "## Setup\n",
        "Before running the notebook, please mount your Google Drive to the notebook. We will use Google Drive to securely store Earth Engine credentials for use in other notebooks. This will allow us to bypass authenticating everytime saving time throughout the training."
      ]
    },
    {
      "cell_type": "code",
      "metadata": {
        "id": "ziceyoy7TcgY"
      },
      "source": [
        "# mount the google drive so that we can save credentials\n",
        "from google.colab import drive\n",
        "drive.mount('/content/drive')"
      ],
      "execution_count": null,
      "outputs": []
    },
    {
      "cell_type": "markdown",
      "metadata": {
        "id": "fbaUimiCXOe7"
      },
      "source": [
        "Now we will install the `hydrafloods` package for surface water mapping and `geemap` for interactive viewing results from Earth Engine.\n",
        "\n",
        "You will get and error stating \"*You must restart the runtime in order to use newly installed versions.*\" This can be ignored."
      ]
    },
    {
      "cell_type": "code",
      "metadata": {
        "id": "KJlHZoltToUp"
      },
      "source": [
        "# install the packages needed\n",
        "!pip install hydrafloods geemap"
      ],
      "execution_count": null,
      "outputs": []
    },
    {
      "cell_type": "code",
      "metadata": {
        "id": "-JbcwG-YTpA7"
      },
      "source": [
        "import ee\n",
        "import datetime\n",
        "import hydrafloods as hf\n",
        "import geemap.eefolium as geemap\n",
        "import geemap.colormaps as cm"
      ],
      "execution_count": null,
      "outputs": []
    },
    {
      "cell_type": "code",
      "metadata": {
        "id": "qVdSf3MuTq1D"
      },
      "source": [
        "_ = geemap.Map()"
      ],
      "execution_count": null,
      "outputs": []
    },
    {
      "cell_type": "markdown",
      "metadata": {
        "id": "1PL0_JI7XF9v"
      },
      "source": [
        "## Recap of mapping surface water\n",
        "The start of any process is to acquire data. Here HYDRAFloods is used to connect to Earth Engine collections and apply spatio-temporal filters of our interest with minimal amount of coding."
      ]
    },
    {
      "cell_type": "code",
      "metadata": {
        "id": "isl-trtCyOpD"
      },
      "source": [
        "region = ee.FeatureCollection([\n",
        "    hf.country_bbox(\"Belize\"),\n",
        "    hf.country_bbox(\"Guatemala\"),\n",
        "    hf.country_bbox(\"Honduras\"),\n",
        "    hf.country_bbox(\"El Salvador\"),\n",
        "    hf.country_bbox(\"Nicaragua\")\n",
        "])"
      ],
      "execution_count": null,
      "outputs": []
    },
    {
      "cell_type": "code",
      "metadata": {
        "id": "COwuOFMgbgRt"
      },
      "source": [
        "s1 = hf.Sentinel1(region,\"2020-11-06\",\"2020-11-07\")"
      ],
      "execution_count": null,
      "outputs": []
    },
    {
      "cell_type": "code",
      "metadata": {
        "id": "HWT0WgIh3yx6"
      },
      "source": [
        "s1.n_images"
      ],
      "execution_count": null,
      "outputs": []
    },
    {
      "cell_type": "code",
      "metadata": {
        "id": "36XBPt8Dc6GP"
      },
      "source": [
        "merit = ee.Image(\"MERIT/Hydro/v1_0_1\")\n",
        "\n",
        "# extract out the DEM and HAND bands\n",
        "dem = merit.select(\"elv\").unmask(0)\n",
        "hand = merit.select(\"hnd\").unmask(0)"
      ],
      "execution_count": null,
      "outputs": []
    },
    {
      "cell_type": "code",
      "metadata": {
        "id": "W1ycHyDc17vu"
      },
      "source": [
        "mydem = ee.Image(\"NASA/NASADEM_HGT/001\")"
      ],
      "execution_count": null,
      "outputs": []
    },
    {
      "cell_type": "code",
      "metadata": {
        "id": "7fmhhj7icux4"
      },
      "source": [
        "# apply a (psuedo-) terrain flattening algorithm to S1 data\n",
        "s1_flat = s1.apply_func(hf.slope_correction, elevation = dem, buffer = 100)"
      ],
      "execution_count": null,
      "outputs": []
    },
    {
      "cell_type": "code",
      "metadata": {
        "id": "AzzOge2-dqjX"
      },
      "source": [
        "# apply a speckle filter algorithm to S1 data\n",
        "s1_filtered = s1_flat.apply_func(hf.gamma_map)"
      ],
      "execution_count": null,
      "outputs": []
    },
    {
      "cell_type": "code",
      "metadata": {
        "id": "MzinoBbGduEn"
      },
      "source": [
        "# aggregate SAR observations to 30x30 m pixels\n",
        "s1_aggregated = s1_filtered.apply_func(lambda x: x.focal_mean(40,\"circle\",\"meters\").reproject(ee.Projection(\"EPSG:4326\").atScale(30)))"
      ],
      "execution_count": null,
      "outputs": []
    },
    {
      "cell_type": "code",
      "metadata": {
        "id": "O3PQqe2zby36"
      },
      "source": [
        "sar_vis = {\n",
        "    \"bands\":\"VV\",\n",
        "    \"min\":-25,\n",
        "    \"max\":0\n",
        "}"
      ],
      "execution_count": null,
      "outputs": []
    },
    {
      "cell_type": "code",
      "metadata": {
        "id": "rIbiswjMbr12"
      },
      "source": [
        "Map = geemap.Map(center=(15.5754, -89.8297), zoom=8)\n",
        "\n",
        "Map.addLayer(region,{},\"Region of Interest\")\n",
        "Map.addLayer(s1_aggregated.collection.mosaic(),sar_vis, 'Sentinel 1 mosaic')\n",
        "\n",
        "Map.addLayerControl()\n",
        "Map"
      ],
      "execution_count": null,
      "outputs": []
    },
    {
      "cell_type": "code",
      "metadata": {
        "id": "gz-d21nNd2TH"
      },
      "source": [
        "# apply a water thresholding algorithm to the collection\n",
        "# method from Markert et al., 2020 (https://doi.org/10.3390/rs12152469)\n",
        "water = s1_filtered.apply_func(hf.edge_otsu,initial_threshold=-18,band=\"VH\",edge_buffer=300,scale=180)"
      ],
      "execution_count": null,
      "outputs": []
    },
    {
      "cell_type": "code",
      "metadata": {
        "id": "t3sfAaEdlsoe"
      },
      "source": [
        "water_img = water.collection.mosaic()"
      ],
      "execution_count": null,
      "outputs": []
    },
    {
      "cell_type": "code",
      "metadata": {
        "id": "7GBSncmse8t1"
      },
      "source": [
        "water_final = (\n",
        "    hf.close_binary(\n",
        "        hf.open_binary(water_img,window=1.5) # apply opening filter\n",
        "        .updateMask(water_img.mask()) # force mask to be consistent with sar imagery\n",
        "        ,window=1.5\n",
        "    ) # apply closing filter\n",
        "    .updateMask(water_img.mask()) # force mask to be consistent with sar imagery\n",
        "    .And(hand.lt(15)) # only pixels that were originally classified as water AND < 15m from HAND\n",
        ")"
      ],
      "execution_count": null,
      "outputs": []
    },
    {
      "cell_type": "markdown",
      "metadata": {
        "id": "Vy9TxuO57y3G"
      },
      "source": [
        "Note: it is on the to-do list to make the \"cleaning\" of water imagery more intutive for users"
      ]
    },
    {
      "cell_type": "code",
      "metadata": {
        "id": "iYgSEvAId907"
      },
      "source": [
        "# view the results of SAR water mapping\n",
        "Map = geemap.Map(center=(16.0029, -90.5109), zoom=12)\n",
        "\n",
        "Map.addLayer(s1_aggregated.collection.median(),{\"bands\": \"VV\", \"min\":-25, \"max\": 0}, 'Sentinel 1')\n",
        "Map.addLayer(water_final.selfMask(),{\"min\":0,\"max\":1,\"palette\":cm.palettes.Blues}, \"Sentinel 1 (water)\")\n",
        "\n",
        "Map.addLayerControl()\n",
        "Map"
      ],
      "execution_count": null,
      "outputs": []
    },
    {
      "cell_type": "code",
      "metadata": {
        "id": "ne3aCvmonOdH",
        "cellView": "form"
      },
      "source": [
        "#@title Export to asset example\n",
        "hf.export_image(\n",
        "    s1_aggregated.collection.mosaic().addBands(water_final),\n",
        "    region.geometry(),\n",
        "    description = \"hydrafloods_training_day2_water\",\n",
        "    scale=30,\n",
        "    crs='EPSG:4326',\n",
        "    pyramiding={\"water\":\"mode\"},\n",
        "    export_type='toAsset',\n",
        "    asset_id = \"users/kelmarkert/public/hydrafloods_training_day2_water\"\n",
        ")\n"
      ],
      "execution_count": null,
      "outputs": []
    },
    {
      "cell_type": "code",
      "metadata": {
        "id": "ZLkbMULPmd0R"
      },
      "source": [
        "hf.export_image(\n",
        "    water_final,\n",
        "    region.geometry(),\n",
        "    description = \"hydrafloods_training_day2_water_export_live\",\n",
        "    scale=30,\n",
        "    crs='EPSG:4326',\n",
        "    pyramiding={\".default\":\"mode\"},\n",
        "    export_type='toDrive'\n",
        ")\n"
      ],
      "execution_count": null,
      "outputs": []
    },
    {
      "cell_type": "markdown",
      "metadata": {
        "id": "I2rtFpkAyI53"
      },
      "source": [
        "## Extracting floods from permanent water\n",
        "\n",
        "To extract floods we need some indicator of what is normal. The \"normal\" usually influence what the resulting flood map looks like. In these following cases we will use the [JRC surface water data](https://doi.org/10.1038/nature20584) to compare the event against and extract the flooded areas."
      ]
    },
    {
      "cell_type": "code",
      "metadata": {
        "id": "aoiimxJumdIC"
      },
      "source": [
        "# start by pulling in a pre-computed water layer from earlier\n",
        "event_img = ee.Image(\"users/kelmarkert/public/hydrafloods_training_day2_water\")\n",
        "\n",
        "sar_img = event_img.select(\"V.*\")\n",
        "water_img = event_img.select(\"water\")"
      ],
      "execution_count": null,
      "outputs": []
    },
    {
      "cell_type": "markdown",
      "metadata": {
        "id": "L1w_7D1TyPWi"
      },
      "source": [
        "### Using yearly permanent water\n",
        "\n",
        "For this case we will use previous 5-years of classified permanent water to compare against."
      ]
    },
    {
      "cell_type": "code",
      "metadata": {
        "id": "9_souPOk7vHx"
      },
      "source": [
        "water_img.date().format(\"YYYY-MM-dd\").getInfo()"
      ],
      "execution_count": null,
      "outputs": []
    },
    {
      "cell_type": "code",
      "metadata": {
        "id": "KVZafG1dyZ60"
      },
      "source": [
        "# use `extract_flood` function to use JRC data as reference\n",
        "floods_yearly = hf.extract_flood(water_img,reference=\"yearly\")"
      ],
      "execution_count": null,
      "outputs": []
    },
    {
      "cell_type": "code",
      "metadata": {
        "id": "TsFOCI8c9EKh"
      },
      "source": [
        "# view the results of flood mapping\n",
        "Map = geemap.Map(center=(16.0029, -90.5109), zoom=12)\n",
        "\n",
        "Map.addLayer(sar_img,{\"bands\": \"VV\", \"min\":-25, \"max\": 0}, 'Sentinel 1')\n",
        "Map.addLayer(water_img.selfMask(),{\"min\":0,\"max\":1,\"palette\":cm.palettes.Blues}, \"Sentinel 1 (water)\")\n",
        "Map.addLayer(floods_yearly.selfMask(),{\"min\":0,\"max\":1,\"palette\":\"red\"}, \"Sentinel 1 (flood)\")\n",
        "\n",
        "Map.addLayerControl()\n",
        "Map"
      ],
      "execution_count": null,
      "outputs": []
    },
    {
      "cell_type": "markdown",
      "metadata": {
        "id": "DX8EqXQnyTXA"
      },
      "source": [
        "### Using long-term occurrence\n",
        "\n",
        "Here we use the full record of JRC observed water and define permanent using a % occurrence threshold."
      ]
    },
    {
      "cell_type": "code",
      "metadata": {
        "id": "AfmLWUn8yZQf"
      },
      "source": [
        "# use `extract_flood` function to use JRC data as reference\n",
        "floods_occurrence = hf.extract_flood(water_img,reference=\"occurrence\",permanent_threshold=50)"
      ],
      "execution_count": null,
      "outputs": []
    },
    {
      "cell_type": "code",
      "metadata": {
        "id": "pwjL4n1e_rEn"
      },
      "source": [
        "# view the results of flood mapping\n",
        "Map = geemap.Map(center=(16.0029, -90.5109), zoom=12)\n",
        "\n",
        "Map.addLayer(sar_img,{\"bands\": \"VV\", \"min\":-25, \"max\": 0}, 'Sentinel 1')\n",
        "Map.addLayer(water_img.selfMask(),{\"min\":0,\"max\":1,\"palette\":cm.palettes.Blues}, \"Sentinel 1 (water)\")\n",
        "Map.addLayer(floods_occurrence.selfMask(),{\"min\":0,\"max\":1,\"palette\":\"red\"}, \"Sentinel 1 (flood)\")\n",
        "\n",
        "Map.addLayerControl()\n",
        "Map"
      ],
      "execution_count": null,
      "outputs": []
    },
    {
      "cell_type": "markdown",
      "metadata": {
        "id": "w2xrgkwPyam-"
      },
      "source": [
        "### Using seasonal information\n",
        "\n",
        "Here we will use the occurrence for the month that we observe to remove any effects of seasonality that is present in floods."
      ]
    },
    {
      "cell_type": "code",
      "metadata": {
        "id": "HDfm5dZw_yWa"
      },
      "source": [
        "# use `extract_flood` function to use JRC data as reference\n",
        "floods_seasonal = hf.extract_flood(water_img,reference=\"seasonal\",permanent_threshold=70)"
      ],
      "execution_count": null,
      "outputs": []
    },
    {
      "cell_type": "code",
      "metadata": {
        "id": "5M38te1j_0vG"
      },
      "source": [
        "# view the results of flood mapping\n",
        "Map = geemap.Map(center=(16.0029, -90.5109), zoom=12)\n",
        "\n",
        "Map.addLayer(sar_img,{\"bands\": \"VV\", \"min\":-25, \"max\": 0}, 'Sentinel 1')\n",
        "Map.addLayer(water_img.selfMask(),{\"min\":0,\"max\":1,\"palette\":cm.palettes.Blues}, \"Sentinel 1 (water)\")\n",
        "Map.addLayer(floods_seasonal.selfMask(),{\"min\":0,\"max\":1,\"palette\":\"red\"}, \"Sentinel 1 (flood)\")\n",
        "\n",
        "Map.addLayerControl()\n",
        "Map"
      ],
      "execution_count": null,
      "outputs": []
    },
    {
      "cell_type": "markdown",
      "metadata": {
        "id": "soQkE5WRAR7X"
      },
      "source": [
        "### Comparing the different approaches"
      ]
    },
    {
      "cell_type": "code",
      "metadata": {
        "id": "nHnZzAAHARUp"
      },
      "source": [
        "# view the results of flood mapping\n",
        "Map = geemap.Map(center=(16.0029, -90.5109), zoom=12)\n",
        "\n",
        "Map.addLayer(s1_aggregated.collection.median(),{\"bands\": \"VV\", \"min\":-25, \"max\": 0}, 'Sentinel 1')\n",
        "Map.addLayer(water_final.selfMask(),{\"min\":0,\"max\":1,\"palette\":cm.palettes.Blues}, \"Sentinel 1 (water)\")\n",
        "Map.addLayer(floods_yearly.selfMask(),{\"min\":0,\"max\":1,\"palette\":\"#FF7F7F\"}, \"Sentinel 1 (yearly)\")\n",
        "Map.addLayer(floods_occurrence.selfMask(),{\"min\":0,\"max\":1,\"palette\":\"red\"}, \"Sentinel 1 (ocurrence)\")\n",
        "Map.addLayer(floods_seasonal.selfMask(),{\"min\":0,\"max\":1,\"palette\":\"darkred\"}, \"Sentinel 1 (seasonal)\")\n",
        "\n",
        "Map.addLayerControl()\n",
        "Map"
      ],
      "execution_count": null,
      "outputs": []
    },
    {
      "cell_type": "markdown",
      "metadata": {
        "id": "69DZSc4cydji"
      },
      "source": [
        "Any caveauts to using these methods?"
      ]
    },
    {
      "cell_type": "markdown",
      "metadata": {
        "id": "4CtPfSNYyibA"
      },
      "source": [
        "## Pre- and post-event differencing\n",
        "\n"
      ]
    },
    {
      "cell_type": "code",
      "metadata": {
        "id": "6Bwm0d-hyctI"
      },
      "source": [
        "# get imagery for a period before event\n",
        "preevent = hf.Sentinel1Asc(region,\"2020-09-01\",\"2020-10-01\")"
      ],
      "execution_count": null,
      "outputs": []
    },
    {
      "cell_type": "code",
      "metadata": {
        "id": "tYRt1aT6VjfG"
      },
      "source": [
        "# apply a (psuedo-) terrain flattening algorithm to S1 data\n",
        "preevent_flat = preevent.apply_func(hf.slope_correction, elevation = dem, buffer = 100)"
      ],
      "execution_count": null,
      "outputs": []
    },
    {
      "cell_type": "code",
      "metadata": {
        "id": "_tqqzXuUXJ2z"
      },
      "source": [
        "# apply a speckle filter algorithm to S1 data\n",
        "preevent_filtered = preevent_flat.apply_func(hf.gamma_map)"
      ],
      "execution_count": null,
      "outputs": []
    },
    {
      "cell_type": "code",
      "metadata": {
        "id": "nKm1w2JxXNNf"
      },
      "source": [
        "pre_img = preevent_filtered.collection.mean()"
      ],
      "execution_count": null,
      "outputs": []
    },
    {
      "cell_type": "markdown",
      "metadata": {
        "id": "jx0pKD0iXROU"
      },
      "source": [
        "### Classification differencing"
      ]
    },
    {
      "cell_type": "code",
      "metadata": {
        "id": "m8Lo_AxXXQlQ"
      },
      "source": [
        "pre_water = hf.edge_otsu(pre_img,band=\"VV\",initial_threshold=-16,edge_buffer=300,region=region,scale=300)"
      ],
      "execution_count": null,
      "outputs": []
    },
    {
      "cell_type": "code",
      "metadata": {
        "id": "5SDN5DhrXbxn"
      },
      "source": [
        "floods_prepost = hf.discrete_difference(water_img,pre_water)"
      ],
      "execution_count": null,
      "outputs": []
    },
    {
      "cell_type": "code",
      "metadata": {
        "id": "JcUJtu7tXhRa"
      },
      "source": [
        "# view the results of flood mapping\n",
        "Map = geemap.Map(center=(16.0029, -90.5109), zoom=12)\n",
        "\n",
        "Map.addLayer(pre_img,{\"bands\": \"VV\", \"min\":-25, \"max\": 0}, 'pre-event Sentinel 1')\n",
        "Map.addLayer(pre_water.selfMask(),{\"min\":0,\"max\":1,\"palette\":cm.palettes.Blues}, \"pre-event water\")\n",
        "Map.addLayer(sar_img,{\"bands\": \"VV\", \"min\":-25, \"max\": 0}, \"post-event Sentinel 1\")\n",
        "Map.addLayer(water_img.selfMask(),{\"min\":0,\"max\":1,\"palette\":\"lightblue\"}, \"post-event water\")\n",
        "Map.addLayer(floods_prepost.selfMask(),{\"min\":0,\"max\":1,\"palette\":\"red\"}, \"event flooding\")\n",
        "\n",
        "Map.addLayerControl()\n",
        "Map"
      ],
      "execution_count": null,
      "outputs": []
    },
    {
      "cell_type": "markdown",
      "metadata": {
        "id": "GiQUusYP9RQ7"
      },
      "source": [
        "### Hurricane Mitch"
      ]
    },
    {
      "cell_type": "code",
      "metadata": {
        "id": "TLz2J0FX9QaZ"
      },
      "source": [
        "lt5 = hf.Landsat5(region,\"1998-09-01\",\"1998-10-01\")"
      ],
      "execution_count": null,
      "outputs": []
    },
    {
      "cell_type": "code",
      "metadata": {
        "id": "zzLLRUrv9mrx"
      },
      "source": [
        "mndwi = lt5.apply_func(hf.mndwi)"
      ],
      "execution_count": null,
      "outputs": []
    },
    {
      "cell_type": "code",
      "metadata": {
        "id": "ibs6ZEYU9qvK"
      },
      "source": [
        "mitch_water = mndwi.apply_func(hf.edge_otsu,band=\"mndwi\",initial_threshold=0,edge_buffer=300,scale=300,invert=True)"
      ],
      "execution_count": null,
      "outputs": []
    },
    {
      "cell_type": "code",
      "metadata": {
        "id": "jdhArTVQ93kq"
      },
      "source": [
        "floods_mitch = hf.discrete_difference(water_img,mitch_water.collection.mode())"
      ],
      "execution_count": null,
      "outputs": []
    },
    {
      "cell_type": "code",
      "metadata": {
        "id": "HjnCwWlU9-La"
      },
      "source": [
        "# view the results of flood mapping\n",
        "Map = geemap.Map(center=(16.0029, -90.5109), zoom=12)\n",
        "\n",
        "Map.addLayer(lt5.collection.mean(),{\"bands\": \"swir2,nir,green\", \"min\":50, \"max\": 5500,\"gamma\":1.5}, 'Landsat 5 Mitch')\n",
        "Map.addLayer(mitch_water.collection.mode().selfMask(),{\"min\":0,\"max\":1,\"palette\":cm.palettes.Blues}, \"pre-event water\")\n",
        "Map.addLayer(sar_img,{\"bands\": \"VV\", \"min\":-25, \"max\": 0}, \"post-event Sentinel 1\")\n",
        "Map.addLayer(water_img.selfMask(),{\"min\":0,\"max\":1,\"palette\":\"lightblue\"}, \"post-event water\")\n",
        "Map.addLayer(floods_prepost.selfMask(),{\"min\":0,\"max\":1,\"palette\":\"red\"}, \"event flooding\")\n",
        "\n",
        "Map.addLayerControl()\n",
        "Map"
      ],
      "execution_count": null,
      "outputs": []
    },
    {
      "cell_type": "markdown",
      "metadata": {
        "id": "wUJuYR6iXkDl"
      },
      "source": [
        "### Change detection\n",
        "\n",
        "In this case we we will use some change detection techniques to identify changes between a reference (pre-event) and post-event imagery. A famous algorithm for SAR is the [logarithmic amplitude ratio (LAR)](https://doi.org/10.1080/014311698215649). Here we will compute the LAR for a pair of pre- and post-event imagery and extract floods."
      ]
    },
    {
      "cell_type": "code",
      "metadata": {
        "id": "x_pIcgVrY42D"
      },
      "source": [
        "# convert the db data to amplitude power\n",
        "# then divide post/pre and take the log\n",
        "lar = hf.db_to_power(sar_img.select(\"VV\")).divide(hf.db_to_power(pre_img.select(\"VV\"))).log10()"
      ],
      "execution_count": null,
      "outputs": []
    },
    {
      "cell_type": "code",
      "metadata": {
        "id": "GdGvCIHmaS0j"
      },
      "source": [
        "floods_lar = hf.edge_otsu(lar,region=region,initial_threshold=0,scale=300,edge_buffer=300)"
      ],
      "execution_count": null,
      "outputs": []
    },
    {
      "cell_type": "code",
      "metadata": {
        "id": "F-J-pKwQdB7W"
      },
      "source": [
        "floods_lar_final = (\n",
        "    hf.close_binary(\n",
        "        hf.open_binary(floods_lar,window=1.5) # apply opening filter\n",
        "        .updateMask(floods_lar.mask()) # force mask to be consistent with sar imagery\n",
        "        ,window=1.5\n",
        "    ) # apply closing filter\n",
        "    .updateMask(floods_lar.mask()) # force mask to be consistent with sar imagery\n",
        "    .And(hand.lt(15)) # only pixels that were originally classified as water AND < 15m from HAND\n",
        ")"
      ],
      "execution_count": null,
      "outputs": []
    },
    {
      "cell_type": "code",
      "metadata": {
        "id": "Pq8ZhaGyZiDw"
      },
      "source": [
        "# view the results of flood mapping\n",
        "Map = geemap.Map(center=(16.0029, -90.5109), zoom=12)\n",
        "\n",
        "Map.addLayer(pre_img,{\"bands\": \"VV\", \"min\":-25, \"max\": 0}, 'pre-event Sentinel 1')\n",
        "Map.addLayer(sar_img,{\"bands\": \"VV\", \"min\":-25, \"max\": 0}, \"post-event Sentinel 1\")\n",
        "Map.addLayer(lar,{\"min\":-1,\"max\":1,\"palette\":cm.palettes.inferno}, \"LAR\")\n",
        "Map.addLayer(floods_lar_final.selfMask(),{\"min\":0,\"max\":1,\"palette\":\"red\"}, \"LAR event flooding\")\n",
        "\n",
        "\n",
        "Map.addLayerControl()\n",
        "Map"
      ],
      "execution_count": null,
      "outputs": []
    },
    {
      "cell_type": "markdown",
      "metadata": {
        "id": "t7EvNXGjVoR_"
      },
      "source": [
        "## Flood depth estimation\n",
        "\n",
        "Sometimes not only extent is needed and some estimate of depth provides a better estimate of impacts from floods. `hydrafloods` has the [Floodwater Depth Estimation Tool (FwDET)](https://doi.org/10.5194/nhess-19-2053-2019) implemented to provide an estimate of flood depth based off of a DEM.\n",
        "\n",
        "**CAUTION**: This algorithm provides a fairly rough estimate of flood depth and its accuracy is very dependant on the accuracy of the input DEM."
      ]
    },
    {
      "cell_type": "code",
      "metadata": {
        "id": "HbfOJ9GWVqML"
      },
      "source": [
        "# apply the fwdet algorithm for the floods we extracted\n",
        "flood_depths = hf.fwdet(water_img,dem,force_projection=True)"
      ],
      "execution_count": null,
      "outputs": []
    },
    {
      "cell_type": "code",
      "metadata": {
        "id": "hy1_7wcQV5sG"
      },
      "source": [
        "# view the results of flood depth mapping\n",
        "Map = geemap.Map(center=(16.0029, -90.5109), zoom=12)\n",
        "\n",
        "Map.addLayer(sar_img,{\"bands\": \"VV\", \"min\":-25, \"max\": 0}, 'Sentinel 1')\n",
        "Map.addLayer(water_img.selfMask(),{\"min\":0,\"max\":1,\"palette\":cm.palettes.Blues}, \"Sentinel 1 (water)\")\n",
        "Map.addLayer(floods_yearly.selfMask(),{\"min\":0,\"max\":1,\"palette\":\"red\"}, \"Sentinel 1 (flood)\")\n",
        "Map.addLayer(flood_depths,{\"bands\":\"depth\",\"max\":5,\"palette\":cm.palettes.viridis_r},\"Flood depth\")\n",
        "\n",
        "\n",
        "Map.addLayerControl()\n",
        "Map"
      ],
      "execution_count": null,
      "outputs": []
    },
    {
      "cell_type": "markdown",
      "metadata": {
        "id": "xodnUHDDEHMV"
      },
      "source": [
        "## Creating static maps"
      ]
    },
    {
      "cell_type": "code",
      "metadata": {
        "id": "mUlVO89NmCQm"
      },
      "source": [
        "!pip install cartopy scipy"
      ],
      "execution_count": null,
      "outputs": []
    },
    {
      "cell_type": "code",
      "metadata": {
        "id": "jTQaiq2HEJXC"
      },
      "source": [
        "from geemap import cartoee\n",
        "import cartopy.crs as ccrs"
      ],
      "execution_count": null,
      "outputs": []
    },
    {
      "cell_type": "code",
      "metadata": {
        "id": "Vn9_HR_KYGgk"
      },
      "source": [
        "ax = cartoee.get_map(sar_img, region=[-90.6530,15.9700,-90.3825,16.0676],)"
      ],
      "execution_count": null,
      "outputs": []
    },
    {
      "cell_type": "code",
      "metadata": {
        "id": "4Hwqo2l3l_Q_"
      },
      "source": [],
      "execution_count": null,
      "outputs": []
    }
  ]
}