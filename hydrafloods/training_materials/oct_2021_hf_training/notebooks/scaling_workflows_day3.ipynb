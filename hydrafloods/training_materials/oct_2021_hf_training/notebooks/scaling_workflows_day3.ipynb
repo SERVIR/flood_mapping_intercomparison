{
  "nbformat": 4,
  "nbformat_minor": 0,
  "metadata": {
    "colab": {
      "private_outputs": true,
      "provenance": [],
      "include_colab_link": true
    },
    "kernelspec": {
      "name": "python3",
      "display_name": "Python 3"
    },
    "language_info": {
      "name": "python"
    }
  },
  "cells": [
    {
      "cell_type": "markdown",
      "metadata": {
        "id": "view-in-github",
        "colab_type": "text"
      },
      "source": [
        "<a href=\"https://colab.research.google.com/github/SERVIR/flood_mapping_intercomparison/blob/main/hydrafloods/training_materials/oct_2021_hf_training/notebooks/scaling_workflows_day3.ipynb\" target=\"_parent\"><img src=\"https://colab.research.google.com/assets/colab-badge.svg\" alt=\"Open In Colab\"/></a>"
      ]
    },
    {
      "cell_type": "markdown",
      "metadata": {
        "id": "0uhp7yq0Vm5f"
      },
      "source": [
        "# Scaling workflows using HYDRAFloods\n",
        "\n",
        "In this notebook we will look at further use of HYDRAFloods for creating flood products over large areas or long time periods. We will discuss considerations and small nuasces for running processing over large number of images.\n",
        "\n",
        "HYDRAFloods Python package can be found at: https://servir-mekong.github.io/hydra-floods/"
      ]
    },
    {
      "cell_type": "markdown",
      "metadata": {
        "id": "mkFfcO7VXAz2"
      },
      "source": [
        "## Setup\n",
        "Before running the notebook, please mount your Google Drive to the notebook. We will use Google Drive to securely store Earth Engine credentials for use in other notebooks. This will allow us to bypass authenticating everytime saving time throughout the training."
      ]
    },
    {
      "cell_type": "code",
      "metadata": {
        "id": "ziceyoy7TcgY"
      },
      "source": [
        "# mount the google drive so that we can save credentials\n",
        "from google.colab import drive\n",
        "drive.mount('/content/drive')"
      ],
      "execution_count": null,
      "outputs": []
    },
    {
      "cell_type": "markdown",
      "metadata": {
        "id": "fbaUimiCXOe7"
      },
      "source": [
        "Now we will install the `hydrafloods` package for surface water mapping and `geemap` for interactive viewing results from Earth Engine.\n",
        "\n",
        "You will get and error stating \"*You must restart the runtime in order to use newly installed versions.*\" This can be ignored."
      ]
    },
    {
      "cell_type": "code",
      "metadata": {
        "id": "KJlHZoltToUp"
      },
      "source": [
        "# install the packages needed\n",
        "!pip install hydrafloods geemap"
      ],
      "execution_count": null,
      "outputs": []
    },
    {
      "cell_type": "code",
      "metadata": {
        "id": "-JbcwG-YTpA7"
      },
      "source": [
        "import ee\n",
        "import datetime\n",
        "import hydrafloods as hf\n",
        "import geemap.eefolium as geemap\n",
        "import geemap.colormaps as cm"
      ],
      "execution_count": null,
      "outputs": []
    },
    {
      "cell_type": "code",
      "metadata": {
        "id": "qVdSf3MuTq1D"
      },
      "source": [
        "_ = geemap.Map()"
      ],
      "execution_count": null,
      "outputs": []
    },
    {
      "cell_type": "markdown",
      "metadata": {
        "id": "HphthGqIvoHj"
      },
      "source": [
        "## Preventing errors with Optical processing"
      ]
    },
    {
      "cell_type": "code",
      "metadata": {
        "id": "t9xIsOemvrLY"
      },
      "source": [
        "region = ee.Geometry.Rectangle([-120,7,-77,32])\n",
        "start_time = \"2019-01-01\"\n",
        "end_time = \"2019-07-01\"\n",
        "\n",
        "# get a Landsat 8 collection\n",
        "lc8 = hf.Landsat8(region,start_time,end_time)"
      ],
      "execution_count": null,
      "outputs": []
    },
    {
      "cell_type": "code",
      "metadata": {
        "id": "-Rkz7A0XEA8w"
      },
      "source": [
        "lc8.n_images"
      ],
      "execution_count": null,
      "outputs": []
    },
    {
      "cell_type": "code",
      "metadata": {
        "id": "gaTBp44Xv-B7"
      },
      "source": [
        "# lc8_errors = lc8.filter(ee.Filter.gt(\"CLOUD_COVER\",90))"
      ],
      "execution_count": null,
      "outputs": []
    },
    {
      "cell_type": "code",
      "metadata": {
        "id": "JPivWPQJwEQl"
      },
      "source": [
        "mosaic = lc8.collection.median()"
      ],
      "execution_count": null,
      "outputs": []
    },
    {
      "cell_type": "code",
      "metadata": {
        "id": "IhsxxYBZwInb"
      },
      "source": [
        "optical_vis = {\n",
        "    \"min\":50,\n",
        "    \"max\":5500,\n",
        "    \"bands\":\"swir2,nir,green\",\n",
        "    \"gamma\":1.5,\n",
        "}"
      ],
      "execution_count": null,
      "outputs": []
    },
    {
      "cell_type": "code",
      "metadata": {
        "id": "xPFr46yowMnk"
      },
      "source": [
        "Map = geemap.Map(center=(15.5754, -89.8297), zoom=8)\n",
        "\n",
        "Map.addLayer(mosaic,optical_vis, 'Landsat 8')\n",
        "\n",
        "Map.addLayerControl()\n",
        "Map"
      ],
      "execution_count": null,
      "outputs": []
    },
    {
      "cell_type": "code",
      "metadata": {
        "id": "RT39A2VAwzNn"
      },
      "source": [
        "# calculate water index\n",
        "# here we calculate the modified normalized water index\n",
        "water_index = lc8.apply_func(hf.mndwi)"
      ],
      "execution_count": null,
      "outputs": []
    },
    {
      "cell_type": "code",
      "metadata": {
        "id": "Eyvh37Fpw2TQ"
      },
      "source": [
        "# extract water from each image\n",
        "water = water_index.apply_func(hf.edge_otsu, initial_threshold=-0.9, edge_buffer=300,invert=True,thresh_no_data=0)\n",
        "\n",
        "\n",
        "# thresh_no_data=0"
      ],
      "execution_count": null,
      "outputs": []
    },
    {
      "cell_type": "code",
      "metadata": {
        "id": "8dE-eSFuw89Q"
      },
      "source": [
        "water_mosaic = water.collection.mode()"
      ],
      "execution_count": null,
      "outputs": []
    },
    {
      "cell_type": "code",
      "metadata": {
        "id": "teJqgoFnxBrM"
      },
      "source": [
        "Map = geemap.Map(center=(15.5754, -89.8297), zoom=8)\n",
        "\n",
        "Map.addLayer(mosaic,optical_vis, 'Landsat 8')\n",
        "Map.addLayer(water_mosaic.selfMask(),{\"min\":0,\"max\":1,\"palette\":cm.palettes.Blues}, 'Landsat 8 Water')\n",
        "\n",
        "Map.addLayerControl()\n",
        "Map"
      ],
      "execution_count": null,
      "outputs": []
    },
    {
      "cell_type": "markdown",
      "metadata": {
        "id": "1PL0_JI7XF9v"
      },
      "source": [
        "## Preventing errors with SAR processing"
      ]
    },
    {
      "cell_type": "code",
      "metadata": {
        "id": "isl-trtCyOpD"
      },
      "source": [
        "region = hf.country_bbox(\"Dominican Republic\")\n",
        "# region = ee.Geometry.Point(-72.0154,16.8203,)"
      ],
      "execution_count": null,
      "outputs": []
    },
    {
      "cell_type": "code",
      "metadata": {
        "id": "COwuOFMgbgRt"
      },
      "source": [
        "s1 = hf.Sentinel1Asc(region,\"2020-08-01\",\"2020-10-01\")"
      ],
      "execution_count": null,
      "outputs": []
    },
    {
      "cell_type": "code",
      "metadata": {
        "id": "HWT0WgIh3yx6"
      },
      "source": [
        "s1.n_images"
      ],
      "execution_count": null,
      "outputs": []
    },
    {
      "cell_type": "code",
      "metadata": {
        "id": "36XBPt8Dc6GP"
      },
      "source": [
        "merit = ee.Image(\"MERIT/Hydro/v1_0_1\")\n",
        "\n",
        "# extract out the DEM and HAND bands\n",
        "dem = merit.select(\"elv\").unmask(0)\n",
        "\n",
        "# .unmask(0)"
      ],
      "execution_count": null,
      "outputs": []
    },
    {
      "cell_type": "code",
      "metadata": {
        "id": "7fmhhj7icux4"
      },
      "source": [
        "# apply a (psuedo-) terrain flattening algorithm to S1 data\n",
        "s1_flat = s1.apply_func(hf.slope_correction, elevation = dem, buffer = 100)"
      ],
      "execution_count": null,
      "outputs": []
    },
    {
      "cell_type": "code",
      "metadata": {
        "id": "AzzOge2-dqjX"
      },
      "source": [
        "# apply a speckle filter algorithm to S1 data\n",
        "s1_filtered = s1_flat.apply_func(hf.gamma_map)"
      ],
      "execution_count": null,
      "outputs": []
    },
    {
      "cell_type": "code",
      "metadata": {
        "id": "MzinoBbGduEn"
      },
      "source": [
        "# aggregate SAR observations to 30x30 m pixels\n",
        "s1_aggregated = s1_filtered.apply_func(lambda x: x.focal_mean(40,\"circle\",\"meters\").reproject(ee.Projection(\"EPSG:4326\").atScale(30)))"
      ],
      "execution_count": null,
      "outputs": []
    },
    {
      "cell_type": "code",
      "metadata": {
        "id": "O3PQqe2zby36"
      },
      "source": [
        "sar_vis = {\n",
        "    \"bands\":\"VV\",\n",
        "    \"min\":-25,\n",
        "    \"max\":0\n",
        "}"
      ],
      "execution_count": null,
      "outputs": []
    },
    {
      "cell_type": "code",
      "metadata": {
        "id": "rIbiswjMbr12"
      },
      "source": [
        "Map = geemap.Map(center=(18.8959, -70.3015), zoom=8)\n",
        "\n",
        "Map.addLayer(region,{},\"Region of Interest\")\n",
        "Map.addLayer(s1.collection.mean(),sar_vis, 'Sentinel 1 mosaic')\n",
        "\n",
        "Map.addLayerControl()\n",
        "Map"
      ],
      "execution_count": null,
      "outputs": []
    },
    {
      "cell_type": "code",
      "metadata": {
        "id": "j3KZy5gGz_bc"
      },
      "source": [
        "Map = geemap.Map(center=(18.8959, -70.3015), zoom=8)\n",
        "\n",
        "Map.addLayer(region,{},\"Region of Interest\")\n",
        "Map.addLayer(s1_aggregated.collection.mean(),sar_vis, 'Sentinel 1 mosaic')\n",
        "\n",
        "Map.addLayerControl()\n",
        "Map"
      ],
      "execution_count": null,
      "outputs": []
    },
    {
      "cell_type": "markdown",
      "metadata": {
        "id": "sccEdPhp0-IM"
      },
      "source": [
        "## Ensuring processing runs"
      ]
    },
    {
      "cell_type": "code",
      "metadata": {
        "id": "-OwGouqe1WP4"
      },
      "source": [
        "region = ee.Geometry.Rectangle([-120,7,-77,32])\n",
        "start_time = \"2019-01-01\"\n",
        "end_time = \"2020-06-01\"\n",
        "\n",
        "# get a Landsat 8 collection\n",
        "s1 = hf.Sentinel1(region,start_time,end_time)"
      ],
      "execution_count": null,
      "outputs": []
    },
    {
      "cell_type": "code",
      "metadata": {
        "id": "sZ4qKetC1e79"
      },
      "source": [
        "# apply a (psuedo-) terrain flattening algorithm to S1 data\n",
        "s1_flat = s1.apply_func(hf.slope_correction, elevation = dem, buffer = 100)"
      ],
      "execution_count": null,
      "outputs": []
    },
    {
      "cell_type": "code",
      "metadata": {
        "id": "TW1zQfof1kwn"
      },
      "source": [
        "# apply a speckle filter algorithm to S1 data\n",
        "s1_filtered = s1_flat.apply_func(hf.gamma_map)"
      ],
      "execution_count": null,
      "outputs": []
    },
    {
      "cell_type": "code",
      "metadata": {
        "id": "tSz6Z4uu2B8P"
      },
      "source": [
        "# aggregate SAR observations to 30x30 m pixels\n",
        "# only used for visualization\n",
        "s1_aggregated = s1_filtered.apply_func(lambda x: x.focal_mean(40,\"circle\",\"meters\").reproject(ee.Projection(\"EPSG:4326\").atScale(30)))"
      ],
      "execution_count": null,
      "outputs": []
    },
    {
      "cell_type": "code",
      "metadata": {
        "id": "N2z40azR1lbl"
      },
      "source": [
        "water = s1_filtered.apply_func(hf.edge_otsu, initial_threshold=-16, edge_buffer=300, scale=30)"
      ],
      "execution_count": null,
      "outputs": []
    },
    {
      "cell_type": "code",
      "metadata": {
        "id": "XrR1f0nG1yXi"
      },
      "source": [
        "Map = geemap.Map(center=(15.5754, -89.8297), zoom=8)\n",
        "\n",
        "Map.addLayer(s1.collection.mean(),sar_vis, 'Sentinel 1 mosaic')\n",
        "Map.addLayer(water.collection.mode().selfMask(),{\"min\":0,\"max\":1,\"palette\":cm.palettes.Blues}, 'Sentinel 1 Water')\n",
        "\n",
        "Map.addLayerControl()\n",
        "Map"
      ],
      "execution_count": null,
      "outputs": []
    },
    {
      "cell_type": "markdown",
      "metadata": {
        "id": "8VBhxpal1VEZ"
      },
      "source": [
        "### Relaxing the computation scale"
      ]
    },
    {
      "cell_type": "code",
      "metadata": {
        "id": "57Hfrn8i09Wi"
      },
      "source": [
        "water = s1_filtered.apply_func(hf.edge_otsu, initial_threshold=-16, edge_buffer=300, scale=300)"
      ],
      "execution_count": null,
      "outputs": []
    },
    {
      "cell_type": "code",
      "metadata": {
        "id": "cfpWmYBU2X_z"
      },
      "source": [
        "Map = geemap.Map(center=(15.5754, -89.8297), zoom=8)\n",
        "\n",
        "Map.addLayer(s1_aggregated.collection.mean(),sar_vis, 'Sentinel 1 mosaic')\n",
        "Map.addLayer(water.collection.mode().selfMask(),{\"min\":0,\"max\":1,\"palette\":cm.palettes.Blues}, 'Sentinel 1 Water')\n",
        "\n",
        "Map.addLayerControl()\n",
        "Map"
      ],
      "execution_count": null,
      "outputs": []
    },
    {
      "cell_type": "markdown",
      "metadata": {
        "id": "BZoEu_t_14Qf"
      },
      "source": [
        "### Pipe functions"
      ]
    },
    {
      "cell_type": "code",
      "metadata": {
        "id": "CafHNI0YJE02"
      },
      "source": [
        "region = ee.Geometry.Rectangle([-120,7,-77,32])\n",
        "start_time = \"2019-01-01\"\n",
        "end_time = \"2021-01-01\"\n",
        "\n",
        "# get a Landsat 8 collection\n",
        "s1 = hf.Sentinel1(region,start_time,end_time)"
      ],
      "execution_count": null,
      "outputs": []
    },
    {
      "cell_type": "code",
      "metadata": {
        "id": "QKajVJnG196H"
      },
      "source": [
        "process = (\n",
        "    (hf.slope_correction, dict(elevation = dem.unmask(0), buffer = 100)),\n",
        "    hf.gamma_map,\n",
        "    (hf.edge_otsu, dict(initial_threshold=-16, edge_buffer=300, scale =120))\n",
        ")"
      ],
      "execution_count": null,
      "outputs": []
    },
    {
      "cell_type": "code",
      "metadata": {
        "id": "8McTeTmC2jme"
      },
      "source": [
        "water = s1.pipe(process)"
      ],
      "execution_count": null,
      "outputs": []
    },
    {
      "cell_type": "code",
      "metadata": {
        "id": "eflbP0IU2nhH"
      },
      "source": [
        "Map = geemap.Map(center=(15.5754, -89.8297), zoom=8)\n",
        "\n",
        "Map.addLayer(s1_aggregated.collection.mean(),sar_vis, 'Sentinel 1 mosaic')\n",
        "Map.addLayer(water.collection.mode().selfMask(),{\"min\":0,\"max\":1,\"palette\":cm.palettes.Blues}, 'Sentinel 1 Water')\n",
        "\n",
        "Map.addLayerControl()\n",
        "Map"
      ],
      "execution_count": null,
      "outputs": []
    },
    {
      "cell_type": "code",
      "metadata": {
        "id": "40yR_v2M3W5f"
      },
      "source": [],
      "execution_count": null,
      "outputs": []
    }
  ]
}