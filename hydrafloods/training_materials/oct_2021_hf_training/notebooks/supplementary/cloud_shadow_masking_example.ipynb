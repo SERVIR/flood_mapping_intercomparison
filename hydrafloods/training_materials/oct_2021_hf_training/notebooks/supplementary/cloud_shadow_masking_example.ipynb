{
  "nbformat": 4,
  "nbformat_minor": 0,
  "metadata": {
    "colab": {
      "private_outputs": true,
      "provenance": [],
      "include_colab_link": true
    },
    "kernelspec": {
      "name": "python3",
      "display_name": "Python 3"
    },
    "language_info": {
      "name": "python"
    }
  },
  "cells": [
    {
      "cell_type": "markdown",
      "metadata": {
        "id": "view-in-github",
        "colab_type": "text"
      },
      "source": [
        "<a href=\"https://colab.research.google.com/github/SERVIR/flood_mapping_intercomparison/blob/main/hydrafloods/training_materials/oct_2021_hf_training/notebooks/supplementary/cloud_shadow_masking_example.ipynb\" target=\"_parent\"><img src=\"https://colab.research.google.com/assets/colab-badge.svg\" alt=\"Open In Colab\"/></a>"
      ]
    },
    {
      "cell_type": "code",
      "metadata": {
        "id": "ziceyoy7TcgY"
      },
      "source": [
        "# mount the google drive so that we can save credentials\n",
        "from google.colab import drive\n",
        "drive.mount('/content/drive')"
      ],
      "execution_count": null,
      "outputs": []
    },
    {
      "cell_type": "code",
      "metadata": {
        "id": "Ec8m0sYv-s-X"
      },
      "source": [
        "# install the packages needed\n",
        "!pip install hydrafloods geemap -q"
      ],
      "execution_count": null,
      "outputs": []
    },
    {
      "cell_type": "code",
      "metadata": {
        "id": "wy8ozsNq-vEk"
      },
      "source": [
        "import ee\n",
        "import datetime\n",
        "import hydrafloods as hf\n",
        "import geemap.eefolium as geemap\n",
        "import geemap.colormaps as cm"
      ],
      "execution_count": null,
      "outputs": []
    },
    {
      "cell_type": "code",
      "metadata": {
        "id": "0Tj1pvk7-w6Q"
      },
      "source": [
        "# initiate authentication workflow\n",
        "# it will ask to authenticate if no credentials are available\n",
        "# will also initialize ee session\n",
        "_ = geemap.Map()"
      ],
      "execution_count": null,
      "outputs": []
    },
    {
      "cell_type": "code",
      "metadata": {
        "id": "DLDfhY1k-zCE"
      },
      "source": [
        "region = hf.country_bbox(\"Guatemala\")\n",
        "start_time = \"2019-01-01\"\n",
        "end_time = \"2020-01-01\"\n",
        "\n",
        "# get a Landsat 8 collection\n",
        "lc8 = hf.Landsat8(region,start_time,end_time)"
      ],
      "execution_count": null,
      "outputs": []
    },
    {
      "cell_type": "code",
      "metadata": {
        "id": "5eJFIgiAFqBM"
      },
      "source": [
        "mndwi = lc8.apply_func(hf.mndwi)"
      ],
      "execution_count": null,
      "outputs": []
    },
    {
      "cell_type": "code",
      "metadata": {
        "id": "rDAOWMD8F3-F"
      },
      "source": [
        "optical_vis = {\n",
        "    \"min\":50,\n",
        "    \"max\":5500,\n",
        "    \"bands\":\"swir2,nir,green\",\n",
        "    \"gamma\":1.5,\n",
        "}"
      ],
      "execution_count": null,
      "outputs": []
    },
    {
      "cell_type": "code",
      "metadata": {
        "id": "4RxY6xaNFu0j"
      },
      "source": [
        "Map = geemap.Map(center=(15.6336, -90.1208), zoom=8)\n",
        "\n",
        "Map.addLayer(lc8.collection.median(),optical_vis, 'Landsat 8 mosaic')\n",
        "Map.addLayer(mndwi.collection.median(),{\"min\":-0.5,\"max\":0.75,\"palette\":cm.palettes.Blues}, 'Landsat 8 MNDWI')\n",
        "\n",
        "Map.addLayerControl()\n",
        "Map"
      ],
      "execution_count": null,
      "outputs": []
    },
    {
      "cell_type": "code",
      "metadata": {
        "id": "sSZzcoWIPGl9"
      },
      "source": [
        "import math"
      ],
      "execution_count": null,
      "outputs": []
    },
    {
      "cell_type": "code",
      "metadata": {
        "id": "sLFhOmUNHQnU"
      },
      "source": [
        "@hf.decorators.keep_attrs\n",
        "def cloud_mask(img):\n",
        "    qa_band = img.select(\"pixel_qa\")\n",
        "    qaCloud = hf.extract_bits(qa_band, start=5, new_name=\"cloud_mask\").eq(0)\n",
        "    # qaShadow = hf.extract_bits(qa_band, start=3, new_name=\"shadow_mask\").eq(0)\n",
        "    # qaSnow = hf.extract_bits(qa_band, start=4, new_name=\"snow_mask\").eq(0)\n",
        "    # mask = qaCloud.And(qaShadow).And(qaSnow)\n",
        "    return img.addBands(qaCloud)"
      ],
      "execution_count": null,
      "outputs": []
    },
    {
      "cell_type": "code",
      "metadata": {
        "id": "Dn2OVlqj-kuC"
      },
      "source": [
        "def simple_TDOM2(collection, zScoreThresh, shadowSumThresh, dilatePixels):\n",
        "    @hf.decorators.keep_attrs\n",
        "    def darkMask(img):\n",
        "        zScore = img.select(shadowSumBands).subtract(irMean).divide(irStdDev)\n",
        "        irSum = img.select(shadowSumBands).reduce(ee.Reducer.sum())\n",
        "        TDOMMask = zScore.lt(zScoreThresh).reduce(ee.Reducer.sum()).eq(2).And(irSum.lt(shadowSumThresh)).Not()\n",
        "        TDOMMask = TDOMMask.focal_min(dilatePixels)\n",
        "        img = img.addBands(TDOMMask.rename(['TDOM_mask']))\n",
        "        # Combine the cloud and shadow masks\n",
        "        combinedMask = img.select('cloud_mask').mask().And(img.select('TDOM_mask')) \\\n",
        "            .rename('cloud_shadow_mask');\n",
        "        return img.addBands(combinedMask).updateMask(combinedMask)\n",
        "\n",
        "    shadowSumBands = ['nir', 'swir1', 'swir2']\n",
        "    irStdDev = collection.select(shadowSumBands).reduce(ee.Reducer.stdDev())\n",
        "    irMean = collection.select(shadowSumBands).mean()\n",
        "\n",
        "    collection = collection.map(darkMask)\n",
        "\n",
        "    return collection\n"
      ],
      "execution_count": null,
      "outputs": []
    },
    {
      "cell_type": "code",
      "metadata": {
        "id": "JERp5HcLFbWA"
      },
      "source": [
        "@hf.decorators.keep_attrs\n",
        "def cloud_project(img):\n",
        "\n",
        "    azimuthField = 'SOLAR_AZIMUTH_ANGLE'\n",
        "    zenithField = 'SOLAR_ZENITH_ANGLE'\n",
        "\n",
        "    def projectHeights(cloudHeight):\n",
        "      cloudHeight = ee.Number(cloudHeight);\n",
        "      shadowCastedDistance = zenR.tan().multiply(cloudHeight); #Distance shadow is cast\n",
        "      x = azR.cos().multiply(shadowCastedDistance).divide(nominalScale).round(); #X distance of shadow\n",
        "      y = azR.sin().multiply(shadowCastedDistance).divide(nominalScale).round(); #Y distance of shadow\n",
        "      return cloud.changeProj(proj, proj.translate(x, y));\n",
        "\n",
        "    # Get the cloud mask\n",
        "    cloud = img.select(['cloud_mask']).Not();\n",
        "    cloud = cloud.focal_max(dilatePixels);\n",
        "    cloud = cloud.updateMask(cloud);\n",
        "\n",
        "    # Get TDOM mask\n",
        "    TDOMMask = img.select(['TDOM_mask']).Not();\n",
        "\n",
        "    # Project the shadow finding pixels inside the TDOM mask that are dark and\n",
        "    # inside the expected area given the solar geometry\n",
        "    # Find dark pixels\n",
        "    darkPixels = img.select(['nir','swir1','swir2'])\\\n",
        "      .reduce(ee.Reducer.sum()).lt(shadowSumThresh);#.gte(1);\n",
        "\n",
        "    proj = img.select('cloud_mask').projection()\n",
        "\n",
        "    # Get scale of image\n",
        "    nominalScale = proj.nominalScale();\n",
        "\n",
        "    #Find where cloud shadows should be based on solar geometry\n",
        "    #Convert to radians\n",
        "    meanAzimuth = img.get(azimuthField);\n",
        "    meanZenith = img.get(zenithField);\n",
        "    azR = ee.Number(meanAzimuth).multiply(math.pi).divide(180.0)\\\n",
        "      .add(ee.Number(0.5).multiply(math.pi));\n",
        "    zenR = ee.Number(0.5).multiply(math.pi)\\\n",
        "      .subtract(ee.Number(meanZenith).multiply(math.pi).divide(180.0));\n",
        "\n",
        "    # Find the shadows\n",
        "    shadows = cloudHeights.map(projectHeights);\n",
        "\n",
        "    shadow = ee.ImageCollection.fromImages(shadows).max();\n",
        "\n",
        "    # Create shadow mask\n",
        "    shadow = shadow.updateMask(cloud.mask().Not());\n",
        "    shadow = shadow.focal_max(dilatePixels);\n",
        "    shadow = shadow.updateMask(darkPixels.And(TDOMMask));\n",
        "\n",
        "    # Combine the cloud and shadow masks\n",
        "    combinedMask = cloud.mask().Or(shadow.mask()).eq(0);\n",
        "\n",
        "    # Update the image's mask and return the image\n",
        "    img = img.updateMask(combinedMask);\n",
        "    img = img.addBands(combinedMask.rename(['cloudShadowMask']));\n",
        "    return img.clip(img.geometry());\n"
      ],
      "execution_count": null,
      "outputs": []
    },
    {
      "cell_type": "code",
      "metadata": {
        "id": "08o8NjxGErrM"
      },
      "source": [
        "dilatePixels = 2;\n",
        "cloudHeights = ee.List.sequence(200,5000,500);\n",
        "zScoreThresh = -0.8;\n",
        "shadowSumThresh = 0.35;"
      ],
      "execution_count": null,
      "outputs": []
    },
    {
      "cell_type": "code",
      "metadata": {
        "id": "86ZceLAZCWkm"
      },
      "source": [
        "# get a Landsat 8 collection with no QA applied\n",
        "lc8_noqa = hf.Dataset(region, start_time, end_time, asset_id=\"LANDSAT/LC08/C01/T1_SR\", use_qa=False)\n",
        "lc8_noqa = lc8_noqa.select([\"B2\", \"B3\", \"B4\", \"B5\", \"B6\", \"B7\",\"pixel_qa\"],[\"blue\", \"green\", \"red\", \"nir\", \"swir1\", \"swir2\",\"pixel_qa\"])"
      ],
      "execution_count": null,
      "outputs": []
    },
    {
      "cell_type": "code",
      "metadata": {
        "id": "MM2yqE4IOi9R"
      },
      "source": [
        "lc8_cloud_masked = lc8_noqa.apply_func(cloud_mask)"
      ],
      "execution_count": null,
      "outputs": []
    },
    {
      "cell_type": "code",
      "metadata": {
        "id": "c9HaohUMOnt7"
      },
      "source": [
        "lc8_cloud_shadow_masked = lc8_cloud_masked.copy()\n",
        "\n",
        "lc8_cloud_shadow_masked.collection = simple_TDOM2(lc8_cloud_masked.collection, zScoreThresh, shadowSumThresh, dilatePixels)"
      ],
      "execution_count": null,
      "outputs": []
    },
    {
      "cell_type": "code",
      "metadata": {
        "id": "VMJHeIxqO40b"
      },
      "source": [
        "lc8_projected_clouds_masked = lc8_cloud_shadow_masked.apply_func(cloud_project)"
      ],
      "execution_count": null,
      "outputs": []
    },
    {
      "cell_type": "code",
      "metadata": {
        "id": "WVWQNFUXPFLk"
      },
      "source": [
        "lc8_first = lc8.collection.first()\n",
        "lc8_noqa_first = lc8_noqa.collection.first()\n",
        "\n",
        "lc8_cloud_masked_first = lc8_cloud_masked.collection.first()\n",
        "lc8_cloud_shadow_masked_first = lc8_cloud_shadow_masked.collection.first()\n",
        "\n",
        "lc8_projected_clouds_masked_first = lc8_projected_clouds_masked.collection.first()"
      ],
      "execution_count": null,
      "outputs": []
    },
    {
      "cell_type": "code",
      "metadata": {
        "id": "vUhNraE3Q_62"
      },
      "source": [
        "Map = geemap.Map(center=(15.6336, -90.1208), zoom=8)\n",
        "\n",
        "Map.addLayer(lc8_first, optical_vis, 'Landsat 8 QAed')\n",
        "Map.addLayer(lc8_noqa_first, optical_vis, 'Landsat 8 No QA')\n",
        "Map.addLayer(lc8_cloud_masked_first, optical_vis, 'Landsat 8 Clouds Masked')\n",
        "Map.addLayer(lc8_cloud_shadow_masked_first, optical_vis, 'Landsat 8 Clouds+Shadows Masked')\n",
        "Map.addLayer(lc8_cloud_shadow_masked_first, {\"bands\":\"TDOM_mask\"}, 'Landsat 8 Shadows Mask')\n",
        "\n",
        "Map.addLayer(lc8_projected_clouds_masked_first, optical_vis, 'Landsat 8 Full QA')\n",
        "\n",
        "\n",
        "\n",
        "Map.addLayerControl()\n",
        "Map"
      ],
      "execution_count": null,
      "outputs": []
    },
    {
      "cell_type": "code",
      "metadata": {
        "id": "Gih2D1XKRyRb"
      },
      "source": [],
      "execution_count": null,
      "outputs": []
    }
  ]
}