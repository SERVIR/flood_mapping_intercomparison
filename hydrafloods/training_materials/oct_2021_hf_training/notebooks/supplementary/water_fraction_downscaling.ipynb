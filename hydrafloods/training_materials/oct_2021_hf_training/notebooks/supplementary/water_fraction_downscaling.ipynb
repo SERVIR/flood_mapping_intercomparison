{
  "nbformat": 4,
  "nbformat_minor": 0,
  "metadata": {
    "colab": {
      "private_outputs": true,
      "provenance": [],
      "include_colab_link": true
    },
    "kernelspec": {
      "name": "python3",
      "display_name": "Python 3"
    },
    "language_info": {
      "name": "python"
    }
  },
  "cells": [
    {
      "cell_type": "markdown",
      "metadata": {
        "id": "view-in-github",
        "colab_type": "text"
      },
      "source": [
        "<a href=\"https://colab.research.google.com/github/SERVIR/flood_mapping_intercomparison/blob/main/hydrafloods/training_materials/oct_2021_hf_training/notebooks/supplementary/water_fraction_downscaling.ipynb\" target=\"_parent\"><img src=\"https://colab.research.google.com/assets/colab-badge.svg\" alt=\"Open In Colab\"/></a>"
      ]
    },
    {
      "cell_type": "markdown",
      "metadata": {
        "id": "r5L6FfrcGPRO"
      },
      "source": [
        "# WARNING: this is a work in progress, please come back later to see workflow"
      ]
    },
    {
      "cell_type": "markdown",
      "metadata": {
        "id": "EeaQfpKqGCEb"
      },
      "source": [
        "### Water fraction downscaling\n",
        "\n",
        "use the Dynamica Nearest Neighbor Search (DNNS) algorithm to calculate water fraction within a pixel and use terrain information to"
      ]
    },
    {
      "cell_type": "code",
      "metadata": {
        "id": "wBSUzN-qGANK"
      },
      "source": [
        "# get the Sentinel 1 collection as a hydrafloods Dataset\n",
        "viirs = hf.Viirs(region,\"2020-11-01\",\"2020-12-01\")\n",
        "\n",
        "viirs.apply_func(hf.add_indices,indices=[\"mndwi\"],inplace=True)"
      ],
      "execution_count": null,
      "outputs": []
    },
    {
      "cell_type": "code",
      "metadata": {
        "id": "we5IU7zQGFBS"
      },
      "source": [
        "water_proba = hf.multidim_semisupervised(viirs.collection.median(),bands=[\"red\",\"nir\",\"swir1\",\"mndwi\"],rank_band=\"mndwi\",ranking=\"max\",n_samples=1500,region=region)"
      ],
      "execution_count": null,
      "outputs": []
    },
    {
      "cell_type": "code",
      "metadata": {
        "id": "XkL6ZgTnGGou"
      },
      "source": [
        "# view the results of SAR water mapping\n",
        "Map = geemap.Map(center=(16.0029, -90.5109), zoom=12)\n",
        "\n",
        "Map.addLayer(viirs.collection.median(), optical_vis, 'VIIRS')\n",
        "Map.addLayer(viirs.collection.median().select(\"mndwi\"), wi_vis, 'VIIRS mndwi')\n",
        "Map.addLayer(water_proba,{\"min\":0,\"max\":1,\"palette\":cm.palettes.inferno}, \"VIIRS (water proba)\")\n",
        "\n",
        "\n",
        "Map.addLayerControl()\n",
        "Map"
      ],
      "execution_count": null,
      "outputs": []
    },
    {
      "cell_type": "code",
      "metadata": {
        "id": "UWqxSigBGMO9"
      },
      "source": [
        "def dnns(img):\n",
        "    kernel_scale = 40\n",
        "    pixel_scale = img.projection().nominalScale()\n",
        "\n",
        "    k1 = ee.Kernel.square(kernel_scale, 'pixels', False)\n",
        "\n",
        "    water_proba = hf.multidim_semisupervised(img,bands=[\"red\",\"nir\",\"swir1\",\"mndwi\"],rank_band=\"mndwi\",ranking=\"max\",n_samples=1500)\n",
        "\n",
        "    water = water_proba.gt(0.9)\n",
        "    land = water_proba.lt(0.1)\n",
        "\n",
        "    mix = water.Not().And(land.Not())\n",
        "\n",
        "    ave_water = img.updateMask(water)\n",
        "\n",
        "    N_nmin_water = 1\n",
        "    N_water = water.convolve(k1)\n",
        "\n",
        "    water_rf = ave_water.convolve(k1).multiply(N_water.gte(N_nmin_water)).divide(N_water)\n",
        "    water_rf = water_rf.add(ave_water_img.multiply(water_rf.Not()))\n",
        "\n",
        "    ave_land = img.updateMask(land)\n",
        "\n",
        "    R1 = img['I1'].divide(img['I3'])\n",
        "    R2 = img['I2'].divide(img['I3'])\n",
        "    R3 = R1.subtract(water_rf.select('I1').divide(img['I3']) )\n",
        "    R4 = R2.subtract(water_rf.select('I2').divide(img['I3']) )\n"
      ],
      "execution_count": null,
      "outputs": []
    },
    {
      "cell_type": "markdown",
      "metadata": {
        "id": "grdLnfnlGC44"
      },
      "source": []
    }
  ]
}