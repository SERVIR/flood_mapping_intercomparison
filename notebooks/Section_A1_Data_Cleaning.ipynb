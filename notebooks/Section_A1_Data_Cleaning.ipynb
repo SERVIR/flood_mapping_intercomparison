{
  "cells": [
    {
      "cell_type": "markdown",
      "metadata": {
        "id": "view-in-github",
        "colab_type": "text"
      },
      "source": [
        "<a href=\"https://colab.research.google.com/github/SERVIR/flood_mapping_intercomparison/blob/main/notebooks/Section_A1_Data_Cleaning.ipynb\" target=\"_parent\"><img src=\"https://colab.research.google.com/assets/colab-badge.svg\" alt=\"Open In Colab\"/></a>"
      ]
    },
    {
      "cell_type": "markdown",
      "source": [
        "# Introduction\n",
        "\n",
        "In this notebook we will check if the spelling of regions and countries as they appear in some flood database match the spelling of those regions in the Food and Agriculture Organization's Global Administrative Unit Layers Database."
      ],
      "metadata": {
        "id": "5v62VfR5HYGs"
      }
    },
    {
      "cell_type": "code",
      "execution_count": null,
      "metadata": {
        "id": "sQwxW6q61axV"
      },
      "outputs": [],
      "source": [
        "import ee\n",
        "import geemap\n",
        "import numpy as np\n",
        "import pandas as pd\n",
        "from google.colab import drive\n",
        "import os\n",
        "drive.mount('/content/drive/')\n",
        "ee.Authenticate()\n",
        "ee.Initialize(project = 'servir-sco-assets')"
      ]
    },
    {
      "cell_type": "code",
      "execution_count": null,
      "metadata": {
        "id": "VTKbj3FE1cum"
      },
      "outputs": [],
      "source": [
        "# Import Vector Data\n",
        "gaul_countries = ee.FeatureCollection(\"FAO/GAUL_SIMPLIFIED_500m/2015/level0\")\n",
        "gaul_provinces = ee.FeatureCollection(\"FAO/GAUL/2015/level1\")\n",
        "gaul_districts = ee.FeatureCollection(\"FAO/GAUL_SIMPLIFIED_500m/2015/level2\")"
      ]
    },
    {
      "cell_type": "markdown",
      "source": [
        "* Step 1: Bring up your CSV file containing flood information in a separate window.\n",
        "* Step 2: Create three new columns, one called \"adm0\", one called \"adm1\", and one called \"adm2\". The columns must be spelled exactly this way, and are case-sensitive. This is because we will feed this CSV as an input to Section A to see which data we have available.\n",
        "* Step 3: For each flood event in your CSV file, do the following:\n",
        "* Step 4: Enter in the country of interest to the variable called my_country below"
      ],
      "metadata": {
        "id": "OAuNXXlWIDdS"
      }
    },
    {
      "cell_type": "code",
      "source": [
        "# Change this variable to match your country\n",
        "my_country = 'Guatemala'"
      ],
      "metadata": {
        "id": "dCpogV-VIiAn"
      },
      "execution_count": null,
      "outputs": []
    },
    {
      "cell_type": "code",
      "source": [
        "# Filter the vector data to just your country of interest\n",
        "gaul_country = gaul_countries.filter(ee.Filter.eq('ADM0_NAME', my_country))"
      ],
      "metadata": {
        "id": "Li0UyWV-I206"
      },
      "execution_count": null,
      "outputs": []
    },
    {
      "cell_type": "code",
      "source": [
        "country_size = gaul_country.size().getInfo()\n",
        "\n",
        "if country_size == 0:\n",
        "  print(\"Oh no! Country name is NOT spelled correctly. Follow the steps below until this \\ncell prints that the country name is spelled correctly\")\n",
        "else:\n",
        "  print(\"Yay! Country name is spelled correctly!. Copy and paste the text you entered in the \\nmy_country variable into the corresponding adm0 column in your CSV\")"
      ],
      "metadata": {
        "id": "7WIzTQu9I_Mi"
      },
      "execution_count": null,
      "outputs": []
    },
    {
      "cell_type": "markdown",
      "source": [
        "If you got the output that your country name is spelled correctly, copy and paste the country name into the adm0 column of your CSV, in the corresponding row. If you did not get this output, follow the steps below, and keep editing the spelling of the my_country variable until you get a result"
      ],
      "metadata": {
        "id": "jpwKqFE_J0jg"
      }
    },
    {
      "cell_type": "markdown",
      "source": [],
      "metadata": {
        "id": "yj3hVjLWLVk7"
      }
    },
    {
      "cell_type": "code",
      "source": [
        "gaul_countries.first().get('ADM0_NAME').getInfo()"
      ],
      "metadata": {
        "id": "_c0DduwKKgxk"
      },
      "execution_count": null,
      "outputs": []
    },
    {
      "cell_type": "markdown",
      "source": [
        "Now you may have some information in your CSV file that contains info as to which regions in this country may have flooded. The GAUL dataset has two different levels of administrative boundaries:\n",
        "\n",
        "* Level 1 boundaries are the largest regions of a country. You can think of these as provinces or states\n",
        "* Level 2 boundaries are the second largest regions of a country. You can think of these as districts or counties.\n",
        "\n",
        "Your first task is to figure out whether the locations are level 1 or level 2 boundaries. If your locations are level 1 boundaries, contine here. If they are level 2 boundaries, skip to Step 6"
      ],
      "metadata": {
        "id": "74sA92JKMQAT"
      }
    },
    {
      "cell_type": "code",
      "source": [
        "gaul_lvl1_country = gaul_provinces.filter(ee.Filter.eq('ADM0_NAME', my_country))\n",
        "my_province_pt1 = 'Petén'\n",
        "gaul_lvl1_province = gaul_lvl1_country.filter(ee.Filter.eq('ADM1_NAME', my_province_pt1))"
      ],
      "metadata": {
        "id": "q33FfG0hI7xp"
      },
      "execution_count": null,
      "outputs": []
    },
    {
      "cell_type": "code",
      "source": [
        "num_provinces = gaul_lvl1_country.size().getInfo()"
      ],
      "metadata": {
        "id": "qfoDwk7oNClE"
      },
      "execution_count": null,
      "outputs": []
    },
    {
      "cell_type": "code",
      "source": [
        "gaul_lvl1_country.first().get('ADM1_NAME').getInfo()"
      ],
      "metadata": {
        "id": "jAgUon7yTUtv"
      },
      "execution_count": null,
      "outputs": []
    },
    {
      "cell_type": "code",
      "source": [
        "for j in range(num_provinces):\n",
        "  feat_of_int = ee.Feature(gaul_lvl1_country.toList(num_provinces).get(j))\n",
        "  prov_name = feat_of_int.get('ADM1_NAME').getInfo()\n",
        "  print(prov_name)"
      ],
      "metadata": {
        "id": "1AwmHabaTg0M"
      },
      "execution_count": null,
      "outputs": []
    },
    {
      "cell_type": "code",
      "source": [
        "gaul_lvl2_country = gaul_districts.filter(ee.Filter.eq('ADM0_NAME', my_country))\n",
        "gaul_lvl2_province = gaul_lvl2_country.filter(ee.Filter.eq('ADM1_NAME', my_province_pt1))\n",
        "\n",
        "num_districts = gaul_lvl2_province.size().getInfo()\n",
        "num_districts"
      ],
      "metadata": {
        "id": "O5TAFTDtTLdv"
      },
      "execution_count": null,
      "outputs": []
    },
    {
      "cell_type": "code",
      "source": [
        "for h in range(num_districts):\n",
        "  district_of_int = ee.Feature(gaul_lvl2_province.toList(num_provinces).get(h))\n",
        "  district_name = district_of_int.get('ADM2_NAME').getInfo()\n",
        "  print(district_name)"
      ],
      "metadata": {
        "id": "fPF0dYxVUCAA"
      },
      "execution_count": null,
      "outputs": []
    },
    {
      "cell_type": "code",
      "source": [
        "country_centroid = gaul_lvl1_country.geometry().centroid().getInfo()\n",
        "lon = country_centroid[\"coordinates\"][0]\n",
        "lat = country_centroid[\"coordinates\"][1]"
      ],
      "metadata": {
        "id": "EHgbTL8GUoxL"
      },
      "execution_count": null,
      "outputs": []
    },
    {
      "cell_type": "markdown",
      "source": [
        "MODIFIABLE VARIABLE ALERT"
      ],
      "metadata": {
        "id": "bB0MhuQfYPGT"
      }
    },
    {
      "cell_type": "code",
      "source": [
        "ds1 = 'Melchor de Mencos'\n",
        "ds2 = 'Flores'\n",
        "ds3 = 'San José'\n",
        "ds4 = 'San Andrés'\n",
        "ds5 = 'La Libertad'\n",
        "ds6 = 'San Benito'\n",
        "ds7 = 'Santa Ana'\n",
        "ds8 = 'Dolores'\n",
        "ds9 = 'San Francisco'\n",
        "\n",
        "d1 = gaul_lvl2_province.filter(ee.Filter.eq('ADM2_NAME', ds1))\n",
        "d2 = gaul_lvl2_province.filter(ee.Filter.eq('ADM2_NAME', ds2))\n",
        "d3 = gaul_lvl2_province.filter(ee.Filter.eq('ADM2_NAME', ds3))\n",
        "d4 = gaul_lvl2_province.filter(ee.Filter.eq('ADM2_NAME', ds4))\n",
        "d5 = gaul_lvl2_province.filter(ee.Filter.eq('ADM2_NAME', ds5))\n",
        "d6 = gaul_lvl2_province.filter(ee.Filter.eq('ADM2_NAME', ds6))\n",
        "d7 = gaul_lvl2_province.filter(ee.Filter.eq('ADM2_NAME', ds7))\n",
        "d8 = gaul_lvl2_province.filter(ee.Filter.eq('ADM2_NAME', ds8))\n",
        "d9 = gaul_lvl2_province.filter(ee.Filter.eq('ADM2_NAME', ds9))"
      ],
      "metadata": {
        "id": "3w0zojiBVGi2"
      },
      "execution_count": null,
      "outputs": []
    },
    {
      "cell_type": "code",
      "source": [
        "Map = geemap.Map(center = (lat, lon), zoom = 6)\n",
        "#Map.addLayer(gaul_lvl1_country)\n",
        "Map.addLayer(d1, {}, ds1)\n",
        "Map.addLayer(d2, {}, ds2)\n",
        "Map.addLayer(d3, {}, ds3)\n",
        "Map.addLayer(d4, {}, ds4)\n",
        "Map.addLayer(d5, {}, ds5)\n",
        "Map.addLayer(d6, {}, ds6)\n",
        "Map.addLayer(d7, {}, ds7)\n",
        "Map.addLayer(d8, {}, ds8)\n",
        "Map.addLayer(d9, {}, ds9)\n",
        "\n",
        "\n",
        "Map.addLayerControl()\n",
        "Map"
      ],
      "metadata": {
        "id": "P3jBSAKIU6EN"
      },
      "execution_count": null,
      "outputs": []
    }
  ],
  "metadata": {
    "colab": {
      "provenance": [],
      "include_colab_link": true
    },
    "kernelspec": {
      "display_name": "Python 3",
      "name": "python3"
    },
    "language_info": {
      "name": "python"
    }
  },
  "nbformat": 4,
  "nbformat_minor": 0
}