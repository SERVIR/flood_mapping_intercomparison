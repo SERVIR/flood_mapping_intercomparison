{
  "cells": [
    {
      "cell_type": "markdown",
      "metadata": {
        "id": "view-in-github",
        "colab_type": "text"
      },
      "source": [
        "<a href=\"https://colab.research.google.com/github/SERVIR/flood_mapping_intercomparison/blob/main/notebooks/Module_9_Intersection_Over_Union.ipynb\" target=\"_parent\"><img src=\"https://colab.research.google.com/assets/colab-badge.svg\" alt=\"Open In Colab\"/></a>"
      ]
    },
    {
      "cell_type": "markdown",
      "source": [
        "In this notebook, we will calculate the intersection over union for different pairs of flood products. Intersection over Union (IoU) is caclulated between two maps, A and B, and is defined as\n",
        "\n",
        "$IoU = \\frac{Intersection}{Union}$,\n",
        "\n",
        "where intersection is the amount of pixels which both maps have identified as positive, and union is the amount of pixels which either map A OR map B has identified as positive. In this case, \"positive\" refers to water pixels.\n",
        "\n",
        "If we have access to all 7 maps, we will calculate 21 Intersection over Union calculations. Depending on the number of pixels, this can take a very long time (usually about one hour). Thus, it is unlikely that you will be able to run all 21 calculations in one day. To save your data, skip to Step 8 to write our calculations to a CSV."
      ],
      "metadata": {
        "id": "gyP_NNFhy3DN"
      }
    },
    {
      "cell_type": "markdown",
      "metadata": {
        "id": "xxb7X-hvMnLP"
      },
      "source": [
        "# Step 1: Import packages"
      ]
    },
    {
      "cell_type": "code",
      "execution_count": null,
      "metadata": {
        "id": "n07orLu6Mpt1"
      },
      "outputs": [],
      "source": [
        "import ee\n",
        "import geemap\n",
        "from google.colab import drive\n",
        "import os\n",
        "import glob\n",
        "from osgeo import gdal\n",
        "import numpy as np\n",
        "import pandas as pd\n",
        "import time\n",
        "import csv"
      ]
    },
    {
      "cell_type": "code",
      "execution_count": null,
      "metadata": {
        "id": "kuDFCKyQpawK",
        "colab": {
          "base_uri": "https://localhost:8080/",
          "height": 17
        },
        "outputId": "6c9ac107-e019-488f-bfd3-b8de382f2ffc"
      },
      "outputs": [
        {
          "output_type": "display_data",
          "data": {
            "text/plain": [
              "<IPython.core.display.HTML object>"
            ],
            "text/html": [
              "\n",
              "            <style>\n",
              "                .geemap-dark {\n",
              "                    --jp-widgets-color: white;\n",
              "                    --jp-widgets-label-color: white;\n",
              "                    --jp-ui-font-color1: white;\n",
              "                    --jp-layout-color2: #454545;\n",
              "                    background-color: #383838;\n",
              "                }\n",
              "\n",
              "                .geemap-dark .jupyter-button {\n",
              "                    --jp-layout-color3: #383838;\n",
              "                }\n",
              "\n",
              "                .geemap-colab {\n",
              "                    background-color: var(--colab-primary-surface-color, white);\n",
              "                }\n",
              "\n",
              "                .geemap-colab .jupyter-button {\n",
              "                    --jp-layout-color3: var(--colab-primary-surface-color, white);\n",
              "                }\n",
              "            </style>\n",
              "            "
            ]
          },
          "metadata": {}
        }
      ],
      "source": [
        "ee.Authenticate()\n",
        "\n",
        "ee.Initialize(project='servir-sco-assets')"
      ]
    },
    {
      "cell_type": "markdown",
      "metadata": {
        "id": "W6y1FZ23uqkR"
      },
      "source": [
        "# MODIFIABLE VARIABLE ALERT"
      ]
    },
    {
      "cell_type": "code",
      "execution_count": null,
      "metadata": {
        "id": "SoEql5pmrtiC",
        "colab": {
          "base_uri": "https://localhost:8080/",
          "height": 17
        },
        "outputId": "8cbf1a59-ecdc-408b-cbef-6dfa17c36cba"
      },
      "outputs": [
        {
          "output_type": "display_data",
          "data": {
            "text/plain": [
              "<IPython.core.display.HTML object>"
            ],
            "text/html": [
              "\n",
              "            <style>\n",
              "                .geemap-dark {\n",
              "                    --jp-widgets-color: white;\n",
              "                    --jp-widgets-label-color: white;\n",
              "                    --jp-ui-font-color1: white;\n",
              "                    --jp-layout-color2: #454545;\n",
              "                    background-color: #383838;\n",
              "                }\n",
              "\n",
              "                .geemap-dark .jupyter-button {\n",
              "                    --jp-layout-color3: #383838;\n",
              "                }\n",
              "\n",
              "                .geemap-colab {\n",
              "                    background-color: var(--colab-primary-surface-color, white);\n",
              "                }\n",
              "\n",
              "                .geemap-colab .jupyter-button {\n",
              "                    --jp-layout-color3: var(--colab-primary-surface-color, white);\n",
              "                }\n",
              "            </style>\n",
              "            "
            ]
          },
          "metadata": {}
        }
      ],
      "source": [
        "my_gee_folder = \"users/mickymags/semi_fmi_arkansas_20250409/\"\n",
        "#my_Gdrive_folder = \"/content/drive/MyDrive/Flood_Intercomparison/Case_Studies/confirmed_case_studies/cambodia_20241001/\"\n",
        "other_Gdrive_folder = \"/content/drive/MyDrive/Flood_Intercomparison/Case_Studies/Flood_Intercomparison/\"\n",
        "flood_event_desc = 'Arkansas'\n",
        "time_id = '06251109'                # put in a string correlating to the current time which you are running the code -- will help with identifying exports\n",
        "filename = 'smfnl_iou.csv'"
      ]
    },
    {
      "cell_type": "code",
      "execution_count": null,
      "metadata": {
        "id": "YyLO0Vj2u0Py",
        "colab": {
          "base_uri": "https://localhost:8080/",
          "height": 17
        },
        "outputId": "6ac2e4f1-cc18-48fd-c356-d3db2762188c"
      },
      "outputs": [
        {
          "output_type": "display_data",
          "data": {
            "text/plain": [
              "<IPython.core.display.HTML object>"
            ],
            "text/html": [
              "\n",
              "            <style>\n",
              "                .geemap-dark {\n",
              "                    --jp-widgets-color: white;\n",
              "                    --jp-widgets-label-color: white;\n",
              "                    --jp-ui-font-color1: white;\n",
              "                    --jp-layout-color2: #454545;\n",
              "                    background-color: #383838;\n",
              "                }\n",
              "\n",
              "                .geemap-dark .jupyter-button {\n",
              "                    --jp-layout-color3: #383838;\n",
              "                }\n",
              "\n",
              "                .geemap-colab {\n",
              "                    background-color: var(--colab-primary-surface-color, white);\n",
              "                }\n",
              "\n",
              "                .geemap-colab .jupyter-button {\n",
              "                    --jp-layout-color3: var(--colab-primary-surface-color, white);\n",
              "                }\n",
              "            </style>\n",
              "            "
            ]
          },
          "metadata": {}
        }
      ],
      "source": [
        "aoi = ee.FeatureCollection(my_gee_folder + \"aoi\")\n",
        "roi = aoi.geometry()\n",
        "aoi_centroid = aoi.geometry().centroid()             # Get the center of the AOI\n",
        "lon = aoi_centroid.coordinates().get(0).getInfo()    # Extract the longitude from the centroid\n",
        "lat = aoi_centroid.coordinates().get(1).getInfo()    # Extract the latitude from the centroid"
      ]
    },
    {
      "cell_type": "markdown",
      "source": [
        "# Step 1: Import data from Google Earth Engine"
      ],
      "metadata": {
        "id": "oVZhBJ0xmmXy"
      }
    },
    {
      "cell_type": "code",
      "source": [
        "dswxhls = ee.Image(my_gee_folder + 'dswxhls_harmonized')\n",
        "dswxs1 = ee.Image(my_gee_folder + 'dswxs1_harmonized')\n",
        "gfm = ee.Image(my_gee_folder + 'gfm_resampled_harmonized')\n",
        "hydrafloods = ee.Image(my_gee_folder + 'hydrafloods_harmonized')\n",
        "mcdwd = ee.Image(my_gee_folder + 'mcdwd_resampled_harmonized')\n",
        "vfm = ee.Image(my_gee_folder + 'vfm_resampled_harmonized')\n",
        "aoi = ee.FeatureCollection(my_gee_folder + \"aoi\")"
      ],
      "metadata": {
        "id": "qm_4J-xPtBkv",
        "colab": {
          "base_uri": "https://localhost:8080/",
          "height": 17
        },
        "outputId": "d65bcb14-61e1-47d2-b6cb-d629b6978182"
      },
      "execution_count": null,
      "outputs": [
        {
          "output_type": "display_data",
          "data": {
            "text/plain": [
              "<IPython.core.display.HTML object>"
            ],
            "text/html": [
              "\n",
              "            <style>\n",
              "                .geemap-dark {\n",
              "                    --jp-widgets-color: white;\n",
              "                    --jp-widgets-label-color: white;\n",
              "                    --jp-ui-font-color1: white;\n",
              "                    --jp-layout-color2: #454545;\n",
              "                    background-color: #383838;\n",
              "                }\n",
              "\n",
              "                .geemap-dark .jupyter-button {\n",
              "                    --jp-layout-color3: #383838;\n",
              "                }\n",
              "\n",
              "                .geemap-colab {\n",
              "                    background-color: var(--colab-primary-surface-color, white);\n",
              "                }\n",
              "\n",
              "                .geemap-colab .jupyter-button {\n",
              "                    --jp-layout-color3: var(--colab-primary-surface-color, white);\n",
              "                }\n",
              "            </style>\n",
              "            "
            ]
          },
          "metadata": {}
        }
      ]
    },
    {
      "cell_type": "code",
      "source": [
        "# Checkf if HYDROSAR is 30 meters\n",
        "hydrosar_original = ee.Image(my_gee_folder + 'hydrosar_harmonized')\n",
        "\n",
        "hydrosar_og_scale = hydrosar_original.projection().nominalScale().getInfo()\n",
        "if hydrosar_og_scale != 30:\n",
        "  hydrosar = ee.Image(my_gee_folder + 'hydrosar_resampled_harmonized')\n",
        "else:\n",
        "  hydrosar = ee.Image(my_gee_folder + 'hydrosar_harmonized')"
      ],
      "metadata": {
        "colab": {
          "base_uri": "https://localhost:8080/",
          "height": 17
        },
        "id": "628j4WwtgNta",
        "outputId": "ff787383-75a5-4197-d1bc-76aa92ca16a1"
      },
      "execution_count": null,
      "outputs": [
        {
          "output_type": "display_data",
          "data": {
            "text/plain": [
              "<IPython.core.display.HTML object>"
            ],
            "text/html": [
              "\n",
              "            <style>\n",
              "                .geemap-dark {\n",
              "                    --jp-widgets-color: white;\n",
              "                    --jp-widgets-label-color: white;\n",
              "                    --jp-ui-font-color1: white;\n",
              "                    --jp-layout-color2: #454545;\n",
              "                    background-color: #383838;\n",
              "                }\n",
              "\n",
              "                .geemap-dark .jupyter-button {\n",
              "                    --jp-layout-color3: #383838;\n",
              "                }\n",
              "\n",
              "                .geemap-colab {\n",
              "                    background-color: var(--colab-primary-surface-color, white);\n",
              "                }\n",
              "\n",
              "                .geemap-colab .jupyter-button {\n",
              "                    --jp-layout-color3: var(--colab-primary-surface-color, white);\n",
              "                }\n",
              "            </style>\n",
              "            "
            ]
          },
          "metadata": {}
        }
      ]
    },
    {
      "cell_type": "markdown",
      "source": [
        "# Sanity Check to make sure all products have a pixel size of 30 meters"
      ],
      "metadata": {
        "id": "6Jt8566GgiUh"
      }
    },
    {
      "cell_type": "code",
      "source": [
        "dswxhls_scale = dswxhls.projection().nominalScale().getInfo()\n",
        "dswxs1_scale = dswxs1.projection().nominalScale().getInfo()\n",
        "gfm_scale = gfm.projection().nominalScale().getInfo()\n",
        "hydrafloods_scale = hydrafloods.projection().nominalScale().getInfo()\n",
        "mcdwd_scale = mcdwd.projection().nominalScale().getInfo()\n",
        "vfm_scale = vfm.projection().nominalScale().getInfo()\n",
        "hydrosar_scale = hydrosar.projection().nominalScale().getInfo()\n",
        "\n",
        "mybool = dswxhls_scale == dswxs1_scale == gfm_scale == hydrafloods_scale == mcdwd_scale == vfm_scale == hydrosar_scale\n",
        "if mybool == True:\n",
        "  print(\"All products have a resolution of 30 meters, you are ready to go!\")\n",
        "else:\n",
        "  print(\"Something went wrong. One of your products does not have a pixel size of 30 meters. \\n Print dswxhls_scale, dswxs1_scale, etc. to the console to see which one it is.\")"
      ],
      "metadata": {
        "colab": {
          "base_uri": "https://localhost:8080/",
          "height": 35
        },
        "id": "yWO8raukgmZv",
        "outputId": "1ce2deaa-e1c1-4831-df20-f600873deab3"
      },
      "execution_count": null,
      "outputs": [
        {
          "output_type": "display_data",
          "data": {
            "text/plain": [
              "<IPython.core.display.HTML object>"
            ],
            "text/html": [
              "\n",
              "            <style>\n",
              "                .geemap-dark {\n",
              "                    --jp-widgets-color: white;\n",
              "                    --jp-widgets-label-color: white;\n",
              "                    --jp-ui-font-color1: white;\n",
              "                    --jp-layout-color2: #454545;\n",
              "                    background-color: #383838;\n",
              "                }\n",
              "\n",
              "                .geemap-dark .jupyter-button {\n",
              "                    --jp-layout-color3: #383838;\n",
              "                }\n",
              "\n",
              "                .geemap-colab {\n",
              "                    background-color: var(--colab-primary-surface-color, white);\n",
              "                }\n",
              "\n",
              "                .geemap-colab .jupyter-button {\n",
              "                    --jp-layout-color3: var(--colab-primary-surface-color, white);\n",
              "                }\n",
              "            </style>\n",
              "            "
            ]
          },
          "metadata": {}
        },
        {
          "output_type": "stream",
          "name": "stdout",
          "text": [
            "All products have a resolution of 30 meters, you are ready to go!\n"
          ]
        }
      ]
    },
    {
      "cell_type": "code",
      "source": [
        "drive.mount('/content/drive/')"
      ],
      "metadata": {
        "id": "u6rMwxUD0Gps",
        "colab": {
          "base_uri": "https://localhost:8080/",
          "height": 35
        },
        "outputId": "03db3a14-d652-4539-cb4b-806ba1964664"
      },
      "execution_count": null,
      "outputs": [
        {
          "output_type": "display_data",
          "data": {
            "text/plain": [
              "<IPython.core.display.HTML object>"
            ],
            "text/html": [
              "\n",
              "            <style>\n",
              "                .geemap-dark {\n",
              "                    --jp-widgets-color: white;\n",
              "                    --jp-widgets-label-color: white;\n",
              "                    --jp-ui-font-color1: white;\n",
              "                    --jp-layout-color2: #454545;\n",
              "                    background-color: #383838;\n",
              "                }\n",
              "\n",
              "                .geemap-dark .jupyter-button {\n",
              "                    --jp-layout-color3: #383838;\n",
              "                }\n",
              "\n",
              "                .geemap-colab {\n",
              "                    background-color: var(--colab-primary-surface-color, white);\n",
              "                }\n",
              "\n",
              "                .geemap-colab .jupyter-button {\n",
              "                    --jp-layout-color3: var(--colab-primary-surface-color, white);\n",
              "                }\n",
              "            </style>\n",
              "            "
            ]
          },
          "metadata": {}
        },
        {
          "output_type": "stream",
          "name": "stdout",
          "text": [
            "Mounted at /content/drive/\n"
          ]
        }
      ]
    },
    {
      "cell_type": "code",
      "source": [
        "os.chdir(other_Gdrive_folder)"
      ],
      "metadata": {
        "id": "UK2bKtbM0UbV",
        "colab": {
          "base_uri": "https://localhost:8080/",
          "height": 17
        },
        "outputId": "e4ab12e3-c358-4072-c629-04bd2b85553e"
      },
      "execution_count": null,
      "outputs": [
        {
          "output_type": "display_data",
          "data": {
            "text/plain": [
              "<IPython.core.display.HTML object>"
            ],
            "text/html": [
              "\n",
              "            <style>\n",
              "                .geemap-dark {\n",
              "                    --jp-widgets-color: white;\n",
              "                    --jp-widgets-label-color: white;\n",
              "                    --jp-ui-font-color1: white;\n",
              "                    --jp-layout-color2: #454545;\n",
              "                    background-color: #383838;\n",
              "                }\n",
              "\n",
              "                .geemap-dark .jupyter-button {\n",
              "                    --jp-layout-color3: #383838;\n",
              "                }\n",
              "\n",
              "                .geemap-colab {\n",
              "                    background-color: var(--colab-primary-surface-color, white);\n",
              "                }\n",
              "\n",
              "                .geemap-colab .jupyter-button {\n",
              "                    --jp-layout-color3: var(--colab-primary-surface-color, white);\n",
              "                }\n",
              "            </style>\n",
              "            "
            ]
          },
          "metadata": {}
        }
      ]
    },
    {
      "cell_type": "code",
      "source": [
        "pwd"
      ],
      "metadata": {
        "colab": {
          "base_uri": "https://localhost:8080/",
          "height": 36
        },
        "id": "Qyf45CqLjxjW",
        "outputId": "2a7a52f0-b7a2-454f-acf7-59197b8b16f3"
      },
      "execution_count": null,
      "outputs": [
        {
          "output_type": "display_data",
          "data": {
            "text/plain": [
              "<IPython.core.display.HTML object>"
            ],
            "text/html": [
              "\n",
              "            <style>\n",
              "                .geemap-dark {\n",
              "                    --jp-widgets-color: white;\n",
              "                    --jp-widgets-label-color: white;\n",
              "                    --jp-ui-font-color1: white;\n",
              "                    --jp-layout-color2: #454545;\n",
              "                    background-color: #383838;\n",
              "                }\n",
              "\n",
              "                .geemap-dark .jupyter-button {\n",
              "                    --jp-layout-color3: #383838;\n",
              "                }\n",
              "\n",
              "                .geemap-colab {\n",
              "                    background-color: var(--colab-primary-surface-color, white);\n",
              "                }\n",
              "\n",
              "                .geemap-colab .jupyter-button {\n",
              "                    --jp-layout-color3: var(--colab-primary-surface-color, white);\n",
              "                }\n",
              "            </style>\n",
              "            "
            ]
          },
          "metadata": {}
        },
        {
          "output_type": "execute_result",
          "data": {
            "text/plain": [
              "'/content/drive/MyDrive/Flood_Intercomparison/Case_Studies/Flood_Intercomparison'"
            ],
            "application/vnd.google.colaboratory.intrinsic+json": {
              "type": "string"
            }
          },
          "metadata": {},
          "execution_count": 37
        }
      ]
    },
    {
      "cell_type": "code",
      "source": [
        "#mydesc = a string of the time you submitted\n",
        "def iou(img1, img2, desc1, desc2, aoi, myproj, mydesc):   #num_pixels\n",
        "  img1_renamed = img1.rename(desc1)\n",
        "  img2_renamed = img2.rename(desc2)\n",
        "  id = flood_event_desc + '_' + desc1 + '_' + desc2\n",
        "\n",
        "  combo = img1_renamed.addBands(img2_renamed)\n",
        "\n",
        "  # Add a random number to the end of the export string\n",
        "  #random = np.random.randint(1e7)\n",
        "  #randstr = str(random)\n",
        "\n",
        "  # Tile aoi\n",
        "  covering_grid = aoi.geometry().coveringGrid(myproj, 2e5)\n",
        "\n",
        "  num_tiles = covering_grid.size().getInfo()\n",
        "\n",
        "  for j in range(num_tiles):\n",
        "    my_tile = ee.Feature(covering_grid.toList(num_tiles).get(j))\n",
        "    my_tile_clipped = my_tile.geometry().intersection(aoi, 0.001)\n",
        "    tile_id = str(j)\n",
        "    tile_export_string = 'iou_'+desc1 + '_and_' + desc2 + '_' + mydesc + 'pt' + tile_id\n",
        "\n",
        "    sample = combo.sample(\n",
        "      region= my_tile_clipped,\n",
        "      scale=30,\n",
        "      projection = myproj,\n",
        "      numPixels = 1e13#num_pixels\n",
        "    )\n",
        "\n",
        "    #export_string = 'iou_'+desc1 + '_and_' + desc2 + '_' + randstr\n",
        "\n",
        "    print('sampling...')\n",
        "\n",
        "    geemap.ee_export_vector_to_drive(\n",
        "        collection=sample,\n",
        "        description= tile_export_string,\n",
        "        fileFormat='CSV',\n",
        "        folder='Flood_Intercomparison',\n",
        "        selectors = [desc1, desc2]\n",
        "    )\n",
        "\n",
        "  print('sleeping...')\n",
        "  time.sleep(60)\n",
        "  print('still sleeping...')\n",
        "  time.sleep(120)\n",
        "  print('still sleeping...')\n",
        "  time.sleep(600)\n",
        "  print('still sleeping...')\n",
        "  time.sleep(300)\n",
        "  print(\"I'm awake!\")\n",
        "\n",
        "  # For each tile\n",
        "\n",
        "  dataframes = []\n",
        "  combined_dataframe = pd.DataFrame()\n",
        "\n",
        "  for k in range(num_tiles):\n",
        "    #Read file in\n",
        "    another_id = str(k)\n",
        "    tile_input_string = 'iou_'+desc1 + '_and_' + desc2 + '_'  + mydesc + 'pt' + another_id\n",
        "    data = pd.read_csv(tile_input_string + '.csv')\n",
        "    combined_dataframe = pd.concat([combined_dataframe, data])\n",
        "    #dataframes.append(data)\n",
        "    ######\n",
        "  #data = pd.read_csv(export_string + '.csv')\n",
        "\n",
        "  intersection = 0\n",
        "  union = 0\n",
        "\n",
        "  print('calculating iou...')\n",
        "\n",
        "  #num_rows = int(num_pixels - 1)\n",
        "  num_rows = int(np.floor(combined_dataframe.size / 2))\n",
        "  print(num_rows)\n",
        "\n",
        "  for j in range(num_rows):\n",
        "    row = combined_dataframe.iloc[j]\n",
        "    feat1 = row[desc1]\n",
        "    feat2 = row[desc2]\n",
        "\n",
        "    perc = j * 100 / num_rows\n",
        "\n",
        "    if j % 500000 == 0:\n",
        "      print('iou calculation is {0:0.1f} % complete'.format(perc))\n",
        "\n",
        "    if feat1 == 2 or feat2 == 2:\n",
        "      continue\n",
        "    if feat1 == 1 and feat2 == 1:\n",
        "      intersection += 1\n",
        "    if feat1 == 1 or feat2 == 1:\n",
        "      union += 1\n",
        "\n",
        "  return [id, intersection/union]"
      ],
      "metadata": {
        "id": "nrUbrE8pH0KS",
        "colab": {
          "base_uri": "https://localhost:8080/",
          "height": 17
        },
        "outputId": "2fd00959-4c86-4172-d0d8-5136346965ea"
      },
      "execution_count": null,
      "outputs": [
        {
          "output_type": "display_data",
          "data": {
            "text/plain": [
              "<IPython.core.display.HTML object>"
            ],
            "text/html": [
              "\n",
              "            <style>\n",
              "                .geemap-dark {\n",
              "                    --jp-widgets-color: white;\n",
              "                    --jp-widgets-label-color: white;\n",
              "                    --jp-ui-font-color1: white;\n",
              "                    --jp-layout-color2: #454545;\n",
              "                    background-color: #383838;\n",
              "                }\n",
              "\n",
              "                .geemap-dark .jupyter-button {\n",
              "                    --jp-layout-color3: #383838;\n",
              "                }\n",
              "\n",
              "                .geemap-colab {\n",
              "                    background-color: var(--colab-primary-surface-color, white);\n",
              "                }\n",
              "\n",
              "                .geemap-colab .jupyter-button {\n",
              "                    --jp-layout-color3: var(--colab-primary-surface-color, white);\n",
              "                }\n",
              "            </style>\n",
              "            "
            ]
          },
          "metadata": {}
        }
      ]
    },
    {
      "cell_type": "code",
      "source": [
        "my_proj_code = gfm.projection().getInfo()['crs']"
      ],
      "metadata": {
        "id": "tgfbj6nnuN7u",
        "colab": {
          "base_uri": "https://localhost:8080/",
          "height": 17
        },
        "outputId": "4fc2b1de-daed-42a1-a818-d43472949a47"
      },
      "execution_count": null,
      "outputs": [
        {
          "output_type": "display_data",
          "data": {
            "text/plain": [
              "<IPython.core.display.HTML object>"
            ],
            "text/html": [
              "\n",
              "            <style>\n",
              "                .geemap-dark {\n",
              "                    --jp-widgets-color: white;\n",
              "                    --jp-widgets-label-color: white;\n",
              "                    --jp-ui-font-color1: white;\n",
              "                    --jp-layout-color2: #454545;\n",
              "                    background-color: #383838;\n",
              "                }\n",
              "\n",
              "                .geemap-dark .jupyter-button {\n",
              "                    --jp-layout-color3: #383838;\n",
              "                }\n",
              "\n",
              "                .geemap-colab {\n",
              "                    background-color: var(--colab-primary-surface-color, white);\n",
              "                }\n",
              "\n",
              "                .geemap-colab .jupyter-button {\n",
              "                    --jp-layout-color3: var(--colab-primary-surface-color, white);\n",
              "                }\n",
              "            </style>\n",
              "            "
            ]
          },
          "metadata": {}
        }
      ]
    },
    {
      "cell_type": "code",
      "source": [
        "my_proj_code"
      ],
      "metadata": {
        "colab": {
          "base_uri": "https://localhost:8080/",
          "height": 36
        },
        "id": "_C24gcNfmjMu",
        "outputId": "fa2c267b-a941-4a54-f556-6f1b3e050e01"
      },
      "execution_count": null,
      "outputs": [
        {
          "output_type": "display_data",
          "data": {
            "text/plain": [
              "<IPython.core.display.HTML object>"
            ],
            "text/html": [
              "\n",
              "            <style>\n",
              "                .geemap-dark {\n",
              "                    --jp-widgets-color: white;\n",
              "                    --jp-widgets-label-color: white;\n",
              "                    --jp-ui-font-color1: white;\n",
              "                    --jp-layout-color2: #454545;\n",
              "                    background-color: #383838;\n",
              "                }\n",
              "\n",
              "                .geemap-dark .jupyter-button {\n",
              "                    --jp-layout-color3: #383838;\n",
              "                }\n",
              "\n",
              "                .geemap-colab {\n",
              "                    background-color: var(--colab-primary-surface-color, white);\n",
              "                }\n",
              "\n",
              "                .geemap-colab .jupyter-button {\n",
              "                    --jp-layout-color3: var(--colab-primary-surface-color, white);\n",
              "                }\n",
              "            </style>\n",
              "            "
            ]
          },
          "metadata": {}
        },
        {
          "output_type": "execute_result",
          "data": {
            "text/plain": [
              "'EPSG:32616'"
            ],
            "application/vnd.google.colaboratory.intrinsic+json": {
              "type": "string"
            }
          },
          "metadata": {},
          "execution_count": 54
        }
      ]
    },
    {
      "cell_type": "code",
      "source": [
        "pwd"
      ],
      "metadata": {
        "id": "x6MG1IQm0EHC",
        "colab": {
          "base_uri": "https://localhost:8080/",
          "height": 36
        },
        "outputId": "0b3be3f5-b378-4c1b-e5c9-19de2424e3da"
      },
      "execution_count": null,
      "outputs": [
        {
          "output_type": "display_data",
          "data": {
            "text/plain": [
              "<IPython.core.display.HTML object>"
            ],
            "text/html": [
              "\n",
              "            <style>\n",
              "                .geemap-dark {\n",
              "                    --jp-widgets-color: white;\n",
              "                    --jp-widgets-label-color: white;\n",
              "                    --jp-ui-font-color1: white;\n",
              "                    --jp-layout-color2: #454545;\n",
              "                    background-color: #383838;\n",
              "                }\n",
              "\n",
              "                .geemap-dark .jupyter-button {\n",
              "                    --jp-layout-color3: #383838;\n",
              "                }\n",
              "\n",
              "                .geemap-colab {\n",
              "                    background-color: var(--colab-primary-surface-color, white);\n",
              "                }\n",
              "\n",
              "                .geemap-colab .jupyter-button {\n",
              "                    --jp-layout-color3: var(--colab-primary-surface-color, white);\n",
              "                }\n",
              "            </style>\n",
              "            "
            ]
          },
          "metadata": {}
        },
        {
          "output_type": "execute_result",
          "data": {
            "text/plain": [
              "'/content/drive/MyDrive/Flood_Intercomparison/Case_Studies/Flood_Intercomparison'"
            ],
            "application/vnd.google.colaboratory.intrinsic+json": {
              "type": "string"
            }
          },
          "metadata": {},
          "execution_count": 53
        }
      ]
    },
    {
      "cell_type": "markdown",
      "source": [
        "Because this code takes a long time to run, we will write the data to the file at the end of every code cell. Uncomment the cell below if you haven't output code to this file yet."
      ],
      "metadata": {
        "id": "aHDA0EYo_rfp"
      }
    },
    {
      "cell_type": "code",
      "source": [
        "#headers = ['Description', 'IOU']\n",
        "#\n",
        "#with open(filename, 'w') as csvfile:\n",
        "#  csvwriter = csv.writer(csvfile)\n",
        "#  csvwriter.writerow(headers)"
      ],
      "metadata": {
        "id": "FrugslhZ_nuR"
      },
      "execution_count": null,
      "outputs": []
    },
    {
      "cell_type": "markdown",
      "source": [
        "# Step 2: DSWx-HLS versus all"
      ],
      "metadata": {
        "id": "CkldP40Jo50B"
      }
    },
    {
      "cell_type": "code",
      "source": [
        "dswxhls_dswxs1_iou = iou(dswxhls, dswxs1, 'dswxhls', 'dswxs1', aoi, my_proj_code, time_id)"
      ],
      "metadata": {
        "colab": {
          "base_uri": "https://localhost:8080/",
          "height": 307
        },
        "id": "eZoyHaz3o839",
        "outputId": "49acf57d-cf9f-4cf3-a10b-2f5f99788733"
      },
      "execution_count": null,
      "outputs": [
        {
          "output_type": "display_data",
          "data": {
            "text/plain": [
              "<IPython.core.display.HTML object>"
            ],
            "text/html": [
              "\n",
              "            <style>\n",
              "                .geemap-dark {\n",
              "                    --jp-widgets-color: white;\n",
              "                    --jp-widgets-label-color: white;\n",
              "                    --jp-ui-font-color1: white;\n",
              "                    --jp-layout-color2: #454545;\n",
              "                    background-color: #383838;\n",
              "                }\n",
              "\n",
              "                .geemap-dark .jupyter-button {\n",
              "                    --jp-layout-color3: #383838;\n",
              "                }\n",
              "\n",
              "                .geemap-colab {\n",
              "                    background-color: var(--colab-primary-surface-color, white);\n",
              "                }\n",
              "\n",
              "                .geemap-colab .jupyter-button {\n",
              "                    --jp-layout-color3: var(--colab-primary-surface-color, white);\n",
              "                }\n",
              "            </style>\n",
              "            "
            ]
          },
          "metadata": {}
        },
        {
          "output_type": "stream",
          "name": "stdout",
          "text": [
            "sampling...\n",
            "Exporting iou_dswxhls_and_dswxs1_06251109pt0... Please check the Task Manager from the JavaScript Code Editor.\n",
            "sampling...\n",
            "Exporting iou_dswxhls_and_dswxs1_06251109pt1... Please check the Task Manager from the JavaScript Code Editor.\n",
            "sampling...\n",
            "Exporting iou_dswxhls_and_dswxs1_06251109pt2... Please check the Task Manager from the JavaScript Code Editor.\n",
            "sampling...\n",
            "Exporting iou_dswxhls_and_dswxs1_06251109pt3... Please check the Task Manager from the JavaScript Code Editor.\n",
            "sampling...\n",
            "Exporting iou_dswxhls_and_dswxs1_06251109pt4... Please check the Task Manager from the JavaScript Code Editor.\n",
            "sampling...\n",
            "Exporting iou_dswxhls_and_dswxs1_06251109pt5... Please check the Task Manager from the JavaScript Code Editor.\n",
            "sleeping...\n",
            "still sleeping...\n",
            "still sleeping...\n",
            "still sleeping...\n"
          ]
        }
      ]
    },
    {
      "cell_type": "code",
      "source": [
        "with open(filename, 'a') as csvfile:\n",
        "  csvwriter = csv.writer(csvfile)\n",
        "  csvwriter.writerow(dswxhls_dswxs1_iou)"
      ],
      "metadata": {
        "id": "hc16aQ_UAPXJ"
      },
      "execution_count": null,
      "outputs": []
    },
    {
      "cell_type": "code",
      "source": [
        "dswxhls_gfm_iou = iou(dswxhls, gfm, 'dswxhls', 'gfm', aoi, my_proj_code, time_id)"
      ],
      "metadata": {
        "id": "teSQL1WvpcZK"
      },
      "execution_count": null,
      "outputs": []
    },
    {
      "cell_type": "code",
      "source": [
        "with open(filename, 'a') as csvfile:\n",
        "  csvwriter = csv.writer(csvfile)\n",
        "  csvwriter.writerow(dswxhls_gfm_iou)"
      ],
      "metadata": {
        "id": "MqKDuD2ZAVpB"
      },
      "execution_count": null,
      "outputs": []
    },
    {
      "cell_type": "code",
      "source": [
        "dswxhls_hydrafloods_iou = iou(dswxhls, hydrafloods, 'dswxhls', 'hydrafloods', aoi, my_proj_code, time_id)"
      ],
      "metadata": {
        "id": "KPzQt8okpup4"
      },
      "execution_count": null,
      "outputs": []
    },
    {
      "cell_type": "code",
      "source": [
        "with open(filename, 'a') as csvfile:\n",
        "  csvwriter = csv.writer(csvfile)\n",
        "  csvwriter.writerow(dswxhls_hydrafloods_iou)"
      ],
      "metadata": {
        "id": "hhPollQ5AYLx"
      },
      "execution_count": null,
      "outputs": []
    },
    {
      "cell_type": "code",
      "source": [
        "dswxhls_hydrosar_iou = iou(dswxhls, hydrosar, 'dswxhls', 'hydrosar', aoi, my_proj_code, time_id)"
      ],
      "metadata": {
        "id": "3n1bF9OyqOsO"
      },
      "execution_count": null,
      "outputs": []
    },
    {
      "cell_type": "code",
      "source": [
        "with open(filename, 'a') as csvfile:\n",
        "  csvwriter = csv.writer(csvfile)\n",
        "  csvwriter.writerow(dswxhls_hydrosar_iou)"
      ],
      "metadata": {
        "id": "oITwaE7RAaf5"
      },
      "execution_count": null,
      "outputs": []
    },
    {
      "cell_type": "code",
      "source": [
        "dswxhls_mcdwd_iou = iou(dswxhls, mcdwd, 'dswxhls', 'mcdwd', aoi, my_proj_code, time_id)"
      ],
      "metadata": {
        "id": "TiuYqeW8qZOc"
      },
      "execution_count": null,
      "outputs": []
    },
    {
      "cell_type": "code",
      "source": [
        "with open(filename, 'a') as csvfile:\n",
        "  csvwriter = csv.writer(csvfile)\n",
        "  csvwriter.writerow(dswxhls_mcdwd_iou)"
      ],
      "metadata": {
        "id": "dHGHLfH3AdSJ"
      },
      "execution_count": null,
      "outputs": []
    },
    {
      "cell_type": "code",
      "source": [
        "dswxhls_vfm_iou = iou(dswxhls, vfm, 'dswxhls', 'vfm', aoi, my_proj_code, time_id)"
      ],
      "metadata": {
        "id": "BjC_OUCIqgyz"
      },
      "execution_count": null,
      "outputs": []
    },
    {
      "cell_type": "code",
      "source": [
        "with open(filename, 'a') as csvfile:\n",
        "  csvwriter = csv.writer(csvfile)\n",
        "  csvwriter.writerow(dswxhls_vfm_iou)"
      ],
      "metadata": {
        "id": "QWH85cTOAudq"
      },
      "execution_count": null,
      "outputs": []
    },
    {
      "cell_type": "markdown",
      "source": [
        "# Step 3: DSWx-S1 versus all (minus DSWx-HLS)"
      ],
      "metadata": {
        "id": "93EULwWwqyAD"
      }
    },
    {
      "cell_type": "code",
      "source": [
        "dswxs1_gfm_iou = iou(dswxs1, gfm, 'dswxs1', 'gfm', aoi, my_proj_code, time_id)"
      ],
      "metadata": {
        "id": "5_c6uqwqq2Ko"
      },
      "execution_count": null,
      "outputs": []
    },
    {
      "cell_type": "code",
      "source": [
        "with open(filename, 'a') as csvfile:\n",
        "  csvwriter = csv.writer(csvfile)\n",
        "  csvwriter.writerow(dswxs1_gfm_iou)"
      ],
      "metadata": {
        "id": "Kqm-Wb-OAxrx"
      },
      "execution_count": null,
      "outputs": []
    },
    {
      "cell_type": "code",
      "source": [
        "dswxs1_hydrafloods_iou = iou(dswxs1, hydrafloods, 'dswxs1', 'hydrafloods', aoi, my_proj_code, time_id)"
      ],
      "metadata": {
        "id": "loTa0xeqrCTt"
      },
      "execution_count": null,
      "outputs": []
    },
    {
      "cell_type": "code",
      "source": [
        "with open(filename, 'a') as csvfile:\n",
        "  csvwriter = csv.writer(csvfile)\n",
        "  csvwriter.writerow(dswxs1_hydrafloods_iou)"
      ],
      "metadata": {
        "id": "nf3ONj5CA0xp"
      },
      "execution_count": null,
      "outputs": []
    },
    {
      "cell_type": "code",
      "source": [
        "dswxs1_hydrosar_iou = iou(dswxs1, hydrosar, 'dswxs1', 'hydrosar', aoi, my_proj_code, time_id)"
      ],
      "metadata": {
        "id": "HxgCQ_q2rWWw"
      },
      "execution_count": null,
      "outputs": []
    },
    {
      "cell_type": "code",
      "source": [
        "with open(filename, 'a') as csvfile:\n",
        "  csvwriter = csv.writer(csvfile)\n",
        "  csvwriter.writerow(dswxs1_hydrosar_iou)"
      ],
      "metadata": {
        "id": "ayHEip3xA2vx"
      },
      "execution_count": null,
      "outputs": []
    },
    {
      "cell_type": "code",
      "source": [
        "dswxs1_mcdwd_iou = iou(dswxs1, mcdwd, 'dswxs1', 'mcdwd', aoi, my_proj_code, time_id)"
      ],
      "metadata": {
        "id": "DJXVkBCjrt07"
      },
      "execution_count": null,
      "outputs": []
    },
    {
      "cell_type": "code",
      "source": [
        "with open(filename, 'a') as csvfile:\n",
        "  csvwriter = csv.writer(csvfile)\n",
        "  csvwriter.writerow(dswxs1_mcdwd_iou)"
      ],
      "metadata": {
        "id": "57AfWzNmA4kx"
      },
      "execution_count": null,
      "outputs": []
    },
    {
      "cell_type": "code",
      "source": [
        "dswxs1_vfm_iou = iou(dswxs1, vfm, 'dswxs1', 'vfm', aoi, my_proj_code, time_id)"
      ],
      "metadata": {
        "id": "CtIbyLydr5bR"
      },
      "execution_count": null,
      "outputs": []
    },
    {
      "cell_type": "code",
      "source": [
        "with open(filename, 'a') as csvfile:\n",
        "  csvwriter = csv.writer(csvfile)\n",
        "  csvwriter.writerow(dswxs1_vfm_iou)"
      ],
      "metadata": {
        "id": "yZb2qEoKA6TR"
      },
      "execution_count": null,
      "outputs": []
    },
    {
      "cell_type": "markdown",
      "source": [
        "# Step 4: GFM Versus all (minus DSWx-S1 and DSWx-HLS)"
      ],
      "metadata": {
        "id": "x_VKu8efhYlE"
      }
    },
    {
      "cell_type": "code",
      "source": [
        "gfm_hydrafloods_iou = iou(gfm, hydrafloods, 'gfm', 'hydrafloods', aoi, my_proj_code, time_id)"
      ],
      "metadata": {
        "id": "l8y7bqjrsEGt"
      },
      "execution_count": null,
      "outputs": []
    },
    {
      "cell_type": "code",
      "source": [
        "with open(filename, 'a') as csvfile:\n",
        "  csvwriter = csv.writer(csvfile)\n",
        "  csvwriter.writerow(gfm_hydrafloods_iou)"
      ],
      "metadata": {
        "id": "h3MbNGXABD9p"
      },
      "execution_count": null,
      "outputs": []
    },
    {
      "cell_type": "code",
      "source": [
        "gfm_hydrosar_iou = iou(gfm, hydrosar, 'gfm', 'hydrosar', aoi, my_proj_code, time_id)"
      ],
      "metadata": {
        "collapsed": true,
        "id": "-pek1UtqNlTy",
        "colab": {
          "base_uri": "https://localhost:8080/",
          "height": 1000
        },
        "outputId": "370a542a-a9ae-47f7-81e8-ef6e67ec25b2"
      },
      "execution_count": null,
      "outputs": [
        {
          "output_type": "display_data",
          "data": {
            "text/plain": [
              "<IPython.core.display.HTML object>"
            ],
            "text/html": [
              "\n",
              "            <style>\n",
              "                .geemap-dark {\n",
              "                    --jp-widgets-color: white;\n",
              "                    --jp-widgets-label-color: white;\n",
              "                    --jp-ui-font-color1: white;\n",
              "                    --jp-layout-color2: #454545;\n",
              "                    background-color: #383838;\n",
              "                }\n",
              "\n",
              "                .geemap-dark .jupyter-button {\n",
              "                    --jp-layout-color3: #383838;\n",
              "                }\n",
              "\n",
              "                .geemap-colab {\n",
              "                    background-color: var(--colab-primary-surface-color, white);\n",
              "                }\n",
              "\n",
              "                .geemap-colab .jupyter-button {\n",
              "                    --jp-layout-color3: var(--colab-primary-surface-color, white);\n",
              "                }\n",
              "            </style>\n",
              "            "
            ]
          },
          "metadata": {}
        },
        {
          "output_type": "stream",
          "name": "stdout",
          "text": [
            "sampling...\n",
            "Exporting iou_gfm_and_hydrosar_06250959pt0... Please check the Task Manager from the JavaScript Code Editor.\n",
            "sampling...\n",
            "Exporting iou_gfm_and_hydrosar_06250959pt1... Please check the Task Manager from the JavaScript Code Editor.\n",
            "sampling...\n",
            "Exporting iou_gfm_and_hydrosar_06250959pt2... Please check the Task Manager from the JavaScript Code Editor.\n",
            "sampling...\n",
            "Exporting iou_gfm_and_hydrosar_06250959pt3... Please check the Task Manager from the JavaScript Code Editor.\n",
            "sampling...\n",
            "Exporting iou_gfm_and_hydrosar_06250959pt4... Please check the Task Manager from the JavaScript Code Editor.\n",
            "sampling...\n",
            "Exporting iou_gfm_and_hydrosar_06250959pt5... Please check the Task Manager from the JavaScript Code Editor.\n",
            "sleeping...\n",
            "still sleeping...\n",
            "still sleeping...\n",
            "still sleeping...\n",
            "I'm awake!\n",
            "calculating iou...\n",
            "107540951\n",
            "iou calculation is 0.0 % complete\n",
            "iou calculation is 0.5 % complete\n",
            "iou calculation is 0.9 % complete\n",
            "iou calculation is 1.4 % complete\n",
            "iou calculation is 1.9 % complete\n",
            "iou calculation is 2.3 % complete\n",
            "iou calculation is 2.8 % complete\n",
            "iou calculation is 3.3 % complete\n",
            "iou calculation is 3.7 % complete\n",
            "iou calculation is 4.2 % complete\n",
            "iou calculation is 4.6 % complete\n",
            "iou calculation is 5.1 % complete\n",
            "iou calculation is 5.6 % complete\n",
            "iou calculation is 6.0 % complete\n",
            "iou calculation is 6.5 % complete\n",
            "iou calculation is 7.0 % complete\n",
            "iou calculation is 7.4 % complete\n",
            "iou calculation is 7.9 % complete\n",
            "iou calculation is 8.4 % complete\n",
            "iou calculation is 8.8 % complete\n",
            "iou calculation is 9.3 % complete\n",
            "iou calculation is 9.8 % complete\n",
            "iou calculation is 10.2 % complete\n",
            "iou calculation is 10.7 % complete\n",
            "iou calculation is 11.2 % complete\n",
            "iou calculation is 11.6 % complete\n",
            "iou calculation is 12.1 % complete\n",
            "iou calculation is 12.6 % complete\n",
            "iou calculation is 13.0 % complete\n",
            "iou calculation is 13.5 % complete\n",
            "iou calculation is 13.9 % complete\n",
            "iou calculation is 14.4 % complete\n",
            "iou calculation is 14.9 % complete\n",
            "iou calculation is 15.3 % complete\n",
            "iou calculation is 15.8 % complete\n",
            "iou calculation is 16.3 % complete\n",
            "iou calculation is 16.7 % complete\n",
            "iou calculation is 17.2 % complete\n",
            "iou calculation is 17.7 % complete\n",
            "iou calculation is 18.1 % complete\n",
            "iou calculation is 18.6 % complete\n",
            "iou calculation is 19.1 % complete\n",
            "iou calculation is 19.5 % complete\n",
            "iou calculation is 20.0 % complete\n",
            "iou calculation is 20.5 % complete\n",
            "iou calculation is 20.9 % complete\n",
            "iou calculation is 21.4 % complete\n",
            "iou calculation is 21.9 % complete\n",
            "iou calculation is 22.3 % complete\n",
            "iou calculation is 22.8 % complete\n",
            "iou calculation is 23.2 % complete\n",
            "iou calculation is 23.7 % complete\n",
            "iou calculation is 24.2 % complete\n",
            "iou calculation is 24.6 % complete\n",
            "iou calculation is 25.1 % complete\n",
            "iou calculation is 25.6 % complete\n",
            "iou calculation is 26.0 % complete\n",
            "iou calculation is 26.5 % complete\n",
            "iou calculation is 27.0 % complete\n",
            "iou calculation is 27.4 % complete\n",
            "iou calculation is 27.9 % complete\n",
            "iou calculation is 28.4 % complete\n",
            "iou calculation is 28.8 % complete\n",
            "iou calculation is 29.3 % complete\n",
            "iou calculation is 29.8 % complete\n",
            "iou calculation is 30.2 % complete\n",
            "iou calculation is 30.7 % complete\n",
            "iou calculation is 31.2 % complete\n",
            "iou calculation is 31.6 % complete\n",
            "iou calculation is 32.1 % complete\n",
            "iou calculation is 32.5 % complete\n",
            "iou calculation is 33.0 % complete\n",
            "iou calculation is 33.5 % complete\n",
            "iou calculation is 33.9 % complete\n",
            "iou calculation is 34.4 % complete\n",
            "iou calculation is 34.9 % complete\n",
            "iou calculation is 35.3 % complete\n",
            "iou calculation is 35.8 % complete\n",
            "iou calculation is 36.3 % complete\n",
            "iou calculation is 36.7 % complete\n",
            "iou calculation is 37.2 % complete\n",
            "iou calculation is 37.7 % complete\n",
            "iou calculation is 38.1 % complete\n",
            "iou calculation is 38.6 % complete\n",
            "iou calculation is 39.1 % complete\n",
            "iou calculation is 39.5 % complete\n",
            "iou calculation is 40.0 % complete\n",
            "iou calculation is 40.4 % complete\n",
            "iou calculation is 40.9 % complete\n",
            "iou calculation is 41.4 % complete\n",
            "iou calculation is 41.8 % complete\n",
            "iou calculation is 42.3 % complete\n",
            "iou calculation is 42.8 % complete\n",
            "iou calculation is 43.2 % complete\n",
            "iou calculation is 43.7 % complete\n",
            "iou calculation is 44.2 % complete\n",
            "iou calculation is 44.6 % complete\n",
            "iou calculation is 45.1 % complete\n",
            "iou calculation is 45.6 % complete\n",
            "iou calculation is 46.0 % complete\n",
            "iou calculation is 46.5 % complete\n",
            "iou calculation is 47.0 % complete\n",
            "iou calculation is 47.4 % complete\n",
            "iou calculation is 47.9 % complete\n",
            "iou calculation is 48.4 % complete\n",
            "iou calculation is 48.8 % complete\n",
            "iou calculation is 49.3 % complete\n",
            "iou calculation is 49.7 % complete\n",
            "iou calculation is 50.2 % complete\n",
            "iou calculation is 50.7 % complete\n",
            "iou calculation is 51.1 % complete\n",
            "iou calculation is 51.6 % complete\n",
            "iou calculation is 52.1 % complete\n",
            "iou calculation is 52.5 % complete\n",
            "iou calculation is 53.0 % complete\n",
            "iou calculation is 53.5 % complete\n",
            "iou calculation is 53.9 % complete\n",
            "iou calculation is 54.4 % complete\n",
            "iou calculation is 54.9 % complete\n",
            "iou calculation is 55.3 % complete\n",
            "iou calculation is 55.8 % complete\n",
            "iou calculation is 56.3 % complete\n",
            "iou calculation is 56.7 % complete\n",
            "iou calculation is 57.2 % complete\n",
            "iou calculation is 57.7 % complete\n",
            "iou calculation is 58.1 % complete\n",
            "iou calculation is 58.6 % complete\n",
            "iou calculation is 59.0 % complete\n",
            "iou calculation is 59.5 % complete\n",
            "iou calculation is 60.0 % complete\n",
            "iou calculation is 60.4 % complete\n",
            "iou calculation is 60.9 % complete\n",
            "iou calculation is 61.4 % complete\n",
            "iou calculation is 61.8 % complete\n",
            "iou calculation is 62.3 % complete\n",
            "iou calculation is 62.8 % complete\n",
            "iou calculation is 63.2 % complete\n",
            "iou calculation is 63.7 % complete\n",
            "iou calculation is 64.2 % complete\n",
            "iou calculation is 64.6 % complete\n",
            "iou calculation is 65.1 % complete\n",
            "iou calculation is 65.6 % complete\n",
            "iou calculation is 66.0 % complete\n",
            "iou calculation is 66.5 % complete\n",
            "iou calculation is 67.0 % complete\n",
            "iou calculation is 67.4 % complete\n",
            "iou calculation is 67.9 % complete\n",
            "iou calculation is 68.3 % complete\n",
            "iou calculation is 68.8 % complete\n",
            "iou calculation is 69.3 % complete\n",
            "iou calculation is 69.7 % complete\n",
            "iou calculation is 70.2 % complete\n",
            "iou calculation is 70.7 % complete\n",
            "iou calculation is 71.1 % complete\n",
            "iou calculation is 71.6 % complete\n",
            "iou calculation is 72.1 % complete\n",
            "iou calculation is 72.5 % complete\n",
            "iou calculation is 73.0 % complete\n",
            "iou calculation is 73.5 % complete\n",
            "iou calculation is 73.9 % complete\n",
            "iou calculation is 74.4 % complete\n",
            "iou calculation is 74.9 % complete\n",
            "iou calculation is 75.3 % complete\n",
            "iou calculation is 75.8 % complete\n",
            "iou calculation is 76.3 % complete\n",
            "iou calculation is 76.7 % complete\n",
            "iou calculation is 77.2 % complete\n",
            "iou calculation is 77.6 % complete\n",
            "iou calculation is 78.1 % complete\n",
            "iou calculation is 78.6 % complete\n",
            "iou calculation is 79.0 % complete\n",
            "iou calculation is 79.5 % complete\n",
            "iou calculation is 80.0 % complete\n",
            "iou calculation is 80.4 % complete\n",
            "iou calculation is 80.9 % complete\n",
            "iou calculation is 81.4 % complete\n",
            "iou calculation is 81.8 % complete\n",
            "iou calculation is 82.3 % complete\n",
            "iou calculation is 82.8 % complete\n",
            "iou calculation is 83.2 % complete\n",
            "iou calculation is 83.7 % complete\n",
            "iou calculation is 84.2 % complete\n",
            "iou calculation is 84.6 % complete\n",
            "iou calculation is 85.1 % complete\n",
            "iou calculation is 85.5 % complete\n",
            "iou calculation is 86.0 % complete\n",
            "iou calculation is 86.5 % complete\n",
            "iou calculation is 86.9 % complete\n",
            "iou calculation is 87.4 % complete\n",
            "iou calculation is 87.9 % complete\n",
            "iou calculation is 88.3 % complete\n",
            "iou calculation is 88.8 % complete\n",
            "iou calculation is 89.3 % complete\n",
            "iou calculation is 89.7 % complete\n",
            "iou calculation is 90.2 % complete\n",
            "iou calculation is 90.7 % complete\n",
            "iou calculation is 91.1 % complete\n",
            "iou calculation is 91.6 % complete\n",
            "iou calculation is 92.1 % complete\n",
            "iou calculation is 92.5 % complete\n",
            "iou calculation is 93.0 % complete\n",
            "iou calculation is 93.5 % complete\n",
            "iou calculation is 93.9 % complete\n",
            "iou calculation is 94.4 % complete\n",
            "iou calculation is 94.8 % complete\n",
            "iou calculation is 95.3 % complete\n",
            "iou calculation is 95.8 % complete\n",
            "iou calculation is 96.2 % complete\n",
            "iou calculation is 96.7 % complete\n",
            "iou calculation is 97.2 % complete\n",
            "iou calculation is 97.6 % complete\n",
            "iou calculation is 98.1 % complete\n",
            "iou calculation is 98.6 % complete\n",
            "iou calculation is 99.0 % complete\n",
            "iou calculation is 99.5 % complete\n",
            "iou calculation is 100.0 % complete\n"
          ]
        }
      ]
    },
    {
      "cell_type": "code",
      "source": [
        "with open(filename, 'a') as csvfile:\n",
        "  csvwriter = csv.writer(csvfile)\n",
        "  csvwriter.writerow(gfm_hydrosar_iou)"
      ],
      "metadata": {
        "id": "PLCOaEDNBMyy"
      },
      "execution_count": null,
      "outputs": []
    },
    {
      "cell_type": "code",
      "source": [
        "gfm_mcdwd_iou = iou(gfm, mcdwd, 'gfm', 'mcdwd', aoi, my_proj_code, time_id)"
      ],
      "metadata": {
        "colab": {
          "base_uri": "https://localhost:8080/",
          "height": 508
        },
        "id": "nHqonSqlsJRZ",
        "outputId": "35e9ed2d-a149-44a0-9c1f-e74c51aefcd6"
      },
      "execution_count": null,
      "outputs": [
        {
          "output_type": "display_data",
          "data": {
            "text/plain": [
              "<IPython.core.display.HTML object>"
            ],
            "text/html": [
              "\n",
              "            <style>\n",
              "                .geemap-dark {\n",
              "                    --jp-widgets-color: white;\n",
              "                    --jp-widgets-label-color: white;\n",
              "                    --jp-ui-font-color1: white;\n",
              "                    --jp-layout-color2: #454545;\n",
              "                    background-color: #383838;\n",
              "                }\n",
              "\n",
              "                .geemap-dark .jupyter-button {\n",
              "                    --jp-layout-color3: #383838;\n",
              "                }\n",
              "\n",
              "                .geemap-colab {\n",
              "                    background-color: var(--colab-primary-surface-color, white);\n",
              "                }\n",
              "\n",
              "                .geemap-colab .jupyter-button {\n",
              "                    --jp-layout-color3: var(--colab-primary-surface-color, white);\n",
              "                }\n",
              "            </style>\n",
              "            "
            ]
          },
          "metadata": {}
        },
        {
          "output_type": "stream",
          "name": "stdout",
          "text": [
            "sampling...\n",
            "Exporting iou_gfm_and_mcdwd_06250959pt0... Please check the Task Manager from the JavaScript Code Editor.\n",
            "sampling...\n",
            "Exporting iou_gfm_and_mcdwd_06250959pt1... Please check the Task Manager from the JavaScript Code Editor.\n",
            "sampling...\n",
            "Exporting iou_gfm_and_mcdwd_06250959pt2... Please check the Task Manager from the JavaScript Code Editor.\n",
            "sampling...\n",
            "Exporting iou_gfm_and_mcdwd_06250959pt3... Please check the Task Manager from the JavaScript Code Editor.\n",
            "sampling...\n",
            "Exporting iou_gfm_and_mcdwd_06250959pt4... Please check the Task Manager from the JavaScript Code Editor.\n",
            "sampling...\n",
            "Exporting iou_gfm_and_mcdwd_06250959pt5... Please check the Task Manager from the JavaScript Code Editor.\n",
            "sleeping...\n"
          ]
        },
        {
          "output_type": "error",
          "ename": "KeyboardInterrupt",
          "evalue": "",
          "traceback": [
            "\u001b[0;31m---------------------------------------------------------------------------\u001b[0m",
            "\u001b[0;31mKeyboardInterrupt\u001b[0m                         Traceback (most recent call last)",
            "\u001b[0;32m/tmp/ipython-input-56-2632445688.py\u001b[0m in \u001b[0;36m<cell line: 0>\u001b[0;34m()\u001b[0m\n\u001b[0;32m----> 1\u001b[0;31m \u001b[0mgfm_mcdwd_iou\u001b[0m \u001b[0;34m=\u001b[0m \u001b[0miou\u001b[0m\u001b[0;34m(\u001b[0m\u001b[0mgfm\u001b[0m\u001b[0;34m,\u001b[0m \u001b[0mmcdwd\u001b[0m\u001b[0;34m,\u001b[0m \u001b[0;34m'gfm'\u001b[0m\u001b[0;34m,\u001b[0m \u001b[0;34m'mcdwd'\u001b[0m\u001b[0;34m,\u001b[0m \u001b[0maoi\u001b[0m\u001b[0;34m,\u001b[0m \u001b[0mmy_proj_code\u001b[0m\u001b[0;34m,\u001b[0m \u001b[0mtime_id\u001b[0m\u001b[0;34m)\u001b[0m\u001b[0;34m\u001b[0m\u001b[0;34m\u001b[0m\u001b[0m\n\u001b[0m",
            "\u001b[0;32m/tmp/ipython-input-51-2460201397.py\u001b[0m in \u001b[0;36miou\u001b[0;34m(img1, img2, desc1, desc2, aoi, myproj, mydesc)\u001b[0m\n\u001b[1;32m     42\u001b[0m \u001b[0;34m\u001b[0m\u001b[0m\n\u001b[1;32m     43\u001b[0m   \u001b[0mprint\u001b[0m\u001b[0;34m(\u001b[0m\u001b[0;34m'sleeping...'\u001b[0m\u001b[0;34m)\u001b[0m\u001b[0;34m\u001b[0m\u001b[0;34m\u001b[0m\u001b[0m\n\u001b[0;32m---> 44\u001b[0;31m   \u001b[0mtime\u001b[0m\u001b[0;34m.\u001b[0m\u001b[0msleep\u001b[0m\u001b[0;34m(\u001b[0m\u001b[0;36m60\u001b[0m\u001b[0;34m)\u001b[0m\u001b[0;34m\u001b[0m\u001b[0;34m\u001b[0m\u001b[0m\n\u001b[0m\u001b[1;32m     45\u001b[0m   \u001b[0mprint\u001b[0m\u001b[0;34m(\u001b[0m\u001b[0;34m'still sleeping...'\u001b[0m\u001b[0;34m)\u001b[0m\u001b[0;34m\u001b[0m\u001b[0;34m\u001b[0m\u001b[0m\n\u001b[1;32m     46\u001b[0m   \u001b[0mtime\u001b[0m\u001b[0;34m.\u001b[0m\u001b[0msleep\u001b[0m\u001b[0;34m(\u001b[0m\u001b[0;36m120\u001b[0m\u001b[0;34m)\u001b[0m\u001b[0;34m\u001b[0m\u001b[0;34m\u001b[0m\u001b[0m\n",
            "\u001b[0;31mKeyboardInterrupt\u001b[0m: "
          ]
        }
      ]
    },
    {
      "cell_type": "code",
      "source": [
        "with open(filename, 'a') as csvfile:\n",
        "  csvwriter = csv.writer(csvfile)\n",
        "  csvwriter.writerow(gfm_mcdwd_iou)"
      ],
      "metadata": {
        "id": "sxTC7h_EBRip"
      },
      "execution_count": null,
      "outputs": []
    },
    {
      "cell_type": "code",
      "source": [
        "gfm_vfm_iou = iou(gfm, vfm, 'gfm', 'vfm', aoi, my_proj_code, time_id)"
      ],
      "metadata": {
        "id": "Vg9dlPSrsJEN"
      },
      "execution_count": null,
      "outputs": []
    },
    {
      "cell_type": "code",
      "source": [
        "with open(filename, 'a') as csvfile:\n",
        "  csvwriter = csv.writer(csvfile)\n",
        "  csvwriter.writerow(gfm_vfm_iou)"
      ],
      "metadata": {
        "id": "SKbbfvzZBVEI"
      },
      "execution_count": null,
      "outputs": []
    },
    {
      "cell_type": "markdown",
      "source": [
        "# Step 5: HYDRAFloods"
      ],
      "metadata": {
        "id": "3JDSpxzrsZUQ"
      }
    },
    {
      "cell_type": "code",
      "source": [
        "hydrafloods_hydrosar_iou = iou(hydrafloods, hydrosar, 'hydrafloods', 'hydrosar', aoi, my_proj_code, time_id)"
      ],
      "metadata": {
        "id": "lQmJpoq7siKy"
      },
      "execution_count": null,
      "outputs": []
    },
    {
      "cell_type": "code",
      "source": [
        "with open(filename, 'a') as csvfile:\n",
        "  csvwriter = csv.writer(csvfile)\n",
        "  csvwriter.writerow(hydrafloods_hydrosar_iou)"
      ],
      "metadata": {
        "id": "0J0aIfHjBYUw"
      },
      "execution_count": null,
      "outputs": []
    },
    {
      "cell_type": "code",
      "source": [
        "hydrafloods_mcdwd_iou = iou(hydrafloods, mcdwd, 'hydrafloods', 'mcdwd', aoi, my_proj_code, time_id)"
      ],
      "metadata": {
        "id": "sQ96d_sNsn4o"
      },
      "execution_count": null,
      "outputs": []
    },
    {
      "cell_type": "code",
      "source": [
        "with open(filename, 'a') as csvfile:\n",
        "  csvwriter = csv.writer(csvfile)\n",
        "  csvwriter.writerow(hydrafloods_mcdwd_iou)"
      ],
      "metadata": {
        "id": "cUgxAAx2Bc34"
      },
      "execution_count": null,
      "outputs": []
    },
    {
      "cell_type": "code",
      "source": [
        "hydrafloods_vfm_iou = iou(hydrafloods, vfm, 'hydrafloods', 'vfm', aoi, my_proj_code, time_id)"
      ],
      "metadata": {
        "id": "tsiFNHzvwUN0"
      },
      "execution_count": null,
      "outputs": []
    },
    {
      "cell_type": "code",
      "source": [
        "with open(filename, 'a') as csvfile:\n",
        "  csvwriter = csv.writer(csvfile)\n",
        "  csvwriter.writerow(hydrafloods_vfm_iou)"
      ],
      "metadata": {
        "id": "RI3is1NEBf4p"
      },
      "execution_count": null,
      "outputs": []
    },
    {
      "cell_type": "markdown",
      "source": [
        "# Step 6: HYDROSAR"
      ],
      "metadata": {
        "id": "hYLKwBAZwfYl"
      }
    },
    {
      "cell_type": "code",
      "source": [
        "hydrosar_mcdwd_iou = iou(hydrosar, mcdwd, 'hydrosar', 'mcdwd', aoi, my_proj_code, time_id)"
      ],
      "metadata": {
        "id": "1UOzoGFBwowL"
      },
      "execution_count": null,
      "outputs": []
    },
    {
      "cell_type": "code",
      "source": [
        "with open(filename, 'a') as csvfile:\n",
        "  csvwriter = csv.writer(csvfile)\n",
        "  csvwriter.writerow(hydrosar_mcdwd_iou)"
      ],
      "metadata": {
        "id": "8GHxp_EuBjaI"
      },
      "execution_count": null,
      "outputs": []
    },
    {
      "cell_type": "code",
      "source": [
        "hydrosar_vfm_iou = iou(hydrosar, vfm 'hydrosar', 'vfm', aoi, my_proj_code, time_id)"
      ],
      "metadata": {
        "id": "69StNjVQwyS6"
      },
      "execution_count": null,
      "outputs": []
    },
    {
      "cell_type": "code",
      "source": [
        "with open(filename, 'a') as csvfile:\n",
        "  csvwriter = csv.writer(csvfile)\n",
        "  csvwriter.writerow(hydrosar_vfm_iou)"
      ],
      "metadata": {
        "id": "EtVOeNMgBmeY"
      },
      "execution_count": null,
      "outputs": []
    },
    {
      "cell_type": "markdown",
      "source": [
        "# Step 7: MCDWD"
      ],
      "metadata": {
        "id": "uJU0YMaExMHW"
      }
    },
    {
      "cell_type": "code",
      "source": [
        "mcdwd_vfm_iou = iou(mcdwd, vfm, 'mcdwd', 'vfm', aoi, my_proj_code, time_id)"
      ],
      "metadata": {
        "id": "sU2mA_HWxiM6"
      },
      "execution_count": null,
      "outputs": []
    },
    {
      "cell_type": "code",
      "source": [
        "with open(filename, 'a') as csvfile:\n",
        "  csvwriter = csv.writer(csvfile)\n",
        "  csvwriter.writerow(mcdwd_vfm_iou)"
      ],
      "metadata": {
        "id": "nBlr6_UVBo0w"
      },
      "execution_count": null,
      "outputs": []
    }
  ],
  "metadata": {
    "colab": {
      "provenance": [],
      "include_colab_link": true
    },
    "kernelspec": {
      "display_name": "Python 3",
      "name": "python3"
    },
    "language_info": {
      "name": "python"
    }
  },
  "nbformat": 4,
  "nbformat_minor": 0
}