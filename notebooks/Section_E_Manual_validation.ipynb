{
  "cells": [
    {
      "cell_type": "markdown",
      "metadata": {
        "id": "view-in-github",
        "colab_type": "text"
      },
      "source": [
        "<a href=\"https://colab.research.google.com/github/SERVIR/flood_mapping_intercomparison/blob/main/notebooks/Section_E_Manual_validation.ipynb\" target=\"_parent\"><img src=\"https://colab.research.google.com/assets/colab-badge.svg\" alt=\"Open In Colab\"/></a>"
      ]
    },
    {
      "cell_type": "markdown",
      "metadata": {
        "id": "xxb7X-hvMnLP"
      },
      "source": [
        "# Step 1: Import packages"
      ]
    },
    {
      "cell_type": "code",
      "execution_count": null,
      "metadata": {
        "id": "n07orLu6Mpt1"
      },
      "outputs": [],
      "source": [
        "from google.colab import drive\n",
        "import ee\n",
        "import geemap\n",
        "from google.colab import drive\n",
        "import numpy as np\n",
        "import time\n",
        "import pandas as pd\n",
        "from google.colab import drive"
      ]
    },
    {
      "cell_type": "markdown",
      "metadata": {
        "id": "W6y1FZ23uqkR"
      },
      "source": [
        "# MODIFIABLE VARIABLE ALERT"
      ]
    },
    {
      "cell_type": "code",
      "execution_count": null,
      "metadata": {
        "id": "SoEql5pmrtiC"
      },
      "outputs": [],
      "source": [
        "# Enter in the Google Earth Engine Folder in which your flood maps and reference data are located. Make sure the string ends in a slash\n",
        "my_gee_folder = \"users/mickymags/oct_cambodia/\"\n",
        "\n",
        "# Enter in the Google Earth Engine Project you will use\n",
        "my_gee_project = 'servir-sco-assets'\n",
        "\n",
        "# Enter in the Google Drive Folder you wish to use. Make sure this ends in a slash, This should start with \"drive/MyDrive/...\"\n",
        "my_gdrive_folder = \"drive/MyDrive/Flood_Intercomparison/Case_Studies/oct/oct_cambodia\"\n",
        "\n",
        "# Enter in the date of interest in YYYY-MM-dd format\n",
        "doi = \"2024-10-01\"\n",
        "\n",
        "# Enter in a description of the event. This can be whatever you want it to be.\n",
        "event_desc = 'oct_cambodia'"
      ]
    },
    {
      "cell_type": "code",
      "execution_count": null,
      "metadata": {
        "id": "eGHyyEm489WV"
      },
      "outputs": [],
      "source": [
        "ee.Authenticate()\n",
        "\n",
        "ee.Initialize(project=my_gee_project)"
      ]
    },
    {
      "cell_type": "code",
      "execution_count": null,
      "metadata": {
        "id": "YyLO0Vj2u0Py"
      },
      "outputs": [],
      "source": [
        "# Define the path to the area of interest and extract the latitude and longitude for mapping purposes.\n",
        "aoi = ee.FeatureCollection(my_gee_folder + \"aoi\")\n",
        "roi = aoi.geometry()\n",
        "aoi_centroid = aoi.geometry().centroid()             # Get the center of the AOI\n",
        "lon = aoi_centroid.coordinates().get(0).getInfo()    # Extract the longitude from the centroid\n",
        "lat = aoi_centroid.coordinates().get(1).getInfo()    # Extract the latitude from the centroid"
      ]
    },
    {
      "cell_type": "markdown",
      "metadata": {
        "id": "bfFuTWdUMixD"
      },
      "source": [
        "# Step 2: Validating Module 6"
      ]
    },
    {
      "cell_type": "markdown",
      "metadata": {
        "id": "g2PC7sD4Nghd"
      },
      "source": [
        "Import each of the flood maps we exported at the end of Module 3, and the reference data we collected in Collect Earth Online.  "
      ]
    },
    {
      "cell_type": "code",
      "execution_count": null,
      "metadata": {
        "id": "4WNRInlOG2Se"
      },
      "outputs": [],
      "source": [
        "# Define the paths to the flood maps and reference data\n",
        "my_ref_data = ee.FeatureCollection(my_gee_folder + \"reference_data\")\n",
        "dswx_hls = ee.Image(my_gee_folder + \"dswxhls_harmonized\")\n",
        "dswx_s1 = ee.Image(my_gee_folder + \"dswxs1_harmonized\")"
      ]
    },
    {
      "cell_type": "code",
      "execution_count": null,
      "metadata": {
        "id": "-PUB0Y7Nfl8D"
      },
      "outputs": [],
      "source": [
        "# Define the mask of each flood map\n",
        "dswxhls_mask = dswx_hls.neq(2)\n",
        "dswxs1_mask = dswx_s1.neq(2)"
      ]
    },
    {
      "cell_type": "code",
      "execution_count": null,
      "metadata": {
        "id": "cpLEzEO3fori"
      },
      "outputs": [],
      "source": [
        "# Update all of the masks for each of the flood maps\n",
        "dswxhls_final = dswx_hls.updateMask(dswxhls_mask)\n",
        "dswxs1_final = dswx_s1.updateMask(dswxs1_mask)"
      ]
    },
    {
      "cell_type": "code",
      "execution_count": null,
      "metadata": {
        "id": "QODtCd1ff4NZ"
      },
      "outputs": [],
      "source": [
        "vp = {\n",
        "    'min': 0,\n",
        "    'max': 1,\n",
        "    'palette': ['FF0000', 'add8e6'],\n",
        "    'alpha': 0.3\n",
        "}"
      ]
    },
    {
      "cell_type": "markdown",
      "source": [
        "Module 6 was validated by changing the \"i\" counter below for each integer between 0 and 2704 (the length of the reference data array), then inspecting the map classification versus the reference classification at each point"
      ],
      "metadata": {
        "id": "eerNojiss05H"
      }
    },
    {
      "cell_type": "code",
      "execution_count": null,
      "metadata": {
        "id": "aBUJQDoMvtmb"
      },
      "outputs": [],
      "source": [
        "i = 0\n",
        "\n",
        "ref_size = my_ref_data.size().getInfo()\n",
        "ref_list = my_ref_data.toList(ref_size)\n",
        "ref1 = ref_list.get(i)\n",
        "\n",
        "ref1_dic = ref1.getInfo()\n",
        "ref_coords = ref1_dic['geometry']['coordinates']\n",
        "ref_lon = ref_coords[0]\n",
        "ref_lat = ref_coords[1]\n",
        "\n",
        "cloud_percent = ref1_dic[\"properties\"]['water?:cloud']\n",
        "water_percent = ref1_dic[\"properties\"]['water?:yes']\n",
        "nonwater_percent = ref1_dic[\"properties\"]['water?:no']\n",
        "plot_id = ref1_dic[\"properties\"][\"\\ufeffplotid\"]\n",
        "\n",
        "print('Plotid:', plot_id)\n",
        "print(\"Confidence:\",ref1_dic[\"properties\"][\"confidence\"])\n",
        "print('\\ncloud percent:', cloud_percent)\n",
        "print('water percent:', water_percent)\n",
        "\n",
        "\n",
        "Map = geemap.Map(center = (ref_lat, ref_lon), zoom = 19)\n",
        "layers = Map.layers\n",
        "Map.addLayer(dswx_hls, vp, 'DSWx-HLS')\n",
        "Map.addLayer(my_ref_data, {}, 'Reference Data')\n",
        "Map"
      ]
    },
    {
      "cell_type": "markdown",
      "source": [
        "# Step 3: Validating Module 9"
      ],
      "metadata": {
        "id": "VxzNpeNBskgA"
      }
    },
    {
      "cell_type": "code",
      "source": [
        "iou_geom = ee.Geometry.Rectangle([105.175576697908, 11.0296195510959, 105.1783281076038, 11.05670676485824])"
      ],
      "metadata": {
        "id": "8CRIXEb-w9AU"
      },
      "execution_count": null,
      "outputs": []
    },
    {
      "cell_type": "code",
      "source": [
        "dswxhls_sample = dswx_hls.sample(\n",
        "    region = iou_geom,\n",
        "    scale = 30,\n",
        "    projection = 'EPSG:32648',\n",
        "    geometries = True\n",
        ")\n",
        "\n",
        "dswxs1_sample = dswx_s1.sample(\n",
        "    region = iou_geom,\n",
        "    scale = 30,\n",
        "    projection = 'EPSG:32648',\n",
        "    geometries = True\n",
        ")"
      ],
      "metadata": {
        "id": "mE1ffVMCy5Cv"
      },
      "execution_count": null,
      "outputs": []
    },
    {
      "cell_type": "code",
      "source": [
        "alt_vp = {\n",
        "    'min': 0,\n",
        "    'max': 1,\n",
        "    'palette': ['00FF00', '0000FF'],\n",
        "    'alpha': 0.3\n",
        "}"
      ],
      "metadata": {
        "id": "gsKPPass0I1N"
      },
      "execution_count": null,
      "outputs": []
    },
    {
      "cell_type": "markdown",
      "source": [
        "# Manual IoU calculation"
      ],
      "metadata": {
        "id": "8Dt1HgAj05Af"
      }
    },
    {
      "cell_type": "code",
      "source": [
        "i = 970\n",
        "\n",
        "dswxhls_sample_listed = dswxhls_sample.toList(1000)\n",
        "dswxhls_poi = ee.Feature(dswxhls_sample_listed.get(i)).geometry().getInfo()\n",
        "dswxhls_coordinates = dswxhls_poi['coordinates']\n",
        "dswxhls_lon = dswxhls_coordinates[0]\n",
        "dswxhls_lat = dswxhls_coordinates[1]\n",
        "\n",
        "point = ee.Geometry.Point(dswxhls_lon, dswxhls_lat)\n",
        "\n",
        "print(i)\n",
        "\n",
        "Map = geemap.Map(center = (dswxhls_lat, dswxhls_lon), zoom = 18)\n",
        "layers = Map.layers\n",
        "Map.addLayer(dswx_hls, vp, 'DSWx-HLS')\n",
        "#Map.addLayer(dswx_s1, alt_vp, 'DSWx-S1')\n",
        "Map.addLayer(iou_geom)\n",
        "Map.addLayer(point, {}, 'Point of Interest')\n",
        "Map\n"
      ],
      "metadata": {
        "id": "QtQ--ZDzzHYm"
      },
      "execution_count": null,
      "outputs": []
    },
    {
      "cell_type": "code",
      "source": [
        "def iou(img1, img2, desc1, desc2, aoi, myproj, mydesc):\n",
        "  img1_renamed = img1.rename(desc1)\n",
        "  img2_renamed = img2.rename(desc2)\n",
        "  #id = flood_event_desc + '_' + desc1 + '_' + desc2\n",
        "\n",
        "  # Combine img1_renamed annd img2_renamed into a single image containing the information of each in a separate band.\n",
        "  combo = img1_renamed.addBands(img2_renamed)\n",
        "\n",
        "  sample = combo.sample(\n",
        "    region= aoi,\n",
        "    scale=30,\n",
        "    projection = myproj,\n",
        "    #numPixels = 1e13#num_pixels\n",
        "    )\n",
        "\n",
        "  geemap.ee_export_vector_to_drive(\n",
        "      collection=sample,\n",
        "      description= 'validating_module_9_v5',\n",
        "      fileFormat='CSV',\n",
        "      folder='valmod9',\n",
        "      selectors = [desc1, desc2]\n",
        "    )\n",
        "\n",
        "  time.sleep(120)\n",
        "\n",
        "  #Create an empty dataframe\n",
        "  dataframes = []\n",
        "  combined_dataframe = pd.DataFrame()\n",
        "\n",
        "  data = pd.read_csv('validating_module_9_v5.csv')\n",
        "  combined_dataframe = pd.concat([combined_dataframe, data])\n",
        "\n",
        "  ######### Calculate Intersection Over Union ##########\n",
        "  intersection = 0\n",
        "  union = 0\n",
        "\n",
        "  # Let the user know where we are at in the workflow\n",
        "  print('calculating iou...')\n",
        "\n",
        "  # Get the number of rows\n",
        "  num_rows = int(np.floor(combined_dataframe.size / 2))\n",
        "\n",
        "  # For each row\n",
        "  for j in range(num_rows):\n",
        "\n",
        "    # Get the row of interest (this will represnt a single pixel in img1 and img2)\n",
        "    row = combined_dataframe.iloc[j]\n",
        "\n",
        "    # Get the cell corresponding to the pixel information from img1\n",
        "    feat1 = row[desc1]\n",
        "\n",
        "    # Get the cell corresponding to the pixel information from img2\n",
        "    feat2 = row[desc2]\n",
        "\n",
        "    # Percent of rows that have been completed\n",
        "    perc = j * 100 / num_rows\n",
        "\n",
        "    # Every so often, inform the user how close we are to completing this part of the code\n",
        "    if j % 50 == 0:\n",
        "      print('iou calculation is {0:0.1f} % complete'.format(perc))\n",
        "\n",
        "    # If both features are masked, ignore\n",
        "    if feat1 == 2 or feat2 == 2:\n",
        "      continue\n",
        "\n",
        "    # if both features are one, add one to the intersection\n",
        "    if feat1 == 1 and feat2 == 1:\n",
        "      intersection += 1\n",
        "\n",
        "    # if either feature is one, add one to the union count\n",
        "    if feat1 == 1 or feat2 == 1:\n",
        "      union += 1\n",
        "\n",
        "  return [id, intersection/union]"
      ],
      "metadata": {
        "id": "Nv5rBYgX1COw"
      },
      "execution_count": null,
      "outputs": []
    },
    {
      "cell_type": "code",
      "source": [
        "drive.mount('/content/drive/')"
      ],
      "metadata": {
        "id": "7qSBY3PE3_Bi"
      },
      "execution_count": null,
      "outputs": []
    },
    {
      "cell_type": "code",
      "source": [
        "pwd"
      ],
      "metadata": {
        "id": "DK8q24QA3054"
      },
      "execution_count": null,
      "outputs": []
    },
    {
      "cell_type": "code",
      "source": [
        "ls"
      ],
      "metadata": {
        "id": "8qWnWBcH37Vy"
      },
      "execution_count": null,
      "outputs": []
    },
    {
      "cell_type": "code",
      "source": [
        "cd .."
      ],
      "metadata": {
        "id": "iL-ecfnK5h5i"
      },
      "execution_count": null,
      "outputs": []
    },
    {
      "cell_type": "code",
      "source": [
        "cd valmod9"
      ],
      "metadata": {
        "id": "Qwve65mg5ioo"
      },
      "execution_count": null,
      "outputs": []
    },
    {
      "cell_type": "code",
      "source": [
        "cd drive/My Drive/Flood_Intercomparison"
      ],
      "metadata": {
        "id": "hO6eQ6yC31_i"
      },
      "execution_count": null,
      "outputs": []
    },
    {
      "cell_type": "code",
      "source": [
        "ls"
      ],
      "metadata": {
        "id": "ZgsjM_0g5U6Q"
      },
      "execution_count": null,
      "outputs": []
    },
    {
      "cell_type": "code",
      "source": [
        "iou(dswx_s1, dswx_hls, 'dswx_s1', 'dswx_hls', iou_geom, 'EPSG:32648', 'mod9val')"
      ],
      "metadata": {
        "id": "fSyczeMc2C-P"
      },
      "execution_count": null,
      "outputs": []
    },
    {
      "cell_type": "code",
      "source": [],
      "metadata": {
        "id": "nrDbbXGX5zza"
      },
      "execution_count": null,
      "outputs": []
    }
  ],
  "metadata": {
    "colab": {
      "provenance": [],
      "include_colab_link": true
    },
    "kernelspec": {
      "display_name": "Python 3",
      "name": "python3"
    },
    "language_info": {
      "name": "python"
    }
  },
  "nbformat": 4,
  "nbformat_minor": 0
}