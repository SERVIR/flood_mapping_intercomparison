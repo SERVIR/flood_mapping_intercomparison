{
  "cells": [
    {
      "cell_type": "markdown",
      "metadata": {
        "id": "view-in-github",
        "colab_type": "text"
      },
      "source": [
        "<a href=\"https://colab.research.google.com/github/SERVIR/flood_mapping_intercomparison/blob/main/notebooks/Module_5_Collecting_Reference_Data.ipynb\" target=\"_parent\"><img src=\"https://colab.research.google.com/assets/colab-badge.svg\" alt=\"Open In Colab\"/></a>"
      ]
    },
    {
      "cell_type": "markdown",
      "source": [
        "# Introduction\n",
        "\n",
        "Now that we have all of our flood maps, we want to collect some \"ground truth\" data to assess the performance of the flood products. I put ground truth in quotes because in this case we will be conducting visual image interpretation based on imagery obtained on our date of interest. Thus, this data is of lower quality than real ground truth data collected in the field. However, collecting reference data in this way is much more feasible, especially since we aim to validate various flood events across the world and in the past. If you ran Section_B, you will have high-resolution optical imagery obtained from Planet. If you do not have access to this commercial imagery, you can use Sentinel-1 or HLS data as shown in this module. We will use the platform Collect Earth Online to collect our reference data."
      ],
      "metadata": {
        "id": "1zeVZ770LrDZ"
      }
    },
    {
      "cell_type": "markdown",
      "source": [
        "# Step 1: Define global variables"
      ],
      "metadata": {
        "id": "tdeZ_-ONM-CH"
      }
    },
    {
      "cell_type": "markdown",
      "source": [
        "### MODIFIABLE VARIABLE ALERT\n",
        "\n",
        "Change the variables below to suit your needs."
      ],
      "metadata": {
        "id": "QVD_PIAIOyCD"
      }
    },
    {
      "cell_type": "code",
      "execution_count": null,
      "metadata": {
        "id": "LNTJt6OPHjoG"
      },
      "outputs": [],
      "source": [
        "# Google Earth Engine Directory\n",
        "parent_directory = \"users/mickymags/semifinal_fmi_cambodia_20241001/\" # Make sure this ends in a slash\n",
        "my_gee_project= 'servir-sco-assets'\n",
        "my_gdrive_folder = 'Flood_Intercomparison'\n",
        "doi = \"2024-10-01\""
      ]
    },
    {
      "cell_type": "markdown",
      "metadata": {
        "id": "tUzRKwOaHkJX"
      },
      "source": [
        "# Step 2: Import packages"
      ]
    },
    {
      "cell_type": "code",
      "execution_count": null,
      "metadata": {
        "id": "n07orLu6Mpt1"
      },
      "outputs": [],
      "source": [
        "import numpy as np\n",
        "import pandas as pd\n",
        "from google.colab import drive\n",
        "import matplotlib.pyplot as plt\n",
        "import ee\n",
        "import geemap"
      ]
    },
    {
      "cell_type": "code",
      "source": [
        "ee.Authenticate()\n",
        "\n",
        "ee.Initialize(project = 'servir-sco-assets')"
      ],
      "metadata": {
        "id": "jYWOT7IaOVWq"
      },
      "execution_count": null,
      "outputs": []
    },
    {
      "cell_type": "code",
      "source": [
        "day = ee.Date(doi)\n",
        "daylater = day.advance(1, 'day')\n",
        "aoi = ee.FeatureCollection(parent_directory + 'aoi')"
      ],
      "metadata": {
        "id": "Ni4IPTO8D6AH"
      },
      "execution_count": null,
      "outputs": []
    },
    {
      "cell_type": "code",
      "source": [
        "aoi_centroid = aoi.geometry().centroid()\n",
        "lon = aoi_centroid.getInfo()[\"coordinates\"][0]\n",
        "lat = aoi_centroid.getInfo()[\"coordinates\"][1]"
      ],
      "metadata": {
        "id": "N-yA1I7U_i4m"
      },
      "execution_count": null,
      "outputs": []
    },
    {
      "cell_type": "markdown",
      "source": [
        "In order to pull imagery into Collect Earth Online, we will need to host it on a database. In this case Google Earth Engine will serve as this database. So our workflow will be as follows:\n",
        "\n",
        "* Get Sentinel-1 imagery over our date of interest\n",
        "  * Export it to a Google Earth Engine Image Collection Asset\n",
        "* Get HLS imagery over our date of interest\n",
        "  * Generate a normalized difference water index (NDWI) image based on HLS. More info on NDWI later.\n",
        "  * Export both the true color imagery as well as NDWI imagery to a Google Earth Engine Asset\n",
        "* Pull all of the above imagery into Collect Earth Online.\n",
        "* Create our project in Collect Earth Online.\n"
      ],
      "metadata": {
        "id": "ydqVpceWNEHd"
      }
    },
    {
      "cell_type": "markdown",
      "source": [
        "# Step 3: Get Sentinel-1 imagery from the date of interest"
      ],
      "metadata": {
        "id": "lc6QPVZANBXd"
      }
    },
    {
      "cell_type": "code",
      "source": [
        "s1 = ee.ImageCollection(\"COPERNICUS/S1_GRD\")\n",
        "\n",
        "s1_filt = s1.filterBounds(aoi).filterDate(day, daylater).select('VV')\n",
        "\n",
        "num_s1 = s1_filt.size().getInfo()\n",
        "\n",
        "s1_asset_id = parent_directory + 'reference/s1_mosaic'\n",
        "\n",
        "s1_ic = []\n",
        "\n",
        "#s1_export_folder = parent_directory + 'reference/s1ref/'\n",
        "\n",
        "for t in range(num_s1):\n",
        "  s1_img_of_int = ee.Image(s1_filt.toList(num_s1).get(t))\n",
        "\n",
        "  s1_ic.append(s1_img_of_int)\n",
        "  #asset_eyedee = s1_export_folder + 'pt' + str(j)\n",
        "  #geemap.ee_export_image_to_asset(s1_img_of_int, description = 'sentinel1_reference', assetId=asset_eyedee, scale=10, crs='EPSG:32633',maxPixels=1e13)\n",
        "\n",
        "s1_mosaic = ee.ImageCollection(s1_ic).mosaic()\n",
        "geemap.ee_export_image_to_asset(s1_mosaic, description = 'sentinel1_reference_mosaic', assetId=s1_asset_id, scale=10, crs='EPSG:32633',maxPixels=1e13)\n"
      ],
      "metadata": {
        "id": "_lI137x3NA6B"
      },
      "execution_count": null,
      "outputs": []
    },
    {
      "cell_type": "code",
      "source": [
        "s1_filt.size().getInfo()"
      ],
      "metadata": {
        "id": "xnpcpgmodUZq"
      },
      "execution_count": null,
      "outputs": []
    },
    {
      "cell_type": "markdown",
      "source": [
        "# Step 4: Get HLS imagery from the date of interest"
      ],
      "metadata": {
        "id": "S57zSlMyOE-S"
      }
    },
    {
      "cell_type": "code",
      "source": [
        "# Obtain Sentinel-2 and Landsat-8 imagery from Google Earth Engine\n",
        "hls_s2 = ee.ImageCollection(\"NASA/HLS/HLSS30/v002\")\n",
        "hls_l8 = ee.ImageCollection(\"NASA/HLS/HLSL30/v002\")\n",
        "\n",
        "hls = hls_s2.merge(hls_l8)\n",
        "\n",
        "hls_filt = hls.filterBounds(aoi).filterDate(day, daylater)"
      ],
      "metadata": {
        "id": "dh_X2CyJOIRc"
      },
      "execution_count": null,
      "outputs": []
    },
    {
      "cell_type": "code",
      "source": [
        "# Filter Sentinel-2 and Landsat-8 to the area of interest and date of interest\n",
        "hls_s2_filt = hls_s2.filterBounds(aoi).filterDate(day, daylater)\n",
        "hls_l8_filt = hls_l8.filterBounds(aoi).filterDate(day, daylater)"
      ],
      "metadata": {
        "id": "1j0E-vMv_LUD"
      },
      "execution_count": null,
      "outputs": []
    },
    {
      "cell_type": "code",
      "source": [
        "# See how many images are in our Sentinel-2 image collection\n",
        "hls_s2_filt.size().getInfo()"
      ],
      "metadata": {
        "id": "DDQcyl1Z_4b6"
      },
      "execution_count": null,
      "outputs": []
    },
    {
      "cell_type": "code",
      "source": [
        "# See how many images are in our Landsat-8 image collection\n",
        "hls_l8_filt.size().getInfo()"
      ],
      "metadata": {
        "id": "5jE1uryp_7sL"
      },
      "execution_count": null,
      "outputs": []
    },
    {
      "cell_type": "code",
      "source": [
        "# Visualize the Landsat-8 and Sentinel-2 Imagery\n",
        "Map = geemap.Map(center = (lon, lat), zoom=4)\n",
        "\n",
        "Map.addLayer(hls_s2_filt)\n",
        "Map.addLayer(hls_l8_filt, {}, 'HLS L8')\n",
        "Map.addLayer(aoi);\n",
        "Map.addLayerControl()\n",
        "Map"
      ],
      "metadata": {
        "id": "0kHHvWnz_Kd7"
      },
      "execution_count": null,
      "outputs": []
    },
    {
      "cell_type": "code",
      "source": [
        "hls_mos_pt1 = hls_filt.mosaic()\n",
        "hls_mos_pt1_proj = hls_mos_pt1.projection().getInfo()\n",
        "hls_mos_pt1_proj"
      ],
      "metadata": {
        "id": "2LA0WNiIrCLB"
      },
      "execution_count": null,
      "outputs": []
    },
    {
      "cell_type": "code",
      "source": [
        "# Get the projection of the HLS image\n",
        "my_proj = hls_filt.first().projection().crs().getInfo()\n",
        "my_proj"
      ],
      "metadata": {
        "id": "MfXwn3vmpfQi"
      },
      "execution_count": null,
      "outputs": []
    },
    {
      "cell_type": "markdown",
      "source": [
        "Create an NDWI image for each HLS image"
      ],
      "metadata": {
        "id": "jTYbviX6TizN"
      }
    },
    {
      "cell_type": "code",
      "source": [
        "num_hls = hls_filt.size().getInfo()\n",
        "\n",
        "hls_ndwi_asset_id = parent_directory + 'reference/hls_ndwi_mosaic'\n",
        "hls_asset_id = parent_directory + 'reference/hls_mosaic'\n",
        "\n",
        "hls_ic = []\n",
        "hls_ndwi_ic = []\n",
        "\n",
        "# using a for loop, calculate the NDWI image\n",
        "for q in range(num_hls):\n",
        "  #HLS image of interest\n",
        "  my_hls = ee.Image(hls_filt.toList(num_hls).get(q))\n",
        "  hls_ic.append(my_hls)\n",
        "\n",
        "  my_hls_ndwi = my_hls.normalizedDifference(['B3', 'B8A'])\n",
        "  hls_ndwi_ic.append(my_hls_ndwi)\n",
        "\n",
        "hls_mosaic = ee.ImageCollection(hls_ic).mosaic()\n",
        "hls_ndwi_mosaic = ee.ImageCollection(hls_ndwi_ic).mosaic()\n"
      ],
      "metadata": {
        "id": "vSJ4E8s8TdvZ"
      },
      "execution_count": null,
      "outputs": []
    },
    {
      "cell_type": "markdown",
      "source": [
        "Export the HLS truecolor imagery"
      ],
      "metadata": {
        "id": "Zzfgvq9cTbI1"
      }
    },
    {
      "cell_type": "code",
      "source": [
        "hls_export_folder = parent_directory\n",
        "\n",
        "for k in range(hls_filt.size().getInfo()):\n",
        "  # Get the hls image of interest from the above list we created\n",
        "  hls_img_of_int = ee.Image(hls_filt.toList(hls_filt.size().getInfo()).get(k))\n",
        "\n",
        "  # Define a unique asset ID\n",
        "  hls_asset_id = hls_export_folder + 'pt' + str(k)\n",
        "\n",
        "  # Export the image to Earth Engine\n",
        "  geemap.ee_export_image_to_asset(hls_img_of_int, assetId=hls_asset_id, scale=30, crs=my_proj, maxPixels=1e13)"
      ],
      "metadata": {
        "id": "tc_ctryZThLT"
      },
      "execution_count": null,
      "outputs": []
    },
    {
      "cell_type": "markdown",
      "source": [
        "The exports above will take a couple minutes to finish exporting. Once they have finished exporting, do the following steps for each image collection\n",
        "\n",
        "1. Navigate to the GEE Code Editor\n",
        "2. Click Assets in the top left\n",
        "3. Navigate to the image collection asset of interest and click on it.\n",
        "4. In the bottom left of the popup window, click the copy icon next to the text that says \"ImageCollection ID\"\n",
        "5. Click paste in the corresponding variable name below\n",
        "6. In the GEE window, Click Share in the upper right corner of the popup\n",
        "7. Click the box that says \"Anyone can read\". This will allow Collect Earth Online to read this asset when we import it.\n",
        "\n"
      ],
      "metadata": {
        "id": "F8Z_BYc7WpfY"
      }
    },
    {
      "cell_type": "markdown",
      "source": [
        "## MODIFIABLE VARIABLE ALERT"
      ],
      "metadata": {
        "id": "j_om1pmoacUA"
      }
    },
    {
      "cell_type": "code",
      "source": [
        "s1_asset_name = 'users/mickymags/flood_intercomparison_chad_09_26_take2/reference/s1ref'\n",
        "hls_asset_name = 'users/mickymags/flood_intercomparison_chad_09_26_take2/reference/hls_ref'\n",
        "hls_ndwi_asset_name = 'users/mickymags/flood_intercomparison_chad_09_26_take2/reference/hls_ndwi'"
      ],
      "metadata": {
        "id": "TzVRm0ldZ92Y"
      },
      "execution_count": null,
      "outputs": []
    },
    {
      "cell_type": "markdown",
      "source": [
        "Now let's add our image collections to the map. When we import imagery from Google Earth Engine into Collect Earth Online, we'll need to know two things:\n",
        "\n",
        "1. The asset ID of the image/image collection we want to pull in\n",
        "2. Some visualization parameters.\n",
        "\n",
        "Visualization parameters include the bands of the image we want to visualize, as well as the min and max value. We know which bands we want to visualize, but the minimum and maximum may be different depending on the region of interest. We can use the stretch function in the map display to find some good min/max values."
      ],
      "metadata": {
        "id": "BgYAuEdOZQt2"
      }
    },
    {
      "cell_type": "code",
      "source": [
        "initial_s1_vp = {'bands': ['HH']}         # We'll select the VV band here because it is better at identifying water\n",
        "\n",
        "initial_hls_vp = {'bands': ['B4', 'B3', 'B2']}\n",
        "\n",
        "intial_hls_ndwi_vp = {'bands': ['nd'], 'min': -1 , 'max': 1}  # For NDWI we know our min and max values"
      ],
      "metadata": {
        "id": "XpIamtndXKaH"
      },
      "execution_count": null,
      "outputs": []
    },
    {
      "cell_type": "code",
      "source": [
        "s1 = ee.ImageCollection(s1_asset_name)\n",
        "hls = ee.ImageCollection(hls_asset_name)\n",
        "hls_ndwi = ee.ImageCollection(hls_ndwi_asset_name)"
      ],
      "metadata": {
        "id": "2EZwNnaudDdH"
      },
      "execution_count": null,
      "outputs": []
    },
    {
      "cell_type": "code",
      "source": [
        "Map = geemap.Map(center = (lon, lat), zoom=4)\n",
        "\n",
        "Map.addLayer(s1, initial_s1_vp, 'Sentinel-1')\n",
        "Map.addLayer(hls, initial_hls_vp, 'Harmonized Landsat Sentinel')\n",
        "Map.addLayer(aoi)\n",
        "\n",
        "Map.addLayerControl()\n",
        "Map"
      ],
      "metadata": {
        "id": "U1003d3ocBhd"
      },
      "execution_count": null,
      "outputs": []
    },
    {
      "cell_type": "markdown",
      "source": [
        "For each layer except NDWI, click the gear icon next to the layer name and click different stretch options until you like how the visualization appears.\n",
        "\n",
        "* For HLS, the 1 sigma stretch seems to work good for me.\n",
        "* For S1, I use the 98% stretch in most cases\n",
        "\n",
        "Once you like the visualization, enter in the min and max values into the corresponding variables below. (You can see the min and max next to the \"Range\" text in the map visualization panel)"
      ],
      "metadata": {
        "id": "hiU_rJI0gK_c"
      }
    },
    {
      "cell_type": "code",
      "source": [
        "hls_final_vp = {\"bands\": [\"B4\", \"B3\", \"B2\"],\"min\":0,\"max\":0.3}\n",
        "s1_final_vp = {\"bands\": [\"VV\"], \"min\": -18.5, \"max\": -3.5}\n",
        "hls_ndwi_final_vp = {\"bands\": [\"nd\"], \"min\": -1 , \"max\": 1}"
      ],
      "metadata": {
        "id": "2T_3vI9_csRx"
      },
      "execution_count": null,
      "outputs": []
    },
    {
      "cell_type": "markdown",
      "source": [
        "Note that Collect Earth Online requires you to use double quotes. If you use single quotes you will get an error"
      ],
      "metadata": {
        "id": "2F5ODVvSmhXX"
      }
    },
    {
      "cell_type": "markdown",
      "source": [
        "Now that we have our visualization parameters, we're ready to import our imagery into Collect Earth Online. Follow the steps below to do so.\n",
        "\n",
        "1. Navigate to Collect Earth Online((https://app.collect.earth/home))\n",
        "2. Click Login in the upper right\n",
        "3. Create or join your project in the upper left.\n",
        "4. Navigate to your project homepage\n",
        "5. Click Imagery\n",
        "6. Click \"GEE Image Collection Asset\".\n",
        "7. Type in a title. This can be anything you want\n",
        "8. Enter the start and end date for which your data was filtered. In my case both the start date and end date are the same date\n",
        "7. Under Asset Id, enter in the variable you typed in for \"s1_asset_name\". Do not include the quotes\n",
        "8. Under visualization parameters, copy and paste in the visualization parameters from above, including the curly braces {}"
      ],
      "metadata": {
        "id": "zfEsWZqjhyDw"
      }
    },
    {
      "cell_type": "markdown",
      "source": [
        "# Step 5: Create our Collect Earth Online project\n",
        "\n",
        "1. Navigate to your Google Drive\n",
        "2. Download to the stratified sample CSV we exported to google drive. It should be called something similar to \"upload_ready_stratified_sample.csv\"\n",
        "3. Navigate to Collect Earth Online\n",
        "4. Go to your project homepage\n",
        "5. Click Create new Project\n",
        "6. Enter a name and description for your project.\n",
        "7. Click \"Collect Plot Confidence\" if you intend to collect the confidence of your interpreter for each plot. Click Next\n",
        "8. Click checkmarks next to all the imagery you want to use in this project. Click next.\n",
        "9. Under the text that says \"spatial distirubtion\", select **CSV** from the dropdown menu.\n",
        "10. Click Upload plot file. Navigate to the strat sample csv file you downloaded from Google Drive in step 2.\n",
        "11. Under the text that says plot width, enter in 30. Click Next\n",
        "12. Under the text that says \"spatial distribution\", click Center. Click Next.\n",
        "13. Next to the text that says \"Question text\", type in \"water?\"\n",
        "14. Click \"Add survey question\".\n",
        "15. Enter in answers for \"yes\", \"no\", and \"cloud\". Make them different colors and click the save button to the left of the question and possible answers.\n",
        "16. Click Next\n",
        "17. Click Next again.\n",
        "18. Click \"I agree to the Terms of Service\".\n",
        "19. Click \"Create Project\"\n",
        "20. Click \"ok\" on the popup\n",
        "21. Click \"Collect\" to start Collecting project data."
      ],
      "metadata": {
        "id": "3CcE2x6xQt-V"
      }
    },
    {
      "cell_type": "markdown",
      "source": [
        "# Step 6: Collect Reference Data\n",
        "\n",
        "1. For each Plot, categorize the entire yellow square as either water, nonwater, or cloud.\n",
        "2. For the purposes of our study, we consider any plots being more than 51% water to be of the \"water\" class. For any \"mixed pixels\", lower the confidence slider.\n",
        "3. After collecting all plots, return to the project homepage.\n",
        "4. Next to the project you collected data for, click the \"P\" to download the plot data.\n",
        "5. Navigate to [Google Earth Engine](https://code.earthengine.google.com/)\n",
        "6. Click the \"Assets\" tab in the top left\n",
        "7. Click the red \"new\" button\n",
        "8. Click \"CSV\" file\n",
        "9. Click the red Select button and navigate to the plot data you downloaded in part 4.\n",
        "10. Under the text that says \"Asset ID\", type in the path to your google earth engine folder and then type in \"/reference_data\". For example, my path reads \"users/mickymags/flood_intercomparison_chad_09_25_take2/reference_data\"\n",
        "10. Under the text that says \"X Column\", type in \"center_lon\"\n",
        "11. Under the text that says \"Y column\", type in \"center_lat\"\n",
        "12. Click \"upload\""
      ],
      "metadata": {
        "id": "mO_N60mXSwOr"
      }
    },
    {
      "cell_type": "markdown",
      "source": [
        "We now have all of our flood maps and some reference data. Finally, in Module 6, we will conduct an accuracy assessment where we compare each of our flood maps to the reference data we collected in Collect Earth Online."
      ],
      "metadata": {
        "id": "5DBhBr3pwa2E"
      }
    }
  ],
  "metadata": {
    "colab": {
      "provenance": [],
      "include_colab_link": true
    },
    "kernelspec": {
      "display_name": "Python 3",
      "name": "python3"
    },
    "language_info": {
      "name": "python"
    }
  },
  "nbformat": 4,
  "nbformat_minor": 0
}