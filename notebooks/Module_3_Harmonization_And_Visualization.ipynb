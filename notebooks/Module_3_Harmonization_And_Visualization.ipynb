{
  "cells": [
    {
      "cell_type": "markdown",
      "metadata": {
        "id": "view-in-github",
        "colab_type": "text"
      },
      "source": [
        "<a href=\"https://colab.research.google.com/github/SERVIR/flood_mapping_intercomparison/blob/main/notebooks/Module_3_Harmonization_And_Visualization.ipynb\" target=\"_parent\"><img src=\"https://colab.research.google.com/assets/colab-badge.svg\" alt=\"Open In Colab\"/></a>"
      ]
    },
    {
      "cell_type": "markdown",
      "source": [
        "# Introduction"
      ],
      "metadata": {
        "id": "oaHhtCme1x3d"
      }
    },
    {
      "cell_type": "markdown",
      "source": [
        "The goal of this module is to take the flood maps that we obtained from the global products, mosaic them, clip them, and assign to them all common raster values.\n",
        "\n",
        "Each of the products has their own unique raster values, which can be seen in [this table](https://docs.google.com/spreadsheets/d/15igmiH1EHjtiyprgx6LnF78lvNh2scZSnlc12ySr0PQ/edit?usp=sharing). This script will take each product and reassign its raster values to the following raster value scheme:\n",
        "\n",
        "Pixel Value            |        Land Cover Class\n",
        "---                    | :---:\n",
        "0                      |  Nonwater\n",
        "1                      |  Water\n",
        "2                      |  Masked (e.g. cloud, cloud shadow)\n",
        "\n",
        "**Table 1: Pixel Values Used for SERVIR's Flood Mapping Intercomparison Project**\n",
        "\n",
        "Previously, this manipulation of pixel values was done in Google Earth Engine, but in this module we will attempt to do so using GDAL"
      ],
      "metadata": {
        "id": "0VWFCgM-wa3c"
      }
    },
    {
      "cell_type": "markdown",
      "source": [
        "### MODIFIABLE VARIABLE ALERT\n",
        "\n",
        "Change the variables below to match your Google Earth Engine project and the Google Earth Engine Folder where you uploaded the flood maps we exported at the end of Module 2."
      ],
      "metadata": {
        "id": "ksDn2h2oRZ6s"
      }
    },
    {
      "cell_type": "code",
      "source": [
        "my_gdrive_folder = 'drive/My Drive/Flood_Intercomparison/Case_Studies/sep/sep_cambodia'\n",
        "flood_event_desc = 'sep_cambodia'"
      ],
      "metadata": {
        "id": "2BoiiMzqhwiO"
      },
      "execution_count": null,
      "outputs": []
    },
    {
      "cell_type": "code",
      "source": [
        "from google.colab import drive\n",
        "from osgeo import gdal\n",
        "import os\n",
        "import glob\n",
        "import shutil\n",
        "import numpy as np"
      ],
      "metadata": {
        "id": "eX3xJVk83YEF"
      },
      "execution_count": null,
      "outputs": []
    },
    {
      "cell_type": "code",
      "source": [
        "drive.mount('/content/drive/')"
      ],
      "metadata": {
        "id": "oRWWw1q9319K"
      },
      "execution_count": null,
      "outputs": []
    },
    {
      "cell_type": "markdown",
      "source": [
        "# Step 1: Import Imagery\n",
        "\n",
        "Get imagery from Google Drive"
      ],
      "metadata": {
        "id": "Xo6fysOy37mc"
      }
    },
    {
      "cell_type": "code",
      "source": [
        "cd .."
      ],
      "metadata": {
        "id": "P_jqqM5J9YTx"
      },
      "execution_count": null,
      "outputs": []
    },
    {
      "cell_type": "code",
      "source": [
        "pwd"
      ],
      "metadata": {
        "id": "KKcQO4v03iX6"
      },
      "execution_count": null,
      "outputs": []
    },
    {
      "cell_type": "code",
      "source": [
        "cd content"
      ],
      "metadata": {
        "id": "hBGk2dcz4EkV"
      },
      "execution_count": null,
      "outputs": []
    },
    {
      "cell_type": "code",
      "source": [
        "os.chdir(my_gdrive_folder)"
      ],
      "metadata": {
        "id": "8LjT4wFy3jvS"
      },
      "execution_count": null,
      "outputs": []
    },
    {
      "cell_type": "code",
      "source": [
        "ls"
      ],
      "metadata": {
        "id": "y681dxO43xPZ"
      },
      "execution_count": null,
      "outputs": []
    },
    {
      "cell_type": "markdown",
      "source": [
        "we want to duplicate our area of interest file"
      ],
      "metadata": {
        "id": "FFUG0DowQqWv"
      }
    },
    {
      "cell_type": "code",
      "source": [
        "mydir = '/content/' + my_gdrive_folder\n",
        "count = 0\n",
        "for i in os.listdir(mydir):\n",
        "  count +=1\n",
        "  source_path = glob.glob('drive_export_*')\n",
        "  stem = source_path[0].split('.')\n",
        "  destination_path = stem[0] + str(count) + '.' + stem[1]\n",
        "  #print(destination_path)\n",
        "  src_path = mydir + '/' + source_path[0]\n",
        "  dst_path = mydir + '/' + i + '/' + destination_path\n",
        "  shutil.copy(src_path, dst_path)\n",
        "  #if count < 6:\n",
        "  #  shutil.copy(src_path, dst_path)"
      ],
      "metadata": {
        "id": "zfQ6XZuSQv1e"
      },
      "execution_count": null,
      "outputs": []
    },
    {
      "cell_type": "markdown",
      "source": [
        "# Step 1: DSWx-HLS"
      ],
      "metadata": {
        "id": "E5GJaQMS62ZK"
      }
    },
    {
      "cell_type": "code",
      "source": [
        "cd dswx_hls"
      ],
      "metadata": {
        "id": "1xEvY3a24Ry3"
      },
      "execution_count": null,
      "outputs": []
    },
    {
      "cell_type": "code",
      "source": [
        "input_dswxhls = glob.glob('merged_dswxhls*')[0]\n",
        "output_dswxhls = f'intermediate_dswxhls_{flood_event_desc}.tif'\n",
        "\n",
        "in_dswxhls = gdal.Open(input_dswxhls)         # Open the dataset\n",
        "dswxhls_band = in_dswxhls.GetRasterBand(1)    # Get the first and only band from\n",
        "dswxhls_data = dswxhls_band.ReadAsArray()     # Read the data as an array so we can manipulate the values\n",
        "\n",
        "################# Set Nonwater Pixels to 0  ################\n",
        "# Pixel values of 252 are snow or ice according to dswxhls\n",
        "dswxhls_data[dswxhls_data == 252] = 0\n",
        "\n",
        "# Pixel Values of 2 are partial surface water according to dswxhls\n",
        "# in this study partial surface water will be considered nonwater\n",
        "dswxhls_data[dswxhls_data == 2] = 0\n",
        "\n",
        "############# Set Water Pixels to 1 ##################\n",
        "# Set Ocean Masked pixels to be equal to 1\n",
        "# Open Water Values are 1 so we do not have to change them\n",
        "dswxhls_data[dswxhls_data == 254] = 1\n",
        "\n",
        "###################### Set Masked Pixels to 2 ####################\n",
        "# Pixel values of 253 are associated with clouds or cloud shadows\n",
        "dswxhls_data[dswxhls_data == 253] = 2\n",
        "dswxhls_data[dswxhls_data == 255] = 2\n",
        "\n",
        "##### Create Output Raster Using The Same Driver and Metadata ##########\n",
        "driver = gdal.GetDriverByName('GTiff')\n",
        "out_ds = driver.Create(\n",
        "    output_dswxhls,\n",
        "    in_dswxhls.RasterXSize,    # Get the X Size of the Input DSWx-HLS Image\n",
        "    in_dswxhls.RasterYSize,    # Get the Y Size of the Input DSWx-HLS Image\n",
        "    1,                         # Get the Number of Bands of the Input DSWx-HLS Image\n",
        "    dswxhls_band.DataType      # Get the Datatype of the input DSWx-HLS Image\n",
        ")\n",
        "\n",
        "# Copy Spatial Metadata\n",
        "out_ds.SetGeoTransform(in_dswxhls.GetGeoTransform())      # Set the Geotransform of the output to be the same as the input\n",
        "out_ds.SetProjection(in_dswxhls.GetProjection())          # Set the Projection of the output to be the same as the input\n",
        "\n",
        "# Write Modified Array\n",
        "out_band = out_ds.GetRasterBand(1)                        # Get the first band of the output dataset\n",
        "out_band.WriteArray(dswxhls_data)                         # Write the modified array to the output band\n",
        "\n",
        "# Clean up\n",
        "out_band.FlushCache()\n",
        "in_ds = None\n",
        "out_ds = None"
      ],
      "metadata": {
        "id": "ND37OjYF4eKj"
      },
      "execution_count": null,
      "outputs": []
    },
    {
      "cell_type": "code",
      "source": [
        "inter_dswxhls = f'intermediate_dswxhls_{flood_event_desc}.tif'\n",
        "final_dswxhls = f'harmonized_dswxhls_{flood_event_desc}.tif'\n",
        "vector_dswxhls = glob.glob('drive_export*')[0]\n",
        "\n",
        "gdal.Warp(\n",
        "    final_dswxhls,\n",
        "    inter_dswxhls,\n",
        "    cutlineDSName=vector_dswxhls,\n",
        "    cropToCutline=True,\n",
        "    dstNodata = 2\n",
        ")"
      ],
      "metadata": {
        "id": "ALRHmEV2Ptuj"
      },
      "execution_count": null,
      "outputs": []
    },
    {
      "cell_type": "markdown",
      "source": [
        "# Step 2: DSWx-S1"
      ],
      "metadata": {
        "id": "YuZAFE9GNfNq"
      }
    },
    {
      "cell_type": "code",
      "source": [
        "# Navigate to the DSWx-S1 Repository\n",
        "os.chdir('..')\n",
        "os.chdir('dswxs1')"
      ],
      "metadata": {
        "id": "ID-dwseqNup1"
      },
      "execution_count": null,
      "outputs": []
    },
    {
      "cell_type": "code",
      "source": [
        "ls inter*"
      ],
      "metadata": {
        "id": "tlG3SzYbWyca"
      },
      "execution_count": null,
      "outputs": []
    },
    {
      "cell_type": "code",
      "source": [
        "input_dswxs1 = glob.glob('merged_dswxs1*')[0]\n",
        "inter_dswxs1 = f'intermediate_dswxs1_{flood_event_desc}.tif'\n",
        "\n",
        "in_dswxs1 = gdal.Open(input_dswxs1)            # Open the dataset\n",
        "dswxs1_band = in_dswxs1.GetRasterBand(1)       # Get the first and only band from the dataset\n",
        "dswxs1_data = dswxs1_band.ReadAsArray()        # Read the data as an array so we can manipulate the values\n",
        "\n",
        "################# Set Nonwater Pixels to 0  ################\n",
        "# Pixel Values of 250 are areas where the height above nearest drainage is higher than the\n",
        "# threshold set by the DSWX-S1 developers, so they are assumed to be nonwater as it would be\n",
        "# illogical for water to be found at such a heigh above the nearest drainage.\n",
        "dswxs1_data[dswxs1_data == 250] = 0\n",
        "# Nonwater pixels are already set to 0\n",
        "\n",
        "############### Set Water Pixels to 1 #########################\n",
        "# DSWx-S1 already has water set to 1 so we don't have to do anything here\n",
        "\n",
        "###################### Set Masked Pixels to 2 ####################\n",
        "# Pixel values of 251 are layover or shadow masked\n",
        "dswxs1_data[dswxs1_data == 251] = 2\n",
        "# Pixel Values of 255 are no data or fill values\n",
        "dswxs1_data[dswxs1_data == 255] = 2\n",
        "\n",
        "##### Create Output Raster Using The Same Driver and Metadata ##########\n",
        "driver = gdal.GetDriverByName('GTiff')     # Get the GTiff Driver\n",
        "out_ds = driver.Create(                    # Use the Create method to create the dataset\n",
        "    inter_dswxs1,\n",
        "    in_dswxs1.RasterXSize,                 # Get the X Size of the Input DSWx-HLS Image\n",
        "    in_dswxs1.RasterYSize,                 # Get the Y Size of the Input DSWx-HLS Image\n",
        "    1,                                     # Get the number of bands of the Input DSWx-HLS Image\n",
        "    dswxs1_band.DataType                   # Get the Datatype of the input DSWx-HLS Image\n",
        ")\n",
        "\n",
        "# Copy Spatial Metadata\n",
        "out_ds.SetGeoTransform(in_dswxs1.GetGeoTransform())   # Set the geotransform of the output to be the same as the input image\n",
        "out_ds.SetProjection(in_dswxs1.GetProjection())       # Set the projection of the output to be the same as the input image\n",
        "\n",
        "# Write Modified Array\n",
        "out_band = out_ds.GetRasterBand(1)                    # Get the first band of the output dataset\n",
        "out_band.WriteArray(dswxs1_data)                      # Write the modified array to this band of the output dataset.\n",
        "\n",
        "# Clean up\n",
        "out_band.FlushCache()\n",
        "in_ds = None\n",
        "out_ds = None"
      ],
      "metadata": {
        "id": "pvgnmqacNg8a"
      },
      "execution_count": null,
      "outputs": []
    },
    {
      "cell_type": "code",
      "source": [
        "inter_dswxs1 = f'intermediate_dswxs1_{flood_event_desc}.tif'\n",
        "final_dswxs1 = f'harmonized_dswxs1_{flood_event_desc}.tif'\n",
        "vector_dswxs1 = glob.glob('drive_export*')[0]\n",
        "\n",
        "gdal.Warp(\n",
        "    final_dswxs1,\n",
        "    inter_dswxs1,\n",
        "    cutlineDSName=vector_dswxs1,\n",
        "    cropToCutline=True,\n",
        "    dstNodata = 2\n",
        ")"
      ],
      "metadata": {
        "id": "e5SIH4ZYWTlN"
      },
      "execution_count": null,
      "outputs": []
    },
    {
      "cell_type": "markdown",
      "source": [
        "# Step 3: GFM"
      ],
      "metadata": {
        "id": "ULZjsWy-S6mr"
      }
    },
    {
      "cell_type": "markdown",
      "source": [
        "GFM has only 0s and 1s, so we do not need to alter the symbology here. But we will clip the image to our area of interest."
      ],
      "metadata": {
        "id": "Fb6jWF85oaoH"
      }
    },
    {
      "cell_type": "code",
      "source": [
        "os.chdir('../GFM')"
      ],
      "metadata": {
        "id": "06y0J31kX-bQ"
      },
      "execution_count": null,
      "outputs": []
    },
    {
      "cell_type": "code",
      "source": [
        "inter_gfm = f'merged_gfm_{flood_event_desc}.tif'\n",
        "final_gfm = f'harmonized_gfm_{flood_event_desc}.tif'\n",
        "vector_gfm = glob.glob('drive_export*')[0]\n",
        "\n",
        "gdal.Warp(\n",
        "    final_gfm,\n",
        "    inter_gfm,\n",
        "    cutlineDSName=vector_gfm,\n",
        "    cropToCutline=True,\n",
        "    dstNodata = 2\n",
        ")"
      ],
      "metadata": {
        "id": "KpkZYhMSYC3e"
      },
      "execution_count": null,
      "outputs": []
    },
    {
      "cell_type": "code",
      "source": [
        "ls harm*"
      ],
      "metadata": {
        "id": "MH9lk89_ao1P"
      },
      "execution_count": null,
      "outputs": []
    },
    {
      "cell_type": "markdown",
      "source": [
        "# Step 4: HYDRAFloods"
      ],
      "metadata": {
        "id": "KKact7B3ZdYF"
      }
    },
    {
      "cell_type": "markdown",
      "source": [
        "HYDRAFloods has only 0s and 1s, so we do not need to alter the symbology here. But we will clip the image to our area of interest."
      ],
      "metadata": {
        "id": "wdwkqJLJ7AkU"
      }
    },
    {
      "cell_type": "code",
      "source": [
        "os.chdir('../GFM')"
      ],
      "metadata": {
        "id": "u45ffFQwZkua"
      },
      "execution_count": null,
      "outputs": []
    },
    {
      "cell_type": "code",
      "source": [
        "inter_hydrafloods = f'merged_hydrafloods_{flood_event_desc}.tif'\n",
        "final_hydrafloods = f'harmonized_hydrafloods_{flood_event_desc}.tif'\n",
        "vector_hydrafloods = glob.glob('drive_export*')[0]\n",
        "\n",
        "gdal.Warp(\n",
        "    final_hydrafloods,\n",
        "    inter_hydrafloods,\n",
        "    cutlineDSName=vector_gfm,\n",
        "    cropToCutline=True,\n",
        "    dstNodata = 2\n",
        ")"
      ],
      "metadata": {
        "id": "hliuFSbRYvyM"
      },
      "execution_count": null,
      "outputs": []
    },
    {
      "cell_type": "markdown",
      "source": [
        "# Step 5: HYDROSAR"
      ],
      "metadata": {
        "id": "fl8pubUlZ4iy"
      }
    },
    {
      "cell_type": "markdown",
      "source": [
        "HYDROSAR has only 0s and 1s, so we do not need to alter the symbology here. But we will clip the image to our area of interest."
      ],
      "metadata": {
        "id": "7Kvsedro71ik"
      }
    },
    {
      "cell_type": "code",
      "source": [
        "os.chdir('..')"
      ],
      "metadata": {
        "id": "otp6_BKddSQV"
      },
      "execution_count": null,
      "outputs": []
    },
    {
      "cell_type": "code",
      "source": [
        "os.chdir('HYDROSAR')"
      ],
      "metadata": {
        "id": "MtkQdWLsaIkB"
      },
      "execution_count": null,
      "outputs": []
    },
    {
      "cell_type": "code",
      "source": [
        "pwd"
      ],
      "metadata": {
        "id": "7HkzfYuAcnZm"
      },
      "execution_count": null,
      "outputs": []
    },
    {
      "cell_type": "code",
      "source": [],
      "metadata": {
        "id": "cpgclV2P_eha"
      },
      "execution_count": null,
      "outputs": []
    },
    {
      "cell_type": "code",
      "source": [
        "ls merg*"
      ],
      "metadata": {
        "id": "j9RV9PdMcR3Z"
      },
      "execution_count": null,
      "outputs": []
    },
    {
      "cell_type": "code",
      "source": [
        "inter_hydrosar = f'merged_hydrosar{flood_event_desc}.tif'\n",
        "final_hydrosar = f'harmonized_hydrosar_{flood_event_desc}.tif'\n",
        "vector_hydrosar = glob.glob('drive_export*')[0]\n",
        "\n",
        "gdal.Warp(\n",
        "    final_hydrosar,\n",
        "    inter_hydrosar,\n",
        "    cutlineDSName=vector_hydrosar,\n",
        "    cropToCutline=True,\n",
        "    dstNodata = 2\n",
        ")"
      ],
      "metadata": {
        "id": "nxVDAgz0aL1P"
      },
      "execution_count": null,
      "outputs": []
    },
    {
      "cell_type": "code",
      "source": [
        "ls harm*"
      ],
      "metadata": {
        "id": "2sEroBOfeEZC"
      },
      "execution_count": null,
      "outputs": []
    },
    {
      "cell_type": "markdown",
      "source": [
        "# Step 6: MCDWD"
      ],
      "metadata": {
        "id": "434oRmYyZ6IW"
      }
    },
    {
      "cell_type": "markdown",
      "source": [
        "More research needed on MCDWD"
      ],
      "metadata": {
        "id": "6GWTe6FxgKCj"
      }
    },
    {
      "cell_type": "code",
      "source": [
        "pwd"
      ],
      "metadata": {
        "id": "vLv8LFyC9Fz2"
      },
      "execution_count": null,
      "outputs": []
    },
    {
      "cell_type": "code",
      "source": [
        "# Navigate to the MCDWD directory\n",
        "os.chdir('..')\n",
        "os.chdir('MCDWD')"
      ],
      "metadata": {
        "id": "6H7H0DIVaEeD"
      },
      "execution_count": null,
      "outputs": []
    },
    {
      "cell_type": "code",
      "source": [
        "input_mcdwd = glob.glob('merged_mcdwd*')[0]\n",
        "inter_mcdwd = f'harmonized_mcdwd_{flood_event_desc}.tif'\n",
        "\n",
        "in_mcdwd = gdal.Open(input_mcdwd)\n",
        "mcdwd_band = in_mcdwd.GetRasterBand(1)\n",
        "mcdwd_data = mcdwd_band.ReadAsArray()\n",
        "\n",
        "################# Set Nonwater Pixels to 0  ################\n",
        "# Nonwater is already set to 0 by the MCDWD algorithm\n",
        "\n",
        "############### Set Water Pixels to 1 #########################\n",
        "# Pixel Values of 1 indicate regular surface water according to the MCDWD algorithm\n",
        "# We do not need to alter these values\n",
        "\n",
        "# Pixel Values of 2 indicate a recurring flood according to the MCDWD algorithm\n",
        "mcdwd_data[mcdwd_data == 2] = 1\n",
        "\n",
        "# Pixel Values of 3 indicate floodwater according to the MCDWD algorithm\n",
        "mcdwd_data[mcdwd_data == 3] = 1\n",
        "\n",
        "###################### Set Masked Pixels to 2 ####################\n",
        "## More research needed on masked pixels, not sure how to access mask value in GDAL. .GetMaskBand() only returns an array of all 255\n",
        "\n",
        "##### Create Output Raster Using The Same Driver and Metadata ##########\n",
        "driver = gdal.GetDriverByName('GTiff')     # Get the GTiff Driver\n",
        "out_ds = driver.Create(                    # Use the Create method to create the dataset\n",
        "    inter_mcdwd,\n",
        "    in_mcdwd.RasterXSize,                 # Get the X Size of the Input DSWx-HLS Image\n",
        "    in_mcdwd.RasterYSize,                 # Get the Y Size of the Input DSWx-HLS Image\n",
        "    1,                                     # Get the number of bands of the Input DSWx-HLS Image\n",
        "    mcdwd_band.DataType                   # Get the Datatype of the input DSWx-HLS Image\n",
        ")\n",
        "\n",
        "# Copy Spatial Metadata\n",
        "out_ds.SetGeoTransform(in_mcdwd.GetGeoTransform())   # Set the geotransform of the output to be the same as the input image\n",
        "out_ds.SetProjection(in_mcdwd.GetProjection())       # Set the projection of the output to be the same as the input image\n",
        "\n",
        "# Write Modified Array\n",
        "out_band = out_ds.GetRasterBand(1)                    # Get the first band of the output dataset\n",
        "out_band.WriteArray(mcdwd_data)                      # Write the modified array to this band of the output dataset.\n",
        "\n",
        "# Clean up\n",
        "out_band.FlushCache()\n",
        "in_ds = None\n",
        "out_ds = None"
      ],
      "metadata": {
        "id": "VbNlK6k-aEOZ"
      },
      "execution_count": null,
      "outputs": []
    },
    {
      "cell_type": "markdown",
      "source": [
        "# Step 7: VFM"
      ],
      "metadata": {
        "id": "s0tZda7hZ75b"
      }
    },
    {
      "cell_type": "code",
      "source": [
        "# Navigate to the VFM Directory\n",
        "os.chdir('../VFM')"
      ],
      "metadata": {
        "id": "gNY3GxOUgeur"
      },
      "execution_count": null,
      "outputs": []
    },
    {
      "cell_type": "code",
      "source": [
        "input_vfm = glob.glob('merged_vfm*')[0]\n",
        "inter_vfm = f'harmonized_vfm_{flood_event_desc}.tif'\n",
        "\n",
        "in_vfm = gdal.Open(input_vfm)\n",
        "vfm_band = in_vfm.GetRasterBand(1)\n",
        "vfm_data = vfm_band.ReadAsArray()\n",
        "\n",
        "################# Set Nonwater Pixels to 0  ################\n",
        "# Pixel Values of 16 indicate clear-sky bare land\n",
        "vfm_data[vfm_data == 16] = 0\n",
        "\n",
        "# Pixel Values of 17 indicate clear-sky vegetation\n",
        "vfm_data[vfm_data == 17] = 0\n",
        "\n",
        "# Pixel Values of 20 indicate snow cover\n",
        "vfm_data[vfm_data == 20] = 0\n",
        "\n",
        "# Pixel Values of 25 indicate ice\n",
        "vfm_data[vfm_data == 25] = 0\n",
        "\n",
        "# Pixel Values of 27 indicate river/lake covered in ice\n",
        "vfm_data[vfm_data == 27] = 0\n",
        "\n",
        "# Pixel Values of 38 indicate supra-snow ice water, mixed ice and water, or melting ice\n",
        "vfm_data[vfm_data == 38] = 0\n",
        "\n",
        "# Pixel Values between 100 and 150 indicate the relative percentage of a flooded pixel\n",
        "# that has been identified to be water. 101 corresponds to 1% flooded, 150 corresponds to 50% flooded, etc.\n",
        "vfm_data[(vfm_data > 100) & (vfm_data < 150)] = 0\n",
        "\n",
        "###################### Set Masked Pixels to 2 ####################\n",
        "# Pixel Values of 1 indicate bad data pixels\n",
        "vfm_data[vfm_data == 1] = 2\n",
        "\n",
        "# Pixel Values of 30 indicate pixels where there is cloud cover\n",
        "vfm_data[vfm_data == 30] = 2\n",
        "\n",
        "# Pixel Values of 50 indicte pixels that have shadows from clouds or terrain\n",
        "vfm_data[vfm_data == 50] = 2\n",
        "\n",
        "\n",
        "############### Set Water Pixels to 1 #########################\n",
        "# Pixel Values of 15 indicate open water without water fraction retrieval\n",
        "vfm_data[vfm_data == 15] = 1\n",
        "\n",
        "# Pixel Values of 99 indicate open normal water from a river, lake, reservation, ocean\n",
        "vfm_data[vfm_data == 99] = 1\n",
        "\n",
        "# Pixel values greater than 150 indicate a pixel is 50% flooded or more\n",
        "vfm_data[vfm_data >= 150] = 1\n",
        "\n",
        "##### Create Output Raster Using The Same Driver and Metadata ##########\n",
        "driver = gdal.GetDriverByName('GTiff')\n",
        "out_ds = driver.Create(\n",
        "    inter_vfm,\n",
        "    in_vfm.RasterXSize,\n",
        "    in_vfm.RasterYSize,\n",
        "    1,\n",
        "    vfm_band.DataType\n",
        ")\n",
        "\n",
        "# Copy Spatial Metadata\n",
        "out_ds.SetGeoTransform(in_vfm.GetGeoTransform())\n",
        "out_ds.SetProjection(in_vfm.GetProjection())\n",
        "\n",
        "# Write Modified Array\n",
        "out_band = out_ds.GetRasterBand(1)\n",
        "out_band.WriteArray(vfm_data)\n",
        "\n",
        "# Clean up\n",
        "out_band.FlushCache()\n",
        "in_ds = None\n",
        "out_ds = None"
      ],
      "metadata": {
        "id": "ENXMtPW_gd23"
      },
      "execution_count": null,
      "outputs": []
    },
    {
      "cell_type": "code",
      "source": [
        "vfm_data"
      ],
      "metadata": {
        "id": "c9G4TaNKpUj1"
      },
      "execution_count": null,
      "outputs": []
    },
    {
      "cell_type": "markdown",
      "source": [
        "Now all of our flood maps are \"harmonized\", meaning they all have 0s representing nonwater, 1s representing surface water, and 2s being masked. All of these harmonized flood maps can be found in the Google Drive Folder you defined at the beginning of this notebook. The names of the harmonized files are below. With the exception of HYDRAFloods, each file below belongs to the subdirectory corresponding to the product name within the folder you defined (so the DSWx-HLS harmonized map is located in the DSWx-HLS subfolder). HYDRAFloods will be located in the parent folder.\n",
        "\n",
        "* DSWx-HLS: 'harmonized_dswxhls_your_event_description.tif'\n",
        "* DSWx-S1: 'harmonized_dswxhls_your_event_description.tif'\n",
        "* GFM: 'harmonized_gfm_your_event_description.tif'\n",
        "* HYDRAFloods: 'hydrafloods_your_event_description.tif'\n",
        "* HYDROSAR: 'harmonized_hydrosar_your_event_description.tif'\n",
        "* MCDWD: 'harmonized_mcdwd_your_event_description.tif'\n",
        "* VFM: 'harmonized_vfm_your_event_description.tif'"
      ],
      "metadata": {
        "id": "aXTyROehKqWU"
      }
    }
  ],
  "metadata": {
    "colab": {
      "provenance": [],
      "include_colab_link": true
    },
    "kernelspec": {
      "display_name": "Python 3",
      "name": "python3"
    },
    "language_info": {
      "name": "python"
    }
  },
  "nbformat": 4,
  "nbformat_minor": 0
}