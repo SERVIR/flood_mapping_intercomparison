{
  "cells": [
    {
      "cell_type": "markdown",
      "metadata": {
        "id": "view-in-github",
        "colab_type": "text"
      },
      "source": [
        "<a href=\"https://colab.research.google.com/github/SERVIR/flood_mapping_intercomparison/blob/main/notebooks/Module_8_Resampling.ipynb\" target=\"_parent\"><img src=\"https://colab.research.google.com/assets/colab-badge.svg\" alt=\"Open In Colab\"/></a>"
      ]
    },
    {
      "cell_type": "markdown",
      "source": [
        "In this module, we will resample all of our products to a common pixel size. Since 4 of our 7 products already have a pixel size of 30 meters, we will use 30 meters as our shared pixel size.\n",
        "\n",
        "To accomplish this, we will use the gdal.Warp method. gdal.Warp takes the following optional arguments (among others):\n",
        "* xRes\n",
        "* yRes\n",
        "* resampleAlg\n",
        "\n",
        "Since we want to create square pixels measuring 30 meters by 30 meters in size, we will set xRes and yRes to both equal 30. The resampleAlg argument determines how the input map will go about determining the pixel value for each output 30x30m pixel. There are several options for this argument. In this case, we will use 'mode', which is the Mode resampling algorithm."
      ],
      "metadata": {
        "id": "Bd4ryEn2lszm"
      }
    },
    {
      "cell_type": "code",
      "source": [],
      "metadata": {
        "id": "5W7nqTw_l3lJ"
      },
      "execution_count": null,
      "outputs": []
    },
    {
      "cell_type": "markdown",
      "metadata": {
        "id": "xxb7X-hvMnLP"
      },
      "source": [
        "# Step 1: Import packages"
      ]
    },
    {
      "cell_type": "code",
      "execution_count": null,
      "metadata": {
        "id": "n07orLu6Mpt1"
      },
      "outputs": [],
      "source": [
        "import ee\n",
        "import geemap\n",
        "from google.colab import drive\n",
        "import os\n",
        "import glob\n",
        "from osgeo import gdal\n",
        "import numpy as np\n",
        "import pandas as pd\n",
        "import time"
      ]
    },
    {
      "cell_type": "code",
      "execution_count": null,
      "metadata": {
        "id": "kuDFCKyQpawK"
      },
      "outputs": [],
      "source": [
        "ee.Authenticate()\n",
        "\n",
        "ee.Initialize(project='servir-sco-assets')"
      ]
    },
    {
      "cell_type": "markdown",
      "metadata": {
        "id": "W6y1FZ23uqkR"
      },
      "source": [
        "# MODIFIABLE VARIABLE ALERT"
      ]
    },
    {
      "cell_type": "code",
      "execution_count": null,
      "metadata": {
        "id": "SoEql5pmrtiC"
      },
      "outputs": [],
      "source": [
        "my_gee_folder = \"users/mickymags/flood_intercomparison_chad_09_26_take2/\"\n",
        "my_Gdrive_folder = \"/content/drive/MyDrive/Flood_Intercomparison/Case_Studies/confirmed_case_studies/cambodia_20241001/\"\n",
        "other_Gdrive_folder = \"/content/drive/MyDrive/Flood_Intercomparison/Case_Studies/Flood_Intercomparison/\"\n",
        "flood_event_desc = 'chad_20240926'\n",
        "time_id = '05280442'                # put in a string correlating to the current time which you are running the code -- will help with identifying exports"
      ]
    },
    {
      "cell_type": "code",
      "execution_count": null,
      "metadata": {
        "id": "YyLO0Vj2u0Py"
      },
      "outputs": [],
      "source": [
        "aoi = ee.FeatureCollection(my_gee_folder + \"aoi\")\n",
        "roi = aoi.geometry()\n",
        "aoi_centroid = aoi.geometry().centroid()             # Get the center of the AOI\n",
        "lon = aoi_centroid.coordinates().get(0).getInfo()    # Extract the longitude from the centroid\n",
        "lat = aoi_centroid.coordinates().get(1).getInfo()    # Extract the latitude from the centroid"
      ]
    },
    {
      "cell_type": "markdown",
      "metadata": {
        "id": "bfFuTWdUMixD"
      },
      "source": [
        "# Step 2: Resample GFM, MCDWD, and VFM products (and maybe HYDROSAR)\n",
        "\n",
        "In order to run object extraction statistics, we must have all products in a common projection. Thus, we will use gdal.Warp to resample these products to 30 meters"
      ]
    },
    {
      "cell_type": "code",
      "source": [
        "drive.mount('/content/drive/')"
      ],
      "metadata": {
        "id": "KSeP-QI_nbNv"
      },
      "execution_count": null,
      "outputs": []
    },
    {
      "cell_type": "code",
      "source": [
        "os.chdir(my_Gdrive_folder)"
      ],
      "metadata": {
        "id": "XmqXXoodnlGp"
      },
      "execution_count": null,
      "outputs": []
    },
    {
      "cell_type": "code",
      "source": [
        "pwd"
      ],
      "metadata": {
        "id": "7GT6ArQ1nouI"
      },
      "execution_count": null,
      "outputs": []
    },
    {
      "cell_type": "code",
      "source": [
        "ls"
      ],
      "metadata": {
        "id": "Q2yb3FDnnpbm"
      },
      "execution_count": null,
      "outputs": []
    },
    {
      "cell_type": "markdown",
      "source": [
        "## Step 2 Part 1: GFM"
      ],
      "metadata": {
        "id": "edVXR6I0pxtc"
      }
    },
    {
      "cell_type": "code",
      "source": [
        "os.chdir('GFM')"
      ],
      "metadata": {
        "id": "ff32kA6-nrIN"
      },
      "execution_count": null,
      "outputs": []
    },
    {
      "cell_type": "code",
      "source": [
        "ls m*"
      ],
      "metadata": {
        "id": "3c8G0rI9ns4x"
      },
      "execution_count": null,
      "outputs": []
    },
    {
      "cell_type": "code",
      "source": [
        "infile = glob.glob('merged*')[0]"
      ],
      "metadata": {
        "id": "B1LrqAL4ntrB"
      },
      "execution_count": null,
      "outputs": []
    },
    {
      "cell_type": "code",
      "source": [
        "infile"
      ],
      "metadata": {
        "id": "MKkgQtshn16g"
      },
      "execution_count": null,
      "outputs": []
    },
    {
      "cell_type": "code",
      "source": [
        "outfile = 'gfm_resampled_' + flood_event_desc + '.tif'"
      ],
      "metadata": {
        "id": "FIdKeS5mn2gQ"
      },
      "execution_count": null,
      "outputs": []
    },
    {
      "cell_type": "code",
      "source": [
        "info = gdal.Info(infile)\n",
        "find = info.find('Data axis')\n",
        "proj = info[find-8:find-3]\n",
        "my_proj = 'EPSG:'+proj\n",
        "print(my_proj)"
      ],
      "metadata": {
        "id": "laRB8fskoZsa"
      },
      "execution_count": null,
      "outputs": []
    },
    {
      "cell_type": "code",
      "source": [
        "gdal.Warp(outfile, infile, dstSRS=my_proj, resampleAlg='mode', xRes=30, yRes=30)"
      ],
      "metadata": {
        "id": "0BpQ54SdoF1t"
      },
      "execution_count": null,
      "outputs": []
    },
    {
      "cell_type": "code",
      "source": [
        "ls gfm_re*"
      ],
      "metadata": {
        "id": "z50_Uw9rpkg4"
      },
      "execution_count": null,
      "outputs": []
    },
    {
      "cell_type": "markdown",
      "source": [
        "## Step 2 Part 2: MCDWD"
      ],
      "metadata": {
        "id": "-20SlKoIp1Pz"
      }
    },
    {
      "cell_type": "code",
      "source": [
        "os.chdir('../MCDWD')"
      ],
      "metadata": {
        "id": "YjwQxu9fp5gf"
      },
      "execution_count": null,
      "outputs": []
    },
    {
      "cell_type": "code",
      "source": [
        "pwd"
      ],
      "metadata": {
        "id": "HHfiwgqsp7r9"
      },
      "execution_count": null,
      "outputs": []
    },
    {
      "cell_type": "code",
      "source": [
        "mcdwd_infile = infile = glob.glob('merged*')[0]"
      ],
      "metadata": {
        "id": "5wQp1yuPp8HA"
      },
      "execution_count": null,
      "outputs": []
    },
    {
      "cell_type": "code",
      "source": [
        "mcdwd_infile"
      ],
      "metadata": {
        "id": "sQjuPZNaqBWI"
      },
      "execution_count": null,
      "outputs": []
    },
    {
      "cell_type": "code",
      "source": [
        "ls m*"
      ],
      "metadata": {
        "id": "ibhzmHgiCXDB"
      },
      "execution_count": null,
      "outputs": []
    },
    {
      "cell_type": "code",
      "source": [
        "mcdwd_outfile = 'mcdwd_resampled_' + flood_event_desc + '.tif'"
      ],
      "metadata": {
        "id": "UKtsEhiYqEmk"
      },
      "execution_count": null,
      "outputs": []
    },
    {
      "cell_type": "code",
      "source": [
        "gdal.Warp(mcdwd_outfile, mcdwd_infile, dstSRS=my_proj, resampleAlg='mode', xRes=30, yRes=30)"
      ],
      "metadata": {
        "id": "rdpyR30MqJP9"
      },
      "execution_count": null,
      "outputs": []
    },
    {
      "cell_type": "code",
      "source": [
        "ls mcdwd_re*"
      ],
      "metadata": {
        "id": "FQWL-VmvF4B3"
      },
      "execution_count": null,
      "outputs": []
    },
    {
      "cell_type": "markdown",
      "source": [
        "## Step 2 Part 3: VFM"
      ],
      "metadata": {
        "id": "iQtXx68Yp26z"
      }
    },
    {
      "cell_type": "code",
      "source": [
        "os.chdir('../VFM')"
      ],
      "metadata": {
        "id": "PAqMesUEpru2"
      },
      "execution_count": null,
      "outputs": []
    },
    {
      "cell_type": "code",
      "source": [
        "pwd"
      ],
      "metadata": {
        "id": "pctt_cFF51T3"
      },
      "execution_count": null,
      "outputs": []
    },
    {
      "cell_type": "code",
      "source": [
        "vfm_infile = infile = glob.glob('merged*')[0]"
      ],
      "metadata": {
        "id": "BtaDcvGOqUqU"
      },
      "execution_count": null,
      "outputs": []
    },
    {
      "cell_type": "code",
      "source": [
        "vfm_outfile = 'vfm_resampled_' + flood_event_desc + '.tif'"
      ],
      "metadata": {
        "id": "J0nTMVTz52cL"
      },
      "execution_count": null,
      "outputs": []
    },
    {
      "cell_type": "code",
      "source": [
        "vfm_infile"
      ],
      "metadata": {
        "id": "DGiqx-6ZF8xO"
      },
      "execution_count": null,
      "outputs": []
    },
    {
      "cell_type": "code",
      "source": [
        "gdal.Warp(vfm_outfile, vfm_infile, dstSRS=my_proj, resampleAlg='mode', xRes=30, yRes=30)"
      ],
      "metadata": {
        "id": "QDaPLTnz6Bh5"
      },
      "execution_count": null,
      "outputs": []
    },
    {
      "cell_type": "code",
      "source": [
        "ls v*"
      ],
      "metadata": {
        "id": "6INtuj76VmkC"
      },
      "execution_count": null,
      "outputs": []
    },
    {
      "cell_type": "code",
      "source": [
        "pwd"
      ],
      "metadata": {
        "id": "DgMl46m5Vo8n"
      },
      "execution_count": null,
      "outputs": []
    },
    {
      "cell_type": "markdown",
      "source": [
        "## Step 2 Part 4: HYDROSAR"
      ],
      "metadata": {
        "id": "dTC0sL2Dk7sE"
      }
    },
    {
      "cell_type": "markdown",
      "source": [
        "In some cases, HYDROSAR will not have a pixel size of 30 meters. If it does not, we will undergo the same workflow we did for VFM, GFM, and MCDWD. Let's check the pixel size of HYDROSAR"
      ],
      "metadata": {
        "id": "UM3JoM8mk-m2"
      }
    },
    {
      "cell_type": "code",
      "source": [
        "hydrosar_pixel_size = hydrosar.projection().nominalScale().getInfo()\n",
        "\n",
        "if hydrosar_pixel_size == 30:\n",
        "  print(\"HYDROSAR has a pixel size of 30 meters. Skip to step 3.\")\n",
        "else:\n",
        "  print(\"HYDROSAR has a pixel size slightly different than 30 meters. Continue running the code below.\")"
      ],
      "metadata": {
        "id": "GciLRyYPlXeK"
      },
      "execution_count": null,
      "outputs": []
    },
    {
      "cell_type": "code",
      "source": [
        "os.chdir('../HYDROSAR')"
      ],
      "metadata": {
        "id": "lI3LOGyamAWh"
      },
      "execution_count": null,
      "outputs": []
    },
    {
      "cell_type": "code",
      "source": [
        "hydrosar_infile = infile = glob.glob('merged*')[0]"
      ],
      "metadata": {
        "id": "kjwkLsy0mCYq"
      },
      "execution_count": null,
      "outputs": []
    },
    {
      "cell_type": "code",
      "source": [
        "hydrosar_outfile = 'vfm_resampled_' + flood_event_desc + '.tif'"
      ],
      "metadata": {
        "id": "8Vv3Mqd6mF5-"
      },
      "execution_count": null,
      "outputs": []
    },
    {
      "cell_type": "code",
      "source": [
        "gdal.Warp(hydrosar_outfile, hydrosar_infile, dstSRS=my_proj, resampleAlg='mode', xRes=30, yRes=30)"
      ],
      "metadata": {
        "id": "VXtlYtUTebx9"
      },
      "execution_count": null,
      "outputs": []
    },
    {
      "cell_type": "markdown",
      "source": [
        "# Step 3: Run Harmonization Module again\n",
        "\n",
        "For GFM, MCDWD, and VFM, (and maybe HYDROSAR), download the images to your Google Drive. Then, upload the resampled images to Google Earth Engine. For each image, make the asset id equivalent to the google earth engine folder, followed by \"x_resampled_mosaic\" where x is the name of your flood product. Now we will rerun the harmonization module on each image"
      ],
      "metadata": {
        "id": "wG7pfdnvrWVs"
      }
    },
    {
      "cell_type": "code",
      "source": [
        "mcdwd_resampled = ee.Image(my_gee_folder + 'mcdwd_resampled_mosaic')\n",
        "gfm_resampled = ee.Image(my_gee_folder + 'gfm_resampled_mosaic')\n",
        "vfm_resampled = ee.Image(my_gee_folder + 'vfm_resampled_mosaic')"
      ],
      "metadata": {
        "id": "j7CntKkmrykH"
      },
      "execution_count": null,
      "outputs": []
    },
    {
      "cell_type": "markdown",
      "source": [
        "## Step 3 Part 1: VFM Resampled Harmonization"
      ],
      "metadata": {
        "id": "ccJMqPplsWqB"
      }
    },
    {
      "cell_type": "code",
      "source": [
        "#############################################################################\n",
        "#   Part 2: Create a function to reassign pixel values to our new schema    #\n",
        "#############################################################################\n",
        "# Define a function to transform VFM maps into common schema. This function takes an image as\n",
        "#its input and outputs an image with the schema mentioned in Table 1\n",
        "def vng_sch(image):\n",
        "\n",
        "  ################ Get Water Pixels ####################\n",
        "\n",
        "  # Raster Values of 15 indicate open water without water fraction retrieval\n",
        "  # Raster Values of 99 indicate\n",
        "  # Raster Values of 100 indicate Open Normal Water, from a river, lake, reservoir, or ocean\n",
        "  # Raster Values of 101-200 idnicate water fractions of floodwater. We selected 50 as the percent threshold\n",
        "  # to consider a pixel as water/nonwater. Thus, for the purposes of this study, we selected 150 as the threshold\n",
        "  # above which pixels are considered as floodwater pixels.\n",
        "  vfm_water = image.eq(15).Or(image.eq(99)).Or(image.eq(100)).Or(image.gte(150))\n",
        "\n",
        "  ############## Get Nonwater Pixels ########################\n",
        "\n",
        "  # Part 1 will get pixels that have floodwater but have less than 50% of the pixel covered in floodwater\n",
        "  # Raster Values of 16 indicate clear-sky bare land\n",
        "  # Raster Values of 17 indicate clear-sky vegetation\n",
        "  # Raster Values of 20 indicate snow cover\n",
        "  # Raster Values of 27 indicate river/lake covered in ice\n",
        "  # Raster values of 38 indicate supra-snow ice water, mixed ice and water, or ice in melting status\n",
        "  pt1 = image.gt(100).And(image.lt(150))\n",
        "  pt2 = image.eq(16).Or(image.eq(17)).Or(image.eq(20)).Or(image.eq(27)).Or(image.eq(38))\n",
        "  vfm_nonwater = pt1.Or(pt2)\n",
        "\n",
        "  ############## Get Pixels where we do not have clear observations #############\n",
        "\n",
        "  # Values of 1 indicate bad data pixels\n",
        "  # Values of 30 indicate pixels where there is cloud cover\n",
        "  # Values of 50 indicate pixels that have shadows from clouds or terrain.\n",
        "  vfm_mask = image.eq(1).Or(image.eq(30)).Or(image.eq(50))\n",
        "\n",
        "  # This section of the\n",
        "  #ones = ee.Image(1)   # Dummy Image where every pixel has a value of 1\n",
        "  #zeros = ee.Image(0)  # Dummy Image where every pixel has a value of 0\n",
        "  #twos = ee.Image(2)   # Dummy Image where every pixel has a value of 2\n",
        "\n",
        "  # This section of the code will replace the VFM raster values with our classification schema (see Table 1).\n",
        "  vfm_mod = image.where(vfm_nonwater, ee.Image(0))   # Replace Nonwater Pixels as found by this code with a value of 0   # zeros\n",
        "  vfm_v2 = vfm_mod.where(vfm_water, ee.Image(1))     # Replace Water Pixels as found by this code with a value of 1    # ones\n",
        "  vfm_v3 = vfm_v2.where(vfm_mask, ee.Image(2))       # Replace Mask Pixels as found by this code with a value of 2    # twos\n",
        "\n",
        "  return ee.Image(vfm_v3)\n",
        "\n",
        "#################################################\n",
        "#   Part 3: Apply our function from Part 2      #\n",
        "#################################################\n",
        "# Apply the dswx_sch function to our clipped dswx mosaic to the schema\n",
        "# shown in table 1.\n",
        "# Run the function on the mosaic\n",
        "vfm_resampled_final = ee.Image(vng_sch(vfm_resampled)).clip(aoi)"
      ],
      "metadata": {
        "id": "zvihI3A5yws_"
      },
      "execution_count": null,
      "outputs": []
    },
    {
      "cell_type": "markdown",
      "source": [
        "## Step 3 Part 2: GFM Resampled Harmonization"
      ],
      "metadata": {
        "id": "rfGF7xepsbdD"
      }
    },
    {
      "cell_type": "code",
      "source": [
        "# We want to assign the pixels that were masked in the GFM image to have a value of 2.\n",
        "def gfm_sch(image):\n",
        "  twos = ee.Image(2)\n",
        "  #wawa = image.eq(1)\n",
        "  #nowawa = image.eq(0)\n",
        "  masked = image.gte(2)\n",
        "\n",
        "  #ones = ee.Image(1)\n",
        "  #zeros = ee.Image(0)\n",
        "\n",
        "  #gfm_new = img_2.where(wawa, ones)\n",
        "  #gfm_fin = gfm_new.where(nowawa, zeros)\n",
        "  gfm_fin = image.where(masked, twos)\n",
        "  return gfm_fin\n",
        "\n",
        "# Mosaic the individual GFM images and clip the mosaic to the area of interest\n",
        "gfm_resampled_final = gfm_sch(gfm_resampled).clip(aoi)"
      ],
      "metadata": {
        "id": "iGxMKliQzHgh"
      },
      "execution_count": null,
      "outputs": []
    },
    {
      "cell_type": "markdown",
      "source": [
        "## Step 3 Part 3: MCDWD Resampled Harmonization"
      ],
      "metadata": {
        "id": "Kv5B4OKWseUq"
      }
    },
    {
      "cell_type": "code",
      "source": [
        "#####################################################\n",
        "#  Part 1: Mosaic MCDWD Images, Clip them to aoi    #\n",
        "#####################################################\n",
        "#mcdwd_mos = ee.ImageCollection([mcdwd1, mcdwd2, mcdwd3]).mosaic().clip(aoi)\n",
        "\n",
        "#############################################################################\n",
        "#   Part 2: Create a function to reassign pixel values to our new schema    #\n",
        "#############################################################################\n",
        "def mcdwd_sch(image):\n",
        "\n",
        "  #image = image.unmask()\n",
        "\n",
        "  ################ Get Water Pixels ####################\n",
        "\n",
        "  # Pixel Values of 1 indicate regular surface water according to the MCDWD algorithm\n",
        "  # Pixel Values of 2 indicate a recurring flood according to the MCDWD algorithm\n",
        "  # Pixel values of 3 indicate floodwater according to the MCDWD algorithm\n",
        "  mcdwd_water = image.eq(1).Or(image.eq(2)).Or(image.eq(3))\n",
        "\n",
        "  ############## Get Nonwater Values ########################\n",
        "  # Pixel values of 0 indicate no water is present according to the MCDWD algorithm\n",
        "  mcdwd_nonwater = image.eq(0)\n",
        "\n",
        "  ############## Get Pixels where we do not have clear observations #############\n",
        "  # Pixel values of 255 indicate insufficient data\n",
        "  #mcdwd_mask = image.mask()               # Get the mask of the MCDWD map\n",
        "  #mcdwd_maskdata = mcdwd_mask.eq(0)       # Find values where the MCDWD mask is equal to 0\n",
        "  #mcdwd_insufficient = image.eq(255)            # Get the MCDWD values with insufficient data\n",
        "  #mcdwd_unclear = mcdwd_maskdata.Or(mcdwd_insufficient)\n",
        "\n",
        "  # Replace MCDWD pixel values with our classification schema (see Table 1)\n",
        "  #mcdwd_mod = image.where(mcdwd_nonwater, ee.Image(0))\n",
        "  #mcdwd_v2 = mcdwd_mod.where(mcdwd_water, ee.Image(1))\n",
        "  #mcdwd_v3 = mcdwd_v2.where(mcdwd_unclear, ee.Image(2))\n",
        "  #mcdwd_v3 = image.where(mcdwd_maskdata, ee.Image(2))\n",
        "\n",
        "  mcdwd_mask = image.mask().clip(aoi)\n",
        "  mcdwd_maskdata = mcdwd_mask.eq(0)\n",
        "  mcdwd_insufficient = image.unmask().eq(255)\n",
        "  mcdwd_unclear = mcdwd_maskdata.Or(mcdwd_insufficient)\n",
        "\n",
        "  #mcdwd_v3 = image.unmask().where(mcdwd_maskdata, ee.Image(2))\n",
        "  mcdwd_v0 = image.unmask()\n",
        "  mcdwd_v1 = mcdwd_v0.where(mcdwd_nonwater, ee.Image(0))\n",
        "  mcdwd_v2 = mcdwd_v1.where(mcdwd_water, ee.Image(1))\n",
        "  mcdwd_v3 = mcdwd_v2.where(mcdwd_unclear, ee.Image(2))\n",
        "  mcdwd_v4 = mcdwd_v3.clip(aoi)\n",
        "\n",
        "  #return mcdwd_v3#.clip(aoi)\n",
        "  return mcdwd_v4\n",
        "\n",
        "#################################################\n",
        "#   Part 3: Apply our function from Part 2      #\n",
        "#################################################\n",
        "# Apply the mcdwd_sch function to our clipped dswx mosaic to the schema\n",
        "# shown in table 1.\n",
        "mcdwd_resampled_final = mcdwd_sch(mcdwd_resampled).clip(aoi)"
      ],
      "metadata": {
        "id": "wV8GpHO8zLXx"
      },
      "execution_count": null,
      "outputs": []
    },
    {
      "cell_type": "markdown",
      "source": [
        "## Step 3 Part 4: HYDROSAR"
      ],
      "metadata": {
        "id": "92hRjZPYe08j"
      }
    },
    {
      "cell_type": "markdown",
      "source": [
        "Only run the code cell below if you had to resample HYDROSAR in Step 2 Part 4."
      ],
      "metadata": {
        "id": "NpcfqLuofmzu"
      }
    },
    {
      "cell_type": "code",
      "source": [
        "def hydrosar_sch(img):\n",
        "  # Get image mask\n",
        "  unmsked_img = img.unmask()\n",
        "  hydrosar_mask = img.mask()\n",
        "  hydrosar_masked = hydrosar_mask.lt(1)\n",
        "\n",
        "  hydrosar_mod = unmsked_img.where(hydrosar_masked, ee.Image(2))\n",
        "  hydrosar_v3 = hydrosar_mod.clip(aoi)\n",
        "\n",
        "  return hydrosar_v3\n",
        "\n",
        "hydrosar_resampled_final = hydrosar_sch(hydrosar_resampled).clip(aoi)"
      ],
      "metadata": {
        "id": "FACnHDPBfjjN"
      },
      "execution_count": null,
      "outputs": []
    },
    {
      "cell_type": "markdown",
      "source": [
        "## Step 4: Exporting to Google Earth Engine"
      ],
      "metadata": {
        "id": "8Z7KFMKmsk5Z"
      }
    },
    {
      "cell_type": "code",
      "source": [
        "proj = mcdwd_resampled.projection().getInfo()['crs']\n",
        "\n",
        "# Define a function that exports an Image to a Google Earth Engine Asset.\n",
        "def exporter(img, asset_id):\n",
        "\n",
        "  desc = 'Flood_Map_Export_'\n",
        "  region_ = aoi.geometry()\n",
        "  geemap.ee_export_image_to_asset(image = img,\n",
        "                                  assetId = asset_id,\n",
        "                                  description = desc,\n",
        "                                  region = region_,\n",
        "                                  crs = proj,\n",
        "                                  scale = 30,\n",
        "                                  maxPixels = 1e13)\n",
        "  return 0"
      ],
      "metadata": {
        "id": "k7tQ18UmsWGB"
      },
      "execution_count": null,
      "outputs": []
    },
    {
      "cell_type": "code",
      "source": [
        "# Export VFM\n",
        "vfm_resampled_harmonized_aid = my_gee_folder + 'vfm_resampled_harmonized'\n",
        "exporter(vfm_resampled_final, vfm_resampled_harmonized_aid)\n",
        "\n",
        "# Export GFM\n",
        "gfm_resampled_harmonized_aid = my_gee_folder + 'gfm_resampled_harmonized'\n",
        "exporter(gfm_resampled_final, gfm_resampled_harmonized_aid)\n",
        "\n",
        "# Export MCDWD\n",
        "mcdwd_resampled_harmonized_aid = my_gee_folder + 'mcdwd_resampled_harmonized'\n",
        "exporter(mcdwd_resampled_final, mcdwd_resampled_harmonized_aid)"
      ],
      "metadata": {
        "id": "E_iv184Lze4c"
      },
      "execution_count": null,
      "outputs": []
    },
    {
      "cell_type": "markdown",
      "source": [
        "If you had to resample HYDROSAR"
      ],
      "metadata": {
        "id": "KBeemxwRfuy1"
      }
    }
  ],
  "metadata": {
    "colab": {
      "provenance": [],
      "toc_visible": true,
      "include_colab_link": true
    },
    "kernelspec": {
      "display_name": "Python 3",
      "name": "python3"
    },
    "language_info": {
      "name": "python"
    }
  },
  "nbformat": 4,
  "nbformat_minor": 0
}