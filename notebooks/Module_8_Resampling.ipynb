{
  "cells": [
    {
      "cell_type": "markdown",
      "metadata": {
        "id": "view-in-github",
        "colab_type": "text"
      },
      "source": [
        "<a href=\"https://colab.research.google.com/github/SERVIR/flood_mapping_intercomparison/blob/main/notebooks/Module_8_Resampling.ipynb\" target=\"_parent\"><img src=\"https://colab.research.google.com/assets/colab-badge.svg\" alt=\"Open In Colab\"/></a>"
      ]
    },
    {
      "cell_type": "markdown",
      "source": [
        "In this module, we will resample all of our products to a common pixel size. Since 4 of our 7 products already have a pixel size of 30 meters, we will use 30 meters as our shared pixel size.\n",
        "\n",
        "To accomplish this, we will use the gdal.Warp method. gdal.Warp takes the following optional arguments (among others):\n",
        "* xRes\n",
        "* yRes\n",
        "* resampleAlg\n",
        "\n",
        "Since we want to create square pixels measuring 30 meters by 30 meters in size, we will set xRes and yRes to both equal 30. The resampleAlg argument determines how the input map will go about determining the pixel value for each output 30x30m pixel. There are several options for this argument. In this case, we will use 'mode', which is the Mode resampling algorithm. For more information on the different resampling algorithms available in GDAL, see [this page](https://gdal.org/en/stable/programs/gdalwarp.html) and scroll down to \"-r resampling_method\"."
      ],
      "metadata": {
        "id": "Bd4ryEn2lszm"
      }
    },
    {
      "cell_type": "markdown",
      "metadata": {
        "id": "xxb7X-hvMnLP"
      },
      "source": [
        "# Step 1: Import packages"
      ]
    },
    {
      "cell_type": "code",
      "execution_count": null,
      "metadata": {
        "id": "n07orLu6Mpt1"
      },
      "outputs": [],
      "source": [
        "import ee\n",
        "import geemap\n",
        "from google.colab import drive\n",
        "import os\n",
        "import glob\n",
        "from osgeo import gdal\n",
        "import numpy as np\n",
        "import pandas as pd\n",
        "import time"
      ]
    },
    {
      "cell_type": "code",
      "execution_count": null,
      "metadata": {
        "id": "kuDFCKyQpawK"
      },
      "outputs": [],
      "source": [
        "ee.Authenticate()\n",
        "\n",
        "ee.Initialize(project='servir-sco-assets')"
      ]
    },
    {
      "cell_type": "markdown",
      "metadata": {
        "id": "W6y1FZ23uqkR"
      },
      "source": [
        "# MODIFIABLE VARIABLE ALERT"
      ]
    },
    {
      "cell_type": "code",
      "execution_count": null,
      "metadata": {
        "id": "SoEql5pmrtiC"
      },
      "outputs": [],
      "source": [
        "my_gee_folder = \"users/mickymags/sep_arkansas/\"\n",
        "my_Gdrive_folder = \"/content/drive/MyDrive/Flood_Intercomparison/Case_Studies/sep/sep_arkansas/\"\n",
        "other_Gdrive_folder = \"/content/drive/MyDrive/Flood_Intercomparison/Case_Studies/Flood_Intercomparison/\"\n",
        "flood_event_desc = 'sep_arkansas'\n",
        "time_id = '09092043'                # put in a string correlating to the current time which you are running the code -- will help with identifying exports"
      ]
    },
    {
      "cell_type": "code",
      "execution_count": null,
      "metadata": {
        "id": "YyLO0Vj2u0Py"
      },
      "outputs": [],
      "source": [
        "aoi = ee.FeatureCollection(my_gee_folder + \"aoi\")\n",
        "roi = aoi.geometry()\n",
        "aoi_centroid = aoi.geometry().centroid()             # Get the center of the AOI\n",
        "lon = aoi_centroid.coordinates().get(0).getInfo()    # Extract the longitude from the centroid\n",
        "lat = aoi_centroid.coordinates().get(1).getInfo()    # Extract the latitude from the centroid"
      ]
    },
    {
      "cell_type": "markdown",
      "metadata": {
        "id": "bfFuTWdUMixD"
      },
      "source": [
        "# Step 2: Resample GFM, MCDWD, and VFM products (and maybe HYDROSAR)\n",
        "\n",
        "In order to run object extraction statistics, we must have all products in a common projection. Thus, we will use gdal.Warp to resample these products to 30 meters"
      ]
    },
    {
      "cell_type": "code",
      "source": [
        "drive.mount('/content/drive/')"
      ],
      "metadata": {
        "id": "KSeP-QI_nbNv"
      },
      "execution_count": null,
      "outputs": []
    },
    {
      "cell_type": "code",
      "source": [
        "os.chdir(my_Gdrive_folder)"
      ],
      "metadata": {
        "id": "XmqXXoodnlGp"
      },
      "execution_count": null,
      "outputs": []
    },
    {
      "cell_type": "code",
      "source": [
        "pwd"
      ],
      "metadata": {
        "id": "7GT6ArQ1nouI"
      },
      "execution_count": null,
      "outputs": []
    },
    {
      "cell_type": "code",
      "source": [
        "ls"
      ],
      "metadata": {
        "id": "Q2yb3FDnnpbm"
      },
      "execution_count": null,
      "outputs": []
    },
    {
      "cell_type": "markdown",
      "source": [
        "## Step 2 Part 1: GFM"
      ],
      "metadata": {
        "id": "edVXR6I0pxtc"
      }
    },
    {
      "cell_type": "code",
      "source": [
        "os.chdir('GFM')"
      ],
      "metadata": {
        "id": "ff32kA6-nrIN"
      },
      "execution_count": null,
      "outputs": []
    },
    {
      "cell_type": "code",
      "source": [
        "ls m*"
      ],
      "metadata": {
        "id": "3c8G0rI9ns4x"
      },
      "execution_count": null,
      "outputs": []
    },
    {
      "cell_type": "code",
      "source": [
        "infile = glob.glob('merged*')[0]"
      ],
      "metadata": {
        "id": "B1LrqAL4ntrB"
      },
      "execution_count": null,
      "outputs": []
    },
    {
      "cell_type": "code",
      "source": [
        "infile"
      ],
      "metadata": {
        "id": "MKkgQtshn16g"
      },
      "execution_count": null,
      "outputs": []
    },
    {
      "cell_type": "code",
      "source": [
        "outfile = 'gfm_resampled_' + flood_event_desc + '.tif'"
      ],
      "metadata": {
        "id": "FIdKeS5mn2gQ"
      },
      "execution_count": null,
      "outputs": []
    },
    {
      "cell_type": "code",
      "source": [
        "info = gdal.Info(infile)\n",
        "find = info.find('Data axis')\n",
        "proj = info[find-8:find-3]\n",
        "my_proj = 'EPSG:'+proj\n",
        "print(my_proj)"
      ],
      "metadata": {
        "id": "laRB8fskoZsa"
      },
      "execution_count": null,
      "outputs": []
    },
    {
      "cell_type": "code",
      "source": [
        "gdal.Warp(outfile, infile, dstSRS=my_proj, resampleAlg='near', xRes=30, yRes=30)"
      ],
      "metadata": {
        "id": "0BpQ54SdoF1t"
      },
      "execution_count": null,
      "outputs": []
    },
    {
      "cell_type": "code",
      "source": [
        "ls gfm_re*"
      ],
      "metadata": {
        "id": "z50_Uw9rpkg4"
      },
      "execution_count": null,
      "outputs": []
    },
    {
      "cell_type": "markdown",
      "source": [
        "## Step 2 Part 2: MCDWD"
      ],
      "metadata": {
        "id": "-20SlKoIp1Pz"
      }
    },
    {
      "cell_type": "code",
      "source": [
        "os.chdir('../MCDWD')"
      ],
      "metadata": {
        "id": "YjwQxu9fp5gf"
      },
      "execution_count": null,
      "outputs": []
    },
    {
      "cell_type": "code",
      "source": [
        "pwd"
      ],
      "metadata": {
        "id": "HHfiwgqsp7r9"
      },
      "execution_count": null,
      "outputs": []
    },
    {
      "cell_type": "code",
      "source": [
        "mcdwd_infile = infile = glob.glob('merged*')[0]"
      ],
      "metadata": {
        "id": "5wQp1yuPp8HA"
      },
      "execution_count": null,
      "outputs": []
    },
    {
      "cell_type": "code",
      "source": [
        "mcdwd_infile"
      ],
      "metadata": {
        "id": "sQjuPZNaqBWI"
      },
      "execution_count": null,
      "outputs": []
    },
    {
      "cell_type": "code",
      "source": [
        "ls m*"
      ],
      "metadata": {
        "id": "ibhzmHgiCXDB"
      },
      "execution_count": null,
      "outputs": []
    },
    {
      "cell_type": "code",
      "source": [
        "mcdwd_outfile = 'mcdwd_resampled_' + flood_event_desc + '.tif'"
      ],
      "metadata": {
        "id": "UKtsEhiYqEmk"
      },
      "execution_count": null,
      "outputs": []
    },
    {
      "cell_type": "code",
      "source": [
        "gdal.Warp(mcdwd_outfile, mcdwd_infile, dstSRS=my_proj, resampleAlg='near', xRes=30, yRes=30)"
      ],
      "metadata": {
        "id": "rdpyR30MqJP9"
      },
      "execution_count": null,
      "outputs": []
    },
    {
      "cell_type": "code",
      "source": [
        "ls mcdwd_re*"
      ],
      "metadata": {
        "id": "FQWL-VmvF4B3"
      },
      "execution_count": null,
      "outputs": []
    },
    {
      "cell_type": "markdown",
      "source": [
        "## Step 2 Part 3: VFM"
      ],
      "metadata": {
        "id": "iQtXx68Yp26z"
      }
    },
    {
      "cell_type": "code",
      "source": [
        "os.chdir('../VFM')"
      ],
      "metadata": {
        "id": "PAqMesUEpru2"
      },
      "execution_count": null,
      "outputs": []
    },
    {
      "cell_type": "code",
      "source": [
        "pwd"
      ],
      "metadata": {
        "id": "pctt_cFF51T3"
      },
      "execution_count": null,
      "outputs": []
    },
    {
      "cell_type": "code",
      "source": [
        "vfm_infile = infile = glob.glob('merged*')[0]"
      ],
      "metadata": {
        "id": "BtaDcvGOqUqU"
      },
      "execution_count": null,
      "outputs": []
    },
    {
      "cell_type": "code",
      "source": [
        "vfm_outfile = 'vfm_resampled_' + flood_event_desc + '.tif'"
      ],
      "metadata": {
        "id": "J0nTMVTz52cL"
      },
      "execution_count": null,
      "outputs": []
    },
    {
      "cell_type": "code",
      "source": [
        "vfm_infile"
      ],
      "metadata": {
        "id": "DGiqx-6ZF8xO"
      },
      "execution_count": null,
      "outputs": []
    },
    {
      "cell_type": "code",
      "source": [
        "gdal.Warp(vfm_outfile, vfm_infile, dstSRS=my_proj, resampleAlg='near', xRes=30, yRes=30)"
      ],
      "metadata": {
        "id": "QDaPLTnz6Bh5"
      },
      "execution_count": null,
      "outputs": []
    },
    {
      "cell_type": "code",
      "source": [
        "ls v*"
      ],
      "metadata": {
        "id": "6INtuj76VmkC"
      },
      "execution_count": null,
      "outputs": []
    },
    {
      "cell_type": "code",
      "source": [
        "pwd"
      ],
      "metadata": {
        "id": "DgMl46m5Vo8n"
      },
      "execution_count": null,
      "outputs": []
    },
    {
      "cell_type": "markdown",
      "source": [
        "## Step 2 Part 4: HYDROSAR"
      ],
      "metadata": {
        "id": "dTC0sL2Dk7sE"
      }
    },
    {
      "cell_type": "markdown",
      "source": [
        "In some cases, HYDROSAR will not have a pixel size of 30 meters. If it does not, we will undergo the same workflow we did for VFM, GFM, and MCDWD. Let's check the pixel size of HYDROSAR"
      ],
      "metadata": {
        "id": "UM3JoM8mk-m2"
      }
    },
    {
      "cell_type": "code",
      "source": [
        "os.chdir('../HYDROSAR')"
      ],
      "metadata": {
        "id": "c5nyy1zDSeVH"
      },
      "execution_count": null,
      "outputs": []
    },
    {
      "cell_type": "code",
      "source": [
        "hydrosar_infile = infile = glob.glob('merged*')[0]"
      ],
      "metadata": {
        "id": "KhnwETCxSfha"
      },
      "execution_count": null,
      "outputs": []
    },
    {
      "cell_type": "code",
      "source": [
        "hydrosar_file = gdal.Open(hydrosar_infile)\n",
        "\n",
        "hydrosar_pixel_size = hydrosar_file.GetGeoTransform()[1]\n",
        "\n",
        "if hydrosar_pixel_size == 30:\n",
        "  print(\"HYDROSAR has a pixel size of 30 meters. Skip to step 3.\")\n",
        "else:\n",
        "  print(\"HYDROSAR has a pixel size slightly different than 30 meters. Continue running the code below.\")"
      ],
      "metadata": {
        "id": "GciLRyYPlXeK"
      },
      "execution_count": null,
      "outputs": []
    },
    {
      "cell_type": "code",
      "source": [
        "hydrosar_outfile = 'hydrosar_resampled_' + flood_event_desc + '.tif'"
      ],
      "metadata": {
        "id": "8Vv3Mqd6mF5-"
      },
      "execution_count": null,
      "outputs": []
    },
    {
      "cell_type": "code",
      "source": [
        "gdal.Warp(hydrosar_outfile, hydrosar_infile, dstSRS=my_proj, resampleAlg='near', xRes=30, yRes=30)"
      ],
      "metadata": {
        "id": "VXtlYtUTebx9"
      },
      "execution_count": null,
      "outputs": []
    },
    {
      "cell_type": "markdown",
      "source": [
        "# Step 3: Run Harmonization Module again\n",
        "\n",
        "For GFM, MCDWD, and VFM, (and maybe HYDROSAR), download the images to your Google Drive. Then, upload the resampled images to Google Earth Engine. For each image, make the asset id equivalent to the google earth engine folder, followed by \"x_resampled_mosaic\" where x is the name of your flood product. Now we will rerun the harmonization module on each image"
      ],
      "metadata": {
        "id": "wG7pfdnvrWVs"
      }
    },
    {
      "cell_type": "code",
      "source": [
        "mcdwd_resampled = ee.Image(my_gee_folder + 'mcdwd_resampled_mosaic')\n",
        "gfm_resampled = ee.Image(my_gee_folder + 'gfm_resampled_mosaic')\n",
        "vfm_resampled = ee.Image(my_gee_folder + 'vfm_resampled_mosaic')"
      ],
      "metadata": {
        "id": "j7CntKkmrykH"
      },
      "execution_count": null,
      "outputs": []
    },
    {
      "cell_type": "markdown",
      "source": [
        "## Step 3 Part 1: VFM Resampled Harmonization"
      ],
      "metadata": {
        "id": "ccJMqPplsWqB"
      }
    },
    {
      "cell_type": "code",
      "source": [
        "os.chdir('../VFM')\n",
        "\n",
        "input_vfm = glob.glob('merged_vfm*')[0]\n",
        "inter_vfm = f'harmonized_vfm_{flood_event_desc}.tif'\n",
        "\n",
        "in_vfm = gdal.Open(input_vfm)\n",
        "vfm_band = in_vfm.GetRasterBand(1)\n",
        "vfm_data = vfm_band.ReadAsArray()\n",
        "\n",
        "################# Set Nonwater Pixels to 0  ################\n",
        "# Pixel Values of 16 indicate clear-sky bare land\n",
        "vfm_data[vfm_data == 16] = 0\n",
        "\n",
        "# Pixel Values of 17 indicate clear-sky vegetation\n",
        "vfm_data[vfm_data == 17] = 0\n",
        "\n",
        "# Pixel Values of 20 indicate snow cover\n",
        "vfm_data[vfm_data == 20] = 0\n",
        "\n",
        "# Pixel Values of 25 indicate ice\n",
        "vfm_data[vfm_data == 25] = 0\n",
        "\n",
        "# Pixel Values of 27 indicate river/lake covered in ice\n",
        "vfm_data[vfm_data == 27] = 0\n",
        "\n",
        "# Pixel Values of 38 indicate supra-snow ice water, mixed ice and water, or melting ice\n",
        "vfm_data[vfm_data == 38] = 0\n",
        "\n",
        "# Pixel Values between 100 and 150 indicate the relative percentage of a flooded pixel\n",
        "# that has been identified to be water. 101 corresponds to 1% flooded, 150 corresponds to 50% flooded, etc.\n",
        "vfm_data[(vfm_data > 100) & (vfm_data < 150)] = 0\n",
        "\n",
        "###################### Set Masked Pixels to 2 ####################\n",
        "# Pixel Values of 1 indicate bad data pixels\n",
        "vfm_data[vfm_data == 1] = 2\n",
        "\n",
        "# Pixel Values of 30 indicate pixels where there is cloud cover\n",
        "vfm_data[vfm_data == 30] = 2\n",
        "\n",
        "# Pixel Values of 50 indicte pixels that have shadows from clouds or terrain\n",
        "vfm_data[vfm_data == 50] = 2\n",
        "\n",
        "\n",
        "############### Set Water Pixels to 1 #########################\n",
        "# Pixel Values of 15 indicate open water without water fraction retrieval\n",
        "vfm_data[vfm_data == 15] = 1\n",
        "\n",
        "# Pixel Values of 99 indicate open normal water from a river, lake, reservation, ocean\n",
        "vfm_data[vfm_data == 99] = 1\n",
        "\n",
        "# Pixel values greater than 150 indicate a pixel is 50% flooded or more\n",
        "vfm_data[vfm_data >= 150] = 1\n",
        "\n",
        "##### Create Output Raster Using The Same Driver and Metadata ##########\n",
        "driver = gdal.GetDriverByName('GTiff')\n",
        "out_ds = driver.Create(\n",
        "    inter_vfm,\n",
        "    in_vfm.RasterXSize,\n",
        "    in_vfm.RasterYSize,\n",
        "    1,\n",
        "    vfm_band.DataType\n",
        ")\n",
        "\n",
        "# Copy Spatial Metadata\n",
        "out_ds.SetGeoTransform(in_vfm.GetGeoTransform())\n",
        "out_ds.SetProjection(in_vfm.GetProjection())\n",
        "\n",
        "# Write Modified Array\n",
        "out_band = out_ds.GetRasterBand(1)\n",
        "out_band.WriteArray(vfm_data)\n",
        "\n",
        "# Clean up\n",
        "out_band.FlushCache()\n",
        "in_ds = None\n",
        "out_ds = None"
      ],
      "metadata": {
        "id": "_C1-sNBnRasu"
      },
      "execution_count": null,
      "outputs": []
    },
    {
      "cell_type": "markdown",
      "source": [
        "## Step 3 Part 2: GFM Resampled Harmonization"
      ],
      "metadata": {
        "id": "rfGF7xepsbdD"
      }
    },
    {
      "cell_type": "code",
      "source": [
        "os.chdir('../GFM')\n",
        "\n",
        "inter_gfm = f'merged_gfm_{flood_event_desc}.tif'\n",
        "final_gfm = f'harmonized_gfm_{flood_event_desc}.tif'\n",
        "vector_gfm = glob.glob('drive_export*')[0]\n",
        "\n",
        "gdal.Warp(\n",
        "    final_gfm,\n",
        "    inter_gfm,\n",
        "    cutlineDSName=vector_gfm,\n",
        "    cropToCutline=True,\n",
        "    dstNodata = 2\n",
        ")"
      ],
      "metadata": {
        "id": "b4WNhs7bR8Ag"
      },
      "execution_count": null,
      "outputs": []
    },
    {
      "cell_type": "markdown",
      "source": [
        "## Step 3 Part 3: MCDWD Resampled Harmonization"
      ],
      "metadata": {
        "id": "Kv5B4OKWseUq"
      }
    },
    {
      "cell_type": "code",
      "source": [
        "os.chdir('../MCDWD')\n",
        "\n",
        "input_mcdwd = glob.glob('merged_mcdwd*')[0]\n",
        "inter_mcdwd = f'harmonized_mcdwd_{flood_event_desc}.tif'\n",
        "\n",
        "in_mcdwd = gdal.Open(input_mcdwd)\n",
        "mcdwd_band = in_mcdwd.GetRasterBand(1)\n",
        "mcdwd_data = mcdwd_band.ReadAsArray()\n",
        "\n",
        "################# Set Nonwater Pixels to 0  ################\n",
        "# Nonwater is already set to 0 by the MCDWD algorithm\n",
        "\n",
        "############### Set Water Pixels to 1 #########################\n",
        "# Pixel Values of 1 indicate regular surface water according to the MCDWD algorithm\n",
        "# We do not need to alter these values\n",
        "\n",
        "# Pixel Values of 2 indicate a recurring flood according to the MCDWD algorithm\n",
        "mcdwd_data[mcdwd_data == 2] = 1\n",
        "\n",
        "# Pixel Values of 3 indicate floodwater according to the MCDWD algorithm\n",
        "mcdwd_data[mcdwd_data == 3] = 1\n",
        "\n",
        "###################### Set Masked Pixels to 2 ####################\n",
        "## More research needed on masked pixels, not sure how to access mask value in GDAL. .GetMaskBand() only returns an array of all 255\n",
        "\n",
        "##### Create Output Raster Using The Same Driver and Metadata ##########\n",
        "driver = gdal.GetDriverByName('GTiff')     # Get the GTiff Driver\n",
        "out_ds = driver.Create(                    # Use the Create method to create the dataset\n",
        "    inter_mcdwd,\n",
        "    in_mcdwd.RasterXSize,                 # Get the X Size of the Input DSWx-HLS Image\n",
        "    in_mcdwd.RasterYSize,                 # Get the Y Size of the Input DSWx-HLS Image\n",
        "    1,                                     # Get the number of bands of the Input DSWx-HLS Image\n",
        "    mcdwd_band.DataType                   # Get the Datatype of the input DSWx-HLS Image\n",
        ")\n",
        "\n",
        "# Copy Spatial Metadata\n",
        "out_ds.SetGeoTransform(in_mcdwd.GetGeoTransform())   # Set the geotransform of the output to be the same as the input image\n",
        "out_ds.SetProjection(in_mcdwd.GetProjection())       # Set the projection of the output to be the same as the input image\n",
        "\n",
        "# Write Modified Array\n",
        "out_band = out_ds.GetRasterBand(1)                    # Get the first band of the output dataset\n",
        "out_band.WriteArray(mcdwd_data)                      # Write the modified array to this band of the output dataset.\n",
        "\n",
        "# Clean up\n",
        "out_band.FlushCache()\n",
        "in_ds = None\n",
        "out_ds = None"
      ],
      "metadata": {
        "id": "nC1E_pc6SMeO"
      },
      "execution_count": null,
      "outputs": []
    },
    {
      "cell_type": "markdown",
      "source": [
        "## Step 3 Part 4: HYDROSAR"
      ],
      "metadata": {
        "id": "92hRjZPYe08j"
      }
    },
    {
      "cell_type": "markdown",
      "source": [
        "Only run the code cell below if you had to resample HYDROSAR in Step 2 Part 4."
      ],
      "metadata": {
        "id": "NpcfqLuofmzu"
      }
    },
    {
      "cell_type": "markdown",
      "source": [
        "## Step 4: Exporting to Google Earth Engine"
      ],
      "metadata": {
        "id": "8Z7KFMKmsk5Z"
      }
    },
    {
      "cell_type": "code",
      "source": [
        "proj = mcdwd_resampled.projection().getInfo()['crs']\n",
        "\n",
        "# Define a function that exports an Image to a Google Earth Engine Asset.\n",
        "def exporter(img, asset_id):\n",
        "\n",
        "  desc = 'Flood_Map_Export_'\n",
        "  region_ = aoi.geometry()\n",
        "  geemap.ee_export_image_to_asset(image = img,\n",
        "                                  assetId = asset_id,\n",
        "                                  description = desc,\n",
        "                                  region = region_,\n",
        "                                  crs = proj,\n",
        "                                  scale = 30,\n",
        "                                  maxPixels = 1e13)\n",
        "  return 0"
      ],
      "metadata": {
        "id": "k7tQ18UmsWGB"
      },
      "execution_count": null,
      "outputs": []
    },
    {
      "cell_type": "code",
      "source": [
        "# Export VFM\n",
        "vfm_resampled_harmonized_aid = my_gee_folder + 'vfm_resampled_harmonized'\n",
        "exporter(vfm_resampled_final, vfm_resampled_harmonized_aid)\n",
        "\n",
        "# Export GFM\n",
        "gfm_resampled_harmonized_aid = my_gee_folder + 'gfm_resampled_harmonized'\n",
        "exporter(gfm_resampled_final, gfm_resampled_harmonized_aid)\n",
        "\n",
        "# Export MCDWD\n",
        "mcdwd_resampled_harmonized_aid = my_gee_folder + 'mcdwd_resampled_harmonized'\n",
        "exporter(mcdwd_resampled_final, mcdwd_resampled_harmonized_aid)"
      ],
      "metadata": {
        "id": "E_iv184Lze4c"
      },
      "execution_count": null,
      "outputs": []
    },
    {
      "cell_type": "markdown",
      "source": [
        "If you had to resample HYDROSAR"
      ],
      "metadata": {
        "id": "KBeemxwRfuy1"
      }
    }
  ],
  "metadata": {
    "colab": {
      "provenance": [],
      "toc_visible": true,
      "include_colab_link": true
    },
    "kernelspec": {
      "display_name": "Python 3",
      "name": "python3"
    },
    "language_info": {
      "name": "python"
    }
  },
  "nbformat": 4,
  "nbformat_minor": 0
}