{
  "cells": [
    {
      "cell_type": "markdown",
      "metadata": {
        "id": "view-in-github",
        "colab_type": "text"
      },
      "source": [
        "<a href=\"https://colab.research.google.com/github/SERVIR/flood_mapping_intercomparison/blob/main/notebooks/Module_8_Resampling.ipynb\" target=\"_parent\"><img src=\"https://colab.research.google.com/assets/colab-badge.svg\" alt=\"Open In Colab\"/></a>"
      ]
    },
    {
      "cell_type": "markdown",
      "source": [
        "In this module, we will resample all of our products to a common pixel size. Since 4 of our 7 products already have a pixel size of 30 meters, we will use 30 meters as our shared pixel size.\n",
        "\n",
        "To accomplish this, we will use the gdal.Warp method. gdal.Warp takes the following optional arguments (among others):\n",
        "* xRes\n",
        "* yRes\n",
        "* resampleAlg\n",
        "\n",
        "Since we want to create square pixels measuring 30 meters by 30 meters in size, we will set xRes and yRes to both equal 30. The resampleAlg argument determines how the input map will go about determining the pixel value for each output 30x30m pixel. There are several options for this argument. In this case, we will use 'mode', which is the Mode resampling algorithm. For more information on the different resampling algorithms available in GDAL, see [this page](https://gdal.org/en/stable/programs/gdalwarp.html) and scroll down to \"-r resampling_method\"."
      ],
      "metadata": {
        "id": "Bd4ryEn2lszm"
      }
    },
    {
      "cell_type": "markdown",
      "metadata": {
        "id": "xxb7X-hvMnLP"
      },
      "source": [
        "# Step 1: Import packages"
      ]
    },
    {
      "cell_type": "code",
      "execution_count": null,
      "metadata": {
        "id": "n07orLu6Mpt1"
      },
      "outputs": [],
      "source": [
        "import ee\n",
        "import geemap\n",
        "from google.colab import drive\n",
        "import os\n",
        "import glob\n",
        "from osgeo import gdal\n",
        "import numpy as np\n",
        "import pandas as pd\n",
        "import time\n",
        "from osgeo import gdal, osr"
      ]
    },
    {
      "cell_type": "code",
      "execution_count": null,
      "metadata": {
        "id": "kuDFCKyQpawK"
      },
      "outputs": [],
      "source": [
        "ee.Authenticate()\n",
        "\n",
        "ee.Initialize(project='servir-sco-assets')"
      ]
    },
    {
      "cell_type": "markdown",
      "metadata": {
        "id": "W6y1FZ23uqkR"
      },
      "source": [
        "# MODIFIABLE VARIABLE ALERT"
      ]
    },
    {
      "cell_type": "code",
      "execution_count": null,
      "metadata": {
        "id": "SoEql5pmrtiC"
      },
      "outputs": [],
      "source": [
        "my_gee_folder = \"users/mickymags/sep_arkansas/\"\n",
        "my_Gdrive_folder = \"/content/drive/MyDrive/Flood_Intercomparison/Case_Studies/sep/sep_arkansas/\"\n",
        "other_Gdrive_folder = \"/content/drive/MyDrive/Flood_Intercomparison/Case_Studies/Flood_Intercomparison/\"\n",
        "flood_event_desc = 'sep_arkansas'\n",
        "time_id = '09092043'                # put in a string correlating to the current time which you are running the code -- will help with identifying exports"
      ]
    },
    {
      "cell_type": "code",
      "execution_count": null,
      "metadata": {
        "id": "YyLO0Vj2u0Py"
      },
      "outputs": [],
      "source": [
        "aoi = ee.FeatureCollection(my_gee_folder + \"aoi\")\n",
        "roi = aoi.geometry()\n",
        "aoi_centroid = aoi.geometry().centroid()             # Get the center of the AOI\n",
        "lon = aoi_centroid.coordinates().get(0).getInfo()    # Extract the longitude from the centroid\n",
        "lat = aoi_centroid.coordinates().get(1).getInfo()    # Extract the latitude from the centroid"
      ]
    },
    {
      "cell_type": "markdown",
      "metadata": {
        "id": "bfFuTWdUMixD"
      },
      "source": [
        "# Step 2: Resample GFM, MCDWD, and VFM products (and maybe HYDROSAR)\n",
        "\n",
        "In order to run object extraction statistics, we must have all products in a common projection. Thus, we will use gdal.Warp to resample these products to 30 meters"
      ]
    },
    {
      "cell_type": "code",
      "source": [
        "drive.mount('/content/drive/')"
      ],
      "metadata": {
        "id": "KSeP-QI_nbNv"
      },
      "execution_count": null,
      "outputs": []
    },
    {
      "cell_type": "code",
      "source": [
        "os.chdir(my_Gdrive_folder)"
      ],
      "metadata": {
        "id": "XmqXXoodnlGp"
      },
      "execution_count": null,
      "outputs": []
    },
    {
      "cell_type": "code",
      "source": [
        "pwd"
      ],
      "metadata": {
        "id": "7GT6ArQ1nouI"
      },
      "execution_count": null,
      "outputs": []
    },
    {
      "cell_type": "code",
      "source": [
        "ls"
      ],
      "metadata": {
        "id": "Q2yb3FDnnpbm"
      },
      "execution_count": null,
      "outputs": []
    },
    {
      "cell_type": "markdown",
      "source": [
        "## Step 2 Part 1: GFM"
      ],
      "metadata": {
        "id": "edVXR6I0pxtc"
      }
    },
    {
      "cell_type": "code",
      "source": [
        "os.chdir('GFM')"
      ],
      "metadata": {
        "id": "ff32kA6-nrIN"
      },
      "execution_count": null,
      "outputs": []
    },
    {
      "cell_type": "code",
      "source": [
        "ls m*"
      ],
      "metadata": {
        "id": "3c8G0rI9ns4x"
      },
      "execution_count": null,
      "outputs": []
    },
    {
      "cell_type": "code",
      "source": [
        "infile = glob.glob('harmonized_gfm*')[0]"
      ],
      "metadata": {
        "id": "B1LrqAL4ntrB"
      },
      "execution_count": null,
      "outputs": []
    },
    {
      "cell_type": "code",
      "source": [
        "infile"
      ],
      "metadata": {
        "id": "MKkgQtshn16g"
      },
      "execution_count": null,
      "outputs": []
    },
    {
      "cell_type": "code",
      "source": [
        "outfile = 'gfm_resampled_' + flood_event_desc + '.tif'"
      ],
      "metadata": {
        "id": "FIdKeS5mn2gQ"
      },
      "execution_count": null,
      "outputs": []
    },
    {
      "cell_type": "code",
      "source": [
        "info = gdal.Info(infile)\n",
        "find = info.find('Data axis')\n",
        "proj = info[find-8:find-3]\n",
        "my_proj = 'EPSG:'+proj\n",
        "print(my_proj)"
      ],
      "metadata": {
        "id": "laRB8fskoZsa"
      },
      "execution_count": null,
      "outputs": []
    },
    {
      "cell_type": "code",
      "source": [
        "gdal.Warp(outfile, infile, dstSRS=my_proj, resampleAlg='near', xRes=30, yRes=30)"
      ],
      "metadata": {
        "id": "0BpQ54SdoF1t"
      },
      "execution_count": null,
      "outputs": []
    },
    {
      "cell_type": "code",
      "source": [
        "ls gfm_re*"
      ],
      "metadata": {
        "id": "z50_Uw9rpkg4"
      },
      "execution_count": null,
      "outputs": []
    },
    {
      "cell_type": "markdown",
      "source": [
        "## Step 2 Part 2: MCDWD"
      ],
      "metadata": {
        "id": "-20SlKoIp1Pz"
      }
    },
    {
      "cell_type": "code",
      "source": [
        "os.chdir('../MCDWD')"
      ],
      "metadata": {
        "id": "YjwQxu9fp5gf"
      },
      "execution_count": null,
      "outputs": []
    },
    {
      "cell_type": "code",
      "source": [
        "pwd"
      ],
      "metadata": {
        "id": "HHfiwgqsp7r9"
      },
      "execution_count": null,
      "outputs": []
    },
    {
      "cell_type": "code",
      "source": [
        "mcdwd_infile = infile = glob.glob('harmonized_mcd*')[0]"
      ],
      "metadata": {
        "id": "5wQp1yuPp8HA"
      },
      "execution_count": null,
      "outputs": []
    },
    {
      "cell_type": "code",
      "source": [
        "mcdwd_infile"
      ],
      "metadata": {
        "id": "sQjuPZNaqBWI"
      },
      "execution_count": null,
      "outputs": []
    },
    {
      "cell_type": "code",
      "source": [
        "ls m*"
      ],
      "metadata": {
        "id": "ibhzmHgiCXDB"
      },
      "execution_count": null,
      "outputs": []
    },
    {
      "cell_type": "code",
      "source": [
        "mcdwd_outfile = 'mcdwd_intermediate_' + flood_event_desc + '.tif'"
      ],
      "metadata": {
        "id": "UKtsEhiYqEmk"
      },
      "execution_count": null,
      "outputs": []
    },
    {
      "cell_type": "code",
      "source": [
        "gdal.Warp(mcdwd_outfile, mcdwd_infile, dstSRS=my_proj, resampleAlg='near', xRes=30, yRes=30)"
      ],
      "metadata": {
        "id": "rdpyR30MqJP9"
      },
      "execution_count": null,
      "outputs": []
    },
    {
      "cell_type": "code",
      "source": [
        "ls mcdwd_re*"
      ],
      "metadata": {
        "id": "FQWL-VmvF4B3"
      },
      "execution_count": null,
      "outputs": []
    },
    {
      "cell_type": "code",
      "source": [
        "inter_mcdwd = mcdwd_outfile\n",
        "final_mcdwd = f'mcdwd_resampled_{flood_event_desc}.tif'\n",
        "vector_mcdwd = glob.glob('drive_export*')[0]"
      ],
      "metadata": {
        "id": "qSiO-WUbdk6V"
      },
      "execution_count": null,
      "outputs": []
    },
    {
      "cell_type": "code",
      "source": [
        "gdal.Warp(\n",
        "    final_mcdwd,\n",
        "    inter_mcdwd,\n",
        "    cutlineDSName=vector_mcdwd,\n",
        "    cropToCutline=True,\n",
        "    dstNodata = 2\n",
        ")"
      ],
      "metadata": {
        "id": "o6qssIWtd_kV"
      },
      "execution_count": null,
      "outputs": []
    },
    {
      "cell_type": "markdown",
      "source": [
        "## Step 2 Part 3: VFM"
      ],
      "metadata": {
        "id": "iQtXx68Yp26z"
      }
    },
    {
      "cell_type": "code",
      "source": [
        "os.chdir('../VFM')"
      ],
      "metadata": {
        "id": "PAqMesUEpru2"
      },
      "execution_count": null,
      "outputs": []
    },
    {
      "cell_type": "code",
      "source": [
        "pwd"
      ],
      "metadata": {
        "id": "pctt_cFF51T3"
      },
      "execution_count": null,
      "outputs": []
    },
    {
      "cell_type": "code",
      "source": [
        "ls"
      ],
      "metadata": {
        "id": "psWtmpRVYfKW"
      },
      "execution_count": null,
      "outputs": []
    },
    {
      "cell_type": "code",
      "source": [
        "vfm_infile = infile = glob.glob('harmonized_vfm*')[0]"
      ],
      "metadata": {
        "id": "BtaDcvGOqUqU"
      },
      "execution_count": null,
      "outputs": []
    },
    {
      "cell_type": "code",
      "source": [
        "vfm_outfile = 'vfm_intermediate_' + flood_event_desc + '.tif'"
      ],
      "metadata": {
        "id": "J0nTMVTz52cL"
      },
      "execution_count": null,
      "outputs": []
    },
    {
      "cell_type": "code",
      "source": [
        "vfm_infile"
      ],
      "metadata": {
        "id": "DGiqx-6ZF8xO"
      },
      "execution_count": null,
      "outputs": []
    },
    {
      "cell_type": "code",
      "source": [
        "gdal.Warp(vfm_outfile, vfm_infile, dstSRS=my_proj, resampleAlg='near', xRes=30, yRes=30)"
      ],
      "metadata": {
        "id": "QDaPLTnz6Bh5"
      },
      "execution_count": null,
      "outputs": []
    },
    {
      "cell_type": "code",
      "source": [
        "ls v*"
      ],
      "metadata": {
        "id": "6INtuj76VmkC"
      },
      "execution_count": null,
      "outputs": []
    },
    {
      "cell_type": "code",
      "source": [
        "inter_vfm = vfm_outfile\n",
        "final_vfm = f'vfm_resampled_{flood_event_desc}.tif'\n",
        "vector_mcdwd = glob.glob('drive_export*')[0]"
      ],
      "metadata": {
        "id": "mkFYMwNjd2K4"
      },
      "execution_count": null,
      "outputs": []
    },
    {
      "cell_type": "code",
      "source": [
        "gdal.Warp(\n",
        "    final_vfm,\n",
        "    inter_vfm,\n",
        "    cutlineDSName=vector_vfm,\n",
        "    cropToCutline=True,\n",
        "    dstNodata = 2\n",
        ")"
      ],
      "metadata": {
        "id": "JdDPOdA4eARl"
      },
      "execution_count": null,
      "outputs": []
    },
    {
      "cell_type": "code",
      "source": [
        "pwd"
      ],
      "metadata": {
        "id": "DgMl46m5Vo8n"
      },
      "execution_count": null,
      "outputs": []
    },
    {
      "cell_type": "markdown",
      "source": [
        "## Step 2 Part 4: HYDROSAR"
      ],
      "metadata": {
        "id": "dTC0sL2Dk7sE"
      }
    },
    {
      "cell_type": "markdown",
      "source": [
        "In some cases, HYDROSAR will not have a pixel size of 30 meters. If it does not, we will undergo the same workflow we did for VFM, GFM, and MCDWD. Let's check the pixel size of HYDROSAR"
      ],
      "metadata": {
        "id": "UM3JoM8mk-m2"
      }
    },
    {
      "cell_type": "code",
      "source": [
        "os.chdir('../HYDROSAR')"
      ],
      "metadata": {
        "id": "c5nyy1zDSeVH"
      },
      "execution_count": null,
      "outputs": []
    },
    {
      "cell_type": "code",
      "source": [
        "hydrosar_infile = infile = glob.glob('harmonized_hydrosar*')[0]"
      ],
      "metadata": {
        "id": "KhnwETCxSfha"
      },
      "execution_count": null,
      "outputs": []
    },
    {
      "cell_type": "code",
      "source": [
        "hydrosar_file = gdal.Open(hydrosar_infile)\n",
        "\n",
        "hydrosar_pixel_size = hydrosar_file.GetGeoTransform()[1]\n",
        "\n",
        "if hydrosar_pixel_size == 30:\n",
        "  print(\"HYDROSAR has a pixel size of 30 meters. Skip to step 3.\")\n",
        "else:\n",
        "  print(\"HYDROSAR has a pixel size slightly different than 30 meters. Continue running the code below.\")"
      ],
      "metadata": {
        "id": "GciLRyYPlXeK"
      },
      "execution_count": null,
      "outputs": []
    },
    {
      "cell_type": "code",
      "source": [
        "hydrosar_outfile = 'hydrosar_resampled_' + flood_event_desc + '.tif'"
      ],
      "metadata": {
        "id": "8Vv3Mqd6mF5-"
      },
      "execution_count": null,
      "outputs": []
    },
    {
      "cell_type": "code",
      "source": [
        "gdal.Warp(hydrosar_outfile, hydrosar_infile, dstSRS=my_proj, resampleAlg='near', xRes=30, yRes=30)"
      ],
      "metadata": {
        "id": "VXtlYtUTebx9"
      },
      "execution_count": null,
      "outputs": []
    },
    {
      "cell_type": "markdown",
      "source": [
        "# Step 3: Exporting to Google Earth Engine"
      ],
      "metadata": {
        "id": "8Z7KFMKmsk5Z"
      }
    },
    {
      "cell_type": "code",
      "source": [
        "pwd"
      ],
      "metadata": {
        "id": "oIMVTuyAZF4k"
      },
      "execution_count": null,
      "outputs": []
    },
    {
      "cell_type": "code",
      "source": [
        "hydrosar_str = glob.glob('harmonized*')[0]\n",
        "hydrosar_fi = gdal.Open(hydrosar_str)\n",
        "wkt_projection = hydrosar_fi.GetProjection()\n",
        "spatial_ref = osr.SpatialReference(wkt_projection)\n",
        "epsg_code = spatial_ref.GetAttrValue('AUTHORITY', 1)\n",
        "proj = 'EPSG:' + epsg_code\n",
        "print(proj)"
      ],
      "metadata": {
        "id": "ZvqdRn1jZes7"
      },
      "execution_count": null,
      "outputs": []
    },
    {
      "cell_type": "code",
      "source": [
        "# Define a function that exports an Image to a Google Earth Engine Asset.\n",
        "def exporter(img, asset_id):\n",
        "\n",
        "  desc = 'Flood_Map_Export_'\n",
        "  region_ = aoi.geometry()\n",
        "  geemap.ee_export_image_to_asset(image = img,\n",
        "                                  assetId = asset_id,\n",
        "                                  description = desc,\n",
        "                                  region = region_,\n",
        "                                  crs = proj,\n",
        "                                  scale = 30,\n",
        "                                  maxPixels = 1e13)\n",
        "  return 0"
      ],
      "metadata": {
        "id": "k7tQ18UmsWGB"
      },
      "execution_count": null,
      "outputs": []
    },
    {
      "cell_type": "code",
      "source": [
        "# Export VFM\n",
        "vfm_resampled_harmonized_aid = my_gee_folder + 'vfm_resampled_harmonized'\n",
        "exporter(vfm_resampled_final, vfm_resampled_harmonized_aid)\n",
        "\n",
        "# Export GFM\n",
        "gfm_resampled_harmonized_aid = my_gee_folder + 'gfm_resampled_harmonized'\n",
        "exporter(gfm_resampled_final, gfm_resampled_harmonized_aid)\n",
        "\n",
        "# Export MCDWD\n",
        "mcdwd_resampled_harmonized_aid = my_gee_folder + 'mcdwd_resampled_harmonized'\n",
        "exporter(mcdwd_resampled_final, mcdwd_resampled_harmonized_aid)"
      ],
      "metadata": {
        "id": "E_iv184Lze4c"
      },
      "execution_count": null,
      "outputs": []
    },
    {
      "cell_type": "markdown",
      "source": [
        "If you had to resample HYDROSAR"
      ],
      "metadata": {
        "id": "KBeemxwRfuy1"
      }
    }
  ],
  "metadata": {
    "colab": {
      "provenance": [],
      "include_colab_link": true
    },
    "kernelspec": {
      "display_name": "Python 3",
      "name": "python3"
    },
    "language_info": {
      "name": "python"
    }
  },
  "nbformat": 4,
  "nbformat_minor": 0
}