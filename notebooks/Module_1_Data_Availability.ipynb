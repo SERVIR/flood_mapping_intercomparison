{
  "cells": [
    {
      "cell_type": "markdown",
      "metadata": {
        "id": "view-in-github",
        "colab_type": "text"
      },
      "source": [
        "<a href=\"https://colab.research.google.com/github/SERVIR/flood_mapping_intercomparison/blob/main/notebooks/Module_1_Data_Availability.ipynb\" target=\"_parent\"><img src=\"https://colab.research.google.com/assets/colab-badge.svg\" alt=\"Open In Colab\"/></a>"
      ]
    },
    {
      "cell_type": "markdown",
      "metadata": {
        "id": "aF_dPhvtn6Xy"
      },
      "source": [
        "# **Prerequisites**\n",
        "\n",
        "Before taking this module, you must have the following\n",
        "\n",
        "* A Google Earth Engine Account\n",
        "* A Google Cloud Project tied to your Google Earth Engine account.\n",
        "* A Google Drive account.\n",
        "* Google Colaboratory installed on your Google Drive"
      ]
    },
    {
      "cell_type": "markdown",
      "metadata": {
        "id": "vbQX_Tp3n4OU"
      },
      "source": [
        "# **Introduction**\n",
        "\n",
        "In this module, we will determine the availability of cloud-free optical data for a flood event of your interest. We are searching for a flood event in which there is a\n",
        "\n",
        "- Sentinel-1 overpass over the area of interest during the time of interest\n",
        "- Harmonized Landsat and Sentinel-2 (HLS) overpass over the area of interest during the time of interest\n",
        "- low prevalence of cloud in all optical sensors used to create flood products (HLS, MODIS, VIIRS).\n",
        "\n",
        "If we find a suitable flood event, we will export the area within the area of interest in which there is an overlap between the HLS and Sentinel-1 overpass geometries. Please note that this script is written with the intention of intercomparing floods where we have both a Sentinel-1 and an HLS overpass."
      ]
    },
    {
      "cell_type": "markdown",
      "metadata": {
        "id": "S7pRm2VXlEXW"
      },
      "source": [
        "## **Step 1: Create GEE Directory**"
      ]
    },
    {
      "cell_type": "markdown",
      "source": [
        "- 1. Open the [Google Earth Engine Code Editor](https://code.earthengine.google.com/)\n",
        "\n",
        "- 2. Navigate to the Assets Tab in the upper right.\n",
        "\n",
        "- 3. Create a new folder by clicking the \"New Button\". Enter in a name or path for the folder. **This will be our parent folder, and will be where we upload all of the flood products**. My parent folder is called \"users/mickymags/flood_intercomparison\", but you can call yours whatever you like."
      ],
      "metadata": {
        "id": "J9LMPURhQkUH"
      }
    },
    {
      "cell_type": "markdown",
      "metadata": {
        "id": "OVgkq97DrQ_P"
      },
      "source": [
        "# Step 2: Define Inputs"
      ]
    },
    {
      "cell_type": "markdown",
      "metadata": {
        "id": "n2KyXT3enFRA"
      },
      "source": [
        "After modifying the cells below to suit your case study and Earth Engine account, the rest of the cells should run as is.\n",
        "\n"
      ]
    },
    {
      "cell_type": "code",
      "execution_count": null,
      "metadata": {
        "id": "yyGsCc-LrVDT"
      },
      "outputs": [],
      "source": [
        "# Google Earth Engine Variables\n",
        "parent_directory = \"users/mickymags/flood_intercomparison_texas20250327/\"   # Define the path to the directory you created in step 1. This will either begin with \"users/...\" or \"projects/...\"\"\n",
        "#parent_directory = \"projects/servir-sco-assets/assets/flood_intercomparison/pk_case_study/\"\n",
        "aoi_asset_name = 'aoi'                                        # Define what you want the asset name of your area of interest to be\n",
        "gee_project_name = \"servir-sco-assets\"\n",
        "\n",
        "# Google Drive Variables\n",
        "#Pick the Google Drive Folder where you want to export the area of interest\n",
        "# This is an optional folder\n",
        "gd_folder = ''\n",
        "\n",
        "# Case Study Variables\n",
        "doi = \"2025-03-27\"                                            # Enter the Date of Interest in \"YYYY-MM-DD\"\n",
        "country = 'United States of America'                                          # Enter country name as a string\n",
        "province_list = 'Texas'                                           # Leave this as an empty string if using district_list\n",
        "district_list = 'Cameron,Hidalgo,Willacy,Fort Bend,Brazoria,Wharton,Matagorda,Jackson,Calhoun'          # Leave this as an empty string if using province_list\n",
        "flood_event_desc = 'Texas_20250327'                        # Enter in a description of your flood event\n",
        "#s2_cloud_probability_threshold = 5                           # Enter the cloud probability threshold for Sentinel- 2"
      ]
    },
    {
      "cell_type": "markdown",
      "metadata": {
        "id": "xxb7X-hvMnLP"
      },
      "source": [
        "# Step 3: Import packages"
      ]
    },
    {
      "cell_type": "markdown",
      "metadata": {
        "id": "mPixFZl9lDkN"
      },
      "source": [
        "We need to import a couple packages for this analysis.\n",
        "\n",
        "1. The Earth Engine package will allow us to obtain data from Earth Engine and perform some operations on the data.\n",
        "2. The [geemap](https://geemap.org/) Python package allows for further analysis and visualization using Earth Engine data.\n",
        "3. The Google Drive package will allow us to export imagery and data from this notebook to your Google Drive.\n"
      ]
    },
    {
      "cell_type": "code",
      "execution_count": null,
      "metadata": {
        "id": "n07orLu6Mpt1"
      },
      "outputs": [],
      "source": [
        "from google.colab import drive       # Import Google Drive\n",
        "import ee                            # Import the Earth Engine package\n",
        "import geemap                        # Import the Google Earth Engine Python package (geemap)\n",
        "import os"
      ]
    },
    {
      "cell_type": "markdown",
      "metadata": {
        "id": "VzZXoIkik0he"
      },
      "source": [
        "Now we need to Authenticate Earth Engine, and initilaze it."
      ]
    },
    {
      "cell_type": "code",
      "execution_count": null,
      "metadata": {
        "id": "obs-h5-Hu0bA"
      },
      "outputs": [],
      "source": [
        "ee.Authenticate()\n",
        "ee.Initialize(project = 'servir-sco-assets')"
      ]
    },
    {
      "cell_type": "markdown",
      "metadata": {
        "id": "07El_V41vDGb"
      },
      "source": [
        "# Step 4: Get input data\n"
      ]
    },
    {
      "cell_type": "markdown",
      "metadata": {
        "id": "ijEZn-o2okjb"
      },
      "source": [
        "For this project, we want to compare six flood products/software to each other. Some of these have different input datasets from optical and SAR sensors, which we detail below. In this notebook, we will examine the quality assurance infromation from all of the input datasets to determine if a case study is suitable for optical analysis."
      ]
    },
    {
      "cell_type": "markdown",
      "metadata": {
        "id": "2t8mD-vmkuiL"
      },
      "source": [
        "\n",
        "* GFM: The Copernicus Global Flood Monitor. For more information see [this website](https://global-flood.emergency.copernicus.eu/technical-information/glofas-gfm/).\n",
        "  * Input Dataset: Sentinel-1 uses IW GRDH product, which we can obtain from Google Earth Engine\n",
        "*  TERRA: The Terra product used as input to the MCDWD product has the following DOI a(http://doi.org/10.5067/MODIS/MOD09.NRT.061) (Slayback et al ___). This product is not available in GEE. Thus, we will use a similar MODIS product in order to estimate the cloud cover in the region of interest\n",
        "* AQUA: The Aqua product used as input to the MCDWD product is not specified. Email sent 09/05/24\n",
        "* HLS: The HLS product is split into two datasets, one for Sentinel and one for Landsat. The Sentinel HLS product is not currently available on GEE.\n",
        "\n"
      ]
    },
    {
      "cell_type": "code",
      "execution_count": null,
      "metadata": {
        "id": "N521IwpNvEUq"
      },
      "outputs": [],
      "source": [
        "sentinel1 = ee.ImageCollection(\"COPERNICUS/S1_GRD\")      # Sentinel-1 Ground Range Detected\n",
        "hls_landsat = ee.ImageCollection(\"NASA/HLS/HLSL30/v002\")\n",
        "s2 = ee.ImageCollection(\"NASA/HLS/HLSS30/v002\")          #s2 = ee.ImageCollection(\"COPERNICUS/S2_SR_HARMONIZED\")\n",
        "terra = ee.ImageCollection(\"MODIS/061/MOD09GA\")\n",
        "aqua = ee.ImageCollection(\"MODIS/061/MYD09GA\")\n",
        "viirs = ee.ImageCollection(\"NASA/VIIRS/002/VNP09GA\")"
      ]
    },
    {
      "cell_type": "markdown",
      "metadata": {
        "id": "3ZspB-pJw1gg"
      },
      "source": [
        "Let's filter the Sentinel-1 collection to just those images that are used by the GFM flood Product. GFM ingests observations from the Sentinel-1 satellites that are acquired in the Interferometric Wide-swath (IW imaging mode) (Matgen et al 2022). GFM uses the Ground Range Detected at High Resolution (GRDH) product from Sentinel-1 to create the GFM Water Product (Matgen et al 2021)."
      ]
    },
    {
      "cell_type": "code",
      "execution_count": null,
      "metadata": {
        "id": "XaNlcoEawaZY"
      },
      "outputs": [],
      "source": [
        "# Sentinel-1 Filtered to interferometric width\n",
        "s1filt = sentinel1.filter(ee.Filter.eq('instrumentMode', 'IW'))\\\n",
        "                  .filter(ee.Filter.eq('resolution', 'H'))          # Filter to High Resolution Scenes"
      ]
    },
    {
      "cell_type": "markdown",
      "metadata": {
        "id": "0YfhI5lDyUOu"
      },
      "source": [
        "Get the day after our day of interest so we can filter our image collections to coincide with our date of interest."
      ]
    },
    {
      "cell_type": "code",
      "execution_count": null,
      "metadata": {
        "id": "IwHW652lyXZE"
      },
      "outputs": [],
      "source": [
        "dayafter = ee.Date(doi).advance(1, \"day\")"
      ]
    },
    {
      "cell_type": "markdown",
      "metadata": {
        "id": "xirew2O3yYI0"
      },
      "source": [
        "Get an area of interest"
      ]
    },
    {
      "cell_type": "code",
      "execution_count": null,
      "metadata": {
        "id": "TfjRf6hMyl90"
      },
      "outputs": [],
      "source": [
        "gaul = ee.FeatureCollection(\"FAO/GAUL_SIMPLIFIED_500m/2015/level2\")"
      ]
    },
    {
      "cell_type": "code",
      "execution_count": null,
      "metadata": {
        "id": "ZVNhsokf6sfx"
      },
      "outputs": [],
      "source": [
        "def region_merger_v2(my_country, my_state, my_district_string):\n",
        "  area_of_interest = ee.FeatureCollection([])\n",
        "\n",
        "  country = gaul.filter(ee.Filter.eq(\"ADM0_NAME\", my_country))\n",
        "  state = country.filter(ee.Filter.eq(\"ADM1_NAME\", my_state))\n",
        "\n",
        "  splitstring = my_district_string.split(\",\")\n",
        "  feature_list = []\n",
        "  for y in splitstring:\n",
        "    feature = state.filter(ee.Filter.eq(\"ADM2_NAME\", y))\n",
        "    feature_list.append(feature)\n",
        "  for x in feature_list:\n",
        "    area_of_interest = area_of_interest.merge(x)\n",
        "\n",
        "  return area_of_interest"
      ]
    },
    {
      "cell_type": "code",
      "execution_count": null,
      "metadata": {
        "id": "N1PwUm7a7W0b"
      },
      "outputs": [],
      "source": [
        "aoi = region_merger_v2(country, province_list, district_list)"
      ]
    },
    {
      "cell_type": "markdown",
      "source": [
        "Let's print the aoi to the console to make sure that it contains our provinces. If you see \"Feature Collection (0 elements...)\", that means something went wrong. Check the spelling of your country, district, and provinces.\n",
        "\n",
        "If you see \"FeatureCollection (x elements...)\" where x > 0, the code is working as intended. You can click the dropdown arrow to expand the collection and make sure it has all your provinces."
      ],
      "metadata": {
        "id": "h3a9Ajy4LHCa"
      }
    },
    {
      "cell_type": "code",
      "source": [
        "aoi"
      ],
      "metadata": {
        "id": "1OjQ01x0R5GG"
      },
      "execution_count": null,
      "outputs": []
    },
    {
      "cell_type": "code",
      "execution_count": null,
      "metadata": {
        "id": "qQnNNDsH8DmD"
      },
      "outputs": [],
      "source": [
        "# Get the coordinates of the center of the AOI for mapping purposes\n",
        "aoi_centroid = aoi.geometry().centroid()             # Get the center of the AOI\n",
        "lon = aoi_centroid.coordinates().get(0).getInfo()    # Extract the longitude from the centroid\n",
        "lat = aoi_centroid.coordinates().get(1).getInfo()    # Extract the latitude from the centroid"
      ]
    },
    {
      "cell_type": "code",
      "execution_count": null,
      "metadata": {
        "id": "AY9Div-i0E5j"
      },
      "outputs": [],
      "source": [
        "s1final = s1filt.filterDate(doi, dayafter).filterBounds(aoi)"
      ]
    },
    {
      "cell_type": "code",
      "execution_count": null,
      "metadata": {
        "id": "S7byLj3j4vb6"
      },
      "outputs": [],
      "source": [
        "s1vp = {\n",
        "    'bands': ['VV'],\n",
        "    'min': -25,\n",
        "    'max': 0\n",
        "}"
      ]
    },
    {
      "cell_type": "code",
      "execution_count": null,
      "metadata": {
        "id": "nbkSxZuu8Bdg"
      },
      "outputs": [],
      "source": [
        "s1geom = s1final.geometry()"
      ]
    },
    {
      "cell_type": "code",
      "execution_count": null,
      "metadata": {
        "id": "n2X33-hz5bnS"
      },
      "outputs": [],
      "source": [
        "# Merge the HLS Sentinel and HLS Landsat Image Collections\n",
        "hls = s2.merge(hls_landsat)\n",
        "\n",
        "# Filter the HLS collection to the day and region of interest\n",
        "hls_final = hls.filterDate(doi, dayafter).filterBounds(aoi)\n",
        "\n",
        "# Get the geometry of the above collection\n",
        "hls_geom = hls_final.geometry()\n",
        "\n",
        "# Find the intersection of the Sentinel-1 and HLS image collections.\n",
        "hlsf_geom = hls_geom.union(s1geom)"
      ]
    },
    {
      "cell_type": "markdown",
      "metadata": {
        "id": "AFSnVcoH-pvX"
      },
      "source": [
        "Now we will define aoifinal, the final area of interest. this is the intersection of where our HLS overpass and our Sentinel-1 overpass is."
      ]
    },
    {
      "cell_type": "code",
      "execution_count": null,
      "metadata": {
        "id": "4_no-A0G8r2e"
      },
      "outputs": [],
      "source": [
        "aoifinal = hlsf_geom.intersection(s1geom)"
      ]
    },
    {
      "cell_type": "markdown",
      "source": [
        "let's print the intersected area below to make sure it has multiple vertices."
      ],
      "metadata": {
        "id": "vbtAEEczL1sS"
      }
    },
    {
      "cell_type": "code",
      "source": [
        "aoifinal"
      ],
      "metadata": {
        "id": "nKuC6dy7R9bM"
      },
      "execution_count": null,
      "outputs": []
    },
    {
      "cell_type": "code",
      "execution_count": null,
      "metadata": {
        "id": "SDtEbHPS3k-W"
      },
      "outputs": [],
      "source": [
        "s1_mosaic = s1final.mosaic()"
      ]
    },
    {
      "cell_type": "code",
      "execution_count": null,
      "metadata": {
        "id": "J80ozePd3nPa"
      },
      "outputs": [],
      "source": [
        "s1vv_vp = {\n",
        "    'bands': ['VV', 'VV', 'VV'],\n",
        "    'min': - 25,\n",
        "    'max': 0\n",
        "}"
      ]
    },
    {
      "cell_type": "code",
      "execution_count": null,
      "metadata": {
        "id": "5IkjKO_ftXXX"
      },
      "outputs": [],
      "source": [
        "Map = geemap.Map(center = (lat, lon), zoom = 5)\n",
        "Map.addLayer(aoi, {}, 'region of interest')\n",
        "Map.addLayer(s1geom, {}, 'Sentinel-1 Geometry')\n",
        "Map.addLayer(hlsf_geom, {}, 'HLS Geometry')\n",
        "Map.addLayer(aoifinal, {}, 'Final Area of Interest -- intersection of HLS and S1')\n",
        "Map.addLayer(s1_mosaic, s1vv_vp, 'Sentinel1 VV')\n",
        "\n",
        "Map.addLayerControl()\n",
        "Map"
      ]
    },
    {
      "cell_type": "code",
      "execution_count": null,
      "metadata": {
        "id": "wGNhV4xLM_jO"
      },
      "outputs": [],
      "source": [
        "# Create a bounding box around the area of interest\n",
        "aoibb = aoifinal.bounds()"
      ]
    },
    {
      "cell_type": "code",
      "execution_count": null,
      "metadata": {
        "id": "v3bsfHrnm8Pe"
      },
      "outputs": [],
      "source": [
        "# Mount Google Drive\n",
        "drive.mount('/content/drive')"
      ]
    },
    {
      "cell_type": "code",
      "execution_count": null,
      "metadata": {
        "id": "yemieifKnFEi"
      },
      "outputs": [],
      "source": [
        "cd drive/MyDrive"
      ]
    },
    {
      "cell_type": "code",
      "execution_count": null,
      "metadata": {
        "id": "26GOMeV_nLQA"
      },
      "outputs": [],
      "source": [
        "os.mkdir('Flood_Intercomparison')"
      ]
    },
    {
      "cell_type": "code",
      "execution_count": null,
      "metadata": {
        "id": "K6gn8EjbohTR"
      },
      "outputs": [],
      "source": [
        "cd Flood_Intercomparison"
      ]
    },
    {
      "cell_type": "code",
      "execution_count": null,
      "metadata": {
        "id": "yCiJBGpfpep-"
      },
      "outputs": [],
      "source": [
        "aoifc = ee.FeatureCollection(aoifinal)\n",
        "aoibb_fc = ee.FeatureCollection(aoibb)\n",
        "\n",
        "# Export Area of Interest to Google Earth Engine Asset\n",
        "#geemap.ee_export_vector_to_asset(aoifc, description = 'Area of Interest PK Jun 23', assetId= parent_dir2 + aoi_asset_name)\n",
        "\n",
        "# Export Area of Interest Bounding Box to Google Drive\n",
        "geemap.ee_export_vector_to_drive(\n",
        "    aoifc, description = 'Area_of_Interest' + flood_event_desc, fileFormat='GeoJSON', folder='Flood_Intercomparison'\n",
        ")\n",
        "\n",
        "geemap.ee_export_vector_to_drive(\n",
        "    aoibb_fc, description = 'BBox_Area_of_Interest '+ flood_event_desc, fileFormat='GeoJSON', folder='Flood_Intercomparison'\n",
        ")"
      ]
    },
    {
      "cell_type": "code",
      "execution_count": null,
      "metadata": {
        "id": "pmQxvUI96M-7"
      },
      "outputs": [],
      "source": [
        "#aoifc = ee.FeatureCollection(aoifinal)\n",
        "#geemap.ee_export_vector_to_asset(aoifc, description='exporting_final_aoi', assetId='projects/servir-sco-assets/flood_intercomparison/pk_case_study/aoi')\n",
        "geemap.ee_export_vector_to_asset(aoifc, description='exporting_final_aoi'+flood_event_desc, assetId= parent_directory + 'aoi')\n",
        "geemap.ee_export_vector_to_asset(aoibb_fc, description='exporting_final_aoi_bbox'+flood_event_desc, assetId= parent_directory + 'aoi_bbox')"
      ]
    },
    {
      "cell_type": "markdown",
      "metadata": {
        "id": "SnMxA9eo-6xN"
      },
      "source": [
        "Now let's filter all of the optical datasets to overlap with aoifinal."
      ]
    },
    {
      "cell_type": "code",
      "execution_count": null,
      "metadata": {
        "id": "LQ4rb1Hw8QyQ"
      },
      "outputs": [],
      "source": [
        "terrafilt = terra.filterDate(doi, dayafter).mosaic()#.filterBounds(aoifinal).mosaic()#.clip(aoifinal)\n",
        "aquafilt = aqua.filterDate(doi, dayafter).mosaic()#.filterBounds(aoifinal).mosaic()#.clip(aoifinal)\n",
        "viirsfilt = viirs.filterDate(doi, dayafter).mosaic()#.filterBounds(aoifinal).mosaic()#.clip(aoifinal)\n",
        "hlsl_filt = hls_landsat.filterDate(doi, dayafter).mosaic()#.filterBounds(aoifinal).mosaic()#.clip(aoifinal)\n",
        "s2filt = s2.filterDate(doi, dayafter).mosaic()#.filterBounds(aoifinal).mosaic()#.clip(aoifinal)"
      ]
    },
    {
      "cell_type": "markdown",
      "metadata": {
        "id": "ppXbkyZ75ZoI"
      },
      "source": [
        "Define the visualization parameters for each optical sensor."
      ]
    },
    {
      "cell_type": "code",
      "execution_count": null,
      "metadata": {
        "id": "A3YpFuwLttUl"
      },
      "outputs": [],
      "source": [
        "modis_vp = {\n",
        "  'bands': ['sur_refl_b01', 'sur_refl_b04', 'sur_refl_b03'],\n",
        "  'min': 470,\n",
        "  'max': 2382\n",
        "}\n",
        "\n",
        "viirs_vp = {\n",
        "  'bands': ['I1', 'M4', 'M2'],\n",
        "  'min': 0.0,\n",
        "  'max': 0.04,\n",
        "  'gamma': 1\n",
        "}\n",
        "\n",
        "s2_vp = {\n",
        "  'bands': ['B4', 'B3', 'B2'],\n",
        "  'min': 0,\n",
        "  'max': 1964\n",
        "}\n",
        "\n",
        "l8_vp = {\n",
        "  'bands': ['B4', 'B3', 'B2'],\n",
        "  'min': 0,\n",
        "  'max': 0.3\n",
        "}"
      ]
    },
    {
      "cell_type": "markdown",
      "metadata": {
        "id": "04QdWoaM95cA"
      },
      "source": [
        "Depending on overpass times, HLS Landsat or Sentinel-2 may not display below."
      ]
    },
    {
      "cell_type": "code",
      "execution_count": null,
      "metadata": {
        "id": "R47jakEbcIvE"
      },
      "outputs": [],
      "source": [
        "# Get the coordinates of the center of the AOI for mapping purposes\n",
        "aoi_centroid = aoi.geometry().centroid()             # Get the center of the AOI\n",
        "lon = aoi_centroid.coordinates().get(0).getInfo()    # Extract the longitude from the centroid\n",
        "lat = aoi_centroid.coordinates().get(1).getInfo()    # Extract the latitude from the centroid"
      ]
    },
    {
      "cell_type": "code",
      "execution_count": null,
      "metadata": {
        "id": "-8m2q2yktenH"
      },
      "outputs": [],
      "source": [
        "Map = geemap.Map(center = (lat, lon), zoom = 5)\n",
        "#Map.addLayer(aoifinal, {}, 'Final Area of Interest -- intersection of HLS and S1')\n",
        "Map.addLayer(aoi, {}, 'region of interest')\n",
        "Map.addLayer(terrafilt, modis_vp, 'TERRA')\n",
        "Map.addLayer(aquafilt, modis_vp, 'AQUA')\n",
        "Map.addLayer(viirsfilt, viirs_vp, 'VIIRS')\n",
        "Map.addLayer(s2filt, s2_vp, 'Sentinel-2')\n",
        "Map.addLayer(hlsl_filt, l8_vp, 'HLS Landsat')\n",
        "\n",
        "Map.addLayerControl()\n",
        "Map"
      ]
    },
    {
      "cell_type": "markdown",
      "metadata": {
        "id": "1WpkY5BwixpI"
      },
      "source": [
        "# References\n",
        "\n",
        "\n",
        "- Matgen, Patrick. \"Provision of an Automated, Global, Satellite-based Flood Monitoring Product for the Copernicus Emergency Management Service. \"GFM D6 Product Definition Document. Issue 1 Version 1.4. April 20, 2022.\n",
        "\n",
        "- Roger, J.C. et al. \"Suomi-NPP VIIRS Surface Reflectance User's Guide\". NASA Land SIPS. Version 2.0. April 2023. https://lpdaac.usgs.gov/documents/1657/VNP09_User_Guide_V2.pdf\n"
      ]
    }
  ],
  "metadata": {
    "colab": {
      "provenance": [],
      "include_colab_link": true
    },
    "kernelspec": {
      "display_name": "Python 3",
      "name": "python3"
    },
    "language_info": {
      "name": "python"
    }
  },
  "nbformat": 4,
  "nbformat_minor": 0
}