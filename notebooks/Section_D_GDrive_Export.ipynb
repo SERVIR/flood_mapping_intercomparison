{
  "cells": [
    {
      "cell_type": "markdown",
      "metadata": {
        "id": "view-in-github",
        "colab_type": "text"
      },
      "source": [
        "<a href=\"https://colab.research.google.com/github/SERVIR/flood_mapping_intercomparison/blob/main/notebooks/Script_D_GDrive_Export.ipynb\" target=\"_parent\"><img src=\"https://colab.research.google.com/assets/colab-badge.svg\" alt=\"Open In Colab\"/></a>"
      ]
    },
    {
      "cell_type": "markdown",
      "source": [
        "# Introduction"
      ],
      "metadata": {
        "id": "oaHhtCme1x3d"
      }
    },
    {
      "cell_type": "markdown",
      "source": [
        "The goal of this module is to take the flood maps that we obtained from the global products, mosaic them, clip them, and assign to them all common raster values.\n",
        "\n",
        "Each of the products has their own unique raster values, which can be seen in [this table](https://docs.google.com/spreadsheets/d/15igmiH1EHjtiyprgx6LnF78lvNh2scZSnlc12ySr0PQ/edit?usp=sharing). This script will take each product and reassign its raster values to the following raster value scheme:\n",
        "\n",
        "Pixel Value            |        Land Cover Class\n",
        "---                    | :---:\n",
        "0                      |  Nonwater\n",
        "1                      |  Water\n",
        "2                      |  Masked (e.g. cloud, cloud shadow)\n",
        "\n",
        "**Table 1: Pixel Values Used for SERVIR's Flood Mapping Intercomparison Project**"
      ],
      "metadata": {
        "id": "0VWFCgM-wa3c"
      }
    },
    {
      "cell_type": "markdown",
      "source": [
        "### MODIFIABLE VARIABLE ALERT\n",
        "\n",
        "Change the variables below to match your Google Earth Engine project and the Google Earth Engine Folder where you uploaded the flood maps we exported at the end of Module 2."
      ],
      "metadata": {
        "id": "ksDn2h2oRZ6s"
      }
    },
    {
      "cell_type": "code",
      "source": [
        "my_gee_project = 'servir-sco-assets'\n",
        "#my_gee_folder = \"users/mickymags//\""
      ],
      "metadata": {
        "id": "2BoiiMzqhwiO"
      },
      "execution_count": null,
      "outputs": []
    },
    {
      "cell_type": "code",
      "source": [
        "#!pip install geemap"
      ],
      "metadata": {
        "id": "1nCo-Dzb3zi4"
      },
      "execution_count": null,
      "outputs": []
    },
    {
      "cell_type": "code",
      "source": [
        "import geemap\n",
        "import ee\n",
        "\n",
        "ee.Authenticate()\n",
        "ee.Initialize(project=my_gee_project)"
      ],
      "metadata": {
        "id": "oRWWw1q9319K"
      },
      "execution_count": null,
      "outputs": []
    },
    {
      "cell_type": "code",
      "source": [
        "arkansas_folder = 'users/mickymags/semi_fmi_arkansas_20250409/'\n",
        "cambodia_folder = 'users/mickymags/semi_fmi_cambodia_20241001/'\n",
        "chad_folder = 'users/mickymags/semi_fmi_chad_20240926/'\n",
        "florida_folder = 'users/mickymags/semi_fmi_florida_20241015/'\n",
        "pakistan_folder = 'users/mickymags/semi_fmi_pakistan_20230616/'\n",
        "\n",
        "arkansas_export_folder = 'arkansas_exports_20250617'\n",
        "cambodia_export_folder = 'cambodia_exports_20250617'\n",
        "chad_export_folder = 'chad_exports_20250617'\n",
        "florida_export_folder = 'florida_exports_20250617'\n",
        "pakistan_export_folder = 'pakistan_exports_20250617'"
      ],
      "metadata": {
        "id": "7I5xWcsZAgfx",
        "colab": {
          "base_uri": "https://localhost:8080/",
          "height": 17
        },
        "outputId": "97eb976a-6d11-47bc-9b12-97a4f9c31169"
      },
      "execution_count": null,
      "outputs": [
        {
          "output_type": "display_data",
          "data": {
            "text/plain": [
              "<IPython.core.display.HTML object>"
            ],
            "text/html": [
              "\n",
              "            <style>\n",
              "                .geemap-dark {\n",
              "                    --jp-widgets-color: white;\n",
              "                    --jp-widgets-label-color: white;\n",
              "                    --jp-ui-font-color1: white;\n",
              "                    --jp-layout-color2: #454545;\n",
              "                    background-color: #383838;\n",
              "                }\n",
              "\n",
              "                .geemap-dark .jupyter-button {\n",
              "                    --jp-layout-color3: #383838;\n",
              "                }\n",
              "\n",
              "                .geemap-colab {\n",
              "                    background-color: var(--colab-primary-surface-color, white);\n",
              "                }\n",
              "\n",
              "                .geemap-colab .jupyter-button {\n",
              "                    --jp-layout-color3: var(--colab-primary-surface-color, white);\n",
              "                }\n",
              "            </style>\n",
              "            "
            ]
          },
          "metadata": {}
        }
      ]
    },
    {
      "cell_type": "code",
      "source": [
        "# Define a function that exports an Image to a Google Earth Engine Asset.\n",
        "\n",
        "def img_exporter(img, my_input_folder, my_export_folder, my_desc):\n",
        "\n",
        "  desc = my_desc\n",
        "  my_aoi = ee.FeatureCollection(my_input_folder + 'aoi')\n",
        "  my_scale = img.projection().nominalScale().getInfo()\n",
        "  my_proj = img.projection().getInfo()['crs']\n",
        "  region_ = my_aoi.geometry()\n",
        "  geemap.ee_export_image_to_drive(image = img,\n",
        "                                  folder = my_export_folder,\n",
        "                                  description = desc,\n",
        "                                  region = region_,\n",
        "                                  crs = my_proj,\n",
        "                                  scale = my_scale,\n",
        "                                  maxPixels = 1e13)\n",
        "  return 0"
      ],
      "metadata": {
        "id": "jtae0sbuAgKq",
        "colab": {
          "base_uri": "https://localhost:8080/",
          "height": 17
        },
        "outputId": "82b887c6-7d36-4e41-94e5-374a95d2e572"
      },
      "execution_count": null,
      "outputs": [
        {
          "output_type": "display_data",
          "data": {
            "text/plain": [
              "<IPython.core.display.HTML object>"
            ],
            "text/html": [
              "\n",
              "            <style>\n",
              "                .geemap-dark {\n",
              "                    --jp-widgets-color: white;\n",
              "                    --jp-widgets-label-color: white;\n",
              "                    --jp-ui-font-color1: white;\n",
              "                    --jp-layout-color2: #454545;\n",
              "                    background-color: #383838;\n",
              "                }\n",
              "\n",
              "                .geemap-dark .jupyter-button {\n",
              "                    --jp-layout-color3: #383838;\n",
              "                }\n",
              "\n",
              "                .geemap-colab {\n",
              "                    background-color: var(--colab-primary-surface-color, white);\n",
              "                }\n",
              "\n",
              "                .geemap-colab .jupyter-button {\n",
              "                    --jp-layout-color3: var(--colab-primary-surface-color, white);\n",
              "                }\n",
              "            </style>\n",
              "            "
            ]
          },
          "metadata": {}
        }
      ]
    },
    {
      "cell_type": "markdown",
      "source": [
        "# Part 1: Arkansas"
      ],
      "metadata": {
        "id": "c4ydw9F9tagj"
      }
    },
    {
      "cell_type": "code",
      "source": [
        "ark_dswxhls = ee.Image(arkansas_folder + 'dswxhls_harmonized')\n",
        "ark_dswxs1 = ee.Image(arkansas_folder + 'dswxs1_harmonized')\n",
        "ark_gfm = ee.Image(arkansas_folder + 'gfm_harmonized')\n",
        "ark_hydrafloods =  ee.Image(arkansas_folder + 'hydrafloods_harmonized')\n",
        "ark_hydrosar = ee.Image(arkansas_folder + 'hydrosar_harmonized')\n",
        "ark_mcdwd = ee.Image(arkansas_folder + 'mcdwd_harmonized')\n",
        "ark_vfm = ee.Image(arkansas_folder + 'vfm_harmonized')"
      ],
      "metadata": {
        "colab": {
          "base_uri": "https://localhost:8080/",
          "height": 17
        },
        "id": "QFLgnvkRtaUL",
        "outputId": "42f466f0-9712-4557-d2f9-853bef8f3065"
      },
      "execution_count": null,
      "outputs": [
        {
          "output_type": "display_data",
          "data": {
            "text/plain": [
              "<IPython.core.display.HTML object>"
            ],
            "text/html": [
              "\n",
              "            <style>\n",
              "                .geemap-dark {\n",
              "                    --jp-widgets-color: white;\n",
              "                    --jp-widgets-label-color: white;\n",
              "                    --jp-ui-font-color1: white;\n",
              "                    --jp-layout-color2: #454545;\n",
              "                    background-color: #383838;\n",
              "                }\n",
              "\n",
              "                .geemap-dark .jupyter-button {\n",
              "                    --jp-layout-color3: #383838;\n",
              "                }\n",
              "\n",
              "                .geemap-colab {\n",
              "                    background-color: var(--colab-primary-surface-color, white);\n",
              "                }\n",
              "\n",
              "                .geemap-colab .jupyter-button {\n",
              "                    --jp-layout-color3: var(--colab-primary-surface-color, white);\n",
              "                }\n",
              "            </style>\n",
              "            "
            ]
          },
          "metadata": {}
        }
      ]
    },
    {
      "cell_type": "code",
      "source": [
        "#img_exporter(ark_dswxhls, arkansas_folder, arkansas_export_folder, 'dswxhls_arkansas')\n",
        "img_exporter(ark_dswxs1, arkansas_folder, arkansas_export_folder, 'dswxs1_arkansas')\n",
        "img_exporter(ark_gfm, arkansas_folder, arkansas_export_folder, 'gfm_arkansas')\n",
        "img_exporter(ark_hydrafloods, arkansas_folder, arkansas_export_folder, 'hydrafloods_arkansas')\n",
        "img_exporter(ark_hydrosar, arkansas_folder, arkansas_export_folder, 'hydrosar_arkansas')\n",
        "img_exporter(ark_mcdwd, arkansas_folder, arkansas_export_folder, 'mcdwd_arkansas')\n",
        "img_exporter(ark_vfm, arkansas_folder, arkansas_export_folder, 'vfm_arkansas')"
      ],
      "metadata": {
        "colab": {
          "base_uri": "https://localhost:8080/",
          "height": 34
        },
        "id": "m6CQoMxCui7m",
        "outputId": "86cb37c8-6327-4ca4-d3ab-9a23f87a79a3"
      },
      "execution_count": null,
      "outputs": [
        {
          "output_type": "display_data",
          "data": {
            "text/plain": [
              "<IPython.core.display.HTML object>"
            ],
            "text/html": [
              "\n",
              "            <style>\n",
              "                .geemap-dark {\n",
              "                    --jp-widgets-color: white;\n",
              "                    --jp-widgets-label-color: white;\n",
              "                    --jp-ui-font-color1: white;\n",
              "                    --jp-layout-color2: #454545;\n",
              "                    background-color: #383838;\n",
              "                }\n",
              "\n",
              "                .geemap-dark .jupyter-button {\n",
              "                    --jp-layout-color3: #383838;\n",
              "                }\n",
              "\n",
              "                .geemap-colab {\n",
              "                    background-color: var(--colab-primary-surface-color, white);\n",
              "                }\n",
              "\n",
              "                .geemap-colab .jupyter-button {\n",
              "                    --jp-layout-color3: var(--colab-primary-surface-color, white);\n",
              "                }\n",
              "            </style>\n",
              "            "
            ]
          },
          "metadata": {}
        },
        {
          "output_type": "execute_result",
          "data": {
            "text/plain": [
              "0"
            ]
          },
          "metadata": {},
          "execution_count": 29
        }
      ]
    },
    {
      "cell_type": "markdown",
      "source": [
        "# Part 2: Cambodia"
      ],
      "metadata": {
        "id": "UoM4sF1ywAiQ"
      }
    },
    {
      "cell_type": "code",
      "source": [
        "cam_dswxhls = ee.Image(cambodia_folder + 'dswxhls_harmonized')\n",
        "cam_dswxs1 = ee.Image(cambodia_folder + 'dswxs1_harmonized')\n",
        "cam_gfm = ee.Image(cambodia_folder + 'gfm_harmonized')\n",
        "cam_hydrafloods =  ee.Image(cambodia_folder + 'hydrafloods_harmonized')\n",
        "cam_hydrosar = ee.Image(cambodia_folder + 'hydrosar_harmonized')\n",
        "cam_mcdwd = ee.Image(cambodia_folder + 'mcdwd_harmonized')\n",
        "cam_vfm = ee.Image(cambodia_folder + 'vfm_harmonized')"
      ],
      "metadata": {
        "colab": {
          "base_uri": "https://localhost:8080/",
          "height": 17
        },
        "id": "JPFNc6NJwDYZ",
        "outputId": "77abbb6a-770f-48f3-8955-c86ed2ea8152"
      },
      "execution_count": null,
      "outputs": [
        {
          "output_type": "display_data",
          "data": {
            "text/plain": [
              "<IPython.core.display.HTML object>"
            ],
            "text/html": [
              "\n",
              "            <style>\n",
              "                .geemap-dark {\n",
              "                    --jp-widgets-color: white;\n",
              "                    --jp-widgets-label-color: white;\n",
              "                    --jp-ui-font-color1: white;\n",
              "                    --jp-layout-color2: #454545;\n",
              "                    background-color: #383838;\n",
              "                }\n",
              "\n",
              "                .geemap-dark .jupyter-button {\n",
              "                    --jp-layout-color3: #383838;\n",
              "                }\n",
              "\n",
              "                .geemap-colab {\n",
              "                    background-color: var(--colab-primary-surface-color, white);\n",
              "                }\n",
              "\n",
              "                .geemap-colab .jupyter-button {\n",
              "                    --jp-layout-color3: var(--colab-primary-surface-color, white);\n",
              "                }\n",
              "            </style>\n",
              "            "
            ]
          },
          "metadata": {}
        }
      ]
    },
    {
      "cell_type": "code",
      "source": [
        "img_exporter(cam_dswxhls, cambodia_folder, cambodia_export_folder, 'dswxhls_cambodia')\n",
        "img_exporter(cam_dswxs1, cambodia_folder, cambodia_export_folder, 'dswxs1_cambodia')\n",
        "img_exporter(cam_gfm, cambodia_folder, cambodia_export_folder, 'gfm_cambodia')\n",
        "img_exporter(cam_hydrafloods, cambodia_folder, cambodia_export_folder, 'hydrafloods_cambodia')\n",
        "img_exporter(cam_hydrosar, cambodia_folder, cambodia_export_folder, 'hydrosar_cambodia')\n",
        "img_exporter(cam_mcdwd, cambodia_folder, cambodia_export_folder, 'mcdwd_cambodia')\n",
        "img_exporter(cam_vfm, cambodia_folder, cambodia_export_folder, 'vfm_cambodia')"
      ],
      "metadata": {
        "colab": {
          "base_uri": "https://localhost:8080/",
          "height": 34
        },
        "id": "5n-7XHOiwEbS",
        "outputId": "175e5341-aa37-4a90-f006-da957fdfcbe0"
      },
      "execution_count": null,
      "outputs": [
        {
          "output_type": "display_data",
          "data": {
            "text/plain": [
              "<IPython.core.display.HTML object>"
            ],
            "text/html": [
              "\n",
              "            <style>\n",
              "                .geemap-dark {\n",
              "                    --jp-widgets-color: white;\n",
              "                    --jp-widgets-label-color: white;\n",
              "                    --jp-ui-font-color1: white;\n",
              "                    --jp-layout-color2: #454545;\n",
              "                    background-color: #383838;\n",
              "                }\n",
              "\n",
              "                .geemap-dark .jupyter-button {\n",
              "                    --jp-layout-color3: #383838;\n",
              "                }\n",
              "\n",
              "                .geemap-colab {\n",
              "                    background-color: var(--colab-primary-surface-color, white);\n",
              "                }\n",
              "\n",
              "                .geemap-colab .jupyter-button {\n",
              "                    --jp-layout-color3: var(--colab-primary-surface-color, white);\n",
              "                }\n",
              "            </style>\n",
              "            "
            ]
          },
          "metadata": {}
        },
        {
          "output_type": "execute_result",
          "data": {
            "text/plain": [
              "0"
            ]
          },
          "metadata": {},
          "execution_count": 32
        }
      ]
    },
    {
      "cell_type": "markdown",
      "source": [
        "# Part 3: Chad"
      ],
      "metadata": {
        "id": "zjol58UpwlK9"
      }
    },
    {
      "cell_type": "code",
      "source": [
        "chad_dswxhls = ee.Image(chad_folder + 'dswxhls_harmonized')\n",
        "chad_dswxs1 = ee.Image(chad_folder + 'dswxs1_harmonized')\n",
        "chad_gfm = ee.Image(chad_folder + 'gfm_harmonized')\n",
        "chad_hydrafloods =  ee.Image(chad_folder + 'hydrafloods_harmonized')\n",
        "chad_hydrosar = ee.Image(chad_folder + 'hydrosar_harmonized')\n",
        "chad_mcdwd = ee.Image(chad_folder + 'mcdwd_harmonized')\n",
        "chad_vfm = ee.Image(chad_folder + 'vfm_harmonized')"
      ],
      "metadata": {
        "colab": {
          "base_uri": "https://localhost:8080/",
          "height": 17
        },
        "id": "gxIL-JiBwDVq",
        "outputId": "b6811f4a-bd23-4c74-95a7-aab2f9c43956"
      },
      "execution_count": null,
      "outputs": [
        {
          "output_type": "display_data",
          "data": {
            "text/plain": [
              "<IPython.core.display.HTML object>"
            ],
            "text/html": [
              "\n",
              "            <style>\n",
              "                .geemap-dark {\n",
              "                    --jp-widgets-color: white;\n",
              "                    --jp-widgets-label-color: white;\n",
              "                    --jp-ui-font-color1: white;\n",
              "                    --jp-layout-color2: #454545;\n",
              "                    background-color: #383838;\n",
              "                }\n",
              "\n",
              "                .geemap-dark .jupyter-button {\n",
              "                    --jp-layout-color3: #383838;\n",
              "                }\n",
              "\n",
              "                .geemap-colab {\n",
              "                    background-color: var(--colab-primary-surface-color, white);\n",
              "                }\n",
              "\n",
              "                .geemap-colab .jupyter-button {\n",
              "                    --jp-layout-color3: var(--colab-primary-surface-color, white);\n",
              "                }\n",
              "            </style>\n",
              "            "
            ]
          },
          "metadata": {}
        }
      ]
    },
    {
      "cell_type": "code",
      "source": [
        "img_exporter(chad_dswxhls, chad_folder, chad_export_folder, 'dswxhls_chad')\n",
        "img_exporter(chad_dswxs1, chad_folder, chad_export_folder, 'dswxs1_chad')\n",
        "img_exporter(chad_gfm, chad_folder, chad_export_folder, 'gfm_chad')\n",
        "img_exporter(chad_hydrafloods, chad_folder, chad_export_folder, 'hydrafloods_chad')\n",
        "img_exporter(chad_hydrosar, chad_folder, chad_export_folder, 'hydrosar_chad')\n",
        "img_exporter(chad_mcdwd, chad_folder, chad_export_folder, 'mcdwd_chad')\n",
        "img_exporter(chad_vfm, chad_folder, chad_export_folder, 'vfm_chad')"
      ],
      "metadata": {
        "colab": {
          "base_uri": "https://localhost:8080/",
          "height": 34
        },
        "id": "yIaTa2ARwq1X",
        "outputId": "30947e34-8b6d-4553-f178-ef7f709023e7"
      },
      "execution_count": null,
      "outputs": [
        {
          "output_type": "display_data",
          "data": {
            "text/plain": [
              "<IPython.core.display.HTML object>"
            ],
            "text/html": [
              "\n",
              "            <style>\n",
              "                .geemap-dark {\n",
              "                    --jp-widgets-color: white;\n",
              "                    --jp-widgets-label-color: white;\n",
              "                    --jp-ui-font-color1: white;\n",
              "                    --jp-layout-color2: #454545;\n",
              "                    background-color: #383838;\n",
              "                }\n",
              "\n",
              "                .geemap-dark .jupyter-button {\n",
              "                    --jp-layout-color3: #383838;\n",
              "                }\n",
              "\n",
              "                .geemap-colab {\n",
              "                    background-color: var(--colab-primary-surface-color, white);\n",
              "                }\n",
              "\n",
              "                .geemap-colab .jupyter-button {\n",
              "                    --jp-layout-color3: var(--colab-primary-surface-color, white);\n",
              "                }\n",
              "            </style>\n",
              "            "
            ]
          },
          "metadata": {}
        },
        {
          "output_type": "execute_result",
          "data": {
            "text/plain": [
              "0"
            ]
          },
          "metadata": {},
          "execution_count": 37
        }
      ]
    },
    {
      "cell_type": "markdown",
      "source": [
        "# Part 4: Florida"
      ],
      "metadata": {
        "id": "CYJ5WFPsxGIl"
      }
    },
    {
      "cell_type": "code",
      "source": [
        "florida_dswxhls = ee.Image(florida_folder + 'dswxhls_harmonized')\n",
        "florida_dswxs1 = ee.Image(florida_folder + 'dswxs1_harmonized')\n",
        "florida_gfm = ee.Image(florida_folder + 'gfm_harmonized')\n",
        "florida_hydrafloods =  ee.Image(florida_folder + 'hydrafloods_harmonized')\n",
        "florida_hydrosar = ee.Image(florida_folder + 'hydrosar_harmonized')\n",
        "florida_mcdwd = ee.Image(florida_folder + 'mcdwd_harmonized')\n",
        "florida_vfm = ee.Image(florida_folder + 'vfm_harmonized')"
      ],
      "metadata": {
        "colab": {
          "base_uri": "https://localhost:8080/",
          "height": 17
        },
        "id": "X_3T9AW0wDTB",
        "outputId": "1c98278d-e6e4-490b-8807-7fcf94d7b24d"
      },
      "execution_count": null,
      "outputs": [
        {
          "output_type": "display_data",
          "data": {
            "text/plain": [
              "<IPython.core.display.HTML object>"
            ],
            "text/html": [
              "\n",
              "            <style>\n",
              "                .geemap-dark {\n",
              "                    --jp-widgets-color: white;\n",
              "                    --jp-widgets-label-color: white;\n",
              "                    --jp-ui-font-color1: white;\n",
              "                    --jp-layout-color2: #454545;\n",
              "                    background-color: #383838;\n",
              "                }\n",
              "\n",
              "                .geemap-dark .jupyter-button {\n",
              "                    --jp-layout-color3: #383838;\n",
              "                }\n",
              "\n",
              "                .geemap-colab {\n",
              "                    background-color: var(--colab-primary-surface-color, white);\n",
              "                }\n",
              "\n",
              "                .geemap-colab .jupyter-button {\n",
              "                    --jp-layout-color3: var(--colab-primary-surface-color, white);\n",
              "                }\n",
              "            </style>\n",
              "            "
            ]
          },
          "metadata": {}
        }
      ]
    },
    {
      "cell_type": "code",
      "source": [
        "img_exporter(florida_dswxhls, florida_folder, florida_export_folder, 'dswxhls_florida')\n",
        "img_exporter(florida_dswxs1, florida_folder, florida_export_folder, 'dswxs1_florida')\n",
        "#img_exporter(florida_gfm, florida_folder, florida_export_folder, 'gfm_florida')\n",
        "img_exporter(florida_hydrafloods, florida_folder, florida_export_folder, 'hydrafloods_florida')\n",
        "img_exporter(florida_hydrosar, florida_folder, florida_export_folder, 'hydrosar_florida')\n",
        "img_exporter(florida_mcdwd, florida_folder, florida_export_folder, 'mcdwd_florida')\n",
        "img_exporter(florida_vfm, florida_folder, florida_export_folder, 'vfm_florida')"
      ],
      "metadata": {
        "colab": {
          "base_uri": "https://localhost:8080/",
          "height": 34
        },
        "id": "IZdGZi3AwDPZ",
        "outputId": "d9360c03-8ed3-43f1-b630-ddee6232476c"
      },
      "execution_count": null,
      "outputs": [
        {
          "output_type": "display_data",
          "data": {
            "text/plain": [
              "<IPython.core.display.HTML object>"
            ],
            "text/html": [
              "\n",
              "            <style>\n",
              "                .geemap-dark {\n",
              "                    --jp-widgets-color: white;\n",
              "                    --jp-widgets-label-color: white;\n",
              "                    --jp-ui-font-color1: white;\n",
              "                    --jp-layout-color2: #454545;\n",
              "                    background-color: #383838;\n",
              "                }\n",
              "\n",
              "                .geemap-dark .jupyter-button {\n",
              "                    --jp-layout-color3: #383838;\n",
              "                }\n",
              "\n",
              "                .geemap-colab {\n",
              "                    background-color: var(--colab-primary-surface-color, white);\n",
              "                }\n",
              "\n",
              "                .geemap-colab .jupyter-button {\n",
              "                    --jp-layout-color3: var(--colab-primary-surface-color, white);\n",
              "                }\n",
              "            </style>\n",
              "            "
            ]
          },
          "metadata": {}
        },
        {
          "output_type": "execute_result",
          "data": {
            "text/plain": [
              "0"
            ]
          },
          "metadata": {},
          "execution_count": 7
        }
      ]
    },
    {
      "cell_type": "markdown",
      "source": [
        "# Part 5: Pakistan"
      ],
      "metadata": {
        "id": "DhHWXul9xLAN"
      }
    },
    {
      "cell_type": "code",
      "source": [
        "pakistan_dswxhls = ee.Image(pakistan_folder + 'dswxhls_harmonized')\n",
        "pakistan_dswxs1 = ee.Image(pakistan_folder + 'dswxs1_harmonized')\n",
        "pakistan_gfm = ee.Image(pakistan_folder + 'gfm_harmonized')\n",
        "pakistan_hydrafloods =  ee.Image(pakistan_folder + 'hydrafloods_harmonized')\n",
        "pakistan_hydrosar = ee.Image(pakistan_folder + 'hydrosar_harmonized')\n",
        "pakistan_mcdwd = ee.Image(pakistan_folder + 'mcdwd_harmonized')\n",
        "pakistan_vfm = ee.Image(pakistan_folder + 'vfm_harmonized')"
      ],
      "metadata": {
        "id": "gQBdsSKoxMeF",
        "colab": {
          "base_uri": "https://localhost:8080/",
          "height": 17
        },
        "outputId": "99e61398-3b4c-401d-968c-1e2372b05302"
      },
      "execution_count": null,
      "outputs": [
        {
          "output_type": "display_data",
          "data": {
            "text/plain": [
              "<IPython.core.display.HTML object>"
            ],
            "text/html": [
              "\n",
              "            <style>\n",
              "                .geemap-dark {\n",
              "                    --jp-widgets-color: white;\n",
              "                    --jp-widgets-label-color: white;\n",
              "                    --jp-ui-font-color1: white;\n",
              "                    --jp-layout-color2: #454545;\n",
              "                    background-color: #383838;\n",
              "                }\n",
              "\n",
              "                .geemap-dark .jupyter-button {\n",
              "                    --jp-layout-color3: #383838;\n",
              "                }\n",
              "\n",
              "                .geemap-colab {\n",
              "                    background-color: var(--colab-primary-surface-color, white);\n",
              "                }\n",
              "\n",
              "                .geemap-colab .jupyter-button {\n",
              "                    --jp-layout-color3: var(--colab-primary-surface-color, white);\n",
              "                }\n",
              "            </style>\n",
              "            "
            ]
          },
          "metadata": {}
        }
      ]
    },
    {
      "cell_type": "code",
      "source": [
        "img_exporter(pakistan_dswxhls, pakistan_folder, pakistan_export_folder, 'dswxhls_pakistan')\n",
        "img_exporter(pakistan_gfm, pakistan_folder, pakistan_export_folder, 'gfm_pakistan')\n",
        "img_exporter(pakistan_hydrafloods, pakistan_folder, pakistan_export_folder, 'hydrafloods_pakistan')\n",
        "img_exporter(pakistan_hydrosar, pakistan_folder, pakistan_export_folder, 'hydrosar_pakistan')\n",
        "img_exporter(pakistan_mcdwd, pakistan_folder, pakistan_export_folder, 'mcdwd_pakistan')\n",
        "img_exporter(pakistan_vfm, pakistan_folder, pakistan_export_folder, 'vfm_pakistan')"
      ],
      "metadata": {
        "id": "jhjdKKU7xMbl",
        "colab": {
          "base_uri": "https://localhost:8080/",
          "height": 34
        },
        "outputId": "7a6bc9e2-aaf0-42b9-fb79-0c968f54e9b4"
      },
      "execution_count": null,
      "outputs": [
        {
          "output_type": "display_data",
          "data": {
            "text/plain": [
              "<IPython.core.display.HTML object>"
            ],
            "text/html": [
              "\n",
              "            <style>\n",
              "                .geemap-dark {\n",
              "                    --jp-widgets-color: white;\n",
              "                    --jp-widgets-label-color: white;\n",
              "                    --jp-ui-font-color1: white;\n",
              "                    --jp-layout-color2: #454545;\n",
              "                    background-color: #383838;\n",
              "                }\n",
              "\n",
              "                .geemap-dark .jupyter-button {\n",
              "                    --jp-layout-color3: #383838;\n",
              "                }\n",
              "\n",
              "                .geemap-colab {\n",
              "                    background-color: var(--colab-primary-surface-color, white);\n",
              "                }\n",
              "\n",
              "                .geemap-colab .jupyter-button {\n",
              "                    --jp-layout-color3: var(--colab-primary-surface-color, white);\n",
              "                }\n",
              "            </style>\n",
              "            "
            ]
          },
          "metadata": {}
        },
        {
          "output_type": "execute_result",
          "data": {
            "text/plain": [
              "0"
            ]
          },
          "metadata": {},
          "execution_count": 9
        }
      ]
    },
    {
      "cell_type": "markdown",
      "source": [
        "# Part 6: AOIS"
      ],
      "metadata": {
        "id": "L0U_otKNxMrV"
      }
    },
    {
      "cell_type": "code",
      "source": [
        "arkansas_aoi = ee.FeatureCollection(arkansas_folder + 'aoi')\n",
        "cambodia_aoi = ee.FeatureCollection(cambodia_folder + 'aoi')\n",
        "chad_aoi = ee.FeatureCollection(chad_folder + 'aoi')\n",
        "florida_aoi = ee.FeatureCollection(florida_folder + 'aoi')\n",
        "pakistan_aoi = ee.FeatureCollection(pakistan_folder + 'aoi')"
      ],
      "metadata": {
        "colab": {
          "base_uri": "https://localhost:8080/",
          "height": 17
        },
        "id": "jTd1-n64xOPO",
        "outputId": "6ae85a33-6bd6-4b51-ce4f-dece4eff3282"
      },
      "execution_count": null,
      "outputs": [
        {
          "output_type": "display_data",
          "data": {
            "text/plain": [
              "<IPython.core.display.HTML object>"
            ],
            "text/html": [
              "\n",
              "            <style>\n",
              "                .geemap-dark {\n",
              "                    --jp-widgets-color: white;\n",
              "                    --jp-widgets-label-color: white;\n",
              "                    --jp-ui-font-color1: white;\n",
              "                    --jp-layout-color2: #454545;\n",
              "                    background-color: #383838;\n",
              "                }\n",
              "\n",
              "                .geemap-dark .jupyter-button {\n",
              "                    --jp-layout-color3: #383838;\n",
              "                }\n",
              "\n",
              "                .geemap-colab {\n",
              "                    background-color: var(--colab-primary-surface-color, white);\n",
              "                }\n",
              "\n",
              "                .geemap-colab .jupyter-button {\n",
              "                    --jp-layout-color3: var(--colab-primary-surface-color, white);\n",
              "                }\n",
              "            </style>\n",
              "            "
            ]
          },
          "metadata": {}
        }
      ]
    },
    {
      "cell_type": "code",
      "source": [
        "geemap.ee_export_vector_to_drive(\n",
        "    arkansas_aoi,\n",
        "    description = 'arkansas_aoi',\n",
        "    folder = arkansas_export_folder,\n",
        "    fileFormat = 'GeoJSON'\n",
        ")"
      ],
      "metadata": {
        "colab": {
          "base_uri": "https://localhost:8080/",
          "height": 34
        },
        "id": "Sk3ng231xOMt",
        "outputId": "59d73b59-5d18-46b8-faae-bc8c997a2ade"
      },
      "execution_count": null,
      "outputs": [
        {
          "output_type": "display_data",
          "data": {
            "text/plain": [
              "<IPython.core.display.HTML object>"
            ],
            "text/html": [
              "\n",
              "            <style>\n",
              "                .geemap-dark {\n",
              "                    --jp-widgets-color: white;\n",
              "                    --jp-widgets-label-color: white;\n",
              "                    --jp-ui-font-color1: white;\n",
              "                    --jp-layout-color2: #454545;\n",
              "                    background-color: #383838;\n",
              "                }\n",
              "\n",
              "                .geemap-dark .jupyter-button {\n",
              "                    --jp-layout-color3: #383838;\n",
              "                }\n",
              "\n",
              "                .geemap-colab {\n",
              "                    background-color: var(--colab-primary-surface-color, white);\n",
              "                }\n",
              "\n",
              "                .geemap-colab .jupyter-button {\n",
              "                    --jp-layout-color3: var(--colab-primary-surface-color, white);\n",
              "                }\n",
              "            </style>\n",
              "            "
            ]
          },
          "metadata": {}
        },
        {
          "output_type": "stream",
          "name": "stdout",
          "text": [
            "Exporting arkansas_aoi... Please check the Task Manager from the JavaScript Code Editor.\n"
          ]
        }
      ]
    },
    {
      "cell_type": "code",
      "source": [
        "geemap.ee_export_vector_to_drive(\n",
        "    cambodia_aoi,\n",
        "    description = 'cambodia_aoi',\n",
        "    folder = cambodia_export_folder,\n",
        "    fileFormat = 'GeoJSON'\n",
        ")"
      ],
      "metadata": {
        "colab": {
          "base_uri": "https://localhost:8080/",
          "height": 34
        },
        "id": "h0GdNXNMxOKE",
        "outputId": "b18b78fd-8744-4319-bcc5-597306290e94"
      },
      "execution_count": null,
      "outputs": [
        {
          "output_type": "display_data",
          "data": {
            "text/plain": [
              "<IPython.core.display.HTML object>"
            ],
            "text/html": [
              "\n",
              "            <style>\n",
              "                .geemap-dark {\n",
              "                    --jp-widgets-color: white;\n",
              "                    --jp-widgets-label-color: white;\n",
              "                    --jp-ui-font-color1: white;\n",
              "                    --jp-layout-color2: #454545;\n",
              "                    background-color: #383838;\n",
              "                }\n",
              "\n",
              "                .geemap-dark .jupyter-button {\n",
              "                    --jp-layout-color3: #383838;\n",
              "                }\n",
              "\n",
              "                .geemap-colab {\n",
              "                    background-color: var(--colab-primary-surface-color, white);\n",
              "                }\n",
              "\n",
              "                .geemap-colab .jupyter-button {\n",
              "                    --jp-layout-color3: var(--colab-primary-surface-color, white);\n",
              "                }\n",
              "            </style>\n",
              "            "
            ]
          },
          "metadata": {}
        },
        {
          "output_type": "stream",
          "name": "stdout",
          "text": [
            "Exporting cambodia_aoi... Please check the Task Manager from the JavaScript Code Editor.\n"
          ]
        }
      ]
    },
    {
      "cell_type": "code",
      "source": [
        "geemap.ee_export_vector_to_drive(\n",
        "    chad_aoi,\n",
        "    description = 'chad_aoi',\n",
        "    folder = chad_export_folder,\n",
        "    fileFormat = 'GeoJSON'\n",
        ")"
      ],
      "metadata": {
        "colab": {
          "base_uri": "https://localhost:8080/",
          "height": 34
        },
        "id": "R-J0ExV8yjV7",
        "outputId": "da0d173c-722e-4fa1-c765-6289cb4f14f8"
      },
      "execution_count": null,
      "outputs": [
        {
          "output_type": "display_data",
          "data": {
            "text/plain": [
              "<IPython.core.display.HTML object>"
            ],
            "text/html": [
              "\n",
              "            <style>\n",
              "                .geemap-dark {\n",
              "                    --jp-widgets-color: white;\n",
              "                    --jp-widgets-label-color: white;\n",
              "                    --jp-ui-font-color1: white;\n",
              "                    --jp-layout-color2: #454545;\n",
              "                    background-color: #383838;\n",
              "                }\n",
              "\n",
              "                .geemap-dark .jupyter-button {\n",
              "                    --jp-layout-color3: #383838;\n",
              "                }\n",
              "\n",
              "                .geemap-colab {\n",
              "                    background-color: var(--colab-primary-surface-color, white);\n",
              "                }\n",
              "\n",
              "                .geemap-colab .jupyter-button {\n",
              "                    --jp-layout-color3: var(--colab-primary-surface-color, white);\n",
              "                }\n",
              "            </style>\n",
              "            "
            ]
          },
          "metadata": {}
        },
        {
          "output_type": "stream",
          "name": "stdout",
          "text": [
            "Exporting chad_aoi... Please check the Task Manager from the JavaScript Code Editor.\n"
          ]
        }
      ]
    },
    {
      "cell_type": "code",
      "source": [
        "geemap.ee_export_vector_to_drive(\n",
        "    florida_aoi,\n",
        "    description = 'florida_aoi',\n",
        "    folder = florida_export_folder,\n",
        "    fileFormat = 'GeoJSON'\n",
        ")"
      ],
      "metadata": {
        "colab": {
          "base_uri": "https://localhost:8080/",
          "height": 34
        },
        "id": "NPopAStRyoFA",
        "outputId": "bb08aca7-f075-428e-b1c0-3617f5b1ad14"
      },
      "execution_count": null,
      "outputs": [
        {
          "output_type": "display_data",
          "data": {
            "text/plain": [
              "<IPython.core.display.HTML object>"
            ],
            "text/html": [
              "\n",
              "            <style>\n",
              "                .geemap-dark {\n",
              "                    --jp-widgets-color: white;\n",
              "                    --jp-widgets-label-color: white;\n",
              "                    --jp-ui-font-color1: white;\n",
              "                    --jp-layout-color2: #454545;\n",
              "                    background-color: #383838;\n",
              "                }\n",
              "\n",
              "                .geemap-dark .jupyter-button {\n",
              "                    --jp-layout-color3: #383838;\n",
              "                }\n",
              "\n",
              "                .geemap-colab {\n",
              "                    background-color: var(--colab-primary-surface-color, white);\n",
              "                }\n",
              "\n",
              "                .geemap-colab .jupyter-button {\n",
              "                    --jp-layout-color3: var(--colab-primary-surface-color, white);\n",
              "                }\n",
              "            </style>\n",
              "            "
            ]
          },
          "metadata": {}
        },
        {
          "output_type": "stream",
          "name": "stdout",
          "text": [
            "Exporting florida_aoi... Please check the Task Manager from the JavaScript Code Editor.\n"
          ]
        }
      ]
    },
    {
      "cell_type": "code",
      "source": [
        "geemap.ee_export_vector_to_drive(\n",
        "    pakistan_aoi,\n",
        "    description = 'pakistan_aoi',\n",
        "    folder = pakistan_export_folder,\n",
        "    fileFormat = 'GeoJSON'\n",
        ")"
      ],
      "metadata": {
        "colab": {
          "base_uri": "https://localhost:8080/",
          "height": 34
        },
        "id": "UuRZsuApysTa",
        "outputId": "5c2e9c8f-1086-434d-fb99-1be93f9f5d27"
      },
      "execution_count": null,
      "outputs": [
        {
          "output_type": "display_data",
          "data": {
            "text/plain": [
              "<IPython.core.display.HTML object>"
            ],
            "text/html": [
              "\n",
              "            <style>\n",
              "                .geemap-dark {\n",
              "                    --jp-widgets-color: white;\n",
              "                    --jp-widgets-label-color: white;\n",
              "                    --jp-ui-font-color1: white;\n",
              "                    --jp-layout-color2: #454545;\n",
              "                    background-color: #383838;\n",
              "                }\n",
              "\n",
              "                .geemap-dark .jupyter-button {\n",
              "                    --jp-layout-color3: #383838;\n",
              "                }\n",
              "\n",
              "                .geemap-colab {\n",
              "                    background-color: var(--colab-primary-surface-color, white);\n",
              "                }\n",
              "\n",
              "                .geemap-colab .jupyter-button {\n",
              "                    --jp-layout-color3: var(--colab-primary-surface-color, white);\n",
              "                }\n",
              "            </style>\n",
              "            "
            ]
          },
          "metadata": {}
        },
        {
          "output_type": "stream",
          "name": "stdout",
          "text": [
            "Exporting pakistan_aoi... Please check the Task Manager from the JavaScript Code Editor.\n"
          ]
        }
      ]
    },
    {
      "cell_type": "code",
      "source": [
        "ark_dswxhls.projection().getInfo()['crs']"
      ],
      "metadata": {
        "colab": {
          "base_uri": "https://localhost:8080/",
          "height": 36
        },
        "id": "Y6dCWNyYtw_5",
        "outputId": "3333e323-ccf8-4a02-9095-d63d3637afbd"
      },
      "execution_count": null,
      "outputs": [
        {
          "output_type": "display_data",
          "data": {
            "text/plain": [
              "<IPython.core.display.HTML object>"
            ],
            "text/html": [
              "\n",
              "            <style>\n",
              "                .geemap-dark {\n",
              "                    --jp-widgets-color: white;\n",
              "                    --jp-widgets-label-color: white;\n",
              "                    --jp-ui-font-color1: white;\n",
              "                    --jp-layout-color2: #454545;\n",
              "                    background-color: #383838;\n",
              "                }\n",
              "\n",
              "                .geemap-dark .jupyter-button {\n",
              "                    --jp-layout-color3: #383838;\n",
              "                }\n",
              "\n",
              "                .geemap-colab {\n",
              "                    background-color: var(--colab-primary-surface-color, white);\n",
              "                }\n",
              "\n",
              "                .geemap-colab .jupyter-button {\n",
              "                    --jp-layout-color3: var(--colab-primary-surface-color, white);\n",
              "                }\n",
              "            </style>\n",
              "            "
            ]
          },
          "metadata": {}
        },
        {
          "output_type": "execute_result",
          "data": {
            "text/plain": [
              "'EPSG:32616'"
            ],
            "application/vnd.google.colaboratory.intrinsic+json": {
              "type": "string"
            }
          },
          "metadata": {},
          "execution_count": 10
        }
      ]
    },
    {
      "cell_type": "code",
      "source": [
        "def exporter(img, assetscale_):\n",
        "  desc = 'Flood_Map_Export_',\n",
        "  aoi =\n",
        "  geemap.ee_export_image_to_drive(\n",
        "      image,\n",
        "      description='landsat',\n",
        "      folder='export',\n",
        "      region=region,\n",
        "      scale=30\n",
        "  )\n"
      ],
      "metadata": {
        "id": "AwP8Eqv4HJWS"
      },
      "execution_count": null,
      "outputs": []
    }
  ],
  "metadata": {
    "colab": {
      "provenance": [],
      "include_colab_link": true
    },
    "kernelspec": {
      "display_name": "Python 3",
      "name": "python3"
    },
    "language_info": {
      "name": "python"
    }
  },
  "nbformat": 4,
  "nbformat_minor": 0
}
