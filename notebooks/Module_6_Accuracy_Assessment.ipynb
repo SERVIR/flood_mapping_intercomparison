{
  "cells": [
    {
      "cell_type": "markdown",
      "metadata": {
        "id": "view-in-github",
        "colab_type": "text"
      },
      "source": [
        "<a href=\"https://colab.research.google.com/github/SERVIR/flood_mapping_intercomparison/blob/main/notebooks/Module_6_Accuracy_Assessment.ipynb\" target=\"_parent\"><img src=\"https://colab.research.google.com/assets/colab-badge.svg\" alt=\"Open In Colab\"/></a>"
      ]
    },
    {
      "cell_type": "markdown",
      "metadata": {
        "id": "Btxy3PgzM5I8"
      },
      "source": [
        "In this module, we will import all of our flood maps and conduct an accuracy assessment. We will create confusion matrices which will show True Positives (TP), False Positives(FP), False Negatives(FN), and True Negatives.\n",
        "\n",
        "* TP = True Positive. Water in reference data, water in flood map.\n",
        "* FP = False Positive. Nonwater in reference data, water in flood map.\n",
        "* FN = False Negative. Water in Reference Data, nonwater in flood map.\n",
        "* TN = True Negative. Nonwater in reference data, nonwater in flood map.\n",
        "\n",
        "From the confusion matrix, we can calculate the following statistics (formulas and interpretation from Landwehr et al 2024 (See References):\n",
        "\n",
        "* Overall Accuracy = $\\begin{equation} \\frac{TP + TN}{TP + FP + FN + TN} \\end{equation} $\n",
        "  * Proportion of correctly classified instances (regardsless of class) to the total number of instances\n",
        "* Recall (aka Completeness, Sensitivity, or Producer's Accuracy for Water) = $\\begin{equation} \\frac{TP}{TP+FN} \\end{equation} $\n",
        "  * Fraction of actual positive instances that are correctly predicted\n",
        "* Precision (aka aka Correctness aka Positive Predict Value aka User's Accuracy for Water) = $\\begin{equation} \\frac{TP}{TP + FP} \\end{equation} $\n",
        "  * Fraction of positive predictions that are actually correct.\n",
        "* Specificity = Producer's Accuracy for Nonwater = $\\begin{equation} \\frac{TN}{TN+FP} \\end{equation} $\n",
        "* Negative Predictive Value = User's Accuracy for Nonwater = $\\begin{equation} \\frac{TN}{TN+FN} \\end{equation} $\n",
        "* F1 score (aka Dice Coefficient) =  $\\begin{equation} \\frac{2 * TP}{2 * TP + FP + FN} \\end{equation} $\n",
        "  * combines precision and recall to a harmonic mean\n",
        "* Normalized Matthews Correlation Coefficient (aka Phi coefficient, mean square coefficiency coefficient) = $\\begin{equation} \\frac{\\frac{TP * TN - FP * FN}{\\sqrt{(TP + FP) * (TP + FN) * (TN + FP) * (TN + FN)}}}{2} \\end{equation} $\n",
        "  * Correlation between observed and predicted classes. Useful for cases where there is a large class imbalance.\n",
        "\n",
        "We will calculate the confusion matrices and above metrics for all points, for high confidence reference points, and for various slope, elevation, and landcover classes.\n",
        "\n",
        "We will then write the results of the accuracy assessmnent to a CSV."
      ]
    },
    {
      "cell_type": "markdown",
      "metadata": {
        "id": "xxb7X-hvMnLP"
      },
      "source": [
        "# Step 1: Import packages"
      ]
    },
    {
      "cell_type": "code",
      "execution_count": null,
      "metadata": {
        "id": "n07orLu6Mpt1"
      },
      "outputs": [],
      "source": [
        "import numpy as np\n",
        "import pandas as pd\n",
        "from google.colab import drive\n",
        "import matplotlib.pyplot as plt\n",
        "import ee\n",
        "import geemap\n",
        "import matplotlib.pyplot as plt\n",
        "from sklearn.datasets import make_classification\n",
        "from sklearn.metrics import confusion_matrix, ConfusionMatrixDisplay\n",
        "from sklearn.model_selection import train_test_split\n",
        "from sklearn.svm import SVC"
      ]
    },
    {
      "cell_type": "code",
      "execution_count": null,
      "metadata": {
        "id": "kuDFCKyQpawK"
      },
      "outputs": [],
      "source": [
        "ee.Authenticate()\n",
        "\n",
        "ee.Initialize(project='servir-sco-assets')"
      ]
    },
    {
      "cell_type": "markdown",
      "metadata": {
        "id": "W6y1FZ23uqkR"
      },
      "source": [
        "# MODIFIABLE VARIABLE ALERT"
      ]
    },
    {
      "cell_type": "code",
      "execution_count": null,
      "metadata": {
        "id": "SoEql5pmrtiC"
      },
      "outputs": [],
      "source": [
        "my_gee_folder = \"users/mickymags/flood_intercomparison_chad_09_26_take2/\"\n",
        "aoi = ee.FeatureCollection(my_gee_folder + \"aoi\")\n",
        "doi = \"2024-09-26\""
      ]
    },
    {
      "cell_type": "code",
      "execution_count": null,
      "metadata": {
        "id": "YyLO0Vj2u0Py"
      },
      "outputs": [],
      "source": [
        "roi = aoi.geometry()\n",
        "aoi_centroid = aoi.geometry().centroid()             # Get the center of the AOI\n",
        "lon = aoi_centroid.coordinates().get(0).getInfo()    # Extract the longitude from the centroid\n",
        "lat = aoi_centroid.coordinates().get(1).getInfo()    # Extract the latitude from the centroid"
      ]
    },
    {
      "cell_type": "markdown",
      "metadata": {
        "id": "bfFuTWdUMixD"
      },
      "source": [
        "# Step 2: Import Flood Maps"
      ]
    },
    {
      "cell_type": "code",
      "execution_count": null,
      "metadata": {
        "collapsed": true,
        "id": "IallrHXeMzyN"
      },
      "outputs": [],
      "source": [
        "#!pip install geemap"
      ]
    },
    {
      "cell_type": "markdown",
      "metadata": {
        "id": "g2PC7sD4Nghd"
      },
      "source": [
        "Import each of the flood maps we exported at the end of Module 6, and the reference data we collected in Collect Earth Online.  "
      ]
    },
    {
      "cell_type": "code",
      "execution_count": null,
      "metadata": {
        "id": "fNiGrZCNpBSi"
      },
      "outputs": [],
      "source": [
        "#dswx = ee.Image(\"projects/servir-sco-assets/assets/flood_intercomparison/pk_case_study/dswx/dswx_mosaic\")\n",
        "#vfm = ee.Image(\"projects/servir-sco-assets/assets/flood_intercomparison/pk_case_study/vfm/vfm_mosaic\")\n",
        "#mcdwd= ee.Image(\"projects/servir-sco-assets/assets/flood_intercomparison/pk_case_study/mcdwd/mcdwd_mosaic\")\n",
        "#gfm = ee.Image(\"projects/servir-sco-assets/assets/flood_intercomparison/pk_case_study/gfm/gfm_mosaic\")\n",
        "#hf = ee.Image(\"users/mickymags/fmi/hf_pk_06162023\")\n",
        "#hydrosar = ee.Image(parent_directory + '/hydrosar/hydrosar_mosaic')"
      ]
    },
    {
      "cell_type": "code",
      "execution_count": null,
      "metadata": {
        "id": "4WNRInlOG2Se"
      },
      "outputs": [],
      "source": [
        "my_ref_data = ee.FeatureCollection(my_gee_folder + \"reference_data\")\n",
        "dswx_hls = ee.Image(my_gee_folder + \"dswxhls_harmonized\")\n",
        "dswx_s1 = ee.Image(my_gee_folder + \"dswxs1_harmonized\")\n",
        "mcdwd = ee.Image(my_gee_folder + \"mcdwd_harmonized\")\n",
        "hf = ee.Image(my_gee_folder + \"hydrafloods_harmonized\")\n",
        "hydrosar = ee.Image(my_gee_folder + \"hydrosar_harmonized\")\n",
        "gfm = ee.Image(my_gee_folder + \"gfm_harmonized\")\n",
        "vfm = ee.Image(my_gee_folder + \"vfm_harmonized\")"
      ]
    },
    {
      "cell_type": "code",
      "execution_count": null,
      "metadata": {
        "id": "5kHggyWJveXo"
      },
      "outputs": [],
      "source": [
        "# Get the projection and scale from one of the products\n",
        "my_projection = hf.projection()\n",
        "my_proj_string = my_projection.getInfo()['crs']\n",
        "my_scale = my_projection.nominalScale().getInfo()"
      ]
    },
    {
      "cell_type": "code",
      "execution_count": null,
      "metadata": {
        "id": "YBPAMba0r9Xz"
      },
      "outputs": [],
      "source": [
        "water_viz = {\n",
        "    \"min\": 0,\n",
        "    \"max\": 2,\n",
        "    \"palette\": ['D3D3D3', '000080', 'FFFFFF']\n",
        "}"
      ]
    },
    {
      "cell_type": "code",
      "execution_count": null,
      "metadata": {
        "id": "S07De-87tHd5"
      },
      "outputs": [],
      "source": [
        "gfm_mask = gfm.neq(2)\n",
        "mcdwd_mask = mcdwd.neq(2)\n",
        "vfm_mask = vfm.neq(2)\n",
        "dswxhls_mask = dswx_hls.neq(2)\n",
        "dswxs1_mask = dswx_s1.neq(2)\n",
        "hf_mask = hf.neq(2)\n",
        "hydrosar_mask = hydrosar.neq(2)"
      ]
    },
    {
      "cell_type": "code",
      "execution_count": null,
      "metadata": {
        "id": "ymo9WzGItb0r"
      },
      "outputs": [],
      "source": [
        "gfm_final = gfm.updateMask(gfm_mask)\n",
        "vfm_final = vfm.updateMask(vfm_mask)\n",
        "mcdwd_final = mcdwd.updateMask(mcdwd_mask)\n",
        "dswxhls_final = dswx_hls.updateMask(dswxhls_mask)\n",
        "dswxs1_final = dswx_s1.updateMask(dswxs1_mask)\n",
        "hydrosar_final = hydrosar.updateMask(hydrosar_mask)\n",
        "hf_final = hf.updateMask(hf_mask)"
      ]
    },
    {
      "cell_type": "code",
      "execution_count": null,
      "metadata": {
        "id": "KS9FT4jku2QY"
      },
      "outputs": [],
      "source": [
        "Map = geemap.Map(center = (lat, lon), zoom = 7)\n",
        "Map.addLayer(gfm_final, water_viz, 'GFM')\n",
        "Map.addLayer(vfm_final, water_viz, 'VFM')\n",
        "Map.addLayer(dswxhls_final, water_viz, 'DSWx-HLS')\n",
        "Map.addLayer(dswxs1_final, water_viz, 'DSWx-S1')\n",
        "Map.addLayer(mcdwd_final, water_viz, 'MCDWD')\n",
        "Map.addLayer(hf_final, water_viz, 'HYDRAFloods')\n",
        "Map.addLayer(hydrosar_final, water_viz, 'HydroSAR')\n",
        "Map.addLayer(my_ref_data, {}, 'Reference Data')\n",
        "Map.addLayerControl()\n",
        "Map"
      ]
    },
    {
      "cell_type": "markdown",
      "metadata": {
        "id": "lHcqObt9vISX"
      },
      "source": [
        "Now let's bring in our reference data and flood maps."
      ]
    },
    {
      "cell_type": "markdown",
      "metadata": {
        "id": "zD5mj9eswLcD"
      },
      "source": [
        "Filter our reference data to two different feature collections, one that has points that were identified as water, and one that has points that were identified as nonwater."
      ]
    },
    {
      "cell_type": "code",
      "execution_count": null,
      "metadata": {
        "id": "H8RJ120Dgncp"
      },
      "outputs": [],
      "source": [
        "#first_feat = my_ref_data.first()\n",
        "#first_prop = first_feat.get('water?:yes')"
      ]
    },
    {
      "cell_type": "code",
      "execution_count": null,
      "metadata": {
        "id": "dxZIWI5cilig"
      },
      "outputs": [],
      "source": [
        "def property_setter(feature_collection):\n",
        "  fc_size = feature_collection.size().getInfo()\n",
        "\n",
        "  feats = []\n",
        "  for q in range(fc_size):\n",
        "    feat_of_int = ee.Feature(feature_collection.toList(fc_size).get(q))\n",
        "    property_of_int = feat_of_int.get('water?:yes')\n",
        "    if q % 100 == 0:\n",
        "      print(q)\n",
        "    #print(property_of_int.getInfo())\n",
        "    if property_of_int.getInfo() == 100:\n",
        "      feat_of_int = feat_of_int.set('reference_water', 1)\n",
        "      feats.append(feat_of_int)\n",
        "    else:\n",
        "      feat_of_int = feat_of_int.set('reference_water', 0)\n",
        "      feats.append(feat_of_int)\n",
        "\n",
        "  new_fc = ee.FeatureCollection(feats)\n",
        "  return new_fc"
      ]
    },
    {
      "cell_type": "code",
      "execution_count": null,
      "metadata": {
        "id": "0FVmCR6WOdwv"
      },
      "outputs": [],
      "source": [
        "noncloud_points = my_ref_data.filter(ee.Filter.neq(\"water?:cloud\", 100))\n",
        "noncloud_points_v2 = property_setter(noncloud_points)\n",
        "\n",
        "all_water_points = noncloud_points.filter(ee.Filter.eq(\"water?:yes\", 100))\n",
        "all_nonwater_points = noncloud_points.filter(ee.Filter.eq(\"water?:no\", 100))\n",
        "\n",
        "all_water_points_v2 = noncloud_points_v2.filter(ee.Filter.eq(\"reference_water\", 1))\n",
        "all_nonwater_points_v2 = noncloud_points_v2.filter(ee.Filter.eq(\"reference_water\", 0))"
      ]
    },
    {
      "cell_type": "code",
      "execution_count": null,
      "metadata": {
        "id": "bMYLbsycqcD8"
      },
      "outputs": [],
      "source": [
        "my_ref_data.size().getInfo()\n",
        "noncloud_points.size().getInfo()"
      ]
    },
    {
      "cell_type": "code",
      "execution_count": null,
      "metadata": {
        "id": "lEvoQRxWtpp6"
      },
      "outputs": [],
      "source": [
        "noncloud_points_v2.size"
      ]
    },
    {
      "cell_type": "code",
      "execution_count": null,
      "metadata": {
        "id": "e7bj-y_dgfDJ"
      },
      "outputs": [],
      "source": [
        "noncloud_points_v2.size().getInfo()\n",
        "#print(all_water_points.size().getInfo())\n",
        "#all_water_points_v2.size().getInfo()"
      ]
    },
    {
      "cell_type": "code",
      "execution_count": null,
      "metadata": {
        "id": "MNpka0eoOnpG"
      },
      "outputs": [],
      "source": [
        "highconf_points = noncloud_points_v2.filter(ee.Filter.gt(\"confidence\", 76))"
      ]
    },
    {
      "cell_type": "code",
      "execution_count": null,
      "metadata": {
        "id": "RQpAuvOSPJT-"
      },
      "outputs": [],
      "source": [
        "#mediumconf_points = noncloud_points_v2.filter(ee.Filter.gt(\"confidence\", 51))\n",
        "#mediumconf_water_points = mediumconf_points.filter(ee.Filter.eq(\"reference_water\", 1))\n",
        "#mediumconf_nonwater_points = mediumconf_points.filter(ee.Filter.eq(\"reference_water\", 0))"
      ]
    },
    {
      "cell_type": "code",
      "execution_count": null,
      "metadata": {
        "id": "wK1cMw6ZPVnO"
      },
      "outputs": [],
      "source": [
        "#lowconf_points = noncloud_points_v2.filter(ee.Filter.gt(\"confidence\", 26))\n",
        "#lowconf_water_points = lowconf_points.filter(ee.Filter.eq(\"reference_water\", 1))\n",
        "#lowconf_nonwater_points = lowconf_points.filter(ee.Filter.eq(\"reference_water\", 0))"
      ]
    },
    {
      "cell_type": "code",
      "execution_count": null,
      "metadata": {
        "id": "gGNFlfbHOkqm"
      },
      "outputs": [],
      "source": [
        "#print(my_ref_data.size().getInfo())\n",
        "#print(noncloud_points.size().getInfo())\n",
        "#print(highconf_points.size().getInfo())\n",
        "#print(mediumconf_points.size().getInfo())\n",
        "#print(lowconf_points.size().getInfo())"
      ]
    },
    {
      "cell_type": "code",
      "execution_count": null,
      "metadata": {
        "id": "BjfKAe0swVv6"
      },
      "outputs": [],
      "source": [
        "#Water visualization Parameters\n",
        "water_vp = {'min': 0,\n",
        "          'max': 2,\n",
        "          'palette': ['000000', '0000FF', 'FFFFFF']\n",
        "}"
      ]
    },
    {
      "cell_type": "code",
      "execution_count": null,
      "metadata": {
        "id": "GKHU0JCe2OFw"
      },
      "outputs": [],
      "source": [
        "plv = {\n",
        "    'bands': ['b3', 'b2', 'b1'],\n",
        "    'min': 0,\n",
        "    'max': 2400,\n",
        "    'gamma': 0.75\n",
        "}"
      ]
    },
    {
      "cell_type": "code",
      "execution_count": null,
      "metadata": {
        "id": "55GTUcd8yK3B"
      },
      "outputs": [],
      "source": [
        "#gfm_masked = gfm.updateMask(mymask)"
      ]
    },
    {
      "cell_type": "code",
      "execution_count": null,
      "metadata": {
        "id": "Xw6eeiEF5uRh"
      },
      "outputs": [],
      "source": [
        "hydrafloods_renamed = hf.rename('hydrafloods_water')\n",
        "hydrosar_renamed = hydrosar.rename('hydrosar_water')\n",
        "gfm_renamed = gfm.rename('gfm_water')\n",
        "dswxhls_renamed = dswx_hls.rename('dswxhls_water')\n",
        "dswxs1_renamed = dswx_s1.rename('dswxs1_water')\n",
        "mcdwd_renamed = mcdwd.rename('mcdwd_water')\n",
        "vfm_renamed = vfm.rename('vfm_water')"
      ]
    },
    {
      "cell_type": "code",
      "execution_count": null,
      "metadata": {
        "id": "lHW_gtTe5q6v"
      },
      "outputs": [],
      "source": [
        "# ALL POINTS\n",
        "hf_sampled_allpoints = hydrafloods_renamed.sampleRegions(noncloud_points_v2, geometries=True)\n",
        "hs_sampled_allpoints = hydrosar_renamed.sampleRegions(noncloud_points_v2, geometries=True)\n",
        "gfm_sampled_allpoints = gfm_renamed.sampleRegions(noncloud_points_v2, geometries=True)\n",
        "dswxhls_sampled_allpoints = dswxhls_renamed.sampleRegions(noncloud_points_v2, geometries=True)\n",
        "dswxs1_sampled_allpoints = dswxs1_renamed.sampleRegions(noncloud_points_v2, geometries=True)\n",
        "mcdwd_sampled_allpoints = mcdwd_renamed.sampleRegions(noncloud_points_v2, geometries=True)\n",
        "vfm_sampled_allpoints = vfm_renamed.sampleRegions(noncloud_points_v2, geometries=True)\n",
        "\n",
        "# HIGH CONFIDENCE POINTS\n",
        "hf_sampled_highconf = hydrafloods_renamed.sampleRegions(highconf_points, geometries=True)\n",
        "hs_sampled_highconf = hydrosar_renamed.sampleRegions(highconf_points, geometries=True)\n",
        "gfm_sampled_highconf = gfm_renamed.sampleRegions(highconf_points, geometries=True)\n",
        "dswxhls_sampled_highconf = dswxhls_renamed.sampleRegions(highconf_points, geometries=True)\n",
        "dswxs1_sampled_highconf = dswxs1_renamed.sampleRegions(highconf_points, geometries=True)\n",
        "mcdwd_sampled_highconf = mcdwd_renamed.sampleRegions(highconf_points, geometries=True)\n",
        "vfm_sampled_highconf = vfm_renamed.sampleRegions(highconf_points, geometries=True)"
      ]
    },
    {
      "cell_type": "markdown",
      "metadata": {
        "id": "ZlKNHvnrU95H"
      },
      "source": [
        "We want to write a function that takes a featurecollection as input, and calculates the confusion matrix, prints the overall accuracy and consumer accuracy for each class. The function will take as an optional parameter a property to filter for. This will allow us to examine statistics for different land cover and/or slope classes more easily."
      ]
    },
    {
      "cell_type": "code",
      "execution_count": null,
      "metadata": {
        "id": "K0T4ELJpojBN"
      },
      "outputs": [],
      "source": [
        "'''\n",
        "def precision(tp, fp, tn, fn):\n",
        "  prec = tp / (tp + fp)\n",
        "  return prec\n",
        "'''"
      ]
    },
    {
      "cell_type": "code",
      "execution_count": null,
      "metadata": {
        "id": "l9di24Wgos8s"
      },
      "outputs": [],
      "source": [
        "'''\n",
        "def recall(tp, fp, tn, fn):\n",
        "  reca = fp (tp + fn)\n",
        "  return reca\n",
        "'''"
      ]
    },
    {
      "cell_type": "code",
      "execution_count": null,
      "metadata": {
        "id": "68FsU6DOo-O3"
      },
      "outputs": [],
      "source": [
        "'''\n",
        "def f1_score(tp, fp, tn, fn):\n",
        "  numerator = 2 * tp\n",
        "  denominator = (2 * tp) + fp + fn\n",
        "  f1 = numerator / denominator\n",
        "  return f1\n",
        "'''"
      ]
    },
    {
      "cell_type": "code",
      "execution_count": null,
      "metadata": {
        "id": "eBU-mLP7pRHz"
      },
      "outputs": [],
      "source": [
        "'''\n",
        "def normalized_mcc(tp, fp, tn, fn):\n",
        "  numerator = (tp * tn) - (fp * fn)\n",
        "  denominator = np.sqrt((tp+fp) * (tp + fn) * (tn + fp) * (tn+fn))\n",
        "  term = (numerator / denominator) + 1\n",
        "  mcc = term / 2\n",
        "  return mcc\n",
        "'''"
      ]
    },
    {
      "cell_type": "markdown",
      "metadata": {
        "id": "pGTSukxLHIMt"
      },
      "source": [
        "# Testing out SK Learn"
      ]
    },
    {
      "cell_type": "code",
      "execution_count": null,
      "metadata": {
        "id": "S3YiPxWgHCWV"
      },
      "outputs": [],
      "source": [
        "\n",
        "'''\n",
        "X, y = make_classification(random_state=0)\n",
        "X_train, X_test, y_train, y_test = train_test_split(X, y,\n",
        "                                                    random_state=0)\n",
        "clf = SVC(random_state=0)\n",
        "clf.fit(X_train, y_train)\n",
        "predictions = clf.predict(X_test)\n",
        "cm = confusion_matrix(y_test, predictions, labels=clf.classes_)\n",
        "disp = ConfusionMatrixDisplay(confusion_matrix=cm,\n",
        "                              display_labels=clf.classes_)\n",
        "disp.plot()\n",
        "plt.show()\n",
        "'''"
      ]
    },
    {
      "cell_type": "code",
      "execution_count": null,
      "metadata": {
        "id": "vzJn-fniKnhK"
      },
      "outputs": [],
      "source": [
        "#clf.classes_"
      ]
    },
    {
      "cell_type": "code",
      "execution_count": null,
      "metadata": {
        "id": "uIvgtZcmHESm"
      },
      "outputs": [],
      "source": [
        "#y_test"
      ]
    },
    {
      "cell_type": "code",
      "execution_count": null,
      "metadata": {
        "id": "sOiN5-kUHFWu"
      },
      "outputs": [],
      "source": [
        "#predictions"
      ]
    },
    {
      "cell_type": "code",
      "source": [
        "'''\n",
        "import matplotlib.pyplot as plt\n",
        "from sklearn.datasets import make_classification\n",
        "from sklearn.metrics import ConfusionMatrixDisplay\n",
        "from sklearn.model_selection import train_test_split\n",
        "from sklearn.svm import SVC\n",
        "X, y = make_classification(random_state=0)\n",
        "X_train, X_test, y_train, y_test = train_test_split(\n",
        "        X, y, random_state=0)\n",
        "clf = SVC(random_state=0)\n",
        "clf.fit(X_train, y_train)\n",
        "y_pred = clf.predict(X_test)\n",
        "ConfusionMatrixDisplay.from_predictions(\n",
        "   y_test, y_pred)\n",
        "plt.show()\n",
        "'''"
      ],
      "metadata": {
        "id": "GDldAaRNuYI7"
      },
      "execution_count": null,
      "outputs": []
    },
    {
      "cell_type": "code",
      "source": [
        "#y_pred"
      ],
      "metadata": {
        "id": "EN7Rb4yiuaYJ"
      },
      "execution_count": null,
      "outputs": []
    },
    {
      "cell_type": "code",
      "source": [
        "#y_test"
      ],
      "metadata": {
        "id": "m-WbN5ceubFu"
      },
      "execution_count": null,
      "outputs": []
    },
    {
      "cell_type": "code",
      "source": [
        "#import sklearn.metrics"
      ],
      "metadata": {
        "id": "G729i_wn0SH4"
      },
      "execution_count": null,
      "outputs": []
    },
    {
      "cell_type": "code",
      "source": [
        "def confusion_matrix_reporter(fc, map_label, description, filter_prop = None, filter_value = None):\n",
        "\n",
        "  references_list = []\n",
        "  classifications_list = []\n",
        "\n",
        "  classes = np.array([1, 0])\n",
        "  my_display_labels = np.array(['water', 'nonwater'])\n",
        "  classes_v2 = ['water', 'nonwater']\n",
        "\n",
        "  if filter_prop != None:\n",
        "    fc_new = fc.filter(ee.Filter.eq(filter_prop, filter_value))\n",
        "    print('path1')\n",
        "  else:\n",
        "    fc_new = fc\n",
        "    print('path2')\n",
        "  fc_size = fc_new.size().getInfo()                           #fc.size().getInfo()\n",
        "  my_feat_listed = fc_new.toList(fc_size).getInfo()                                           #fc.toList(fc.size().getInfo()).getInfo()\n",
        "  for r in range(fc_size):                                       # fc.size().getInfo()\n",
        "    my_feat = my_feat_listed[r]['properties']\n",
        "    reference = my_feat['reference_water']\n",
        "    classification = my_feat[map_label]\n",
        "    test1 = classification == 0 or classification == 1\n",
        "    test2 = reference == 0 or reference == 1\n",
        "    if test1 and test2:\n",
        "      classifications_list.append(classification)\n",
        "      references_list.append(reference)\n",
        "\n",
        "  references_array = np.array(references_list)\n",
        "  classifications_array = np.array(classifications_list)\n",
        "\n",
        "  accuracy = sklearn.metrics.accuracy_score(references_array, classifications_array)\n",
        "  acc_string = \"{0} accuracy: {1:0.3f}\".format(description, accuracy)\n",
        "\n",
        "  f1 = sklearn.metrics.f1_score(references_array, classifications_array)\n",
        "  f1_string = \"{0} f1 score: {1:0.3f}\".format(description, f1)\n",
        "\n",
        "  prec = sklearn.metrics.precision_score(references_array, classifications_array)\n",
        "  prec_string = \"{0} Precision (aka user's accuracy for water): {1:0.3f}\".format(description, prec)\n",
        "\n",
        "  reca = sklearn.metrics.recall_score(references_array, classifications_array)\n",
        "  reca_string = \"{0} Recall (aka producer's accuracy for water): {1:0.3f}\".format(description, reca)\n",
        "\n",
        "  my_cm = sklearn.metrics.confusion_matrix(references_array, classifications_array, labels = classes)\n",
        "  tp = my_cm[0][0]\n",
        "  fn = my_cm[0][1]\n",
        "  fp = my_cm[1][0]\n",
        "  tn = my_cm[1][1]\n",
        "\n",
        "  sample_size = tp + fp + fn + tn\n",
        "\n",
        "  specificity = tn / (tn + fp)\n",
        "  spec_string = \"{0} Specificity (aka producer's accuracy for nonwater): {1:0.3f}\".format(description, specificity)\n",
        "\n",
        "  npv = tn / (tn + fn)\n",
        "  npv_string = \"{0} Negative Predictive Value (aka nonwater user's accuracy): {1: 0.3f}\".format(description, npv)\n",
        "\n",
        "  mcc = sklearn.metrics.matthews_corrcoef(references_array, classifications_array)\n",
        "  nmcc = (mcc + 1) / 2\n",
        "  nmcc_string = \"{0} Normalized Matthew's Correlation Coefficien: {1:0.3f}\".format(description, nmcc)\n",
        "\n",
        "  #print(my_cm)\n",
        "  #print('true pos', tp)\n",
        "  #print('false pos', fp)\n",
        "  #print('false negative', fn)\n",
        "  #print('true negative', tn)\n",
        "\n",
        "  disp2 = ConfusionMatrixDisplay.from_predictions(references_array,\n",
        "                              classifications_array,\n",
        "                              labels = classes,\n",
        "                              display_labels = my_display_labels,\n",
        "                              cmap = plt.cm.Blues)\n",
        "  print(acc_string)\n",
        "  print(f1_string)\n",
        "  print(prec_string)\n",
        "  print(reca_string)\n",
        "  print(spec_string)\n",
        "  print(nmcc_string)\n",
        "  stats_list = [description, sample_size, accuracy, prec, reca, specificity, npv, f1, nmcc]\n",
        "\n",
        "  return stats_list"
      ],
      "metadata": {
        "id": "gkJAHRu1JR7p"
      },
      "execution_count": null,
      "outputs": []
    },
    {
      "cell_type": "code",
      "execution_count": null,
      "metadata": {
        "id": "vEtVshWVInYk"
      },
      "outputs": [],
      "source": [
        "'''\n",
        "def confusion_matrix_reporter(fc, map_label, description):\n",
        "\n",
        "  references_list = []\n",
        "  classifications_list = []\n",
        "\n",
        "  #print(type(fc))\n",
        "  #first_fc = fc.first().getInfo()\n",
        "  #print(first_fc)\n",
        "\n",
        "  classes = np.array([1, 0])\n",
        "  my_display_labels = np.array(['water', 'nonwater'])\n",
        "  classes_v2 = ['water', 'nonwater']\n",
        "  fc_size = fc.size().getInfo()\n",
        "  my_feat_listed = fc.toList(fc.size().getInfo()).getInfo()\n",
        "  for r in range(fc.size().getInfo()):\n",
        "    my_feat = my_feat_listed[r]['properties']\n",
        "    reference = my_feat['reference_water']\n",
        "    classification = my_feat[map_label]\n",
        "    test1 = classification == 0 or classification == 1\n",
        "    test2 = reference == 0 or reference == 1\n",
        "    if test1 and test2:\n",
        "      classifications_list.append(classification)\n",
        "      references_list.append(reference)\n",
        "\n",
        "  references_array = np.array(references_list)\n",
        "  classifications_array = np.array(classifications_list)\n",
        "\n",
        "  accuracy = sklearn.metrics.accuracy_score(references_array, classifications_array)\n",
        "  acc_string = \"{0} accuracy: {1:0.3f}\".format(description, accuracy)\n",
        "\n",
        "  f1 = sklearn.metrics.f1_score(references_array, classifications_array)\n",
        "  f1_string = \"{0} f1 score: {1:0.3f}\".format(description, f1)\n",
        "\n",
        "  prec = sklearn.metrics.precision_score(references_array, classifications_array)\n",
        "  prec_string = \"{0} Precision (aka user's accuracy for water): {1:0.3f}\".format(description, prec)\n",
        "\n",
        "  reca = sklearn.metrics.recall_score(references_array, classifications_array)\n",
        "  reca_string = \"{0} Recall (aka producer's accuracy for water): {1:0.3f}\".format(description, reca)\n",
        "\n",
        "  my_cm = sklearn.metrics.confusion_matrix(references_array, classifications_array, labels = classes)\n",
        "  tp = my_cm[0][0]\n",
        "  fn = my_cm[0][1]\n",
        "  fp = my_cm[1][0]\n",
        "  tn = my_cm[1][1]\n",
        "\n",
        "  specificity = tn / (tn + fp)\n",
        "  spec_string = \"{0} Specificity (aka producer's accuracy for nonwater): {1:0.3f}\".format(description, specificity)\n",
        "\n",
        "  npv = tn / (tn + fn)\n",
        "  npv_string = \"{0} Negative Predictive Value (aka nonwater user's accuracy): {1: 0.3f}\".format(description, npv)\n",
        "\n",
        "  mcc = sklearn.metrics.matthews_corrcoef(references_array, classifications_array)\n",
        "  nmcc = (mcc + 1) / 2\n",
        "  nmcc_string = \"{0} Normalized Matthew's Correlation Coefficien: {1:0.3f}\".format(description, nmcc)\n",
        "  #prec_sc = tp / (tp + fp)\n",
        "  #f1_sc = (2 * tp) / ((2 * tp) + fp + fn)\n",
        "  print(my_cm)\n",
        "  print('true pos', tp)\n",
        "  print('false pos', fp)\n",
        "  print('false negative', fn)\n",
        "  print('true negative', tn)\n",
        "\n",
        "  #disp1 = ConfusionMatrixDisplay(confusion_matrix = my_cm,\n",
        "  #                               display_labels = classes)\n",
        "                                 #cmap = cm.Blues())\n",
        "\n",
        "  disp2 = ConfusionMatrixDisplay.from_predictions(references_array,\n",
        "                              classifications_array,\n",
        "                              labels = classes,\n",
        "                              display_labels = my_display_labels,\n",
        "                              cmap = plt.cm.Blues)\n",
        "\n",
        "  #disp2.plot()\n",
        "  #plt.title(f\"{description} Confusion Matrix\")\n",
        "  #plt.plot(disp2)\n",
        "  #plt.show()\n",
        "  print(acc_string)\n",
        "  print(f1_string)\n",
        "  #print(f1_sc)\n",
        "  print(prec_string)\n",
        "  #print(prec_sc)\n",
        "  print(reca_string)\n",
        "  print(spec_string)\n",
        "  print(nmcc_string)\n",
        "  stats_list = [description, accuracy, prec, reca, specificity, npv, f1, nmcc]\n",
        "\n",
        "  return stats_list\n",
        "'''"
      ]
    },
    {
      "cell_type": "code",
      "execution_count": null,
      "metadata": {
        "id": "NCmVU2fzI4lO"
      },
      "outputs": [],
      "source": [
        "#hydrafloods_allconf = confusion_matrix_reporter(hf_sampled_allpoints, 'hydrafloods_water', 'HYDRAFloods All Points')"
      ]
    },
    {
      "cell_type": "code",
      "execution_count": null,
      "metadata": {
        "id": "fj0JlvqwGn2z"
      },
      "outputs": [],
      "source": [
        "#for j in range(hf_sampled_allpoints.size().getInfo()):\n",
        "#  my_feat = hf_sampled_allpoints.toList(hf_sampled_allpoints.size().getInfo()).get(j)\n",
        "  #classification = hf_sampled_a\n"
      ]
    },
    {
      "cell_type": "code",
      "execution_count": null,
      "metadata": {
        "id": "lmeGV8PuGqv5"
      },
      "outputs": [],
      "source": [
        "#hf_sampled_allpoints.getInfo()"
      ]
    },
    {
      "cell_type": "markdown",
      "metadata": {
        "id": "lQmUVqDWH4th"
      },
      "source": [
        "# End testing out SK Learn"
      ]
    },
    {
      "cell_type": "code",
      "execution_count": null,
      "metadata": {
        "id": "qh4HffuqmwLz"
      },
      "outputs": [],
      "source": [
        "'''\n",
        "def accuracy_reporter(fc_input, ref_label, map_label, description, filter_bool=False, filter_prop = None, filter_value = None):\n",
        "\n",
        "  #fc_input will be the feature collection of points. Each point should contain a reference property and a map property.\n",
        "  # Both properties should have a 1 where water was noted as present and a 0 where water was absent.\n",
        "  # ref_label will be the property name in fc_input that contains the reference label of water/nonwater that we collected in Collect Earth Online.\n",
        "  # map_label will be the property name in fc_input that contains the reference label of water/nonwater according to one of our flood map products.\n",
        "\n",
        "  if filter_bool == True:   # Add filter_prop code later.\n",
        "    fc_input_new = fc_input.filter(ee.Filter.eq(filter_prop, filter_value))\n",
        "    matrix = fc_input_new.errorMatrix(ref_label, map_label, [1, 0])\n",
        "    #tru_pos = matrix.getInfo()[0][0]\n",
        "    #fal_pos = matrix.getInfo()[0][1]\n",
        "    #fal_neg = matrix.getInfo()[1][0]\n",
        "    #tru_neg = matrix.getInfo()[1][1]\n",
        "    #oat = ((tru_pos + tru_neg) / (tru_pos + fal_pos + fal_neg + tru_neg)) * 100\n",
        "    #overall_acc = matrix.accuracy().getInfo() * 100\n",
        "    #producers_acc =  matrix.producersAccuracy().getInfo()\n",
        "    #pa_water = producers_acc[0][0]* 100\n",
        "    #pa_nonwater = producers_acc[1][0] * 100\n",
        "    #users_acc = matrix.consumersAccuracy().getInfo()\n",
        "    #ua_water = users_acc[0][0] * 100\n",
        "    #ua_nonwater = users_acc[0][1] * 100\n",
        "  else:\n",
        "    matrix = fc_input.errorMatrix(ref_label, map_label, [1, 0])        # Run the errorMatrix method using the reference label and map label of the feature collection\n",
        "    #overall_acc = matrix.accuracy().getInfo() * 100                    # Get the overall accuracy for this matrix in terms of percent (multiply by 100 to convert from fraction to percent)\n",
        "    #tru_pos = matrix.getInfo()[0][0]\n",
        "    #fal_pos = matrix.getInfo()[0][1]\n",
        "    #fal_neg = matrix.getInfo()[1][0]\n",
        "    #tru_neg = matrix.getInfo()[1][1]\n",
        "    #oat = ((tru_pos + tru_neg) / (tru_pos + fal_pos + fal_neg + tru_neg)) * 100\n",
        "    #producers_acc =  matrix.producersAccuracy().getInfo()              # Get the producer's accuracy for this matrix. This will be a list of producer's accuracy for each class (water & nonwater)\n",
        "    #pa_water = producers_acc[0][0]* 100                                # Get the producer's accuracy for the water class.\n",
        "    #pa_nonwater = producers_acc[1][0] * 100                            # Get the producer's accuracy for the nonwater class.\n",
        "    #users_acc = matrix.consumersAccuracy().getInfo()\n",
        "    #ua_water = users_acc[0][0] * 100\n",
        "    #ua_nonwater = users_acc[0][1] * 100\n",
        "\n",
        "  overall_acc = matrix.accuracy().getInfo() * 100                    # Get the overall accuracy for this matrix in terms of percent (multiply by 100 to convert from fraction to percent)\n",
        "  tru_pos = matrix.getInfo()[0][0]\n",
        "  fal_pos = matrix.getInfo()[0][1]\n",
        "  fal_neg = matrix.getInfo()[1][0]\n",
        "  tru_neg = matrix.getInfo()[1][1]\n",
        "  pawater_test = (tru_pos / (tru_pos + fal_neg)) * 100\n",
        "  panonwater_test = (tru_neg / (fal_pos + tru_neg)) * 100\n",
        "  #oat = ((tru_pos + tru_neg) / (tru_pos + fal_pos + fal_neg + tru_neg)) * 100\n",
        "  producers_acc =  matrix.producersAccuracy().getInfo()              # Get the producer's accuracy for this matrix. This will be a list of producer's accuracy for each class (water & nonwater)\n",
        "  pa_water = producers_acc[0][0]* 100                                # Get the producer's accuracy for the water class.\n",
        "  pa_nonwater = producers_acc[1][0] * 100                            # Get the producer's accuracy for the nonwater class.\n",
        "  users_acc = matrix.consumersAccuracy().getInfo()\n",
        "  ua_water = users_acc[0][0] * 100\n",
        "  ua_nonwater = users_acc[0][1] * 100\n",
        "\n",
        "\n",
        "  # Print the statistics\n",
        "  #print(oat)\n",
        "  #print(\"True Positives:\", matrix.getInfo()[0][0])\n",
        "  #print(\"False Positives\", matrix.getInfo()[0][1])\n",
        "  #print(\"False Negatives\", matrix.getInfo()[1][0])\n",
        "  #print(\"True Negatives:\", matrix.getInfo()[1][1])\n",
        "  print(\"{} Error Matrix: {}\".format(description, matrix.getInfo()))                          # Print the error matrix.\n",
        "  print(\"{0} Overall Accuracy: {1:0.2f} %\".format(description, overall_acc))\n",
        "  #print(\"{0} Overall Accuracy sanity check: {1:0.2f} %\".format(description, oat))\n",
        "  print(\"{0} sanity check producer's accuracy for water: {1:0.2f} %\".format(description, pawater_test))\n",
        "  #print(\"{0} sanity check producer's accuracy for nonwater: {1:0.2f} %\".format(description, panonwater_test))\n",
        "  print(\"{0} Producer's Accuracy for the Water Class: {1:0.2f} %\".format(description, pa_water))\n",
        "  print(producers_acc)\n",
        "  #print(\"{0} Producer's Accuracy for the Nonwater Class: {1:0.2f} %\".format(description, pa_nonwater))\n",
        "  #print(\"{0} User's Accuracy for the Water Class: {1:0.2f} %\".format(description, ua_water))\n",
        "  #print(\"{0} User's Accuracy for the Nonwater Class: {1:0.2f} %\".format(description, ua_nonwater))\n",
        "'''"
      ]
    },
    {
      "cell_type": "markdown",
      "metadata": {
        "id": "NnRBcmJqqCDu"
      },
      "source": [
        "# Step 3: All Points Accuracy Reporting"
      ]
    },
    {
      "cell_type": "code",
      "execution_count": null,
      "metadata": {
        "id": "2BJvBniRnAM1"
      },
      "outputs": [],
      "source": [
        "#accuracy_reporter(hf_sampled_allpoints, 'reference_water', 'hydrafloods_water', 'HYDRAFloods All Points')\n",
        "hydrafloods_allconf = confusion_matrix_reporter(hf_sampled_allpoints, 'hydrafloods_water', 'HYDRAFloods All Points')"
      ]
    },
    {
      "cell_type": "code",
      "execution_count": null,
      "metadata": {
        "id": "FVfugq4-oJXo"
      },
      "outputs": [],
      "source": [
        "#accuracy_reporter(hs_sampled_allpoints, 'reference_water', 'hydrosar_water', 'HYDROSAR ALL POINTS')\n",
        "hydrosar_allconf = confusion_matrix_reporter(hs_sampled_allpoints, 'hydrosar_water', 'HYDROSAR All Points')"
      ]
    },
    {
      "cell_type": "code",
      "execution_count": null,
      "metadata": {
        "id": "B8DlAaxdoKFs"
      },
      "outputs": [],
      "source": [
        "#accuracy_reporter(gfm_sampled_allpoints, 'reference_water', 'gfm_water', 'GFM ALL POINTS')\n",
        "gfm_allconf = confusion_matrix_reporter(gfm_sampled_allpoints, 'gfm_water', 'GFM All Points')"
      ]
    },
    {
      "cell_type": "code",
      "execution_count": null,
      "metadata": {
        "id": "y78gsDhBob8g"
      },
      "outputs": [],
      "source": [
        "#accuracy_reporter(dswxhls_sampled_allpoints, 'reference_water', 'dswxhls_water', 'DSWXHLS ALL POINTS')\n",
        "dswxhls_allconf = confusion_matrix_reporter(dswxhls_sampled_allpoints, 'dswxhls_water', 'DSWX-HLs All Points')"
      ]
    },
    {
      "cell_type": "code",
      "execution_count": null,
      "metadata": {
        "id": "P7H02Rd9omA1"
      },
      "outputs": [],
      "source": [
        "#accuracy_reporter(dswxs1_sampled_allpoints, 'reference_water', 'dswxs1_water', 'DSWx-S1 ALL POINTS')\n",
        "dswxs1_allconf = confusion_matrix_reporter(dswxs1_sampled_allpoints, 'dswxs1_water', 'DSWx-S1 All Points')"
      ]
    },
    {
      "cell_type": "code",
      "execution_count": null,
      "metadata": {
        "id": "Kn1Iu5Zgovjk"
      },
      "outputs": [],
      "source": [
        "#accuracy_reporter(mcdwd_sampled_allpoints, 'reference_water', 'mcdwd_water', 'MCDWD ALL POINTS')\n",
        "mcdwd_allconf = confusion_matrix_reporter(mcdwd_sampled_allpoints, 'mcdwd_water', 'MCDWD All Points')"
      ]
    },
    {
      "cell_type": "code",
      "execution_count": null,
      "metadata": {
        "id": "HbH5aMuJo6G-"
      },
      "outputs": [],
      "source": [
        "#accuracy_reporter(vfm_sampled_allpoints, 'reference_water', 'vfm_water', 'VFM ALL POINTS')\n",
        "vfm_allconf = confusion_matrix_reporter(vfm_sampled_allpoints, 'vfm_water', 'VFM All Points')"
      ]
    },
    {
      "cell_type": "markdown",
      "metadata": {
        "id": "WsAVyA0OqFiU"
      },
      "source": [
        "# Step 3 Part 2: High Confidence Points"
      ]
    },
    {
      "cell_type": "code",
      "execution_count": null,
      "metadata": {
        "id": "sR5pVQEjqBSK"
      },
      "outputs": [],
      "source": [
        "#accuracy_reporter(hf_sampled_highconf, 'reference_water', 'hydrafloods_water', 'HYDRAFloods High Confidence')\n",
        "hydrafloods_highconf = confusion_matrix_reporter(hf_sampled_highconf, 'hydrafloods_water', 'HYDRAFloods High Confidence')"
      ]
    },
    {
      "cell_type": "code",
      "execution_count": null,
      "metadata": {
        "id": "FqGxx_W-qBRF"
      },
      "outputs": [],
      "source": [
        "#accuracy_reporter(hs_sampled_highconf, 'reference_water', 'hydrosar_water', 'HYDROSAR High Confidence')\n",
        "hydrosar_highconf = confusion_matrix_reporter(hs_sampled_highconf, 'hydrosar_water', 'HYDROSAR High Confidence')"
      ]
    },
    {
      "cell_type": "code",
      "execution_count": null,
      "metadata": {
        "id": "LdJnd_PRqays"
      },
      "outputs": [],
      "source": [
        "#accuracy_reporter(gfm_sampled_highconf, 'reference_water', 'gfm_water', 'GFM High Confidence')\n",
        "gfm_highconf = confusion_matrix_reporter(gfm_sampled_highconf, 'gfm_water', 'GFM High Confidence')"
      ]
    },
    {
      "cell_type": "code",
      "execution_count": null,
      "metadata": {
        "id": "gsHdorFiqawQ"
      },
      "outputs": [],
      "source": [
        "#accuracy_reporter(dswxhls_sampled_highconf, 'reference_water', 'dswxhls_water', 'DSWx-HLS High Confidence')\n",
        "dswxhls_highconf = confusion_matrix_reporter(dswxhls_sampled_highconf, 'dswxhls_water', 'DSWx-HLS High Confidence')"
      ]
    },
    {
      "cell_type": "code",
      "execution_count": null,
      "metadata": {
        "id": "ObNhbvWQqatX"
      },
      "outputs": [],
      "source": [
        "#accuracy_reporter(dswxs1_sampled_highconf, 'reference_water', 'dswxs1_water', 'DSWx-S1 High Confidence')\n",
        "dswxs1_highconf = confusion_matrix_reporter(dswxs1_sampled_highconf, 'dswxs1_water', 'DSWx-S1 High Confidence')"
      ]
    },
    {
      "cell_type": "code",
      "execution_count": null,
      "metadata": {
        "id": "fGnE1F4brArV"
      },
      "outputs": [],
      "source": [
        "#accuracy_reporter(mcdwd_sampled_highconf, 'reference_water', 'mcdwd_water', 'MCDWD HIGH CONFIDENCE')\n",
        "mcdwd_highconf = confusion_matrix_reporter(mcdwd_sampled_highconf, 'mcdwd_water', 'MCDWD High Confidence')"
      ]
    },
    {
      "cell_type": "code",
      "execution_count": null,
      "metadata": {
        "id": "uZWOpoRMtGKW"
      },
      "outputs": [],
      "source": [
        "#accuracy_reporter(vfm_sampled_highconf, 'reference_water', 'vfm_water', 'VFM HIGH CONFIDENCE')\n",
        "vfm_highconf = confusion_matrix_reporter(vfm_sampled_highconf, 'vfm_water', 'VFM High Confidence')"
      ]
    },
    {
      "cell_type": "code",
      "execution_count": null,
      "metadata": {
        "id": "KLiyfXi5VXdY"
      },
      "outputs": [],
      "source": [
        "'''\n",
        "def accuracy_reporter(fc_input, ref_label, map_label, description, filter_bool=False, filter_prop = None, filter_value = None):\n",
        "\n",
        "  #fc_input will be the feature collection of points. Each point should contain a reference property and a map property.\n",
        "  # Both properties should have a 1 where water was noted as present and a 0 where water was absent.\n",
        "  # ref_label will be the property name in fc_input that contains the reference label of water/nonwater that we collected in Collect Earth Online.\n",
        "  # map_label will be the property name in fc_input that contains the reference label of water/nonwater according to one of our flood map products.\n",
        "\n",
        "  if filter_prop == True:   # Add filter_prop code later.\n",
        "    fc_input = fc_input.filter(ee.Filter.eq(filter_prop, filter_value))\n",
        "  matrix = fc_input.errorMatrix(ref_label, map_label, [1, 0])        # Run the errorMatrix method using the reference label and map label of the feature collection\n",
        "  overall_acc = matrix.accuracy().getInfo() * 100                    # Get the overall accuracy for this matrix in terms of percent (multiply by 100 to convert from fraction to percent)\n",
        "  producers_acc =  matrix.producersAccuracy().getInfo()              # Get the producer's accuracy for this matrix. This will be a list of producer's accuracy for each class (water & nonwater)\n",
        "  pa_water = producers_acc[0][0]* 100                                # Get the producer's accuracy for the water class.\n",
        "  pa_nonwater = producers_acc[1][0] * 100                            # Get the producer's accuracy for the nonwater class.\n",
        "  users_acc = matrix.consumersAccuracy().getInfo()\n",
        "  ua_water = users_acc[0][0] * 100\n",
        "  ua_nonwater = users_acc[0][1] * 100\n",
        "\n",
        "  # Print the statistics\n",
        "  print(\"{} Error Matrix: {}\".format(description, matrix.getInfo()))                          # Print the error matrix.\n",
        "  print(\"{0} Overall Accuracy: {1:0.2f} %\".format(description, overall_acc))\n",
        "  print(\"{0} Producer's Accuracy for the Water Class: {1:0.2f} %\".format(description, pa_water))\n",
        "  print(\"{0} Producer's Accuracy for the Nonwater Class: {1:0.2f} %\".format(description, pa_nonwater))\n",
        "  print(\"{0} User's Accuracy for the Water Class: {1:0.2f} %\".format(description, ua_water))\n",
        "  print(\"{0} User's Accuracy for the Nonwater Class: {1:0.2f} %\".format(description, ua_nonwater))\n",
        "'''"
      ]
    },
    {
      "cell_type": "code",
      "execution_count": null,
      "metadata": {
        "id": "kO6PGhDyWQy4"
      },
      "outputs": [],
      "source": [
        "#accuracy_reporter(hf_s, 'water_or_not', 'hydrafloods_water', 'Hydrafloods General')"
      ]
    },
    {
      "cell_type": "code",
      "execution_count": null,
      "metadata": {
        "id": "o75KrFjBaMtk"
      },
      "outputs": [],
      "source": [
        "#accuracy_reporter(hf_sws, 'water_or_not', 'hydrafloods_water', 'HYDRAFloods Very Low Slope', filter_bool=True,\n",
        "#                  filter_prop='slope_class', filter_value=2)"
      ]
    },
    {
      "cell_type": "markdown",
      "metadata": {
        "id": "GkuHOhXk4kdI"
      },
      "source": [
        "# Step 4: Elevation"
      ]
    },
    {
      "cell_type": "markdown",
      "metadata": {
        "id": "86Ssd68L5p8O"
      },
      "source": [
        "We want to go through the entire reference dataset, and add a column for its elevation class as well as its slope class. The elevation data used will be the Copernicus GLO30 DEM, and we will determine the slope based on the `ee.Algorithms.Terrain` method offered by Google Earth Engine.\n",
        "\n",
        "The slopes and elevations were split into four classes each based on a statistical analysis of slopes and elevations across SERVIR regions. The code for this analysis uses open data and can be found [here](https://colab.research.google.com/drive/1TW1u7O6ha2A2puuZ0JcI5MZaLZzD7Zm0?usp=sharing)"
      ]
    },
    {
      "cell_type": "code",
      "execution_count": null,
      "metadata": {
        "id": "dQPsEHCcANzT"
      },
      "outputs": [],
      "source": [
        "copernicus = ee.ImageCollection(\"COPERNICUS/DEM/GLO30\")\n",
        "srtm = ee.Image(\"USGS/SRTMGL1_003\")\n",
        "srtm_clip = srtm.clip(aoi)\n",
        "srtm_projection = srtm_clip.projection()"
      ]
    },
    {
      "cell_type": "code",
      "execution_count": null,
      "metadata": {
        "id": "ZeIpZS3CAU7F"
      },
      "outputs": [],
      "source": [
        "cop_mos = copernicus.filterBounds(aoi).mosaic().clip(aoi)\n",
        "cop_mos = cop_mos.select(['DEM']).rename(['elevation']).reproject(srtm_projection)"
      ]
    },
    {
      "cell_type": "code",
      "execution_count": null,
      "metadata": {
        "id": "NVlwiM4wBfPa"
      },
      "outputs": [],
      "source": [
        "elc1 = cop_mos.select('elevation')                               #elc1 = cop_mos.select('DEM').lt(140)                            # Elevation Class 1\n",
        "elc2 = cop_mos.select('elevation').gte(140).And(cop_mos.lt(300)) #elc2 = cop_mos.select('DEM').gte(140).And(cop_mos.lt(300))      # Elevation Class 2\n",
        "elc3 = cop_mos.select('elevation').gte(300).And(cop_mos.lt(496)) #elc3 = cop_mos.select('DEM').gte(300).And(cop_mos.lt(496))      # Elevation Class 3\n",
        "elc4 = cop_mos.select('elevation').gte(496)                      #elc4 = cop_mos.select('DEM').gte(496)                           # Elevation Class 4"
      ]
    },
    {
      "cell_type": "code",
      "execution_count": null,
      "metadata": {
        "id": "pXT7EXVSFMVt"
      },
      "outputs": [],
      "source": [
        "elc1.bandNames()"
      ]
    },
    {
      "cell_type": "code",
      "execution_count": null,
      "metadata": {
        "id": "uw8WvOG7FflV"
      },
      "outputs": [],
      "source": [
        "vp = {\n",
        "    'band': ['elevation'], #'bands': ['DEM'],\n",
        "    'min': 0,\n",
        "    'max': 1\n",
        "}\n",
        "\n",
        "vp2 = {\n",
        "    'band': ['elevation'], #'band': ['DEM'],\n",
        "    'min': 0,\n",
        "    'max':4\n",
        "}"
      ]
    },
    {
      "cell_type": "code",
      "execution_count": null,
      "metadata": {
        "id": "epKugz7mTUTF"
      },
      "outputs": [],
      "source": [
        "el1test = elc1.select('elevation').eq(1) #el1test = elc1.select('DEM').eq(1)\n",
        "el2test = elc2.select('elevation').eq(1) #el2test = elc2.select('DEM').eq(1)\n",
        "el3test = elc3.select('elevation').eq(1) #el3test = elc3.select('DEM').eq(1)\n",
        "el4test = elc4.select('elevation').eq(1)       #el4test = elc4.select('DEM').eq(1)\n",
        "\n",
        "el_v1 = elc1.where(el1test, ee.Image(1))\n",
        "el_v2 = el_v1.where(el2test, ee.Image(2))\n",
        "el_v3 = el_v2.where(el3test, ee.Image(3))\n",
        "el_v4 = el_v3.where(el4test, ee.Image(4))"
      ]
    },
    {
      "cell_type": "code",
      "execution_count": null,
      "metadata": {
        "id": "IoV_yAqXCiLw"
      },
      "outputs": [],
      "source": [
        "el_v4.bandNames()"
      ]
    },
    {
      "cell_type": "code",
      "source": [
        "el_class = el_v4.rename(\"elevation_class\")"
      ],
      "metadata": {
        "id": "FEoP1HEdSEMb"
      },
      "execution_count": null,
      "outputs": []
    },
    {
      "cell_type": "markdown",
      "metadata": {
        "id": "tp8tLeGsTqgv"
      },
      "source": [
        "Now we have created a raster that has a value of 1 where there is low elevation (< 140 meters), a value of 2 where there is moderately low elevation (140 < x < 300 meters), a value of 3 where there is moderately high elevation (300 < x < 496 meters), and a value of 4 where there is very high elevation ( > 496 meters).\n",
        "\n",
        "Now, let's use the .sampleRegions() region to add the elevation information to the map."
      ]
    },
    {
      "cell_type": "code",
      "source": [
        "#vfm_highconf_points = confusion_matrix_reporter(vfm_sampled_highconf, 'vfm_water', 'VFM High Confidence')"
      ],
      "metadata": {
        "id": "cxv-DGfFT8s-"
      },
      "execution_count": null,
      "outputs": []
    },
    {
      "cell_type": "code",
      "source": [
        "hf_swe_allpoints = el_class.sampleRegions(hf_sampled_allpoints, geometries=True, projection = my_proj_string, scale = my_scale) # hydrafloods sampled with slope information"
      ],
      "metadata": {
        "id": "rUYTdJipYI_z"
      },
      "execution_count": null,
      "outputs": []
    },
    {
      "cell_type": "markdown",
      "source": [
        "Now we want to find out how many elevation classes are present in our reference data"
      ],
      "metadata": {
        "id": "yBMjsvFt8ORL"
      }
    },
    {
      "cell_type": "code",
      "source": [
        "feat_listed = hf_swe_allpoints.toList(hf_swe_allpoints.size().getInfo()).getInfo()"
      ],
      "metadata": {
        "id": "QB9VhqD0ZtXx"
      },
      "execution_count": null,
      "outputs": []
    },
    {
      "cell_type": "code",
      "source": [
        "el_classes_present = []\n",
        "\n",
        "for j in range(len(feat_listed)):\n",
        "  feat_mine = feat_listed[j]['properties']\n",
        "  el_class = feat_mine['elevation_class']\n",
        "  #print(feat_mine.keys())\n",
        "  #break\n",
        "  el_class = feat_mine['elevation_class']\n",
        "  if el_class not in el_classes_present and el_class != None:\n",
        "    el_classes_present.append(el_class)"
      ],
      "metadata": {
        "id": "zhNGv8l-9exI"
      },
      "execution_count": null,
      "outputs": []
    },
    {
      "cell_type": "code",
      "source": [
        "print(\"There is/are {0} elevation class(es) present in the sample points\".format(len(el_classes_present)))\n",
        "print(\"The elevation class(es) present are: \",el_classes_present)"
      ],
      "metadata": {
        "id": "DCs9k5We9_5f"
      },
      "execution_count": null,
      "outputs": []
    },
    {
      "cell_type": "markdown",
      "source": [
        "For this case study, we do not have more than one elevation class present in our same points, so we will skip to the next section"
      ],
      "metadata": {
        "id": "2uShrAdHjSuX"
      }
    },
    {
      "cell_type": "markdown",
      "metadata": {
        "id": "ll91ye4nujlf"
      },
      "source": [
        "# **Step 5: Slope**"
      ]
    },
    {
      "cell_type": "markdown",
      "source": [
        "Now let's do the same for the slope information"
      ],
      "metadata": {
        "id": "Q_9yF_dajQci"
      }
    },
    {
      "cell_type": "code",
      "source": [
        "cop_slope = ee.Algorithms.Terrain(cop_mos).select('slope').clip(aoi)\n",
        "#cop_mod.bandNames().getInfo()"
      ],
      "metadata": {
        "id": "t0bBSu2e-5R1"
      },
      "execution_count": null,
      "outputs": []
    },
    {
      "cell_type": "code",
      "source": [
        "slc1 = cop_slope.lt(1.39)\n",
        "slc2 = cop_slope.gte(1.39).And(cop_slope.lt(3.97))\n",
        "slc3 = cop_slope.gte(3.97).And(cop_slope.lt(12))\n",
        "slc4 = cop_slope.gte(12)\n",
        "\n",
        "sl1test = slc1.select('slope').eq(1)\n",
        "sl2test = slc2.select('slope').eq(1)\n",
        "sl3test = slc3.select('slope').eq(1)\n",
        "sl4test = slc4.select('slope').eq(1)\n",
        "\n",
        "sl_v1 = slc1.where(sl1test, ee.Image(1))\n",
        "sl_v2 = sl_v1.where(sl2test, ee.Image(2))\n",
        "sl_v3 = sl_v2.where(sl3test, ee.Image(3))\n",
        "sl_v4 = sl_v3.where(sl4test, ee.Image(4))"
      ],
      "metadata": {
        "id": "bHOGSlVZD1MM"
      },
      "execution_count": null,
      "outputs": []
    },
    {
      "cell_type": "code",
      "source": [
        "sl_classes = sl_v4.rename('slope_class')"
      ],
      "metadata": {
        "id": "7DsH_g1WHMEq"
      },
      "execution_count": null,
      "outputs": []
    },
    {
      "cell_type": "code",
      "source": [
        "Map = geemap.Map(center = (lat, lon), zoom = 7)\n",
        "Map.addLayer(aoi, {}, 'Area of interest')\n",
        "#Map.addLayer(plum, pluvp, 'Planet Usable Data Mask')\n",
        "Map.addLayer(my_ref_data, {}, 'Reference Data')\n",
        "#Map.addLayer(cop_slope, {}, 'Copernicus')\n",
        "#Map.addLayer(cop_mos, {'bands': ['DEM']}, 'DEM')\n",
        "Map.addLayer(sl_v4, vp2, 'Elevation')\n",
        "\n",
        "Map.addLayerControl()\n",
        "Map"
      ],
      "metadata": {
        "id": "n49bOad6GAP8"
      },
      "execution_count": null,
      "outputs": []
    },
    {
      "cell_type": "markdown",
      "source": [
        "## Step 5 Part 1: Slope analysis of points with all confidence levels"
      ],
      "metadata": {
        "id": "H6LF1Rbxj0do"
      }
    },
    {
      "cell_type": "code",
      "source": [
        "#hydrafloods sampled with elevation and slope\n",
        "hf_swsl_allpoints = sl_class.sampleRegions(hf_sampled_allpoints, geometries=True, projection = my_proj_string, scale = my_scale) # hydrafloods sampled with slope information"
      ],
      "metadata": {
        "id": "53KhrwbwHBeN"
      },
      "execution_count": null,
      "outputs": []
    },
    {
      "cell_type": "code",
      "source": [
        "slopes_listed = hf_swsl_allpoints.toList(hf_swsl_allpoints.size().getInfo()).getInfo()"
      ],
      "metadata": {
        "id": "RRRtscEYHeLl"
      },
      "execution_count": null,
      "outputs": []
    },
    {
      "cell_type": "code",
      "source": [
        "sl_classes_present = []\n",
        "\n",
        "for t in range(len(slopes_listed)):\n",
        "  this_feat = slopes_listed[t]['properties']\n",
        "  sl_class = this_feat['slope_class']\n",
        "  #el_class = this_feat['slope_class']\n",
        "  if sl_class not in sl_classes_present and sl_class != None:\n",
        "    sl_classes_present.append(sl_class)"
      ],
      "metadata": {
        "id": "4WXGu5cEHWBc"
      },
      "execution_count": null,
      "outputs": []
    },
    {
      "cell_type": "code",
      "source": [
        "sl_classes_present"
      ],
      "metadata": {
        "id": "Q5CYJw1yHvB2"
      },
      "execution_count": null,
      "outputs": []
    },
    {
      "cell_type": "code",
      "source": [
        "print(\"There is/are {0} slope class(es) present in the sample points\".format(len(sl_classes_present)))\n",
        "print(\"The slope class(es) present are: \",sl_classes_present)"
      ],
      "metadata": {
        "id": "9aU0Fi4kHzvd"
      },
      "execution_count": null,
      "outputs": []
    },
    {
      "cell_type": "markdown",
      "source": [
        "Because there is more than one slope class present in the data, we can move forward with the analysis by slope."
      ],
      "metadata": {
        "id": "GeOXGQ0eZymL"
      }
    },
    {
      "cell_type": "markdown",
      "source": [
        "### HYDRAFloods Slope -- All Confidences"
      ],
      "metadata": {
        "id": "Aqhug2YPH7VA"
      }
    },
    {
      "cell_type": "code",
      "source": [
        "hf_lowslope_allconf = confusion_matrix_reporter(hf_swsl_allpoints, 'hydrafloods_water', 'hydrafloods slope class 1 (low slope)', filter_prop = 'slope_class', filter_value = 1)"
      ],
      "metadata": {
        "id": "RKVIZBbuH-eI"
      },
      "execution_count": null,
      "outputs": []
    },
    {
      "cell_type": "code",
      "source": [
        "hf_modlowslope_allconf = confusion_matrix_reporter(hf_swsl_allpoints, 'hydrafloods_water', 'hydrafloods slope class 2 (moderately low slope)', filter_prop = 'slope_class', filter_value = 2)"
      ],
      "metadata": {
        "id": "XFb1HVdYIjit"
      },
      "execution_count": null,
      "outputs": []
    },
    {
      "cell_type": "code",
      "source": [
        "hf_modhighslope_allconf = confusion_matrix_reporter(hf_swsl_allpoints, 'hydrafloods_water', 'hydrafloods slope class 3 (moderately high slope)', filter_prop = 'slope_class', filter_value = 3)"
      ],
      "metadata": {
        "id": "t-tj8SlZIuus"
      },
      "execution_count": null,
      "outputs": []
    },
    {
      "cell_type": "markdown",
      "source": [
        "### HYDROSAR Slope -- All Confidences"
      ],
      "metadata": {
        "id": "myPJF-HlJhfI"
      }
    },
    {
      "cell_type": "code",
      "source": [
        "# HYDROSAR Sampled with Slope Information\n",
        "hs_swsl_allpoints = sl_classes.sampleRegions(hs_sampled_allpoints, geometries=True, projection = my_proj_string, scale = my_scale)"
      ],
      "metadata": {
        "id": "vvS4X-BBJjQz"
      },
      "execution_count": null,
      "outputs": []
    },
    {
      "cell_type": "code",
      "source": [
        "hs_lowslo_allconf = confusion_matrix_reporter(hs_swsl_allpoints, 'hydrosar_water', 'hydrosar slope class 1 (low slope)', filter_prop = 'slope_class', filter_value = 1)"
      ],
      "metadata": {
        "id": "tXjIIvViOo-_"
      },
      "execution_count": null,
      "outputs": []
    },
    {
      "cell_type": "code",
      "source": [
        "hs_modlowslo_allconf = confusion_matrix_reporter(hs_swsl_allpoints, 'hydrosar_water', 'hydrosar slope class 2 (moderately low slope)',\n",
        "                                           filter_prop = 'slope_class', filter_value = 2)"
      ],
      "metadata": {
        "id": "sE8McCtfOz6E"
      },
      "execution_count": null,
      "outputs": []
    },
    {
      "cell_type": "code",
      "source": [
        "hs_modhighslo_allconf = confusion_matrix_reporter(hs_swsl_allpoints, 'hydrosar_water', 'hydrosar slope class 3 (moderately high slope)', filter_prop = 'slope_class', filter_value = 3)"
      ],
      "metadata": {
        "id": "ubccoLpTO4Gw"
      },
      "execution_count": null,
      "outputs": []
    },
    {
      "cell_type": "markdown",
      "source": [
        "### GFM Slope -- All Confidences"
      ],
      "metadata": {
        "id": "HAiglV8GJ00_"
      }
    },
    {
      "cell_type": "code",
      "source": [
        "# GFM Sampled with Slope Information\n",
        "gfm_swsl_allpoints = sl_classes.sampleRegions(gfm_sampled_allpoints, geometries=True, projection = my_proj_string, scale = my_scale)"
      ],
      "metadata": {
        "id": "Hrj9BuE0J8fV"
      },
      "execution_count": null,
      "outputs": []
    },
    {
      "cell_type": "code",
      "source": [
        "gfm_loslo_allconf = confusion_matrix_reporter(gfm_swsl_allpoints, 'gfm_water', 'GFM slope class 1 (low slope)', filter_prop = 'slope_class', filter_value = 1)"
      ],
      "metadata": {
        "id": "4DXUri63PBDx"
      },
      "execution_count": null,
      "outputs": []
    },
    {
      "cell_type": "code",
      "source": [
        "gfm_modloslo_allconf = confusion_matrix_reporter(gfm_swsl_allpoints, 'gfm_water', 'GFM slope class 2 (moderately low slope)', filter_prop = 'slope_class', filter_value = 2)"
      ],
      "metadata": {
        "id": "D0tCuCYhPGqs"
      },
      "execution_count": null,
      "outputs": []
    },
    {
      "cell_type": "code",
      "source": [
        "gfm_modhislo_allconf = confusion_matrix_reporter(gfm_swsl_allpoints, 'gfm_water', 'GFM slope class 3 (moderately high slope)', filter_prop = 'slope_class', filter_value = 3)"
      ],
      "metadata": {
        "id": "TMATunO7PLVx"
      },
      "execution_count": null,
      "outputs": []
    },
    {
      "cell_type": "markdown",
      "source": [
        "### DSWx-HLS Slope -- All Confidences"
      ],
      "metadata": {
        "id": "WWtXo3X0N_K0"
      }
    },
    {
      "cell_type": "code",
      "source": [
        "# DSWx-HLS Sampled with Slope Information\n",
        "dswxhls_swsl_allpoints = sl_classes.sampleRegions(dswxhls_sampled_allpoints, geometries=True, projection = my_proj_string, scale = my_scale)"
      ],
      "metadata": {
        "id": "VtJWDm58OMfs"
      },
      "execution_count": null,
      "outputs": []
    },
    {
      "cell_type": "code",
      "source": [
        "dswxhls_loslo_allconf = confusion_matrix_reporter(dswxhls_swsl_allpoints, 'dswxhls_water', 'DSWx-HLS slope class 1 (low slope)', filter_prop = 'slope_class', filter_value = 1)"
      ],
      "metadata": {
        "id": "itD764iXPVg-"
      },
      "execution_count": null,
      "outputs": []
    },
    {
      "cell_type": "code",
      "source": [
        "dswxhls_modloslo_allconf = confusion_matrix_reporter(dswxhls_swsl_allpoints, 'dswxhls_water', 'DSWx-HLS slope class 2 (moderately low slope)', filter_prop = 'slope_class', filter_value = 2)"
      ],
      "metadata": {
        "id": "V1GgDluVPhGr"
      },
      "execution_count": null,
      "outputs": []
    },
    {
      "cell_type": "code",
      "source": [
        "dswxhls_modhislo_allconf = confusion_matrix_reporter(dswxhls_swsl_allpoints, 'dswxhls_water', 'DSWx-HLS slope class 3 (moderately high slope)', filter_prop = 'slope_class', filter_value = 3)"
      ],
      "metadata": {
        "id": "MAVlnGDGPpEI"
      },
      "execution_count": null,
      "outputs": []
    },
    {
      "cell_type": "markdown",
      "source": [
        "### DSWx-S1 Slope -- All Confidences"
      ],
      "metadata": {
        "id": "Rta7yNeXOGUI"
      }
    },
    {
      "cell_type": "code",
      "source": [
        "# DSWx-S1 Sampled with Slope Information, all confidence points\n",
        "dswxs1_swsl_allconf = sl_classes.sampleRegions(dswxs1_sampled_allpoints, geometries=True, projection = my_proj_string, scale = my_scale)"
      ],
      "metadata": {
        "id": "fCIQzdmpOR_B"
      },
      "execution_count": null,
      "outputs": []
    },
    {
      "cell_type": "code",
      "source": [
        "dswxs1_loslo_allconf = confusion_matrix_reporter(dswxs1_swsl_allconf, 'dswxs1_water', 'DSWx-S1 slope class 1 (low slope)',\n",
        "                                                 filter_prop = 'slope_class', filter_value = 1)"
      ],
      "metadata": {
        "id": "C_sxI01ZPvDL"
      },
      "execution_count": null,
      "outputs": []
    },
    {
      "cell_type": "code",
      "source": [
        "dswxs1_modloslo_allconf = confusion_matrix_reporter(dswxs1_swsl_allconf, 'dswxs1_water', 'DSWx-S1 slope class 2 (moderately low slope)',\n",
        "                                                    filter_prop = 'slope_class', filter_value = 2)"
      ],
      "metadata": {
        "id": "1YjLObGLP1Y_"
      },
      "execution_count": null,
      "outputs": []
    },
    {
      "cell_type": "code",
      "source": [
        "dswxs1_modhislo_allconf = confusion_matrix_reporter(dswxs1_swsl_allconf, 'dswxs1_water', 'DSWx-S1 slope class 3 (moderately high slope)',\n",
        "                                                    filter_prop = 'slope_class', filter_value = 3)"
      ],
      "metadata": {
        "id": "likKaZ-9P56i"
      },
      "execution_count": null,
      "outputs": []
    },
    {
      "cell_type": "markdown",
      "source": [
        "### MCDWD Slope -- All Confidences"
      ],
      "metadata": {
        "id": "jPrliEwaOJlj"
      }
    },
    {
      "cell_type": "code",
      "source": [
        "# MCDWD Sampled with Slope Information\n",
        "mcdwd_swsl_allconf = sl_classes.sampleRegions(mcdwd_sampled_allpoints, geometries=True, projection = my_proj_string, scale = my_scale)"
      ],
      "metadata": {
        "id": "OTwUnai1OcFB"
      },
      "execution_count": null,
      "outputs": []
    },
    {
      "cell_type": "code",
      "source": [
        "# MCDWD Low Slope All Confidences\n",
        "mcdwd_loslo_allconf = confusion_matrix_reporter(mcdwd_swsl_allpoints, 'mcdwd_water', 'DSWx-HLS slope class 1 (low slope)', filter_prop = 'slope_class', filter_value = 1)"
      ],
      "metadata": {
        "id": "veFTz1x3P-zN"
      },
      "execution_count": null,
      "outputs": []
    },
    {
      "cell_type": "code",
      "source": [
        "mcdwd_modloslo_allconf = confusion_matrix_reporter(mcdwd_swsl_allconf, 'mcdwd_water', 'MCDWD slope class 2 (moderately low slope)', filter_prop = 'slope_class', filter_value = 2)"
      ],
      "metadata": {
        "id": "txg225Z1QPMN"
      },
      "execution_count": null,
      "outputs": []
    },
    {
      "cell_type": "code",
      "source": [
        "mcdwd_modhislo_allconf = confusion_matrix_reporter(mcdwd_swsl_allpoints, 'mcdwd_water', 'MCDWD slope class 3 (moderately high slope)', filter_prop = 'slope_class', filter_value = 3)"
      ],
      "metadata": {
        "id": "iC_yC0M_Q4xR"
      },
      "execution_count": null,
      "outputs": []
    },
    {
      "cell_type": "markdown",
      "source": [
        "### VFM Slope -- All Confidences"
      ],
      "metadata": {
        "id": "uYn_8OrdKBve"
      }
    },
    {
      "cell_type": "code",
      "source": [
        "# VFM Sampled with Slope Information\n",
        "vfm_swsl_allpoints = sl_classes.sampleRegions(vfm_sampled_allpoints, geometries=True, projection = my_proj_string, scale = my_scale)"
      ],
      "metadata": {
        "id": "mppXpt4OOfV1"
      },
      "execution_count": null,
      "outputs": []
    },
    {
      "cell_type": "code",
      "source": [
        "vfm_loslo_allconf = confusion_matrix_reporter(vfm_swsl_allpoints, 'vfm_water', 'VFM slope class 1 (low slope)', filter_prop = 'slope_class', filter_value = 1)"
      ],
      "metadata": {
        "id": "LZcqT98SOlcq"
      },
      "execution_count": null,
      "outputs": []
    },
    {
      "cell_type": "code",
      "source": [
        "vfm_modloslo_allconf = confusion_matrix_reporter(vfm_swsl_allpoints, 'vfm_water', 'VFM slope class 2 (moderately low slope)', filter_prop = 'slope_class', filter_value = 2)"
      ],
      "metadata": {
        "id": "fyBFWiIPdttU"
      },
      "execution_count": null,
      "outputs": []
    },
    {
      "cell_type": "code",
      "source": [
        "vfm_modhislo_allconf = confusion_matrix_reporter(vfm_swsl_allpoints, 'vfm_water', 'VFM slope class 3 (moderately high slope)', filter_prop = 'slope_class', filter_value = 3)"
      ],
      "metadata": {
        "id": "H3UJUjkYdzV7"
      },
      "execution_count": null,
      "outputs": []
    },
    {
      "cell_type": "markdown",
      "source": [
        "## Step 5 Part 2: Slope analysis of points with High Confidence Points"
      ],
      "metadata": {
        "id": "_BV9wGdGkMAE"
      }
    },
    {
      "cell_type": "markdown",
      "source": [
        "### HYDRAFloods Slope -- High Confidence"
      ],
      "metadata": {
        "id": "JTqxEWdukOYa"
      }
    },
    {
      "cell_type": "code",
      "source": [
        "hf_swsl_highconf = sl_classes.sampleRegions(hf_sampled_highconf, geometries=True, projection = my_proj_string, scale = my_scale) # hydrafloods sampled with slope information"
      ],
      "metadata": {
        "id": "X4huBX1KlDkU"
      },
      "execution_count": null,
      "outputs": []
    },
    {
      "cell_type": "code",
      "source": [
        "# HYDRAFloods Low Slope High Confidence\n",
        "hf_loslo_highconf = confusion_matrix_reporter(hf_swsl_highconf, 'hydrafloods_water', 'HYDRAFloods Low Slope High Confidence)',\n",
        "                                               filter_prop = 'slope_class', filter_value = 1)"
      ],
      "metadata": {
        "id": "qv55h099lKd8"
      },
      "execution_count": null,
      "outputs": []
    },
    {
      "cell_type": "code",
      "source": [
        "hf_modlowslo_highconf = confusion_matrix_reporter(hf_swsl_highconf, 'hydrafloods_water', 'HYDRAFloods Moderately Low Slope ',\n",
        "                                                  filter_prop = 'slope_class', filter_value = 2)"
      ],
      "metadata": {
        "id": "yMHgxwS9ljgs"
      },
      "execution_count": null,
      "outputs": []
    },
    {
      "cell_type": "code",
      "source": [
        "hf_modhislo_highconf = confusion_matrix_reporter(hf_swsl_highconf, 'hydrafloods_water', 'HYDRAFloods Moderately High Slope ',\n",
        "                                                  filter_prop = 'slope_class', filter_value = 3)"
      ],
      "metadata": {
        "id": "12MrdWSjmJ1O"
      },
      "execution_count": null,
      "outputs": []
    },
    {
      "cell_type": "markdown",
      "source": [
        "### HYDROSAR Slope -- High Confidence"
      ],
      "metadata": {
        "id": "fSWlip3dkTRy"
      }
    },
    {
      "cell_type": "code",
      "source": [
        "hs_swsl_highconf = sl_classes.sampleRegions(hs_sampled_highconf, geometries=True,\n",
        "                                          projection = my_proj_string, scale = my_scale) # hydrafloods sampled with slope information"
      ],
      "metadata": {
        "id": "lZVNmBxSmfQv"
      },
      "execution_count": null,
      "outputs": []
    },
    {
      "cell_type": "code",
      "source": [
        "hs_lowslo_highconf = confusion_matrix_reporter(hs_swsl_highconf, 'hydrosar_water', 'HYDRAFloods Low Slope ',\n",
        "                                                  filter_prop = 'slope_class', filter_value = 1)"
      ],
      "metadata": {
        "id": "VC0wEewumWq8"
      },
      "execution_count": null,
      "outputs": []
    },
    {
      "cell_type": "code",
      "source": [
        "hs_modlowslo_highconf = confusion_matrix_reporter(hs_swsl_highconf, 'hydrosar_water', 'HYDRAFloods Moderately Low Slope ',\n",
        "                                                  filter_prop = 'slope_class', filter_value = 2)"
      ],
      "metadata": {
        "id": "Aa3lf0McmzIV"
      },
      "execution_count": null,
      "outputs": []
    },
    {
      "cell_type": "code",
      "source": [
        "hs_modhighslo_highconf = confusion_matrix_reporter(hs_swsl_highconf, 'hydrosar_water', 'HYDRAFloods High Slope ',\n",
        "                                                  filter_prop = 'slope_class', filter_value = 3)"
      ],
      "metadata": {
        "id": "4T0G4zGjm4Zs"
      },
      "execution_count": null,
      "outputs": []
    },
    {
      "cell_type": "markdown",
      "source": [
        "### GFM Slope -- High Confidence"
      ],
      "metadata": {
        "id": "yXtz1ZgPkWFX"
      }
    },
    {
      "cell_type": "code",
      "source": [
        "gfm_swsl_highconf = sl_classes.sampleRegions(gfm_sampled_highconf, geometries=True,\n",
        "                                          projection = my_proj_string, scale = my_scale)"
      ],
      "metadata": {
        "id": "dSSy4TTdm_8h"
      },
      "execution_count": null,
      "outputs": []
    },
    {
      "cell_type": "code",
      "source": [
        "gfm_lowslo_highconf = confusion_matrix_reporter(gfm_swsl_highconf, 'gfm_water', 'GFM Low Slope ',\n",
        "                                                  filter_prop = 'slope_class', filter_value = 1)"
      ],
      "metadata": {
        "id": "jhJZTWRsnH_R"
      },
      "execution_count": null,
      "outputs": []
    },
    {
      "cell_type": "code",
      "source": [
        "gfm_modlowslo_highconf = confusion_matrix_reporter(gfm_swsl_highconf, 'gfm_water', 'GFM Moderately Low Slope ',\n",
        "                                                  filter_prop = 'slope_class', filter_value = 2)"
      ],
      "metadata": {
        "id": "2kDrNHWHnRP_"
      },
      "execution_count": null,
      "outputs": []
    },
    {
      "cell_type": "code",
      "source": [
        "gfm_modhighslo_highconf = confusion_matrix_reporter(gfm_swsl_highconf, 'gfm_water', 'GFM Moderately High Slope',\n",
        "                                                  filter_prop = 'slope_class', filter_value = 3)"
      ],
      "metadata": {
        "id": "czBj4YsBngYK"
      },
      "execution_count": null,
      "outputs": []
    },
    {
      "cell_type": "markdown",
      "source": [
        "### DSWx-HLS Slope -- High Confidence"
      ],
      "metadata": {
        "id": "Jud8uzHqkX6k"
      }
    },
    {
      "cell_type": "code",
      "source": [
        "# DSWxHLS Sampled with Slope -- High Confidence Points Only\n",
        "dswxhls_swsl_highconf = sl_classes.sampleRegions(dswxhls_sampled_highconf, geometries=True,\n",
        "                                          projection = my_proj_string, scale = my_scale)"
      ],
      "metadata": {
        "id": "E7NlxV0Pnv-z"
      },
      "execution_count": null,
      "outputs": []
    },
    {
      "cell_type": "code",
      "source": [
        "dswxhls_lowslo_highconf = confusion_matrix_reporter(dswxhls_swsl_highconf, 'dswxhls_water', 'DSWx-HLS Low Slope ',\n",
        "                                                  filter_prop = 'slope_class', filter_value = 1)"
      ],
      "metadata": {
        "id": "8OvLglrEn4PK"
      },
      "execution_count": null,
      "outputs": []
    },
    {
      "cell_type": "code",
      "source": [
        "dswxhls_modlowslo_highconf = confusion_matrix_reporter(dswxhls_swsl_highconf, 'dswxhls_water',\n",
        "                                                       'DSWx-HLS Moderately Low Slope High Confidence',\n",
        "                                                       filter_prop = 'slope_class', filter_value = 2)"
      ],
      "metadata": {
        "id": "10jQt4QVoF3V"
      },
      "execution_count": null,
      "outputs": []
    },
    {
      "cell_type": "code",
      "source": [
        "dswxhls_modhighslo_highconf = confusion_matrix_reporter(dswxhls_swsl_highconf, 'dswxhls_water',\n",
        "                                                       'DSWx-HLS Moderately High Slope High Confidence',\n",
        "                                                       filter_prop = 'slope_class', filter_value = 3)"
      ],
      "metadata": {
        "id": "mU3Z6L2coOvp"
      },
      "execution_count": null,
      "outputs": []
    },
    {
      "cell_type": "markdown",
      "source": [
        "### DSWx-S1 Slope -- High Confidence"
      ],
      "metadata": {
        "id": "BPiR2AhrkZpy"
      }
    },
    {
      "cell_type": "code",
      "source": [
        "# DSWxS1 Sampled with Slope -- High Confidence Points Only\n",
        "dswxs1_swsl_highconf = sl_classes.sampleRegions(dswxs1_sampled_highconf, geometries=True,\n",
        "                                          projection = my_proj_string, scale = my_scale)"
      ],
      "metadata": {
        "id": "vKkq1eT9oVA-"
      },
      "execution_count": null,
      "outputs": []
    },
    {
      "cell_type": "code",
      "source": [
        "dswxs1_lowslo_highconf = confusion_matrix_reporter(dswxs1_swsl_highconf, 'dswxs1_water',\n",
        "                                                       'DSWx-S1 Low Slope High Confidence',\n",
        "                                                       filter_prop = 'slope_class', filter_value = 1)"
      ],
      "metadata": {
        "id": "uFV-GTkooc4U"
      },
      "execution_count": null,
      "outputs": []
    },
    {
      "cell_type": "code",
      "source": [
        "dswxs1_modlowslo_highconf = confusion_matrix_reporter(dswxs1_swsl_highconf, 'dswxs1_water',\n",
        "                                                       'DSWx-S1 Moderately Low Slope High Confidence',\n",
        "                                                       filter_prop = 'slope_class', filter_value = 2)"
      ],
      "metadata": {
        "id": "c2uDdA1uoiWU"
      },
      "execution_count": null,
      "outputs": []
    },
    {
      "cell_type": "code",
      "source": [
        "dswxs1_modhighslo_highconf = confusion_matrix_reporter(dswxs1_swsl_highconf, 'dswxs1_water',\n",
        "                                                       'DSWx-S1 Moderately High Slope High Confidence',\n",
        "                                                       filter_prop = 'slope_class', filter_value = 3)"
      ],
      "metadata": {
        "id": "rtDBG0EzomVW"
      },
      "execution_count": null,
      "outputs": []
    },
    {
      "cell_type": "markdown",
      "source": [
        "### MCDWD Slope -- High Confidence"
      ],
      "metadata": {
        "id": "DsSIl3F0kb_g"
      }
    },
    {
      "cell_type": "code",
      "source": [
        "# MCDWD Sampled with Slope -- High Confidence Points Only\n",
        "mcdwd_swsl_highconf = sl_classes.sampleRegions(mcdwd_sampled_highconf, geometries=True,\n",
        "                                          projection = my_proj_string, scale = my_scale)"
      ],
      "metadata": {
        "id": "aS1awv3QorHR"
      },
      "execution_count": null,
      "outputs": []
    },
    {
      "cell_type": "code",
      "source": [
        "mcdwd_lowslo_highconf = confusion_matrix_reporter(mcdwd_swsl_highconf, 'mcdwd_water',\n",
        "                                                       'MCDWD Low Slope High Confidence',\n",
        "                                                       filter_prop = 'slope_class', filter_value = 1)"
      ],
      "metadata": {
        "id": "93ajMxI6oxpe"
      },
      "execution_count": null,
      "outputs": []
    },
    {
      "cell_type": "code",
      "source": [
        "mcdwd_modlowslo_highconf = confusion_matrix_reporter(mcdwd_swsl_highconf, 'mcdwd_water',\n",
        "                                                       'MCDWD Moderately Low Slope High Confidence',\n",
        "                                                       filter_prop = 'slope_class', filter_value = 2)"
      ],
      "metadata": {
        "id": "wOf6n0_OpX2i"
      },
      "execution_count": null,
      "outputs": []
    },
    {
      "cell_type": "code",
      "source": [
        "mcdwd_modhighslo_highconf = confusion_matrix_reporter(mcdwd_swsl_highconf, 'mcdwd_water',\n",
        "                                                       'MCDWD Moderately High Slope High Confidence',\n",
        "                                                       filter_prop = 'slope_class', filter_value = 3)"
      ],
      "metadata": {
        "id": "te47b0ZNpa5X"
      },
      "execution_count": null,
      "outputs": []
    },
    {
      "cell_type": "markdown",
      "source": [
        "### VFM Slope -- High Confidence"
      ],
      "metadata": {
        "id": "CQXfFVA9kddG"
      }
    },
    {
      "cell_type": "code",
      "source": [
        "# VFM Sampled with Slope -- High Confidence Points Only\n",
        "vfm_swsl_highconf = sl_classes.sampleRegions(vfm_sampled_highconf, geometries=True,\n",
        "                                          projection = my_proj_string, scale = my_scale)"
      ],
      "metadata": {
        "id": "cJUyNw2GpnV7"
      },
      "execution_count": null,
      "outputs": []
    },
    {
      "cell_type": "code",
      "source": [
        "vfm_lowslo_highconf = confusion_matrix_reporter(vfm_swsl_highconf, 'vfm_water',\n",
        "                                                       'VFM Low Slope High Confidence',\n",
        "                                                       filter_prop = 'slope_class', filter_value = 1)"
      ],
      "metadata": {
        "id": "2zOLMqDupskE"
      },
      "execution_count": null,
      "outputs": []
    },
    {
      "cell_type": "code",
      "source": [
        "vfm_modlowslo_highconf = confusion_matrix_reporter(vfm_swsl_highconf, 'vfm_water',\n",
        "                                                       'VFM Moderately Low Slope High Confidence',\n",
        "                                                       filter_prop = 'slope_class', filter_value = 2)"
      ],
      "metadata": {
        "id": "TgVG78hvpxhL"
      },
      "execution_count": null,
      "outputs": []
    },
    {
      "cell_type": "code",
      "source": [
        "vfm_modhighslo_highconf = confusion_matrix_reporter(vfm_swsl_highconf, 'vfm_water',\n",
        "                                                       'VFM Moderately High Slope High Confidence',\n",
        "                                                       filter_prop = 'slope_class', filter_value = 3)"
      ],
      "metadata": {
        "id": "SqWWdooTp3az"
      },
      "execution_count": null,
      "outputs": []
    },
    {
      "cell_type": "markdown",
      "source": [
        "# Step 6: Land Cover"
      ],
      "metadata": {
        "id": "lRA5zQZf-4M_"
      }
    },
    {
      "cell_type": "markdown",
      "metadata": {
        "id": "HRTvcPbUEv9c"
      },
      "source": [
        "Now, let's use the .sampleRegions() region to add the landcover information to the map."
      ]
    },
    {
      "cell_type": "code",
      "execution_count": null,
      "metadata": {
        "id": "JgmWxd2HEvfh"
      },
      "outputs": [],
      "source": [
        "# Date at which the flood event starts\n",
        "#doi = \"2023-06-16\"\n",
        "\n",
        "# Get the date from a week prior\n",
        "#week = ee.Date(doi).advance(-1, 'week')\n",
        "\n",
        "# Get the date from six months prior\n",
        "#month6 = ee.Date(doi).advance(-6, 'month')\n",
        "\n",
        "szn = ee.Date(doi).advance(-3, 'month')\n",
        "\n",
        "dw = ee.ImageCollection(\"GOOGLE/DYNAMICWORLD/V1\")\n",
        "\n",
        "#dw_filt = dw.filterBounds(aoi).filterDate(week, doi)\n",
        "\n",
        "# Filter the Dynamic World Image Collection to the area of interest and to the time period from 6 months before the flood event starts\n",
        "#dw_filt_6 = dw.filterBounds(aoi).filterDate(month6, doi)\n",
        "\n",
        "# Filter the Dynamic World Image to the beginning of the prior season\n",
        "dw_filt_seasonal = dw.filterBounds(aoi).filterDate(szn, doi).select(['label'])\n",
        "\n",
        "# Apply a temporal median reducer at each pixel to dw_filt_6\n",
        "#dw_redux_6 = dw_filt_6.mode()\n",
        "\n",
        "dw_redux_sznl = dw_filt_seasonal.mode()\n",
        "\n",
        "dw_discrete_sznl = dw_redux_sznl.clip(aoi)"
      ]
    },
    {
      "cell_type": "code",
      "execution_count": null,
      "metadata": {
        "id": "rTTHHcz8vLzp"
      },
      "outputs": [],
      "source": []
    },
    {
      "cell_type": "code",
      "execution_count": null,
      "metadata": {
        "id": "HITvSQ0sE-zx"
      },
      "outputs": [],
      "source": [
        "dw_discrete_sznl.bandNames()"
      ]
    },
    {
      "cell_type": "code",
      "execution_count": null,
      "metadata": {
        "id": "cz4nT2E5hazz"
      },
      "outputs": [],
      "source": [
        "dw_renamed = dw_discrete_sznl.rename([\"land_cover\"])"
      ]
    },
    {
      "cell_type": "code",
      "execution_count": null,
      "metadata": {
        "id": "OQKBPb4WvN2h"
      },
      "outputs": [],
      "source": [
        "dw_renamed.projection().nominalScale().getInfo()"
      ]
    },
    {
      "cell_type": "markdown",
      "metadata": {
        "id": "Vc3y4XP2v3ER"
      },
      "source": [
        "my_proj_string, my_scale"
      ]
    },
    {
      "cell_type": "markdown",
      "source": [
        "## Step 6 Part 1: Land Cover with All Confidences"
      ],
      "metadata": {
        "id": "9feGeqN3qCgl"
      }
    },
    {
      "cell_type": "code",
      "execution_count": null,
      "metadata": {
        "id": "Gstu4LQFFA-f"
      },
      "outputs": [],
      "source": [
        "# HYDRAFloods sampled with Slope and Land Cover\n",
        "hf_swlc_allpoints = dw_renamed.sampleRegions(hf_sampled_allpoints, projection = my_proj_string,\n",
        "                                            scale=my_scale, geometries = True)\n",
        "\n",
        "# Hydrosar sampled with Land Cover\n",
        "hs_swlc_allpoints = dw_renamed.sampleRegions(hs_sampled_allpoints, projection = my_proj_string,\n",
        "                                            scale=my_scale, geometries = True)\n",
        "\n",
        "# GFM sampled with land cover\n",
        "gfm_swlc_allpoints = dw_renamed.sampleRegions(gfm_sampled_allpoints, projection = my_proj_string,\n",
        "                                            scale=my_scale, geometries = True)\n",
        "\n",
        "# DSWx-HLS Sampled with Land Cover\n",
        "dswxhls_swlc_allpoints = dw_renamed.sampleRegions(dswxhls_sampled_allpoints, projection = my_proj_string,\n",
        "                                            scale=my_scale, geometries = True)\n",
        "\n",
        "# DSWx-S1 sampled with land cover\n",
        "dswxs1_swlc_allpoints = dw_renamed.sampleRegions(dswxs1_sampled_allpoints, projection = my_proj_string,\n",
        "                                            scale=my_scale, geometries = True)\n",
        "\n",
        "# VFM sampled with land cover\n",
        "vfm_swlc_allpoints = dw_renamed.sampleRegions(vfm_sampled_allpoints, projection = my_proj_string,\n",
        "                                            scale=my_scale, geometries = True)\n",
        "\n",
        "# MCDWD sampled with land cover\n",
        "mcdwd_swlc_allpoints = dw_renamed.sampleRegions(mcdwd_sampled_allpoints, projection = my_proj_string,\n",
        "                                            scale=my_scale, geometries = True)"
      ]
    },
    {
      "cell_type": "code",
      "execution_count": null,
      "metadata": {
        "id": "oL-ozim4FO0G"
      },
      "outputs": [],
      "source": [
        "print(hs_swlc_allpoints.first().getInfo())"
      ]
    },
    {
      "cell_type": "code",
      "execution_count": null,
      "metadata": {
        "id": "IqkewhJoEJMA"
      },
      "outputs": [],
      "source": [
        "#hf_swlc_all_poi.first().getInfo()"
      ]
    },
    {
      "cell_type": "markdown",
      "source": [
        "### HYDRAFloods Analysis by Land Cover, All Confidences"
      ],
      "metadata": {
        "id": "_MTj-zhaeVJy"
      }
    },
    {
      "cell_type": "code",
      "execution_count": null,
      "metadata": {
        "id": "s-Rhm_7tl3VT"
      },
      "outputs": [],
      "source": [
        "#hf_cropland = accuracy_reporter(hf_swlc_allpoints, 'reference_water', 'hydrafloods_water', 'hydrafloods cropland all points', filter_bool=True, filter_prop='land_cover', filter_value=4)\n",
        "hf_cropland_allconf = confusion_matrix_reporter(hf_swlc_allpoints, 'hydrafloods_water', 'HYDRAFloods cropland', filter_prop = 'land_cover', filter_value = 4)"
      ]
    },
    {
      "cell_type": "code",
      "execution_count": null,
      "metadata": {
        "id": "gqTI8lSLsUql"
      },
      "outputs": [],
      "source": [
        "#hf_built = accuracy_reporter(hf_swlc_allpoints, 'reference_water', 'hydrafloods_water', 'hydrafloods built all points', filter_bool=True, filter_prop='land_cover', filter_value=6)\n",
        "hf_built_allconf = confusion_matrix_reporter(hf_swlc_allpoints, 'hydrafloods_water', 'HYDRAFloods Built', filter_prop = 'land_cover', filter_value = 6)"
      ]
    },
    {
      "cell_type": "code",
      "execution_count": null,
      "metadata": {
        "id": "jSqSBLi2v82B"
      },
      "outputs": [],
      "source": [
        "#hf_bare = accuracy_reporter(hf_swlc_allpoints, 'reference_water', 'hydrafloods_water', 'hydrafloods bare all points', filter_bool=True, filter_prop='land_cover', filter_value=7)\n",
        "hf_bare_allconf = confusion_matrix_reporter(hf_swlc_allpoints, 'hydrafloods_water', 'HYDRAFloods bare', filter_prop = 'land_cover', filter_value = 7)"
      ]
    },
    {
      "cell_type": "markdown",
      "metadata": {
        "id": "3FuZSkyivfIt"
      },
      "source": [
        "### HYDROSAR Analysis by Land Cover, All Confidences"
      ]
    },
    {
      "cell_type": "code",
      "execution_count": null,
      "metadata": {
        "id": "O_k9Cynmt6uq"
      },
      "outputs": [],
      "source": [
        "#hs_cropland_allpoints = accuracy_reporter(hs_swlc_all_points, 'reference_water', 'hydrosar_water', 'hydrosar cropland all points',\n",
        "#                                filter_bool=True, filter_prop='land_cover', filter_value = 4)\n",
        "\n",
        "hs_cropland_allconf = confusion_matrix_reporter(hs_swlc_allpoints, 'hydrosar_water',\n",
        "                                                  'HYDROSAR Cropland',\n",
        "                                                  filter_prop = 'land_cover', filter_value = 4)"
      ]
    },
    {
      "cell_type": "code",
      "execution_count": null,
      "metadata": {
        "id": "mXA3xhVGsVj2"
      },
      "outputs": [],
      "source": [
        "#hs_built_allpoints = accuracy_reporter(hs_swlc_all_points, 'reference_water', 'hydrosar_water', 'hydrosar built all points',\n",
        "#                             filter_bool=True, filter_prop='land_cover', filter_value = 6)\n",
        "\n",
        "hs_built_allconf = confusion_matrix_reporter(hs_swlc_allpoints, 'hydrosar_water', 'HYDROSAR Built All Points',\n",
        "                                               filter_prop = 'land_cover', filter_value = 6)"
      ]
    },
    {
      "cell_type": "code",
      "execution_count": null,
      "metadata": {
        "id": "L2tQT07JzQTL"
      },
      "outputs": [],
      "source": [
        "#hs_bare_allpoints = accuracy_reporter(hs_swlc_all_points, 'reference_water', 'hydrosar_water', 'hydrosar bare all points',\n",
        "#                            filter_bool=True, filter_prop='land_cover', filter_value=7)\n",
        "hs_bare_allconf = confusion_matrix_reporter(hs_swlc_allpoints, 'hydrosar_water', 'HYDROSAR Bare All Confidences',\n",
        "                                               filter_prop = 'land_cover', filter_value = 7)"
      ]
    },
    {
      "cell_type": "markdown",
      "metadata": {
        "id": "cBCsAvOtvk_B"
      },
      "source": [
        "### GFM Analysis by Land Cover, All Confidences"
      ]
    },
    {
      "cell_type": "code",
      "execution_count": null,
      "metadata": {
        "id": "rBsSXqtjvxFD"
      },
      "outputs": [],
      "source": [
        "#gfm_cropland = accuracy_reporter(gfm_swlc_all_points, 'reference_water', 'gfm_water', 'GFM Cropland All points',\n",
        "#                                 filter_bool=True, filter_prop='land_cover', filter_value = 4)\n",
        "\n",
        "gfm_cropland_allconf = confusion_matrix_reporter(gfm_swlc_allpoints, 'gfm_water',\n",
        "                                                  'GFM Cropland All Confidences',\n",
        "                                                  filter_prop = 'land_cover', filter_value = 4)"
      ]
    },
    {
      "cell_type": "code",
      "execution_count": null,
      "metadata": {
        "id": "OsTSmnLFv8Ew"
      },
      "outputs": [],
      "source": [
        "#gfm_built_allpoints = accuracy_reporter(gfm_swlc_all_points, 'reference_water', 'gfm_water', 'GFM Built',\n",
        "#                              filter_bool=True, filter_prop='land_cover', filter_value = 6)\n",
        "\n",
        "gfm_built_allconf = confusion_matrix_reporter(gfm_swlc_allpoints, 'gfm_water',\n",
        "                                                  'GFM Built All Confidences',\n",
        "                                                  filter_prop = 'land_cover', filter_value = 6)"
      ]
    },
    {
      "cell_type": "code",
      "execution_count": null,
      "metadata": {
        "id": "VVsrYC3N51y5"
      },
      "outputs": [],
      "source": [
        "#gfm_bare_allpoints = accuracy_reporter(gfm_swlc_all_points, 'reference_water', 'gfm_water', 'GFM Bare',\n",
        "#                              filter_bool=True, filter_prop='land_cover', filter_value = 7)\n",
        "\n",
        "gfm_bare_allconf = confusion_matrix_reporter(gfm_swlc_allpoints, 'gfm_water',\n",
        "                                                  'GFM Bare All Confidences',\n",
        "                                                  filter_prop = 'land_cover', filter_value = 7)"
      ]
    },
    {
      "cell_type": "markdown",
      "metadata": {
        "id": "CzpKj-A4vup-"
      },
      "source": [
        "### DSWx-HLS Analysis by Land Cover, All Confidences"
      ]
    },
    {
      "cell_type": "code",
      "execution_count": null,
      "metadata": {
        "id": "faE4RsdpvogQ"
      },
      "outputs": [],
      "source": [
        "#dswxhls_cropland = accuracy_reporter(dswxhls_swlc_all_points, 'reference_water', 'dswxhls_water', 'DSWx-HLS Cropland All confidences',\n",
        "#                                     filter_bool=True, filter_prop='land_cover', filter_value = 4)\n",
        "\n",
        "dswxhls_cropland_allconf = confusion_matrix_reporter(dswxhls_swlc_allpoints, 'dswxhls_water',\n",
        "                                                  'DSWx-HLS Cropland All Confidences',\n",
        "                                                  filter_prop = 'land_cover', filter_value = 4)"
      ]
    },
    {
      "cell_type": "code",
      "execution_count": null,
      "metadata": {
        "id": "mDz-XCEQvoeF"
      },
      "outputs": [],
      "source": [
        "#dswxhls_built = accuracy_reporter(dswxhls_swlc_all_points, 'reference_water', 'dswxhls_water', 'DSWx-HLS Built All confidence',\n",
        "#                                  filter_bool=True, filter_prop='land_cover', filter_value = 6)\n",
        "\n",
        "dswxhls_built_allconf = confusion_matrix_reporter(dswxhls_swlc_allpoints, 'dswxhls_water',\n",
        "                                                  'DSWx-HLS Built All Confidences',\n",
        "                                                  filter_prop = 'land_cover', filter_value = 6)"
      ]
    },
    {
      "cell_type": "code",
      "execution_count": null,
      "metadata": {
        "id": "WustAfAE-lqT"
      },
      "outputs": [],
      "source": [
        "#dswxhls_bare_allpoints = accuracy_reporter(dswxhls_swlc_all_points, 'reference_water', 'dswxhls_water', 'DSWx-HLS Bare All confidence',\n",
        "#                              filter_bool=True, filter_prop='land_cover', filter_value = 7)"
      ]
    },
    {
      "cell_type": "code",
      "source": [
        "dswxhls_bare_allconf = confusion_matrix_reporter(dswxhls_swlc_allpoints, 'dswxhls_water',\n",
        "                                                  'DSWx-HLS Bare All Confidences',\n",
        "                                                  filter_prop = 'land_cover', filter_value = 7)"
      ],
      "metadata": {
        "id": "7Q0qZ7Jgv-zD"
      },
      "execution_count": null,
      "outputs": []
    },
    {
      "cell_type": "markdown",
      "metadata": {
        "id": "ljn03dV9_Vz-"
      },
      "source": [
        "### DSWx-S1 Analysis by Land Cover, All Confidences"
      ]
    },
    {
      "cell_type": "code",
      "execution_count": null,
      "metadata": {
        "id": "Y5RCSujOvocB"
      },
      "outputs": [],
      "source": [
        "#dswxs1_cropland = accuracy_reporter(dswxs1_swlc_all_points, 'reference_water', 'dswxs1_water', 'DSWx-S1 Cropland All confidences',\n",
        "#                                     filter_bool=True, filter_prop='land_cover', filter_value = 4)\n",
        "\n",
        "dswxs1_cropland_allconf = confusion_matrix_reporter(dswxs1_swlc_allpoints, 'dswxs1_water',\n",
        "                                                  'DSWx-S1 Cropland All Confidences',\n",
        "                                                  filter_prop = 'land_cover', filter_value = 4)"
      ]
    },
    {
      "cell_type": "code",
      "execution_count": null,
      "metadata": {
        "id": "Ur37zeL1voaD"
      },
      "outputs": [],
      "source": [
        "#dswxs1_built = accuracy_reporter(dswxs1_swlc_all_points, 'reference_water', 'dswxhls_water', 'DSWx-S1 Built All confidence',\n",
        "#                                  filter_bool=True, filter_prop='land_cover', filter_value = 6)"
      ]
    },
    {
      "cell_type": "code",
      "source": [
        "dswxs1_built_allconf = confusion_matrix_reporter(dswxs1_swlc_allpoints, 'dswxs1_water',\n",
        "                                                  'DSWx-S1 Built All Confidences',\n",
        "                                                  filter_prop = 'land_cover', filter_value = 6)"
      ],
      "metadata": {
        "id": "Rxhvgx3nwWGd"
      },
      "execution_count": null,
      "outputs": []
    },
    {
      "cell_type": "code",
      "execution_count": null,
      "metadata": {
        "id": "5fdriP4AvoX8"
      },
      "outputs": [],
      "source": [
        "#dswxs1_bare_allpoints = accuracy_reporter(dswxs1_swlc_all_points, 'reference_water', 'dswxs1_water', 'DSWx-S1 Bare All confidence',\n",
        "#                              filter_bool=True, filter_prop='land_cover', filter_value = 7)"
      ]
    },
    {
      "cell_type": "code",
      "source": [
        "dswxs1_bare_allconf = confusion_matrix_reporter(dswxs1_swlc_allpoints, 'dswxs1_water',\n",
        "                                                  'DSWx-S1 Bare All Confidences',\n",
        "                                                  filter_prop = 'land_cover', filter_value = 7)"
      ],
      "metadata": {
        "id": "2kwON5PAwmQh"
      },
      "execution_count": null,
      "outputs": []
    },
    {
      "cell_type": "markdown",
      "source": [
        "### MCDWD Analysis by Land Cover, All Confidences"
      ],
      "metadata": {
        "id": "tLgLW220ej6R"
      }
    },
    {
      "cell_type": "code",
      "source": [
        "#mcdwd_cropland_all_points = accuracy_reporter(mcdwd_swlc_all_points, 'reference_water', 'mcdwd_water', 'MCDWD Cropland All points',\n",
        "#                                   filter_bool=True, filter_prop='land_cover', filter_value = 4)\n",
        "\n",
        "#mcdwd_built_all_points = accuracy_reporter(mcdwd_swlc_all_points, 'reference_water', 'mcdwd_water', 'MCDWD Built All points',\n",
        "#                                           filter_bool=True, filter_prop='land_cover', filter_value = 6)\n",
        "\n",
        "#mcdwd_bare_allpoints = accuracy_reporter(mcdwd_swlc_all_points, 'reference_water', 'mcdwd_water', 'MCDWD Bare',\n",
        "#                              filter_bool=True, filter_prop='land_cover', filter_value = 7)"
      ],
      "metadata": {
        "id": "8Vq0jLu3vhpI"
      },
      "execution_count": null,
      "outputs": []
    },
    {
      "cell_type": "code",
      "source": [
        "mcdwd_cropland_allconf = confusion_matrix_reporter(mcdwd_swlc_allpoints, 'mcdwd_water',\n",
        "                                                  'MCDWD Cropland All Confidences',\n",
        "                                                  filter_prop = 'land_cover', filter_value = 4)"
      ],
      "metadata": {
        "id": "Ka20VbY2wsjm"
      },
      "execution_count": null,
      "outputs": []
    },
    {
      "cell_type": "code",
      "source": [
        "mcdwd_built_allconf = confusion_matrix_reporter(mcdwd_swlc_allpoints, 'mcdwd_water',\n",
        "                                                  'MCDWD Built All Confidences',\n",
        "                                                  filter_prop = 'land_cover', filter_value = 6)"
      ],
      "metadata": {
        "id": "D52e5-zKw8fD"
      },
      "execution_count": null,
      "outputs": []
    },
    {
      "cell_type": "code",
      "source": [
        "mcdwd_bare_allconf = confusion_matrix_reporter(mcdwd_swlc_allpoints, 'mcdwd_water',\n",
        "                                                  'MCDWD Bare Ground All Confidences',\n",
        "                                                  filter_prop = 'land_cover', filter_value = 7)"
      ],
      "metadata": {
        "id": "gKrP05dfxIE_"
      },
      "execution_count": null,
      "outputs": []
    },
    {
      "cell_type": "markdown",
      "source": [
        "### VFM Analysis by Land Cover, All Confidences"
      ],
      "metadata": {
        "id": "_ZUveWBMehQK"
      }
    },
    {
      "cell_type": "code",
      "source": [
        "'''\n",
        "vfm_cropland_allpoints = accuracy_reporter(vfm_swlc_all_points, 'reference_water', 'vfm_water', 'VFM Cropland All points',\n",
        "                                           filter_bool=True, filter_prop='land_cover', filter_value = 4)\n",
        "vfm_built_allpoints = accuracy_reporter(vfm_swlc_all_points, 'reference_water', 'vfm_water', 'VFM Built all points',\n",
        "                                        filter_bool=True, filter_prop='land_cover', filter_value = 6)\n",
        "vfm_bare_allpoints = accuracy_reporter(vfm_swlc_all_points, 'reference_water', 'vfm_water', 'VFM Bare All confidence',\n",
        "                              filter_bool=True, filter_prop='land_cover', filter_value = 7)\n",
        "'''"
      ],
      "metadata": {
        "id": "tBmQvyvQejXt"
      },
      "execution_count": null,
      "outputs": []
    },
    {
      "cell_type": "code",
      "source": [
        "vfm_cropland_allconf = confusion_matrix_reporter(vfm_swlc_allpoints, 'vfm_water',\n",
        "                                                  'VFM Cropland All Confidences',\n",
        "                                                  filter_prop = 'land_cover', filter_value = 4)"
      ],
      "metadata": {
        "id": "HDCLM8-eyPmb"
      },
      "execution_count": null,
      "outputs": []
    },
    {
      "cell_type": "code",
      "source": [
        "vfm_built_allconf = confusion_matrix_reporter(vfm_swlc_allpoints, 'vfm_water',\n",
        "                                                  'VFM Built-Up All Confidences',\n",
        "                                                  filter_prop = 'land_cover', filter_value = 6)"
      ],
      "metadata": {
        "id": "n2sBq-dNyd9T"
      },
      "execution_count": null,
      "outputs": []
    },
    {
      "cell_type": "code",
      "source": [
        "vfm_bare_allconf = confusion_matrix_reporter(vfm_swlc_allpoints, 'vfm_water',\n",
        "                                                  'VFM Bare Ground All Confidences',\n",
        "                                                  filter_prop = 'land_cover', filter_value = 7)"
      ],
      "metadata": {
        "id": "HLuogkscykO3"
      },
      "execution_count": null,
      "outputs": []
    },
    {
      "cell_type": "markdown",
      "source": [
        "## Step 6 Part 2: Land Cover with High Confidence Points"
      ],
      "metadata": {
        "id": "zmvBkbOtq5OA"
      }
    },
    {
      "cell_type": "code",
      "source": [
        "# HYDRAFloods sampled with Slope, High Confidence\n",
        "hf_swlc_highconf = dw_renamed.sampleRegions(hf_sampled_highconf, projection = my_proj_string,\n",
        "                                            scale=my_scale, geometries = True)\n",
        "\n",
        "# Hydrosar sampled with Land Cover, High Confidence\n",
        "hs_swlc_highconf = dw_renamed.sampleRegions(hs_sampled_highconf, projection = my_proj_string,\n",
        "                                            scale=my_scale, geometries = True)\n",
        "\n",
        "# GFM sampled with land cover, High Confidence\n",
        "gfm_swlc_highconf = dw_renamed.sampleRegions(gfm_sampled_highconf, projection = my_proj_string,\n",
        "                                            scale=my_scale, geometries = True)\n",
        "\n",
        "# DSWx-HLS Sampled with Land Cover, High Confidence\n",
        "dswxhls_swlc_highconf = dw_renamed.sampleRegions(dswxhls_sampled_highconf, projection = my_proj_string,\n",
        "                                            scale=my_scale, geometries = True)\n",
        "\n",
        "# DSWx-S1 sampled with land cover, High Confidence\n",
        "dswxs1_swlc_highconf = dw_renamed.sampleRegions(dswxs1_sampled_highconf, projection = my_proj_string,\n",
        "                                            scale=my_scale, geometries = True)\n",
        "\n",
        "# VFM sampled with land cover, High Confidence\n",
        "vfm_swlc_highconf = dw_renamed.sampleRegions(vfm_sampled_highconf, projection = my_proj_string,\n",
        "                                            scale=my_scale, geometries = True)\n",
        "\n",
        "# MCDWD sampled with land cover, High Confidence\n",
        "mcdwd_swlc_highconf = dw_renamed.sampleRegions(mcdwd_sampled_highconf, projection = my_proj_string,\n",
        "                                            scale=my_scale, geometries = True)"
      ],
      "metadata": {
        "id": "SqyoMPDLrARI"
      },
      "execution_count": null,
      "outputs": []
    },
    {
      "cell_type": "markdown",
      "source": [
        "### HYDRAFloods Analysis by Land Cover, High Confidence Points Only"
      ],
      "metadata": {
        "id": "0Kumto-Zrfqj"
      }
    },
    {
      "cell_type": "code",
      "source": [
        "hf_cropland_highconf = confusion_matrix_reporter(hf_swlc_highconf, 'hydrafloods_water',\n",
        "                                                  'HYDRAFloods Cropland High Confidence',\n",
        "                                                  filter_prop = 'land_cover', filter_value = 4)"
      ],
      "metadata": {
        "id": "AKVapjcUzkaq"
      },
      "execution_count": null,
      "outputs": []
    },
    {
      "cell_type": "code",
      "source": [
        "hf_built_highconf = confusion_matrix_reporter(hf_swlc_highconf, 'hydrafloods_water',\n",
        "                                                  'HYDRAFloods Built High Confidence',\n",
        "                                                  filter_prop = 'land_cover', filter_value = 6)"
      ],
      "metadata": {
        "id": "Iv-BPoYyzxtv"
      },
      "execution_count": null,
      "outputs": []
    },
    {
      "cell_type": "code",
      "source": [
        "hf_bare_highconf = confusion_matrix_reporter(hf_swlc_highconf, 'hydrafloods_water',\n",
        "                                                  'HYDRAFloods Bare High Confidence',\n",
        "                                                  filter_prop = 'land_cover', filter_value = 7)"
      ],
      "metadata": {
        "id": "-tLHrJpaz4EZ"
      },
      "execution_count": null,
      "outputs": []
    },
    {
      "cell_type": "markdown",
      "source": [
        "### HYDROSAR Analysis by Land Cover, High Confidence Points Only"
      ],
      "metadata": {
        "id": "lbYVTeeYrm0f"
      }
    },
    {
      "cell_type": "code",
      "source": [
        "hs_cropland_highconf = confusion_matrix_reporter(hs_swlc_highconf, 'hydrosar_water',\n",
        "                                                  'HYDROSAR Cropland High Confidence',\n",
        "                                                  filter_prop = 'land_cover', filter_value = 4)"
      ],
      "metadata": {
        "id": "OIoWBk-X0GjY"
      },
      "execution_count": null,
      "outputs": []
    },
    {
      "cell_type": "code",
      "source": [
        "hs_built_highconf = confusion_matrix_reporter(hs_swlc_highconf, 'hydrosar_water',\n",
        "                                                  'HYDROSAR Built-Up High Confidence',\n",
        "                                                  filter_prop = 'land_cover', filter_value = 6)"
      ],
      "metadata": {
        "id": "JAuDZRvf0ODO"
      },
      "execution_count": null,
      "outputs": []
    },
    {
      "cell_type": "code",
      "source": [
        "hs_bare_highconf = confusion_matrix_reporter(hs_swlc_highconf, 'hydrosar_water',\n",
        "                                                  'HYDROSAR Bare Ground High Confidence',\n",
        "                                                  filter_prop = 'land_cover', filter_value = 7)"
      ],
      "metadata": {
        "id": "YfHFperN0Tid"
      },
      "execution_count": null,
      "outputs": []
    },
    {
      "cell_type": "markdown",
      "source": [
        "### GFM Analysis by Land Cover, High Confidence Points Only"
      ],
      "metadata": {
        "id": "6C_vFgK9rsEq"
      }
    },
    {
      "cell_type": "code",
      "source": [
        "gfm_cropland_highconf = confusion_matrix_reporter(gfm_swlc_highconf, 'gfm_water',\n",
        "                                                  'GFM Cropland High Confidence',\n",
        "                                                  filter_prop = 'land_cover', filter_value = 4)"
      ],
      "metadata": {
        "id": "G2zIGgDS0b0J"
      },
      "execution_count": null,
      "outputs": []
    },
    {
      "cell_type": "code",
      "source": [
        "gfm_built_highconf = confusion_matrix_reporter(gfm_swlc_highconf, 'gfm_water',\n",
        "                                                  'GFM Built-Up High Confidence',\n",
        "                                                  filter_prop = 'land_cover', filter_value = 6)"
      ],
      "metadata": {
        "id": "1-PAJThS0nZC"
      },
      "execution_count": null,
      "outputs": []
    },
    {
      "cell_type": "code",
      "source": [
        "gfm_bare_highconf = confusion_matrix_reporter(gfm_swlc_highconf, 'gfm_water',\n",
        "                                                  'GFM Bare Ground High Confidence',\n",
        "                                                  filter_prop = 'land_cover', filter_value = 7)"
      ],
      "metadata": {
        "id": "DNFn0rUx0tk0"
      },
      "execution_count": null,
      "outputs": []
    },
    {
      "cell_type": "markdown",
      "source": [
        "### DSWx-HLS Analysis by Land Cover, High Confidence Points Only"
      ],
      "metadata": {
        "id": "aBe_Gz7krxpm"
      }
    },
    {
      "cell_type": "code",
      "source": [
        "dswxhls_cropland_highconf = confusion_matrix_reporter(dswxhls_swlc_highconf, 'dswxhls_water',\n",
        "                                                  'DSWx-HLS Cropland High Confidence',\n",
        "                                                  filter_prop = 'land_cover', filter_value = 4)"
      ],
      "metadata": {
        "id": "w39FtXU_0zZG"
      },
      "execution_count": null,
      "outputs": []
    },
    {
      "cell_type": "code",
      "source": [
        "dswxhls_built_highconf = confusion_matrix_reporter(dswxhls_swlc_highconf, 'dswxhls_water',\n",
        "                                                  'DSWx-HLS Built High Confidence',\n",
        "                                                  filter_prop = 'land_cover', filter_value = 6)"
      ],
      "metadata": {
        "id": "AGLdU9OO0-EB"
      },
      "execution_count": null,
      "outputs": []
    },
    {
      "cell_type": "code",
      "source": [
        "dswxhls_bare_highconf = confusion_matrix_reporter(dswxhls_swlc_highconf, 'dswxhls_water',\n",
        "                                                  'DSWx-HLS Bare Ground High Confidence',\n",
        "                                                  filter_prop = 'land_cover', filter_value = 7)"
      ],
      "metadata": {
        "id": "ju9wm1JO1FIE"
      },
      "execution_count": null,
      "outputs": []
    },
    {
      "cell_type": "markdown",
      "source": [
        "### DSWx-S1 Analysis by Land Cover, High Confidence Points Only"
      ],
      "metadata": {
        "id": "pHm1_OkVrz8K"
      }
    },
    {
      "cell_type": "code",
      "source": [
        "dswxs1_cropland_highconf = confusion_matrix_reporter(dswxs1_swlc_highconf, 'dswxs1_water',\n",
        "                                                  'DSWx-S1 Cropland High Confidence',\n",
        "                                                  filter_prop = 'land_cover', filter_value = 4)"
      ],
      "metadata": {
        "id": "Urqygsiw1OnT"
      },
      "execution_count": null,
      "outputs": []
    },
    {
      "cell_type": "code",
      "source": [
        "dswxs1_built_highconf = confusion_matrix_reporter(dswxs1_swlc_highconf, 'dswxs1_water',\n",
        "                                                  'DSWx-S1 Built High Confidence',\n",
        "                                                  filter_prop = 'land_cover', filter_value = 6)"
      ],
      "metadata": {
        "id": "Qx8VOkcp1VA9"
      },
      "execution_count": null,
      "outputs": []
    },
    {
      "cell_type": "code",
      "source": [
        "dswxs1_bare_highconf = confusion_matrix_reporter(dswxs1_swlc_highconf, 'dswxs1_water',\n",
        "                                                  'DSWx-S1 Bare Ground High Confidence',\n",
        "                                                  filter_prop = 'land_cover', filter_value = 7)"
      ],
      "metadata": {
        "id": "qbB2c8xs1gkm"
      },
      "execution_count": null,
      "outputs": []
    },
    {
      "cell_type": "markdown",
      "source": [
        "### MCDWD Analysis by Land Cover, High Confidence Points Only"
      ],
      "metadata": {
        "id": "mgN9efnervl8"
      }
    },
    {
      "cell_type": "code",
      "source": [
        "mcdwd_cropland_highconf = confusion_matrix_reporter(mcdwd_swlc_highconf, 'mcdwd_water',\n",
        "                                                  'MCDWD Cropland High Confidence',\n",
        "                                                  filter_prop = 'land_cover', filter_value = 4)"
      ],
      "metadata": {
        "id": "YvAsb-XF1rCt"
      },
      "execution_count": null,
      "outputs": []
    },
    {
      "cell_type": "code",
      "source": [
        "mcdwd_built_highconf = confusion_matrix_reporter(mcdwd_swlc_highconf, 'mcdwd_water',\n",
        "                                                  'MCDWD Built-Up High Confidence',\n",
        "                                                  filter_prop = 'land_cover', filter_value = 6)"
      ],
      "metadata": {
        "id": "gE3ml3kE1wqB"
      },
      "execution_count": null,
      "outputs": []
    },
    {
      "cell_type": "code",
      "source": [
        "mcdwd_bare_highconf = confusion_matrix_reporter(mcdwd_swlc_highconf, 'mcdwd_water',\n",
        "                                                  'MCDWD Bare Ground High Confidence',\n",
        "                                                  filter_prop = 'land_cover', filter_value = 7)"
      ],
      "metadata": {
        "id": "d6xqumxP2JO7"
      },
      "execution_count": null,
      "outputs": []
    },
    {
      "cell_type": "markdown",
      "source": [
        "### VFM Analysis by Land Cover, High Confidence Points Only"
      ],
      "metadata": {
        "id": "qLLyFGBlr2Fr"
      }
    },
    {
      "cell_type": "code",
      "source": [
        "vfm_cropland_highconf = confusion_matrix_reporter(vfm_swlc_highconf, 'vfm_water',\n",
        "                                                  'VFM Cropland High Confidence',\n",
        "                                                  filter_prop = 'land_cover', filter_value = 4)"
      ],
      "metadata": {
        "id": "Psr2IW9drllZ"
      },
      "execution_count": null,
      "outputs": []
    },
    {
      "cell_type": "code",
      "source": [
        "vfm_built_highconf = confusion_matrix_reporter(vfm_swlc_highconf, 'vfm_water',\n",
        "                                                  'VFM Built-Up High Confidence',\n",
        "                                                  filter_prop = 'land_cover', filter_value = 6)"
      ],
      "metadata": {
        "id": "Cn4xsPlV27FM"
      },
      "execution_count": null,
      "outputs": []
    },
    {
      "cell_type": "code",
      "source": [
        "vfm_bare_highconf = confusion_matrix_reporter(vfm_swlc_highconf, 'vfm_water',\n",
        "                                                  'VFM Bare Ground High Confidence',\n",
        "                                                  filter_prop = 'land_cover', filter_value = 7)"
      ],
      "metadata": {
        "id": "8BVvVMIP3WAt"
      },
      "execution_count": null,
      "outputs": []
    },
    {
      "cell_type": "markdown",
      "source": [
        "# Step 7: Write everything to a CSV"
      ],
      "metadata": {
        "id": "vDz9GyNT3YHo"
      }
    },
    {
      "cell_type": "code",
      "source": [
        "vfm_bare_highconf"
      ],
      "metadata": {
        "id": "7e_9PWTW4TeK"
      },
      "execution_count": null,
      "outputs": []
    },
    {
      "cell_type": "code",
      "source": [
        "pwd"
      ],
      "metadata": {
        "id": "OtFHSOMs3aDv"
      },
      "execution_count": null,
      "outputs": []
    },
    {
      "cell_type": "code",
      "source": [
        "from google.colab import drive\n",
        "import os"
      ],
      "metadata": {
        "id": "jQePC9AI3cPy"
      },
      "execution_count": null,
      "outputs": []
    },
    {
      "cell_type": "code",
      "source": [
        "drive.mount('/content/drive/')"
      ],
      "metadata": {
        "id": "NRWe3hj13Ws9"
      },
      "execution_count": null,
      "outputs": []
    },
    {
      "cell_type": "code",
      "source": [
        "os.chdir('drive/My Drive')#/Flood_Intercomparison/case_studies/confirmed_case_studies/chad_09_26')"
      ],
      "metadata": {
        "id": "kjotoMxu3WqB"
      },
      "execution_count": null,
      "outputs": []
    },
    {
      "cell_type": "code",
      "source": [
        "os.chdir('Flood_Intercomparison')"
      ],
      "metadata": {
        "id": "oLFtGpWR31zk"
      },
      "execution_count": null,
      "outputs": []
    },
    {
      "cell_type": "code",
      "source": [
        "os.chdir('Case_Studies/confirmed_case_studies/chad_09_26')"
      ],
      "metadata": {
        "id": "mr-3hDJU37c1"
      },
      "execution_count": null,
      "outputs": []
    },
    {
      "cell_type": "code",
      "source": [
        "import csv"
      ],
      "metadata": {
        "id": "fVnmgIuJ4KLL"
      },
      "execution_count": null,
      "outputs": []
    },
    {
      "cell_type": "code",
      "source": [
        "#filename = 'Statistics_chad_09_26_20250326.csv'\n",
        "filename = 'Statistics_chad_09_26_20250326_updated.csv'\n",
        "\n",
        "headers = ['Description', 'Sample_Size', 'Overall_Accuracy', 'Precision', 'Recall', 'Specificity', 'NPV', 'F1_score', 'Normalized_Matthews_Correlation_Coefficient']\n",
        "\n",
        "with open(filename, 'w') as csvfile:\n",
        "  csvwriter = csv.writer(csvfile)\n",
        "\n",
        "  csvwriter.writerow(headers)\n",
        "\n",
        "  # All Confidence Points\n",
        "  csvwriter.writerow(hydrafloods_allconf)\n",
        "  csvwriter.writerow(hydrosar_allconf)\n",
        "  csvwriter.writerow(gfm_allconf)\n",
        "  csvwriter.writerow(dswxhls_allconf)\n",
        "  csvwriter.writerow(dswxs1_allconf)\n",
        "  csvwriter.writerow(mcdwd_allconf)\n",
        "  csvwriter.writerow(vfm_allconf)\n",
        "\n",
        "  # High Confidence Points\n",
        "  csvwriter.writerow(hydrafloods_highconf)\n",
        "  csvwriter.writerow(hydrosar_highconf)\n",
        "  csvwriter.writerow(gfm_highconf)\n",
        "  csvwriter.writerow(dswxhls_highconf)\n",
        "  csvwriter.writerow(dswxs1_highconf)\n",
        "  csvwriter.writerow(mcdwd_highconf)\n",
        "  csvwriter.writerow(vfm_highconf)\n",
        "\n",
        "  # Slope -- All Confidence Points\n",
        "  csvwriter.writerow(hf_lowslope_allconf)\n",
        "  csvwriter.writerow(hs_lowslo_allconf)\n",
        "  csvwriter.writerow(gfm_loslo_allconf)\n",
        "  csvwriter.writerow(dswxhls_loslo_allconf)\n",
        "  csvwriter.writerow(dswxs1_loslo_allconf)\n",
        "  csvwriter.writerow(mcdwd_loslo_allconf)\n",
        "  csvwriter.writerow(vfm_loslo_allconf)\n",
        "\n",
        "  csvwriter.writerow(hf_modlowslope_allconf)\n",
        "  csvwriter.writerow(hs_modlowslo_allconf)\n",
        "  csvwriter.writerow(gfm_modloslo_allconf)\n",
        "  csvwriter.writerow(dswxhls_modloslo_allconf)\n",
        "  csvwriter.writerow(dswxs1_modloslo_allconf)\n",
        "  csvwriter.writerow(mcdwd_modloslo_allconf)\n",
        "  csvwriter.writerow(vfm_modloslo_allconf)\n",
        "\n",
        "\n",
        "  csvwriter.writerow(hf_modhighslope_allconf)\n",
        "  csvwriter.writerow(hs_modhighslo_allconf)\n",
        "  csvwriter.writerow(gfm_modhislo_allconf)\n",
        "  csvwriter.writerow(dswxhls_modhislo_allconf)\n",
        "  csvwriter.writerow(dswxs1_modhislo_allconf)\n",
        "  csvwriter.writerow(mcdwd_modhislo_allconf)\n",
        "  csvwriter.writerow(vfm_modhislo_allconf)\n",
        "\n",
        "  # Slope -- High Confidence Points\n",
        "  csvwriter.writerow(hf_loslo_highconf)\n",
        "  csvwriter.writerow(hs_lowslo_highconf)\n",
        "  csvwriter.writerow(gfm_lowslo_highconf)\n",
        "  csvwriter.writerow(dswxhls_lowslo_highconf)\n",
        "  csvwriter.writerow(dswxs1_lowslo_highconf)\n",
        "  csvwriter.writerow(mcdwd_lowslo_highconf)\n",
        "  csvwriter.writerow(vfm_lowslo_highconf)\n",
        "\n",
        "  csvwriter.writerow(hf_modlowslo_highconf)\n",
        "  csvwriter.writerow(hs_modlowslo_highconf)\n",
        "  csvwriter.writerow(gfm_modlowslo_highconf)\n",
        "  csvwriter.writerow(dswxhls_modlowslo_highconf)\n",
        "  csvwriter.writerow(dswxs1_modlowslo_highconf)\n",
        "  csvwriter.writerow(mcdwd_modlowslo_highconf)\n",
        "  csvwriter.writerow(vfm_modlowslo_highconf)\n",
        "\n",
        "  csvwriter.writerow(hf_modhislo_highconf)\n",
        "  csvwriter.writerow(hs_modhighslo_highconf)\n",
        "  csvwriter.writerow(gfm_modhighslo_highconf)\n",
        "  csvwriter.writerow(dswxhls_modhighslo_highconf)\n",
        "  csvwriter.writerow(dswxs1_modhighslo_highconf)\n",
        "  csvwriter.writerow(mcdwd_modhighslo_highconf)\n",
        "  csvwriter.writerow(vfm_modhighslo_highconf)\n",
        "\n",
        "  # Land Cover -- All Confidence Points\n",
        "  csvwriter.writerow(hf_cropland_allconf)\n",
        "  csvwriter.writerow(hs_cropland_allconf)\n",
        "  csvwriter.writerow(gfm_cropland_allconf)\n",
        "  csvwriter.writerow(dswxhls_cropland_allconf)\n",
        "  csvwriter.writerow(dswxs1_cropland_allconf)\n",
        "  csvwriter.writerow(mcdwd_cropland_allconf)\n",
        "  csvwriter.writerow(vfm_cropland_allconf)\n",
        "\n",
        "  csvwriter.writerow(hf_built_allconf)\n",
        "  csvwriter.writerow(hs_built_allconf)\n",
        "  csvwriter.writerow(gfm_built_allconf)\n",
        "  csvwriter.writerow(dswxhls_built_allconf)\n",
        "  csvwriter.writerow(dswxs1_built_allconf)\n",
        "  csvwriter.writerow(mcdwd_built_allconf)\n",
        "  csvwriter.writerow(vfm_built_allconf)\n",
        "\n",
        "  csvwriter.writerow(hf_bare_allconf)\n",
        "  csvwriter.writerow(hs_bare_allconf)\n",
        "  csvwriter.writerow(gfm_bare_allconf)\n",
        "  csvwriter.writerow(dswxhls_bare_allconf)\n",
        "  csvwriter.writerow(dswxs1_bare_allconf)\n",
        "  csvwriter.writerow(mcdwd_bare_allconf)\n",
        "  csvwriter.writerow(vfm_bare_allconf)\n",
        "\n",
        "  # Land cover -- High Confidence Points\n",
        "  csvwriter.writerow(hf_cropland_highconf)\n",
        "  csvwriter.writerow(hs_cropland_highconf)\n",
        "  csvwriter.writerow(gfm_cropland_highconf)\n",
        "  csvwriter.writerow(dswxhls_cropland_highconf)\n",
        "  csvwriter.writerow(dswxs1_cropland_highconf)\n",
        "  csvwriter.writerow(mcdwd_cropland_highconf)\n",
        "  csvwriter.writerow(vfm_cropland_highconf)\n",
        "\n",
        "  csvwriter.writerow(hf_built_highconf)\n",
        "  csvwriter.writerow(hs_built_highconf)\n",
        "  csvwriter.writerow(gfm_built_highconf)\n",
        "  csvwriter.writerow(dswxhls_built_highconf)\n",
        "  csvwriter.writerow(dswxs1_built_highconf)\n",
        "  csvwriter.writerow(mcdwd_built_highconf)\n",
        "  csvwriter.writerow(vfm_built_highconf)\n",
        "\n",
        "  csvwriter.writerow(hf_bare_highconf)\n",
        "  csvwriter.writerow(hs_bare_highconf)\n",
        "  csvwriter.writerow(gfm_bare_highconf)\n",
        "  csvwriter.writerow(dswxhls_bare_highconf)\n",
        "  csvwriter.writerow(dswxs1_bare_highconf)\n",
        "  csvwriter.writerow(mcdwd_bare_highconf)\n",
        "  csvwriter.writerow(vfm_bare_highconf)"
      ],
      "metadata": {
        "id": "fLGUTpwb3_Xu"
      },
      "execution_count": null,
      "outputs": []
    },
    {
      "cell_type": "markdown",
      "source": [
        "# References\n",
        "\n",
        "* Landwehr, Tim, Antara Dasgupta, and Björn Waske. \"Towards robust validation strategies for EO flood maps.\" Remote Sensing of Environment 315 (2024): 114439."
      ],
      "metadata": {
        "id": "Mdffml1ET3lF"
      }
    }
  ],
  "metadata": {
    "colab": {
      "provenance": [],
      "toc_visible": true,
      "include_colab_link": true
    },
    "kernelspec": {
      "display_name": "Python 3",
      "name": "python3"
    },
    "language_info": {
      "name": "python"
    }
  },
  "nbformat": 4,
  "nbformat_minor": 0
}