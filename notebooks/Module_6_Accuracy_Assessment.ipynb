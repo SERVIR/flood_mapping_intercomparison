{
  "cells": [
    {
      "cell_type": "markdown",
      "metadata": {
        "id": "view-in-github",
        "colab_type": "text"
      },
      "source": [
        "<a href=\"https://colab.research.google.com/github/SERVIR/flood_mapping_intercomparison/blob/main/notebooks/Module_6_Accuracy_Assessment.ipynb\" target=\"_parent\"><img src=\"https://colab.research.google.com/assets/colab-badge.svg\" alt=\"Open In Colab\"/></a>"
      ]
    },
    {
      "cell_type": "markdown",
      "metadata": {
        "id": "Btxy3PgzM5I8"
      },
      "source": [
        "In this module, we will import all of our flood maps and conduct an accuracy assessment. We will create confusion matrices which will show True Positives (TP), False Positives(FP), False Negatives(FN), and True Negatives.\n",
        "\n",
        "* TP = True Positive. Water in reference data, water in flood map.\n",
        "* FP = False Positive. Nonwater in reference data, water in flood map.\n",
        "* FN = False Negative. Water in Reference Data, nonwater in flood map.\n",
        "* TN = True Negative. Nonwater in reference data, nonwater in flood map.\n",
        "\n",
        "From the confusion matrix, we can calculate the following statistics (formulas and interpretation from Landwehr et al 2024 (See References):\n",
        "\n",
        "* Overall Accuracy = $\\begin{equation} \\frac{TP + TN}{TP + FP + FN + TN} \\end{equation} $\n",
        "  * Proportion of correctly classified instances (regardsless of class) to the total number of instances\n",
        "* Recall (aka Completeness, Sensitivity, or Producer's Accuracy for Water) = $\\begin{equation} \\frac{TP}{TP+FN} \\end{equation} $\n",
        "  * Fraction of actual positive instances that are correctly predicted\n",
        "* Precision (aka aka Correctness aka Positive Predict Value aka User's Accuracy for Water) = $\\begin{equation} \\frac{TP}{TP + FP} \\end{equation} $\n",
        "  * Fraction of positive predictions that are actually correct.\n",
        "* Specificity = Producer's Accuracy for Nonwater = $\\begin{equation} \\frac{TN}{TN+FP} \\end{equation} $\n",
        "* Negative Predictive Value = User's Accuracy for Nonwater = $\\begin{equation} \\frac{TN}{TN+FN} \\end{equation} $\n",
        "* F1 score (aka Dice Coefficient) =  $\\begin{equation} \\frac{2 * TP}{2 * TP + FP + FN} \\end{equation} $\n",
        "  * combines precision and recall to a harmonic mean\n",
        "* Normalized Matthews Correlation Coefficient (aka Phi coefficient, mean square coefficiency coefficient) = $\\begin{equation} \\frac{\\frac{TP * TN - FP * FN}{\\sqrt{(TP + FP) * (TP + FN) * (TN + FP) * (TN + FN)}}}{2} \\end{equation} $\n",
        "  * Correlation between observed and predicted classes. Useful for cases where there is a large class imbalance.\n",
        "\n",
        "We will calculate the confusion matrices and above metrics for all points, for high confidence reference points, and for various slope, elevation, and landcover classes.\n",
        "\n",
        "We will then write the results of the accuracy assessmnent to a CSV."
      ]
    },
    {
      "cell_type": "markdown",
      "metadata": {
        "id": "xxb7X-hvMnLP"
      },
      "source": [
        "# Step 1: Import packages"
      ]
    },
    {
      "cell_type": "code",
      "execution_count": null,
      "metadata": {
        "id": "n07orLu6Mpt1"
      },
      "outputs": [],
      "source": [
        "import numpy as np\n",
        "import pandas as pd\n",
        "from google.colab import drive\n",
        "import matplotlib.pyplot as plt\n",
        "import ee\n",
        "import geemap\n",
        "import matplotlib.pyplot as plt\n",
        "import sklearn.metrics\n",
        "from google.colab import drive\n",
        "import os\n",
        "import csv\n",
        "from sklearn.datasets import make_classification\n",
        "from sklearn.metrics import confusion_matrix, ConfusionMatrixDisplay\n",
        "from sklearn.model_selection import train_test_split\n",
        "from sklearn.svm import SVC"
      ]
    },
    {
      "cell_type": "markdown",
      "metadata": {
        "id": "W6y1FZ23uqkR"
      },
      "source": [
        "# MODIFIABLE VARIABLE ALERT"
      ]
    },
    {
      "cell_type": "code",
      "execution_count": null,
      "metadata": {
        "id": "SoEql5pmrtiC"
      },
      "outputs": [],
      "source": [
        "my_gee_folder = \"users/mickymags/semi_fmi_arkansas_20250409/\"\n",
        "my_gee_project = 'servir-sco-assets'\n",
        "my_gdrive_folder = \"content/drive/MyDrive/Flood_Intercomparison/Case_Studies/semi/semi_arkansas_20250409/\"\n",
        "doi = \"2025-04-09\"\n",
        "event_desc = 'Arkansas'\n",
        "filename = 'semifinal_master_stats.csv'       # The output folder that we will write the data to"
      ]
    },
    {
      "cell_type": "code",
      "source": [
        "ee.Authenticate()\n",
        "\n",
        "ee.Initialize(project=my_gee_project)"
      ],
      "metadata": {
        "id": "eGHyyEm489WV"
      },
      "execution_count": null,
      "outputs": []
    },
    {
      "cell_type": "code",
      "execution_count": null,
      "metadata": {
        "id": "YyLO0Vj2u0Py"
      },
      "outputs": [],
      "source": [
        "aoi = ee.FeatureCollection(my_gee_folder + \"aoi\")\n",
        "roi = aoi.geometry()\n",
        "aoi_centroid = aoi.geometry().centroid()             # Get the center of the AOI\n",
        "lon = aoi_centroid.coordinates().get(0).getInfo()    # Extract the longitude from the centroid\n",
        "lat = aoi_centroid.coordinates().get(1).getInfo()    # Extract the latitude from the centroid"
      ]
    },
    {
      "cell_type": "markdown",
      "metadata": {
        "id": "bfFuTWdUMixD"
      },
      "source": [
        "# Step 2: Import Flood Maps"
      ]
    },
    {
      "cell_type": "markdown",
      "metadata": {
        "id": "g2PC7sD4Nghd"
      },
      "source": [
        "Import each of the flood maps we exported at the end of Module 6, and the reference data we collected in Collect Earth Online.  "
      ]
    },
    {
      "cell_type": "code",
      "execution_count": null,
      "metadata": {
        "id": "4WNRInlOG2Se"
      },
      "outputs": [],
      "source": [
        "my_ref_data = ee.FeatureCollection(my_gee_folder + \"reference_data\")\n",
        "dswx_hls = ee.Image(my_gee_folder + \"dswxhls_harmonized\")\n",
        "dswx_s1 = ee.Image(my_gee_folder + \"dswxs1_harmonized\")\n",
        "mcdwd = ee.Image(my_gee_folder + \"mcdwd_harmonized\")\n",
        "hf = ee.Image(my_gee_folder + \"hydrafloods_harmonized\")\n",
        "hydrosar = ee.Image(my_gee_folder + \"hydrosar_harmonized\")\n",
        "gfm = ee.Image(my_gee_folder + \"gfm_harmonized\")\n",
        "vfm = ee.Image(my_gee_folder + \"vfm_harmonized\")"
      ]
    },
    {
      "cell_type": "code",
      "execution_count": null,
      "metadata": {
        "id": "5kHggyWJveXo"
      },
      "outputs": [],
      "source": [
        "# Get the projection and scale from one of the products\n",
        "my_projection = hf.projection()\n",
        "my_proj_string = my_projection.getInfo()['crs']\n",
        "my_scale = my_projection.nominalScale().getInfo()"
      ]
    },
    {
      "cell_type": "code",
      "execution_count": null,
      "metadata": {
        "id": "YBPAMba0r9Xz"
      },
      "outputs": [],
      "source": [
        "water_viz = {\n",
        "    \"min\": 0,\n",
        "    \"max\": 2,\n",
        "    \"palette\": ['D3D3D3', '000080', 'FFFFFF']\n",
        "}"
      ]
    },
    {
      "cell_type": "code",
      "execution_count": null,
      "metadata": {
        "id": "S07De-87tHd5"
      },
      "outputs": [],
      "source": [
        "gfm_mask = gfm.neq(2)\n",
        "mcdwd_mask = mcdwd.neq(2)\n",
        "vfm_mask = vfm.neq(2)\n",
        "dswxhls_mask = dswx_hls.neq(2)\n",
        "dswxs1_mask = dswx_s1.neq(2)\n",
        "hf_mask = hf.neq(2)\n",
        "hydrosar_mask = hydrosar.neq(2)"
      ]
    },
    {
      "cell_type": "code",
      "execution_count": null,
      "metadata": {
        "id": "ymo9WzGItb0r"
      },
      "outputs": [],
      "source": [
        "gfm_final = gfm.updateMask(gfm_mask)\n",
        "vfm_final = vfm.updateMask(vfm_mask)\n",
        "mcdwd_final = mcdwd.updateMask(mcdwd_mask)\n",
        "dswxhls_final = dswx_hls.updateMask(dswxhls_mask)\n",
        "dswxs1_final = dswx_s1.updateMask(dswxs1_mask)\n",
        "hydrosar_final = hydrosar.updateMask(hydrosar_mask)\n",
        "hf_final = hf.updateMask(hf_mask)"
      ]
    },
    {
      "cell_type": "code",
      "execution_count": null,
      "metadata": {
        "id": "KS9FT4jku2QY"
      },
      "outputs": [],
      "source": [
        "Map = geemap.Map(center = (lat, lon), zoom = 7)\n",
        "Map.addLayer(gfm_final, water_viz, 'GFM')\n",
        "Map.addLayer(vfm_final, water_viz, 'VFM')\n",
        "Map.addLayer(dswxhls_final, water_viz, 'DSWx-HLS')\n",
        "Map.addLayer(dswxs1_final, water_viz, 'DSWx-S1')\n",
        "Map.addLayer(mcdwd_final, water_viz, 'MCDWD')\n",
        "Map.addLayer(hf_final, water_viz, 'HYDRAFloods')\n",
        "Map.addLayer(hydrosar_final, water_viz, 'HydroSAR')\n",
        "Map.addLayer(my_ref_data, {}, 'Reference Data')\n",
        "Map.addLayerControl()\n",
        "Map"
      ]
    },
    {
      "cell_type": "markdown",
      "metadata": {
        "id": "lHcqObt9vISX"
      },
      "source": [
        "Now let's bring in our reference data and flood maps."
      ]
    },
    {
      "cell_type": "markdown",
      "metadata": {
        "id": "zD5mj9eswLcD"
      },
      "source": [
        "Filter our reference data to two different feature collections, one that has points that were identified as water, and one that has points that were identified as nonwater."
      ]
    },
    {
      "cell_type": "code",
      "execution_count": null,
      "metadata": {
        "id": "6NYzawBhZfTF"
      },
      "outputs": [],
      "source": [
        "my_ref_data.size().getInfo()"
      ]
    },
    {
      "cell_type": "code",
      "execution_count": null,
      "metadata": {
        "id": "aeu6mhViZbOe"
      },
      "outputs": [],
      "source": [
        "my_ref_data = my_ref_data.filterBounds(aoi)"
      ]
    },
    {
      "cell_type": "code",
      "execution_count": null,
      "metadata": {
        "id": "UZkL42ahZhYN"
      },
      "outputs": [],
      "source": [
        "my_ref_data.size().getInfo()"
      ]
    },
    {
      "cell_type": "code",
      "execution_count": null,
      "metadata": {
        "id": "dxZIWI5cilig"
      },
      "outputs": [],
      "source": [
        "def property_setter(feature_collection):\n",
        "  fc_size = feature_collection.size().getInfo()\n",
        "\n",
        "  feats = []\n",
        "  for q in range(fc_size):\n",
        "    feat_of_int = ee.Feature(feature_collection.toList(fc_size).get(q))\n",
        "    property_of_int = feat_of_int.get('water?:yes')\n",
        "    if q % 100 == 0:\n",
        "      print(q)\n",
        "    #print(property_of_int.getInfo())\n",
        "    if property_of_int.getInfo() == 100:\n",
        "      feat_of_int = feat_of_int.set('reference_water', 1)\n",
        "      feats.append(feat_of_int)\n",
        "    else:\n",
        "      feat_of_int = feat_of_int.set('reference_water', 0)\n",
        "      feats.append(feat_of_int)\n",
        "\n",
        "  new_fc = ee.FeatureCollection(feats)\n",
        "  return new_fc"
      ]
    },
    {
      "cell_type": "code",
      "execution_count": null,
      "metadata": {
        "id": "0FVmCR6WOdwv"
      },
      "outputs": [],
      "source": [
        "noncloud_points = my_ref_data.filter(ee.Filter.neq(\"water?:cloud\", 100))\n",
        "noncloud_points_v2 = property_setter(noncloud_points)\n",
        "\n",
        "all_water_points = noncloud_points.filter(ee.Filter.eq(\"water?:yes\", 100))\n",
        "all_nonwater_points = noncloud_points.filter(ee.Filter.eq(\"water?:no\", 100))\n",
        "\n",
        "all_water_points_v2 = noncloud_points_v2.filter(ee.Filter.eq(\"reference_water\", 1))\n",
        "all_nonwater_points_v2 = noncloud_points_v2.filter(ee.Filter.eq(\"reference_water\", 0))"
      ]
    },
    {
      "cell_type": "code",
      "execution_count": null,
      "metadata": {
        "id": "bMYLbsycqcD8"
      },
      "outputs": [],
      "source": [
        "my_ref_data.size().getInfo()\n",
        "noncloud_points.size().getInfo()"
      ]
    },
    {
      "cell_type": "code",
      "execution_count": null,
      "metadata": {
        "id": "lEvoQRxWtpp6"
      },
      "outputs": [],
      "source": [
        "noncloud_points_v2.size"
      ]
    },
    {
      "cell_type": "code",
      "execution_count": null,
      "metadata": {
        "id": "MNpka0eoOnpG"
      },
      "outputs": [],
      "source": [
        "highconf_points = noncloud_points_v2.filter(ee.Filter.gt(\"confidence\", 74))"
      ]
    },
    {
      "cell_type": "code",
      "execution_count": null,
      "metadata": {
        "id": "BjfKAe0swVv6"
      },
      "outputs": [],
      "source": [
        "#Water visualization Parameters\n",
        "water_vp = {'min': 0,\n",
        "          'max': 2,\n",
        "          'palette': ['000000', '0000FF', 'FFFFFF']\n",
        "}"
      ]
    },
    {
      "cell_type": "code",
      "execution_count": null,
      "metadata": {
        "id": "GKHU0JCe2OFw"
      },
      "outputs": [],
      "source": [
        "plv = {\n",
        "    'bands': ['b3', 'b2', 'b1'],\n",
        "    'min': 0,\n",
        "    'max': 2400,\n",
        "    'gamma': 0.75\n",
        "}"
      ]
    },
    {
      "cell_type": "code",
      "execution_count": null,
      "metadata": {
        "id": "Xw6eeiEF5uRh"
      },
      "outputs": [],
      "source": [
        "hydrafloods_renamed = hf.rename('hydrafloods_water')\n",
        "hydrosar_renamed = hydrosar.rename('hydrosar_water')\n",
        "gfm_renamed = gfm.rename('gfm_water')\n",
        "dswxhls_renamed = dswx_hls.rename('dswxhls_water')\n",
        "dswxs1_renamed = dswx_s1.rename('dswxs1_water')\n",
        "mcdwd_renamed = mcdwd.rename('mcdwd_water')\n",
        "vfm_renamed = vfm.rename('vfm_water')"
      ]
    },
    {
      "cell_type": "code",
      "execution_count": null,
      "metadata": {
        "id": "lHW_gtTe5q6v"
      },
      "outputs": [],
      "source": [
        "# HIGH CONFIDENCE POINTS\n",
        "hf_sampled_highconf = hydrafloods_renamed.sampleRegions(highconf_points, geometries=True)\n",
        "hs_sampled_highconf = hydrosar_renamed.sampleRegions(highconf_points, geometries=True)\n",
        "gfm_sampled_highconf = gfm_renamed.sampleRegions(highconf_points, geometries=True)\n",
        "dswxhls_sampled_highconf = dswxhls_renamed.sampleRegions(highconf_points, geometries=True)\n",
        "dswxs1_sampled_highconf = dswxs1_renamed.sampleRegions(highconf_points, geometries=True)\n",
        "mcdwd_sampled_highconf = mcdwd_renamed.sampleRegions(highconf_points, geometries=True)\n",
        "vfm_sampled_highconf = vfm_renamed.sampleRegions(highconf_points, geometries=True)"
      ]
    },
    {
      "cell_type": "markdown",
      "metadata": {
        "id": "ZlKNHvnrU95H"
      },
      "source": [
        "We want to write a function that takes a featurecollection as input, and calculates the confusion matrix, prints the overall accuracy and consumer accuracy for each class. The function will take as an optional parameter a property to filter for. This will allow us to examine statistics for different land cover and/or slope classes more easily."
      ]
    },
    {
      "cell_type": "code",
      "execution_count": null,
      "metadata": {
        "id": "gkJAHRu1JR7p"
      },
      "outputs": [],
      "source": [
        "def confusion_matrix_reporter(fc, map_label, description, product_description, slope_description, lc_description, elevation_description, region_description, stat_description, filter_prop = None, filter_value = None):\n",
        "\n",
        "  references_list = []\n",
        "  classifications_list = []\n",
        "\n",
        "  classes = np.array([1, 0])\n",
        "  my_display_labels = np.array(['water', 'nonwater'])\n",
        "  classes_v2 = ['water', 'nonwater']\n",
        "\n",
        "  if filter_prop != None:\n",
        "    fc_new = fc.filter(ee.Filter.eq(filter_prop, filter_value))\n",
        "    print('path1')\n",
        "  else:\n",
        "    fc_new = fc\n",
        "    print('path2')\n",
        "  fc_size = fc_new.size().getInfo()                           #fc.size().getInfo()\n",
        "  my_feat_listed = fc_new.toList(fc_size).getInfo()                                           #fc.toList(fc.size().getInfo()).getInfo()\n",
        "  for r in range(fc_size):                                       # fc.size().getInfo()\n",
        "    my_feat = my_feat_listed[r]['properties']\n",
        "    reference = my_feat['reference_water']\n",
        "    classification = my_feat[map_label]\n",
        "    test1 = classification == 0 or classification == 1\n",
        "    test2 = reference == 0 or reference == 1\n",
        "    if test1 and test2:\n",
        "      classifications_list.append(classification)\n",
        "      references_list.append(reference)\n",
        "\n",
        "  references_array = np.array(references_list)\n",
        "  classifications_array = np.array(classifications_list)\n",
        "\n",
        "  accuracy = sklearn.metrics.accuracy_score(references_array, classifications_array)\n",
        "  acc_string = \"{0} accuracy: {1:0.3f}\".format(description, accuracy)\n",
        "\n",
        "  f1 = sklearn.metrics.f1_score(references_array, classifications_array)\n",
        "  f1_string = \"{0} f1 score: {1:0.3f}\".format(description, f1)\n",
        "\n",
        "  prec = sklearn.metrics.precision_score(references_array, classifications_array)\n",
        "  prec_string = \"{0} Precision (aka user's accuracy for water): {1:0.3f}\".format(description, prec)\n",
        "\n",
        "  reca = sklearn.metrics.recall_score(references_array, classifications_array)\n",
        "  reca_string = \"{0} Recall (aka producer's accuracy for water): {1:0.3f}\".format(description, reca)\n",
        "\n",
        "  my_cm = sklearn.metrics.confusion_matrix(references_array, classifications_array, labels = classes)\n",
        "  tp = my_cm[0][0]\n",
        "  fn = my_cm[0][1]\n",
        "  fp = my_cm[1][0]\n",
        "  tn = my_cm[1][1]\n",
        "\n",
        "  sample_size = tp + fp + fn + tn\n",
        "\n",
        "  specificity = tn / (tn + fp)\n",
        "  spec_string = \"{0} Specificity (aka producer's accuracy for nonwater): {1:0.3f}\".format(description, specificity)\n",
        "\n",
        "  npv = tn / (tn + fn)\n",
        "  npv_string = \"{0} Negative Predictive Value (aka nonwater user's accuracy): {1: 0.3f}\".format(description, npv)\n",
        "\n",
        "  mcc = sklearn.metrics.matthews_corrcoef(references_array, classifications_array)\n",
        "  nmcc = (mcc + 1) / 2\n",
        "  nmcc_string = \"{0} Normalized Matthew's Correlation Coefficien: {1:0.3f}\".format(description, nmcc)\n",
        "\n",
        "  #disp2 = ConfusionMatrixDisplay.from_predictions(references_array,\n",
        "  #                            classifications_array,\n",
        "  #                            labels = classes,\n",
        "  #                            display_labels = my_display_labels,\n",
        "  #                            cmap = plt.cm.Blues)\n",
        "\n",
        "  if stat_description == 'Overall Accuracy' or stat_description == 'Recall' or stat_description == 'Precision' or stat_description == 'Specificity' or stat_description == 'NPV' or stat_description == 'F1 Score' or stat_description == 'NMCC':\n",
        "    x = 0\n",
        "  else:\n",
        "    print(\"Invalid Stat Description. Please input one of Overall Accuracy, Recall, Precision, Specificity, NPV, F1 Score, or NMCC\")\n",
        "  if stat_description == 'Overall Accuracy':\n",
        "    my_stat = accuracy\n",
        "  if stat_description == 'Recall':\n",
        "    my_stat = reca\n",
        "  if stat_description == 'Precision':\n",
        "    my_stat = prec\n",
        "  if stat_description == 'Specificity':\n",
        "    my_stat = specificity\n",
        "  if stat_description == 'NPV':\n",
        "    my_stat = npv\n",
        "  if stat_description == 'F1 Score':\n",
        "    my_stat = f1\n",
        "  if stat_description == 'NMCC':\n",
        "    my_stat = nmcc\n",
        "  #print(acc_string)\n",
        "  #print(f1_string)\n",
        "  #print(prec_string)\n",
        "  #print(reca_string)\n",
        "  #print(spec_string)\n",
        "  #print(nmcc_string)\n",
        "  output_list = [region_description, product_description, stat_description, lc_description, elevation_description, slope_description, my_stat]\n",
        "  print(output_list)\n",
        "  #stats_list = [description, sample_size, accuracy, prec, reca, specificity, npv, f1, nmcc]\n",
        "\n",
        "  return output_list"
      ]
    },
    {
      "cell_type": "markdown",
      "metadata": {
        "id": "WsAVyA0OqFiU"
      },
      "source": [
        "# Step 3: All Land Cover Types, All Slopes, All Elevations"
      ]
    },
    {
      "cell_type": "markdown",
      "metadata": {
        "id": "9zPcs4WHdF_M"
      },
      "source": [
        "## Step 3 Part 1: HYDRAfloods"
      ]
    },
    {
      "cell_type": "code",
      "execution_count": null,
      "metadata": {
        "id": "sR5pVQEjqBSK"
      },
      "outputs": [],
      "source": [
        "#accuracy_reporter(hf_sampled_highconf, 'reference_water', 'hydrafloods_water', 'HYDRAFloods High Confidence')\n",
        "hydrafloods_all_acc = confusion_matrix_reporter(hf_sampled_highconf, 'hydrafloods_water', 'HYDRAFloods High Confidence', product_description='HYDRAFloods', slope_description='All',\n",
        "                                                 lc_description = 'All', elevation_description='All', region_description=event_desc,stat_description='Overall Accuracy')"
      ]
    },
    {
      "cell_type": "code",
      "execution_count": null,
      "metadata": {
        "id": "1OV5P-I4b8ui"
      },
      "outputs": [],
      "source": [
        "hydrafloods_all_prec = confusion_matrix_reporter(hf_sampled_highconf, 'hydrafloods_water', 'HYDRAFloods High Confidence', product_description='HYDRAFloods', slope_description='All',\n",
        "                                                 lc_description = 'All', elevation_description='All', region_description=event_desc,stat_description='Precision')"
      ]
    },
    {
      "cell_type": "code",
      "execution_count": null,
      "metadata": {
        "id": "YsviMvX0dXQJ"
      },
      "outputs": [],
      "source": [
        "hydrafloods_all_rec = confusion_matrix_reporter(hf_sampled_highconf, 'hydrafloods_water', 'HYDRAFloods High Confidence', product_description='HYDRAFloods', slope_description='All',\n",
        "                                                 lc_description = 'All', elevation_description='All', region_description=event_desc,stat_description='Recall')"
      ]
    },
    {
      "cell_type": "code",
      "execution_count": null,
      "metadata": {
        "id": "tRqDBT8Ve7Os"
      },
      "outputs": [],
      "source": [
        "hydrafloods_all_f1 = confusion_matrix_reporter(hf_sampled_highconf, 'hydrafloods_water', 'HYDRAFloods High Confidence', product_description='HYDRAFloods', slope_description='All',\n",
        "                                                 lc_description = 'All', elevation_description='All', region_description=event_desc,stat_description='F1 Score')"
      ]
    },
    {
      "cell_type": "code",
      "execution_count": null,
      "metadata": {
        "id": "U8XQmY_QfCy8"
      },
      "outputs": [],
      "source": [
        "hydrafloods_all_nmcc = confusion_matrix_reporter(hf_sampled_highconf, 'hydrafloods_water', 'HYDRAFloods High Confidence', product_description='HYDRAFloods', slope_description='All',\n",
        "                                                 lc_description = 'All', elevation_description='All', region_description=event_desc,stat_description='NMCC')"
      ]
    },
    {
      "cell_type": "markdown",
      "metadata": {
        "id": "S1FvksZkexFW"
      },
      "source": [
        "## Step 3 Part 2: HYDROSAR"
      ]
    },
    {
      "cell_type": "code",
      "execution_count": null,
      "metadata": {
        "id": "FqGxx_W-qBRF"
      },
      "outputs": [],
      "source": [
        "hydrosar_all_acc = confusion_matrix_reporter(hs_sampled_highconf, 'hydrosar_water', 'HYDROSAR High Confidence', product_description='HYDROSAR', slope_description='All',\n",
        "                                                 lc_description = 'All', elevation_description='All', region_description=event_desc,stat_description='Overall Accuracy')\n",
        "\n",
        "hydrosar_all_prec = confusion_matrix_reporter(hs_sampled_highconf, 'hydrosar_water', 'HYDROSAR High Confidence', product_description='HYDROSAR', slope_description='All',\n",
        "                                                 lc_description = 'All', elevation_description='All', region_description=event_desc,stat_description='Precision')\n",
        "\n",
        "hydrosar_all_rec = confusion_matrix_reporter(hs_sampled_highconf, 'hydrosar_water', 'HYDROSAR High Confidence', product_description='HYDROSAR', slope_description='All',\n",
        "                                                 lc_description = 'All', elevation_description='All', region_description=event_desc,stat_description='Recall')\n",
        "\n",
        "hydrosar_all_f1 = confusion_matrix_reporter(hs_sampled_highconf, 'hydrosar_water', 'HYDROSAR High Confidence', product_description='HYDROSAR', slope_description='All',\n",
        "                                                 lc_description = 'All', elevation_description='All', region_description=event_desc,stat_description='F1 Score')\n",
        "\n",
        "hydrosar_all_nmcc = confusion_matrix_reporter(hs_sampled_highconf, 'hydrosar_water', 'HYDROSAR High Confidence', product_description='HYDROSAR', slope_description='All',\n",
        "                                                 lc_description = 'All', elevation_description='All', region_description=event_desc,stat_description='NMCC')"
      ]
    },
    {
      "cell_type": "markdown",
      "metadata": {
        "id": "ULpDgR6pg1f_"
      },
      "source": [
        "## Step 3 Part 3: GFM"
      ]
    },
    {
      "cell_type": "code",
      "execution_count": null,
      "metadata": {
        "id": "o3kUBf7-h64D"
      },
      "outputs": [],
      "source": [
        "gfm_all_acc = confusion_matrix_reporter(gfm_sampled_highconf, 'gfm_water', 'gfm High Confidence', product_description='GFM', slope_description='All',\n",
        "                                                 lc_description = 'All', elevation_description='All', region_description=event_desc,stat_description='Overall Accuracy')\n",
        "\n",
        "gfm_all_prec = confusion_matrix_reporter(gfm_sampled_highconf, 'gfm_water', 'GFM High Confidence', product_description='GFM', slope_description='All',\n",
        "                                         lc_description = 'All', elevation_description='All', region_description=event_desc, stat_description='Precision')\n",
        "\n",
        "gfm_all_rec = confusion_matrix_reporter(gfm_sampled_highconf, 'gfm_water', 'GFM High Confidence', product_description='GFM', slope_description='All',lc_description='All', elevation_description='All',\n",
        "                                                 region_description=event_desc,stat_description='Recall')\n",
        "\n",
        "gfm_all_f1 = confusion_matrix_reporter(gfm_sampled_highconf, 'gfm_water', 'GFM High Confidence', product_description='GFM', slope_description='All', lc_description = 'All', elevation_description='All',\n",
        "                                                 region_description=event_desc,stat_description='F1 Score')\n",
        "\n",
        "gfm_all_nmcc = confusion_matrix_reporter(gfm_sampled_highconf, 'gfm_water', 'GFM High Confidence', product_description='GFM', slope_description='All', lc_description = 'All', elevation_description='All',\n",
        "                                         region_description=event_desc,stat_description='NMCC')"
      ]
    },
    {
      "cell_type": "markdown",
      "metadata": {
        "id": "mWrDYi05g3dO"
      },
      "source": [
        "## Step 3 Part 4: DSWx-HLS"
      ]
    },
    {
      "cell_type": "code",
      "execution_count": null,
      "metadata": {
        "id": "sAsiYAE7jAIQ"
      },
      "outputs": [],
      "source": [
        "dswxhls_all_acc = confusion_matrix_reporter(dswxhls_sampled_highconf, 'dswxhls_water', 'DSWx-HLS High Confidence', product_description='DSWx-HLS',slope_description='All',lc_description='All',elevation_description='All',region_description=event_desc, stat_description = 'Overall Accuracy')\n",
        "\n",
        "dswxhls_all_rec = confusion_matrix_reporter(dswxhls_sampled_highconf,'dswxhls_water', 'DSWx-HLS High Confidence', product_description='DSWx-HLS',slope_description='All',lc_description='All',elevation_description='All',region_description=event_desc, stat_description = 'Recall')\n",
        "\n",
        "dswxhls_all_prec = confusion_matrix_reporter(dswxhls_sampled_highconf,  'dswxhls_water', 'DSWx-HLS High Confidence', product_description='DSWx-HLS',slope_description='All',lc_description='All',elevation_description='All',region_description=event_desc, stat_description = 'Precision')\n",
        "\n",
        "dswxhls_all_f1 = confusion_matrix_reporter(dswxhls_sampled_highconf,'dswxhls_water', 'DSWx-HLS High Confidence', product_description='DSWx-HLS', slope_description='All',lc_description='All',elevation_description='All',region_description=event_desc, stat_description = 'F1 Score')\n",
        "\n",
        "dswxhls_all_nmcc = confusion_matrix_reporter(dswxhls_sampled_highconf,'dswxhls_water', 'DSWx-HLS High Confidence',product_description='DSWx-HLS',slope_description='All',lc_description='All',elevation_description='All',region_description=event_desc, stat_description = 'NMCC')"
      ]
    },
    {
      "cell_type": "markdown",
      "metadata": {
        "id": "ZxOAjxxHg6FY"
      },
      "source": [
        "## Step 3 Part 5: DSWx-S1"
      ]
    },
    {
      "cell_type": "code",
      "execution_count": null,
      "metadata": {
        "id": "KFIjfVDPj9dH"
      },
      "outputs": [],
      "source": [
        "dswxs1_all_acc = confusion_matrix_reporter(dswxs1_sampled_highconf, 'dswxs1_water', 'DSWx-S1 High Confidence', product_description='DSWx-S1',slope_description='All',lc_description='All',elevation_description='All',region_description=event_desc, stat_description = 'Overall Accuracy')\n",
        "\n",
        "dswxs1_all_rec = confusion_matrix_reporter(dswxs1_sampled_highconf,'dswxs1_water', 'DSWx-S1 High Confidence', product_description='DSWx-S1',slope_description='All',lc_description='All',elevation_description='All',region_description=event_desc, stat_description = 'Recall')\n",
        "\n",
        "dswxs1_all_prec = confusion_matrix_reporter(dswxs1_sampled_highconf,  'dswxs1_water', 'DSWx-S1 High Confidence', product_description='DSWx-S1',slope_description='All',lc_description='All',elevation_description='All',region_description=event_desc, stat_description = 'Precision')\n",
        "\n",
        "dswxs1_all_f1 = confusion_matrix_reporter(dswxs1_sampled_highconf,'dswxs1_water', 'DSWx-S1 High Confidence', product_description='DSWx-S1', slope_description='All',lc_description='All',elevation_description='All',\n",
        "                                                 region_description=event_desc,stat_description='F1 Score')\n",
        "\n",
        "dswxs1_all_nmcc = confusion_matrix_reporter(dswxs1_sampled_highconf,'dswxs1_water', 'DSWx-S1 High Confidence', product_description='DSWx-S1',slope_description='All',\n",
        "                                         lc_description = 'All', elevation_description='All', region_description=event_desc,stat_description='NMCC')"
      ]
    },
    {
      "cell_type": "markdown",
      "metadata": {
        "id": "44yEIpm1g9Sh"
      },
      "source": [
        "## Step 3 Part 6: MCDWD"
      ]
    },
    {
      "cell_type": "code",
      "execution_count": null,
      "metadata": {
        "id": "dCKVMpOKkhKL"
      },
      "outputs": [],
      "source": [
        "mcdwd_all_acc = confusion_matrix_reporter(mcdwd_sampled_highconf, 'mcdwd_water', 'MCDWD High Confidence', product_description='MCDWD',slope_description='All',\\\n",
        "                                          lc_description='All',elevation_description='All',region_description=event_desc, stat_description = 'Overall Accuracy')\n",
        "\n",
        "mcdwd_all_rec = confusion_matrix_reporter(mcdwd_sampled_highconf,'mcdwd_water', 'MCDWD High Confidence', product_description='MCDWD',slope_description='All',\\\n",
        "                                          lc_description='All',elevation_description='All',region_description=event_desc, stat_description = 'Recall')\n",
        "\n",
        "mcdwd_all_prec = confusion_matrix_reporter(mcdwd_sampled_highconf,  'mcdwd_water', 'MCDWD High Confidence', product_description='MCDWD',slope_description='All',\\\n",
        "                                          lc_description='All',elevation_description='All',region_description=event_desc, stat_description = 'Precision')\n",
        "\n",
        "mcdwd_all_f1 = confusion_matrix_reporter(mcdwd_sampled_highconf,'mcdwd_water', 'MCDWD High Confidence', product_description='MCDWD', slope_description='All',\\\n",
        "                                          lc_description='All',elevation_description='All',region_description=event_desc, stat_description = 'F1 Score')\n",
        "\n",
        "mcdwd_all_nmcc = confusion_matrix_reporter(mcdwd_sampled_highconf,'mcdwd_water', 'MCDWD High Confidence', product_description='MCDWD',slope_description='All',\\\n",
        "                                          lc_description='All',elevation_description='All',region_description=event_desc, stat_description = 'NMCC')"
      ]
    },
    {
      "cell_type": "markdown",
      "metadata": {
        "id": "RWidquiIg_l4"
      },
      "source": [
        "## Step 3 Part 7: VFM"
      ]
    },
    {
      "cell_type": "code",
      "execution_count": null,
      "metadata": {
        "id": "dxZmuExAk-sp"
      },
      "outputs": [],
      "source": [
        "vfm_all_acc = confusion_matrix_reporter(vfm_sampled_highconf, 'vfm_water', 'VFM High Confidence', product_description='VFM',slope_description='All',\\\n",
        "                                          lc_description='All',elevation_description='All',region_description=event_desc, stat_description = 'Overall Accuracy')\n",
        "vfm_all_rec = confusion_matrix_reporter(vfm_sampled_highconf,'vfm_water', 'VFM High Confidence', product_description='VFM',slope_description='All',\\\n",
        "                                          lc_description='All',elevation_description='All',region_description=event_desc, stat_description = 'Recall')\n",
        "vfm_all_prec = confusion_matrix_reporter(vfm_sampled_highconf,  'vfm_water', 'VFM High Confidence', product_description='VFM',slope_description='All',\\\n",
        "                                         lc_description='All',elevation_description='All',region_description=event_desc, stat_description = 'Precision')\n",
        "vfm_all_f1 = confusion_matrix_reporter(vfm_sampled_highconf,'vfm_water', 'VFM High Confidence', product_description='VFM', slope_description='All',\\\n",
        "                                          lc_description='All',elevation_description='All',region_description=event_desc, stat_description = 'F1 Score')\n",
        "vfm_all_nmcc= confusion_matrix_reporter(vfm_sampled_highconf,'vfm_water', 'VFM High Confidence', product_description='VFM',slope_description='All',\\\n",
        "                                          lc_description='All',elevation_description='All',region_description=event_desc,stat_description='NMCC')"
      ]
    },
    {
      "cell_type": "markdown",
      "metadata": {
        "id": "GkuHOhXk4kdI"
      },
      "source": [
        "# Step 4: Elevation"
      ]
    },
    {
      "cell_type": "markdown",
      "metadata": {
        "id": "86Ssd68L5p8O"
      },
      "source": [
        "We want to go through the entire reference dataset, and add a column for its elevation class as well as its slope class. The elevation data used will be the Copernicus GLO30 DEM, and we will determine the slope based on the `ee.Algorithms.Terrain` method offered by Google Earth Engine.\n",
        "\n",
        "The slopes and elevations were split into four classes each based on a statistical analysis of slopes and elevations across SERVIR regions. The code for this analysis uses open data and can be found [here](https://colab.research.google.com/drive/1TW1u7O6ha2A2puuZ0JcI5MZaLZzD7Zm0?usp=sharing)"
      ]
    },
    {
      "cell_type": "code",
      "execution_count": null,
      "metadata": {
        "id": "dQPsEHCcANzT"
      },
      "outputs": [],
      "source": [
        "copernicus = ee.ImageCollection(\"COPERNICUS/DEM/GLO30\")\n",
        "srtm = ee.Image(\"USGS/SRTMGL1_003\")\n",
        "srtm_clip = srtm.clip(aoi)\n",
        "srtm_projection = srtm_clip.projection()"
      ]
    },
    {
      "cell_type": "code",
      "execution_count": null,
      "metadata": {
        "id": "ZeIpZS3CAU7F"
      },
      "outputs": [],
      "source": [
        "cop_mos = copernicus.filterBounds(aoi).mosaic().clip(aoi)\n",
        "cop_mos = cop_mos.select(['DEM']).rename(['elevation']).reproject(srtm_projection)"
      ]
    },
    {
      "cell_type": "code",
      "execution_count": null,
      "metadata": {
        "id": "NVlwiM4wBfPa"
      },
      "outputs": [],
      "source": [
        "elc1 = cop_mos.select('elevation').lt(140)                         #elc1 = cop_mos.select('DEM').lt(140)                            # Elevation Class 1\n",
        "elc2 = cop_mos.select('elevation').gte(140).And(cop_mos.lt(300)) #elc2 = cop_mos.select('DEM').gte(140).And(cop_mos.lt(300))      # Elevation Class 2\n",
        "elc3 = cop_mos.select('elevation').gte(300).And(cop_mos.lt(496)) #elc3 = cop_mos.select('DEM').gte(300).And(cop_mos.lt(496))      # Elevation Class 3\n",
        "elc4 = cop_mos.select('elevation').gte(496)                      #elc4 = cop_mos.select('DEM').gte(496)                           # Elevation Class 4"
      ]
    },
    {
      "cell_type": "code",
      "execution_count": null,
      "metadata": {
        "id": "pXT7EXVSFMVt"
      },
      "outputs": [],
      "source": [
        "elc1.bandNames()"
      ]
    },
    {
      "cell_type": "code",
      "execution_count": null,
      "metadata": {
        "id": "uw8WvOG7FflV"
      },
      "outputs": [],
      "source": [
        "vp = {\n",
        "    'band': ['elevation'], #'bands': ['DEM'],\n",
        "    'min': 0,\n",
        "    'max': 1\n",
        "}\n",
        "\n",
        "vp2 = {\n",
        "    'band': ['elevation'], #'band': ['DEM'],\n",
        "    'min': 0,\n",
        "    'max':4\n",
        "}"
      ]
    },
    {
      "cell_type": "code",
      "execution_count": null,
      "metadata": {
        "id": "epKugz7mTUTF"
      },
      "outputs": [],
      "source": [
        "el1test = elc1.select('elevation').eq(1) #el1test = elc1.select('DEM').eq(1)\n",
        "el2test = elc2.select('elevation').eq(1) #el2test = elc2.select('DEM').eq(1)\n",
        "el3test = elc3.select('elevation').eq(1) #el3test = elc3.select('DEM').eq(1)\n",
        "el4test = elc4.select('elevation').eq(1)       #el4test = elc4.select('DEM').eq(1)\n",
        "\n",
        "el_v1 = hf.where(el1test, ee.Image(1))\n",
        "el_v2 = el_v1.where(el2test, ee.Image(2))\n",
        "el_v3 = el_v2.where(el3test, ee.Image(3))\n",
        "el_v4 = el_v3.where(el4test, ee.Image(4))"
      ]
    },
    {
      "cell_type": "code",
      "execution_count": null,
      "metadata": {
        "id": "IoV_yAqXCiLw"
      },
      "outputs": [],
      "source": [
        "el_v4.bandNames()"
      ]
    },
    {
      "cell_type": "code",
      "execution_count": null,
      "metadata": {
        "id": "FEoP1HEdSEMb"
      },
      "outputs": [],
      "source": [
        "el_class_image = el_v4.rename(\"elevation_class\")"
      ]
    },
    {
      "cell_type": "markdown",
      "metadata": {
        "id": "tp8tLeGsTqgv"
      },
      "source": [
        "Now we have created a raster that has a value of 1 where there is low elevation (< 140 meters), a value of 2 where there is moderately low elevation (140 < x < 300 meters), a value of 3 where there is moderately high elevation (300 < x < 496 meters), and a value of 4 where there is very high elevation ( > 496 meters).\n",
        "\n",
        "Now, let's use the .sampleRegions() region to add the elevation information to the map."
      ]
    },
    {
      "cell_type": "code",
      "execution_count": null,
      "metadata": {
        "id": "cxv-DGfFT8s-"
      },
      "outputs": [],
      "source": [
        "#vfm_highconf_points = confusion_matrix_reporter(vfm_sampled_highconf, 'vfm_water', 'VFM High Confidence')"
      ]
    },
    {
      "cell_type": "code",
      "execution_count": null,
      "metadata": {
        "id": "rUYTdJipYI_z"
      },
      "outputs": [],
      "source": [
        "#HYDRAFloods sampled with elevation\n",
        "hf_swel = el_class_image.sampleRegions(hf_sampled_highconf, geometries=True, projection = my_proj_string, scale = my_scale)\n",
        "\n",
        "dswxhls_swel = el_class_image.sampleRegions(dswxhls_sampled_highconf, geometries=True, projection = my_proj_string, scale = my_scale)\n",
        "\n",
        "dswxs1_swel = el_class_image.sampleRegions(dswxs1_sampled_highconf, geometries=True, projection = my_proj_string, scale = my_scale)\n",
        "\n",
        "gfm_swel = el_class_image.sampleRegions(gfm_sampled_highconf, geometries=True, projection = my_proj_string, scale = my_scale)\n",
        "\n",
        "hydrosar_swel = el_class_image.sampleRegions(hs_sampled_highconf, geometries=True, projection = my_proj_string, scale = my_scale)\n",
        "\n",
        "mcdwd_swel = el_class_image.sampleRegions(mcdwd_sampled_highconf, geometries=True, projection = my_proj_string, scale = my_scale)\n",
        "\n",
        "vfm_swel = el_class_image.sampleRegions(vfm_sampled_highconf, geometries=True, projection = my_proj_string, scale = my_scale)"
      ]
    },
    {
      "cell_type": "markdown",
      "metadata": {
        "id": "yBMjsvFt8ORL"
      },
      "source": [
        "Now we want to find out how many elevation classes are present in our reference data"
      ]
    },
    {
      "cell_type": "code",
      "execution_count": null,
      "metadata": {
        "id": "QB9VhqD0ZtXx"
      },
      "outputs": [],
      "source": [
        "feat_listed = hf_swel.toList(hf_swel.size().getInfo()).getInfo()"
      ]
    },
    {
      "cell_type": "code",
      "execution_count": null,
      "metadata": {
        "id": "zhNGv8l-9exI"
      },
      "outputs": [],
      "source": [
        "el_classes_present = []\n",
        "very_low_n = 0\n",
        "moderately_low_n = 0\n",
        "moderately_high_n = 0\n",
        "very_high_n = 0\n",
        "\n",
        "for j in range(len(feat_listed)):\n",
        "  feat_mine = feat_listed[j]['properties']\n",
        "  el_class = feat_mine['elevation_class']\n",
        "  #print(feat_mine.keys())\n",
        "  #break\n",
        "  el_class = feat_mine['elevation_class']\n",
        "  if el_class not in el_classes_present and el_class != None and el_class != 0:\n",
        "    el_classes_present.append(el_class)\n",
        "  if el_class == 1:\n",
        "    very_low_n += 1\n",
        "  if el_class == 2:\n",
        "    moderately_low_n += 1\n",
        "  if el_class == 3:\n",
        "    moderately_high_n += 1\n",
        "  if el_class == 4:\n",
        "    very_high_n += 1"
      ]
    },
    {
      "cell_type": "code",
      "execution_count": null,
      "metadata": {
        "id": "DCs9k5We9_5f"
      },
      "outputs": [],
      "source": [
        "print(\"There is/are {0} elevation class(es) present in the sample points\".format(len(el_classes_present)))\n",
        "print(\"The elevation class(es) present are: \",el_classes_present)\n",
        "print(\"There are {0} very low elevation points\".format(very_low_n))\n",
        "print(\"There are {0} moderately low elevation points\".format(moderately_low_n))\n",
        "print(\"There are {0} moderately high elevation points\".format(moderately_high_n))\n",
        "print(\"There are {0} very high elevation points\".format(very_high_n))"
      ]
    },
    {
      "cell_type": "markdown",
      "metadata": {
        "id": "_2bQ_1JICaHC"
      },
      "source": [
        "Based on the above statistics, delete Parts 2 through 5 depending on which elevation classes are represented in the reference data."
      ]
    },
    {
      "cell_type": "code",
      "execution_count": null,
      "metadata": {
        "id": "dKAgecynn3AG"
      },
      "outputs": [],
      "source": [
        "Map = geemap.Map(center = (lat, lon), zoom = 6)\n",
        "Map.addLayer(el_class_image.clip(aoi), vp2, 'el_class')\n",
        "Map.addLayer(aoi, {}, 'Area of interest')\n",
        "\n",
        "Map"
      ]
    },
    {
      "cell_type": "code",
      "execution_count": null,
      "metadata": {
        "id": "3NbyXD5qx3Jv"
      },
      "outputs": [],
      "source": [
        "# HYDRAFloods Sampled With Elevation\n",
        "#hf_swel = el_class_image.sampleRegions(hf_sampled_highconf, geometries=True, projection = my_proj_string, scale = my_scale)"
      ]
    },
    {
      "cell_type": "code",
      "execution_count": null,
      "metadata": {
        "id": "MPCnQNnOyKkE"
      },
      "outputs": [],
      "source": []
    },
    {
      "cell_type": "markdown",
      "metadata": {
        "id": "X2asl69dxWZ4"
      },
      "source": [
        "## Step 4 Part 2: Very Low Elevation"
      ]
    },
    {
      "cell_type": "markdown",
      "metadata": {
        "id": "HBvmXzT4yPmp"
      },
      "source": [
        "### Step 4 Part 2 Section A: HYDRAFLoods Very Low Elevation"
      ]
    },
    {
      "cell_type": "code",
      "execution_count": null,
      "metadata": {
        "id": "B_lpQ12nxVea"
      },
      "outputs": [],
      "source": [
        "# HYDRAFloods Very Low Elevation Accuracy\n",
        "hydrafloods_vlowel_acc = confusion_matrix_reporter(hf_swel, 'hydrafloods_water', 'HYDRAFloods Very Low Elevation', product_description = 'HYDRAFloods',\\\n",
        "                                                   slope_description='All',lc_description='All',elevation_description='Very Low', region_description=event_desc,\\\n",
        "                                                   stat_description='Overall Accuracy', filter_prop = 'elevation_class', filter_value = 1)\n",
        "\n",
        "hydrafloods_vlowel_rec = confusion_matrix_reporter(hf_swel, 'hydrafloods_water', 'HYDRAFloods Very Low Elevation', product_description = 'HYDRAFloods',\\\n",
        "                                                   slope_description='All',lc_description='All',elevation_description='Very Low', region_description=event_desc,\\\n",
        "                                                   stat_description='Recall', filter_prop = 'elevation_class', filter_value = 1)\n",
        "\n",
        "hydrafloods_vlowel_prec = confusion_matrix_reporter(hf_swel, 'hydrafloods_water', 'HYDRAFloods Very Low Elevation', product_description = 'HYDRAFloods',\\\n",
        "                                                   slope_description='All',lc_description='All',elevation_description='Very Low', region_description=event_desc,\\\n",
        "                                                   stat_description = 'Precision', filter_prop = 'elevation_class', filter_value = 1)\n",
        "\n",
        "hydrafloods_vlowel_f1 = confusion_matrix_reporter(hf_swel, 'hydrafloods_water', 'HYDRAFloods Very Low Elevation', product_description = 'HYDRAFloods',\\\n",
        "                                                   slope_description='All',lc_description='All',elevation_description='Very Low', region_description=event_desc,\\\n",
        "                                                   stat_description = 'F1 Score', filter_prop = 'elevation_class', filter_value = 1)\n",
        "\n",
        "hydrafloods_vlowel_nmcc = confusion_matrix_reporter(hf_swel, 'hydrafloods_water', 'HYDRAFloods Very Low Elevation', product_description = 'HYDRAFloods',\\\n",
        "                                                   slope_description='All',lc_description='All',elevation_description='Very Low', region_description=event_desc,\\\n",
        "                                                   stat_description = 'NMCC', filter_prop = 'elevation_class', filter_value = 1)"
      ]
    },
    {
      "cell_type": "markdown",
      "metadata": {
        "id": "5t4XE3PHzQQV"
      },
      "source": [
        "### Step 4 Part 2 Section B: HYDROSAR Very Low Elevation"
      ]
    },
    {
      "cell_type": "code",
      "execution_count": null,
      "metadata": {
        "id": "XK2Uk5w5Co1v"
      },
      "outputs": [],
      "source": [
        "# HYDROSAR Very Low Elevation Accuracy\n",
        "hydrosar_vlowel_acc = confusion_matrix_reporter(hydrosar_swel, 'hydrosar_water', 'HYDROSAR Very Low Elevation', product_description = 'HYDROSAR',\\\n",
        "                                                   slope_description='All',lc_description='All',elevation_description='Very Low', region_description=event_desc,\\\n",
        "                                                   stat_description='Overall Accuracy', filter_prop = 'elevation_class', filter_value = 1)\n",
        "\n",
        "hydrosar_vlowel_prec = confusion_matrix_reporter(hydrosar_swel, 'hydrosar_water', 'HYDROSAR Very Low Elevation', product_description = 'HYDROSAR',\\\n",
        "                                                   slope_description='All',lc_description='All',elevation_description='Very Low', region_description=event_desc,\\\n",
        "                                                   stat_description='Precision', filter_prop = 'elevation_class', filter_value = 1)\n",
        "\n",
        "hydrosar_vlowel_rec = confusion_matrix_reporter(hydrosar_swel, 'hydrosar_water', 'HYDROSAR Very Low Elevation', product_description = 'HYDROSAR',\\\n",
        "                                                   slope_description='All',lc_description='All',elevation_description='Very Low', region_description=event_desc,\\\n",
        "                                                   stat_description='Recall', filter_prop = 'elevation_class', filter_value = 1)\n",
        "\n",
        "hydrosar_vlowel_f1 = confusion_matrix_reporter(hydrosar_swel, 'hydrosar_water', 'HYDROSAR Very Low Elevation', product_description = 'HYDROSAR',\\\n",
        "                                                   slope_description='All',lc_description='All',elevation_description='Very Low', region_description=event_desc,\\\n",
        "                                                   stat_description='F1 Score', filter_prop = 'elevation_class', filter_value = 1)\n",
        "\n",
        "hydrosar_vlowel_nmcc = confusion_matrix_reporter(hydrosar_swel, 'hydrosar_water', 'HYDROSAR Very Low Elevation', product_description = 'HYDROSAR',\\\n",
        "                                                   slope_description='All',lc_description='All',elevation_description='Very Low', region_description=event_desc,\\\n",
        "                                                   stat_description='NMCC', filter_prop = 'elevation_class', filter_value = 1)"
      ]
    },
    {
      "cell_type": "markdown",
      "metadata": {
        "id": "7L1UoCmLzT3O"
      },
      "source": [
        "### Step 4 Part 2 Section C: DSWx-HLS Very Low Elevation"
      ]
    },
    {
      "cell_type": "code",
      "execution_count": null,
      "metadata": {
        "id": "acAGBxHZDHvX"
      },
      "outputs": [],
      "source": [
        "dswxhls_vlowel_acc = confusion_matrix_reporter(dswxhls_swel, 'dswxhls_water', 'DSWx-HLS Very Low Elevation', product_description = 'DSWx-HLS',\\\n",
        "                                                   slope_description='All',lc_description='All',elevation_description='Very Low', region_description=event_desc,\\\n",
        "                                                   stat_description='Overall Accuracy', filter_prop = 'elevation_class', filter_value = 1)\n",
        "\n",
        "dswxhls_vlowel_prec = confusion_matrix_reporter(dswxhls_swel, 'dswxhls_water', 'DSWx-HLS Very Low Elevation', product_description = 'DSWx-HLS',\\\n",
        "                                                   slope_description='All',lc_description='All',elevation_description='Very Low', region_description=event_desc,\\\n",
        "                                                   stat_description='Precision', filter_prop = 'elevation_class', filter_value = 1)\n",
        "\n",
        "dswxhls_vlowel_rec = confusion_matrix_reporter(dswxhls_swel, 'dswxhls_water', 'DSWx-HLS Very Low Elevation', product_description = 'DSWx-HLS',\\\n",
        "                                               slope_description='All',lc_description='All',elevation_description='Very Low', region_description=event_desc,\\\n",
        "                                               stat_description='Recall', filter_prop = 'elevation_class', filter_value = 1)\n",
        "\n",
        "dswxhls_vlowel_f1 = confusion_matrix_reporter(dswxhls_swel, 'dswxhls_water', 'DSWx-HLS Very Low Elevation', product_description = 'DSWx-HLS',\\\n",
        "                                              slope_description = 'All',lc_description='All',elevation_description='Very Low', region_description=event_desc,\\\n",
        "                                              stat_description='F1 Score', filter_prop = 'elevation_class', filter_value = 1)\n",
        "\n",
        "dswxhls_vlowel_nmcc = confusion_matrix_reporter(dswxhls_swel, 'dswxhls_water', 'DSWx-HLS Very Low Elevation', product_description = 'DSWx-HLS',\\\n",
        "                                                slope_description='All',lc_description='All',elevation_description='Very Low', region_description=event_desc,\\\n",
        "                                                 stat_description='NMCC', filter_prop = 'elevation_class', filter_value = 1)"
      ]
    },
    {
      "cell_type": "markdown",
      "metadata": {
        "id": "dGM-TeSTzWgY"
      },
      "source": [
        "### Step 4 Part 2 Section D: DSWx-S1 Very Low Elevation"
      ]
    },
    {
      "cell_type": "code",
      "execution_count": null,
      "metadata": {
        "id": "rjV27WdgDkSP"
      },
      "outputs": [],
      "source": [
        "dswxs1_vlowel_acc = confusion_matrix_reporter(dswxs1_swel, 'dswxs1_water', 'DSWx-S1 Very Low Elevation', product_description = 'DSWx-S1',\\\n",
        "                                                   slope_description='All',lc_description='All',elevation_description='Very Low', region_description=event_desc,\\\n",
        "                                                   stat_description='Overall Accuracy', filter_prop = 'elevation_class', filter_value = 1)\n",
        "\n",
        "dswxs1_vlowel_prec = confusion_matrix_reporter(dswxs1_swel, 'dswxs1_water', 'DSWx-S1 Very Low Elevation', product_description = 'DSWx-S1',\\\n",
        "                                               slope_description='All',lc_description='All',elevation_description='Very Low', region_description=event_desc,\\\n",
        "                                               stat_description='Precision', filter_prop = 'elevation_class', filter_value = 1)\n",
        "\n",
        "dswxs1_vlowel_rec = confusion_matrix_reporter(dswxs1_swel, 'dswxs1_water', 'DSWx-S1 Very Low Elevation', product_description = 'DSWx-S1',\\\n",
        "                                              slope_description='All',lc_description='All',elevation_description='Very Low', region_description=event_desc,\\\n",
        "                                              stat_description='Recall', filter_prop = 'elevation_class', filter_value = 1)\n",
        "\n",
        "dswxs1_vlowel_f1 = confusion_matrix_reporter(dswxs1_swel, 'dswxs1_water', 'DSWx-S1 Very Low Elevation', product_description = 'DSWx-S1',\\\n",
        "                                              slope_description='All',lc_description='All',elevation_description='Very Low', region_description=event_desc,\\\n",
        "                                              stat_description='F1 Score', filter_prop = 'elevation_class', filter_value = 1)\n",
        "\n",
        "dswxs1_vlowel_nmcc = confusion_matrix_reporter(dswxs1_swel, 'dswxs1_water', 'DSWx-S1 Very Low Elevation', product_description = 'DSWx-S1',\\\n",
        "                                               slope_description='All',lc_description='All',elevation_description='Very Low', region_description=event_desc,\\\n",
        "                                               stat_description='NMCC', filter_prop = 'elevation_class', filter_value = 1)"
      ]
    },
    {
      "cell_type": "markdown",
      "metadata": {
        "id": "Oppiq4kczZ6E"
      },
      "source": [
        "### Step 4 Part 2 Section E: GFM Very Low Elevation"
      ]
    },
    {
      "cell_type": "code",
      "execution_count": null,
      "metadata": {
        "id": "8bzhZVGgD983"
      },
      "outputs": [],
      "source": [
        "gfm_vlowel_acc = confusion_matrix_reporter(gfm_swel, 'gfm_water', 'GFM Very Low Elevation', product_description = 'GFM',\\\n",
        "                                                   slope_description='All',lc_description='All',elevation_description='Very Low', region_description=event_desc,\\\n",
        "                                                   stat_description='Overall Accuracy', filter_prop = 'elevation_class', filter_value = 1)\n",
        "\n",
        "gfm_vlowel_prec = confusion_matrix_reporter(gfm_swel, 'gfm_water', 'GFM Very Low Elevation', product_description = 'GFM',\\\n",
        "                                                   slope_description='All',lc_description='All',elevation_description='Very Low', region_description=event_desc,\\\n",
        "                                                   stat_description='Precision', filter_prop = 'elevation_class', filter_value = 1)\n",
        "\n",
        "gfm_vlowel_rec = confusion_matrix_reporter(gfm_swel, 'gfm_water', 'GFM Very Low Elevation', product_description = 'GFM',\\\n",
        "                                                   slope_description='All',lc_description='All',elevation_description='Very Low', region_description=event_desc,\\\n",
        "                                                   stat_description='Recall', filter_prop = 'elevation_class', filter_value = 1)\n",
        "\n",
        "gfm_vlowel_f1 = confusion_matrix_reporter(gfm_swel, 'gfm_water', 'GFM Very Low Elevation', product_description = 'GFM',\\\n",
        "                                                   slope_description='All',lc_description='All',elevation_description='Very Low', region_description=event_desc,\\\n",
        "                                                   stat_description='F1 Score', filter_prop = 'elevation_class', filter_value = 1)\n",
        "\n",
        "gfm_vlowel_nmcc = confusion_matrix_reporter(gfm_swel, 'gfm_water', 'GFM Very Low Elevation', product_description = 'GFM',\\\n",
        "                                            slope_description='All',lc_description='All',elevation_description='Very Low', region_description=event_desc,\\\n",
        "                                            stat_description='NMCC', filter_prop = 'elevation_class', filter_value = 1)"
      ]
    },
    {
      "cell_type": "markdown",
      "metadata": {
        "id": "HTA9yhxpzeH_"
      },
      "source": [
        "### Step 4 Part 2 Section F: MCDWD Very Low Elevation"
      ]
    },
    {
      "cell_type": "code",
      "execution_count": null,
      "metadata": {
        "id": "MenNILFREnGi"
      },
      "outputs": [],
      "source": [
        "mcdwd_vlowel_acc = confusion_matrix_reporter(mcdwd_swel, 'mcdwd_water', 'MCDWD Very Low Elevation', product_description = 'MCDWD',\\\n",
        "                                                   slope_description='All',lc_description='All',elevation_description='Very Low', region_description=event_desc,\\\n",
        "                                                   stat_description='Overall Accuracy', filter_prop = 'elevation_class', filter_value = 1)\n",
        "\n",
        "mcdwd_vlowel_rec = confusion_matrix_reporter(mcdwd_swel, 'mcdwd_water', 'MCDWD Very Low Elevation', product_description = 'MCDWD',\\\n",
        "                                                   slope_description='All',lc_description='All',elevation_description='Very Low', region_description=event_desc,\\\n",
        "                                                   stat_description='Recall', filter_prop = 'elevation_class', filter_value = 1)\n",
        "\n",
        "mcdwd_vlowel_prec = confusion_matrix_reporter(mcdwd_swel, 'mcdwd_water', 'MCDWD Very Low Elevation', product_description = 'MCDWD',\\\n",
        "                                                   slope_description = 'All', lc_description = 'All', elevation_description = 'Very Low', region_description=event_desc,\\\n",
        "                                                   stat_description='Precision', filter_prop = 'elevation_class', filter_value = 1)\n",
        "\n",
        "mcdwd_vlowel_f1 = confusion_matrix_reporter(mcdwd_swel, 'mcdwd_water', 'MCDWD Very Low Elevation', product_description = 'MCDWD',\\\n",
        "                                                   slope_description='All',lc_description='All',elevation_description='Very Low', region_description=event_desc,\\\n",
        "                                                   stat_description='F1 Score', filter_prop = 'elevation_class', filter_value = 1)\n",
        "\n",
        "mcdwd_vlowel_nmcc = confusion_matrix_reporter(mcdwd_swel, 'mcdwd_water', 'MCDWD Very Low Elevation', product_description = 'MCDWD',\\\n",
        "                                                   slope_description='All',lc_description='All',elevation_description='Very Low', region_description=event_desc,\\\n",
        "                                                   stat_description='NMCC', filter_prop = 'elevation_class', filter_value = 1)"
      ]
    },
    {
      "cell_type": "code",
      "execution_count": null,
      "metadata": {
        "id": "d2FtiuefE9An"
      },
      "outputs": [],
      "source": []
    },
    {
      "cell_type": "markdown",
      "metadata": {
        "id": "w6AlV0LNziMP"
      },
      "source": [
        "### Step 4 Part 2 Section G: VFM Very Low Elevation"
      ]
    },
    {
      "cell_type": "code",
      "execution_count": null,
      "metadata": {
        "id": "FUWV5K-5FGMb"
      },
      "outputs": [],
      "source": [
        "vfm_vlowel_acc = confusion_matrix_reporter(vfm_swel, 'vfm_water', 'VFM Very Low Elevation', product_description = 'VFM',\\\n",
        "                                                   slope_description='All',lc_description='All',elevation_description='Very Low', region_description=event_desc,\\\n",
        "                                                   stat_description='Overall Accuracy', filter_prop = 'elevation_class', filter_value = 1)\n",
        "\n",
        "vfm_vlowel_rec = confusion_matrix_reporter(vfm_swel, 'vfm_water', 'VFM Very Low Elevation', product_description = 'VFM',\\\n",
        "                                                   slope_description='All',lc_description='All',elevation_description='Very Low', region_description=event_desc,\\\n",
        "                                                   stat_description='Recall', filter_prop = 'elevation_class', filter_value = 1)\n",
        "\n",
        "vfm_vlowel_prec = confusion_matrix_reporter(vfm_swel, 'vfm_water', 'VFM Very Low Elevation', product_description = 'VFM',\\\n",
        "                                                   slope_description='All',lc_description='All',elevation_description='Very Low', region_description=event_desc,\\\n",
        "                                                   stat_description='Precision', filter_prop = 'elevation_class', filter_value = 1)\n",
        "\n",
        "vfm_vlowel_f1 = confusion_matrix_reporter(vfm_swel, 'vfm_water', 'VFM Very Low Elevation', product_description = 'VFM',\\\n",
        "                                                   slope_description='All',lc_description='All',elevation_description='Very Low', region_description=event_desc,\\\n",
        "                                                   stat_description='F1 Score', filter_prop = 'elevation_class', filter_value = 1)\n",
        "\n",
        "vfm_vlowel_nmcc = confusion_matrix_reporter(vfm_swel, 'vfm_water', 'VFM Very Low Elevation', product_description = 'VFM',\\\n",
        "                                                   slope_description='All',lc_description='All',elevation_description='Very Low', region_description=event_desc,\\\n",
        "                                                   stat_description='NMCC', filter_prop = 'elevation_class', filter_value = 1)"
      ]
    },
    {
      "cell_type": "markdown",
      "metadata": {
        "id": "SZl2nXhL0RmV"
      },
      "source": [
        "## Step 4 Part 3: Moderately Low Elevation"
      ]
    },
    {
      "cell_type": "markdown",
      "metadata": {
        "id": "fcueDJdT00W9"
      },
      "source": [
        "### Step 4 Part 3 Section A: DSWx-HLS Moderately Low Elevation"
      ]
    },
    {
      "cell_type": "code",
      "execution_count": null,
      "metadata": {
        "id": "mPktAj8CFdhR"
      },
      "outputs": [],
      "source": [
        "dswxhls_modlowel_acc = confusion_matrix_reporter(dswxhls_swel, 'dswxhls_water', 'DSWx-HLS Very Low Elevation', product_description = 'DSWx-HLS',\\\n",
        "                                                   slope_description='All',lc_description='All',elevation_description='Moderately Low', region_description=event_desc,\\\n",
        "                                                   stat_description='Overall Accuracy', filter_prop = 'elevation_class', filter_value = 2)\n",
        "\n",
        "dswxhls_modlowel_prec = confusion_matrix_reporter(dswxhls_swel, 'dswxhls_water', 'DSWx-HLS Very Low Elevation', product_description = 'DSWx-HLS',\\\n",
        "                                                   slope_description='All',lc_description='All',elevation_description='Moderately Low', region_description=event_desc,\\\n",
        "                                                   stat_description='Precision', filter_prop = 'elevation_class', filter_value = 2)\n",
        "\n",
        "dswxhls_modlowel_rec = confusion_matrix_reporter(dswxhls_swel, 'dswxhls_water', 'DSWx-HLS Very Low Elevation', product_description = 'DSWx-HLS',\\\n",
        "                                               slope_description='All',lc_description='All',elevation_description='Moderately Low', region_description=event_desc,\\\n",
        "                                               stat_description='Recall', filter_prop = 'elevation_class', filter_value = 2)\n",
        "\n",
        "dswxhls_modlowel_f1 = confusion_matrix_reporter(dswxhls_swel, 'dswxhls_water', 'DSWx-HLS Very Low Elevation', product_description = 'DSWx-HLS',\\\n",
        "                                              slope_description = 'All',lc_description='All',elevation_description='Moderately Low', region_description=event_desc,\\\n",
        "                                              stat_description='F1 Score', filter_prop = 'elevation_class', filter_value = 2)\n",
        "\n",
        "dswxhls_modlowel_nmcc = confusion_matrix_reporter(dswxhls_swel, 'dswxhls_water', 'DSWx-HLS Very Low Elevation', product_description = 'DSWx-HLS',\\\n",
        "                                                slope_description='All',lc_description='All',elevation_description='Moderately Low', region_description=event_desc,\\\n",
        "                                                 stat_description='NMCC', filter_prop = 'elevation_class', filter_value = 2)"
      ]
    },
    {
      "cell_type": "markdown",
      "metadata": {
        "id": "tkdbIAx209ca"
      },
      "source": [
        "### Step 4 Part 3 Section B: DSWx-S1 Moderately Low Elevation"
      ]
    },
    {
      "cell_type": "code",
      "execution_count": null,
      "metadata": {
        "id": "NbPDg6BqM6-i"
      },
      "outputs": [],
      "source": [
        "dswxs1_modlowel_acc = confusion_matrix_reporter(dswxs1_swel, 'dswxs1_water', 'DSWx-S1 Very Low Elevation', product_description = 'DSWx-S1',\\\n",
        "                                                   slope_description='All',lc_description='All',elevation_description='Moderately Low', region_description=event_desc,\\\n",
        "                                                   stat_description='Overall Accuracy', filter_prop = 'elevation_class', filter_value = 2)\n",
        "\n",
        "dswxs1_modlowel_prec = confusion_matrix_reporter(dswxs1_swel, 'dswxs1_water', 'DSWx-S1 Very Low Elevation', product_description = 'DSWx-S1',\\\n",
        "                                               slope_description='All',lc_description='All',elevation_description='Moderately Low', region_description=event_desc,\\\n",
        "                                               stat_description='Precision', filter_prop = 'elevation_class', filter_value = 2)\n",
        "\n",
        "dswxs1_modlowel_rec = confusion_matrix_reporter(dswxs1_swel, 'dswxs1_water', 'DSWx-S1 Very Low Elevation', product_description = 'DSWx-S1',\\\n",
        "                                              slope_description='All',lc_description='All',elevation_description='Moderately Low', region_description=event_desc,\\\n",
        "                                              stat_description='Recall', filter_prop = 'elevation_class', filter_value = 2)\n",
        "\n",
        "dswxs1_modlowel_f1 = confusion_matrix_reporter(dswxs1_swel, 'dswxs1_water', 'DSWx-S1 Very Low Elevation', product_description = 'DSWx-S1',\\\n",
        "                                              slope_description='All',lc_description='All',elevation_description='Moderately Low', region_description=event_desc,\\\n",
        "                                              stat_description='F1 Score', filter_prop = 'elevation_class', filter_value = 2)\n",
        "\n",
        "dswxs1_modlowel_nmcc = confusion_matrix_reporter(dswxs1_swel, 'dswxs1_water', 'DSWx-S1 Very Low Elevation', product_description = 'DSWx-S1',\\\n",
        "                                               slope_description='All',lc_description='All',elevation_description='Moderately Low', region_description=event_desc,\\\n",
        "                                               stat_description='NMCC', filter_prop = 'elevation_class', filter_value = 2)"
      ]
    },
    {
      "cell_type": "markdown",
      "metadata": {
        "id": "eMCl_ony0_75"
      },
      "source": [
        "### Step 4 Part 3 Section C: GFM Moderately Low Elevation"
      ]
    },
    {
      "cell_type": "code",
      "execution_count": null,
      "metadata": {
        "id": "ha4TgvvSN8Ck"
      },
      "outputs": [],
      "source": [
        "gfm_modlowel_acc = confusion_matrix_reporter(gfm_swel, 'gfm_water', 'GFM Very Low Elevation', product_description = 'GFM',\\\n",
        "                                                   slope_description='All',lc_description='All',elevation_description='Moderately Low', region_description=event_desc,\\\n",
        "                                                   stat_description='Overall Accuracy', filter_prop = 'elevation_class', filter_value = 2)\n",
        "\n",
        "gfm_modlowel_prec = confusion_matrix_reporter(gfm_swel, 'gfm_water', 'GFM Very Low Elevation', product_description = 'GFM',\\\n",
        "                                                   slope_description='All',lc_description='All',elevation_description='Moderately  Low', region_description=event_desc,\\\n",
        "                                                   stat_description='Precision', filter_prop = 'elevation_class', filter_value = 2)\n",
        "\n",
        "gfm_modlowel_rec = confusion_matrix_reporter(gfm_swel, 'gfm_water', 'GFM Very Low Elevation', product_description = 'GFM',\\\n",
        "                                                   slope_description='All',lc_description='All',elevation_description='Moderately  Low', region_description=event_desc,\\\n",
        "                                                   stat_description='Recall', filter_prop = 'elevation_class', filter_value = 2)\n",
        "\n",
        "gfm_modlowel_f1 = confusion_matrix_reporter(gfm_swel, 'gfm_water', 'GFM Very Low Elevation', product_description = 'GFM',\\\n",
        "                                                   slope_description='All',lc_description='All',elevation_description='Moderately  Low', region_description=event_desc,\\\n",
        "                                                   stat_description='F1 Score', filter_prop = 'elevation_class', filter_value = 2)\n",
        "\n",
        "gfm_modlowel_nmcc = confusion_matrix_reporter(gfm_swel, 'gfm_water', 'GFM Very Low Elevation', product_description = 'GFM',\\\n",
        "                                            slope_description='All',lc_description='All',elevation_description='Moderately  Low', region_description=event_desc,\\\n",
        "                                            stat_description='NMCC', filter_prop = 'elevation_class', filter_value = 2)"
      ]
    },
    {
      "cell_type": "markdown",
      "metadata": {
        "id": "iWnb6o-n1Fs4"
      },
      "source": [
        "### Step 4 Part 3 Section D: HYDRAFloods Moderately Low Elevation"
      ]
    },
    {
      "cell_type": "code",
      "execution_count": null,
      "metadata": {
        "id": "s73nVqRCNLzi"
      },
      "outputs": [],
      "source": [
        "# HYDRAFloods Very Low Elevation Accuracy\n",
        "hydrafloods_modlowel_acc = confusion_matrix_reporter(hf_swel, 'hydrafloods_water', 'HYDRAFloods Very Low Elevation', product_description = 'HYDRAFloods',\\\n",
        "                                                   slope_description='All',lc_description='All',elevation_description='Moderately Low', region_description=event_desc,\\\n",
        "                                                   stat_description='Overall Accuracy', filter_prop = 'elevation_class', filter_value = 2)\n",
        "\n",
        "hydrafloods_modlowel_rec = confusion_matrix_reporter(hf_swel, 'hydrafloods_water', 'HYDRAFloods Very Low Elevation', product_description = 'HYDRAFloods',\\\n",
        "                                                   slope_description='All',lc_description='All',elevation_description='Moderately Low', region_description=event_desc,\\\n",
        "                                                   stat_description='Recall', filter_prop = 'elevation_class', filter_value = 2)\n",
        "\n",
        "hydrafloods_modlowel_prec = confusion_matrix_reporter(hf_swel, 'hydrafloods_water', 'HYDRAFloods Very Low Elevation', product_description = 'HYDRAFloods',\\\n",
        "                                                   slope_description='All',lc_description='All',elevation_description='Moderately Low', region_description=event_desc,\\\n",
        "                                                   stat_description = 'Precision', filter_prop = 'elevation_class', filter_value = 2)\n",
        "\n",
        "hydrafloods_modlowel_f1 = confusion_matrix_reporter(hf_swel, 'hydrafloods_water', 'HYDRAFloods Very Low Elevation', product_description = 'HYDRAFloods',\\\n",
        "                                                   slope_description='All',lc_description='All',elevation_description='Moderately Low', region_description=event_desc,\\\n",
        "                                                   stat_description = 'F1 Score', filter_prop = 'elevation_class', filter_value = 2)\n",
        "\n",
        "hydrafloods_modlowel_nmcc = confusion_matrix_reporter(hf_swel, 'hydrafloods_water', 'HYDRAFloods Very Low Elevation', product_description = 'HYDRAFloods',\\\n",
        "                                                   slope_description='All',lc_description='All',elevation_description='Moderately Low', region_description=event_desc,\\\n",
        "                                                   stat_description = 'NMCC', filter_prop = 'elevation_class', filter_value = 2)"
      ]
    },
    {
      "cell_type": "markdown",
      "metadata": {
        "id": "k-jGks4e1Jxc"
      },
      "source": [
        "### Step 4 Part 3 Section E: HYDROSAR Moderately Low Elevation"
      ]
    },
    {
      "cell_type": "code",
      "execution_count": null,
      "metadata": {
        "id": "HBoNkHb2NNHd"
      },
      "outputs": [],
      "source": [
        "# HYDROSAR Very Low Elevation Accuracy\n",
        "hydrosar_modlowel_acc = confusion_matrix_reporter(hydrosar_swel, 'hydrosar_water', 'HYDROSAR Very Low Elevation', product_description = 'HYDROSAR',\\\n",
        "                                                   slope_description='All',lc_description='All',elevation_description='Moderately Low', region_description=event_desc,\\\n",
        "                                                   stat_description='Overall Accuracy', filter_prop = 'elevation_class', filter_value = 2)\n",
        "\n",
        "hydrosar_modlowel_prec = confusion_matrix_reporter(hydrosar_swel, 'hydrosar_water', 'HYDROSAR Very Low Elevation', product_description = 'HYDROSAR',\\\n",
        "                                                   slope_description='All',lc_description='All',elevation_description='Moderately Low', region_description=event_desc,\\\n",
        "                                                   stat_description='Precision', filter_prop = 'elevation_class', filter_value = 2)\n",
        "\n",
        "hydrosar_modlowel_rec = confusion_matrix_reporter(hydrosar_swel, 'hydrosar_water', 'HYDROSAR Very Low Elevation', product_description = 'HYDROSAR',\\\n",
        "                                                   slope_description='All',lc_description='All',elevation_description='Moderately Low', region_description=event_desc,\\\n",
        "                                                   stat_description='Recall', filter_prop = 'elevation_class', filter_value = 2)\n",
        "\n",
        "hydrosar_modlowel_f1 = confusion_matrix_reporter(hydrosar_swel, 'hydrosar_water', 'HYDROSAR Very Low Elevation', product_description = 'HYDROSAR',\\\n",
        "                                                   slope_description='All',lc_description='All',elevation_description='Moderately Low', region_description=event_desc,\\\n",
        "                                                   stat_description='F1 Score', filter_prop = 'elevation_class', filter_value = 2)\n",
        "\n",
        "hydrosar_modlowel_nmcc = confusion_matrix_reporter(hydrosar_swel, 'hydrosar_water', 'HYDROSAR Very Low Elevation', product_description = 'HYDROSAR',\\\n",
        "                                                   slope_description='All',lc_description='All',elevation_description='Moderately Low', region_description=event_desc,\\\n",
        "                                                   stat_description='NMCC', filter_prop = 'elevation_class', filter_value = 2)"
      ]
    },
    {
      "cell_type": "markdown",
      "metadata": {
        "id": "l4HAwYQW1MOs"
      },
      "source": [
        "### Step 4 Part 3 Section F: MCDWD Moderately Low Elevation"
      ]
    },
    {
      "cell_type": "code",
      "execution_count": null,
      "metadata": {
        "id": "YJ_iahE8OuON"
      },
      "outputs": [],
      "source": [
        "mcdwd_modlowel_acc = confusion_matrix_reporter(mcdwd_swel, 'mcdwd_water', 'MCDWD Very Low Elevation', product_description = 'MCDWD',\\\n",
        "                                                   slope_description='All',lc_description='All',elevation_description='Moderately Low', region_description=event_desc,\\\n",
        "                                                   stat_description='Overall Accuracy', filter_prop = 'elevation_class', filter_value = 2)\n",
        "\n",
        "mcdwd_modlowel_rec = confusion_matrix_reporter(mcdwd_swel, 'mcdwd_water', 'MCDWD Very Low Elevation', product_description = 'MCDWD',\\\n",
        "                                                   slope_description='All',lc_description='All',elevation_description='Moderately Low', region_description=event_desc,\\\n",
        "                                                   stat_description='Recall', filter_prop = 'elevation_class', filter_value = 2)\n",
        "\n",
        "mcdwd_modlowel_prec = confusion_matrix_reporter(mcdwd_swel, 'mcdwd_water', 'MCDWD Very Low Elevation', product_description = 'MCDWD',\\\n",
        "                                                   slope_description='All',lc_description='All',elevation_description='Moderately Low', region_description=event_desc,\\\n",
        "                                                   stat_description='Precision', filter_prop = 'elevation_class', filter_value = 2)\n",
        "\n",
        "mcdwd_modlowel_f1 = confusion_matrix_reporter(mcdwd_swel, 'mcdwd_water', 'MCDWD Very Low Elevation', product_description = 'MCDWD',\\\n",
        "                                                   slope_description='All',lc_description='All',elevation_description='Moderately Low', region_description=event_desc,\\\n",
        "                                                   stat_description='F1 Score', filter_prop = 'elevation_class', filter_value = 2)\n",
        "\n",
        "mcdwd_modlowel_nmcc = confusion_matrix_reporter(mcdwd_swel, 'mcdwd_water', 'MCDWD Very Low Elevation', product_description = 'MCDWD',\\\n",
        "                                                   slope_description='All',lc_description='All',elevation_description='Moderately Low', region_description=event_desc,\\\n",
        "                                                   stat_description='NMCC', filter_prop = 'elevation_class', filter_value = 2)"
      ]
    },
    {
      "cell_type": "markdown",
      "metadata": {
        "id": "lGhwnwED1PM_"
      },
      "source": [
        "### Step 4 Part 3 Section G: VFM Moderately Low Elevation"
      ]
    },
    {
      "cell_type": "code",
      "execution_count": null,
      "metadata": {
        "id": "scwuafgZO8nK"
      },
      "outputs": [],
      "source": [
        "vfm_modlowel_acc = confusion_matrix_reporter(vfm_swel, 'vfm_water', 'VFM Moderately Low Elevation', product_description = 'VFM',\\\n",
        "                                                   slope_description='All',lc_description='All',elevation_description='Moderately Low', region_description=event_desc,\\\n",
        "                                                   stat_description='Overall Accuracy', filter_prop = 'elevation_class', filter_value = 2)\n",
        "\n",
        "vfm_modlowel_rec = confusion_matrix_reporter(vfm_swel, 'vfm_water', 'VFM Moderately Low Elevation', product_description = 'VFM',\\\n",
        "                                                   slope_description='All',lc_description='All',elevation_description='Moderately Low', region_description=event_desc,\\\n",
        "                                                   stat_description='Recall', filter_prop = 'elevation_class', filter_value = 2)\n",
        "\n",
        "vfm_modlowel_prec = confusion_matrix_reporter(vfm_swel, 'vfm_water', 'VFM Moderately Low Elevation', product_description = 'VFM',\\\n",
        "                                                   slope_description='All',lc_description='All',elevation_description='Moderately Low', region_description=event_desc,\\\n",
        "                                                   stat_description='Precision', filter_prop = 'elevation_class', filter_value = 2)\n",
        "\n",
        "vfm_modlowel_f1 = confusion_matrix_reporter(vfm_swel, 'vfm_water', 'VFM Moderately Low Elevation', product_description = 'VFM',\\\n",
        "                                                   slope_description='All',lc_description='All',elevation_description='Moderately Low', region_description=event_desc,\\\n",
        "                                                   stat_description='F1 Score', filter_prop = 'elevation_class', filter_value = 2)\n",
        "\n",
        "vfm_modlowel_nmcc = confusion_matrix_reporter(vfm_swel, 'vfm_water', 'VFM Moderately Low Elevation', product_description = 'VFM',\\\n",
        "                                                   slope_description='All',lc_description='All',elevation_description='Moderately Low', region_description=event_desc,\\\n",
        "                                                   stat_description='NMCC', filter_prop = 'elevation_class', filter_value = 2)"
      ]
    },
    {
      "cell_type": "markdown",
      "metadata": {
        "id": "FPrQOUsm0WRH"
      },
      "source": [
        "## Step 4 Part 4: Moderately High Elevation"
      ]
    },
    {
      "cell_type": "markdown",
      "metadata": {
        "id": "IlcH7T_D1RMp"
      },
      "source": [
        "### Step 4 Part 4 Section A: DSWx-HLS Moderately High Elevation"
      ]
    },
    {
      "cell_type": "code",
      "execution_count": null,
      "metadata": {
        "id": "dywNf-ExQvfa"
      },
      "outputs": [],
      "source": [
        "dswxhls_modhiel_acc = confusion_matrix_reporter(dswxhls_swel, 'dswxhls_water', 'DSWx-HLS Moderately High Elevation', product_description = 'DSWx-HLS',\\\n",
        "                                                   slope_description='All',lc_description='All',elevation_description='Moderately High', region_description=event_desc,\\\n",
        "                                                   stat_description='Overall Accuracy', filter_prop = 'elevation_class', filter_value = 3)\n",
        "\n",
        "dswxhls_modhiel_prec = confusion_matrix_reporter(dswxhls_swel, 'dswxhls_water', 'DSWx-HLS Moderately HighElevation', product_description = 'DSWx-HLS',\\\n",
        "                                                   slope_description='All',lc_description='All',elevation_description='Moderately High', region_description=event_desc,\\\n",
        "                                                   stat_description='Precision', filter_prop = 'elevation_class', filter_value = 3)\n",
        "\n",
        "dswxhls_modhiel_rec = confusion_matrix_reporter(dswxhls_swel, 'dswxhls_water', 'DSWx-HLS Moderately High Elevation', product_description = 'DSWx-HLS',\\\n",
        "                                               slope_description='All',lc_description='All',elevation_description='Moderately High', region_description=event_desc,\\\n",
        "                                               stat_description='Recall', filter_prop = 'elevation_class', filter_value = 3)\n",
        "\n",
        "dswxhls_modhiel_f1 = confusion_matrix_reporter(dswxhls_swel, 'dswxhls_water', 'DSWx-HLS Moderately High Elevation', product_description = 'DSWx-HLS',\\\n",
        "                                              slope_description = 'All',lc_description='All',elevation_description='Moderately High', region_description=event_desc,\\\n",
        "                                              stat_description='F1 Score', filter_prop = 'elevation_class', filter_value = 3)\n",
        "\n",
        "dswxhls_modhiel_nmcc = confusion_matrix_reporter(dswxhls_swel, 'dswxhls_water', 'DSWx-HLS Moderately High Elevation', product_description = 'DSWx-HLS',\\\n",
        "                                                slope_description='All',lc_description='All',elevation_description='Moderately High', region_description=event_desc,\\\n",
        "                                                 stat_description='NMCC', filter_prop = 'elevation_class', filter_value = 3)"
      ]
    },
    {
      "cell_type": "markdown",
      "metadata": {
        "id": "mL_daRjs1aqn"
      },
      "source": [
        "### Step 4 Part 4 Section B: DSWx-S1 Moderately High Elevation"
      ]
    },
    {
      "cell_type": "code",
      "execution_count": null,
      "metadata": {
        "id": "YjMK5sASRRqN"
      },
      "outputs": [],
      "source": [
        "dswxs1_modhiel_acc = confusion_matrix_reporter(dswxs1_swel, 'dswxs1_water', 'DSWx-S1 Moderately High Elevation', product_description = 'DSWx-S1',\\\n",
        "                                                   slope_description='All',lc_description='All',elevation_description='Moderately High', region_description=event_desc,\\\n",
        "                                                   stat_description='Overall Accuracy', filter_prop = 'elevation_class', filter_value = 3)\n",
        "\n",
        "dswxs1_modhiel_prec = confusion_matrix_reporter(dswxs1_swel, 'dswxs1_water', 'DSWx-S1 Moderately High Elevation', product_description = 'DSWx-S1',\\\n",
        "                                               slope_description='All',lc_description='All',elevation_description='Moderately High', region_description=event_desc,\\\n",
        "                                               stat_description='Precision', filter_prop = 'elevation_class', filter_value = 3)\n",
        "\n",
        "dswxs1_modhiel_rec = confusion_matrix_reporter(dswxs1_swel, 'dswxs1_water', 'DSWx-S1 Moderately High Elevation', product_description = 'DSWx-S1',\\\n",
        "                                              slope_description='All',lc_description='All',elevation_description='Moderately High', region_description=event_desc,\\\n",
        "                                              stat_description='Recall', filter_prop = 'elevation_class', filter_value = 3)\n",
        "\n",
        "dswxs1_modhiel_f1 = confusion_matrix_reporter(dswxs1_swel, 'dswxs1_water', 'DSWx-S1 Moderately High Elevation', product_description = 'DSWx-S1',\\\n",
        "                                              slope_description='All',lc_description='All',elevation_description='Moderately High', region_description=event_desc,\\\n",
        "                                              stat_description='F1 Score', filter_prop = 'elevation_class', filter_value = 3)\n",
        "\n",
        "dswxs1_modhiel_nmcc = confusion_matrix_reporter(dswxs1_swel, 'dswxs1_water', 'DSWx-S1 Moderately High Elevation', product_description = 'DSWx-S1',\\\n",
        "                                               slope_description='All',lc_description='All',elevation_description='Moderately High', region_description=event_desc,\\\n",
        "                                               stat_description='NMCC', filter_prop = 'elevation_class', filter_value = 3)"
      ]
    },
    {
      "cell_type": "markdown",
      "metadata": {
        "id": "3gH-gPhN1cYM"
      },
      "source": [
        "### Step 4 Part 4 Section C: GFM Moderately High Elevation"
      ]
    },
    {
      "cell_type": "code",
      "execution_count": null,
      "metadata": {
        "id": "85nvyLbtSIKv"
      },
      "outputs": [],
      "source": [
        "gfm_modhiel_acc = confusion_matrix_reporter(gfm_swel, 'gfm_water', 'GFM Very Low Elevation', product_description = 'GFM',\\\n",
        "                                                   slope_description='All',lc_description='All',elevation_description='Moderately High', region_description=event_desc,\\\n",
        "                                                   stat_description='Overall Accuracy', filter_prop = 'elevation_class', filter_value = 3)\n",
        "\n",
        "gfm_modhiel_prec = confusion_matrix_reporter(gfm_swel, 'gfm_water', 'GFM Very Low Elevation', product_description = 'GFM',\\\n",
        "                                                   slope_description='All',lc_description='All',elevation_description='Moderately High', region_description=event_desc,\\\n",
        "                                                   stat_description='Precision', filter_prop = 'elevation_class', filter_value = 3)\n",
        "\n",
        "gfm_modhiel_rec = confusion_matrix_reporter(gfm_swel, 'gfm_water', 'GFM Very Low Elevation', product_description = 'GFM',\\\n",
        "                                                   slope_description='All',lc_description='All',elevation_description='Moderately High', region_description=event_desc,\\\n",
        "                                                   stat_description='Recall', filter_prop = 'elevation_class', filter_value = 3)\n",
        "\n",
        "gfm_modhiel_f1 = confusion_matrix_reporter(gfm_swel, 'gfm_water', 'GFM Very Low Elevation', product_description = 'GFM',\\\n",
        "                                                   slope_description='All',lc_description='All',elevation_description='Moderately High', region_description=event_desc,\\\n",
        "                                                   stat_description='F1 Score', filter_prop = 'elevation_class', filter_value = 3)\n",
        "\n",
        "gfm_modhiel_nmcc = confusion_matrix_reporter(gfm_swel, 'gfm_water', 'GFM Very Low Elevation', product_description = 'GFM',\\\n",
        "                                            slope_description='All',lc_description='All',elevation_description='Moderately High', region_description=event_desc,\\\n",
        "                                            stat_description='NMCC', filter_prop = 'elevation_class', filter_value = 3)"
      ]
    },
    {
      "cell_type": "markdown",
      "metadata": {
        "id": "EZjKsfgJ1ftA"
      },
      "source": [
        "### Step 4 Part 4 Section D: HYDRAFloods Moderately High Elevation"
      ]
    },
    {
      "cell_type": "code",
      "execution_count": null,
      "metadata": {
        "id": "HUR9PMJdSnjX"
      },
      "outputs": [],
      "source": [
        "# HYDRAFloods Very Low Elevation Accuracy\n",
        "hydrafloods_modhiel_acc = confusion_matrix_reporter(hf_swel, 'hydrafloods_water', 'HYDRAFloods Very Low Elevation', product_description = 'HYDRAFloods',\\\n",
        "                                                   slope_description='All',lc_description='All',elevation_description='Moderately High', region_description=event_desc,\\\n",
        "                                                   stat_description='Overall Accuracy', filter_prop = 'elevation_class', filter_value = 3)\n",
        "\n",
        "hydrafloods_modhiel_rec = confusion_matrix_reporter(hf_swel, 'hydrafloods_water', 'HYDRAFloods Very Low Elevation', product_description = 'HYDRAFloods',\\\n",
        "                                                   slope_description='All',lc_description='All',elevation_description='Moderately High', region_description=event_desc,\\\n",
        "                                                   stat_description='Recall', filter_prop = 'elevation_class', filter_value = 3)\n",
        "\n",
        "hydrafloods_modhiel_prec = confusion_matrix_reporter(hf_swel, 'hydrafloods_water', 'HYDRAFloods Very Low Elevation', product_description = 'HYDRAFloods',\\\n",
        "                                                   slope_description='All',lc_description='All',elevation_description='Moderately High', region_description=event_desc,\\\n",
        "                                                   stat_description = 'Precision', filter_prop = 'elevation_class', filter_value = 3)\n",
        "\n",
        "hydrafloods_modhiel_f1 = confusion_matrix_reporter(hf_swel, 'hydrafloods_water', 'HYDRAFloods Very Low Elevation', product_description = 'HYDRAFloods',\\\n",
        "                                                   slope_description='All',lc_description='All',elevation_description='Moderately High', region_description=event_desc,\\\n",
        "                                                   stat_description = 'F1 Score', filter_prop = 'elevation_class', filter_value = 3)\n",
        "\n",
        "hydrafloods_modhiel_nmcc = confusion_matrix_reporter(hf_swel, 'hydrafloods_water', 'HYDRAFloods Very Low Elevation', product_description = 'HYDRAFloods',\\\n",
        "                                                   slope_description='All',lc_description='All',elevation_description='Moderately High', region_description=event_desc,\\\n",
        "                                                   stat_description = 'NMCC', filter_prop = 'elevation_class', filter_value = 3)"
      ]
    },
    {
      "cell_type": "markdown",
      "metadata": {
        "id": "i2nPlsVJ1jU_"
      },
      "source": [
        "### Step 4 Part 4 Section E: HYDROSAR Moderately High Elevation"
      ]
    },
    {
      "cell_type": "code",
      "execution_count": null,
      "metadata": {
        "id": "a_WJK14xS5fz"
      },
      "outputs": [],
      "source": [
        "# HYDROSAR Very Low Elevation Accuracy\n",
        "hydrosar_modhiel_acc = confusion_matrix_reporter(hydrosar_swel, 'hydrosar_water', 'HYDROSAR Very Low Elevation', product_description = 'HYDROSAR',\\\n",
        "                                                   slope_description='All',lc_description='All',elevation_description='Moderately High', region_description=event_desc,\\\n",
        "                                                   stat_description='Overall Accuracy', filter_prop = 'elevation_class', filter_value = 3)\n",
        "\n",
        "hydrosar_modhiel_prec = confusion_matrix_reporter(hydrosar_swel, 'hydrosar_water', 'HYDROSAR Very Low Elevation', product_description = 'HYDROSAR',\\\n",
        "                                                   slope_description='All',lc_description='All',elevation_description='Moderately High', region_description=event_desc,\\\n",
        "                                                   stat_description='Precision', filter_prop = 'elevation_class', filter_value = 3)\n",
        "\n",
        "hydrosar_modhiel_rec = confusion_matrix_reporter(hydrosar_swel, 'hydrosar_water', 'HYDROSAR Very Low Elevation', product_description = 'HYDROSAR',\\\n",
        "                                                   slope_description='All',lc_description='All',elevation_description='Moderately High', region_description=event_desc,\\\n",
        "                                                   stat_description='Recall', filter_prop = 'elevation_class', filter_value = 3)\n",
        "\n",
        "hydrosar_modhiel_f1 = confusion_matrix_reporter(hydrosar_swel, 'hydrosar_water', 'HYDROSAR Very Low Elevation', product_description = 'HYDROSAR',\\\n",
        "                                                   slope_description='All',lc_description='All',elevation_description='Moderately High', region_description=event_desc,\\\n",
        "                                                   stat_description='F1 Score', filter_prop = 'elevation_class', filter_value = 3)\n",
        "\n",
        "hydrosar_modhiel_nmcc = confusion_matrix_reporter(hydrosar_swel, 'hydrosar_water', 'HYDROSAR Very Low Elevation', product_description = 'HYDROSAR',\\\n",
        "                                                   slope_description='All',lc_description='All',elevation_description='Moderately High', region_description=event_desc,\\\n",
        "                                                   stat_description='NMCC', filter_prop = 'elevation_class', filter_value = 3)"
      ]
    },
    {
      "cell_type": "markdown",
      "metadata": {
        "id": "ZqETn08E1ls0"
      },
      "source": [
        "### Step 4 Part 4 Section F: MCDWD Moderately High Elevation"
      ]
    },
    {
      "cell_type": "code",
      "execution_count": null,
      "metadata": {
        "colab": {
          "background_save": true
        },
        "id": "oqQShUo2T7ZP"
      },
      "outputs": [],
      "source": [
        "mcdwd_modhiel_acc = confusion_matrix_reporter(mcdwd_swel, 'mcdwd_water', 'MCDWD Very Low Elevation', product_description = 'MCDWD',\\\n",
        "                                                   slope_description='All',lc_description='All',elevation_description='Moderately High', region_description=event_desc,\\\n",
        "                                                   stat_description='Overall Accuracy', filter_prop = 'elevation_class', filter_value = 3)\n",
        "\n",
        "mcdwd_modhiel_rec = confusion_matrix_reporter(mcdwd_swel, 'mcdwd_water', 'MCDWD Very Low Elevation', product_description = 'MCDWD',\\\n",
        "                                                   slope_description='All',lc_description='All',elevation_description='Moderately High', region_description=event_desc,\\\n",
        "                                                   stat_description='Recall', filter_prop = 'elevation_class', filter_value = 3)\n",
        "\n",
        "mcdwd_modhiel_prec = confusion_matrix_reporter(mcdwd_swel, 'mcdwd_water', 'MCDWD Very Low Elevation', product_description = 'MCDWD',\\\n",
        "                                                   slope_description='All',lc_description='All',elevation_description='Moderately High', region_description=event_desc,\\\n",
        "                                                   stat_description='Precision', filter_prop = 'elevation_class', filter_value = 3)\n",
        "\n",
        "mcdwd_modhiel_f1 = confusion_matrix_reporter(mcdwd_swel, 'mcdwd_water', 'MCDWD Very Low Elevation', product_description = 'MCDWD',\\\n",
        "                                                   slope_description='All',lc_description='All',elevation_description='Moderately High', region_description=event_desc,\\\n",
        "                                                   stat_description='F1 Score', filter_prop = 'elevation_class', filter_value = 3)\n",
        "\n",
        "mcdwd_modhiel_nmcc = confusion_matrix_reporter(mcdwd_swel, 'mcdwd_water', 'MCDWD Very Low Elevation', product_description = 'MCDWD',\\\n",
        "                                                   slope_description='All',lc_description='All',elevation_description='Moderately High', region_description=event_desc,\\\n",
        "                                                   stat_description='NMCC', filter_prop = 'elevation_class', filter_value = 3)"
      ]
    },
    {
      "cell_type": "markdown",
      "metadata": {
        "id": "m41Pt7lV1n3i"
      },
      "source": [
        "### Step 4 Part 4 Section G: VFM Moderately High Elevation"
      ]
    },
    {
      "cell_type": "code",
      "execution_count": null,
      "metadata": {
        "colab": {
          "background_save": true
        },
        "id": "HIOSw8EVUHFt"
      },
      "outputs": [],
      "source": [
        "vfm_modhiel_acc = confusion_matrix_reporter(vfm_swel, 'vfm_water', 'VFM Moderately Low Elevation', product_description = 'VFM',\\\n",
        "                                                   slope_description='All',lc_description='All',elevation_description='Moderately High', region_description=event_desc,\\\n",
        "                                                   stat_description='Overall Accuracy', filter_prop = 'elevation_class', filter_value = 3)\n",
        "\n",
        "vfm_modhiel_rec = confusion_matrix_reporter(vfm_swel, 'vfm_water', 'VFM Moderately Low Elevation', product_description = 'VFM',\\\n",
        "                                                   slope_description='All',lc_description='All',elevation_description='Moderately High', region_description=event_desc,\\\n",
        "                                                   stat_description='Recall', filter_prop = 'elevation_class', filter_value = 3)\n",
        "\n",
        "vfm_modhiel_prec = confusion_matrix_reporter(vfm_swel, 'vfm_water', 'VFM Moderately Low Elevation', product_description = 'VFM',\\\n",
        "                                                   slope_description='All',lc_description='All',elevation_description='Moderately High', region_description=event_desc,\\\n",
        "                                                   stat_description='Precision', filter_prop = 'elevation_class', filter_value = 3)\n",
        "\n",
        "vfm_modhiel_f1 = confusion_matrix_reporter(vfm_swel, 'vfm_water', 'VFM Moderately Low Elevation', product_description = 'VFM',\\\n",
        "                                                   slope_description='All',lc_description='All',elevation_description='Moderately High', region_description=event_desc,\\\n",
        "                                                   stat_description='F1 Score', filter_prop = 'elevation_class', filter_value = 3)\n",
        "\n",
        "vfm_modhiel_nmcc = confusion_matrix_reporter(vfm_swel, 'vfm_water', 'VFM Moderately Low Elevation', product_description = 'VFM',\\\n",
        "                                                   slope_description='All',lc_description='All',elevation_description='Moderately High', region_description=event_desc,\\\n",
        "                                                   stat_description='NMCC', filter_prop = 'elevation_class', filter_value = 3)"
      ]
    },
    {
      "cell_type": "markdown",
      "metadata": {
        "id": "9JYaFQ-h0Z2F"
      },
      "source": [
        "## Step 4 Part 5: Very High Elevation"
      ]
    },
    {
      "cell_type": "markdown",
      "metadata": {
        "id": "SG1tudgw4I9s"
      },
      "source": [
        "### Step 4 Part 5 Section A: DSWx-HLS Very High Elevation"
      ]
    },
    {
      "cell_type": "code",
      "execution_count": null,
      "metadata": {
        "id": "R-NmjifCWPjV"
      },
      "outputs": [],
      "source": [
        "dswxhls_vhiel_acc = confusion_matrix_reporter(dswxhls_swel, 'dswxhls_water', 'DSWx-HLS Moderately High Elevation', product_description = 'DSWx-HLS',\\\n",
        "                                                   slope_description='All',lc_description='All',elevation_description='Very High', region_description=event_desc,\\\n",
        "                                                   stat_description='Overall Accuracy', filter_prop = 'elevation_class', filter_value = 4)\n",
        "\n",
        "dswxhls_vhiel_prec = confusion_matrix_reporter(dswxhls_swel, 'dswxhls_water', 'DSWx-HLS Moderately HighElevation', product_description = 'DSWx-HLS',\\\n",
        "                                                   slope_description='All',lc_description='All',elevation_description='Very High', region_description=event_desc,\\\n",
        "                                                   stat_description='Precision', filter_prop = 'elevation_class', filter_value = 4)\n",
        "\n",
        "dswxhls_vhiel_rec = confusion_matrix_reporter(dswxhls_swel, 'dswxhls_water', 'DSWx-HLS Moderately High Elevation', product_description = 'DSWx-HLS',\\\n",
        "                                               slope_description='All',lc_description='All',elevation_description='Very High', region_description=event_desc,\\\n",
        "                                               stat_description='Recall', filter_prop = 'elevation_class', filter_value = 4)\n",
        "\n",
        "dswxhls_vhiel_f1 = confusion_matrix_reporter(dswxhls_swel, 'dswxhls_water', 'DSWx-HLS Moderately High Elevation', product_description = 'DSWx-HLS',\\\n",
        "                                              slope_description = 'All',lc_description='All',elevation_description='Very High', region_description=event_desc,\\\n",
        "                                              stat_description='F1 Score', filter_prop = 'elevation_class', filter_value = 4)\n",
        "\n",
        "dswxhls_vhiel_nmcc = confusion_matrix_reporter(dswxhls_swel, 'dswxhls_water', 'DSWx-HLS Moderately High Elevation', product_description = 'DSWx-HLS',\\\n",
        "                                                slope_description='All',lc_description='All',elevation_description='Very High', region_description=event_desc,\\\n",
        "                                                 stat_description='NMCC', filter_prop = 'elevation_class', filter_value = 4)"
      ]
    },
    {
      "cell_type": "markdown",
      "metadata": {
        "id": "UuiK6Tdx4RRU"
      },
      "source": [
        "### Step 4 Part 5 Section B: DSWx-S1 Very High Elevation"
      ]
    },
    {
      "cell_type": "code",
      "execution_count": null,
      "metadata": {
        "id": "4hw9YVkfWP2J"
      },
      "outputs": [],
      "source": [
        "dswxs1_vhiel_acc = confusion_matrix_reporter(dswxs1_swel, 'dswxs1_water', 'DSWx-S1 Moderately High Elevation', product_description = 'DSWx-S1',\\\n",
        "                                                   slope_description='All',lc_description='All',elevation_description='Very High', region_description=event_desc,\\\n",
        "                                                   stat_description='Overall Accuracy', filter_prop = 'elevation_class', filter_value = 4)\n",
        "\n",
        "dswxs1_vhiel_prec = confusion_matrix_reporter(dswxs1_swel, 'dswxs1_water', 'DSWx-S1 Moderately High Elevation', product_description = 'DSWx-S1',\\\n",
        "                                               slope_description='All',lc_description='All',elevation_description='Very High', region_description=event_desc,\\\n",
        "                                               stat_description='Precision', filter_prop = 'elevation_class', filter_value = 4)\n",
        "\n",
        "dswxs1_vhiel_rec = confusion_matrix_reporter(dswxs1_swel, 'dswxs1_water', 'DSWx-S1 Moderately High Elevation', product_description = 'DSWx-S1',\\\n",
        "                                              slope_description='All',lc_description='All',elevation_description='Very High', region_description=event_desc,\\\n",
        "                                              stat_description='Recall', filter_prop = 'elevation_class', filter_value = 4)\n",
        "\n",
        "dswxs1_vhiel_f1 = confusion_matrix_reporter(dswxs1_swel, 'dswxs1_water', 'DSWx-S1 Moderately High Elevation', product_description = 'DSWx-S1',\\\n",
        "                                              slope_description='All',lc_description='All',elevation_description='Very High', region_description=event_desc,\\\n",
        "                                              stat_description='F1 Score', filter_prop = 'elevation_class', filter_value = 4)\n",
        "\n",
        "dswxs1_vhiel_nmcc = confusion_matrix_reporter(dswxs1_swel, 'dswxs1_water', 'DSWx-S1 Moderately High Elevation', product_description = 'DSWx-S1',\\\n",
        "                                               slope_description='All',lc_description='All',elevation_description='Very High', region_description=event_desc,\\\n",
        "                                               stat_description='NMCC', filter_prop = 'elevation_class', filter_value = 4)"
      ]
    },
    {
      "cell_type": "markdown",
      "metadata": {
        "id": "exQjUztV4a5q"
      },
      "source": [
        "### Step 4 Part 5 Section C: GFM Very High Elevation"
      ]
    },
    {
      "cell_type": "code",
      "execution_count": null,
      "metadata": {
        "id": "5VdP7DWAWQUr"
      },
      "outputs": [],
      "source": [
        "gfm_vhiel_acc = confusion_matrix_reporter(gfm_swel, 'gfm_water', 'GFM Very Low Elevation', product_description = 'GFM',\\\n",
        "                                                   slope_description='All',lc_description='All',elevation_description='Very High', region_description=event_desc,\\\n",
        "                                                   stat_description='Overall Accuracy', filter_prop = 'elevation_class', filter_value = 4)\n",
        "\n",
        "gfm_vhiel_prec = confusion_matrix_reporter(gfm_swel, 'gfm_water', 'GFM Very Low Elevation', product_description = 'GFM',\\\n",
        "                                                   slope_description='All',lc_description='All',elevation_description='Very High', region_description=event_desc,\\\n",
        "                                                   stat_description='Precision', filter_prop = 'elevation_class', filter_value = 4)\n",
        "\n",
        "gfm_vhiel_rec = confusion_matrix_reporter(gfm_swel, 'gfm_water', 'GFM Very Low Elevation', product_description = 'GFM',\\\n",
        "                                                   slope_description='All',lc_description='All',elevation_description='Very High', region_description=event_desc,\\\n",
        "                                                   stat_description='Recall', filter_prop = 'elevation_class', filter_value = 4)\n",
        "\n",
        "gfm_vhiel_f1 = confusion_matrix_reporter(gfm_swel, 'gfm_water', 'GFM Very Low Elevation', product_description = 'GFM',\\\n",
        "                                                   slope_description='All',lc_description='All',elevation_description='Very High', region_description=event_desc,\\\n",
        "                                                   stat_description='F1 Score', filter_prop = 'elevation_class', filter_value = 4)\n",
        "\n",
        "gfm_vhiel_nmcc = confusion_matrix_reporter(gfm_swel, 'gfm_water', 'GFM Very Low Elevation', product_description = 'GFM',\\\n",
        "                                            slope_description='All',lc_description='All',elevation_description='Very High', region_description=event_desc,\\\n",
        "                                            stat_description='NMCC', filter_prop = 'elevation_class', filter_value = 4)"
      ]
    },
    {
      "cell_type": "markdown",
      "metadata": {
        "id": "XUVozMON4gYB"
      },
      "source": [
        "### Step 4 Part 5 Section D: HYDRAFloods Very High Elevation"
      ]
    },
    {
      "cell_type": "code",
      "execution_count": null,
      "metadata": {
        "id": "3wlhqCIyWQm7"
      },
      "outputs": [],
      "source": [
        "# HYDRAFloods Very Low Elevation Accuracy\n",
        "hydrafloods_vhiel_acc = confusion_matrix_reporter(hf_swel, 'hydrafloods_water', 'HYDRAFloods Very Low Elevation', product_description = 'HYDRAFloods',\\\n",
        "                                                   slope_description='All',lc_description='All',elevation_description='Very High', region_description=event_desc,\\\n",
        "                                                   stat_description='Overall Accuracy', filter_prop = 'elevation_class', filter_value = 4)\n",
        "\n",
        "hydrafloods_vhiel_rec = confusion_matrix_reporter(hf_swel, 'hydrafloods_water', 'HYDRAFloods Very Low Elevation', product_description = 'HYDRAFloods',\\\n",
        "                                                   slope_description='All',lc_description='All',elevation_description='Very High', region_description=event_desc,\\\n",
        "                                                   stat_description='Recall', filter_prop = 'elevation_class', filter_value = 4)\n",
        "\n",
        "hydrafloods_vhiel_prec = confusion_matrix_reporter(hf_swel, 'hydrafloods_water', 'HYDRAFloods Very Low Elevation', product_description = 'HYDRAFloods',\\\n",
        "                                                   slope_description='All',lc_description='All',elevation_description='Very High', region_description=event_desc,\\\n",
        "                                                   stat_description = 'Precision', filter_prop = 'elevation_class', filter_value = 4)\n",
        "\n",
        "hydrafloods_vhiel_f1 = confusion_matrix_reporter(hf_swel, 'hydrafloods_water', 'HYDRAFloods Very Low Elevation', product_description = 'HYDRAFloods',\\\n",
        "                                                   slope_description='All',lc_description='All',elevation_description='Very High', region_description=event_desc,\\\n",
        "                                                   stat_description = 'F1 Score', filter_prop = 'elevation_class', filter_value = 4)\n",
        "\n",
        "hydrafloods_vhiel_nmcc = confusion_matrix_reporter(hf_swel, 'hydrafloods_water', 'HYDRAFloods Very Low Elevation', product_description = 'HYDRAFloods',\\\n",
        "                                                   slope_description='All',lc_description='All',elevation_description='Very High', region_description=event_desc,\\\n",
        "                                                   stat_description = 'NMCC', filter_prop = 'elevation_class', filter_value = 4)"
      ]
    },
    {
      "cell_type": "markdown",
      "metadata": {
        "id": "1Bg2Cuo24jo1"
      },
      "source": [
        "### Step 4 Part 5 Section E: HYDROSAR Very High Elevation"
      ]
    },
    {
      "cell_type": "code",
      "execution_count": null,
      "metadata": {
        "id": "lIUGdJMLWRIT"
      },
      "outputs": [],
      "source": [
        "# HYDROSAR Very Low Elevation Accuracy\n",
        "hydrosar_vhiel_acc = confusion_matrix_reporter(hydrosar_swel, 'hydrosar_water', 'HYDROSAR Very Low Elevation', product_description = 'HYDROSAR',\\\n",
        "                                                   slope_description='All',lc_description='All',elevation_description='Very High', region_description=event_desc,\\\n",
        "                                                   stat_description='Overall Accuracy', filter_prop = 'elevation_class', filter_value = 4)\n",
        "\n",
        "hydrosar_vhiel_prec = confusion_matrix_reporter(hydrosar_swel, 'hydrosar_water', 'HYDROSAR Very Low Elevation', product_description = 'HYDROSAR',\\\n",
        "                                                   slope_description='All',lc_description='All',elevation_description='Very High', region_description=event_desc,\\\n",
        "                                                   stat_description='Precision', filter_prop = 'elevation_class', filter_value = 4)\n",
        "\n",
        "hydrosar_vhiel_rec = confusion_matrix_reporter(hydrosar_swel, 'hydrosar_water', 'HYDROSAR Very Low Elevation', product_description = 'HYDROSAR',\\\n",
        "                                                   slope_description='All',lc_description='All',elevation_description='Very High', region_description=event_desc,\\\n",
        "                                                   stat_description='Recall', filter_prop = 'elevation_class', filter_value = 4)\n",
        "\n",
        "hydrosar_vhiel_f1 = confusion_matrix_reporter(hydrosar_swel, 'hydrosar_water', 'HYDROSAR Very Low Elevation', product_description = 'HYDROSAR',\\\n",
        "                                                   slope_description='All',lc_description='All',elevation_description='Very High', region_description=event_desc,\\\n",
        "                                                   stat_description='F1 Score', filter_prop = 'elevation_class', filter_value = 4)\n",
        "\n",
        "hydrosar_vhiel_nmcc = confusion_matrix_reporter(hydrosar_swel, 'hydrosar_water', 'HYDROSAR Very Low Elevation', product_description = 'HYDROSAR',\\\n",
        "                                                   slope_description='All',lc_description='All',elevation_description='Very High', region_description=event_desc,\\\n",
        "                                                   stat_description='NMCC', filter_prop = 'elevation_class', filter_value = 4)"
      ]
    },
    {
      "cell_type": "markdown",
      "metadata": {
        "id": "km-Xw97p4l4q"
      },
      "source": [
        "### Step 4 Part 5 Section F: MCDWD Very High Elevation"
      ]
    },
    {
      "cell_type": "code",
      "execution_count": null,
      "metadata": {
        "id": "Si901IXIWRiP"
      },
      "outputs": [],
      "source": [
        "mcdwd_vhiel_acc = confusion_matrix_reporter(mcdwd_swel, 'mcdwd_water', 'MCDWD Very Low Elevation', product_description = 'MCDWD',\\\n",
        "                                                   slope_description='All',lc_description='All',elevation_description='Very High', region_description=event_desc,\\\n",
        "                                                   stat_description='Overall Accuracy', filter_prop = 'elevation_class', filter_value = 4)\n",
        "\n",
        "mcdwd_vhiel_rec = confusion_matrix_reporter(mcdwd_swel, 'mcdwd_water', 'MCDWD Very Low Elevation', product_description = 'MCDWD',\\\n",
        "                                                   slope_description='All',lc_description='All',elevation_description='Very High', region_description=event_desc,\\\n",
        "                                                   stat_description='Recall', filter_prop = 'elevation_class', filter_value = 4)\n",
        "\n",
        "mcdwd_vhiel_prec = confusion_matrix_reporter(mcdwd_swel, 'mcdwd_water', 'MCDWD Very Low Elevation', product_description = 'MCDWD',\\\n",
        "                                                   slope_description='All',lc_description='All',elevation_description='Very High', region_description=event_desc,\\\n",
        "                                                   stat_description='Precision', filter_prop = 'elevation_class', filter_value = 4)\n",
        "\n",
        "mcdwd_vhiel_f1 = confusion_matrix_reporter(mcdwd_swel, 'mcdwd_water', 'MCDWD Very Low Elevation', product_description = 'MCDWD',\\\n",
        "                                                   slope_description='All',lc_description='All',elevation_description='Very High', region_description=event_desc,\\\n",
        "                                                   stat_description='F1 Score', filter_prop = 'elevation_class', filter_value = 4)\n",
        "\n",
        "mcdwd_vhiel_nmcc = confusion_matrix_reporter(mcdwd_swel, 'mcdwd_water', 'MCDWD Very Low Elevation', product_description = 'MCDWD',\\\n",
        "                                                   slope_description='All',lc_description='All',elevation_description='Very High', region_description=event_desc,\\\n",
        "                                                   stat_description='NMCC', filter_prop = 'elevation_class', filter_value = 4)"
      ]
    },
    {
      "cell_type": "markdown",
      "metadata": {
        "id": "KTbM_6aQ4oXd"
      },
      "source": [
        "### Step 4 Part 5 Section A: VFM Very High Elevation"
      ]
    },
    {
      "cell_type": "code",
      "execution_count": null,
      "metadata": {
        "id": "VslhWznrZ0GF"
      },
      "outputs": [],
      "source": [
        "vfm_vhiel_acc = confusion_matrix_reporter(vfm_swel, 'vfm_water', 'VFM Moderately Low Elevation', product_description = 'VFM',\\\n",
        "                                                   slope_description='All',lc_description='All',elevation_description='Moderately High', region_description=event_desc,\\\n",
        "                                                   stat_description='Overall Accuracy', filter_prop = 'elevation_class', filter_value = 4)\n",
        "\n",
        "vfm_vhiel_rec = confusion_matrix_reporter(vfm_swel, 'vfm_water', 'VFM Moderately Low Elevation', product_description = 'VFM',\\\n",
        "                                                   slope_description='All',lc_description='All',elevation_description='Moderately High', region_description=event_desc,\\\n",
        "                                                   stat_description='Recall', filter_prop = 'elevation_class', filter_value = 4)\n",
        "\n",
        "vfm_vhiel_prec = confusion_matrix_reporter(vfm_swel, 'vfm_water', 'VFM Moderately Low Elevation', product_description = 'VFM',\\\n",
        "                                                   slope_description='All',lc_description='All',elevation_description='Moderately High', region_description=event_desc,\\\n",
        "                                                   stat_description='Precision', filter_prop = 'elevation_class', filter_value = 4)\n",
        "\n",
        "vfm_vhiel_f1 = confusion_matrix_reporter(vfm_swel, 'vfm_water', 'VFM Moderately Low Elevation', product_description = 'VFM',\\\n",
        "                                                   slope_description='All',lc_description='All',elevation_description='Moderately High', region_description=event_desc,\\\n",
        "                                                   stat_description='F1 Score', filter_prop = 'elevation_class', filter_value = 4)\n",
        "\n",
        "vfm_vhiel_nmcc = confusion_matrix_reporter(vfm_swel, 'vfm_water', 'VFM Moderately Low Elevation', product_description = 'VFM',\\\n",
        "                                                   slope_description='All',lc_description='All',elevation_description='Moderately High', region_description=event_desc,\\\n",
        "                                                   stat_description='NMCC', filter_prop = 'elevation_class', filter_value = 4)"
      ]
    },
    {
      "cell_type": "markdown",
      "metadata": {
        "id": "ll91ye4nujlf"
      },
      "source": [
        "# **Step 5: Slope**"
      ]
    },
    {
      "cell_type": "markdown",
      "metadata": {
        "id": "Q_9yF_dajQci"
      },
      "source": [
        "Now let's do the same for the slope information"
      ]
    },
    {
      "cell_type": "code",
      "execution_count": null,
      "metadata": {
        "colab": {
          "background_save": true
        },
        "id": "t0bBSu2e-5R1"
      },
      "outputs": [],
      "source": [
        "cop_slope = ee.Algorithms.Terrain(cop_mos).select('slope').clip(aoi)\n",
        "#cop_mod.bandNames().getInfo()/'"
      ]
    },
    {
      "cell_type": "code",
      "execution_count": null,
      "metadata": {
        "colab": {
          "background_save": true
        },
        "id": "bHOGSlVZD1MM"
      },
      "outputs": [],
      "source": [
        "slc1 = cop_slope.lt(1.39)\n",
        "slc2 = cop_slope.gte(1.39).And(cop_slope.lt(3.97))\n",
        "slc3 = cop_slope.gte(3.97).And(cop_slope.lt(12))\n",
        "slc4 = cop_slope.gte(12)\n",
        "\n",
        "sl1test = slc1.select('slope').eq(1)\n",
        "sl2test = slc2.select('slope').eq(1)\n",
        "sl3test = slc3.select('slope').eq(1)\n",
        "sl4test = slc4.select('slope').eq(1)\n",
        "\n",
        "sl_v1 = slc1.where(sl1test, ee.Image(1))\n",
        "sl_v2 = sl_v1.where(sl2test, ee.Image(2))\n",
        "sl_v3 = sl_v2.where(sl3test, ee.Image(3))\n",
        "sl_v4 = sl_v3.where(sl4test, ee.Image(4))"
      ]
    },
    {
      "cell_type": "code",
      "execution_count": null,
      "metadata": {
        "colab": {
          "background_save": true
        },
        "id": "7DsH_g1WHMEq"
      },
      "outputs": [],
      "source": [
        "sl_class_image = sl_v4.rename('slope_class')"
      ]
    },
    {
      "cell_type": "code",
      "execution_count": null,
      "metadata": {
        "colab": {
          "background_save": true
        },
        "id": "n49bOad6GAP8"
      },
      "outputs": [],
      "source": [
        "Map = geemap.Map(center = (lat, lon), zoom = 7)\n",
        "Map.addLayer(aoi, {}, 'Area of interest')\n",
        "Map.addLayer(my_ref_data, {}, 'Reference Data')\n",
        "Map.addLayer(sl_v4, vp2, 'Slope')\n",
        "\n",
        "Map.addLayerControl()\n",
        "Map"
      ]
    },
    {
      "cell_type": "code",
      "execution_count": null,
      "metadata": {
        "colab": {
          "background_save": true
        },
        "id": "RZiwM8m87aiW"
      },
      "outputs": [],
      "source": [
        "# Sample Each flood product\n",
        "\n",
        "dswxhls_sws = sl_class_image.sampleRegions(dswxhls_sampled_highconf, geometries=True, projection = my_proj_string, scale = my_scale)\n",
        "\n",
        "dswxs1_sws = sl_class_image.sampleRegions(dswxs1_sampled_highconf, geometries=True, projection = my_proj_string, scale = my_scale)\n",
        "\n",
        "gfm_sws = sl_class_image.sampleRegions(gfm_sampled_highconf, geometries=True, projection = my_proj_string, scale = my_scale)\n",
        "\n",
        "hf_sws = sl_class_image.sampleRegions(hf_sampled_highconf, geometries=True, projection = my_proj_string, scale = my_scale)\n",
        "\n",
        "hydrosar_sws = sl_class_image.sampleRegions(hs_sampled_highconf, geometries=True, projection = my_proj_string, scale = my_scale)\n",
        "\n",
        "mcdwd_sws = sl_class_image.sampleRegions(mcdwd_sampled_highconf, geometries=True, projection = my_proj_string, scale = my_scale)\n",
        "\n",
        "vfm_sws = sl_class_image.sampleRegions(vfm_sampled_highconf, geometries=True, projection = my_proj_string, scale = my_scale)\n"
      ]
    },
    {
      "cell_type": "code",
      "execution_count": null,
      "metadata": {
        "colab": {
          "background_save": true
        },
        "id": "hk3MNQwR8dDd"
      },
      "outputs": [],
      "source": [
        "slope_listed = hf_sws.toList(hf_sws.size().getInfo()).getInfo()"
      ]
    },
    {
      "cell_type": "code",
      "execution_count": null,
      "metadata": {
        "colab": {
          "background_save": true
        },
        "id": "oQ34LrPO7TgM"
      },
      "outputs": [],
      "source": [
        "sl_classes_present = []\n",
        "very_shallow_n = 0\n",
        "moderately_shallow_n = 0\n",
        "moderately_steep_n = 0\n",
        "very_steep_n = 0\n",
        "\n",
        "for k in range(len(slope_listed)):\n",
        "  slope_feat = slope_listed[k]['properties']\n",
        "  sl_class = slope_feat['slope_class']\n",
        "  if sl_class not in sl_classes_present and sl_class != None and sl_class != 0:\n",
        "    sl_classes_present.append(sl_class)\n",
        "  if sl_class == 1:\n",
        "    very_shallow_n += 1\n",
        "  elif sl_class == 2:\n",
        "    moderately_shallow_n += 1\n",
        "  elif sl_class == 3:\n",
        "    moderately_steep_n += 1\n",
        "  elif sl_class == 4:\n",
        "    very_steep_n += 1"
      ]
    },
    {
      "cell_type": "code",
      "execution_count": null,
      "metadata": {
        "colab": {
          "background_save": true
        },
        "id": "tNWGBBNK9URm"
      },
      "outputs": [],
      "source": [
        "print(\"There is/are {0} elevation class(es) present in the sample points\".format(len(sl_classes_present)))\n",
        "print(\"The slope classes present are: \",sl_classes_present)\n",
        "print(\"There are {0} very shallow slope points\".format(very_shallow_n))\n",
        "print(\"There are {0} moderately shallow slope points\".format(moderately_shallow_n))\n",
        "print(\"There are {0} moderately steep slope points\".format(moderately_steep_n))\n",
        "print(\"There are {0} very steep slope points\".format(very_steep_n))"
      ]
    },
    {
      "cell_type": "code",
      "execution_count": null,
      "metadata": {
        "colab": {
          "background_save": true
        },
        "id": "Ao2gWqye95cb"
      },
      "outputs": [],
      "source": [
        "Map = geemap.Map(center = (lat, lon))"
      ]
    },
    {
      "cell_type": "markdown",
      "metadata": {
        "id": "DrT3yYym0gxL"
      },
      "source": [
        "## Step 5 Part 2: Very Shallow Slope"
      ]
    },
    {
      "cell_type": "markdown",
      "metadata": {
        "id": "MUa6J4BP_wL9"
      },
      "source": [
        "### Step 5 Part 2 Section A: DSWx-HLS Very Shallow Slope"
      ]
    },
    {
      "cell_type": "code",
      "execution_count": null,
      "metadata": {
        "colab": {
          "background_save": true
        },
        "id": "PrOlF8Q__z9X"
      },
      "outputs": [],
      "source": [
        "# DSWx-HLS Very Shallow Slope Accuracy\n",
        "dswxhls_vshalsl_acc = confusion_matrix_reporter(dswxhls_sws, 'dswxhls_water', 'HYDRAFloods Very Shallow Slope', product_description = 'DSWx-HLS',\\\n",
        "                                                   slope_description='Very Shallow',lc_description='All',elevation_description='All', region_description=event_desc,\\\n",
        "                                                   stat_description='Overall Accuracy', filter_prop = 'slope_class', filter_value = 1)\n",
        "\n",
        "dswxhls_vshalsl_prec = confusion_matrix_reporter(dswxhls_sws, 'dswxhls_water', 'HYDRAFloods Very Shallow Slope', product_description = 'DSWx-HLS',\\\n",
        "                                                   slope_description='Very Shallow',lc_description='All',elevation_description='All', region_description=event_desc,\\\n",
        "                                                   stat_description='Precision', filter_prop = 'slope_class', filter_value = 1)\n",
        "\n",
        "dswxhls_vshalsl_rec = confusion_matrix_reporter(dswxhls_sws, 'dswxhls_water', 'HYDRAFloods Very Shallow Slope', product_description = 'DSWx-HLS',\\\n",
        "                                                   slope_description='Very Shallow',lc_description='All',elevation_description='All', region_description=event_desc,\\\n",
        "                                                   stat_description='Recall', filter_prop = 'slope_class', filter_value = 1)\n",
        "\n",
        "dswxhls_vshalsl_f1 = confusion_matrix_reporter(dswxhls_sws, 'dswxhls_water', 'HYDRAFloods Very Shallow Slope', product_description = 'DSWx-HLS',\\\n",
        "                                                   slope_description='Very Shallow',lc_description='All',elevation_description='All', region_description=event_desc,\\\n",
        "                                                   stat_description='F1 Score', filter_prop = 'slope_class', filter_value = 1)\n",
        "\n",
        "dswxhls_vshalsl_nmcc = confusion_matrix_reporter(dswxhls_sws, 'dswxhls_water', 'HYDRAFloods Very Shallow Slope', product_description = 'DSWx-HLS',\\\n",
        "                                                   slope_description='Very Shallow',lc_description='All',elevation_description='All', region_description=event_desc,\\\n",
        "                                                   stat_description='NMCC', filter_prop = 'slope_class', filter_value = 1)"
      ]
    },
    {
      "cell_type": "markdown",
      "metadata": {
        "id": "XGdwm9xHa3bY"
      },
      "source": [
        "### Step 5 Part 2 Section B: DSWx-S1 Very Shallow Slope"
      ]
    },
    {
      "cell_type": "code",
      "execution_count": null,
      "metadata": {
        "colab": {
          "background_save": true
        },
        "id": "s7RBsSJDa8FL"
      },
      "outputs": [],
      "source": [
        "\n",
        "dswxs1_vshalsl_acc = confusion_matrix_reporter(dswxs1_sws, 'dswxs1_water', 'HYDRAFloods Very Shallow Slope', product_description = 'DSWx-S1',\\\n",
        "                                                   slope_description='Very Shallow',lc_description='All',elevation_description='All', region_description=event_desc,\\\n",
        "                                                   stat_description='Overall Accuracy', filter_prop = 'slope_class', filter_value = 1)\n",
        "\n",
        "dswxs1_vshalsl_prec = confusion_matrix_reporter(dswxs1_sws, 'dswxs1_water', 'HYDRAFloods Very Shallow Slope', product_description = 'DSWx-S1',\\\n",
        "                                                   slope_description='Very Shallow',lc_description='All',elevation_description='All', region_description=event_desc,\\\n",
        "                                                   stat_description='Precision', filter_prop = 'slope_class', filter_value = 1)\n",
        "\n",
        "dswxs1_vshalsl_rec = confusion_matrix_reporter(dswxs1_sws, 'dswxs1_water', 'HYDRAFloods Very Shallow Slope', product_description = 'DSWx-S1',\\\n",
        "                                                   slope_description='Very Shallow',lc_description='All',elevation_description='All', region_description=event_desc,\\\n",
        "                                                   stat_description='Recall', filter_prop = 'slope_class', filter_value = 1)\n",
        "\n",
        "dswxs1_vshalsl_f1 = confusion_matrix_reporter(dswxs1_sws, 'dswxs1_water', 'HYDRAFloods Very Shallow Slope', product_description = 'DSWx-S1',\\\n",
        "                                                   slope_description='Very Shallow',lc_description='All',elevation_description='All', region_description=event_desc,\\\n",
        "                                                   stat_description='F1 Score', filter_prop = 'slope_class', filter_value = 1)\n",
        "\n",
        "dswxs1_vshalsl_nmcc = confusion_matrix_reporter(dswxs1_sws, 'dswxs1_water', 'HYDRAFloods Very Shallow Slope', product_description = 'DSWx-S1',\\\n",
        "                                                   slope_description='Very Shallow',lc_description='All',elevation_description='All', region_description=event_desc,\\\n",
        "                                                   stat_description='NMCC', filter_prop = 'slope_class', filter_value = 1)"
      ]
    },
    {
      "cell_type": "markdown",
      "metadata": {
        "id": "cUlmW1nrdsmY"
      },
      "source": [
        "### Step 5 Part 2 Section C: GFM Very Shallow Slope"
      ]
    },
    {
      "cell_type": "code",
      "execution_count": null,
      "metadata": {
        "colab": {
          "background_save": true
        },
        "id": "Y8qWEBkagmlk"
      },
      "outputs": [],
      "source": [
        "# HYDRAFloods Very Shallow Slope Accuracy\n",
        "gfm_vshalsl_acc = confusion_matrix_reporter(gfm_sws, 'gfm_water', 'GFM Very Shallow Slope', product_description = 'GFM',\\\n",
        "                                                   slope_description='Very Shallow',lc_description='All',elevation_description='All', region_description=event_desc,\\\n",
        "                                                   stat_description='Overall Accuracy', filter_prop = 'slope_class', filter_value = 1)\n",
        "\n",
        "gfm_vshalsl_prec = confusion_matrix_reporter(gfm_sws, 'gfm_water', 'GFM Very Shallow Slope', product_description = 'GFM',\\\n",
        "                                                   slope_description='Very Shallow',lc_description='All',elevation_description='All', region_description=event_desc,\\\n",
        "                                                   stat_description='Precision', filter_prop = 'slope_class', filter_value = 1)\n",
        "\n",
        "gfm_vshalsl_rec = confusion_matrix_reporter(gfm_sws, 'gfm_water', 'GFM Very Shallow Slope', product_description = 'GFM',\\\n",
        "                                                   slope_description='Very Shallow',lc_description='All',elevation_description='All', region_description=event_desc,\\\n",
        "                                                   stat_description='Recall', filter_prop = 'slope_class', filter_value = 1)\n",
        "\n",
        "gfm_vshalsl_f1 = confusion_matrix_reporter(gfm_sws, 'gfm_water', 'GFM Very Shallow Slope', product_description = 'GFM',\\\n",
        "                                                   slope_description='Very Shallow',lc_description='All',elevation_description='All', region_description=event_desc,\\\n",
        "                                                   stat_description='F1 Score', filter_prop = 'slope_class', filter_value = 1)\n",
        "\n",
        "gfm_vshalsl_nmcc = confusion_matrix_reporter(gfm_sws, 'gfm_water', 'GFM Very Shallow Slope', product_description = 'GFM',\\\n",
        "                                                   slope_description='Very Shallow',lc_description='All',elevation_description='All', region_description=event_desc,\\\n",
        "                                                   stat_description='NMCC', filter_prop = 'slope_class', filter_value = 1)"
      ]
    },
    {
      "cell_type": "markdown",
      "metadata": {
        "id": "cQjylGgkdv8v"
      },
      "source": [
        "### Step 5 Part 2 Section D: HYDRAFloods Very Shallow Slope"
      ]
    },
    {
      "cell_type": "code",
      "execution_count": null,
      "metadata": {
        "colab": {
          "background_save": true
        },
        "id": "HBmR_u4dhF-W"
      },
      "outputs": [],
      "source": [
        "# HYDRAFloods Very Shallow Slope Accuracy\n",
        "hydrafloods_vshalsl_acc = confusion_matrix_reporter(hf_sws, 'hydrafloods_water', 'HYDRAFloods Very Shallow Slope', product_description = 'HYDRAFloods',\\\n",
        "                                                   slope_description='Very Shallow',lc_description='All',elevation_description='All', region_description=event_desc,\\\n",
        "                                                   stat_description='Overall Accuracy', filter_prop = 'slope_class', filter_value = 1)\n",
        "\n",
        "hydrafloods_vshalsl_prec = confusion_matrix_reporter(hf_sws, 'hydrafloods_water', 'HYDRAFloods Very Shallow Slope', product_description = 'HYDRAFloods',\\\n",
        "                                                     slope_description='Very Shallow',lc_description='All',elevation_description='All', region_description=event_desc,\\\n",
        "                                                   stat_description='Precision', filter_prop = 'slope_class', filter_value = 1)\n",
        "\n",
        "hydrafloods_vshalsl_rec = confusion_matrix_reporter(hf_sws, 'hydrafloods_water', 'HYDRAFloods Very Shallow Slope', product_description = 'HYDRAFloods',\\\n",
        "                                                     slope_description='Very Shallow',lc_description='All',elevation_description='All', region_description=event_desc,\\\n",
        "                                                   stat_description='Recall', filter_prop = 'slope_class', filter_value = 1)\n",
        "\n",
        "hydrafloods_vshalsl_f1 = confusion_matrix_reporter(hf_sws, 'hydrafloods_water', 'HYDRAFloods Very Shallow Slope', product_description = 'HYDRAFloods',\\\n",
        "                                                     slope_description='Very Shallow',lc_description='All',elevation_description='All', region_description=event_desc,\\\n",
        "                                                   stat_description='F1 Score', filter_prop = 'slope_class', filter_value = 1)\n",
        "\n",
        "hydrafloods_vshalsl_nmcc = confusion_matrix_reporter(hf_sws, 'hydrafloods_water', 'HYDRAFloods Very Shallow Slope', product_description = 'HYDRAFloods',\\\n",
        "                                                     slope_description='Very Shallow',lc_description='All',elevation_description='All', region_description=event_desc,\\\n",
        "                                                   stat_description='NMCC', filter_prop = 'slope_class', filter_value = 1)"
      ]
    },
    {
      "cell_type": "markdown",
      "metadata": {
        "id": "-nMm_k_gdzjD"
      },
      "source": [
        "### Step 5 Part 2 Section E: HYDROSAR Very Shallow Slope"
      ]
    },
    {
      "cell_type": "code",
      "execution_count": null,
      "metadata": {
        "colab": {
          "background_save": true
        },
        "id": "R8AOeH3hibwg"
      },
      "outputs": [],
      "source": [
        "# HYDROSAR Very Shallow Slope Accuracy\n",
        "hydrosar_vshalsl_acc = confusion_matrix_reporter(hydrosar_sws, 'hydrosar_water', '', product_description = 'HYDROSAR',\\\n",
        "                                                   slope_description='Very Shallow',lc_description='All',elevation_description='All', region_description=event_desc,\\\n",
        "                                                   stat_description='Overall Accuracy', filter_prop = 'slope_class', filter_value = 1)\n",
        "\n",
        "hydrosar_vshalsl_prec = confusion_matrix_reporter(hydrosar_sws, 'hydrosar_water', '', product_description = 'HYDROSAR',\\\n",
        "                                                   slope_description='Very Shallow',lc_description='All',elevation_description='All', region_description=event_desc,\\\n",
        "                                                   stat_description='Precision', filter_prop = 'slope_class', filter_value = 1)\n",
        "\n",
        "hydrosar_vshalsl_rec = confusion_matrix_reporter(hydrosar_sws, 'hydrosar_water', '', product_description = 'HYDROSAR',\\\n",
        "                                                   slope_description='Very Shallow',lc_description='All',elevation_description='All', region_description=event_desc,\\\n",
        "                                                   stat_description='Recall', filter_prop = 'slope_class', filter_value = 1)\n",
        "\n",
        "hydrosar_vshalsl_f1 = confusion_matrix_reporter(hydrosar_sws, 'hydrosar_water', '', product_description = 'HYDROSAR',\\\n",
        "                                                   slope_description='Very Shallow',lc_description='All',elevation_description='All', region_description=event_desc,\\\n",
        "                                                   stat_description='F1 Score', filter_prop = 'slope_class', filter_value = 1)\n",
        "\n",
        "hydrosar_vshalsl_nmcc = confusion_matrix_reporter(hydrosar_sws, 'hydrosar_water', '', product_description = 'HYDROSAR',\\\n",
        "                                                   slope_description='Very Shallow',lc_description='All',elevation_description='All', region_description=event_desc,\\\n",
        "                                                   stat_description='NMCC', filter_prop = 'slope_class', filter_value = 1)"
      ]
    },
    {
      "cell_type": "markdown",
      "metadata": {
        "id": "fyn-ZK8Sd2Aw"
      },
      "source": [
        "### Step 5 Part 2 Section F: MCDWD Very Shallow Slope"
      ]
    },
    {
      "cell_type": "code",
      "execution_count": null,
      "metadata": {
        "colab": {
          "background_save": true
        },
        "id": "uK6FY5ssnig5"
      },
      "outputs": [],
      "source": [
        "mcdwd_vshalsl_acc = confusion_matrix_reporter(mcdwd_sws, 'mcdwd_water', '', product_description = 'MCDWD',\\\n",
        "                                                   slope_description='Very Shallow',lc_description='All',elevation_description='All', region_description=event_desc,\\\n",
        "                                                   stat_description='Overall Accuracy', filter_prop = 'slope_class', filter_value = 1)\n",
        "\n",
        "mcdwd_vshalsl_prec = confusion_matrix_reporter(mcdwd_sws, 'mcdwd_water', '', product_description = 'MCDWD',\\\n",
        "                                                   slope_description='Very Shallow',lc_description='All',elevation_description='All', region_description=event_desc,\\\n",
        "                                                   stat_description='Precision', filter_prop = 'slope_class', filter_value = 1)\n",
        "\n",
        "mcdwd_vshalsl_rec = confusion_matrix_reporter(mcdwd_sws, 'mcdwd_water', '', product_description = 'MCDWD',\\\n",
        "                                                   slope_description='Very Shallow',lc_description='All',elevation_description='All', region_description=event_desc,\\\n",
        "                                                   stat_description='Recall', filter_prop = 'slope_class', filter_value = 1)\n",
        "\n",
        "mcdwd_vshalsl_f1 = confusion_matrix_reporter(mcdwd_sws, 'mcdwd_water', '', product_description = 'MCDWD',\\\n",
        "                                                   slope_description='Very Shallow',lc_description='All',elevation_description='All', region_description=event_desc,\\\n",
        "                                                   stat_description='F1 Score', filter_prop = 'slope_class', filter_value = 1)\n",
        "\n",
        "mcdwd_vshalsl_nmcc = confusion_matrix_reporter(mcdwd_sws, 'mcdwd_water', '', product_description = 'MCDWD',\\\n",
        "                                                   slope_description='Very Shallow',lc_description='All',elevation_description='All', region_description=event_desc,\\\n",
        "                                                   stat_description='NMCC', filter_prop = 'slope_class', filter_value = 1)"
      ]
    },
    {
      "cell_type": "markdown",
      "metadata": {
        "id": "x55UchT1d5fY"
      },
      "source": [
        "### Step 5 Part 2 Section G: VFM Very Shallow Slope"
      ]
    },
    {
      "cell_type": "code",
      "execution_count": null,
      "metadata": {
        "colab": {
          "background_save": true
        },
        "id": "X0BSrS40pZMg"
      },
      "outputs": [],
      "source": [
        "vfm_vshalsl_acc = confusion_matrix_reporter(vfm_sws, 'vfm_water', '', product_description = 'VFM',\\\n",
        "                                                   slope_description='Very Shallow',lc_description='All',elevation_description='All', region_description=event_desc,\\\n",
        "                                                   stat_description='Overall Accuracy', filter_prop = 'slope_class', filter_value = 1)\n",
        "\n",
        "vfm_vshalsl_prec = confusion_matrix_reporter(vfm_sws, 'vfm_water', '', product_description = 'VFM',\\\n",
        "                                                   slope_description='Very Shallow',lc_description='All',elevation_description='All', region_description=event_desc,\\\n",
        "                                                   stat_description='Precision', filter_prop = 'slope_class', filter_value = 1)\n",
        "\n",
        "vfm_vshalsl_rec = confusion_matrix_reporter(vfm_sws, 'vfm_water', '', product_description = 'VFM',\\\n",
        "                                                   slope_description='Very Shallow',lc_description='All',elevation_description='All', region_description=event_desc,\\\n",
        "                                                   stat_description='Recall', filter_prop = 'slope_class', filter_value = 1)\n",
        "\n",
        "vfm_vshalsl_f1 = confusion_matrix_reporter(vfm_sws, 'vfm_water', '', product_description = 'VFM',\\\n",
        "                                                   slope_description='Very Shallow',lc_description='All',elevation_description='All', region_description=event_desc,\\\n",
        "                                                   stat_description='F1 Score', filter_prop = 'slope_class', filter_value = 1)\n",
        "\n",
        "vfm_vshalsl_nmcc = confusion_matrix_reporter(vfm_sws, 'vfm_water', '', product_description = 'VFM',\\\n",
        "                                                   slope_description='Very Shallow',lc_description='All',elevation_description='All', region_description=event_desc,\\\n",
        "                                                   stat_description='NMCC', filter_prop = 'slope_class', filter_value = 1)"
      ]
    },
    {
      "cell_type": "markdown",
      "metadata": {
        "id": "hqQc7JbR0kqh"
      },
      "source": [
        "## Step 5 Part 3: Moderately Shallow Slope"
      ]
    },
    {
      "cell_type": "markdown",
      "metadata": {
        "id": "SR1hd00npp8-"
      },
      "source": [
        "### Step 5 Part 3 Section A: DSWx-HLS Moderately Shallow Slope"
      ]
    },
    {
      "cell_type": "code",
      "execution_count": null,
      "metadata": {
        "colab": {
          "background_save": true
        },
        "id": "5w5DVB6htlSY"
      },
      "outputs": [],
      "source": [
        "# HYDRAFloods Very Shallow Slope Accuracy\n",
        "dswxhls_modshalsl_acc = confusion_matrix_reporter(dswxhls_sws, 'dswxhls_water', '', product_description = 'DSWx-HLS',\\\n",
        "                                                   slope_description='Moderately Shallow',lc_description='All',elevation_description='All', region_description=event_desc,\\\n",
        "                                                   stat_description='Overall Accuracy', filter_prop = 'slope_class', filter_value = 2)\n",
        "\n",
        "dswxhls_modshalsl_prec = confusion_matrix_reporter(dswxhls_sws, 'dswxhls_water', 'HYDRAFloods Very Shallow Slope', product_description = 'DSWx-HLS',\\\n",
        "                                                   slope_description='Moderately Shallow',lc_description='All',elevation_description='All', region_description=event_desc,\\\n",
        "                                                   stat_description='Precision', filter_prop = 'slope_class', filter_value = 2)\n",
        "\n",
        "dswxhls_modshalsl_rec = confusion_matrix_reporter(dswxhls_sws, 'dswxhls_water', 'HYDRAFloods Very Shallow Slope', product_description = 'DSWx-HLS',\\\n",
        "                                                   slope_description='Moderately Shallow',lc_description='All',elevation_description='All', region_description=event_desc,\\\n",
        "                                                   stat_description='Recall', filter_prop = 'slope_class', filter_value = 2)\n",
        "\n",
        "dswxhls_modshalsl_f1 = confusion_matrix_reporter(dswxhls_sws, 'dswxhls_water', 'HYDRAFloods Very Shallow Slope', product_description = 'DSWx-HLS',\\\n",
        "                                                   slope_description='Moderately Shallow',lc_description='All',elevation_description='All', region_description=event_desc,\\\n",
        "                                                   stat_description='F1 Score', filter_prop = 'slope_class', filter_value = 2)\n",
        "\n",
        "dswxhls_modshalsl_nmcc = confusion_matrix_reporter(dswxhls_sws, 'dswxhls_water', 'HYDRAFloods Very Shallow Slope', product_description = 'DSWx-HLS',\\\n",
        "                                                   slope_description='Moderately Shallow',lc_description='All',elevation_description='All', region_description=event_desc,\\\n",
        "                                                   stat_description='NMCC', filter_prop = 'slope_class', filter_value = 2)"
      ]
    },
    {
      "cell_type": "markdown",
      "metadata": {
        "id": "fglMbGg6puTC"
      },
      "source": [
        "### Step 5 Part 3 Section B: DSWx-S1 Moderately Shallow Slope"
      ]
    },
    {
      "cell_type": "code",
      "execution_count": null,
      "metadata": {
        "colab": {
          "background_save": true
        },
        "id": "O1UuFEchuoxe"
      },
      "outputs": [],
      "source": [
        "\n",
        "dswxs1_modshalsl_acc = confusion_matrix_reporter(dswxs1_sws, 'dswxs1_water', 'HYDRAFloods Very Shallow Slope', product_description = 'DSWx-S1',\\\n",
        "                                                   slope_description='Moderately Shallow',lc_description='All',elevation_description='All', region_description=event_desc,\\\n",
        "                                                   stat_description='Overall Accuracy', filter_prop = 'slope_class', filter_value = 2)\n",
        "\n",
        "dswxs1_modshalsl_prec = confusion_matrix_reporter(dswxs1_sws, 'dswxs1_water', 'HYDRAFloods Very Shallow Slope', product_description = 'DSWx-S1',\\\n",
        "                                                   slope_description='Moderately Shallow',lc_description='All',elevation_description='All', region_description=event_desc,\\\n",
        "                                                   stat_description='Precision', filter_prop = 'slope_class', filter_value = 2)\n",
        "\n",
        "dswxs1_modshalsl_rec = confusion_matrix_reporter(dswxs1_sws, 'dswxs1_water', 'HYDRAFloods Very Shallow Slope', product_description = 'DSWx-S1',\\\n",
        "                                                   slope_description='Moderately Shallow',lc_description='All',elevation_description='All', region_description=event_desc,\\\n",
        "                                                   stat_description='Recall', filter_prop = 'slope_class', filter_value = 2)\n",
        "\n",
        "dswxs1_modshalsl_f1 = confusion_matrix_reporter(dswxs1_sws, 'dswxs1_water', 'HYDRAFloods Very Shallow Slope', product_description = 'DSWx-S1',\\\n",
        "                                                   slope_description='Moderately Shallow',lc_description='All',elevation_description='All', region_description=event_desc,\\\n",
        "                                                   stat_description='F1 Score', filter_prop = 'slope_class', filter_value = 2)\n",
        "\n",
        "dswxs1_modshalsl_nmcc = confusion_matrix_reporter(dswxs1_sws, 'dswxs1_water', 'HYDRAFloods Very Shallow Slope', product_description = 'DSWx-S1',\\\n",
        "                                                   slope_description='Moderately Shallow',lc_description='All',elevation_description='All', region_description=event_desc,\\\n",
        "                                                   stat_description='NMCC', filter_prop = 'slope_class', filter_value = 2)"
      ]
    },
    {
      "cell_type": "markdown",
      "metadata": {
        "id": "kM4yawVbp7UO"
      },
      "source": [
        "### Step 5 Part 3 Section C: GFM Moderately Shallow Slope"
      ]
    },
    {
      "cell_type": "code",
      "execution_count": null,
      "metadata": {
        "colab": {
          "background_save": true
        },
        "id": "B3imDXBoxE6T"
      },
      "outputs": [],
      "source": [
        "# HYDRAFloods Very Shallow Slope Accuracy\n",
        "gfm_modshalsl_acc = confusion_matrix_reporter(gfm_sws, 'gfm_water', 'GFM Very Shallow Slope', product_description = 'GFM',\\\n",
        "                                                   slope_description='Moderately Shallow',lc_description='All',elevation_description='All', region_description=event_desc,\\\n",
        "                                                   stat_description='Overall Accuracy', filter_prop = 'slope_class', filter_value = 2)\n",
        "\n",
        "gfm_modshalsl_prec = confusion_matrix_reporter(gfm_sws, 'gfm_water', 'GFM Very Shallow Slope', product_description = 'GFM',\\\n",
        "                                                   slope_description='Moderately Shallow',lc_description='All',elevation_description='All', region_description=event_desc,\\\n",
        "                                                   stat_description='Precision', filter_prop = 'slope_class', filter_value = 2)\n",
        "\n",
        "gfm_modshalsl_rec = confusion_matrix_reporter(gfm_sws, 'gfm_water', 'GFM Very Shallow Slope', product_description = 'GFM',\\\n",
        "                                                   slope_description='Moderately Shallow',lc_description='All',elevation_description='All', region_description=event_desc,\\\n",
        "                                                   stat_description='Recall', filter_prop = 'slope_class', filter_value = 2)\n",
        "\n",
        "gfm_modshalsl_f1 = confusion_matrix_reporter(gfm_sws, 'gfm_water', 'GFM Very Shallow Slope', product_description = 'GFM',\\\n",
        "                                                   slope_description='Moderately  Shallow',lc_description='All',elevation_description='All', region_description=event_desc,\\\n",
        "                                                   stat_description='F1 Score', filter_prop = 'slope_class', filter_value = 2)\n",
        "\n",
        "gfm_modshalsl_nmcc = confusion_matrix_reporter(gfm_sws, 'gfm_water', 'GFM Very Shallow Slope', product_description = 'GFM',\\\n",
        "                                                   slope_description='Moderately Shallow',lc_description='All',elevation_description='All', region_description=event_desc,\\\n",
        "                                                   stat_description='NMCC', filter_prop = 'slope_class', filter_value = 2)"
      ]
    },
    {
      "cell_type": "markdown",
      "metadata": {
        "id": "S3ASu6N_qMcu"
      },
      "source": [
        "### Step 5 Part 3 Section D: HYDRAFloods Moderately Shallow Slope"
      ]
    },
    {
      "cell_type": "code",
      "execution_count": null,
      "metadata": {
        "colab": {
          "background_save": true
        },
        "id": "Sw2DqJ0FyDrq"
      },
      "outputs": [],
      "source": [
        "# HYDRAFloods Very Shallow Slope Accuracy\n",
        "hydrafloods_modshalsl_acc = confusion_matrix_reporter(hf_sws, 'hydrafloods_water', 'HYDRAFloods Very Shallow Slope', product_description = 'HYDRAFloods',\\\n",
        "                                                   slope_description='Moderately Shallow',lc_description='All',elevation_description='All', region_description=event_desc,\\\n",
        "                                                   stat_description='Overall Accuracy', filter_prop = 'slope_class', filter_value = 2)\n",
        "\n",
        "hydrafloods_modshalsl_prec = confusion_matrix_reporter(hf_sws, 'hydrafloods_water', 'HYDRAFloods Very Shallow Slope', product_description = 'HYDRAFloods',\\\n",
        "                                                     slope_description='Moderately Shallow',lc_description='All',elevation_description='All', region_description=event_desc,\\\n",
        "                                                   stat_description='Precision', filter_prop = 'slope_class', filter_value = 2)\n",
        "\n",
        "hydrafloods_modshalsl_rec = confusion_matrix_reporter(hf_sws, 'hydrafloods_water', 'HYDRAFloods Very Shallow Slope', product_description = 'HYDRAFloods',\\\n",
        "                                                     slope_description='Moderately Shallow',lc_description='All',elevation_description='All', region_description=event_desc,\\\n",
        "                                                   stat_description='Recall', filter_prop = 'slope_class', filter_value = 2)\n",
        "\n",
        "hydrafloods_modshalsl_f1 = confusion_matrix_reporter(hf_sws, 'hydrafloods_water', 'HYDRAFloods Very Shallow Slope', product_description = 'HYDRAFloods',\\\n",
        "                                                     slope_description='Moderately Shallow',lc_description='All',elevation_description='All', region_description=event_desc,\\\n",
        "                                                   stat_description='F1 Score', filter_prop = 'slope_class', filter_value = 2)\n",
        "\n",
        "hydrafloods_modshalsl_nmcc = confusion_matrix_reporter(hf_sws, 'hydrafloods_water', 'HYDRAFloods Very Shallow Slope', product_description = 'HYDRAFloods',\\\n",
        "                                                     slope_description='Moderately Shallow',lc_description='All',elevation_description='All', region_description=event_desc,\\\n",
        "                                                   stat_description='NMCC', filter_prop = 'slope_class', filter_value = 2)"
      ]
    },
    {
      "cell_type": "markdown",
      "metadata": {
        "id": "cGU0YPr8qP2Y"
      },
      "source": [
        "### Step 5 Part 3 Section E: HYDROSAR Moderately Shallow Slope"
      ]
    },
    {
      "cell_type": "code",
      "execution_count": null,
      "metadata": {
        "colab": {
          "background_save": true
        },
        "id": "fXMLl05Nyh26"
      },
      "outputs": [],
      "source": [
        "# HYDROSAR Very Shallow Slope Accuracy\n",
        "hydrosar_modshalsl_acc = confusion_matrix_reporter(hydrosar_sws, 'hydrosar_water', '', product_description = 'HYDROSAR',\\\n",
        "                                                   slope_description='Moderately Shallow',lc_description='All',elevation_description='All', region_description=event_desc,\\\n",
        "                                                   stat_description='Overall Accuracy', filter_prop = 'slope_class', filter_value = 2)\n",
        "\n",
        "hydrosar_modshalsl_prec = confusion_matrix_reporter(hydrosar_sws, 'hydrosar_water', '', product_description = 'HYDROSAR',\\\n",
        "                                                   slope_description='Moderately Shallow',lc_description='All',elevation_description='All', region_description=event_desc,\\\n",
        "                                                   stat_description='Precision', filter_prop = 'slope_class', filter_value = 2)\n",
        "\n",
        "hydrosar_modshalsl_rec = confusion_matrix_reporter(hydrosar_sws, 'hydrosar_water', '', product_description = 'HYDROSAR',\\\n",
        "                                                   slope_description='Moderately Shallow',lc_description='All',elevation_description='All', region_description=event_desc,\\\n",
        "                                                   stat_description='Recall', filter_prop = 'slope_class', filter_value = 2)\n",
        "\n",
        "hydrosar_modshalsl_f1 = confusion_matrix_reporter(hydrosar_sws, 'hydrosar_water', '', product_description = 'HYDROSAR',\\\n",
        "                                                   slope_description='Moderately Shallow',lc_description='All',elevation_description='All', region_description=event_desc,\\\n",
        "                                                   stat_description='F1 Score', filter_prop = 'slope_class', filter_value = 2)\n",
        "\n",
        "hydrosar_modshalsl_nmcc = confusion_matrix_reporter(hydrosar_sws, 'hydrosar_water', '', product_description = 'HYDROSAR',\\\n",
        "                                                   slope_description='Moderately Shallow',lc_description='All',elevation_description='All', region_description=event_desc,\\\n",
        "                                                   stat_description='NMCC', filter_prop = 'slope_class', filter_value = 2)"
      ]
    },
    {
      "cell_type": "markdown",
      "metadata": {
        "id": "qStVKMn0qSAf"
      },
      "source": [
        "### Step 5 Part 3 Section F: MCDWD Moderately Shallow Slope"
      ]
    },
    {
      "cell_type": "code",
      "execution_count": null,
      "metadata": {
        "colab": {
          "background_save": true
        },
        "id": "xDkRP9Psy3WS"
      },
      "outputs": [],
      "source": [
        "mcdwd_modshalsl_acc = confusion_matrix_reporter(mcdwd_sws, 'mcdwd_water', '', product_description = 'MCDWD',\\\n",
        "                                                   slope_description='Moderately Shallow',lc_description='All',elevation_description='All', region_description=event_desc,\\\n",
        "                                                   stat_description='Overall Accuracy', filter_prop = 'slope_class', filter_value = 2)\n",
        "\n",
        "mcdwd_modshalsl_prec = confusion_matrix_reporter(mcdwd_sws, 'mcdwd_water', '', product_description = 'MCDWD',\\\n",
        "                                                   slope_description='Moderately Shallow',lc_description='All',elevation_description='All', region_description=event_desc,\\\n",
        "                                                   stat_description='Precision', filter_prop = 'slope_class', filter_value = 2)\n",
        "\n",
        "mcdwd_modshalsl_rec = confusion_matrix_reporter(mcdwd_sws, 'mcdwd_water', '', product_description = 'MCDWD',\\\n",
        "                                                   slope_description='Moderately Shallow',lc_description='All',elevation_description='All', region_description=event_desc,\\\n",
        "                                                   stat_description='Recall', filter_prop = 'slope_class', filter_value = 2)\n",
        "\n",
        "mcdwd_modshalsl_f1 = confusion_matrix_reporter(mcdwd_sws, 'mcdwd_water', '', product_description = 'MCDWD',\\\n",
        "                                                   slope_description='Moderately Shallow',lc_description='All',elevation_description='All', region_description=event_desc,\\\n",
        "                                                   stat_description='F1 Score', filter_prop = 'slope_class', filter_value = 2)\n",
        "\n",
        "mcdwd_modshalsl_nmcc = confusion_matrix_reporter(mcdwd_sws, 'mcdwd_water', '', product_description = 'MCDWD',\\\n",
        "                                                   slope_description='Moderately Shallow',lc_description='All',elevation_description='All', region_description=event_desc,\\\n",
        "                                                   stat_description='NMCC', filter_prop = 'slope_class', filter_value = 2)"
      ]
    },
    {
      "cell_type": "markdown",
      "metadata": {
        "id": "sG7tIc33qUka"
      },
      "source": [
        "### Step 5 Part 3 Section G: VFM Moderately Shallow Slope"
      ]
    },
    {
      "cell_type": "code",
      "execution_count": null,
      "metadata": {
        "colab": {
          "background_save": true
        },
        "id": "1aDGx_sAzHSS"
      },
      "outputs": [],
      "source": [
        "vfm_modshalsl_acc = confusion_matrix_reporter(vfm_sws, 'vfm_water', '', product_description = 'VFM',\\\n",
        "                                                   slope_description='Moderately Shallow',lc_description='All',elevation_description='All', region_description=event_desc,\\\n",
        "                                                   stat_description='Overall Accuracy', filter_prop = 'slope_class', filter_value = 2)\n",
        "\n",
        "vfm_modshalsl_prec = confusion_matrix_reporter(vfm_sws, 'vfm_water', '', product_description = 'VFM',\\\n",
        "                                                   slope_description='Moderately Shallow',lc_description='All',elevation_description='All', region_description=event_desc,\\\n",
        "                                                   stat_description='Precision', filter_prop = 'slope_class', filter_value = 2)\n",
        "\n",
        "vfm_modshalsl_rec = confusion_matrix_reporter(vfm_sws, 'vfm_water', '', product_description = 'VFM',\\\n",
        "                                                   slope_description='Moderately Shallow',lc_description='All',elevation_description='All', region_description=event_desc,\\\n",
        "                                                   stat_description='Recall', filter_prop = 'slope_class', filter_value = 2)\n",
        "\n",
        "vfm_modshalsl_f1 = confusion_matrix_reporter(vfm_sws, 'vfm_water', '', product_description = 'VFM',\\\n",
        "                                                   slope_description='Moderately Shallow',lc_description='All',elevation_description='All', region_description=event_desc,\\\n",
        "                                                   stat_description='F1 Score', filter_prop = 'slope_class', filter_value = 2)\n",
        "\n",
        "vfm_modshalsl_nmcc = confusion_matrix_reporter(vfm_sws, 'vfm_water', '', product_description = 'VFM',\\\n",
        "                                                   slope_description='Moderately Shallow',lc_description='All',elevation_description='All', region_description=event_desc,\\\n",
        "                                                   stat_description='NMCC', filter_prop = 'slope_class', filter_value = 2)"
      ]
    },
    {
      "cell_type": "markdown",
      "metadata": {
        "id": "ropIVpUV0oEb"
      },
      "source": [
        "## Step 5 Part 4: Moderately Steep Slope"
      ]
    },
    {
      "cell_type": "markdown",
      "metadata": {
        "id": "8ykZ5d4sqoeq"
      },
      "source": [
        "### Step 5 Part 4 Section A: DSWx-HLS Moderately Steep Slope\n",
        "\n"
      ]
    },
    {
      "cell_type": "code",
      "execution_count": null,
      "metadata": {
        "colab": {
          "background_save": true
        },
        "id": "gZ-riXjzzotS"
      },
      "outputs": [],
      "source": [
        "# HYDRAFloods Very Shallow Slope Accuracy\n",
        "dswxhls_modsteepsl_acc = confusion_matrix_reporter(dswxhls_sws, 'dswxhls_water', '', product_description = 'DSWx-HLS',\\\n",
        "                                                   slope_description='Moderately Steep',lc_description='All',elevation_description='All', region_description=event_desc,\\\n",
        "                                                   stat_description='Overall Accuracy', filter_prop = 'slope_class', filter_value = 3)\n",
        "\n",
        "dswxhls_modsteepsl_prec = confusion_matrix_reporter(dswxhls_sws, 'dswxhls_water', 'HYDRAFloods Very Shallow Slope', product_description = 'DSWx-HLS',\\\n",
        "                                                   slope_description='Moderately Steep',lc_description='All',elevation_description='All', region_description=event_desc,\\\n",
        "                                                   stat_description='Precision', filter_prop = 'slope_class', filter_value = 3)\n",
        "\n",
        "dswxhls_modsteepsl_rec = confusion_matrix_reporter(dswxhls_sws, 'dswxhls_water', 'HYDRAFloods Very Shallow Slope', product_description = 'DSWx-HLS',\\\n",
        "                                                   slope_description='Moderately Steep',lc_description='All',elevation_description='All', region_description=event_desc,\\\n",
        "                                                   stat_description='Recall', filter_prop = 'slope_class', filter_value = 3)\n",
        "\n",
        "dswxhls_modsteepsl_f1 = confusion_matrix_reporter(dswxhls_sws, 'dswxhls_water', 'HYDRAFloods Very Shallow Slope', product_description = 'DSWx-HLS',\\\n",
        "                                                   slope_description='Moderately Steep',lc_description='All',elevation_description='All', region_description=event_desc,\\\n",
        "                                                   stat_description='F1 Score', filter_prop = 'slope_class', filter_value = 3)\n",
        "\n",
        "dswxhls_modsteepsl_nmcc = confusion_matrix_reporter(dswxhls_sws, 'dswxhls_water', 'HYDRAFloods Very Shallow Slope', product_description = 'DSWx-HLS',\\\n",
        "                                                   slope_description='Moderately Steep',lc_description='All',elevation_description='All', region_description=event_desc,\\\n",
        "                                                   stat_description='NMCC', filter_prop = 'slope_class', filter_value = 3)"
      ]
    },
    {
      "cell_type": "markdown",
      "metadata": {
        "id": "pgzz4KC1q1aM"
      },
      "source": [
        "### Step 5 Part 4 Section B: DSWx-S1 Moderately Steep Slope"
      ]
    },
    {
      "cell_type": "code",
      "execution_count": null,
      "metadata": {
        "colab": {
          "background_save": true
        },
        "id": "8JFXyfe_2lHn"
      },
      "outputs": [],
      "source": [
        "\n",
        "dswxs1_modsteepsl_acc = confusion_matrix_reporter(dswxs1_sws, 'dswxs1_water', 'HYDRAFloods Very Shallow Slope', product_description = 'DSWx-S1',\\\n",
        "                                                   slope_description='Moderately Steep',lc_description='All',elevation_description='All', region_description=event_desc,\\\n",
        "                                                   stat_description='Overall Accuracy', filter_prop = 'slope_class', filter_value = 3)\n",
        "\n",
        "dswxs1_modsteepsl_prec = confusion_matrix_reporter(dswxs1_sws, 'dswxs1_water', 'HYDRAFloods Very Shallow Slope', product_description = 'DSWx-S1',\\\n",
        "                                                   slope_description='Moderately Steep',lc_description='All',elevation_description='All', region_description=event_desc,\\\n",
        "                                                   stat_description='Precision', filter_prop = 'slope_class', filter_value = 3)\n",
        "\n",
        "dswxs1_modsteepsl_rec = confusion_matrix_reporter(dswxs1_sws, 'dswxs1_water', 'HYDRAFloods Very Shallow Slope', product_description = 'DSWx-S1',\\\n",
        "                                                   slope_description='Moderately Steep',lc_description='All',elevation_description='All', region_description=event_desc,\\\n",
        "                                                   stat_description='Recall', filter_prop = 'slope_class', filter_value = 3)\n",
        "\n",
        "dswxs1_modsteepsl_f1 = confusion_matrix_reporter(dswxs1_sws, 'dswxs1_water', 'HYDRAFloods Very Shallow Slope', product_description = 'DSWx-S1',\\\n",
        "                                                   slope_description='Moderately Steep',lc_description='All',elevation_description='All', region_description=event_desc,\\\n",
        "                                                   stat_description='F1 Score', filter_prop = 'slope_class', filter_value = 3)\n",
        "\n",
        "dswxs1_modsteepsl_nmcc = confusion_matrix_reporter(dswxs1_sws, 'dswxs1_water', 'HYDRAFloods Very Shallow Slope', product_description = 'DSWx-S1',\\\n",
        "                                                   slope_description='Moderately Steep',lc_description='All',elevation_description='All', region_description=event_desc,\\\n",
        "                                                   stat_description='NMCC', filter_prop = 'slope_class', filter_value = 3)"
      ]
    },
    {
      "cell_type": "markdown",
      "metadata": {
        "id": "19-lRtBfq3RX"
      },
      "source": [
        "### Step 5 Part 4 Section C: GFM Moderately Steep Slope"
      ]
    },
    {
      "cell_type": "code",
      "execution_count": null,
      "metadata": {
        "colab": {
          "background_save": true
        },
        "id": "5igRXoDg0rbk"
      },
      "outputs": [],
      "source": [
        "# HYDRAFloods Very Shallow Slope Accuracy\n",
        "gfm_modsteepsl_acc = confusion_matrix_reporter(gfm_sws, 'gfm_water', 'GFM Very Shallow Slope', product_description = 'GFM',\\\n",
        "                                                   slope_description='Moderately Steep',lc_description='All',elevation_description='All', region_description=event_desc,\\\n",
        "                                                   stat_description='Overall Accuracy', filter_prop = 'slope_class', filter_value = 3)\n",
        "\n",
        "gfm_modsteepsl_prec = confusion_matrix_reporter(gfm_sws, 'gfm_water', 'GFM Very Shallow Slope', product_description = 'GFM',\\\n",
        "                                                   slope_description='Moderately Steep',lc_description='All',elevation_description='All', region_description=event_desc,\\\n",
        "                                                   stat_description='Precision', filter_prop = 'slope_class', filter_value = 3)\n",
        "\n",
        "gfm_modsteepsl_rec = confusion_matrix_reporter(gfm_sws, 'gfm_water', 'GFM Very Shallow Slope', product_description = 'GFM',\\\n",
        "                                                   slope_description='Moderately Steep',lc_description='All',elevation_description='All', region_description=event_desc,\\\n",
        "                                                   stat_description='Recall', filter_prop = 'slope_class', filter_value = 3)\n",
        "\n",
        "gfm_modsteepsl_f1 = confusion_matrix_reporter(gfm_sws, 'gfm_water', 'GFM Very Shallow Slope', product_description = 'GFM',\\\n",
        "                                                   slope_description='Moderately  Steep',lc_description='All',elevation_description='All', region_description=event_desc,\\\n",
        "                                                   stat_description='F1 Score', filter_prop = 'slope_class', filter_value = 3)\n",
        "\n",
        "gfm_modsteepsl_nmcc = confusion_matrix_reporter(gfm_sws, 'gfm_water', 'GFM Very Shallow Slope', product_description = 'GFM',\\\n",
        "                                                   slope_description='Moderately Steep',lc_description='All',elevation_description='All', region_description=event_desc,\\\n",
        "                                                   stat_description='NMCC', filter_prop = 'slope_class', filter_value = 3)"
      ]
    },
    {
      "cell_type": "markdown",
      "metadata": {
        "id": "i7rp8fZjrGwP"
      },
      "source": [
        "### Step 5 Part 4 Section D: HYDRAFloods Moderately Steep Slope"
      ]
    },
    {
      "cell_type": "code",
      "execution_count": null,
      "metadata": {
        "colab": {
          "background_save": true
        },
        "id": "I-E295sB07C1"
      },
      "outputs": [],
      "source": [
        "# HYDRAFloods Very Shallow Slope Accuracy\n",
        "hydrafloods_modsteepsl_acc = confusion_matrix_reporter(hf_sws, 'hydrafloods_water', 'HYDRAFloods Very Shallow Slope', product_description = 'HYDRAFloods',\\\n",
        "                                                   slope_description='Moderately Steep',lc_description='All',elevation_description='All', region_description=event_desc,\\\n",
        "                                                   stat_description='Overall Accuracy', filter_prop = 'slope_class', filter_value = 3)\n",
        "\n",
        "hydrafloods_modsteepsl_prec = confusion_matrix_reporter(hf_sws, 'hydrafloods_water', 'HYDRAFloods Very Shallow Slope', product_description = 'HYDRAFloods',\\\n",
        "                                                     slope_description='Moderately Steep',lc_description='All',elevation_description='All', region_description=event_desc,\\\n",
        "                                                   stat_description='Precision', filter_prop = 'slope_class', filter_value = 3)\n",
        "\n",
        "hydrafloods_modsteepsl_rec = confusion_matrix_reporter(hf_sws, 'hydrafloods_water', 'HYDRAFloods Very Shallow Slope', product_description = 'HYDRAFloods',\\\n",
        "                                                     slope_description='Moderately Steep',lc_description='All',elevation_description='All', region_description=event_desc,\\\n",
        "                                                   stat_description='Recall', filter_prop = 'slope_class', filter_value = 3)\n",
        "\n",
        "hydrafloods_modsteepsl_f1 = confusion_matrix_reporter(hf_sws, 'hydrafloods_water', 'HYDRAFloods Very Shallow Slope', product_description = 'HYDRAFloods',\\\n",
        "                                                     slope_description='Moderately Steep',lc_description='All',elevation_description='All', region_description=event_desc,\\\n",
        "                                                   stat_description='F1 Score', filter_prop = 'slope_class', filter_value = 3)\n",
        "\n",
        "hydrafloods_modsteepsl_nmcc = confusion_matrix_reporter(hf_sws, 'hydrafloods_water', 'HYDRAFloods Very Shallow Slope', product_description = 'HYDRAFloods',\\\n",
        "                                                     slope_description='Moderately Steep',lc_description='All',elevation_description='All', region_description=event_desc,\\\n",
        "                                                   stat_description='NMCC', filter_prop = 'slope_class', filter_value = 3)"
      ]
    },
    {
      "cell_type": "markdown",
      "metadata": {
        "id": "mYVDVKJJrIwa"
      },
      "source": [
        "### Step 5 Part 4 Section E: HYDROSAR Moderately Steep Slope"
      ]
    },
    {
      "cell_type": "code",
      "execution_count": null,
      "metadata": {
        "colab": {
          "background_save": true
        },
        "id": "mQGN4Haz1HjF"
      },
      "outputs": [],
      "source": [
        "# HYDROSAR Very Shallow Slope Accuracy\n",
        "hydrosar_modsteepsl_acc = confusion_matrix_reporter(hydrosar_sws, 'hydrosar_water', '', product_description = 'HYDROSAR',\\\n",
        "                                                   slope_description='Moderately Steep',lc_description='All',elevation_description='All', region_description=event_desc,\\\n",
        "                                                   stat_description='Overall Accuracy', filter_prop = 'slope_class', filter_value = 3)\n",
        "\n",
        "hydrosar_modsteepsl_prec = confusion_matrix_reporter(hydrosar_sws, 'hydrosar_water', '', product_description = 'HYDROSAR',\\\n",
        "                                                   slope_description='Moderately Steep',lc_description='All',elevation_description='All', region_description=event_desc,\\\n",
        "                                                   stat_description='Precision', filter_prop = 'slope_class', filter_value = 3)\n",
        "\n",
        "hydrosar_modsteepsl_rec = confusion_matrix_reporter(hydrosar_sws, 'hydrosar_water', '', product_description = 'HYDROSAR',\\\n",
        "                                                   slope_description='Moderately Steep',lc_description='All',elevation_description='All', region_description=event_desc,\\\n",
        "                                                   stat_description='Recall', filter_prop = 'slope_class', filter_value = 3)\n",
        "\n",
        "hydrosar_modsteepsl_f1 = confusion_matrix_reporter(hydrosar_sws, 'hydrosar_water', '', product_description = 'HYDROSAR',\\\n",
        "                                                   slope_description='Moderately Steep',lc_description='All',elevation_description='All', region_description=event_desc,\\\n",
        "                                                   stat_description='F1 Score', filter_prop = 'slope_class', filter_value = 3)\n",
        "\n",
        "hydrosar_modsteepsl_nmcc = confusion_matrix_reporter(hydrosar_sws, 'hydrosar_water', '', product_description = 'HYDROSAR',\\\n",
        "                                                   slope_description='Moderately Steep',lc_description='All',elevation_description='All', region_description=event_desc,\\\n",
        "                                                   stat_description='NMCC', filter_prop = 'slope_class', filter_value = 3)"
      ]
    },
    {
      "cell_type": "markdown",
      "metadata": {
        "id": "ru4edCCGrLUg"
      },
      "source": [
        "### Step 5 Part 4 Section F: MCDWD Moderately Steep Slope"
      ]
    },
    {
      "cell_type": "code",
      "execution_count": null,
      "metadata": {
        "colab": {
          "background_save": true
        },
        "id": "KFMUp8iR1VCk"
      },
      "outputs": [],
      "source": [
        "mcdwd_modsteepsl_acc = confusion_matrix_reporter(mcdwd_sws, 'mcdwd_water', '', product_description = 'MCDWD',\\\n",
        "                                                   slope_description='Moderately Steep',lc_description='All',elevation_description='All', region_description=event_desc,\\\n",
        "                                                   stat_description='Overall Accuracy', filter_prop = 'slope_class', filter_value = 3)\n",
        "\n",
        "mcdwd_modsteepsl_prec = confusion_matrix_reporter(mcdwd_sws, 'mcdwd_water', '', product_description = 'MCDWD',\\\n",
        "                                                   slope_description='Moderately Steep',lc_description='All',elevation_description='All', region_description=event_desc,\\\n",
        "                                                   stat_description='Precision', filter_prop = 'slope_class', filter_value = 3)\n",
        "\n",
        "mcdwd_modsteepsl_rec = confusion_matrix_reporter(mcdwd_sws, 'mcdwd_water', '', product_description = 'MCDWD',\\\n",
        "                                                   slope_description='Moderately Steep',lc_description='All',elevation_description='All', region_description=event_desc,\\\n",
        "                                                   stat_description='Recall', filter_prop = 'slope_class', filter_value = 3)\n",
        "\n",
        "mcdwd_modsteepsl_f1 = confusion_matrix_reporter(mcdwd_sws, 'mcdwd_water', '', product_description = 'MCDWD',\\\n",
        "                                                   slope_description='Moderately Steep',lc_description='All',elevation_description='All', region_description=event_desc,\\\n",
        "                                                   stat_description='F1 Score', filter_prop = 'slope_class', filter_value = 3)\n",
        "\n",
        "mcdwd_modsteepsl_nmcc = confusion_matrix_reporter(mcdwd_sws, 'mcdwd_water', '', product_description = 'MCDWD',\\\n",
        "                                                   slope_description='Moderately Steep',lc_description='All',elevation_description='All', region_description=event_desc,\\\n",
        "                                                   stat_description='NMCC', filter_prop = 'slope_class', filter_value = 3)"
      ]
    },
    {
      "cell_type": "markdown",
      "metadata": {
        "id": "C_cFR5KGrNir"
      },
      "source": [
        "### Step 5 Part 4 Section G: VFM Moderately Steep Slope"
      ]
    },
    {
      "cell_type": "code",
      "execution_count": null,
      "metadata": {
        "colab": {
          "background_save": true
        },
        "id": "F-g4hrgy1reb"
      },
      "outputs": [],
      "source": [
        "vfm_modsteepsl_acc = confusion_matrix_reporter(vfm_sws, 'vfm_water', '', product_description = 'VFM',\\\n",
        "                                                   slope_description='Moderately Steep',lc_description='All',elevation_description='All', region_description=event_desc,\\\n",
        "                                                   stat_description='Overall Accuracy', filter_prop = 'slope_class', filter_value = 3)\n",
        "\n",
        "vfm_modsteepsl_prec = confusion_matrix_reporter(vfm_sws, 'vfm_water', '', product_description = 'VFM',\\\n",
        "                                                   slope_description='Moderately Steep',lc_description='All',elevation_description='All', region_description=event_desc,\\\n",
        "                                                   stat_description='Precision', filter_prop = 'slope_class', filter_value = 3)\n",
        "\n",
        "vfm_modsteepsl_rec = confusion_matrix_reporter(vfm_sws, 'vfm_water', '', product_description = 'VFM',\\\n",
        "                                                   slope_description='Moderately Steep',lc_description='All',elevation_description='All', region_description=event_desc,\\\n",
        "                                                   stat_description='Recall', filter_prop = 'slope_class', filter_value = 3)\n",
        "\n",
        "vfm_modsteepsl_f1 = confusion_matrix_reporter(vfm_sws, 'vfm_water', '', product_description = 'VFM',\\\n",
        "                                                   slope_description='Moderately Steep',lc_description='All',elevation_description='All', region_description=event_desc,\\\n",
        "                                                   stat_description='F1 Score', filter_prop = 'slope_class', filter_value = 3)\n",
        "\n",
        "vfm_modsteepsl_nmcc = confusion_matrix_reporter(vfm_sws, 'vfm_water', '', product_description = 'VFM',\\\n",
        "                                                   slope_description='Moderately Steep',lc_description='All',elevation_description='All', region_description=event_desc,\\\n",
        "                                                   stat_description='NMCC', filter_prop = 'slope_class', filter_value = 3)"
      ]
    },
    {
      "cell_type": "markdown",
      "metadata": {
        "id": "81wpJ0x40q-h"
      },
      "source": [
        "## Step 5 Part 5: Very Steep Slope"
      ]
    },
    {
      "cell_type": "markdown",
      "metadata": {
        "id": "dQka1QVgrbXz"
      },
      "source": [
        "### Step 5 Part 5 Section A: DSWx-HLS Very Steep Slope"
      ]
    },
    {
      "cell_type": "code",
      "execution_count": null,
      "metadata": {
        "colab": {
          "background_save": true
        },
        "id": "kQWWLpVf2F7p"
      },
      "outputs": [],
      "source": [
        "# HYDRAFloods Very Shallow Slope Accuracy\n",
        "dswxhls_vsteepsl_acc = confusion_matrix_reporter(dswxhls_sws, 'dswxhls_water', '', product_description = 'DSWx-HLS',\\\n",
        "                                                   slope_description='Very Steep',lc_description='All',elevation_description='All', region_description=event_desc,\\\n",
        "                                                   stat_description='Overall Accuracy', filter_prop = 'slope_class', filter_value = 4)\n",
        "\n",
        "dswxhls_vsteepsl_prec = confusion_matrix_reporter(dswxhls_sws, 'dswxhls_water', 'HYDRAFloods Very Shallow Slope', product_description = 'DSWx-HLS',\\\n",
        "                                                   slope_description='Very Steep',lc_description='All',elevation_description='All', region_description=event_desc,\\\n",
        "                                                   stat_description='Precision', filter_prop = 'slope_class', filter_value = 4)\n",
        "\n",
        "dswxhls_vsteepsl_rec = confusion_matrix_reporter(dswxhls_sws, 'dswxhls_water', 'HYDRAFloods Very Shallow Slope', product_description = 'DSWx-HLS',\\\n",
        "                                                   slope_description='Very Steep',lc_description='All',elevation_description='All', region_description=event_desc,\\\n",
        "                                                   stat_description='Recall', filter_prop = 'slope_class', filter_value = 4)\n",
        "\n",
        "dswxhls_vsteepsl_f1 = confusion_matrix_reporter(dswxhls_sws, 'dswxhls_water', 'HYDRAFloods Very Shallow Slope', product_description = 'DSWx-HLS',\\\n",
        "                                                   slope_description='Very Steep',lc_description='All',elevation_description='All', region_description=event_desc,\\\n",
        "                                                   stat_description='F1 Score', filter_prop = 'slope_class', filter_value = 4)\n",
        "\n",
        "dswxhls_vsteepsl_nmcc = confusion_matrix_reporter(dswxhls_sws, 'dswxhls_water', 'HYDRAFloods Very Shallow Slope', product_description = 'DSWx-HLS',\\\n",
        "                                                   slope_description='Very Steep',lc_description='All',elevation_description='All', region_description=event_desc,\\\n",
        "                                                   stat_description='NMCC', filter_prop = 'slope_class', filter_value = 4)"
      ]
    },
    {
      "cell_type": "markdown",
      "metadata": {
        "id": "k66yUJlLrmjm"
      },
      "source": [
        "### Step 5 Part 5 Section B DSWx-S1 Very Steep Slope"
      ]
    },
    {
      "cell_type": "code",
      "execution_count": null,
      "metadata": {
        "colab": {
          "background_save": true
        },
        "id": "5XV9WXAI3NUJ"
      },
      "outputs": [],
      "source": [
        "\n",
        "dswxs1_vsteepsl_acc = confusion_matrix_reporter(dswxs1_sws, 'dswxs1_water', 'HYDRAFloods Very Shallow Slope', product_description = 'DSWx-S1',\\\n",
        "                                                   slope_description='Very Steep',lc_description='All',elevation_description='All', region_description=event_desc,\\\n",
        "                                                   stat_description='Overall Accuracy', filter_prop = 'slope_class', filter_value = 4)\n",
        "\n",
        "dswxs1_vsteepsl_prec = confusion_matrix_reporter(dswxs1_sws, 'dswxs1_water', 'HYDRAFloods Very Shallow Slope', product_description = 'DSWx-S1',\\\n",
        "                                                   slope_description='Very Steep',lc_description='All',elevation_description='All', region_description=event_desc,\\\n",
        "                                                   stat_description='Precision', filter_prop = 'slope_class', filter_value = 4)\n",
        "\n",
        "dswxs1_vsteepsl_rec = confusion_matrix_reporter(dswxs1_sws, 'dswxs1_water', 'HYDRAFloods Very Shallow Slope', product_description = 'DSWx-S1',\\\n",
        "                                                   slope_description='Very Steep',lc_description='All',elevation_description='All', region_description=event_desc,\\\n",
        "                                                   stat_description='Recall', filter_prop = 'slope_class', filter_value = 4)\n",
        "\n",
        "dswxs1_vsteepsl_f1 = confusion_matrix_reporter(dswxs1_sws, 'dswxs1_water', 'HYDRAFloods Very Shallow Slope', product_description = 'DSWx-S1',\\\n",
        "                                                   slope_description='Very Steep',lc_description='All',elevation_description='All', region_description=event_desc,\\\n",
        "                                                   stat_description='F1 Score', filter_prop = 'slope_class', filter_value = 4)\n",
        "\n",
        "dswxs1_vsteepsl_nmcc = confusion_matrix_reporter(dswxs1_sws, 'dswxs1_water', 'HYDRAFloods Very Shallow Slope', product_description = 'DSWx-S1',\\\n",
        "                                                   slope_description='Very Steep',lc_description='All',elevation_description='All', region_description=event_desc,\\\n",
        "                                                   stat_description='NMCC', filter_prop = 'slope_class', filter_value = 4)"
      ]
    },
    {
      "cell_type": "markdown",
      "metadata": {
        "id": "CjpaT88HrpPC"
      },
      "source": [
        "### Step 5 Part 5 Section C: GFM Very Steep Slope"
      ]
    },
    {
      "cell_type": "code",
      "execution_count": null,
      "metadata": {
        "colab": {
          "background_save": true
        },
        "id": "WBOJ9fqQ4Xbd"
      },
      "outputs": [],
      "source": [
        "# HYDRAFloods Very Shallow Slope Accuracy\n",
        "gfm_vsteepsl_acc = confusion_matrix_reporter(gfm_sws, 'gfm_water', 'GFM Very Shallow Slope', product_description = 'GFM',\\\n",
        "                                                   slope_description='Very Steep',lc_description='All',elevation_description='All', region_description=event_desc,\\\n",
        "                                                   stat_description='Overall Accuracy', filter_prop = 'slope_class', filter_value = 4)\n",
        "\n",
        "gfm_vsteepsl_prec = confusion_matrix_reporter(gfm_sws, 'gfm_water', 'GFM Very Shallow Slope', product_description = 'GFM',\\\n",
        "                                                   slope_description='Very Steep',lc_description='All',elevation_description='All', region_description=event_desc,\\\n",
        "                                                   stat_description='Precision', filter_prop = 'slope_class', filter_value = 4)\n",
        "\n",
        "gfm_vsteepsl_rec = confusion_matrix_reporter(gfm_sws, 'gfm_water', 'GFM Very Shallow Slope', product_description = 'GFM',\\\n",
        "                                                   slope_description='Very Steep',lc_description='All',elevation_description='All', region_description=event_desc,\\\n",
        "                                                   stat_description='Recall', filter_prop = 'slope_class', filter_value = 4)\n",
        "\n",
        "gfm_vsteepsl_f1 = confusion_matrix_reporter(gfm_sws, 'gfm_water', 'GFM Very Shallow Slope', product_description = 'GFM',\\\n",
        "                                                   slope_description='Very Steep',lc_description='All',elevation_description='All', region_description=event_desc,\\\n",
        "                                                   stat_description='F1 Score', filter_prop = 'slope_class', filter_value = 4)\n",
        "\n",
        "gfm_vsteepsl_nmcc = confusion_matrix_reporter(gfm_sws, 'gfm_water', 'GFM Very Shallow Slope', product_description = 'GFM',\\\n",
        "                                                   slope_description='Very Steep',lc_description='All',elevation_description='All', region_description=event_desc,\\\n",
        "                                                   stat_description='NMCC', filter_prop = 'slope_class', filter_value = 4)"
      ]
    },
    {
      "cell_type": "markdown",
      "metadata": {
        "id": "tuBlBTHMrq9E"
      },
      "source": [
        "### Step 5 Part 5 Section D: HYDRAFloods Very Steep Slope"
      ]
    },
    {
      "cell_type": "code",
      "execution_count": null,
      "metadata": {
        "colab": {
          "background_save": true
        },
        "id": "8oiAzalv4z5v"
      },
      "outputs": [],
      "source": [
        "# HYDRAFloods Very Shallow Slope Accuracy\n",
        "hydrafloods_vsteepsl_acc = confusion_matrix_reporter(hf_sws, 'hydrafloods_water', 'HYDRAFloods Very Shallow Slope', product_description = 'HYDRAFloods',\\\n",
        "                                                   slope_description='Very Steep',lc_description='All',elevation_description='All', region_description=event_desc,\\\n",
        "                                                   stat_description='Overall Accuracy', filter_prop = 'slope_class', filter_value = 4)\n",
        "\n",
        "hydrafloods_vsteepsl_prec = confusion_matrix_reporter(hf_sws, 'hydrafloods_water', 'HYDRAFloods Very Shallow Slope', product_description = 'HYDRAFloods',\\\n",
        "                                                     slope_description='Very Steep',lc_description='All',elevation_description='All', region_description=event_desc,\\\n",
        "                                                   stat_description='Precision', filter_prop = 'slope_class', filter_value = 4)\n",
        "\n",
        "hydrafloods_vsteepsl_rec = confusion_matrix_reporter(hf_sws, 'hydrafloods_water', 'HYDRAFloods Very Shallow Slope', product_description = 'HYDRAFloods',\\\n",
        "                                                     slope_description='Very Steep',lc_description='All',elevation_description='All', region_description=event_desc,\\\n",
        "                                                   stat_description='Recall', filter_prop = 'slope_class', filter_value = 4)\n",
        "\n",
        "hydrafloods_vsteepsl_f1 = confusion_matrix_reporter(hf_sws, 'hydrafloods_water', 'HYDRAFloods Very Shallow Slope', product_description = 'HYDRAFloods',\\\n",
        "                                                     slope_description='Very Steep',lc_description='All',elevation_description='All', region_description=event_desc,\\\n",
        "                                                   stat_description='F1 Score', filter_prop = 'slope_class', filter_value = 4)\n",
        "\n",
        "hydrafloods_vsteepsl_nmcc = confusion_matrix_reporter(hf_sws, 'hydrafloods_water', 'HYDRAFloods Very Shallow Slope', product_description = 'HYDRAFloods',\\\n",
        "                                                     slope_description='Very Steep',lc_description='All',elevation_description='All', region_description=event_desc,\\\n",
        "                                                   stat_description='NMCC', filter_prop = 'slope_class', filter_value = 4)"
      ]
    },
    {
      "cell_type": "markdown",
      "metadata": {
        "id": "91-CA6J0rtc8"
      },
      "source": [
        "### Step 5 Part 5 Section E: HYDROSAR Very Steep Slope"
      ]
    },
    {
      "cell_type": "code",
      "execution_count": null,
      "metadata": {
        "colab": {
          "background_save": true
        },
        "id": "sE402Anq5EkT"
      },
      "outputs": [],
      "source": [
        "# HYDROSAR Very Shallow Slope Accuracy\n",
        "hydrosar_vsteepsl_acc = confusion_matrix_reporter(hydrosar_sws, 'hydrosar_water', '', product_description = 'HYDROSAR',\\\n",
        "                                                   slope_description='Very Steep',lc_description='All',elevation_description='All', region_description=event_desc,\\\n",
        "                                                   stat_description='Overall Accuracy', filter_prop = 'slope_class', filter_value = 4)\n",
        "\n",
        "hydrosar_vsteepsl_prec = confusion_matrix_reporter(hydrosar_sws, 'hydrosar_water', '', product_description = 'HYDROSAR',\\\n",
        "                                                   slope_description='Very Steep',lc_description='All',elevation_description='All', region_description=event_desc,\\\n",
        "                                                   stat_description='Precision', filter_prop = 'slope_class', filter_value = 4)\n",
        "\n",
        "hydrosar_vsteepsl_rec = confusion_matrix_reporter(hydrosar_sws, 'hydrosar_water', '', product_description = 'HYDROSAR',\\\n",
        "                                                   slope_description='Very Steep',lc_description='All',elevation_description='All', region_description=event_desc,\\\n",
        "                                                   stat_description='Recall', filter_prop = 'slope_class', filter_value = 4)\n",
        "\n",
        "hydrosar_vsteepsl_f1 = confusion_matrix_reporter(hydrosar_sws, 'hydrosar_water', '', product_description = 'HYDROSAR',\\\n",
        "                                                   slope_description='Very Steep',lc_description='All',elevation_description='All', region_description=event_desc,\\\n",
        "                                                   stat_description='F1 Score', filter_prop = 'slope_class', filter_value = 4)\n",
        "\n",
        "hydrosar_vsteepsl_nmcc = confusion_matrix_reporter(hydrosar_sws, 'hydrosar_water', '', product_description = 'HYDROSAR',\\\n",
        "                                                   slope_description='Very Steep',lc_description='All',elevation_description='All', region_description=event_desc,\\\n",
        "                                                   stat_description='NMCC', filter_prop = 'slope_class', filter_value = 4)"
      ]
    },
    {
      "cell_type": "markdown",
      "metadata": {
        "id": "UETl13tmrxUx"
      },
      "source": [
        "### Step 5 Part 5 Section F: MCDWD Very Steep Slope"
      ]
    },
    {
      "cell_type": "code",
      "execution_count": null,
      "metadata": {
        "colab": {
          "background_save": true
        },
        "id": "10oS9QVJ5oG8"
      },
      "outputs": [],
      "source": [
        "mcdwd_vsteepsl_acc = confusion_matrix_reporter(mcdwd_sws, 'mcdwd_water', '', product_description = 'MCDWD',\\\n",
        "                                                   slope_description='Very Steep',lc_description='All',elevation_description='All', region_description=event_desc,\\\n",
        "                                                   stat_description='Overall Accuracy', filter_prop = 'slope_class', filter_value = 4)\n",
        "\n",
        "mcdwd_vsteepsl_prec = confusion_matrix_reporter(mcdwd_sws, 'mcdwd_water', '', product_description = 'MCDWD',\\\n",
        "                                                   slope_description='Very Steep',lc_description='All',elevation_description='All', region_description=event_desc,\\\n",
        "                                                   stat_description='Precision', filter_prop = 'slope_class', filter_value = 4)\n",
        "\n",
        "mcdwd_vsteepsl_rec = confusion_matrix_reporter(mcdwd_sws, 'mcdwd_water', '', product_description = 'MCDWD',\\\n",
        "                                                   slope_description='Very Steep',lc_description='All',elevation_description='All', region_description=event_desc,\\\n",
        "                                                   stat_description='Recall', filter_prop = 'slope_class', filter_value = 4)\n",
        "\n",
        "mcdwd_vsteepsl_f1 = confusion_matrix_reporter(mcdwd_sws, 'mcdwd_water', '', product_description = 'MCDWD',\\\n",
        "                                                   slope_description='Very Steep',lc_description='All',elevation_description='All', region_description=event_desc,\\\n",
        "                                                   stat_description='F1 Score', filter_prop = 'slope_class', filter_value = 4)\n",
        "\n",
        "mcdwd_vsteepsl_nmcc = confusion_matrix_reporter(mcdwd_sws, 'mcdwd_water', '', product_description = 'MCDWD',\\\n",
        "                                                   slope_description='Very Steep',lc_description='All',elevation_description='All', region_description=event_desc,\\\n",
        "                                                   stat_description='NMCC', filter_prop = 'slope_class', filter_value = 4)"
      ]
    },
    {
      "cell_type": "markdown",
      "metadata": {
        "id": "XnC6NKhxr1Zu"
      },
      "source": [
        "### Step 5 Part 5 Section G: VFM Very Steep Slope"
      ]
    },
    {
      "cell_type": "code",
      "execution_count": null,
      "metadata": {
        "colab": {
          "background_save": true
        },
        "id": "lwauR3Y-6Cuc"
      },
      "outputs": [],
      "source": [
        "vfm_vsteepsl_acc = confusion_matrix_reporter(vfm_sws, 'vfm_water', '', product_description = 'VFM',\\\n",
        "                                                   slope_description='Very Steep',lc_description='All',elevation_description='All', region_description=event_desc,\\\n",
        "                                                   stat_description='Overall Accuracy', filter_prop = 'slope_class', filter_value = 4)\n",
        "\n",
        "vfm_vsteepsl_prec = confusion_matrix_reporter(vfm_sws, 'vfm_water', '', product_description = 'VFM',\\\n",
        "                                                   slope_description='Very Steep',lc_description='All',elevation_description='All', region_description=event_desc,\\\n",
        "                                                   stat_description='Precision', filter_prop = 'slope_class', filter_value = 4)\n",
        "\n",
        "vfm_vsteepsl_rec = confusion_matrix_reporter(vfm_sws, 'vfm_water', '', product_description = 'VFM',\\\n",
        "                                                   slope_description='Very Steep',lc_description='All',elevation_description='All', region_description=event_desc,\\\n",
        "                                                   stat_description='Recall', filter_prop = 'slope_class', filter_value = 4)\n",
        "\n",
        "vfm_vsteepsl_f1 = confusion_matrix_reporter(vfm_sws, 'vfm_water', '', product_description = 'VFM',\\\n",
        "                                                   slope_description='Very Steep',lc_description='All',elevation_description='All', region_description=event_desc,\\\n",
        "                                                   stat_description='F1 Score', filter_prop = 'slope_class', filter_value = 4)\n",
        "\n",
        "vfm_vsteepsl_nmcc = confusion_matrix_reporter(vfm_sws, 'vfm_water', '', product_description = 'VFM',\\\n",
        "                                                   slope_description='Very Steep',lc_description='All',elevation_description='All', region_description=event_desc,\\\n",
        "                                                   stat_description='NMCC', filter_prop = 'slope_class', filter_value = 4)"
      ]
    },
    {
      "cell_type": "markdown",
      "metadata": {
        "id": "lRA5zQZf-4M_"
      },
      "source": [
        "# Step 6: Land Cover"
      ]
    },
    {
      "cell_type": "markdown",
      "metadata": {
        "id": "HRTvcPbUEv9c"
      },
      "source": [
        "Now, let's use the .sampleRegions() region to add the landcover information to the map."
      ]
    },
    {
      "cell_type": "code",
      "execution_count": null,
      "metadata": {
        "colab": {
          "background_save": true
        },
        "id": "JgmWxd2HEvfh"
      },
      "outputs": [],
      "source": [
        "# Date at which the flood event starts\n",
        "#doi = \"2023-06-16\"\n",
        "\n",
        "# Get the date from a week prior\n",
        "#week = ee.Date(doi).advance(-1, 'week')\n",
        "\n",
        "# Get the date from six months prior\n",
        "#month6 = ee.Date(doi).advance(-6, 'month')\n",
        "\n",
        "szn = ee.Date(doi).advance(-3, 'month')\n",
        "\n",
        "dw = ee.ImageCollection(\"GOOGLE/DYNAMICWORLD/V1\")\n",
        "\n",
        "#dw_filt = dw.filterBounds(aoi).filterDate(week, doi)\n",
        "\n",
        "# Filter the Dynamic World Image Collection to the area of interest and to the time period from 6 months before the flood event starts\n",
        "#dw_filt_6 = dw.filterBounds(aoi).filterDate(month6, doi)\n",
        "\n",
        "# Filter the Dynamic World Image to the beginning of the prior season\n",
        "dw_filt_seasonal = dw.filterBounds(aoi).filterDate(szn, doi).select(['label'])\n",
        "\n",
        "# Apply a temporal median reducer at each pixel to dw_filt_6\n",
        "#dw_redux_6 = dw_filt_6.mode()\n",
        "\n",
        "dw_redux_sznl = dw_filt_seasonal.mode()\n",
        "\n",
        "dw_discrete_sznl = dw_redux_sznl.clip(aoi)"
      ]
    },
    {
      "cell_type": "code",
      "execution_count": null,
      "metadata": {
        "colab": {
          "background_save": true
        },
        "id": "rTTHHcz8vLzp"
      },
      "outputs": [],
      "source": []
    },
    {
      "cell_type": "code",
      "execution_count": null,
      "metadata": {
        "colab": {
          "background_save": true
        },
        "id": "HITvSQ0sE-zx"
      },
      "outputs": [],
      "source": [
        "dw_discrete_sznl.bandNames()"
      ]
    },
    {
      "cell_type": "code",
      "execution_count": null,
      "metadata": {
        "colab": {
          "background_save": true
        },
        "id": "cz4nT2E5hazz"
      },
      "outputs": [],
      "source": [
        "dw_renamed = dw_discrete_sznl.rename([\"land_cover\"])"
      ]
    },
    {
      "cell_type": "code",
      "execution_count": null,
      "metadata": {
        "colab": {
          "background_save": true
        },
        "id": "OQKBPb4WvN2h"
      },
      "outputs": [],
      "source": [
        "dw_renamed.projection().nominalScale().getInfo()"
      ]
    },
    {
      "cell_type": "markdown",
      "metadata": {
        "id": "Vc3y4XP2v3ER"
      },
      "source": [
        "my_proj_string, my_scale"
      ]
    },
    {
      "cell_type": "markdown",
      "metadata": {
        "id": "zmvBkbOtq5OA"
      },
      "source": [
        "## Step 6 Part 2: Land Cover with High Confidence Points"
      ]
    },
    {
      "cell_type": "code",
      "execution_count": null,
      "metadata": {
        "colab": {
          "background_save": true
        },
        "id": "SqyoMPDLrARI"
      },
      "outputs": [],
      "source": [
        "# HYDRAFloods sampled with Slope\n",
        "hf_swlc = dw_renamed.sampleRegions(hf_sampled_highconf, projection = my_proj_string,\n",
        "                                            scale=my_scale, geometries = True)\n",
        "\n",
        "# Hydrosar sampled with Land Cover\n",
        "hydrosar_swlc = dw_renamed.sampleRegions(hs_sampled_highconf, projection = my_proj_string,\n",
        "                                            scale=my_scale, geometries = True)\n",
        "\n",
        "# GFM sampled with land cover\n",
        "gfm_swlc = dw_renamed.sampleRegions(gfm_sampled_highconf, projection = my_proj_string,\n",
        "                                            scale=my_scale, geometries = True)\n",
        "\n",
        "# DSWx-HLS Sampled with Land Cover\n",
        "dswxhls_swlc = dw_renamed.sampleRegions(dswxhls_sampled_highconf, projection = my_proj_string,\n",
        "                                            scale=my_scale, geometries = True)\n",
        "\n",
        "# DSWx-S1 sampled with land cover\n",
        "dswxs1_swlc = dw_renamed.sampleRegions(dswxs1_sampled_highconf, projection = my_proj_string,\n",
        "                                            scale=my_scale, geometries = True)\n",
        "\n",
        "# VFM sampled with land cover\n",
        "vfm_swlc = dw_renamed.sampleRegions(vfm_sampled_highconf, projection = my_proj_string,\n",
        "                                            scale=my_scale, geometries = True)\n",
        "\n",
        "# MCDWD sampled with land cover\n",
        "mcdwd_swlc = dw_renamed.sampleRegions(mcdwd_sampled_highconf, projection = my_proj_string,\n",
        "                                            scale=my_scale, geometries = True)"
      ]
    },
    {
      "cell_type": "code",
      "execution_count": null,
      "metadata": {
        "colab": {
          "background_save": true
        },
        "id": "4iLpvOUN6tk2"
      },
      "outputs": [],
      "source": [
        "n_cropland = 0\n",
        "n_built = 0\n",
        "n_bare = 0\n",
        "\n",
        "landcover_listed = hf_swlc.toList(hf_swlc.size().getInfo()).getInfo()\n",
        "\n"
      ]
    },
    {
      "cell_type": "code",
      "execution_count": null,
      "metadata": {
        "colab": {
          "background_save": true
        },
        "id": "DORweAVC7dbO"
      },
      "outputs": [],
      "source": [
        "for r in range(len(landcover_listed)):\n",
        "  lc_feat = landcover_listed[r]['properties']\n",
        "  lc_class = lc_feat['land_cover']\n",
        "  if lc_class == 4:\n",
        "    n_cropland += 1\n",
        "  elif lc_class == 6:\n",
        "    n_built += 1\n",
        "  elif lc_class == 7:\n",
        "    n_bare += 1\n",
        "\n",
        "print(\"For the {} flood event, there are {} cropland points\".format(event_desc, n_cropland))\n",
        "\n",
        "print(\"For the {} flood event, there are {} built/urban points\".format(event_desc, n_built))\n",
        "\n",
        "print(\"For the {} flood event, there are {} bare ground points\".format(event_desc, n_bare))"
      ]
    },
    {
      "cell_type": "markdown",
      "metadata": {
        "id": "Jv-weN26sFtz"
      },
      "source": [
        "## Step 6 Part 2: Cropland"
      ]
    },
    {
      "cell_type": "markdown",
      "metadata": {
        "id": "KNt5psL6sSJu"
      },
      "source": [
        "### Step 6 Part 2 Section A: DSWX-HLS Cropland"
      ]
    },
    {
      "cell_type": "code",
      "execution_count": null,
      "metadata": {
        "colab": {
          "background_save": true
        },
        "id": "tVmSgHuI6bZK"
      },
      "outputs": [],
      "source": [
        "# HYDRAFloods Very Shallow Slope Accuracy\n",
        "dswxhls_crop_acc = confusion_matrix_reporter(dswxhls_swlc, 'dswxhls_water', '', product_description = 'DSWx-HLS',\\\n",
        "                                                   slope_description='All',lc_description='Cropland',elevation_description='All', region_description=event_desc,\\\n",
        "                                                   stat_description='Overall Accuracy', filter_prop = 'land_cover', filter_value = 4)\n",
        "\n",
        "dswxhls_crop_prec = confusion_matrix_reporter(dswxhls_swlc, 'dswxhls_water', '', product_description='DSWx-HLS',\\\n",
        "                                                   slope_description='All',lc_description='Cropland',elevation_description='All', region_description=event_desc,\\\n",
        "                                              stat_description='Precision', filter_prop = 'land_cover', filter_value = 4)\n",
        "\n",
        "dswxhls_crop_rec = confusion_matrix_reporter(dswxhls_swlc, 'dswxhls_water', '', product_description='DSWx-HLS',\\\n",
        "                                                   slope_description='All',lc_description='Cropland',elevation_description='All', region_description=event_desc,\\\n",
        "                                              stat_description='Recall', filter_prop = 'land_cover', filter_value = 4)\n",
        "\n",
        "dswxhls_crop_f1 = confusion_matrix_reporter(dswxhls_swlc, 'dswxhls_water', '', product_description='DSWx-HLS',\\\n",
        "                                                   slope_description='All',lc_description='Cropland',elevation_description='All', region_description=event_desc,\\\n",
        "                                              stat_description='F1 Score', filter_prop = 'land_cover', filter_value = 4)\n",
        "\n",
        "dswxhls_crop_nmcc = confusion_matrix_reporter(dswxhls_swlc, 'dswxhls_water', '', product_description='DSWx-HLS',\\\n",
        "                                                   slope_description='All',lc_description='Cropland',elevation_description='All', region_description=event_desc,\\\n",
        "                                              stat_description='NMCC', filter_prop = 'land_cover', filter_value = 4)"
      ]
    },
    {
      "cell_type": "markdown",
      "metadata": {
        "id": "zcRSZDgasXxB"
      },
      "source": [
        "### Step 6 Part 2 Section B: DSWX-S1 Cropland"
      ]
    },
    {
      "cell_type": "code",
      "execution_count": null,
      "metadata": {
        "colab": {
          "background_save": true
        },
        "id": "nCyPs1ss8uuY"
      },
      "outputs": [],
      "source": [
        "# HYDRAFloods Very Shallow Slope Accuracy\n",
        "dswxs1_crop_acc = confusion_matrix_reporter(dswxs1_swlc, 'dswxs1_water', '', product_description = 'DSWx-S1',\\\n",
        "                                                   slope_description='All',lc_description='Cropland',elevation_description='All', region_description=event_desc,\\\n",
        "                                                   stat_description='Overall Accuracy', filter_prop = 'land_cover', filter_value = 4)\n",
        "\n",
        "dswxs1_crop_prec = confusion_matrix_reporter(dswxs1_swlc, 'dswxs1_water', '', product_description='DSWx-S1',\\\n",
        "                                                   slope_description='All',lc_description='Cropland',elevation_description='All', region_description=event_desc,\\\n",
        "                                              stat_description='Precision', filter_prop = 'land_cover', filter_value = 4)\n",
        "\n",
        "dswxs1_crop_rec = confusion_matrix_reporter(dswxs1_swlc, 'dswxs1_water', '', product_description='DSWx-S1',\\\n",
        "                                                   slope_description='All',lc_description='Cropland',elevation_description='All', region_description=event_desc,\\\n",
        "                                              stat_description='Recall', filter_prop = 'land_cover', filter_value = 4)\n",
        "\n",
        "dswxs1_crop_f1 = confusion_matrix_reporter(dswxs1_swlc, 'dswxs1_water', '', product_description='DSWx-S1',\\\n",
        "                                                   slope_description='All',lc_description='Cropland',elevation_description='All', region_description=event_desc,\\\n",
        "                                              stat_description='F1 Score', filter_prop = 'land_cover', filter_value = 4)\n",
        "\n",
        "dswxs1_crop_nmcc = confusion_matrix_reporter(dswxs1_swlc, 'dswxs1_water', '', product_description='DSWx-S1',\\\n",
        "                                                   slope_description='All',lc_description='Cropland',elevation_description='All', region_description=event_desc,\\\n",
        "                                              stat_description='NMCC', filter_prop = 'land_cover', filter_value = 4)"
      ]
    },
    {
      "cell_type": "markdown",
      "metadata": {
        "id": "DhbhS8EAsZhX"
      },
      "source": [
        "### Step 6 Part 2 Section C: GFM Cropland"
      ]
    },
    {
      "cell_type": "code",
      "execution_count": null,
      "metadata": {
        "colab": {
          "background_save": true
        },
        "id": "IqUlM2rY8_xc"
      },
      "outputs": [],
      "source": [
        "gfm_crop_acc = confusion_matrix_reporter(gfm_swlc, 'gfm_water', '', product_description = 'GFM',\\\n",
        "                                                   slope_description='All',lc_description='Cropland',elevation_description='All', region_description=event_desc,\\\n",
        "                                                   stat_description='Overall Accuracy', filter_prop = 'land_cover', filter_value = 4)\n",
        "\n",
        "gfm_crop_prec = confusion_matrix_reporter(gfm_swlc, 'gfm_water', '', product_description='GFM',\\\n",
        "                                                   slope_description='All',lc_description='Cropland',elevation_description='All', region_description=event_desc,\\\n",
        "                                              stat_description='Precision', filter_prop = 'land_cover', filter_value = 4)\n",
        "\n",
        "gfm_crop_rec = confusion_matrix_reporter(gfm_swlc, 'gfm_water', '', product_description='GFM',\\\n",
        "                                                   slope_description='All',lc_description='Cropland',elevation_description='All', region_description=event_desc,\\\n",
        "                                              stat_description='Recall', filter_prop = 'land_cover', filter_value = 4)\n",
        "\n",
        "gfm_crop_f1 = confusion_matrix_reporter(gfm_swlc, 'gfm_water', '', product_description='GFM',\\\n",
        "                                                   slope_description='All',lc_description='Cropland',elevation_description='All', region_description=event_desc,\\\n",
        "                                              stat_description='F1 Score', filter_prop = 'land_cover', filter_value = 4)\n",
        "\n",
        "gfm_crop_nmcc = confusion_matrix_reporter(gfm_swlc, 'gfm_water', '', product_description='GFM',\\\n",
        "                                                   slope_description='All',lc_description='Cropland',elevation_description='All', region_description=event_desc,\\\n",
        "                                              stat_description='NMCC', filter_prop = 'land_cover', filter_value = 4)\n"
      ]
    },
    {
      "cell_type": "markdown",
      "metadata": {
        "id": "R2BQo1T3se5d"
      },
      "source": [
        "### Step 6 Part 2 Section D: HYDRAFloods Cropland"
      ]
    },
    {
      "cell_type": "code",
      "execution_count": null,
      "metadata": {
        "colab": {
          "background_save": true
        },
        "id": "OLWVYcFI9Nnj"
      },
      "outputs": [],
      "source": [
        "hydrafloods_crop_acc = confusion_matrix_reporter(hf_swlc, 'hydrafloods_water', '', product_description = 'HYDRAFloods',\\\n",
        "                                                   slope_description='All',lc_description='Cropland',elevation_description='All', region_description=event_desc,\\\n",
        "                                                   stat_description='Overall Accuracy', filter_prop = 'land_cover', filter_value = 4)\n",
        "\n",
        "\n",
        "hydrafloods_crop_prec = confusion_matrix_reporter(hf_swlc, 'hydrafloods_water', '', product_description = 'HYDRAFloods',\\\n",
        "                                                   slope_description='All',lc_description='Cropland',elevation_description='All', region_description=event_desc,\\\n",
        "                                                   stat_description='Precision', filter_prop = 'land_cover', filter_value = 4)\n",
        "\n",
        "hydrafloods_crop_rec = confusion_matrix_reporter(hf_swlc, 'hydrafloods_water', '', product_description = 'HYDRAFloods',\\\n",
        "                                                   slope_description='All',lc_description='Cropland',elevation_description='All', region_description=event_desc,\\\n",
        "                                                   stat_description='Recall', filter_prop = 'land_cover', filter_value = 4)\n",
        "\n",
        "hydrafloods_crop_f1 = confusion_matrix_reporter(hf_swlc, 'hydrafloods_water', '', product_description = 'HYDRAFloods',\\\n",
        "                                                   slope_description='All',lc_description='Cropland',elevation_description='All', region_description=event_desc,\\\n",
        "                                                   stat_description='F1 Score', filter_prop = 'land_cover', filter_value = 4)\n",
        "\n",
        "hydrafloods_crop_nmcc = confusion_matrix_reporter(hf_swlc, 'hydrafloods_water', '', product_description = 'HYDRAFloods',\\\n",
        "                                                   slope_description='All',lc_description='Cropland',elevation_description='All', region_description=event_desc,\\\n",
        "                                                   stat_description='NMCC', filter_prop = 'land_cover', filter_value = 4)"
      ]
    },
    {
      "cell_type": "markdown",
      "metadata": {
        "id": "PqfXAuDZsgoh"
      },
      "source": [
        "### Step 6 Part 2 Section E: HYDROSAR Cropland"
      ]
    },
    {
      "cell_type": "code",
      "execution_count": null,
      "metadata": {
        "colab": {
          "background_save": true
        },
        "id": "-34yWrYO9k2r"
      },
      "outputs": [],
      "source": [
        "hydrosar_crop_acc = confusion_matrix_reporter(hydrosar_swlc, 'hydrosar_water', '', product_description = 'HYDROSAR',\\\n",
        "                                                   slope_description='All',lc_description='Cropland',elevation_description='All', region_description=event_desc,\\\n",
        "                                                   stat_description='Overall Accuracy', filter_prop = 'land_cover', filter_value = 4)\n",
        "\n",
        "hydrosar_crop_prec = confusion_matrix_reporter(hydrosar_swlc, 'hydrosar_water', '', product_description = 'HYDROSAR',\\\n",
        "                                                   slope_description='All',lc_description='Cropland',elevation_description='All', region_description=event_desc,\\\n",
        "                                                   stat_description='Precision', filter_prop = 'land_cover', filter_value = 4)\n",
        "\n",
        "hydrosar_crop_rec = confusion_matrix_reporter(hydrosar_swlc, 'hydrosar_water', '', product_description = 'HYDROSAR',\\\n",
        "                                                   slope_description='All',lc_description='Cropland',elevation_description='All', region_description=event_desc,\\\n",
        "                                                   stat_description='Recall', filter_prop = 'land_cover', filter_value = 4)\n",
        "\n",
        "hydrosar_crop_f1 = confusion_matrix_reporter(hydrosar_swlc, 'hydrosar_water', '', product_description = 'HYDROSAR',\\\n",
        "                                                   slope_description='All',lc_description='Cropland',elevation_description='All', region_description=event_desc,\\\n",
        "                                                   stat_description='F1 Score', filter_prop = 'land_cover', filter_value = 4)\n",
        "\n",
        "hydrosar_crop_nmcc = confusion_matrix_reporter(hydrosar_swlc, 'hydrosar_water', '', product_description = 'HYDROSAR',\\\n",
        "                                                   slope_description='All',lc_description='Cropland',elevation_description='All', region_description=event_desc,\\\n",
        "                                                   stat_description='NMCC', filter_prop = 'land_cover', filter_value = 4)"
      ]
    },
    {
      "cell_type": "markdown",
      "metadata": {
        "id": "F9zrsj5BsiU6"
      },
      "source": [
        "### Step 6 Part 2 Section F: MCDWD Cropland"
      ]
    },
    {
      "cell_type": "code",
      "execution_count": null,
      "metadata": {
        "colab": {
          "background_save": true
        },
        "id": "edH89_3l_NAG"
      },
      "outputs": [],
      "source": [
        "mcdwd_crop_acc = confusion_matrix_reporter(mcdwd_swlc, 'mcdwd_water', '', product_description = 'MCDWD',\\\n",
        "                                                   slope_description='All',lc_description='Cropland',elevation_description='All', region_description=event_desc,\\\n",
        "                                                   stat_description='Overall Accuracy', filter_prop = 'land_cover', filter_value = 4)\n",
        "\n",
        "mcdwd_crop_prec = confusion_matrix_reporter(mcdwd_swlc, 'mcdwd_water', '', product_description = 'MCDWD',\\\n",
        "                                                   slope_description='All',lc_description='Cropland',elevation_description='All', region_description=event_desc,\\\n",
        "                                                   stat_description='Precision', filter_prop = 'land_cover', filter_value = 4)\n",
        "\n",
        "mcdwd_crop_rec = confusion_matrix_reporter(mcdwd_swlc, 'mcdwd_water', '', product_description = 'MCDWD',\\\n",
        "                                                   slope_description='All',lc_description='Cropland',elevation_description='All', region_description=event_desc,\\\n",
        "                                                   stat_description='Recall', filter_prop = 'land_cover', filter_value = 4)\n",
        "\n",
        "mcdwd_crop_f1 = confusion_matrix_reporter(mcdwd_swlc, 'mcdwd_water', '', product_description = 'MCDWD',\\\n",
        "                                                   slope_description='All',lc_description='Cropland',elevation_description='All', region_description=event_desc,\\\n",
        "                                                   stat_description='F1 Score', filter_prop = 'land_cover', filter_value = 4)\n",
        "\n",
        "mcdwd_crop_nmcc = confusion_matrix_reporter(mcdwd_swlc, 'mcdwd_water', '', product_description = 'MCDWD',\\\n",
        "                                                   slope_description='All',lc_description='Cropland',elevation_description='All', region_description=event_desc,\\\n",
        "                                                   stat_description='NMCC', filter_prop = 'land_cover', filter_value = 4)\n"
      ]
    },
    {
      "cell_type": "markdown",
      "metadata": {
        "id": "Q7ZhmmTWsp7s"
      },
      "source": [
        "### Step 6 Part 2 Section G: VFM Cropland"
      ]
    },
    {
      "cell_type": "code",
      "execution_count": null,
      "metadata": {
        "colab": {
          "background_save": true
        },
        "id": "pPr0d7Kd_lpF"
      },
      "outputs": [],
      "source": [
        "vfm_crop_acc = confusion_matrix_reporter(vfm_swlc, 'vfm_water', '', product_description = 'VFM',\\\n",
        "                                                   slope_description='All',lc_description='Cropland',elevation_description='All', region_description=event_desc,\\\n",
        "                                                   stat_description='Overall Accuracy', filter_prop = 'land_cover', filter_value = 4)\n",
        "\n",
        "vfm_crop_prec = confusion_matrix_reporter(vfm_swlc, 'vfm_water', '', product_description = 'VFM',\\\n",
        "                                                   slope_description='All',lc_description='Cropland',elevation_description='All', region_description=event_desc,\\\n",
        "                                                   stat_description='Precision', filter_prop = 'land_cover', filter_value = 4)\n",
        "\n",
        "vfm_crop_rec = confusion_matrix_reporter(vfm_swlc, 'vfm_water', '', product_description = 'VFM',\\\n",
        "                                                   slope_description='All',lc_description='Cropland',elevation_description='All', region_description=event_desc,\\\n",
        "                                                   stat_description='Recall', filter_prop = 'land_cover', filter_value = 4)\n",
        "\n",
        "vfm_crop_f1 = confusion_matrix_reporter(vfm_swlc, 'vfm_water', '', product_description = 'VFM',\\\n",
        "                                                   slope_description='All',lc_description='Cropland',elevation_description='All', region_description=event_desc,\\\n",
        "                                                   stat_description='F1 Score', filter_prop = 'land_cover', filter_value = 4)\n",
        "\n",
        "vfm_crop_nmcc = confusion_matrix_reporter(vfm_swlc, 'vfm_water', '', product_description = 'VFM',\\\n",
        "                                                   slope_description='All',lc_description='Cropland',elevation_description='All', region_description=event_desc,\\\n",
        "                                                   stat_description='NMCC', filter_prop = 'land_cover', filter_value = 4)"
      ]
    },
    {
      "cell_type": "markdown",
      "metadata": {
        "id": "qqO4jnPNsLfm"
      },
      "source": [
        "## Step 6 Part 3: Built"
      ]
    },
    {
      "cell_type": "markdown",
      "metadata": {
        "id": "ULVNv3hj__f5"
      },
      "source": [
        "### Step 6 Part 3 Section A: DSWx-HLS Built"
      ]
    },
    {
      "cell_type": "code",
      "execution_count": null,
      "metadata": {
        "colab": {
          "background_save": true
        },
        "id": "3zF5w6J87onz"
      },
      "outputs": [],
      "source": [
        "# HYDRAFloods Very Shallow Slope Accuracy\n",
        "dswxhls_built_acc = confusion_matrix_reporter(dswxhls_swlc, 'dswxhls_water', '', product_description = 'DSWx-HLS',\\\n",
        "                                                   slope_description='All',lc_description='Built',elevation_description='All', region_description=event_desc,\\\n",
        "                                                   stat_description='Overall Accuracy', filter_prop = 'land_cover', filter_value = 6)\n",
        "\n",
        "dswxhls_built_prec = confusion_matrix_reporter(dswxhls_swlc, 'dswxhls_water', '', product_description='DSWx-HLS',\\\n",
        "                                                   slope_description='All',lc_description='Built',elevation_description='All', region_description=event_desc,\\\n",
        "                                              stat_description='Precision', filter_prop = 'land_cover', filter_value = 6)\n",
        "\n",
        "dswxhls_built_rec = confusion_matrix_reporter(dswxhls_swlc, 'dswxhls_water', '', product_description='DSWx-HLS',\\\n",
        "                                                   slope_description='All',lc_description='Built',elevation_description='All', region_description=event_desc,\\\n",
        "                                              stat_description='Recall', filter_prop = 'land_cover', filter_value = 6)\n",
        "\n",
        "dswxhls_built_f1 = confusion_matrix_reporter(dswxhls_swlc, 'dswxhls_water', '', product_description='DSWx-HLS',\\\n",
        "                                                   slope_description='All',lc_description='Built',elevation_description='All', region_description=event_desc,\\\n",
        "                                              stat_description='F1 Score', filter_prop = 'land_cover', filter_value = 6)\n",
        "\n",
        "dswxhls_built_nmcc = confusion_matrix_reporter(dswxhls_swlc, 'dswxhls_water', '', product_description='DSWx-HLS',\\\n",
        "                                                   slope_description='All',lc_description='Built',elevation_description='All', region_description=event_desc,\\\n",
        "                                              stat_description='NMCC', filter_prop = 'land_cover', filter_value = 6)"
      ]
    },
    {
      "cell_type": "markdown",
      "metadata": {
        "id": "ULTmtVRtAEVY"
      },
      "source": [
        "### Step 6 Part 3 Section B: DSWx-S1 Built"
      ]
    },
    {
      "cell_type": "code",
      "execution_count": null,
      "metadata": {
        "colab": {
          "background_save": true
        },
        "id": "ubTGtiS2BRiv"
      },
      "outputs": [],
      "source": [
        "# HYDRAFloods Very Shallow Slope Accuracy\n",
        "dswxs1_built_acc = confusion_matrix_reporter(dswxs1_swlc, 'dswxs1_water', '', product_description = 'DSWx-S1',\\\n",
        "                                                   slope_description='All',lc_description='Built',elevation_description='All', region_description=event_desc,\\\n",
        "                                                   stat_description='Overall Accuracy', filter_prop = 'land_cover', filter_value = 6)\n",
        "\n",
        "dswxs1_built_prec = confusion_matrix_reporter(dswxs1_swlc, 'dswxs1_water', '', product_description='DSWx-S1',\\\n",
        "                                                   slope_description='All',lc_description='Built',elevation_description='All', region_description=event_desc,\\\n",
        "                                              stat_description='Precision', filter_prop = 'land_cover', filter_value = 6)\n",
        "\n",
        "dswxs1_built_rec = confusion_matrix_reporter(dswxs1_swlc, 'dswxs1_water', '', product_description='DSWx-S1',\\\n",
        "                                                   slope_description='All',lc_description='Built',elevation_description='All', region_description=event_desc,\\\n",
        "                                              stat_description='Recall', filter_prop = 'land_cover', filter_value = 6)\n",
        "\n",
        "dswxs1_built_f1 = confusion_matrix_reporter(dswxs1_swlc, 'dswxs1_water', '', product_description='DSWx-S1',\\\n",
        "                                                   slope_description='All',lc_description='Built',elevation_description='All', region_description=event_desc,\\\n",
        "                                              stat_description='F1 Score', filter_prop = 'land_cover', filter_value = 6)\n",
        "\n",
        "dswxs1_built_nmcc = confusion_matrix_reporter(dswxs1_swlc, 'dswxs1_water', '', product_description='DSWx-S1',\\\n",
        "                                                   slope_description='All',lc_description='Built',elevation_description='All', region_description=event_desc,\\\n",
        "                                              stat_description='NMCC', filter_prop = 'land_cover', filter_value = 6)"
      ]
    },
    {
      "cell_type": "markdown",
      "metadata": {
        "id": "QQ8rvWNVAIM6"
      },
      "source": [
        "### Step 6 Part 3 Section C: GFM Built"
      ]
    },
    {
      "cell_type": "code",
      "execution_count": null,
      "metadata": {
        "colab": {
          "background_save": true
        },
        "id": "WtiBOTucBqJu"
      },
      "outputs": [],
      "source": [
        "gfm_built_acc = confusion_matrix_reporter(gfm_swlc, 'gfm_water', '', product_description = 'GFM',\\\n",
        "                                                   slope_description='All',lc_description='Built',elevation_description='All', region_description=event_desc,\\\n",
        "                                                   stat_description='Overall Accuracy', filter_prop = 'land_cover', filter_value = 6)\n",
        "\n",
        "gfm_built_prec = confusion_matrix_reporter(gfm_swlc, 'gfm_water', '', product_description='GFM',\\\n",
        "                                                   slope_description='All',lc_description='Built',elevation_description='All', region_description=event_desc,\\\n",
        "                                              stat_description='Precision', filter_prop = 'land_cover', filter_value = 6)\n",
        "\n",
        "gfm_built_rec = confusion_matrix_reporter(gfm_swlc, 'gfm_water', '', product_description='GFM',\\\n",
        "                                                   slope_description='All',lc_description='Built',elevation_description='All', region_description=event_desc,\\\n",
        "                                              stat_description='Recall', filter_prop = 'land_cover', filter_value = 6)\n",
        "\n",
        "gfm_built_f1 = confusion_matrix_reporter(gfm_swlc, 'gfm_water', '', product_description='GFM',\\\n",
        "                                                   slope_description='All',lc_description='Built',elevation_description='All', region_description=event_desc,\\\n",
        "                                              stat_description='F1 Score', filter_prop = 'land_cover', filter_value = 6)\n",
        "\n",
        "gfm_built_nmcc = confusion_matrix_reporter(gfm_swlc, 'gfm_water', '', product_description='GFM',\\\n",
        "                                                   slope_description='All',lc_description='Built',elevation_description='All', region_description=event_desc,\\\n",
        "                                              stat_description='NMCC', filter_prop = 'land_cover', filter_value = 6)"
      ]
    },
    {
      "cell_type": "markdown",
      "metadata": {
        "id": "DGCS_Xx5AKZL"
      },
      "source": [
        "### Step 6 Part 3 Section D: HYDRAFloods Built"
      ]
    },
    {
      "cell_type": "code",
      "execution_count": null,
      "metadata": {
        "colab": {
          "background_save": true
        },
        "id": "q-AYeb5aCEhx"
      },
      "outputs": [],
      "source": [
        "hydrafloods_built_acc = confusion_matrix_reporter(hf_swlc, 'hydrafloods_water', '', product_description = 'HYDRAFloods',\\\n",
        "                                                   slope_description='All',lc_description='Built',elevation_description='All', region_description=event_desc,\\\n",
        "                                                   stat_description='Overall Accuracy', filter_prop = 'land_cover', filter_value = 6)\n",
        "\n",
        "\n",
        "hydrafloods_built_prec = confusion_matrix_reporter(hf_swlc, 'hydrafloods_water', '', product_description = 'HYDRAFloods',\\\n",
        "                                                   slope_description='All',lc_description='Built',elevation_description='All', region_description=event_desc,\\\n",
        "                                                   stat_description='Precision', filter_prop = 'land_cover', filter_value = 6)\n",
        "\n",
        "hydrafloods_built_rec = confusion_matrix_reporter(hf_swlc, 'hydrafloods_water', '', product_description = 'HYDRAFloods',\\\n",
        "                                                   slope_description='All',lc_description='Built',elevation_description='All', region_description=event_desc,\\\n",
        "                                                   stat_description='Recall', filter_prop = 'land_cover', filter_value = 6)\n",
        "\n",
        "hydrafloods_built_f1 = confusion_matrix_reporter(hf_swlc, 'hydrafloods_water', '', product_description = 'HYDRAFloods',\\\n",
        "                                                   slope_description='All',lc_description='Built',elevation_description='All', region_description=event_desc,\\\n",
        "                                                   stat_description='F1 Score', filter_prop = 'land_cover', filter_value = 6)\n",
        "\n",
        "hydrafloods_built_nmcc = confusion_matrix_reporter(hf_swlc, 'hydrafloods_water', '', product_description = 'HYDRAFloods',\\\n",
        "                                                   slope_description='All',lc_description='Built',elevation_description='All', region_description=event_desc,\\\n",
        "                                                   stat_description='NMCC', filter_prop = 'land_cover', filter_value = 6)"
      ]
    },
    {
      "cell_type": "markdown",
      "metadata": {
        "id": "kJiwIKTLAMtD"
      },
      "source": [
        "### Step 6 Part 3 Section E: HYDROSAR Built"
      ]
    },
    {
      "cell_type": "code",
      "execution_count": null,
      "metadata": {
        "colab": {
          "background_save": true
        },
        "id": "VDWM3YpqGdTy"
      },
      "outputs": [],
      "source": [
        "hydrosar_built_acc = confusion_matrix_reporter(hydrosar_swlc, 'hydrosar_water', '', product_description = 'HYDROSAR',\\\n",
        "                                                   slope_description='All',lc_description='Built',elevation_description='All', region_description=event_desc,\\\n",
        "                                                   stat_description='Overall Accuracy', filter_prop = 'land_cover', filter_value = 6)\n",
        "\n",
        "hydrosar_built_prec = confusion_matrix_reporter(hydrosar_swlc, 'hydrosar_water', '', product_description = 'HYDROSAR',\\\n",
        "                                                   slope_description='All',lc_description='Built',elevation_description='All', region_description=event_desc,\\\n",
        "                                                   stat_description='Precision', filter_prop = 'land_cover', filter_value = 6)\n",
        "\n",
        "hydrosar_built_rec = confusion_matrix_reporter(hydrosar_swlc, 'hydrosar_water', '', product_description = 'HYDROSAR',\\\n",
        "                                                   slope_description='All',lc_description='Built',elevation_description='All', region_description=event_desc,\\\n",
        "                                                   stat_description='Recall', filter_prop = 'land_cover', filter_value = 6)\n",
        "\n",
        "hydrosar_built_f1 = confusion_matrix_reporter(hydrosar_swlc, 'hydrosar_water', '', product_description = 'HYDROSAR',\\\n",
        "                                                   slope_description='All',lc_description='Built',elevation_description='All', region_description=event_desc,\\\n",
        "                                                   stat_description='F1 Score', filter_prop = 'land_cover', filter_value = 6)\n",
        "\n",
        "hydrosar_built_nmcc = confusion_matrix_reporter(hydrosar_swlc, 'hydrosar_water', '', product_description = 'HYDROSAR',\\\n",
        "                                                   slope_description='All',lc_description='Built',elevation_description='All', region_description=event_desc,\\\n",
        "                                                   stat_description='NMCC', filter_prop = 'land_cover', filter_value = 6)"
      ]
    },
    {
      "cell_type": "markdown",
      "metadata": {
        "id": "kM92jxfcAPnI"
      },
      "source": [
        "### Step 6 Part 3 Section F: MCDWD Built"
      ]
    },
    {
      "cell_type": "code",
      "execution_count": null,
      "metadata": {
        "colab": {
          "background_save": true
        },
        "id": "qejSixrJGuQg"
      },
      "outputs": [],
      "source": [
        "mcdwd_built_acc = confusion_matrix_reporter(mcdwd_swlc, 'mcdwd_water', '', product_description = 'MCDWD',\\\n",
        "                                                   slope_description='All',lc_description='Built',elevation_description='All', region_description=event_desc,\\\n",
        "                                                   stat_description='Overall Accuracy', filter_prop = 'land_cover', filter_value = 6)\n",
        "\n",
        "mcdwd_built_prec = confusion_matrix_reporter(mcdwd_swlc, 'mcdwd_water', '', product_description = 'MCDWD',\\\n",
        "                                                   slope_description='All',lc_description='Built',elevation_description='All', region_description=event_desc,\\\n",
        "                                                   stat_description='Precision', filter_prop = 'land_cover', filter_value = 6)\n",
        "\n",
        "mcdwd_built_rec = confusion_matrix_reporter(mcdwd_swlc, 'mcdwd_water', '', product_description = 'MCDWD',\\\n",
        "                                                   slope_description='All',lc_description='Built',elevation_description='All', region_description=event_desc,\\\n",
        "                                                   stat_description='Recall', filter_prop = 'land_cover', filter_value = 6)\n",
        "\n",
        "mcdwd_built_f1 = confusion_matrix_reporter(mcdwd_swlc, 'mcdwd_water', '', product_description = 'MCDWD',\\\n",
        "                                                   slope_description='All',lc_description='Built',elevation_description='All', region_description=event_desc,\\\n",
        "                                                   stat_description='F1 Score', filter_prop = 'land_cover', filter_value = 6)\n",
        "\n",
        "mcdwd_built_nmcc = confusion_matrix_reporter(mcdwd_swlc, 'mcdwd_water', '', product_description = 'MCDWD',\\\n",
        "                                                   slope_description='All',lc_description='Built',elevation_description='All', region_description=event_desc,\\\n",
        "                                                   stat_description='NMCC', filter_prop = 'land_cover', filter_value = 6)\n"
      ]
    },
    {
      "cell_type": "markdown",
      "metadata": {
        "id": "intaBNpEARyj"
      },
      "source": [
        "### Step 6 Part 3 Section G: VFM Built"
      ]
    },
    {
      "cell_type": "code",
      "execution_count": null,
      "metadata": {
        "colab": {
          "background_save": true
        },
        "id": "ATi-1l0zG7UD"
      },
      "outputs": [],
      "source": [
        "vfm_built_acc = confusion_matrix_reporter(vfm_swlc, 'vfm_water', '', product_description = 'VFM',\\\n",
        "                                                   slope_description='All',lc_description='Built',elevation_description='All', region_description=event_desc,\\\n",
        "                                                   stat_description='Overall Accuracy', filter_prop = 'land_cover', filter_value = 6)\n",
        "\n",
        "vfm_built_prec = confusion_matrix_reporter(vfm_swlc, 'vfm_water', '', product_description = 'VFM',\\\n",
        "                                                   slope_description='All',lc_description='Built',elevation_description='All', region_description=event_desc,\\\n",
        "                                                   stat_description='Precision', filter_prop = 'land_cover', filter_value = 6)\n",
        "\n",
        "vfm_built_rec = confusion_matrix_reporter(vfm_swlc, 'vfm_water', '', product_description = 'VFM',\\\n",
        "                                                   slope_description='All',lc_description='Built',elevation_description='All', region_description=event_desc,\\\n",
        "                                                   stat_description='Recall', filter_prop = 'land_cover', filter_value = 6)\n",
        "\n",
        "vfm_built_f1 = confusion_matrix_reporter(vfm_swlc, 'vfm_water', '', product_description = 'VFM',\\\n",
        "                                                   slope_description='All',lc_description='Built',elevation_description='All', region_description=event_desc,\\\n",
        "                                                   stat_description='F1 Score', filter_prop = 'land_cover', filter_value = 6)\n",
        "\n",
        "vfm_built_nmcc = confusion_matrix_reporter(vfm_swlc, 'vfm_water', '', product_description = 'VFM',\\\n",
        "                                                   slope_description='All',lc_description='Built',elevation_description='All', region_description=event_desc,\\\n",
        "                                                   stat_description='NMCC', filter_prop = 'land_cover', filter_value = 6)"
      ]
    },
    {
      "cell_type": "markdown",
      "metadata": {
        "id": "RJ9IrkjfsOFk"
      },
      "source": [
        "## Step 6 Part 4: Bare Ground"
      ]
    },
    {
      "cell_type": "markdown",
      "metadata": {
        "id": "RxEZd2bSAT2M"
      },
      "source": [
        "### Step 6 Part 4 Section A: DSWx-HLS Bare Ground"
      ]
    },
    {
      "cell_type": "code",
      "execution_count": null,
      "metadata": {
        "colab": {
          "background_save": true
        },
        "id": "cwxJ-Y6cHkw9"
      },
      "outputs": [],
      "source": [
        "# HYDRAFloods Very Shallow Slope Accuracy\n",
        "dswxhls_bare_acc = confusion_matrix_reporter(dswxhls_swlc, 'dswxhls_water', '', product_description = 'DSWx-HLS',\\\n",
        "                                                   slope_description='All',lc_description='Bare',elevation_description='All', region_description=event_desc,\\\n",
        "                                                   stat_description='Overall Accuracy', filter_prop = 'land_cover', filter_value = 7)\n",
        "\n",
        "dswxhls_bare_prec = confusion_matrix_reporter(dswxhls_swlc, 'dswxhls_water', '', product_description='DSWx-HLS',\\\n",
        "                                                   slope_description='All',lc_description='Bare',elevation_description='All', region_description=event_desc,\\\n",
        "                                              stat_description='Precision', filter_prop = 'land_cover', filter_value = 7)\n",
        "\n",
        "dswxhls_bare_rec = confusion_matrix_reporter(dswxhls_swlc, 'dswxhls_water', '', product_description='DSWx-HLS',\\\n",
        "                                                   slope_description='All',lc_description='Bare',elevation_description='All', region_description=event_desc,\\\n",
        "                                              stat_description='Recall', filter_prop = 'land_cover', filter_value = 7)\n",
        "\n",
        "dswxhls_bare_f1 = confusion_matrix_reporter(dswxhls_swlc, 'dswxhls_water', '', product_description='DSWx-HLS',\\\n",
        "                                                   slope_description='All',lc_description='Bare',elevation_description='All', region_description=event_desc,\\\n",
        "                                              stat_description='F1 Score', filter_prop = 'land_cover', filter_value = 7)\n",
        "\n",
        "dswxhls_bare_nmcc = confusion_matrix_reporter(dswxhls_swlc, 'dswxhls_water', '', product_description='DSWx-HLS',\\\n",
        "                                                   slope_description='All',lc_description='Bare',elevation_description='All', region_description=event_desc,\\\n",
        "                                              stat_description='NMCC', filter_prop = 'land_cover', filter_value = 7)"
      ]
    },
    {
      "cell_type": "markdown",
      "metadata": {
        "id": "uBN6HakAAYPD"
      },
      "source": [
        "### Step 6 Part 4 Section B: DSWx-S1 Bare Ground"
      ]
    },
    {
      "cell_type": "code",
      "execution_count": null,
      "metadata": {
        "colab": {
          "background_save": true
        },
        "id": "lkGa7FRHHyHu"
      },
      "outputs": [],
      "source": [
        "# HYDRAFloods Very Shallow Slope Accuracy\n",
        "dswxs1_bare_acc = confusion_matrix_reporter(dswxs1_swlc, 'dswxs1_water', '', product_description = 'DSWx-S1',\\\n",
        "                                                   slope_description='All',lc_description='Bare',elevation_description='All', region_description=event_desc,\\\n",
        "                                                   stat_description='Overall Accuracy', filter_prop = 'land_cover', filter_value = 7)\n",
        "\n",
        "dswxs1_bare_prec = confusion_matrix_reporter(dswxs1_swlc, 'dswxs1_water', '', product_description='DSWx-S1',\\\n",
        "                                                   slope_description='All',lc_description='Bare',elevation_description='All', region_description=event_desc,\\\n",
        "                                              stat_description='Precision', filter_prop = 'land_cover', filter_value = 7)\n",
        "\n",
        "dswxs1_bare_rec = confusion_matrix_reporter(dswxs1_swlc, 'dswxs1_water', '', product_description='DSWx-S1',\\\n",
        "                                                   slope_description='All',lc_description='Bare',elevation_description='All', region_description=event_desc,\\\n",
        "                                              stat_description='Recall', filter_prop = 'land_cover', filter_value = 7)\n",
        "\n",
        "dswxs1_bare_f1 = confusion_matrix_reporter(dswxs1_swlc, 'dswxs1_water', '', product_description='DSWx-S1',\\\n",
        "                                                   slope_description='All',lc_description='Bare',elevation_description='All', region_description=event_desc,\\\n",
        "                                              stat_description='F1 Score', filter_prop = 'land_cover', filter_value = 7)\n",
        "\n",
        "dswxs1_bare_nmcc = confusion_matrix_reporter(dswxs1_swlc, 'dswxs1_water', '', product_description='DSWx-S1',\\\n",
        "                                                   slope_description='All',lc_description='Bare',elevation_description='All', region_description=event_desc,\\\n",
        "                                              stat_description='NMCC', filter_prop = 'land_cover', filter_value = 7)"
      ]
    },
    {
      "cell_type": "markdown",
      "metadata": {
        "id": "liZfHxOMAape"
      },
      "source": [
        "### Step 6 Part 4 Section C: GFM Bare Ground"
      ]
    },
    {
      "cell_type": "code",
      "execution_count": null,
      "metadata": {
        "colab": {
          "background_save": true
        },
        "id": "pph9EBOdICp_"
      },
      "outputs": [],
      "source": [
        "gfm_bare_acc = confusion_matrix_reporter(gfm_swlc, 'gfm_water', '', product_description = 'GFM',\\\n",
        "                                                   slope_description='All',lc_description='Bare',elevation_description='All', region_description=event_desc,\\\n",
        "                                                   stat_description='Overall Accuracy', filter_prop = 'land_cover', filter_value = 7)\n",
        "\n",
        "gfm_bare_prec = confusion_matrix_reporter(gfm_swlc, 'gfm_water', '', product_description='GFM',\\\n",
        "                                                   slope_description='All',lc_description='Bare',elevation_description='All', region_description=event_desc,\\\n",
        "                                              stat_description='Precision', filter_prop = 'land_cover', filter_value = 7)\n",
        "\n",
        "gfm_bare_rec = confusion_matrix_reporter(gfm_swlc, 'gfm_water', '', product_description='GFM',\\\n",
        "                                                   slope_description='All',lc_description='Bare',elevation_description='All', region_description=event_desc,\\\n",
        "                                              stat_description='Recall', filter_prop = 'land_cover', filter_value = 7)\n",
        "\n",
        "gfm_bare_f1 = confusion_matrix_reporter(gfm_swlc, 'gfm_water', '', product_description='GFM',\\\n",
        "                                                   slope_description='All',lc_description='Bare',elevation_description='All', region_description=event_desc,\\\n",
        "                                              stat_description='F1 Score', filter_prop = 'land_cover', filter_value = 7)\n",
        "\n",
        "gfm_bare_nmcc = confusion_matrix_reporter(gfm_swlc, 'gfm_water', '', product_description='GFM',\\\n",
        "                                                   slope_description='All',lc_description='Bare',elevation_description='All', region_description=event_desc,\\\n",
        "                                              stat_description='NMCC', filter_prop = 'land_cover', filter_value = 7)"
      ]
    },
    {
      "cell_type": "markdown",
      "metadata": {
        "id": "bTpm5hoGAcjE"
      },
      "source": [
        "### Step 6 Part 4 Section D: HYDRAFloods Bare Ground"
      ]
    },
    {
      "cell_type": "code",
      "execution_count": null,
      "metadata": {
        "colab": {
          "background_save": true
        },
        "id": "Ae0nPuC2IlFU"
      },
      "outputs": [],
      "source": [
        "hydrafloods_bare_acc = confusion_matrix_reporter(hf_swlc, 'hydrafloods_water', '', product_description = 'HYDRAFloods',\\\n",
        "                                                   slope_description='All',lc_description='Bare',elevation_description='All', region_description=event_desc,\\\n",
        "                                                   stat_description='Overall Accuracy', filter_prop = 'land_cover', filter_value = 7)\n",
        "\n",
        "\n",
        "hydrafloods_bare_prec = confusion_matrix_reporter(hf_swlc, 'hydrafloods_water', '', product_description = 'HYDRAFloods',\\\n",
        "                                                   slope_description='All',lc_description='Bare',elevation_description='All', region_description=event_desc,\\\n",
        "                                                   stat_description='Precision', filter_prop = 'land_cover', filter_value = 7)\n",
        "\n",
        "hydrafloods_bare_rec = confusion_matrix_reporter(hf_swlc, 'hydrafloods_water', '', product_description = 'HYDRAFloods',\\\n",
        "                                                   slope_description='All',lc_description='Bare',elevation_description='All', region_description=event_desc,\\\n",
        "                                                   stat_description='Recall', filter_prop = 'land_cover', filter_value = 7)\n",
        "\n",
        "hydrafloods_bare_f1 = confusion_matrix_reporter(hf_swlc, 'hydrafloods_water', '', product_description = 'HYDRAFloods',\\\n",
        "                                                   slope_description='All',lc_description='Bare',elevation_description='All', region_description=event_desc,\\\n",
        "                                                   stat_description='F1 Score', filter_prop = 'land_cover', filter_value = 7)\n",
        "\n",
        "hydrafloods_bare_nmcc = confusion_matrix_reporter(hf_swlc, 'hydrafloods_water', '', product_description = 'HYDRAFloods',\\\n",
        "                                                   slope_description='All',lc_description='Bare',elevation_description='All', region_description=event_desc,\\\n",
        "                                                   stat_description='NMCC', filter_prop = 'land_cover', filter_value = 7)"
      ]
    },
    {
      "cell_type": "markdown",
      "metadata": {
        "id": "VI73Fv3RAeyY"
      },
      "source": [
        "### Step 6 Part 4 Section E: HYDROSAR Bare Ground"
      ]
    },
    {
      "cell_type": "code",
      "execution_count": null,
      "metadata": {
        "colab": {
          "background_save": true
        },
        "id": "kXsYNI7FIzC2"
      },
      "outputs": [],
      "source": [
        "hydrosar_bare_acc = confusion_matrix_reporter(hydrosar_swlc, 'hydrosar_water', '', product_description = 'HYDROSAR',\\\n",
        "                                                   slope_description='All',lc_description='Bare',elevation_description='All', region_description=event_desc,\\\n",
        "                                                   stat_description='Overall Accuracy', filter_prop = 'land_cover', filter_value = 7)\n",
        "\n",
        "hydrosar_bare_prec = confusion_matrix_reporter(hydrosar_swlc, 'hydrosar_water', '', product_description = 'HYDROSAR',\\\n",
        "                                                   slope_description='All',lc_description='Bare',elevation_description='All', region_description=event_desc,\\\n",
        "                                                   stat_description='Precision', filter_prop = 'land_cover', filter_value = 7)\n",
        "\n",
        "hydrosar_bare_rec = confusion_matrix_reporter(hydrosar_swlc, 'hydrosar_water', '', product_description = 'HYDROSAR',\\\n",
        "                                                   slope_description='All',lc_description='Bare',elevation_description='All', region_description=event_desc,\\\n",
        "                                                   stat_description='Recall', filter_prop = 'land_cover', filter_value = 7)\n",
        "\n",
        "hydrosar_bare_f1 = confusion_matrix_reporter(hydrosar_swlc, 'hydrosar_water', '', product_description = 'HYDROSAR',\\\n",
        "                                                   slope_description='All',lc_description='Bare',elevation_description='All', region_description=event_desc,\\\n",
        "                                                   stat_description='F1 Score', filter_prop = 'land_cover', filter_value = 7)\n",
        "\n",
        "hydrosar_bare_nmcc = confusion_matrix_reporter(hydrosar_swlc, 'hydrosar_water', '', product_description = 'HYDROSAR',\\\n",
        "                                                   slope_description='All',lc_description='Bare',elevation_description='All', region_description=event_desc,\\\n",
        "                                                   stat_description='NMCC', filter_prop = 'land_cover', filter_value = 7)"
      ]
    },
    {
      "cell_type": "markdown",
      "metadata": {
        "id": "ivr2Z9uEAgqn"
      },
      "source": [
        "### Step 6 Part 4 Section F: MCDWD Bare Ground"
      ]
    },
    {
      "cell_type": "code",
      "execution_count": null,
      "metadata": {
        "colab": {
          "background_save": true
        },
        "id": "iyC2mx8tI7er"
      },
      "outputs": [],
      "source": [
        "mcdwd_bare_acc = confusion_matrix_reporter(mcdwd_swlc, 'mcdwd_water', '', product_description = 'MCDWD',\\\n",
        "                                                   slope_description='All',lc_description='Bare',elevation_description='All', region_description=event_desc,\\\n",
        "                                                   stat_description='Overall Accuracy', filter_prop = 'land_cover', filter_value = 7)\n",
        "\n",
        "mcdwd_bare_prec = confusion_matrix_reporter(mcdwd_swlc, 'mcdwd_water', '', product_description = 'MCDWD',\\\n",
        "                                                   slope_description='All',lc_description='Bare',elevation_description='All', region_description=event_desc,\\\n",
        "                                                   stat_description='Precision', filter_prop = 'land_cover', filter_value = 7)\n",
        "\n",
        "mcdwd_bare_rec = confusion_matrix_reporter(mcdwd_swlc, 'mcdwd_water', '', product_description = 'MCDWD',\\\n",
        "                                                   slope_description='All',lc_description='Bare',elevation_description='All', region_description=event_desc,\\\n",
        "                                                   stat_description='Recall', filter_prop = 'land_cover', filter_value = 7)\n",
        "\n",
        "mcdwd_bare_f1 = confusion_matrix_reporter(mcdwd_swlc, 'mcdwd_water', '', product_description = 'MCDWD',\\\n",
        "                                                   slope_description='All',lc_description='Bare',elevation_description='All', region_description=event_desc,\\\n",
        "                                                   stat_description='F1 Score', filter_prop = 'land_cover', filter_value = 7)\n",
        "\n",
        "mcdwd_bare_nmcc = confusion_matrix_reporter(mcdwd_swlc, 'mcdwd_water', '', product_description = 'MCDWD',\\\n",
        "                                                   slope_description='All',lc_description='Bare',elevation_description='All', region_description=event_desc,\\\n",
        "                                                   stat_description='NMCC', filter_prop = 'land_cover', filter_value = 7)"
      ]
    },
    {
      "cell_type": "markdown",
      "metadata": {
        "id": "DeMCNlprAiXm"
      },
      "source": [
        "### Step 6 Part 4 Section G: VFM Bare Ground"
      ]
    },
    {
      "cell_type": "code",
      "execution_count": null,
      "metadata": {
        "colab": {
          "background_save": true
        },
        "id": "eTsS-ZPU7rn3"
      },
      "outputs": [],
      "source": [
        "vfm_bare_acc = confusion_matrix_reporter(vfm_swlc, 'vfm_water', '', product_description = 'VFM',\\\n",
        "                                                   slope_description='All',lc_description='Bare',elevation_description='All', region_description=event_desc,\\\n",
        "                                                   stat_description='Overall Accuracy', filter_prop = 'land_cover', filter_value = 7)\n",
        "\n",
        "vfm_bare_prec = confusion_matrix_reporter(vfm_swlc, 'vfm_water', '', product_description = 'VFM',\\\n",
        "                                                   slope_description='All',lc_description='Bare',elevation_description='All', region_description=event_desc,\\\n",
        "                                                   stat_description='Precision', filter_prop = 'land_cover', filter_value = 7)\n",
        "\n",
        "vfm_bare_rec = confusion_matrix_reporter(vfm_swlc, 'vfm_water', '', product_description = 'VFM',\\\n",
        "                                                   slope_description='All',lc_description='Bare',elevation_description='All', region_description=event_desc,\\\n",
        "                                                   stat_description='Recall', filter_prop = 'land_cover', filter_value = 7)\n",
        "\n",
        "vfm_bare_f1 = confusion_matrix_reporter(vfm_swlc, 'vfm_water', '', product_description = 'VFM',\\\n",
        "                                                   slope_description='All',lc_description='Bare',elevation_description='All', region_description=event_desc,\\\n",
        "                                                   stat_description='F1 Score', filter_prop = 'land_cover', filter_value = 7)\n",
        "\n",
        "vfm_bare_nmcc = confusion_matrix_reporter(vfm_swlc, 'vfm_water', '', product_description = 'VFM',\\\n",
        "                                                   slope_description='All',lc_description='Bare',elevation_description='All', region_description=event_desc,\\\n",
        "                                                   stat_description='NMCC', filter_prop = 'land_cover', filter_value = 7)"
      ]
    },
    {
      "cell_type": "markdown",
      "metadata": {
        "id": "9ZgeOPwlRtsw"
      },
      "source": [
        "# Step 7: Write Stats to CSV"
      ]
    },
    {
      "cell_type": "code",
      "execution_count": null,
      "metadata": {
        "id": "OtFHSOMs3aDv"
      },
      "outputs": [],
      "source": [
        "pwd"
      ]
    },
    {
      "cell_type": "code",
      "execution_count": null,
      "metadata": {
        "id": "NRWe3hj13Ws9"
      },
      "outputs": [],
      "source": [
        "drive.mount('/content/drive/')"
      ]
    },
    {
      "cell_type": "code",
      "execution_count": null,
      "metadata": {
        "id": "kjotoMxu3WqB"
      },
      "outputs": [],
      "source": [
        "os.chdir(my_gdrive_folder)"
      ]
    },
    {
      "cell_type": "code",
      "execution_count": null,
      "metadata": {
        "id": "buBLPXWiYHRM"
      },
      "outputs": [],
      "source": [
        "headers = ['Flood_Event','Product','Statistic','Land_Cover','Elevation_Class', 'Slope_Class','Value']\n",
        "\n",
        "with open(filename, 'a') as csvfile:\n",
        "  csvwriter = csv.writer(csvfile)\n",
        "\n",
        "  csvwriter.writerow(headers)     # Comment this line out if headers already written\n",
        "\n",
        "  ####################### All Points ############################\n",
        "\n",
        "  # HYDRAFloods -- All Points\n",
        "  csvwriter.writerow(hydrafloods_all_acc)\n",
        "  csvwriter.writerow(hydrafloods_all_prec)\n",
        "  csvwriter.writerow(hydrafloods_all_rec)\n",
        "  csvwriter.writerow(hydrafloods_all_f1)\n",
        "  csvwriter.writerow(hydrafloods_all_nmcc)\n",
        "\n",
        "  # HYDROSAR -- All Points\n",
        "  csvwriter.writerow(hydrosar_all_acc)\n",
        "  csvwriter.writerow(hydrosar_all_prec)\n",
        "  csvwriter.writerow(hydrosar_all_rec)\n",
        "  csvwriter.writerow(hydrosar_all_f1)\n",
        "  csvwriter.writerow(hydrosar_all_nmcc)\n",
        "\n",
        "  # DSWx-HLS -- All Points\n",
        "  csvwriter.writerow(dswxhls_all_acc)\n",
        "  csvwriter.writerow(dswxhls_all_prec)\n",
        "  csvwriter.writerow(dswxhls_all_rec)\n",
        "  csvwriter.writerow(dswxhls_all_f1)\n",
        "  csvwriter.writerow(dswxhls_all_nmcc)\n",
        "\n",
        "  # DSWx-S1 -- All Points\n",
        "  csvwriter.writerow(dswxs1_all_acc)\n",
        "  csvwriter.writerow(dswxs1_all_prec)\n",
        "  csvwriter.writerow(dswxs1_all_rec)\n",
        "  csvwriter.writerow(dswxs1_all_f1)\n",
        "  csvwriter.writerow(dswxs1_all_nmcc)\n",
        "\n",
        "  # GFM -- All Points\n",
        "  csvwriter.writerow(gfm_all_acc)\n",
        "  csvwriter.writerow(gfm_all_prec)\n",
        "  csvwriter.writerow(gfm_all_rec)\n",
        "  csvwriter.writerow(gfm_all_f1)\n",
        "  csvwriter.writerow(gfm_all_nmcc)\n",
        "\n",
        "  # MCDWD -- All Points\n",
        "  csvwriter.writerow(mcdwd_all_acc)\n",
        "  csvwriter.writerow(mcdwd_all_prec)\n",
        "  csvwriter.writerow(mcdwd_all_rec)\n",
        "  csvwriter.writerow(mcdwd_all_f1)\n",
        "  csvwriter.writerow(mcdwd_all_nmcc)\n",
        "\n",
        "  # VFM -- All Points\n",
        "  csvwriter.writerow(vfm_all_acc)\n",
        "  csvwriter.writerow(vfm_all_prec)\n",
        "  csvwriter.writerow(vfm_all_rec)\n",
        "  csvwriter.writerow(vfm_all_f1)\n",
        "  csvwriter.writerow(vfm_all_nmcc)\n",
        "\n",
        "  ################################# ELEVATION ########################\n",
        "\n",
        "  ###### VERY LOW ELEVATION #######\n",
        "  csvwriter.writerow(dswxhls_vlowel_acc)\n",
        "  csvwriter.writerow(dswxhls_vlowel_prec)\n",
        "  csvwriter.writerow(dswxhls_vlowel_rec)\n",
        "  csvwriter.writerow(dswxhls_vlowel_f1)\n",
        "  csvwriter.writerow(dswxhls_vlowel_nmcc)\n",
        "\n",
        "  csvwriter.writerow(dswxs1_vlowel_acc)\n",
        "  csvwriter.writerow(dswxs1_vlowel_prec)\n",
        "  csvwriter.writerow(dswxs1_vlowel_rec)\n",
        "  csvwriter.writerow(dswxs1_vlowel_f1)\n",
        "  csvwriter.writerow(dswxs1_vlowel_nmcc)\n",
        "\n",
        "  csvwriter.writerow(gfm_vlowel_acc)\n",
        "  csvwriter.writerow(gfm_vlowel_prec)\n",
        "  csvwriter.writerow(gfm_vlowel_rec)\n",
        "  csvwriter.writerow(gfm_vlowel_f1)\n",
        "  csvwriter.writerow(gfm_vlowel_nmcc)\n",
        "\n",
        "  csvwriter.writerow(hydrafloods_vlowel_acc)\n",
        "  csvwriter.writerow(hydrafloods_vlowel_prec)\n",
        "  csvwriter.writerow(hydrafloods_vlowel_acc)\n",
        "  csvwriter.writerow(hydrafloods_vlowel_f1)\n",
        "  csvwriter.writerow(hydrafloods_vlowel_nmcc)\n",
        "\n",
        "  csvwriter.writerow(hydrosar_vlowel_acc)\n",
        "  csvwriter.writerow(hydrosar_vlowel_prec)\n",
        "  csvwriter.writerow(hydrosar_vlowel_rec)\n",
        "  csvwriter.writerow(hydrosar_vlowel_f1)\n",
        "  csvwriter.writerow(hydrosar_vlowel_nmcc)\n",
        "\n",
        "  csvwriter.writerow(mcdwd_vlowel_acc)\n",
        "  csvwriter.writerow(mcdwd_vlowel_prec)\n",
        "  csvwriter.writerow(mcdwd_vlowel_rec)\n",
        "  csvwriter.writerow(mcdwd_vlowel_f1)\n",
        "  csvwriter.writerow(mcdwd_vlowel_nmcc)\n",
        "\n",
        "  csvwriter.writerow(vfm_vlowel_acc)\n",
        "  csvwriter.writerow(vfm_vlowel_prec)\n",
        "  csvwriter.writerow(vfm_vlowel_rec)\n",
        "  csvwriter.writerow(vfm_vlowel_f1)\n",
        "  csvwriter.writerow(vfm_vlowel_nmcc)\n",
        "\n",
        "\n",
        "  ###### MODERATELY LOW ELEVATION ###\n",
        "  csvwriter.writerow(dswxhls_modlowel_acc)\n",
        "  csvwriter.writerow(dswxhls_modlowel_prec)\n",
        "  csvwriter.writerow(dswxhls_modlowel_rec)\n",
        "  csvwriter.writerow(dswxhls_modlowel_f1)\n",
        "  csvwriter.writerow(dswxhls_modlowel_nmcc)\n",
        "\n",
        "  csvwriter.writerow(dswxs1_modlowel_acc)\n",
        "  csvwriter.writerow(dswxs1_modlowel_prec)\n",
        "  csvwriter.writerow(dswxs1_modlowel_rec)\n",
        "  csvwriter.writerow(dswxs1_modlowel_f1)\n",
        "  csvwriter.writerow(dswxs1_modlowel_nmcc)\n",
        "\n",
        "  csvwriter.writerow(gfm_modlowel_acc)\n",
        "  csvwriter.writerow(gfm_modlowel_prec)\n",
        "  csvwriter.writerow(gfm_modlowel_rec)\n",
        "  csvwriter.writerow(gfm_modlowel_f1)\n",
        "  csvwriter.writerow(gfm_modlowel_nmcc)\n",
        "\n",
        "  csvwriter.writerow(hydrafloods_modlowel_acc)\n",
        "  csvwriter.writerow(hydrafloods_modlowel_prec)\n",
        "  csvwriter.writerow(hydrafloods_modlowel_rec)\n",
        "  csvwriter.writerow(hydrafloods_modlowel_f1)\n",
        "  csvwriter.writerow(hydrafloods_modlowel_nmcc)\n",
        "\n",
        "  csvwriter.writerow(hydrosar_modlowel_acc)\n",
        "  csvwriter.writerow(hydrosar_modlowel_prec)\n",
        "  csvwriter.writerow(hydrosar_modlowel_rec)\n",
        "  csvwriter.writerow(hydrosar_modlowel_f1)\n",
        "  csvwriter.writerow(hydrosar_modlowel_nmcc)\n",
        "\n",
        "  csvwriter.writerow(mcdwd_modlowel_acc)\n",
        "  csvwriter.writerow(mcdwd_modlowel_prec)\n",
        "  csvwriter.writerow(mcdwd_modlowel_rec)\n",
        "  csvwriter.writerow(mcdwd_modlowel_f1)\n",
        "  csvwriter.writerow(mcdwd_modlowel_nmcc)\n",
        "\n",
        "  csvwriter.writerow(vfm_modlowel_acc)\n",
        "  csvwriter.writerow(vfm_modlowel_prec)\n",
        "  csvwriter.writerow(vfm_modlowel_rec)\n",
        "  csvwriter.writerow(vfm_modlowel_f1)\n",
        "  csvwriter.writerow(vfm_modlowel_nmcc)\n",
        "\n",
        "  ###### MODERATELY HIGH ELEVATION ###\n",
        "  csvwriter.writerow(dswxhls_modhiel_acc)\n",
        "  csvwriter.writerow(dswxhls_modhiel_prec)\n",
        "  csvwriter.writerow(dswxhls_modhiel_rec)\n",
        "  csvwriter.writerow(dswxhls_modhiel_f1)\n",
        "  csvwriter.writerow(dswxhls_modhiel_nmcc)\n",
        "\n",
        "  csvwriter.writerow(dswxs1_modhiel_acc)\n",
        "  csvwriter.writerow(dswxs1_modhiel_prec)\n",
        "  csvwriter.writerow(dswxs1_modhiel_rec)\n",
        "  csvwriter.writerow(dswxs1_modhiel_f1)\n",
        "  csvwriter.writerow(dswxs1_modhiel_nmcc)\n",
        "\n",
        "  csvwriter.writerow(gfm_modhiel_acc)\n",
        "  csvwriter.writerow(gfm_modhiel_prec)\n",
        "  csvwriter.writerow(gfm_modhiel_rec)\n",
        "  csvwriter.writerow(gfm_modhiel_f1)\n",
        "  csvwriter.writerow(gfm_modhiel_nmcc)\n",
        "\n",
        "  csvwriter.writerow(hydrafloods_modhiel_acc)\n",
        "  csvwriter.writerow(hydrafloods_modhiel_prec)\n",
        "  csvwriter.writerow(hydrafloods_modhiel_rec)\n",
        "  csvwriter.writerow(hydrafloods_modhiel_f1)\n",
        "  csvwriter.writerow(hydrafloods_modhiel_nmcc)\n",
        "\n",
        "  csvwriter.writerow(hydrosar_modhiel_acc)\n",
        "  csvwriter.writerow(hydrosar_modhiel_prec)\n",
        "  csvwriter.writerow(hydrosar_modhiel_rec)\n",
        "  csvwriter.writerow(hydrosar_modhiel_f1)\n",
        "  csvwriter.writerow(hydrosar_modhiel_nmcc)\n",
        "\n",
        "  csvwriter.writerow(mcdwd_modhiel_acc)\n",
        "  csvwriter.writerow(mcdwd_modhiel_prec)\n",
        "  csvwriter.writerow(mcdwd_modhiel_rec)\n",
        "  csvwriter.writerow(mcdwd_modhiel_f1)\n",
        "  csvwriter.writerow(mcdwd_modhiel_nmcc)\n",
        "\n",
        "  csvwriter.writerow(vfm_modhiel_acc)\n",
        "  csvwriter.writerow(vfm_modhiel_prec)\n",
        "  csvwriter.writerow(vfm_modhiel_rec)\n",
        "  csvwriter.writerow(vfm_modhiel_f1)\n",
        "\n",
        "  ##### VERY HIGH ELEVATION #######\n",
        "  csvwriter.writerow(dswxhls_vhiel_acc)\n",
        "  csvwriter.writerow(dswxhls_vhiel_prec)\n",
        "  csvwriter.writerow(dswxhls_vhiel_rec)\n",
        "  csvwriter.writerow(dswxhls_vhiel_f1)\n",
        "  csvwriter.writerow(dswxhls_vhiel_nmcc)\n",
        "\n",
        "  csvwriter.writerow(dswxs1_vhiel_acc)\n",
        "  csvwriter.writerow(dswxs1_vhiel_prec)\n",
        "  csvwriter.writerow(dswxs1_vhiel_rec)\n",
        "  csvwriter.writerow(dswxs1_vhiel_f1)\n",
        "  csvwriter.writerow(dswxs1_vhiel_nmcc)\n",
        "\n",
        "  csvwriter.writerow(gfm_vhiel_acc)\n",
        "  csvwriter.writerow(gfm_vhiel_prec)\n",
        "  csvwriter.writerow(gfm_vhiel_rec)\n",
        "  csvwriter.writerow(gfm_vhiel_f1)\n",
        "  csvwriter.writerow(gfm_vhiel_nmcc)\n",
        "\n",
        "  csvwriter.writerow(hydrafloods_vhiel_acc)\n",
        "  csvwriter.writerow(hydrafloods_vhiel_prec)\n",
        "  csvwriter.writerow(hydrafloods_vhiel_rec)\n",
        "  csvwriter.writerow(hydrafloods_vhiel_f1)\n",
        "  csvwriter.writerow(hydrafloods_vhiel_nmcc)\n",
        "\n",
        "  csvwriter.writerow(hydrosar_vhiel_acc)\n",
        "  csvwriter.writerow(hydrosar_vhiel_prec)\n",
        "  csvwriter.writerow(hydrosar_vhiel_rec)\n",
        "  csvwriter.writerow(hydrosar_vhiel_f1)\n",
        "  csvwriter.writerow(hydrosar_vhiel_nmcc)\n",
        "\n",
        "  csvwriter.writerow(mcdwd_vhiel_acc)\n",
        "  csvwriter.writerow(mcdwd_vhiel_prec)\n",
        "  csvwriter.writerow(mcdwd_vhiel_rec)\n",
        "  csvwriter.writerow(mcdwd_vhiel_f1)\n",
        "  csvwriter.writerow(mcdwd_vhiel_nmcc)\n",
        "\n",
        "  csvwriter.writerow(vfm_vhiel_acc)\n",
        "  csvwriter.writerow(vfm_vhiel_prec)\n",
        "  csvwriter.writerow(vfm_vhiel_rec)\n",
        "  csvwriter.writerow(vfm_vhiel_f1)\n",
        "  csvwriter.writerow(vfm_vhiel_nmcc)\n",
        "\n",
        "  ################################ SLOPE #############################\n",
        "  ##### VERY SHALLOW SLOPE ########\n",
        "  csvwriter.writerow(dswxhls_vshalsl_acc)\n",
        "  csvwriter.writerow(dswxhls_vshalsl_prec)\n",
        "  csvwriter.writerow(dswxhls_vshalsl_rec)\n",
        "  csvwriter.writerow(dswxhls_vshalsl_f1)\n",
        "  csvwriter.writerow(dswxhls_vshalsl_nmcc)\n",
        "\n",
        "  csvwriter.writerow(dswxs1_vshalsl_acc)\n",
        "  csvwriter.writerow(dswxs1_vshalsl_prec)\n",
        "  csvwriter.writerow(dswxs1_vshalsl_rec)\n",
        "  csvwriter.writerow(dswxs1_vshalsl_f1)\n",
        "  csvwriter.writerow(dswxs1_vshalsl_nmcc)\n",
        "\n",
        "  csvwriter.writerow(gfm_vshalsl_acc)\n",
        "  csvwriter.writerow(gfm_vshalsl_prec)\n",
        "  csvwriter.writerow(gfm_vshalsl_rec)\n",
        "  csvwriter.writerow(gfm_vshalsl_f1)\n",
        "  csvwriter.writerow(gfm_vshalsl_nmcc)\n",
        "\n",
        "  csvwriter.writerow(hydrafloods_vshalsl_acc)\n",
        "  csvwriter.writerow(hydrafloods_vshalsl_prec)\n",
        "  csvwriter.writerow(hydrafloods_vshalsl_rec)\n",
        "  csvwriter.writerow(hydrafloods_vshalsl_f1)\n",
        "  csvwriter.writerow(hydrafloods_vshalsl_nmcc)\n",
        "\n",
        "  csvwriter.writerow(hydrosar_vshalsl_acc)\n",
        "  csvwriter.writerow(hydrosar_vshalsl_prec)\n",
        "  csvwriter.writerow(hydrosar_vshalsl_rec)\n",
        "  csvwriter.writerow(hydrosar_vshalsl_f1)\n",
        "  csvwriter.writerow(hydrosar_vshalsl_nmcc)\n",
        "\n",
        "  csvwriter.writerow(mcdwd_vshalsl_acc)\n",
        "  csvwriter.writerow(mcdwd_vshalsl_prec)\n",
        "  csvwriter.writerow(mcdwd_vshalsl_rec)\n",
        "  csvwriter.writerow(mcdwd_vshalsl_f1)\n",
        "  csvwriter.writerow(mcdwd_vshalsl_nmcc)\n",
        "\n",
        "  csvwriter.writerow(vfm_vshalsl_acc)\n",
        "  csvwriter.writerow(vfm_vshalsl_prec)\n",
        "  csvwriter.writerow(vfm_vshalsl_rec)\n",
        "  csvwriter.writerow(vfm_vshalsl_f1)\n",
        "  csvwriter.writerow(vfm_vshalsl_nmcc)\n",
        "\n",
        "  ##### MODERATELY SHALLOW SLOPE #####\n",
        "  csvwriter.writerow(dswxhls_modshalsl_acc)\n",
        "  csvwriter.writerow(dswxhls_modshalsl_prec)\n",
        "  csvwriter.writerow(dswxhls_modshalsl_rec)\n",
        "  csvwriter.writerow(dswxhls_modshalsl_f1)\n",
        "  csvwriter.writerow(dswxhls_modshalsl_nmcc)\n",
        "\n",
        "  csvwriter.writerow(dswxs1_modshalsl_acc)\n",
        "  csvwriter.writerow(dswxs1_modshalsl_prec)\n",
        "  csvwriter.writerow(dswxs1_modshalsl_rec)\n",
        "  csvwriter.writerow(dswxs1_modshalsl_f1)\n",
        "  csvwriter.writerow(dswxs1_modshalsl_nmcc)\n",
        "\n",
        "  csvwriter.writerow(gfm_modshalsl_acc)\n",
        "  csvwriter.writerow(gfm_modshalsl_prec)\n",
        "  csvwriter.writerow(gfm_modshalsl_rec)\n",
        "  csvwriter.writerow(gfm_modshalsl_f1)\n",
        "  csvwriter.writerow(gfm_modshalsl_nmcc)\n",
        "\n",
        "  csvwriter.writerow(hydrafloods_modshalsl_acc)\n",
        "  csvwriter.writerow(hydrafloods_modshalsl_prec)\n",
        "  csvwriter.writerow(hydrafloods_modshalsl_rec)\n",
        "  csvwriter.writerow(hydrafloods_modshalsl_f1)\n",
        "  csvwriter.writerow(hydrafloods_modshalsl_nmcc)\n",
        "\n",
        "  csvwriter.writerow(hydrosar_modshalsl_acc)\n",
        "  csvwriter.writerow(hydrosar_modshalsl_prec)\n",
        "  csvwriter.writerow(hydrosar_modshalsl_rec)\n",
        "  csvwriter.writerow(hydrosar_modshalsl_f1)\n",
        "  csvwriter.writerow(hydrosar_modshalsl_nmcc)\n",
        "\n",
        "  csvwriter.writerow(mcdwd_modshalsl_acc)\n",
        "  csvwriter.writerow(mcdwd_modshalsl_prec)\n",
        "  csvwriter.writerow(mcdwd_modshalsl_rec)\n",
        "  csvwriter.writerow(mcdwd_modshalsl_f1)\n",
        "  csvwriter.writerow(mcdwd_modshalsl_nmcc)\n",
        "\n",
        "  csvwriter.writerow(vfm_modshalsl_acc)\n",
        "  csvwriter.writerow(vfm_modshalsl_prec)\n",
        "  csvwriter.writerow(vfm_modshalsl_rec)\n",
        "  csvwriter.writerow(vfm_modshalsl_f1)\n",
        "  csvwriter.writerow(vfm_modshalsl_nmcc)\n",
        "\n",
        "  ##### MODERATELY STEEP SLOPE ######\n",
        "  csvwriter.writerow(dswxhls_modsteepsl_acc)\n",
        "  csvwriter.writerow(dswxhls_modsteepsl_prec)\n",
        "  csvwriter.writerow(dswxhls_modsteepsl_rec)\n",
        "  csvwriter.writerow(dswxhls_modsteepsl_f1)\n",
        "  csvwriter.writerow(dswxhls_modsteepsl_nmcc)\n",
        "\n",
        "  csvwriter.writerow(dswxs1_modsteepsl_acc)\n",
        "  csvwriter.writerow(dswxs1_modsteepsl_prec)\n",
        "  csvwriter.writerow(dswxs1_modsteepsl_rec)\n",
        "  csvwriter.writerow(dswxs1_modsteepsl_f1)\n",
        "  csvwriter.writerow(dswxs1_modsteepsl_nmcc)\n",
        "\n",
        "  csvwriter.writerow(gfm_modsteepsl_acc)\n",
        "  csvwriter.writerow(gfm_modsteepsl_prec)\n",
        "  csvwriter.writerow(gfm_modsteepsl_rec)\n",
        "  csvwriter.writerow(gfm_modsteepsl_f1)\n",
        "  csvwriter.writerow(gfm_modsteepsl_nmcc)\n",
        "\n",
        "  csvwriter.writerow(hydrafloods_modsteepsl_acc)\n",
        "  csvwriter.writerow(hydrafloods_modsteepsl_prec)\n",
        "  csvwriter.writerow(hydrafloods_modsteepsl_rec)\n",
        "  csvwriter.writerow(hydrafloods_modsteepsl_f1)\n",
        "  csvwriter.writerow(hydrafloods_modsteepsl_nmcc)\n",
        "\n",
        "  csvwriter.writerow(hydrafloods_modsteepsl_acc)\n",
        "  csvwriter.writerow(hydrafloods_modsteepsl_prec)\n",
        "  csvwriter.writerow(hydrafloods_modsteepsl_rec)\n",
        "  csvwriter.writerow(hydrafloods_modsteepsl_f1)\n",
        "  csvwriter.writerow(hydrafloods_modsteepsl_nmcc)\n",
        "\n",
        "  csvwriter.writerow(hydrosar_modsteepsl_acc)\n",
        "  csvwriter.writerow(hydrosar_modsteepsl_prec)\n",
        "  csvwriter.writerow(hydrosar_modsteepsl_rec)\n",
        "  csvwriter.writerow(hydrosar_modsteepsl_f1)\n",
        "  csvwriter.writerow(hydrosar_modsteepsl_nmcc)\n",
        "\n",
        "  csvwriter.writerow(mcdwd_modsteepsl_acc)\n",
        "  csvwriter.writerow(mcdwd_modsteepsl_prec)\n",
        "  csvwriter.writerow(mcdwd_modsteepsl_rec)\n",
        "  csvwriter.writerow(mcdwd_modsteepsl_f1)\n",
        "  csvwriter.writerow(mcdwd_modsteepsl_nmcc)\n",
        "\n",
        "  csvwriter.writerow(vfm_modsteepsl_acc)\n",
        "  csvwriter.writerow(vfm_modsteepsl_prec)\n",
        "  csvwriter.writerow(vfm_modsteepsl_rec)\n",
        "  csvwriter.writerow(vfm_modsteepsl_f1)\n",
        "  csvwriter.writerow(vfm_modsteepsl_nmcc)\n",
        "\n",
        "  ##### VERY STEEP SLOPE ############\n",
        "  csvwriter.writerow(dswxhls_vsteepsl_acc)\n",
        "  csvwriter.writerow(dswxhls_vsteepsl_prec)\n",
        "  csvwriter.writerow(dswxhls_vsteepsl_rec)\n",
        "  csvwriter.writerow(dswxhls_vsteepsl_f1)\n",
        "  csvwriter.writerow(dswxhls_vsteepsl_nmcc)\n",
        "\n",
        "  csvwriter.writerow(dswxs1_vsteepsl_acc)\n",
        "  csvwriter.writerow(dswxs1_vsteepsl_prec)\n",
        "  csvwriter.writerow(dswxs1_vsteepsl_rec)\n",
        "  csvwriter.writerow(dswxs1_vsteepsl_f1)\n",
        "  csvwriter.writerow(dswxs1_vsteepsl_nmcc)\n",
        "\n",
        "  csvwriter.writerow(gfm_vsteepsl_acc)\n",
        "  csvwriter.writerow(gfm_vsteepsl_prec)\n",
        "  csvwriter.writerow(gfm_vsteepsl_rec)\n",
        "  csvwriter.writerow(gfm_vsteepsl_f1)\n",
        "  csvwriter.writerow(gfm_vsteepsl_nmcc)\n",
        "\n",
        "  csvwriter.writerow(hydrafloods_vsteepsl_acc)\n",
        "  csvwriter.writerow(hydrafloods_vsteepsl_prec)\n",
        "  csvwriter.writerow(hydrafloods_vsteepsl_rec)\n",
        "  csvwriter.writerow(hydrafloods_vsteepsl_f1)\n",
        "  csvwriter.writerow(hydrafloods_vsteepsl_nmcc)\n",
        "\n",
        "  csvwriter.writerow(hydrosar_vsteepsl_acc)\n",
        "  csvwriter.writerow(hydrosar_vsteepsl_prec)\n",
        "  csvwriter.writerow(hydrosar_vsteepsl_rec)\n",
        "  csvwriter.writerow(hydrosar_vsteepsl_f1)\n",
        "  csvwriter.writerow(hydrosar_vsteepsl_nmcc)\n",
        "\n",
        "  csvwriter.writerow(mcdwd_vsteepsl_acc)\n",
        "  csvwriter.writerow(mcdwd_vsteepsl_prec)\n",
        "  csvwriter.writerow(mcdwd_vsteepsl_rec)\n",
        "  csvwriter.writerow(mcdwd_vsteepsl_f1)\n",
        "  csvwriter.writerow(mcdwd_vsteepsl_nmcc)\n",
        "\n",
        "  csvwriter.writerow(vfm_vsteepsl_acc)\n",
        "  csvwriter.writerow(vfm_vsteepsl_prec)\n",
        "  csvwriter.writerow(vfm_vsteepsl_rec)\n",
        "  csvwriter.writerow(vfm_vsteepsl_f1)\n",
        "  csvwriter.writerow(vfm_vsteepsl_nmcc)\n",
        "\n",
        "  ############################### LAND COVER ##############################\n",
        "  ########## CROPLAND ###############\n",
        "  csvwriter.writerow(dswxhls_crop_acc)\n",
        "  csvwriter.writerow(dswxhls_crop_prec)\n",
        "  csvwriter.writerow(dswxhls_crop_rec)\n",
        "  csvwriter.writerow(dswxhls_crop_f1)\n",
        "  csvwriter.writerow(dswxhls_crop_nmcc)\n",
        "\n",
        "  csvwriter.writerow(dswxs1_crop_acc)\n",
        "  csvwriter.writerow(dswxs1_crop_prec)\n",
        "  csvwriter.writerow(dswxs1_crop_rec)\n",
        "  csvwriter.writerow(dswxs1_crop_f1)\n",
        "  csvwriter.writerow(dswxs1_crop_nmcc)\n",
        "\n",
        "  csvwriter.writerow(gfm_crop_acc)\n",
        "  csvwriter.writerow(gfm_crop_prec)\n",
        "  csvwriter.writerow(gfm_crop_rec)\n",
        "  csvwriter.writerow(gfm_crop_f1)\n",
        "  csvwriter.writerow(gfm_crop_nmcc)\n",
        "\n",
        "  csvwriter.writerow(hydrafloods_crop_acc)\n",
        "  csvwriter.writerow(hydrafloods_crop_prec)\n",
        "  csvwriter.writerow(hydrafloods_crop_rec)\n",
        "  csvwriter.writerow(hydrafloods_crop_f1)\n",
        "  csvwriter.writerow(hydrafloods_crop_nmcc)\n",
        "\n",
        "  csvwriter.writerow(hydrosar_crop_acc)\n",
        "  csvwriter.writerow(hydrosar_crop_prec)\n",
        "  csvwriter.writerow(hydrosar_crop_rec)\n",
        "  csvwriter.writerow(hydrosar_crop_f1)\n",
        "  csvwriter.writerow(hydrosar_crop_nmcc)\n",
        "\n",
        "  csvwriter.writerow(mcdwd_crop_acc)\n",
        "  csvwriter.writerow(mcdwd_crop_prec)\n",
        "  csvwriter.writerow(mcdwd_crop_rec)\n",
        "  csvwriter.writerow(mcdwd_crop_f1)\n",
        "  csvwriter.writerow(mcdwd_crop_nmcc)\n",
        "\n",
        "  csvwriter.writerow(vfm_crop_acc)\n",
        "  csvwriter.writerow(vfm_crop_prec)\n",
        "  csvwriter.writerow(vfm_crop_rec)\n",
        "  csvwriter.writerow(vfm_crop_f1)\n",
        "  csvwriter.writerow(vfm_crop_nmcc)\n",
        "\n",
        "  ########## BUILT-UP ###############\n",
        "  csvwriter.writerow(dswxhls_built_acc)\n",
        "  csvwriter.writerow(dswxhls_built_prec)\n",
        "  csvwriter.writerow(dswxhls_built_rec)\n",
        "  csvwriter.writerow(dswxhls_built_f1)\n",
        "  csvwriter.writerow(dswxhls_built_nmcc)\n",
        "\n",
        "  csvwriter.writerow(dswxs1_built_acc)\n",
        "  csvwriter.writerow(dswxs1_built_prec)\n",
        "  csvwriter.writerow(dswxs1_built_rec)\n",
        "  csvwriter.writerow(dswxs1_built_f1)\n",
        "  csvwriter.writerow(dswxs1_built_nmcc)\n",
        "\n",
        "  csvwriter.writerow(gfm_built_acc)\n",
        "  csvwriter.writerow(gfm_built_prec)\n",
        "  csvwriter.writerow(gfm_built_rec)\n",
        "  csvwriter.writerow(gfm_built_f1)\n",
        "  csvwriter.writerow(gfm_built_nmcc)\n",
        "\n",
        "  csvwriter.writerow(hydrafloods_built_acc)\n",
        "  csvwriter.writerow(hydrafloods_built_prec)\n",
        "  csvwriter.writerow(hydrafloods_built_rec)\n",
        "  csvwriter.writerow(hydrafloods_built_f1)\n",
        "  csvwriter.writerow(hydrafloods_built_nmcc)\n",
        "\n",
        "  csvwriter.writerow(hydrosar_built_acc)\n",
        "  csvwriter.writerow(hydrosar_built_prec)\n",
        "  csvwriter.writerow(hydrosar_built_rec)\n",
        "  csvwriter.writerow(hydrosar_built_f1)\n",
        "  csvwriter.writerow(hydrosar_built_nmcc)\n",
        "\n",
        "  csvwriter.writerow(mcdwd_built_acc)\n",
        "  csvwriter.writerow(mcdwd_built_prec)\n",
        "  csvwriter.writerow(mcdwd_built_rec)\n",
        "  csvwriter.writerow(mcdwd_built_f1)\n",
        "  csvwriter.writerow(mcdwd_built_nmcc)\n",
        "\n",
        "  csvwriter.writerow(vfm_built_acc)\n",
        "  csvwriter.writerow(vfm_built_prec)\n",
        "  csvwriter.writerow(vfm_built_rec)\n",
        "  csvwriter.writerow(vfm_built_f1)\n",
        "  csvwriter.writerow(vfm_built_nmcc)\n",
        "\n",
        "  ########## BARE GROUND ##############\n",
        "  csvwriter.writerow(dswxhls_bare_acc)\n",
        "  csvwriter.writerow(dswxhls_bare_prec)\n",
        "  csvwriter.writerow(dswxhls_bare_rec)\n",
        "  csvwriter.writerow(dswxhls_bare_f1)\n",
        "  csvwriter.writerow(dswxhls_bare_nmcc)\n",
        "\n",
        "  csvwriter.writerow(dswxs1_bare_acc)\n",
        "  csvwriter.writerow(dswxs1_bare_prec)\n",
        "  csvwriter.writerow(dswxs1_bare_rec)\n",
        "  csvwriter.writerow(dswxs1_bare_f1)\n",
        "  csvwriter.writerow(dswxs1_bare_nmcc)\n",
        "\n",
        "  csvwriter.writerow(gfm_bare_acc)\n",
        "  csvwriter.writerow(gfm_bare_prec)\n",
        "  csvwriter.writerow(gfm_bare_rec)\n",
        "  csvwriter.writerow(gfm_bare_f1)\n",
        "  csvwriter.writerow(gfm_bare_nmcc)\n",
        "\n",
        "  csvwriter.writerow(hydrafloods_bare_acc)\n",
        "  csvwriter.writerow(hydrafloods_bare_prec)\n",
        "  csvwriter.writerow(hydrafloods_bare_rec)\n",
        "  csvwriter.writerow(hydrafloods_bare_f1)\n",
        "  csvwriter.writerow(hydrafloods_bare_nmcc)\n",
        "\n",
        "  csvwriter.writerow(hydrosar_bare_acc)\n",
        "  csvwriter.writerow(hydrosar_bare_prec)\n",
        "  csvwriter.writerow(hydrosar_bare_rec)\n",
        "  csvwriter.writerow(hydrosar_bare_f1)\n",
        "  csvwriter.writerow(hydrosar_bare_nmcc)\n",
        "\n",
        "  csvwriter.writerow(mcdwd_bare_acc)\n",
        "  csvwriter.writerow(mcdwd_bare_prec)\n",
        "  csvwriter.writerow(mcdwd_bare_rec)\n",
        "  csvwriter.writerow(mcdwd_bare_f1)\n",
        "  csvwriter.writerow(mcdwd_bare_nmcc)\n",
        "\n",
        "  csvwriter.writerow(vfm_bare_acc)\n",
        "  csvwriter.writerow(vfm_bare_prec)\n",
        "  csvwriter.writerow(vfm_bare_rec)\n",
        "  csvwriter.writerow(vfm_bare_f1)\n",
        "  csvwriter.writerow(vfm_bare_nmcc)\n"
      ]
    },
    {
      "cell_type": "markdown",
      "metadata": {
        "id": "Mdffml1ET3lF"
      },
      "source": [
        "# References\n",
        "\n",
        "* Landwehr, Tim, Antara Dasgupta, and Björn Waske. \"Towards robust validation strategies for EO flood maps.\" Remote Sensing of Environment 315 (2024): 114439."
      ]
    }
  ],
  "metadata": {
    "colab": {
      "provenance": [],
      "include_colab_link": true
    },
    "kernelspec": {
      "display_name": "Python 3",
      "name": "python3"
    },
    "language_info": {
      "name": "python"
    }
  },
  "nbformat": 4,
  "nbformat_minor": 0
}