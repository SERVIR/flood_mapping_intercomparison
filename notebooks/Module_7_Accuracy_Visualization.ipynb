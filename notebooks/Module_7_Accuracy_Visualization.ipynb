{
  "cells": [
    {
      "cell_type": "markdown",
      "metadata": {
        "id": "view-in-github",
        "colab_type": "text"
      },
      "source": [
        "<a href=\"https://colab.research.google.com/github/SERVIR/flood_mapping_intercomparison/blob/main/notebooks/Module_7_Accuracy_Visualization.ipynb\" target=\"_parent\"><img src=\"https://colab.research.google.com/assets/colab-badge.svg\" alt=\"Open In Colab\"/></a>"
      ]
    },
    {
      "cell_type": "markdown",
      "source": [
        "In Module 6, we obtained a CSV containing metrics derived from confusion matrices of various flood events. In this module, we will visualize those metrics for different events, and for different subpopulations of the events (e.g. for different slope regimes, and for different land cover types)."
      ],
      "metadata": {
        "id": "4TJCjCFaLcVv"
      }
    },
    {
      "cell_type": "markdown",
      "source": [
        "### MODIFIABLE VARIABLE ALERT\n",
        "\n",
        "Change the variables below to match the CSV file where you wrote your statistics to"
      ],
      "metadata": {
        "id": "ksDn2h2oRZ6s"
      }
    },
    {
      "cell_type": "code",
      "source": [
        "# This string needs to end in .csv\n",
        "my_csv= 'gfip_master_stats_modded.csv'"
      ],
      "metadata": {
        "id": "-jd1CMpEL27r"
      },
      "execution_count": null,
      "outputs": []
    },
    {
      "cell_type": "code",
      "source": [
        "# Import Relevant Packages\n",
        "import pandas as pd\n",
        "import seaborn as sns\n",
        "from google.colab import drive\n",
        "import matplotlib.pyplot as plt\n",
        "import os"
      ],
      "metadata": {
        "id": "PoXj9TBpe3tH"
      },
      "execution_count": null,
      "outputs": []
    },
    {
      "cell_type": "code",
      "source": [
        "# Mount Google Drive\n",
        "drive.mount('/content/drive/')"
      ],
      "metadata": {
        "id": "-qJ-XA6Pe0bq"
      },
      "execution_count": null,
      "outputs": []
    },
    {
      "cell_type": "code",
      "source": [
        "# Choose the \"My Drive\" folder in Google Drive.\n",
        "os.chdir('drive/My Drive')"
      ],
      "metadata": {
        "id": "Z4aXBVMqfOxh"
      },
      "execution_count": null,
      "outputs": []
    },
    {
      "cell_type": "code",
      "source": [
        "# Use pandas to read your reference data csv\n",
        "df = pd.read_csv(my_csv)"
      ],
      "metadata": {
        "id": "Q-1aC2n5fYby"
      },
      "execution_count": null,
      "outputs": []
    },
    {
      "cell_type": "markdown",
      "source": [
        "# Part 1: All Points, All Stats\n",
        "\n",
        "First, we will plot our metrics for all reference data points. Then we will visualize our metrics for different subsets of the data."
      ],
      "metadata": {
        "id": "-My-4O9GVLDy"
      }
    },
    {
      "cell_type": "code",
      "source": [
        "# Subset the data to statistics representing all land cover classes, all slope classes, and all land covers\n",
        "subset = df[df['Elevation_Class'] == 'All']\n",
        "subset2 = subset[subset['Slope_Class'] == 'All']\n",
        "all_lcs_sl_el = subset2[subset2['Land_Cover'] == 'All']\n",
        "\n",
        "all_lcs_sl_el_accuracy = all_lcs_sl_el[all_lcs_sl_el['Statistic'] == 'Overall Accuracy']"
      ],
      "metadata": {
        "id": "LMeQh9QapSFV"
      },
      "execution_count": null,
      "outputs": []
    },
    {
      "cell_type": "code",
      "source": [
        "#all_lcs_sl_el.shape"
      ],
      "metadata": {
        "id": "uN6wHVnlzcoM"
      },
      "execution_count": null,
      "outputs": []
    },
    {
      "cell_type": "markdown",
      "source": [
        "Let's define a function that will allow us to visualize different statistics in different ways"
      ],
      "metadata": {
        "id": "lIDaR1VBMFwL"
      }
    },
    {
      "cell_type": "code",
      "source": [
        "def plot_func(subset, plot_min, axis_label, order1, group_by='Flood_Event', chart_type = 'barplot'):\n",
        "  '''\n",
        "  plot_func function will plot visualize different statistics via a plot\n",
        "  subset = a pandas dataframe containing the data you want to plot\n",
        "  plot_min = a value between 0 and 1 (e.g. 0.5). The plot will use this as the minimum y value\n",
        "  axis_label = a string that will be used as the label for the y-axis\n",
        "  order1 = a list of strings that contains the order of the statistics to plot.\n",
        "  group_by = how the bars or dots will be grouped. Can be 'Flood_Event', 'Statistic', 'Slope', 'Land Cover'\n",
        "  chart_type = 'barplot' or 'stripplot'. Changes whether the plot will be bars or dots.\n",
        "  '''\n",
        "\n",
        "  # Set the style for the plot\n",
        "  sns.set_style('whitegrid')\n",
        "\n",
        "  # Group by logic\n",
        "  if group_by == 'Statistic':\n",
        "    group = 'Statistic'\n",
        "    this_x = 'Flood_Event'\n",
        "  if group_by == 'Flood_Event':\n",
        "    group = 'Flood_Event'\n",
        "    this_x = 'Statistic'\n",
        "  if group_by == 'Land_Cover':\n",
        "    group = 'Flood_Event'\n",
        "    this_x = 'Land_Cover'\n",
        "  if group_by == 'Slope':\n",
        "    group = 'Flood_Event'\n",
        "    this_x = 'Slope_Class'\n",
        "\n",
        "  # Create a figure\n",
        "  fig, axes = plt.subplots(nrows = 2, ncols = 3, figsize = (20,10), sharey = True)\n",
        "  axes = axes.flatten()\n",
        "\n",
        "  # Define the groups based on the group_by parameter\n",
        "  my_groups = subset[group].unique()\n",
        "  print(my_groups)\n",
        "\n",
        "  ####################### Bar Plot #########################################\n",
        "  if chart_type == 'barplot':\n",
        "    sns.set_style('whitegrid')\n",
        "\n",
        "    # for each group, construct a bar plot of different statistics\n",
        "    for p, this_group in enumerate(my_groups):\n",
        "      this_subset = subset[subset[group] == this_group]\n",
        "\n",
        "      # get the subplot of interest\n",
        "      this_ax = axes[p]\n",
        "\n",
        "      # Construct barplot\n",
        "      sns.barplot(data = this_subset,\n",
        "                    x = this_x,\n",
        "                    y = 'Value',\n",
        "                    hue = 'Product',\n",
        "                    palette = 'colorblind',\n",
        "                    hue_order = order1,\n",
        "                    ax = this_ax)\n",
        "\n",
        "      # Set the minimum y value\n",
        "      this_ax.set_ylim([plot_min, 1])\n",
        "\n",
        "      # labelling and legends\n",
        "      this_ax.set_xlabel(\"\")\n",
        "      this_ax.set_ylabel(axis_label)\n",
        "      this_ax.get_legend().remove()\n",
        "      this_ax.set_title(f'{this_group}')\n",
        "\n",
        "      #Vertical Divider in between grouped bars\n",
        "      xticks = this_ax.get_xticks()\n",
        "      for m in range(1, len(xticks)):\n",
        "        this_ax.axvline(x=(xticks[m] + xticks[m-1])/2, color='gray', linestyle = '--', alpha = 0.4)\n",
        "\n",
        "  ########################### STRIP PLOT ##################################################\n",
        "  if chart_type == 'stripplot':\n",
        "    for k, this_group in enumerate(my_groups):\n",
        "      this_subset = subset[subset[group] == this_group]\n",
        "      this_ax = axes[k]                                      # Get subplot of interest\n",
        "\n",
        "      sns.stripplot(data = this_subset,                      # Make stripplot\n",
        "                    x = this_x,\n",
        "                    y = 'Value',\n",
        "                    hue = 'Product',\n",
        "                    dodge = True,\n",
        "                    size = 12,\n",
        "                    palette = 'colorblind',\n",
        "                    hue_order = order1,\n",
        "                    ax = this_ax)\n",
        "\n",
        "      # Make the plot look nice\n",
        "      this_ax.set_ylim([plot_min, 1])\n",
        "      this_ax.set_ylabel(axis_label)\n",
        "      this_ax.set_xlabel(\"\")\n",
        "      this_ax.get_legend().remove()\n",
        "      this_ax.set_title(f'{this_group}')\n",
        "\n",
        "      #Vertical Divider in between grouped bars\n",
        "      xticks = this_ax.get_xticks()\n",
        "      for m in range(1, len(xticks)):\n",
        "        this_ax.axvline(x=(xticks[m] + xticks[m-1])/2, color='gray', linestyle = '--', alpha = 0.4)\n",
        "\n",
        "  ######################### GENERAL PLOTTING ##############################################\n",
        "  handles, labels = axes[0].get_legend_handles_labels()\n",
        "\n",
        "  fig.legend(handles, labels, loc= 'center right', bbox_to_anchor=(0.85, 0.25), fontsize = 'xx-large')\n",
        "  fig.delaxes(axes[-1])\n",
        "  plt.show()"
      ],
      "metadata": {
        "id": "cxTlxtH2PZQw"
      },
      "execution_count": null,
      "outputs": []
    },
    {
      "cell_type": "markdown",
      "source": [
        "# Part 1 Step 1: Seaborn's Strip Plot\n",
        "\n",
        "Using Seaborn's strip plot and subplots within a for loop, we can generate grouped visualizations of the performance metric. Each subplot will be a different metric (e.g. accuracy, precision, etc), and each group of points will be a different case study."
      ],
      "metadata": {
        "id": "xczrLUrlpaMt"
      }
    },
    {
      "cell_type": "code",
      "source": [
        "# Define a custom order so that all plots show the same product with the same color and location.\n",
        "my_order = ['DSWx-S1', 'DSWx-HLS', 'GFM', 'HYDRAFloods', 'HYDROSAR', 'MCDWD', 'VFM']"
      ],
      "metadata": {
        "id": "chKxR_a_PzZz"
      },
      "execution_count": null,
      "outputs": []
    },
    {
      "cell_type": "code",
      "source": [
        "# Run the plot_func function for all reference data points using strip plot\n",
        "plot_func(all_lcs_sl_el, 0, 'Value', my_order, group_by = 'Statistic', chart_type='stripplot')"
      ],
      "metadata": {
        "id": "SlWWLohwYO6j"
      },
      "execution_count": null,
      "outputs": []
    },
    {
      "cell_type": "markdown",
      "source": [
        "## Part 1 Step 2: Seaborn's Bar Plot\n",
        "\n",
        "Now let's try the same visualization, this time using Seaborn's Barplot function. This will be the same data, just with a slightly different representation"
      ],
      "metadata": {
        "id": "25F7-HndwUY5"
      }
    },
    {
      "cell_type": "code",
      "source": [
        "plot_func(all_lcs_sl_el, 0.7, 'Value', my_order, group_by = 'Statistic', chart_type='barplot')"
      ],
      "metadata": {
        "id": "VQxqL7F1aIA3"
      },
      "execution_count": null,
      "outputs": []
    },
    {
      "cell_type": "markdown",
      "source": [
        "For the rest of this module, we will use Seaborn's barplot, as it is a little easier to remember which dot/bar corresponds to which product."
      ],
      "metadata": {
        "id": "uZtoVnuPwgE_"
      }
    },
    {
      "cell_type": "markdown",
      "source": [
        "Some observations for the above statistics are shown below.\n",
        "* Accuracy\n",
        "  * DSWx-HLS has the highest accuracy for 3 out of 5 case studies and the 2nd highest for another\n",
        "  * Dswx-S1 has the lowest accuracy for 2 of the 4 case studies it was available for\n",
        "  * All products show decent to good accuracies, between ~ 0.79 - 0.95\n",
        "* Precision\n",
        "  * DSWx-HLS has the highest precision for 4 out of 5 of the case studies, and the 2nd highest precision for the 5th case study\n",
        "    * For two case studies, DSWx-HLS has a precision of 0.2 greater than the next best product\n",
        "  * VFM has the lowest precision for 2 of 5 case studies\n",
        "  * Optical products have a higher precision for the Arkansas Case Study than SAR products, despite two of the optical products having much worse spatial resolutions\n",
        "* Recall\n",
        "  * HYDRAFloods had the best recall for three out of five case studies, and the second best recall for the additional two case studies\n",
        "  * DSWx-HLS showed poor recall in Chad and Pakistan\n",
        "  * DSWx-S1 showed very poor recall in Chad\n",
        "* F1 score\n",
        "  * HYDRAFloods showed the best F1 score in three of five case studies, and the second best F1 score in an additional case study.\n",
        "  * DSwx-S1 showed the lowest F1 score in two of the four case studies it was avilable for\n",
        "  * DSWx-HLS had the highest F1 score for two of five case studies, but the 2nd lowest f1 score for two other case studies (Chad and Pakistan)\n",
        "* NMCC\n",
        "  * HYDRAFloods had the best NMCC for three of the five case studies\n",
        "  * DSWx-HLS had the best NMCC for the other two case studies (Arkansas and Florida)\n",
        "  * DSWx-S1 had the lowest NMCC for two of the four case studies it was available for.\n",
        "* Low spatial resolution products perform comparably to high spatial resolution products in a point-based assessment\n"
      ],
      "metadata": {
        "id": "vSlQzt8nja49"
      }
    },
    {
      "cell_type": "markdown",
      "source": [
        "Now, let's use a different flood event for each subplot, and group the stats by flood event rather than statistic."
      ],
      "metadata": {
        "id": "D3RBXh84bLb_"
      }
    },
    {
      "cell_type": "code",
      "source": [
        "plot_func(all_lcs_sl_el, 0, 'Value', my_order, group_by = 'Flood_Event', chart_type='barplot')"
      ],
      "metadata": {
        "id": "ZtxsbRq9bcGz"
      },
      "execution_count": null,
      "outputs": []
    },
    {
      "cell_type": "markdown",
      "source": [
        "Some observations broken down by case study:\n",
        "\n",
        "* Cambodia\n",
        "  * For three of five metrics (accuracy, f1 score, nmcc), HYDRAFloods performed the best in Cambodia\n",
        "  * For four of five metrics (all except precision), DSWx-S1 perfomred the worst in Cambodia\n",
        "  * All products show f1 scores around 0.8, suggesting good balance of precision and recall.\n",
        "  Aside from VFM, all products show a higher precision than recall.\n",
        "* Chad\n",
        "  * For four of five metrics (all except precision), HYDRAFloods performed the best in Chad\n",
        "  * For all metrics, DSWx-S1 performed the worst of the flood products in Chad\n",
        "  * All products show a higher precision than recall\n",
        "* Arkansas\n",
        "  * DSWx-HLS performed the best for four out of five metrics (all except recall) in Arkansas\n",
        "  * All SAR products show a lower precision than recall.\n",
        "* Florida\n",
        "  * DSWx-HLS performed the best on all metrics in Florida\n",
        "* Pakistan\n",
        "  * DSWx-HLS has the best accuracy and precision, but 2nd worst recall and f1 score\n",
        "\n",
        "\n",
        "Observations disaggregated by product\n",
        "* DSWx-HLS had a higher precision than recall for all five case studies\n",
        "* DSwx-S1 had a higher precision than recall for two case studies\n",
        "* HYDRAFloods had a lower precision than recall for three case studies\n",
        "* HYDROSAR had a lower precision than recall for three case studies\n",
        "* GFM had a higher precision than recall for three case studies\n",
        "* MCDWD had a higher precision than recall for all case studies\n",
        "* VFM had a higher precision than recall for three case studies"
      ],
      "metadata": {
        "id": "Yx_G9_LHf07I"
      }
    },
    {
      "cell_type": "markdown",
      "source": [
        "# Part 2: Land Cover\n",
        "\n",
        "Now that we have observed the general trends for the data as a who;e, let's see how the products perform in different land cover regimes."
      ],
      "metadata": {
        "id": "uQRuYytjVdMv"
      }
    },
    {
      "cell_type": "code",
      "source": [
        "# Subset the data to get all elevation classes\n",
        "subset_a = df[df['Elevation_Class'] == 'All']\n",
        "\n",
        "# Subset the data from the previous line to get all slope classes\n",
        "subset_b = subset_a[subset_a['Slope_Class'] == 'All']\n",
        "\n",
        "# Subset the data from the previous line to get overall accuracy points\n",
        "subset_lcs = subset_b[subset_b['Statistic'] == 'Overall Accuracy']\n",
        "\n",
        "# Subset the subset_b data to get only points containing precision\n",
        "subset_lc_prec = subset_b[subset_b['Statistic']=='Precision']\n",
        "\n",
        "# Subset the subset_b data to get only points containing recall\n",
        "subset_lc_rec = subset_b[subset_b['Statistic']=='Recall']"
      ],
      "metadata": {
        "id": "Yfk9GOLyvvBe"
      },
      "execution_count": null,
      "outputs": []
    },
    {
      "cell_type": "markdown",
      "source": [
        "## Part 2 Step 1: Overall Accuracy\n",
        "\n",
        "Let's look at how the accuracy for different products changes depending on the land cover type."
      ],
      "metadata": {
        "id": "Jex6BYr6MgH_"
      }
    },
    {
      "cell_type": "code",
      "source": [
        "plot_func(subset_lcs, 0.5, 'Accuracy', my_order, group_by = 'Land_Cover', chart_type='barplot')"
      ],
      "metadata": {
        "id": "pS-MKIv50GaB"
      },
      "execution_count": null,
      "outputs": []
    },
    {
      "cell_type": "markdown",
      "source": [
        "Observations\n",
        "\n",
        "* DSWx-HLS has the highest accuracy for cropland for all case studies"
      ],
      "metadata": {
        "id": "gZKGYqK4QNfd"
      }
    },
    {
      "cell_type": "markdown",
      "source": [
        "## Part 2 Step 2: Precision\n",
        "\n",
        "$ Precision = \\frac{TP}{TP + FN}$. It is also known as the User's Accuracy for water. It tells us how many times a point that was identified as water by the reference dataset was mapped as water by each product.\n",
        "\n",
        "Let's look at how the precision changes for each product in different land cover types."
      ],
      "metadata": {
        "id": "9oF7jASRxSg0"
      }
    },
    {
      "cell_type": "code",
      "source": [
        "plot_func(subset_lc_prec, 0, 'Precision', my_order, group_by = 'Land_Cover', chart_type='barplot')"
      ],
      "metadata": {
        "id": "-o0AVhB3efc4"
      },
      "execution_count": null,
      "outputs": []
    },
    {
      "cell_type": "markdown",
      "source": [
        "* For one of the case studies (Arkansas), the optical products vastly outperform the SAR products in terms of precision for cropland\n",
        "* For one of the case studies (Arkansas), the optical products vastly outperform the SAR products in terms of precision for Bare\n",
        "  * For an additional case study (Pakistan), two fo the three optical products vastly outperform the SAR products in terms of precision for bare"
      ],
      "metadata": {
        "id": "DuTzT3ugiYsT"
      }
    },
    {
      "cell_type": "markdown",
      "source": [
        "## Part 2 Step 3: Recall\n",
        "\n",
        "$ Recall = \\frac{TP}{TP + FN} $. Recall is also known as the Producer's Accuracy for the Water Class. A higher recall means a lower false negative rate.\n",
        "\n",
        "Let's look at how the recall changes for different products depending on the land cover type."
      ],
      "metadata": {
        "id": "aB3-z-l_wB8B"
      }
    },
    {
      "cell_type": "code",
      "source": [
        "plot_func(subset_lc_rec, 0, 'Recall', my_order, group_by = 'Land_Cover', chart_type='barplot')"
      ],
      "metadata": {
        "id": "yA3_16q5f9ZV"
      },
      "execution_count": null,
      "outputs": []
    },
    {
      "cell_type": "markdown",
      "source": [
        "* Arkansas and Pakistan: SAR products show higher recall than optical products over cropland"
      ],
      "metadata": {
        "id": "LAP7RQ-BvlUR"
      }
    },
    {
      "cell_type": "markdown",
      "source": [
        "# Part 3: Slope"
      ],
      "metadata": {
        "id": "0ZFPTDbiXubz"
      }
    },
    {
      "cell_type": "code",
      "source": [
        "subset_alpha = df[df['Elevation_Class'] == 'All']\n",
        "subset_beta = subset_alpha[subset_alpha['Land_Cover'] == 'All']\n",
        "\n",
        "# We want to remove the \"Very Steep\" slope category, as our sample sizes for this subpopulation is very small\n",
        "subset_gamma = subset_beta[subset_beta['Slope_Class'] !='Very Steep']"
      ],
      "metadata": {
        "id": "mj75OTLONzkt"
      },
      "execution_count": null,
      "outputs": []
    },
    {
      "cell_type": "markdown",
      "source": [
        "We want to rename \"Very Shallow\" to \"Low\", \"Moderately Shallow\" to \"Medium\", and \"Moderately Steep\" to \"High\".\n",
        "\n",
        "Our definition of each slope class is as follows:\n",
        "\n",
        "\n",
        "*  Low: < 1.39%  \n",
        "*  Medium: 1.39% < x < 3.96%\n",
        "*  High: 3.96% < x < 12%\n",
        "\n",
        "\n",
        "\n",
        "\n"
      ],
      "metadata": {
        "id": "_iXHxtZaVBV-"
      }
    },
    {
      "cell_type": "code",
      "source": [
        "# Rename the groups as suggested above\n",
        "subset_gamma.replace('Very Shallow', 'Low', inplace=True)\n",
        "subset_gamma.replace('Moderately Shallow', 'Medium', inplace=True)\n",
        "subset_gamma.replace('Moderately Steep', 'High', inplace=True)"
      ],
      "metadata": {
        "id": "iyg1y9AbUnHA"
      },
      "execution_count": null,
      "outputs": []
    },
    {
      "cell_type": "code",
      "source": [
        "# We will get three different subsets to\n",
        "subset_slope_acc = subset_gamma[subset_gamma['Statistic'] == 'Overall Accuracy']\n",
        "subset_slope_prec = subset_gamma[subset_gamma['Statistic']=='Precision']\n",
        "subset_slope_rec = subset_gamma[subset_gamma['Statistic']=='Recall']"
      ],
      "metadata": {
        "id": "JTjyCMQaUL3d"
      },
      "execution_count": null,
      "outputs": []
    },
    {
      "cell_type": "markdown",
      "source": [
        "## Part 3 Step 1: Overall Accuracy\n",
        "\n",
        "Let's look at how the overall accuracy for different products changes in different slope regimes."
      ],
      "metadata": {
        "id": "Tdp6fuvxV1_X"
      }
    },
    {
      "cell_type": "code",
      "source": [
        "plot_func(subset_slope_acc, 0.6, 'Accuracy', my_order, group_by = 'Slope', chart_type='barplot')"
      ],
      "metadata": {
        "id": "AQr2YHv2w-Hi"
      },
      "execution_count": null,
      "outputs": []
    },
    {
      "cell_type": "markdown",
      "source": [
        "## Part 3 Step 2: Precision\n",
        "\n",
        "Let's look at how the precision of different products changes over different slope regimes"
      ],
      "metadata": {
        "id": "uoa3o_mPV-cY"
      }
    },
    {
      "cell_type": "code",
      "source": [
        "plot_func(subset_slope_prec, 0, 'Precision', my_order, group_by = 'Slope', chart_type='barplot')"
      ],
      "metadata": {
        "id": "4hOl64uzxUVf"
      },
      "execution_count": null,
      "outputs": []
    },
    {
      "cell_type": "markdown",
      "source": [
        "## Part 3 Step 3: Recall\n",
        "\n",
        "Finally, let's look at how recall changes for each product depending on the slope regime we are in."
      ],
      "metadata": {
        "id": "t7Rcyx1vWGIh"
      }
    },
    {
      "cell_type": "code",
      "source": [
        "plot_func(subset_slope_rec, 0, 'Recall', my_order, group_by = 'Slope', chart_type='barplot')"
      ],
      "metadata": {
        "id": "JPovHUyRx0yj"
      },
      "execution_count": null,
      "outputs": []
    },
    {
      "cell_type": "markdown",
      "source": [
        "* For all products, recall decreases as slope increases\n",
        "  * For some case studies such as Chad, this effect is more pronounced for SAR products."
      ],
      "metadata": {
        "id": "NG6Sb5de1vcW"
      }
    },
    {
      "cell_type": "markdown",
      "source": [
        "# Step 4: Observations and Conclusions\n",
        "\n",
        "### OBSERVATIONS\n",
        "\n",
        "The observations from above are pasted below so we can draw some general conclusions\n",
        "\n",
        "Some observations for the above statistics are shown below.\n",
        "* Observations disaggregated by Statistic\n",
        "  * Accuracy\n",
        "    * DSWx-HLS has the highest accuracy for 3 out of 5 case studies and the 2nd highest for another\n",
        "    * Dswx-S1 has the lowest accuracy for 2 of the 4 case studies it was available for\n",
        "    * All products show decent to good accuracies, between ~ 0.79 - 0.95\n",
        "  * Precision\n",
        "    * DSWx-HLS has the highest precision for 4 out of 5 of the case studies, and the 2nd highest precision for the 5th case study\n",
        "      * For two case studies, DSWx-HLS has a precision of 0.2 greater than the next best product\n",
        "    * VFM has the lowest precision for 2 of 5 case studies\n",
        "    * Optical products have a higher precision for the Arkansas Case Study than SAR products, despite two of the optical products having much worse spatial resolutions\n",
        "  * Recall\n",
        "    * HYDRAFloods had the best recall for three out of five case studies, and the second best recall for the additional two case studies\n",
        "    * DSWx-HLS showed poor recall in Chad and Pakistan\n",
        "    * DSWx-S1 showed very poor recall in Chad\n",
        "  * F1 score\n",
        "    * HYDRAFloods showed the best F1 score in three of five case studies, and the second best F1 score in an additional case study.\n",
        "    * DSwx-S1 showed the lowest F1 score in two of the four case studies it was avilable for\n",
        "    * DSWx-HLS had the highest F1 score for two of five case studies, but the 2nd lowest f1 score for two other case studies (Chad and Pakistan)\n",
        "  * NMCC\n",
        "    * HYDRAFloods had the best NMCC for three of the five case studies\n",
        "    * DSWx-HLS had the best NMCC for the other two case studies (Arkansas and Florida)\n",
        "    * DSWx-S1 had the lowest NMCC for two of the four case studies it was available for.\n",
        "  * Low spatial resolution products perform comparably to high spatial resolution products in a point-based assessment\n",
        "* Observations disaggregated by case study:\n",
        "  * Cambodia\n",
        "    * For three of five metrics (accuracy, f1 score, nmcc), HYDRAFloods performed the best in Cambodia\n",
        "    * For four of five metrics (all except precision), DSWx-S1 perfomred the worst in Cambodia\n",
        "    * All products show f1 scores around 0.8, suggesting good balance of precision and recall.\n",
        "    Aside from VFM, all products show a higher precision than recall.\n",
        "  * Chad\n",
        "    * For four of five metrics (all except precision), HYDRAFloods performed the best in Chad\n",
        "    * For all metrics, DSWx-S1 performed the worst of the flood products in Chad\n",
        "    * All products show a higher precision than recall\n",
        "  * Arkansas\n",
        "    * DSWx-HLS performed the best for four out of five metrics (all except recall) in Arkansas\n",
        "    * All SAR products show a lower precision than recall.\n",
        "  * Florida\n",
        "    * DSWx-HLS performed the best on all metrics in Florida\n",
        "  * Pakistan\n",
        "    * DSWx-HLS has the best accuracy and precision, but 2nd worst recall and f1 score\n",
        "* Observations disaggregated by product\n",
        "  * DSWx-HLS had a higher precision than recall for all five case studies\n",
        "  * DSwx-S1 had a higher precision than recall for two case studies\n",
        "  * HYDRAFloods had a lower precision than recall for three case studies\n",
        "  * HYDROSAR had a lower precision than recall for three case studies\n",
        "  * GFM had a higher precision than recall for three case studies\n",
        "  * MCDWD had a higher precision than recall for all case studies\n",
        "  * VFM had a higher precision than recall for three case studies\n",
        "* Observations disaggregated by land cover\n",
        "  * DSWx-HLS has the highest accuracy for cropland for all case studies\n",
        "  * For one of the case studies (Arkansas), the optical products vastly outperform the SAR products in terms of precision for cropland\n",
        "  * For one of the case studies (Arkansas), the optical products vastly outperform the SAR products in terms of precision for Bare\n",
        "    * For an additional case study (Pakistan), two fo the three optical products vastly outperform the SAR products in terms of precision for bare\n",
        "  * For Arkansas and Pakistan, SAR products show higher recall than optical products over cropland\n",
        "* Observations disaggregated by slope\n",
        "  * For all products, recall decreases as slope increases\n",
        "  * For some case studies such as Chad, this effect is more pronounced for SAR products.\n",
        "\n",
        "### CONCLUSIONS\n",
        "\n",
        "* All products show good to very good accuracies, ranging from 0.79 - 0.98\n",
        "* DSWx-HLS is the best performer all around\n",
        "  * Highest accuracy for 3/5 case studies. 2nd highest accuracy for another. highest precision for 4/5 case studies, with the 2nd highest for the 5th.\n",
        "    * Highest precision indicates that DSWx-HLS has a low false positive rate, could be useful for end users who want to stray away from false alarms\n",
        "  * Poor recall in the arid case studies (Chad & Pakistan) suggests that end users in arid regions that do not want to risk false negatives may want to stray away from DSWx-HLS\n",
        "  * Highest F1 score for two case studies but lowest F1 score for two others (arid case studies) suggests that the balance of precision and recall is location dependent\n",
        "  * The fact that DSWx-HLS has the highest NMCC for two of the case studies indicates that its high accuracy is not just due to the large class imbalance between water and nonwater.\n",
        "* DSWx-S1 has the worst performance all-around\n",
        "  * Lowest accuracy, f1 score, and NMCC for two of four case studies.\n",
        "    * Low NMCC indicates that low accuracy was not solely due to class imbalance\n",
        "    * Low F1 score indicates poor balance of precision and recall\n",
        "    * showed very poor recall over Chad\n",
        "  * HYDRAFloods shows low false negative rate and good balance of precision and recall\n",
        "    * HYDRAFloods has the best (3) or second-best (2) recall for all five case studies\n",
        "      * This implies low false negative rate\n",
        "    * HYDRAFloods has the best F1 score in three case studies, second best F1 score in an additional case study\n",
        "      * This implies a good balance between precision and recall, especially because it performed so well in recall\n",
        "    * HYDRAFloods has the best NMCC in 3/5 case studies\n",
        "      * This indicates that it has a strong performance when accounting for the class imbalance present in the sample\n",
        "* Preference of precision or Recall?\n",
        "  * DSWx-HLS and VFM have a higher precision than recall for all case studies\n",
        "    * This indicates that they are more likely to produce false negatives than false positives\n",
        "* Land Cover\n",
        "  * The lack of reference water points in classes of interest (bare, built, cropland) in all case studies severely limits our ability to draw conclusions here, especially for the built class\n",
        "  *\n",
        "* Slope\n",
        "  * Generally speaking, for all products, recall decreases as the slope increases\n"
      ],
      "metadata": {
        "id": "IzmUe6dr2oIT"
      }
    }
  ],
  "metadata": {
    "colab": {
      "provenance": [],
      "include_colab_link": true
    },
    "kernelspec": {
      "display_name": "Python 3",
      "name": "python3"
    },
    "language_info": {
      "name": "python"
    }
  },
  "nbformat": 4,
  "nbformat_minor": 0
}