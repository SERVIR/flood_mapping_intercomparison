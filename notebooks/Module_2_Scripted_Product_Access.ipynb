{
  "cells": [
    {
      "cell_type": "markdown",
      "metadata": {
        "id": "view-in-github",
        "colab_type": "text"
      },
      "source": [
        "<a href=\"https://colab.research.google.com/github/SERVIR/flood_mapping_intercomparison/blob/main/notebooks/Module_2_Scripted_Product_Access.ipynb\" target=\"_parent\"><img src=\"https://colab.research.google.com/assets/colab-badge.svg\" alt=\"Open In Colab\"/></a>"
      ]
    },
    {
      "cell_type": "markdown",
      "source": [
        "# In this module, we will get access to the following flood products\n",
        "\n",
        "1. DSWx-HLS\n",
        "2. DSWx-S1\n",
        "3. VFM\n",
        "4. GFM\n",
        "5. MCDWD\n",
        "6. HYDRAFloods\n",
        "7. HYDROSAR\n",
        "\n",
        "We can access the DSWx-HLS and DSWx-S1 products via the earthaccess python package. In order to run this code you will need\n",
        "\n",
        "1. A NASA Earthdata login\n",
        "  * If you do not have a NASA Earthdata login, you can register via [this link](https://urs.earthdata.nasa.gov/users/new)\n",
        "2. A Copernicus Emergency Management GFM profile\n",
        "  * If you do not have a GFM profile, you can register via [this link](https://portal.gfm.eodc.eu/register)"
      ],
      "metadata": {
        "id": "Ftyc2P-ALYMu"
      }
    },
    {
      "cell_type": "markdown",
      "source": [
        "### **IMPORTANT**\n",
        "\n",
        "To access the DSWX-HLS products and run HYDROSAR, you will need a NASA Earthdata account .\n",
        " * If you do not have one, you can register [here](https://urs.earthdata.nasa.gov/users/new) free of charge\n",
        " * If you do have a NASA Earthdata account, you can login [here](https://urs.earthdata.nasa.gov/home) to double-check that your credentialS\n",
        "\n",
        "To access the GFM product, you will need a GFM account\n",
        "\n",
        "* If you do not have a GFM account, you can register [here](https://portal.gfm.eodc.eu/register) free of charge.\n",
        "* If you do have  a GFM account, you can login [here](https://portal.gfm.eodc.eu/login?redirect=%5Bobject%20Object%5D) to double-check your credentials.\n",
        "\n",
        "### **MODIFIABLE VARIABLE ALERT**\n",
        "\n",
        "Declare some of your global variables below."
      ],
      "metadata": {
        "id": "hWKI5bDasmfR"
      }
    },
    {
      "cell_type": "code",
      "source": [
        "my_earthdata_login = \"maynard_maganini\"                                     # Replace with your earthdata login (email adress) in string format\n",
        "my_earthdata_password = \"Piccolo1998!\"                                     # Replace with your earthdata password in string format\n",
        "my_gfm_email = \"mrm0065@uah.edu\"                                           # Replace with your GFM login (email adress) in string format\n",
        "my_gfm_password = \"Reese1998!\"                                          # Replace with your GFM password in string format\n",
        "\n",
        "my_gee_folder = \"users/mickymags/aug_fmi_cambodia_20241001/\"               # Make sure this ends in a slash\n",
        "my_gee_project = \"servir-sco-assets\"\n",
        "my_Gdrive_folder = 'drive/MyDrive/Flood_Intercomparison/Case_Studies/aug/aug_cambodia_20241001/'   # Make sure this ends in a slash\n",
        "my_start_date = \"2024-10-01\"\n",
        "flood_event_desc = 'cambodia_testing'"
      ],
      "metadata": {
        "id": "Df923YtDsoqh"
      },
      "execution_count": null,
      "outputs": []
    },
    {
      "cell_type": "markdown",
      "source": [
        "# Step 0: Take care of some housekeeping matters\n",
        "\n",
        "Before we start requesting some data, we need to do a couple of things\n",
        "\n",
        "1. Create a .netrc file.\n",
        "  * A .netrc file allows us to mimic the login process we would do when we sign into a website such as NASA Earthdata to download data. Usually this would be a file that exists in our home directory, but since we are working in Google Colaboratory, we can do this programatically\n",
        "2. Install and import various packages we will use throughout the rest of the notebook\n",
        "3. Define the bounding box based on the area of interest we have in Google Earth Engine\n",
        "4. Mount Google Drive"
      ],
      "metadata": {
        "id": "mxQxhVPmve45"
      }
    },
    {
      "cell_type": "markdown",
      "source": [
        "## Step 0 Part 1: Create the .netrc file"
      ],
      "metadata": {
        "id": "Aw9CIRUywiDR"
      }
    },
    {
      "cell_type": "code",
      "source": [
        "my_netrc_string = \"machine urs.earthdata.nasa.gov login \" + my_earthdata_login + \" password \" + my_earthdata_password"
      ],
      "metadata": {
        "id": "l7dkkd_Ls0bj"
      },
      "execution_count": null,
      "outputs": []
    },
    {
      "cell_type": "markdown",
      "source": [
        "Credit to user jruss on stackoverflow.com for the piece of code below, see [this post](https://stackoverflow.com/questions/67153514/use-request-with-nasa-data-on-google-colaboratory)"
      ],
      "metadata": {
        "id": "51bMzpsSw1lB"
      }
    },
    {
      "cell_type": "code",
      "source": [
        "# Setup NASA\n",
        "!touch /root/.netrc\n",
        "!echo $my_netrc_string >/root/.netrc\n",
        "!chmod 0600 /root/.netrc"
      ],
      "metadata": {
        "id": "uypzP_eHEsRy"
      },
      "execution_count": null,
      "outputs": []
    },
    {
      "cell_type": "markdown",
      "source": [
        "# Step 0 Part 2: Install and Import Relevant Python Packages"
      ],
      "metadata": {
        "id": "sEQ1aWmTxFHL"
      }
    },
    {
      "cell_type": "code",
      "source": [
        "!pip install boto3                                     # Install boto3\n",
        "!pip install earthaccess                               # Install earthaccess\n",
        "!pip install ipyleaflet==0.18.2 geemap hydrafloods     # Install hydrafloods and its relevant dependencies\n",
        "!pip install hydrosar asf_tools hyp3_sdk               # Install hydrosar and its relevant dependencies\n",
        "!pip install geemap\n",
        "!pip install opensarlab_lib"
      ],
      "metadata": {
        "id": "UN5euAdVMMte",
        "colab": {
          "base_uri": "https://localhost:8080/"
        },
        "outputId": "b24f5333-bb4e-4e6e-843c-15fa4a21688e"
      },
      "execution_count": null,
      "outputs": [
        {
          "output_type": "stream",
          "name": "stdout",
          "text": [
            "Collecting boto3\n",
            "  Downloading boto3-1.40.10-py3-none-any.whl.metadata (6.7 kB)\n",
            "Collecting botocore<1.41.0,>=1.40.10 (from boto3)\n",
            "  Downloading botocore-1.40.10-py3-none-any.whl.metadata (5.7 kB)\n",
            "Collecting jmespath<2.0.0,>=0.7.1 (from boto3)\n",
            "  Downloading jmespath-1.0.1-py3-none-any.whl.metadata (7.6 kB)\n",
            "Collecting s3transfer<0.14.0,>=0.13.0 (from boto3)\n",
            "  Downloading s3transfer-0.13.1-py3-none-any.whl.metadata (1.7 kB)\n",
            "Requirement already satisfied: python-dateutil<3.0.0,>=2.1 in /usr/local/lib/python3.11/dist-packages (from botocore<1.41.0,>=1.40.10->boto3) (2.9.0.post0)\n",
            "Requirement already satisfied: urllib3!=2.2.0,<3,>=1.25.4 in /usr/local/lib/python3.11/dist-packages (from botocore<1.41.0,>=1.40.10->boto3) (2.5.0)\n",
            "Requirement already satisfied: six>=1.5 in /usr/local/lib/python3.11/dist-packages (from python-dateutil<3.0.0,>=2.1->botocore<1.41.0,>=1.40.10->boto3) (1.17.0)\n",
            "Downloading boto3-1.40.10-py3-none-any.whl (140 kB)\n",
            "\u001b[2K   \u001b[90m━━━━━━━━━━━━━━━━━━━━━━━━━━━━━━━━━━━━━━━━\u001b[0m \u001b[32m140.1/140.1 kB\u001b[0m \u001b[31m6.1 MB/s\u001b[0m eta \u001b[36m0:00:00\u001b[0m\n",
            "\u001b[?25hDownloading botocore-1.40.10-py3-none-any.whl (14.0 MB)\n",
            "\u001b[2K   \u001b[90m━━━━━━━━━━━━━━━━━━━━━━━━━━━━━━━━━━━━━━━━\u001b[0m \u001b[32m14.0/14.0 MB\u001b[0m \u001b[31m22.5 MB/s\u001b[0m eta \u001b[36m0:00:00\u001b[0m\n",
            "\u001b[?25hDownloading jmespath-1.0.1-py3-none-any.whl (20 kB)\n",
            "Downloading s3transfer-0.13.1-py3-none-any.whl (85 kB)\n",
            "\u001b[2K   \u001b[90m━━━━━━━━━━━━━━━━━━━━━━━━━━━━━━━━━━━━━━━━\u001b[0m \u001b[32m85.3/85.3 kB\u001b[0m \u001b[31m4.7 MB/s\u001b[0m eta \u001b[36m0:00:00\u001b[0m\n",
            "\u001b[?25hInstalling collected packages: jmespath, botocore, s3transfer, boto3\n",
            "Successfully installed boto3-1.40.10 botocore-1.40.10 jmespath-1.0.1 s3transfer-0.13.1\n",
            "Collecting earthaccess\n",
            "  Downloading earthaccess-0.14.0-py3-none-any.whl.metadata (8.2 kB)\n",
            "Requirement already satisfied: fsspec>=2022.11 in /usr/local/lib/python3.11/dist-packages (from earthaccess) (2025.3.0)\n",
            "Requirement already satisfied: importlib-resources>=6.3.2 in /usr/local/lib/python3.11/dist-packages (from earthaccess) (6.5.2)\n",
            "Collecting multimethod>=1.8 (from earthaccess)\n",
            "  Downloading multimethod-2.0-py3-none-any.whl.metadata (9.2 kB)\n",
            "Collecting pqdm>=0.1 (from earthaccess)\n",
            "  Downloading pqdm-0.2.0-py2.py3-none-any.whl.metadata (3.2 kB)\n",
            "Collecting python-cmr>=0.10.0 (from earthaccess)\n",
            "  Downloading python_cmr-0.13.0-py3-none-any.whl.metadata (10 kB)\n",
            "Requirement already satisfied: requests>=2.26 in /usr/local/lib/python3.11/dist-packages (from earthaccess) (2.32.3)\n",
            "Collecting s3fs>=2022.11 (from earthaccess)\n",
            "  Downloading s3fs-2025.7.0-py3-none-any.whl.metadata (1.4 kB)\n",
            "Collecting tinynetrc>=1.3.1 (from earthaccess)\n",
            "  Downloading tinynetrc-1.3.1-py2.py3-none-any.whl.metadata (2.9 kB)\n",
            "Requirement already satisfied: typing-extensions>=4.10.0 in /usr/local/lib/python3.11/dist-packages (from earthaccess) (4.14.1)\n",
            "Collecting bounded-pool-executor (from pqdm>=0.1->earthaccess)\n",
            "  Downloading bounded_pool_executor-0.0.3-py3-none-any.whl.metadata (2.7 kB)\n",
            "Requirement already satisfied: tqdm in /usr/local/lib/python3.11/dist-packages (from pqdm>=0.1->earthaccess) (4.67.1)\n",
            "Requirement already satisfied: python-dateutil<3.0.0,>=2.8.2 in /usr/local/lib/python3.11/dist-packages (from python-cmr>=0.10.0->earthaccess) (2.9.0.post0)\n",
            "Requirement already satisfied: charset-normalizer<4,>=2 in /usr/local/lib/python3.11/dist-packages (from requests>=2.26->earthaccess) (3.4.3)\n",
            "Requirement already satisfied: idna<4,>=2.5 in /usr/local/lib/python3.11/dist-packages (from requests>=2.26->earthaccess) (3.10)\n",
            "Requirement already satisfied: urllib3<3,>=1.21.1 in /usr/local/lib/python3.11/dist-packages (from requests>=2.26->earthaccess) (2.5.0)\n",
            "Requirement already satisfied: certifi>=2017.4.17 in /usr/local/lib/python3.11/dist-packages (from requests>=2.26->earthaccess) (2025.8.3)\n",
            "Collecting aiobotocore<3.0.0,>=2.5.4 (from s3fs>=2022.11->earthaccess)\n",
            "  Downloading aiobotocore-2.24.1-py3-none-any.whl.metadata (25 kB)\n",
            "Collecting fsspec>=2022.11 (from earthaccess)\n",
            "  Downloading fsspec-2025.7.0-py3-none-any.whl.metadata (12 kB)\n",
            "Requirement already satisfied: aiohttp!=4.0.0a0,!=4.0.0a1 in /usr/local/lib/python3.11/dist-packages (from s3fs>=2022.11->earthaccess) (3.12.15)\n",
            "Collecting aioitertools<1.0.0,>=0.5.1 (from aiobotocore<3.0.0,>=2.5.4->s3fs>=2022.11->earthaccess)\n",
            "  Downloading aioitertools-0.12.0-py3-none-any.whl.metadata (3.8 kB)\n",
            "Collecting botocore<1.39.12,>=1.39.9 (from aiobotocore<3.0.0,>=2.5.4->s3fs>=2022.11->earthaccess)\n",
            "  Downloading botocore-1.39.11-py3-none-any.whl.metadata (5.7 kB)\n",
            "Requirement already satisfied: jmespath<2.0.0,>=0.7.1 in /usr/local/lib/python3.11/dist-packages (from aiobotocore<3.0.0,>=2.5.4->s3fs>=2022.11->earthaccess) (1.0.1)\n",
            "Requirement already satisfied: multidict<7.0.0,>=6.0.0 in /usr/local/lib/python3.11/dist-packages (from aiobotocore<3.0.0,>=2.5.4->s3fs>=2022.11->earthaccess) (6.6.4)\n",
            "Requirement already satisfied: wrapt<2.0.0,>=1.10.10 in /usr/local/lib/python3.11/dist-packages (from aiobotocore<3.0.0,>=2.5.4->s3fs>=2022.11->earthaccess) (1.17.3)\n",
            "Requirement already satisfied: aiohappyeyeballs>=2.5.0 in /usr/local/lib/python3.11/dist-packages (from aiohttp!=4.0.0a0,!=4.0.0a1->s3fs>=2022.11->earthaccess) (2.6.1)\n",
            "Requirement already satisfied: aiosignal>=1.4.0 in /usr/local/lib/python3.11/dist-packages (from aiohttp!=4.0.0a0,!=4.0.0a1->s3fs>=2022.11->earthaccess) (1.4.0)\n",
            "Requirement already satisfied: attrs>=17.3.0 in /usr/local/lib/python3.11/dist-packages (from aiohttp!=4.0.0a0,!=4.0.0a1->s3fs>=2022.11->earthaccess) (25.3.0)\n",
            "Requirement already satisfied: frozenlist>=1.1.1 in /usr/local/lib/python3.11/dist-packages (from aiohttp!=4.0.0a0,!=4.0.0a1->s3fs>=2022.11->earthaccess) (1.7.0)\n",
            "Requirement already satisfied: propcache>=0.2.0 in /usr/local/lib/python3.11/dist-packages (from aiohttp!=4.0.0a0,!=4.0.0a1->s3fs>=2022.11->earthaccess) (0.3.2)\n",
            "Requirement already satisfied: yarl<2.0,>=1.17.0 in /usr/local/lib/python3.11/dist-packages (from aiohttp!=4.0.0a0,!=4.0.0a1->s3fs>=2022.11->earthaccess) (1.20.1)\n",
            "Requirement already satisfied: six>=1.5 in /usr/local/lib/python3.11/dist-packages (from python-dateutil<3.0.0,>=2.8.2->python-cmr>=0.10.0->earthaccess) (1.17.0)\n",
            "Downloading earthaccess-0.14.0-py3-none-any.whl (64 kB)\n",
            "\u001b[2K   \u001b[90m━━━━━━━━━━━━━━━━━━━━━━━━━━━━━━━━━━━━━━━━\u001b[0m \u001b[32m64.9/64.9 kB\u001b[0m \u001b[31m3.0 MB/s\u001b[0m eta \u001b[36m0:00:00\u001b[0m\n",
            "\u001b[?25hDownloading multimethod-2.0-py3-none-any.whl (9.8 kB)\n",
            "Downloading pqdm-0.2.0-py2.py3-none-any.whl (6.8 kB)\n",
            "Downloading python_cmr-0.13.0-py3-none-any.whl (14 kB)\n",
            "Downloading s3fs-2025.7.0-py3-none-any.whl (30 kB)\n",
            "Downloading fsspec-2025.7.0-py3-none-any.whl (199 kB)\n",
            "\u001b[2K   \u001b[90m━━━━━━━━━━━━━━━━━━━━━━━━━━━━━━━━━━━━━━━━\u001b[0m \u001b[32m199.6/199.6 kB\u001b[0m \u001b[31m9.2 MB/s\u001b[0m eta \u001b[36m0:00:00\u001b[0m\n",
            "\u001b[?25hDownloading tinynetrc-1.3.1-py2.py3-none-any.whl (3.9 kB)\n",
            "Downloading aiobotocore-2.24.1-py3-none-any.whl (85 kB)\n",
            "\u001b[2K   \u001b[90m━━━━━━━━━━━━━━━━━━━━━━━━━━━━━━━━━━━━━━━━\u001b[0m \u001b[32m85.2/85.2 kB\u001b[0m \u001b[31m6.0 MB/s\u001b[0m eta \u001b[36m0:00:00\u001b[0m\n",
            "\u001b[?25hDownloading bounded_pool_executor-0.0.3-py3-none-any.whl (3.4 kB)\n",
            "Downloading aioitertools-0.12.0-py3-none-any.whl (24 kB)\n",
            "Downloading botocore-1.39.11-py3-none-any.whl (13.9 MB)\n",
            "\u001b[2K   \u001b[90m━━━━━━━━━━━━━━━━━━━━━━━━━━━━━━━━━━━━━━━━\u001b[0m \u001b[32m13.9/13.9 MB\u001b[0m \u001b[31m74.5 MB/s\u001b[0m eta \u001b[36m0:00:00\u001b[0m\n",
            "\u001b[?25hInstalling collected packages: tinynetrc, bounded-pool-executor, pqdm, multimethod, fsspec, aioitertools, python-cmr, botocore, aiobotocore, s3fs, earthaccess\n",
            "  Attempting uninstall: fsspec\n",
            "    Found existing installation: fsspec 2025.3.0\n",
            "    Uninstalling fsspec-2025.3.0:\n",
            "      Successfully uninstalled fsspec-2025.3.0\n",
            "  Attempting uninstall: botocore\n",
            "    Found existing installation: botocore 1.40.10\n",
            "    Uninstalling botocore-1.40.10:\n",
            "      Successfully uninstalled botocore-1.40.10\n",
            "\u001b[31mERROR: pip's dependency resolver does not currently take into account all the packages that are installed. This behaviour is the source of the following dependency conflicts.\n",
            "boto3 1.40.10 requires botocore<1.41.0,>=1.40.10, but you have botocore 1.39.11 which is incompatible.\n",
            "gcsfs 2025.3.0 requires fsspec==2025.3.0, but you have fsspec 2025.7.0 which is incompatible.\n",
            "datasets 4.0.0 requires fsspec[http]<=2025.3.0,>=2023.1.0, but you have fsspec 2025.7.0 which is incompatible.\n",
            "torch 2.6.0+cu124 requires nvidia-cublas-cu12==12.4.5.8; platform_system == \"Linux\" and platform_machine == \"x86_64\", but you have nvidia-cublas-cu12 12.5.3.2 which is incompatible.\n",
            "torch 2.6.0+cu124 requires nvidia-cuda-cupti-cu12==12.4.127; platform_system == \"Linux\" and platform_machine == \"x86_64\", but you have nvidia-cuda-cupti-cu12 12.5.82 which is incompatible.\n",
            "torch 2.6.0+cu124 requires nvidia-cuda-nvrtc-cu12==12.4.127; platform_system == \"Linux\" and platform_machine == \"x86_64\", but you have nvidia-cuda-nvrtc-cu12 12.5.82 which is incompatible.\n",
            "torch 2.6.0+cu124 requires nvidia-cuda-runtime-cu12==12.4.127; platform_system == \"Linux\" and platform_machine == \"x86_64\", but you have nvidia-cuda-runtime-cu12 12.5.82 which is incompatible.\n",
            "torch 2.6.0+cu124 requires nvidia-cudnn-cu12==9.1.0.70; platform_system == \"Linux\" and platform_machine == \"x86_64\", but you have nvidia-cudnn-cu12 9.3.0.75 which is incompatible.\n",
            "torch 2.6.0+cu124 requires nvidia-cufft-cu12==11.2.1.3; platform_system == \"Linux\" and platform_machine == \"x86_64\", but you have nvidia-cufft-cu12 11.2.3.61 which is incompatible.\n",
            "torch 2.6.0+cu124 requires nvidia-curand-cu12==10.3.5.147; platform_system == \"Linux\" and platform_machine == \"x86_64\", but you have nvidia-curand-cu12 10.3.6.82 which is incompatible.\n",
            "torch 2.6.0+cu124 requires nvidia-cusolver-cu12==11.6.1.9; platform_system == \"Linux\" and platform_machine == \"x86_64\", but you have nvidia-cusolver-cu12 11.6.3.83 which is incompatible.\n",
            "torch 2.6.0+cu124 requires nvidia-cusparse-cu12==12.3.1.170; platform_system == \"Linux\" and platform_machine == \"x86_64\", but you have nvidia-cusparse-cu12 12.5.1.3 which is incompatible.\n",
            "torch 2.6.0+cu124 requires nvidia-nccl-cu12==2.21.5; platform_system == \"Linux\" and platform_machine == \"x86_64\", but you have nvidia-nccl-cu12 2.23.4 which is incompatible.\n",
            "torch 2.6.0+cu124 requires nvidia-nvjitlink-cu12==12.4.127; platform_system == \"Linux\" and platform_machine == \"x86_64\", but you have nvidia-nvjitlink-cu12 12.5.82 which is incompatible.\u001b[0m\u001b[31m\n",
            "\u001b[0mSuccessfully installed aiobotocore-2.24.1 aioitertools-0.12.0 botocore-1.39.11 bounded-pool-executor-0.0.3 earthaccess-0.14.0 fsspec-2025.7.0 multimethod-2.0 pqdm-0.2.0 python-cmr-0.13.0 s3fs-2025.7.0 tinynetrc-1.3.1\n",
            "Collecting ipyleaflet==0.18.2\n",
            "  Downloading ipyleaflet-0.18.2-py3-none-any.whl.metadata (1.0 kB)\n",
            "Requirement already satisfied: geemap in /usr/local/lib/python3.11/dist-packages (0.35.3)\n",
            "Collecting hydrafloods\n",
            "  Downloading hydrafloods-2023.10.14-py3-none-any.whl.metadata (5.6 kB)\n",
            "Requirement already satisfied: ipywidgets<9,>=7.6.0 in /usr/local/lib/python3.11/dist-packages (from ipyleaflet==0.18.2) (7.7.1)\n",
            "Requirement already satisfied: traittypes<3,>=0.2.1 in /usr/local/lib/python3.11/dist-packages (from ipyleaflet==0.18.2) (0.2.1)\n",
            "Requirement already satisfied: xyzservices>=2021.8.1 in /usr/local/lib/python3.11/dist-packages (from ipyleaflet==0.18.2) (2025.4.0)\n",
            "Requirement already satisfied: branca>=0.5.0 in /usr/local/lib/python3.11/dist-packages (from ipyleaflet==0.18.2) (0.8.1)\n",
            "Requirement already satisfied: bqplot in /usr/local/lib/python3.11/dist-packages (from geemap) (0.12.45)\n",
            "Requirement already satisfied: colour in /usr/local/lib/python3.11/dist-packages (from geemap) (0.1.5)\n",
            "Requirement already satisfied: earthengine-api>=1.0.0 in /usr/local/lib/python3.11/dist-packages (from geemap) (1.5.24)\n",
            "Requirement already satisfied: eerepr>=0.1.0 in /usr/local/lib/python3.11/dist-packages (from geemap) (0.1.2)\n",
            "Requirement already satisfied: folium>=0.17.0 in /usr/local/lib/python3.11/dist-packages (from geemap) (0.20.0)\n",
            "Requirement already satisfied: geocoder in /usr/local/lib/python3.11/dist-packages (from geemap) (1.38.1)\n",
            "Requirement already satisfied: ipyevents in /usr/local/lib/python3.11/dist-packages (from geemap) (2.0.2)\n",
            "Requirement already satisfied: ipyfilechooser>=0.6.0 in /usr/local/lib/python3.11/dist-packages (from geemap) (0.6.0)\n",
            "INFO: pip is looking at multiple versions of geemap to determine which version is compatible with other requirements. This could take a while.\n",
            "Collecting geemap\n",
            "  Downloading geemap-0.36.1-py3-none-any.whl.metadata (14 kB)\n",
            "Requirement already satisfied: anywidget in /usr/local/lib/python3.11/dist-packages (from geemap) (0.9.18)\n",
            "  Downloading geemap-0.36.0-py3-none-any.whl.metadata (14 kB)\n",
            "  Downloading geemap-0.35.2-py2.py3-none-any.whl.metadata (12 kB)\n",
            "  Downloading geemap-0.35.1-py2.py3-none-any.whl.metadata (12 kB)\n",
            "  Downloading geemap-0.35.0-py2.py3-none-any.whl.metadata (12 kB)\n",
            "  Downloading geemap-0.34.5-py2.py3-none-any.whl.metadata (12 kB)\n",
            "  Downloading geemap-0.34.4-py2.py3-none-any.whl.metadata (12 kB)\n",
            "INFO: pip is still looking at multiple versions of geemap to determine which version is compatible with other requirements. This could take a while.\n",
            "  Downloading geemap-0.34.3-py2.py3-none-any.whl.metadata (12 kB)\n",
            "Requirement already satisfied: ipytree in /usr/local/lib/python3.11/dist-packages (from geemap) (0.2.2)\n",
            "Requirement already satisfied: matplotlib in /usr/local/lib/python3.11/dist-packages (from geemap) (3.10.0)\n",
            "Requirement already satisfied: numpy in /usr/local/lib/python3.11/dist-packages (from geemap) (2.0.2)\n",
            "Requirement already satisfied: pandas in /usr/local/lib/python3.11/dist-packages (from geemap) (2.2.2)\n",
            "Requirement already satisfied: plotly in /usr/local/lib/python3.11/dist-packages (from geemap) (5.24.1)\n",
            "Requirement already satisfied: pyperclip in /usr/local/lib/python3.11/dist-packages (from geemap) (1.9.0)\n",
            "Requirement already satisfied: pyshp>=2.1.3 in /usr/local/lib/python3.11/dist-packages (from geemap) (2.3.1)\n",
            "Requirement already satisfied: python-box in /usr/local/lib/python3.11/dist-packages (from geemap) (7.3.2)\n",
            "Requirement already satisfied: scooby in /usr/local/lib/python3.11/dist-packages (from geemap) (0.10.1)\n",
            "Requirement already satisfied: setuptools in /usr/local/lib/python3.11/dist-packages (from geemap) (75.2.0)\n",
            "Collecting simplecmr (from hydrafloods)\n",
            "  Downloading simplecmr-0.0.1-py3-none-any.whl.metadata (2.9 kB)\n",
            "Requirement already satisfied: gcsfs in /usr/local/lib/python3.11/dist-packages (from hydrafloods) (2025.3.0)\n",
            "Collecting fire (from hydrafloods)\n",
            "  Downloading fire-0.7.0.tar.gz (87 kB)\n",
            "\u001b[2K     \u001b[90m━━━━━━━━━━━━━━━━━━━━━━━━━━━━━━━━━━━━━━━━\u001b[0m \u001b[32m87.2/87.2 kB\u001b[0m \u001b[31m3.7 MB/s\u001b[0m eta \u001b[36m0:00:00\u001b[0m\n",
            "\u001b[?25h  Preparing metadata (setup.py) ... \u001b[?25l\u001b[?25hdone\n",
            "Collecting pipetools (from hydrafloods)\n",
            "  Downloading pipetools-1.1.0.tar.gz (16 kB)\n",
            "  Preparing metadata (setup.py) ... \u001b[?25l\u001b[?25hdone\n",
            "Requirement already satisfied: jinja2>=3 in /usr/local/lib/python3.11/dist-packages (from branca>=0.5.0->ipyleaflet==0.18.2) (3.1.6)\n",
            "Requirement already satisfied: google-cloud-storage in /usr/local/lib/python3.11/dist-packages (from earthengine-api>=1.0.0->geemap) (2.19.0)\n",
            "Requirement already satisfied: google-api-python-client>=1.12.1 in /usr/local/lib/python3.11/dist-packages (from earthengine-api>=1.0.0->geemap) (2.178.0)\n",
            "Requirement already satisfied: google-auth>=1.4.1 in /usr/local/lib/python3.11/dist-packages (from earthengine-api>=1.0.0->geemap) (2.38.0)\n",
            "Requirement already satisfied: google-auth-httplib2>=0.0.3 in /usr/local/lib/python3.11/dist-packages (from earthengine-api>=1.0.0->geemap) (0.2.0)\n",
            "Requirement already satisfied: httplib2<1dev,>=0.9.2 in /usr/local/lib/python3.11/dist-packages (from earthengine-api>=1.0.0->geemap) (0.22.0)\n",
            "Requirement already satisfied: requests in /usr/local/lib/python3.11/dist-packages (from earthengine-api>=1.0.0->geemap) (2.32.3)\n",
            "Requirement already satisfied: ipykernel>=4.5.1 in /usr/local/lib/python3.11/dist-packages (from ipywidgets<9,>=7.6.0->ipyleaflet==0.18.2) (6.17.1)\n",
            "Requirement already satisfied: ipython-genutils~=0.2.0 in /usr/local/lib/python3.11/dist-packages (from ipywidgets<9,>=7.6.0->ipyleaflet==0.18.2) (0.2.0)\n",
            "Requirement already satisfied: traitlets>=4.3.1 in /usr/local/lib/python3.11/dist-packages (from ipywidgets<9,>=7.6.0->ipyleaflet==0.18.2) (5.7.1)\n",
            "Requirement already satisfied: widgetsnbextension~=3.6.0 in /usr/local/lib/python3.11/dist-packages (from ipywidgets<9,>=7.6.0->ipyleaflet==0.18.2) (3.6.10)\n",
            "Requirement already satisfied: ipython>=4.0.0 in /usr/local/lib/python3.11/dist-packages (from ipywidgets<9,>=7.6.0->ipyleaflet==0.18.2) (7.34.0)\n",
            "Requirement already satisfied: jupyterlab-widgets>=1.0.0 in /usr/local/lib/python3.11/dist-packages (from ipywidgets<9,>=7.6.0->ipyleaflet==0.18.2) (3.0.15)\n",
            "Requirement already satisfied: python-dateutil>=2.8.2 in /usr/local/lib/python3.11/dist-packages (from pandas->geemap) (2.9.0.post0)\n",
            "Requirement already satisfied: pytz>=2020.1 in /usr/local/lib/python3.11/dist-packages (from pandas->geemap) (2025.2)\n",
            "Requirement already satisfied: tzdata>=2022.7 in /usr/local/lib/python3.11/dist-packages (from pandas->geemap) (2025.2)\n",
            "Requirement already satisfied: termcolor in /usr/local/lib/python3.11/dist-packages (from fire->hydrafloods) (3.1.0)\n",
            "Requirement already satisfied: aiohttp!=4.0.0a0,!=4.0.0a1 in /usr/local/lib/python3.11/dist-packages (from gcsfs->hydrafloods) (3.12.15)\n",
            "Requirement already satisfied: decorator>4.1.2 in /usr/local/lib/python3.11/dist-packages (from gcsfs->hydrafloods) (4.4.2)\n",
            "Collecting fsspec==2025.3.0 (from gcsfs->hydrafloods)\n",
            "  Downloading fsspec-2025.3.0-py3-none-any.whl.metadata (11 kB)\n",
            "Requirement already satisfied: google-auth-oauthlib in /usr/local/lib/python3.11/dist-packages (from gcsfs->hydrafloods) (1.2.2)\n",
            "Requirement already satisfied: click in /usr/local/lib/python3.11/dist-packages (from geocoder->geemap) (8.2.1)\n",
            "Requirement already satisfied: future in /usr/local/lib/python3.11/dist-packages (from geocoder->geemap) (1.0.0)\n",
            "Requirement already satisfied: ratelim in /usr/local/lib/python3.11/dist-packages (from geocoder->geemap) (0.1.6)\n",
            "Requirement already satisfied: six in /usr/local/lib/python3.11/dist-packages (from geocoder->geemap) (1.17.0)\n",
            "Requirement already satisfied: contourpy>=1.0.1 in /usr/local/lib/python3.11/dist-packages (from matplotlib->geemap) (1.3.3)\n",
            "Requirement already satisfied: cycler>=0.10 in /usr/local/lib/python3.11/dist-packages (from matplotlib->geemap) (0.12.1)\n",
            "Requirement already satisfied: fonttools>=4.22.0 in /usr/local/lib/python3.11/dist-packages (from matplotlib->geemap) (4.59.0)\n",
            "Requirement already satisfied: kiwisolver>=1.3.1 in /usr/local/lib/python3.11/dist-packages (from matplotlib->geemap) (1.4.9)\n",
            "Requirement already satisfied: packaging>=20.0 in /usr/local/lib/python3.11/dist-packages (from matplotlib->geemap) (25.0)\n",
            "Requirement already satisfied: pillow>=8 in /usr/local/lib/python3.11/dist-packages (from matplotlib->geemap) (11.3.0)\n",
            "Requirement already satisfied: pyparsing>=2.3.1 in /usr/local/lib/python3.11/dist-packages (from matplotlib->geemap) (3.2.3)\n",
            "Requirement already satisfied: tenacity>=6.2.0 in /usr/local/lib/python3.11/dist-packages (from plotly->geemap) (9.1.2)\n",
            "Collecting requests-cache (from simplecmr->hydrafloods)\n",
            "  Downloading requests_cache-1.2.1-py3-none-any.whl.metadata (9.9 kB)\n",
            "Requirement already satisfied: aiohappyeyeballs>=2.5.0 in /usr/local/lib/python3.11/dist-packages (from aiohttp!=4.0.0a0,!=4.0.0a1->gcsfs->hydrafloods) (2.6.1)\n",
            "Requirement already satisfied: aiosignal>=1.4.0 in /usr/local/lib/python3.11/dist-packages (from aiohttp!=4.0.0a0,!=4.0.0a1->gcsfs->hydrafloods) (1.4.0)\n",
            "Requirement already satisfied: attrs>=17.3.0 in /usr/local/lib/python3.11/dist-packages (from aiohttp!=4.0.0a0,!=4.0.0a1->gcsfs->hydrafloods) (25.3.0)\n",
            "Requirement already satisfied: frozenlist>=1.1.1 in /usr/local/lib/python3.11/dist-packages (from aiohttp!=4.0.0a0,!=4.0.0a1->gcsfs->hydrafloods) (1.7.0)\n",
            "Requirement already satisfied: multidict<7.0,>=4.5 in /usr/local/lib/python3.11/dist-packages (from aiohttp!=4.0.0a0,!=4.0.0a1->gcsfs->hydrafloods) (6.6.4)\n",
            "Requirement already satisfied: propcache>=0.2.0 in /usr/local/lib/python3.11/dist-packages (from aiohttp!=4.0.0a0,!=4.0.0a1->gcsfs->hydrafloods) (0.3.2)\n",
            "Requirement already satisfied: yarl<2.0,>=1.17.0 in /usr/local/lib/python3.11/dist-packages (from aiohttp!=4.0.0a0,!=4.0.0a1->gcsfs->hydrafloods) (1.20.1)\n",
            "Requirement already satisfied: google-api-core!=2.0.*,!=2.1.*,!=2.2.*,!=2.3.0,<3.0.0,>=1.31.5 in /usr/local/lib/python3.11/dist-packages (from google-api-python-client>=1.12.1->earthengine-api>=1.0.0->geemap) (2.25.1)\n",
            "Requirement already satisfied: uritemplate<5,>=3.0.1 in /usr/local/lib/python3.11/dist-packages (from google-api-python-client>=1.12.1->earthengine-api>=1.0.0->geemap) (4.2.0)\n",
            "Requirement already satisfied: cachetools<6.0,>=2.0.0 in /usr/local/lib/python3.11/dist-packages (from google-auth>=1.4.1->earthengine-api>=1.0.0->geemap) (5.5.2)\n",
            "Requirement already satisfied: pyasn1-modules>=0.2.1 in /usr/local/lib/python3.11/dist-packages (from google-auth>=1.4.1->earthengine-api>=1.0.0->geemap) (0.4.2)\n",
            "Requirement already satisfied: rsa<5,>=3.1.4 in /usr/local/lib/python3.11/dist-packages (from google-auth>=1.4.1->earthengine-api>=1.0.0->geemap) (4.9.1)\n",
            "Requirement already satisfied: debugpy>=1.0 in /usr/local/lib/python3.11/dist-packages (from ipykernel>=4.5.1->ipywidgets<9,>=7.6.0->ipyleaflet==0.18.2) (1.8.15)\n",
            "Requirement already satisfied: jupyter-client>=6.1.12 in /usr/local/lib/python3.11/dist-packages (from ipykernel>=4.5.1->ipywidgets<9,>=7.6.0->ipyleaflet==0.18.2) (6.1.12)\n",
            "Requirement already satisfied: matplotlib-inline>=0.1 in /usr/local/lib/python3.11/dist-packages (from ipykernel>=4.5.1->ipywidgets<9,>=7.6.0->ipyleaflet==0.18.2) (0.1.7)\n",
            "Requirement already satisfied: nest-asyncio in /usr/local/lib/python3.11/dist-packages (from ipykernel>=4.5.1->ipywidgets<9,>=7.6.0->ipyleaflet==0.18.2) (1.6.0)\n",
            "Requirement already satisfied: psutil in /usr/local/lib/python3.11/dist-packages (from ipykernel>=4.5.1->ipywidgets<9,>=7.6.0->ipyleaflet==0.18.2) (5.9.5)\n",
            "Requirement already satisfied: pyzmq>=17 in /usr/local/lib/python3.11/dist-packages (from ipykernel>=4.5.1->ipywidgets<9,>=7.6.0->ipyleaflet==0.18.2) (26.2.1)\n",
            "Requirement already satisfied: tornado>=6.1 in /usr/local/lib/python3.11/dist-packages (from ipykernel>=4.5.1->ipywidgets<9,>=7.6.0->ipyleaflet==0.18.2) (6.4.2)\n",
            "Collecting jedi>=0.16 (from ipython>=4.0.0->ipywidgets<9,>=7.6.0->ipyleaflet==0.18.2)\n",
            "  Downloading jedi-0.19.2-py2.py3-none-any.whl.metadata (22 kB)\n",
            "Requirement already satisfied: pickleshare in /usr/local/lib/python3.11/dist-packages (from ipython>=4.0.0->ipywidgets<9,>=7.6.0->ipyleaflet==0.18.2) (0.7.5)\n",
            "Requirement already satisfied: prompt-toolkit!=3.0.0,!=3.0.1,<3.1.0,>=2.0.0 in /usr/local/lib/python3.11/dist-packages (from ipython>=4.0.0->ipywidgets<9,>=7.6.0->ipyleaflet==0.18.2) (3.0.51)\n",
            "Requirement already satisfied: pygments in /usr/local/lib/python3.11/dist-packages (from ipython>=4.0.0->ipywidgets<9,>=7.6.0->ipyleaflet==0.18.2) (2.19.2)\n",
            "Requirement already satisfied: backcall in /usr/local/lib/python3.11/dist-packages (from ipython>=4.0.0->ipywidgets<9,>=7.6.0->ipyleaflet==0.18.2) (0.2.0)\n",
            "Requirement already satisfied: pexpect>4.3 in /usr/local/lib/python3.11/dist-packages (from ipython>=4.0.0->ipywidgets<9,>=7.6.0->ipyleaflet==0.18.2) (4.9.0)\n",
            "Requirement already satisfied: MarkupSafe>=2.0 in /usr/local/lib/python3.11/dist-packages (from jinja2>=3->branca>=0.5.0->ipyleaflet==0.18.2) (3.0.2)\n",
            "Requirement already satisfied: notebook>=4.4.1 in /usr/local/lib/python3.11/dist-packages (from widgetsnbextension~=3.6.0->ipywidgets<9,>=7.6.0->ipyleaflet==0.18.2) (6.5.7)\n",
            "Requirement already satisfied: requests-oauthlib>=0.7.0 in /usr/local/lib/python3.11/dist-packages (from google-auth-oauthlib->gcsfs->hydrafloods) (2.0.0)\n",
            "Requirement already satisfied: google-cloud-core<3.0dev,>=2.3.0 in /usr/local/lib/python3.11/dist-packages (from google-cloud-storage->earthengine-api>=1.0.0->geemap) (2.4.3)\n",
            "Requirement already satisfied: google-resumable-media>=2.7.2 in /usr/local/lib/python3.11/dist-packages (from google-cloud-storage->earthengine-api>=1.0.0->geemap) (2.7.2)\n",
            "Requirement already satisfied: google-crc32c<2.0dev,>=1.0 in /usr/local/lib/python3.11/dist-packages (from google-cloud-storage->earthengine-api>=1.0.0->geemap) (1.7.1)\n",
            "Requirement already satisfied: charset-normalizer<4,>=2 in /usr/local/lib/python3.11/dist-packages (from requests->earthengine-api>=1.0.0->geemap) (3.4.3)\n",
            "Requirement already satisfied: idna<4,>=2.5 in /usr/local/lib/python3.11/dist-packages (from requests->earthengine-api>=1.0.0->geemap) (3.10)\n",
            "Requirement already satisfied: urllib3<3,>=1.21.1 in /usr/local/lib/python3.11/dist-packages (from requests->earthengine-api>=1.0.0->geemap) (2.5.0)\n",
            "Requirement already satisfied: certifi>=2017.4.17 in /usr/local/lib/python3.11/dist-packages (from requests->earthengine-api>=1.0.0->geemap) (2025.8.3)\n",
            "Collecting cattrs>=22.2 (from requests-cache->simplecmr->hydrafloods)\n",
            "  Downloading cattrs-25.1.1-py3-none-any.whl.metadata (8.4 kB)\n",
            "Requirement already satisfied: platformdirs>=2.5 in /usr/local/lib/python3.11/dist-packages (from requests-cache->simplecmr->hydrafloods) (4.3.8)\n",
            "Collecting url-normalize>=1.4 (from requests-cache->simplecmr->hydrafloods)\n",
            "  Downloading url_normalize-2.2.1-py3-none-any.whl.metadata (5.6 kB)\n",
            "Requirement already satisfied: typing-extensions>=4.2 in /usr/local/lib/python3.11/dist-packages (from aiosignal>=1.4.0->aiohttp!=4.0.0a0,!=4.0.0a1->gcsfs->hydrafloods) (4.14.1)\n",
            "Requirement already satisfied: googleapis-common-protos<2.0.0,>=1.56.2 in /usr/local/lib/python3.11/dist-packages (from google-api-core!=2.0.*,!=2.1.*,!=2.2.*,!=2.3.0,<3.0.0,>=1.31.5->google-api-python-client>=1.12.1->earthengine-api>=1.0.0->geemap) (1.70.0)\n",
            "Requirement already satisfied: protobuf!=3.20.0,!=3.20.1,!=4.21.0,!=4.21.1,!=4.21.2,!=4.21.3,!=4.21.4,!=4.21.5,<7.0.0,>=3.19.5 in /usr/local/lib/python3.11/dist-packages (from google-api-core!=2.0.*,!=2.1.*,!=2.2.*,!=2.3.0,<3.0.0,>=1.31.5->google-api-python-client>=1.12.1->earthengine-api>=1.0.0->geemap) (5.29.5)\n",
            "Requirement already satisfied: proto-plus<2.0.0,>=1.22.3 in /usr/local/lib/python3.11/dist-packages (from google-api-core!=2.0.*,!=2.1.*,!=2.2.*,!=2.3.0,<3.0.0,>=1.31.5->google-api-python-client>=1.12.1->earthengine-api>=1.0.0->geemap) (1.26.1)\n",
            "Requirement already satisfied: parso<0.9.0,>=0.8.4 in /usr/local/lib/python3.11/dist-packages (from jedi>=0.16->ipython>=4.0.0->ipywidgets<9,>=7.6.0->ipyleaflet==0.18.2) (0.8.4)\n",
            "Requirement already satisfied: jupyter-core>=4.6.0 in /usr/local/lib/python3.11/dist-packages (from jupyter-client>=6.1.12->ipykernel>=4.5.1->ipywidgets<9,>=7.6.0->ipyleaflet==0.18.2) (5.8.1)\n",
            "Requirement already satisfied: argon2-cffi in /usr/local/lib/python3.11/dist-packages (from notebook>=4.4.1->widgetsnbextension~=3.6.0->ipywidgets<9,>=7.6.0->ipyleaflet==0.18.2) (25.1.0)\n",
            "Requirement already satisfied: nbformat in /usr/local/lib/python3.11/dist-packages (from notebook>=4.4.1->widgetsnbextension~=3.6.0->ipywidgets<9,>=7.6.0->ipyleaflet==0.18.2) (5.10.4)\n",
            "Requirement already satisfied: nbconvert>=5 in /usr/local/lib/python3.11/dist-packages (from notebook>=4.4.1->widgetsnbextension~=3.6.0->ipywidgets<9,>=7.6.0->ipyleaflet==0.18.2) (7.16.6)\n",
            "Requirement already satisfied: Send2Trash>=1.8.0 in /usr/local/lib/python3.11/dist-packages (from notebook>=4.4.1->widgetsnbextension~=3.6.0->ipywidgets<9,>=7.6.0->ipyleaflet==0.18.2) (1.8.3)\n",
            "Requirement already satisfied: terminado>=0.8.3 in /usr/local/lib/python3.11/dist-packages (from notebook>=4.4.1->widgetsnbextension~=3.6.0->ipywidgets<9,>=7.6.0->ipyleaflet==0.18.2) (0.18.1)\n",
            "Requirement already satisfied: prometheus-client in /usr/local/lib/python3.11/dist-packages (from notebook>=4.4.1->widgetsnbextension~=3.6.0->ipywidgets<9,>=7.6.0->ipyleaflet==0.18.2) (0.22.1)\n",
            "Requirement already satisfied: nbclassic>=0.4.7 in /usr/local/lib/python3.11/dist-packages (from notebook>=4.4.1->widgetsnbextension~=3.6.0->ipywidgets<9,>=7.6.0->ipyleaflet==0.18.2) (1.3.1)\n",
            "Requirement already satisfied: ptyprocess>=0.5 in /usr/local/lib/python3.11/dist-packages (from pexpect>4.3->ipython>=4.0.0->ipywidgets<9,>=7.6.0->ipyleaflet==0.18.2) (0.7.0)\n",
            "Requirement already satisfied: wcwidth in /usr/local/lib/python3.11/dist-packages (from prompt-toolkit!=3.0.0,!=3.0.1,<3.1.0,>=2.0.0->ipython>=4.0.0->ipywidgets<9,>=7.6.0->ipyleaflet==0.18.2) (0.2.13)\n",
            "Requirement already satisfied: pyasn1<0.7.0,>=0.6.1 in /usr/local/lib/python3.11/dist-packages (from pyasn1-modules>=0.2.1->google-auth>=1.4.1->earthengine-api>=1.0.0->geemap) (0.6.1)\n",
            "Requirement already satisfied: oauthlib>=3.0.0 in /usr/local/lib/python3.11/dist-packages (from requests-oauthlib>=0.7.0->google-auth-oauthlib->gcsfs->hydrafloods) (3.3.1)\n",
            "Requirement already satisfied: notebook-shim>=0.2.3 in /usr/local/lib/python3.11/dist-packages (from nbclassic>=0.4.7->notebook>=4.4.1->widgetsnbextension~=3.6.0->ipywidgets<9,>=7.6.0->ipyleaflet==0.18.2) (0.2.4)\n",
            "Requirement already satisfied: beautifulsoup4 in /usr/local/lib/python3.11/dist-packages (from nbconvert>=5->notebook>=4.4.1->widgetsnbextension~=3.6.0->ipywidgets<9,>=7.6.0->ipyleaflet==0.18.2) (4.13.4)\n",
            "Requirement already satisfied: bleach!=5.0.0 in /usr/local/lib/python3.11/dist-packages (from bleach[css]!=5.0.0->nbconvert>=5->notebook>=4.4.1->widgetsnbextension~=3.6.0->ipywidgets<9,>=7.6.0->ipyleaflet==0.18.2) (6.2.0)\n",
            "Requirement already satisfied: defusedxml in /usr/local/lib/python3.11/dist-packages (from nbconvert>=5->notebook>=4.4.1->widgetsnbextension~=3.6.0->ipywidgets<9,>=7.6.0->ipyleaflet==0.18.2) (0.7.1)\n",
            "Requirement already satisfied: jupyterlab-pygments in /usr/local/lib/python3.11/dist-packages (from nbconvert>=5->notebook>=4.4.1->widgetsnbextension~=3.6.0->ipywidgets<9,>=7.6.0->ipyleaflet==0.18.2) (0.3.0)\n",
            "Requirement already satisfied: mistune<4,>=2.0.3 in /usr/local/lib/python3.11/dist-packages (from nbconvert>=5->notebook>=4.4.1->widgetsnbextension~=3.6.0->ipywidgets<9,>=7.6.0->ipyleaflet==0.18.2) (3.1.3)\n",
            "Requirement already satisfied: nbclient>=0.5.0 in /usr/local/lib/python3.11/dist-packages (from nbconvert>=5->notebook>=4.4.1->widgetsnbextension~=3.6.0->ipywidgets<9,>=7.6.0->ipyleaflet==0.18.2) (0.10.2)\n",
            "Requirement already satisfied: pandocfilters>=1.4.1 in /usr/local/lib/python3.11/dist-packages (from nbconvert>=5->notebook>=4.4.1->widgetsnbextension~=3.6.0->ipywidgets<9,>=7.6.0->ipyleaflet==0.18.2) (1.5.1)\n",
            "Requirement already satisfied: fastjsonschema>=2.15 in /usr/local/lib/python3.11/dist-packages (from nbformat->notebook>=4.4.1->widgetsnbextension~=3.6.0->ipywidgets<9,>=7.6.0->ipyleaflet==0.18.2) (2.21.1)\n",
            "Requirement already satisfied: jsonschema>=2.6 in /usr/local/lib/python3.11/dist-packages (from nbformat->notebook>=4.4.1->widgetsnbextension~=3.6.0->ipywidgets<9,>=7.6.0->ipyleaflet==0.18.2) (4.25.0)\n",
            "Requirement already satisfied: argon2-cffi-bindings in /usr/local/lib/python3.11/dist-packages (from argon2-cffi->notebook>=4.4.1->widgetsnbextension~=3.6.0->ipywidgets<9,>=7.6.0->ipyleaflet==0.18.2) (25.1.0)\n",
            "Requirement already satisfied: webencodings in /usr/local/lib/python3.11/dist-packages (from bleach!=5.0.0->bleach[css]!=5.0.0->nbconvert>=5->notebook>=4.4.1->widgetsnbextension~=3.6.0->ipywidgets<9,>=7.6.0->ipyleaflet==0.18.2) (0.5.1)\n",
            "Requirement already satisfied: tinycss2<1.5,>=1.1.0 in /usr/local/lib/python3.11/dist-packages (from bleach[css]!=5.0.0->nbconvert>=5->notebook>=4.4.1->widgetsnbextension~=3.6.0->ipywidgets<9,>=7.6.0->ipyleaflet==0.18.2) (1.4.0)\n",
            "Requirement already satisfied: jsonschema-specifications>=2023.03.6 in /usr/local/lib/python3.11/dist-packages (from jsonschema>=2.6->nbformat->notebook>=4.4.1->widgetsnbextension~=3.6.0->ipywidgets<9,>=7.6.0->ipyleaflet==0.18.2) (2025.4.1)\n",
            "Requirement already satisfied: referencing>=0.28.4 in /usr/local/lib/python3.11/dist-packages (from jsonschema>=2.6->nbformat->notebook>=4.4.1->widgetsnbextension~=3.6.0->ipywidgets<9,>=7.6.0->ipyleaflet==0.18.2) (0.36.2)\n",
            "Requirement already satisfied: rpds-py>=0.7.1 in /usr/local/lib/python3.11/dist-packages (from jsonschema>=2.6->nbformat->notebook>=4.4.1->widgetsnbextension~=3.6.0->ipywidgets<9,>=7.6.0->ipyleaflet==0.18.2) (0.27.0)\n",
            "Requirement already satisfied: jupyter-server<3,>=1.8 in /usr/local/lib/python3.11/dist-packages (from notebook-shim>=0.2.3->nbclassic>=0.4.7->notebook>=4.4.1->widgetsnbextension~=3.6.0->ipywidgets<9,>=7.6.0->ipyleaflet==0.18.2) (1.16.0)\n",
            "Requirement already satisfied: cffi>=1.0.1 in /usr/local/lib/python3.11/dist-packages (from argon2-cffi-bindings->argon2-cffi->notebook>=4.4.1->widgetsnbextension~=3.6.0->ipywidgets<9,>=7.6.0->ipyleaflet==0.18.2) (1.17.1)\n",
            "Requirement already satisfied: soupsieve>1.2 in /usr/local/lib/python3.11/dist-packages (from beautifulsoup4->nbconvert>=5->notebook>=4.4.1->widgetsnbextension~=3.6.0->ipywidgets<9,>=7.6.0->ipyleaflet==0.18.2) (2.7)\n",
            "Requirement already satisfied: pycparser in /usr/local/lib/python3.11/dist-packages (from cffi>=1.0.1->argon2-cffi-bindings->argon2-cffi->notebook>=4.4.1->widgetsnbextension~=3.6.0->ipywidgets<9,>=7.6.0->ipyleaflet==0.18.2) (2.22)\n",
            "Requirement already satisfied: anyio>=3.1.0 in /usr/local/lib/python3.11/dist-packages (from jupyter-server<3,>=1.8->notebook-shim>=0.2.3->nbclassic>=0.4.7->notebook>=4.4.1->widgetsnbextension~=3.6.0->ipywidgets<9,>=7.6.0->ipyleaflet==0.18.2) (4.10.0)\n",
            "Requirement already satisfied: websocket-client in /usr/local/lib/python3.11/dist-packages (from jupyter-server<3,>=1.8->notebook-shim>=0.2.3->nbclassic>=0.4.7->notebook>=4.4.1->widgetsnbextension~=3.6.0->ipywidgets<9,>=7.6.0->ipyleaflet==0.18.2) (1.8.0)\n",
            "Requirement already satisfied: sniffio>=1.1 in /usr/local/lib/python3.11/dist-packages (from anyio>=3.1.0->jupyter-server<3,>=1.8->notebook-shim>=0.2.3->nbclassic>=0.4.7->notebook>=4.4.1->widgetsnbextension~=3.6.0->ipywidgets<9,>=7.6.0->ipyleaflet==0.18.2) (1.3.1)\n",
            "Downloading ipyleaflet-0.18.2-py3-none-any.whl (3.7 MB)\n",
            "\u001b[2K   \u001b[90m━━━━━━━━━━━━━━━━━━━━━━━━━━━━━━━━━━━━━━━━\u001b[0m \u001b[32m3.7/3.7 MB\u001b[0m \u001b[31m46.6 MB/s\u001b[0m eta \u001b[36m0:00:00\u001b[0m\n",
            "\u001b[?25hDownloading geemap-0.34.3-py2.py3-none-any.whl (2.3 MB)\n",
            "\u001b[2K   \u001b[90m━━━━━━━━━━━━━━━━━━━━━━━━━━━━━━━━━━━━━━━━\u001b[0m \u001b[32m2.3/2.3 MB\u001b[0m \u001b[31m80.3 MB/s\u001b[0m eta \u001b[36m0:00:00\u001b[0m\n",
            "\u001b[?25hDownloading hydrafloods-2023.10.14-py3-none-any.whl (86 kB)\n",
            "\u001b[2K   \u001b[90m━━━━━━━━━━━━━━━━━━━━━━━━━━━━━━━━━━━━━━━━\u001b[0m \u001b[32m86.6/86.6 kB\u001b[0m \u001b[31m6.7 MB/s\u001b[0m eta \u001b[36m0:00:00\u001b[0m\n",
            "\u001b[?25hDownloading fsspec-2025.3.0-py3-none-any.whl (193 kB)\n",
            "\u001b[2K   \u001b[90m━━━━━━━━━━━━━━━━━━━━━━━━━━━━━━━━━━━━━━━━\u001b[0m \u001b[32m193.6/193.6 kB\u001b[0m \u001b[31m14.4 MB/s\u001b[0m eta \u001b[36m0:00:00\u001b[0m\n",
            "\u001b[?25hDownloading simplecmr-0.0.1-py3-none-any.whl (6.9 kB)\n",
            "Downloading requests_cache-1.2.1-py3-none-any.whl (61 kB)\n",
            "\u001b[2K   \u001b[90m━━━━━━━━━━━━━━━━━━━━━━━━━━━━━━━━━━━━━━━━\u001b[0m \u001b[32m61.4/61.4 kB\u001b[0m \u001b[31m4.5 MB/s\u001b[0m eta \u001b[36m0:00:00\u001b[0m\n",
            "\u001b[?25hDownloading cattrs-25.1.1-py3-none-any.whl (69 kB)\n",
            "\u001b[2K   \u001b[90m━━━━━━━━━━━━━━━━━━━━━━━━━━━━━━━━━━━━━━━━\u001b[0m \u001b[32m69.4/69.4 kB\u001b[0m \u001b[31m5.2 MB/s\u001b[0m eta \u001b[36m0:00:00\u001b[0m\n",
            "\u001b[?25hDownloading jedi-0.19.2-py2.py3-none-any.whl (1.6 MB)\n",
            "\u001b[2K   \u001b[90m━━━━━━━━━━━━━━━━━━━━━━━━━━━━━━━━━━━━━━━━\u001b[0m \u001b[32m1.6/1.6 MB\u001b[0m \u001b[31m59.5 MB/s\u001b[0m eta \u001b[36m0:00:00\u001b[0m\n",
            "\u001b[?25hDownloading url_normalize-2.2.1-py3-none-any.whl (14 kB)\n",
            "Building wheels for collected packages: fire, pipetools\n",
            "  Building wheel for fire (setup.py) ... \u001b[?25l\u001b[?25hdone\n",
            "  Created wheel for fire: filename=fire-0.7.0-py3-none-any.whl size=114249 sha256=168d13dd39275c82f0decfab21dce39519da1be983ae479cf3ec30e52e6b8b9f\n",
            "  Stored in directory: /root/.cache/pip/wheels/46/54/24/1624fd5b8674eb1188623f7e8e17cdf7c0f6c24b609dfb8a89\n",
            "  Building wheel for pipetools (setup.py) ... \u001b[?25l\u001b[?25hdone\n",
            "  Created wheel for pipetools: filename=pipetools-1.1.0-py3-none-any.whl size=13600 sha256=066bdaa811bd0760218ab3806d499c61cb0e4524473cb25eae7f0f3d988e16f9\n",
            "  Stored in directory: /root/.cache/pip/wheels/a2/95/d7/d382df93e94c1a7360625a0dd9176e916a9ef242f74ed66295\n",
            "Successfully built fire pipetools\n",
            "Installing collected packages: url-normalize, pipetools, jedi, fsspec, fire, cattrs, requests-cache, simplecmr, hydrafloods, ipyleaflet, geemap\n",
            "  Attempting uninstall: fsspec\n",
            "    Found existing installation: fsspec 2025.7.0\n",
            "    Uninstalling fsspec-2025.7.0:\n",
            "      Successfully uninstalled fsspec-2025.7.0\n",
            "  Attempting uninstall: ipyleaflet\n",
            "    Found existing installation: ipyleaflet 0.20.0\n",
            "    Uninstalling ipyleaflet-0.20.0:\n",
            "      Successfully uninstalled ipyleaflet-0.20.0\n",
            "  Attempting uninstall: geemap\n",
            "    Found existing installation: geemap 0.35.3\n",
            "    Uninstalling geemap-0.35.3:\n",
            "      Successfully uninstalled geemap-0.35.3\n",
            "\u001b[31mERROR: pip's dependency resolver does not currently take into account all the packages that are installed. This behaviour is the source of the following dependency conflicts.\n",
            "s3fs 2025.7.0 requires fsspec==2025.7.0, but you have fsspec 2025.3.0 which is incompatible.\n",
            "torch 2.6.0+cu124 requires nvidia-cublas-cu12==12.4.5.8; platform_system == \"Linux\" and platform_machine == \"x86_64\", but you have nvidia-cublas-cu12 12.5.3.2 which is incompatible.\n",
            "torch 2.6.0+cu124 requires nvidia-cuda-cupti-cu12==12.4.127; platform_system == \"Linux\" and platform_machine == \"x86_64\", but you have nvidia-cuda-cupti-cu12 12.5.82 which is incompatible.\n",
            "torch 2.6.0+cu124 requires nvidia-cuda-nvrtc-cu12==12.4.127; platform_system == \"Linux\" and platform_machine == \"x86_64\", but you have nvidia-cuda-nvrtc-cu12 12.5.82 which is incompatible.\n",
            "torch 2.6.0+cu124 requires nvidia-cuda-runtime-cu12==12.4.127; platform_system == \"Linux\" and platform_machine == \"x86_64\", but you have nvidia-cuda-runtime-cu12 12.5.82 which is incompatible.\n",
            "torch 2.6.0+cu124 requires nvidia-cudnn-cu12==9.1.0.70; platform_system == \"Linux\" and platform_machine == \"x86_64\", but you have nvidia-cudnn-cu12 9.3.0.75 which is incompatible.\n",
            "torch 2.6.0+cu124 requires nvidia-cufft-cu12==11.2.1.3; platform_system == \"Linux\" and platform_machine == \"x86_64\", but you have nvidia-cufft-cu12 11.2.3.61 which is incompatible.\n",
            "torch 2.6.0+cu124 requires nvidia-curand-cu12==10.3.5.147; platform_system == \"Linux\" and platform_machine == \"x86_64\", but you have nvidia-curand-cu12 10.3.6.82 which is incompatible.\n",
            "torch 2.6.0+cu124 requires nvidia-cusolver-cu12==11.6.1.9; platform_system == \"Linux\" and platform_machine == \"x86_64\", but you have nvidia-cusolver-cu12 11.6.3.83 which is incompatible.\n",
            "torch 2.6.0+cu124 requires nvidia-cusparse-cu12==12.3.1.170; platform_system == \"Linux\" and platform_machine == \"x86_64\", but you have nvidia-cusparse-cu12 12.5.1.3 which is incompatible.\n",
            "torch 2.6.0+cu124 requires nvidia-nccl-cu12==2.21.5; platform_system == \"Linux\" and platform_machine == \"x86_64\", but you have nvidia-nccl-cu12 2.23.4 which is incompatible.\n",
            "torch 2.6.0+cu124 requires nvidia-nvjitlink-cu12==12.4.127; platform_system == \"Linux\" and platform_machine == \"x86_64\", but you have nvidia-nvjitlink-cu12 12.5.82 which is incompatible.\u001b[0m\u001b[31m\n",
            "\u001b[0mSuccessfully installed cattrs-25.1.1 fire-0.7.0 fsspec-2025.3.0 geemap-0.34.3 hydrafloods-2023.10.14 ipyleaflet-0.18.2 jedi-0.19.2 pipetools-1.1.0 requests-cache-1.2.1 simplecmr-0.0.1 url-normalize-2.2.1\n",
            "Collecting hydrosar\n",
            "  Downloading hydrosar-1.0.0-py3-none-any.whl.metadata (5.7 kB)\n",
            "Collecting asf_tools\n",
            "  Downloading asf_tools-0.8.3-py3-none-any.whl.metadata (8.5 kB)\n",
            "Collecting hyp3_sdk\n",
            "  Downloading hyp3_sdk-7.7.2-py3-none-any.whl.metadata (5.5 kB)\n",
            "Requirement already satisfied: astropy in /usr/local/lib/python3.11/dist-packages (from hydrosar) (7.1.0)\n",
            "Collecting fiona (from hydrosar)\n",
            "  Downloading fiona-1.10.1-cp311-cp311-manylinux_2_17_x86_64.manylinux2014_x86_64.whl.metadata (56 kB)\n",
            "\u001b[2K     \u001b[90m━━━━━━━━━━━━━━━━━━━━━━━━━━━━━━━━━━━━━━━━\u001b[0m \u001b[32m56.6/56.6 kB\u001b[0m \u001b[31m2.0 MB/s\u001b[0m eta \u001b[36m0:00:00\u001b[0m\n",
            "\u001b[?25hRequirement already satisfied: gdal>=3.3 in /usr/local/lib/python3.11/dist-packages (from hydrosar) (3.8.4)\n",
            "Requirement already satisfied: numpy in /usr/local/lib/python3.11/dist-packages (from hydrosar) (2.0.2)\n",
            "Collecting pysheds>=0.3 (from hydrosar)\n",
            "  Downloading pysheds-0.5-py3-none-any.whl.metadata (1.9 kB)\n",
            "Collecting rasterio (from hydrosar)\n",
            "  Downloading rasterio-1.4.3-cp311-cp311-manylinux_2_17_x86_64.manylinux2014_x86_64.whl.metadata (9.1 kB)\n",
            "Collecting scikit-fuzzy (from hydrosar)\n",
            "  Downloading scikit_fuzzy-0.5.0-py2.py3-none-any.whl.metadata (2.6 kB)\n",
            "Requirement already satisfied: scikit-image in /usr/local/lib/python3.11/dist-packages (from hydrosar) (0.25.2)\n",
            "Requirement already satisfied: scipy in /usr/local/lib/python3.11/dist-packages (from hydrosar) (1.16.1)\n",
            "Requirement already satisfied: shapely in /usr/local/lib/python3.11/dist-packages (from hydrosar) (2.1.1)\n",
            "Requirement already satisfied: tqdm in /usr/local/lib/python3.11/dist-packages (from hydrosar) (4.67.1)\n",
            "Requirement already satisfied: geopandas in /usr/local/lib/python3.11/dist-packages (from asf_tools) (1.1.1)\n",
            "Requirement already satisfied: pyogrio in /usr/local/lib/python3.11/dist-packages (from asf_tools) (0.11.1)\n",
            "Requirement already satisfied: python-dateutil in /usr/local/lib/python3.11/dist-packages (from hyp3_sdk) (2.9.0.post0)\n",
            "Requirement already satisfied: requests in /usr/local/lib/python3.11/dist-packages (from hyp3_sdk) (2.32.3)\n",
            "Requirement already satisfied: urllib3 in /usr/local/lib/python3.11/dist-packages (from hyp3_sdk) (2.5.0)\n",
            "Collecting affine (from pysheds>=0.3->hydrosar)\n",
            "  Downloading affine-2.4.0-py3-none-any.whl.metadata (4.0 kB)\n",
            "Collecting geojson (from pysheds>=0.3->hydrosar)\n",
            "  Downloading geojson-3.2.0-py3-none-any.whl.metadata (16 kB)\n",
            "Collecting looseversion (from pysheds>=0.3->hydrosar)\n",
            "  Downloading looseversion-1.3.0-py2.py3-none-any.whl.metadata (4.6 kB)\n",
            "Requirement already satisfied: numba in /usr/local/lib/python3.11/dist-packages (from pysheds>=0.3->hydrosar) (0.60.0)\n",
            "Requirement already satisfied: pandas in /usr/local/lib/python3.11/dist-packages (from pysheds>=0.3->hydrosar) (2.2.2)\n",
            "Requirement already satisfied: pyproj in /usr/local/lib/python3.11/dist-packages (from pysheds>=0.3->hydrosar) (3.7.1)\n",
            "Requirement already satisfied: attrs in /usr/local/lib/python3.11/dist-packages (from rasterio->hydrosar) (25.3.0)\n",
            "Requirement already satisfied: certifi in /usr/local/lib/python3.11/dist-packages (from rasterio->hydrosar) (2025.8.3)\n",
            "Requirement already satisfied: click>=4.0 in /usr/local/lib/python3.11/dist-packages (from rasterio->hydrosar) (8.2.1)\n",
            "Collecting cligj>=0.5 (from rasterio->hydrosar)\n",
            "  Downloading cligj-0.7.2-py3-none-any.whl.metadata (5.0 kB)\n",
            "Collecting click-plugins (from rasterio->hydrosar)\n",
            "  Downloading click_plugins-1.1.1.2-py2.py3-none-any.whl.metadata (6.5 kB)\n",
            "Requirement already satisfied: pyparsing in /usr/local/lib/python3.11/dist-packages (from rasterio->hydrosar) (3.2.3)\n",
            "Requirement already satisfied: pyerfa>=2.0.1.1 in /usr/local/lib/python3.11/dist-packages (from astropy->hydrosar) (2.0.1.5)\n",
            "Requirement already satisfied: astropy-iers-data>=0.2025.4.28.0.37.27 in /usr/local/lib/python3.11/dist-packages (from astropy->hydrosar) (0.2025.8.11.0.41.9)\n",
            "Requirement already satisfied: PyYAML>=6.0.0 in /usr/local/lib/python3.11/dist-packages (from astropy->hydrosar) (6.0.2)\n",
            "Requirement already satisfied: packaging>=22.0.0 in /usr/local/lib/python3.11/dist-packages (from astropy->hydrosar) (25.0)\n",
            "Requirement already satisfied: six>=1.5 in /usr/local/lib/python3.11/dist-packages (from python-dateutil->hyp3_sdk) (1.17.0)\n",
            "Requirement already satisfied: charset-normalizer<4,>=2 in /usr/local/lib/python3.11/dist-packages (from requests->hyp3_sdk) (3.4.3)\n",
            "Requirement already satisfied: idna<4,>=2.5 in /usr/local/lib/python3.11/dist-packages (from requests->hyp3_sdk) (3.10)\n",
            "Requirement already satisfied: networkx>=3.0 in /usr/local/lib/python3.11/dist-packages (from scikit-image->hydrosar) (3.5)\n",
            "Requirement already satisfied: pillow>=10.1 in /usr/local/lib/python3.11/dist-packages (from scikit-image->hydrosar) (11.3.0)\n",
            "Requirement already satisfied: imageio!=2.35.0,>=2.33 in /usr/local/lib/python3.11/dist-packages (from scikit-image->hydrosar) (2.37.0)\n",
            "Requirement already satisfied: tifffile>=2022.8.12 in /usr/local/lib/python3.11/dist-packages (from scikit-image->hydrosar) (2025.6.11)\n",
            "Requirement already satisfied: lazy-loader>=0.4 in /usr/local/lib/python3.11/dist-packages (from scikit-image->hydrosar) (0.4)\n",
            "Requirement already satisfied: pytz>=2020.1 in /usr/local/lib/python3.11/dist-packages (from pandas->pysheds>=0.3->hydrosar) (2025.2)\n",
            "Requirement already satisfied: tzdata>=2022.7 in /usr/local/lib/python3.11/dist-packages (from pandas->pysheds>=0.3->hydrosar) (2025.2)\n",
            "Requirement already satisfied: llvmlite<0.44,>=0.43.0dev0 in /usr/local/lib/python3.11/dist-packages (from numba->pysheds>=0.3->hydrosar) (0.43.0)\n",
            "Downloading hydrosar-1.0.0-py3-none-any.whl (30 kB)\n",
            "Downloading asf_tools-0.8.3-py3-none-any.whl (52 kB)\n",
            "\u001b[2K   \u001b[90m━━━━━━━━━━━━━━━━━━━━━━━━━━━━━━━━━━━━━━━━\u001b[0m \u001b[32m52.2/52.2 kB\u001b[0m \u001b[31m3.4 MB/s\u001b[0m eta \u001b[36m0:00:00\u001b[0m\n",
            "\u001b[?25hDownloading hyp3_sdk-7.7.2-py3-none-any.whl (15 kB)\n",
            "Downloading pysheds-0.5-py3-none-any.whl (62 kB)\n",
            "\u001b[2K   \u001b[90m━━━━━━━━━━━━━━━━━━━━━━━━━━━━━━━━━━━━━━━━\u001b[0m \u001b[32m62.3/62.3 kB\u001b[0m \u001b[31m3.9 MB/s\u001b[0m eta \u001b[36m0:00:00\u001b[0m\n",
            "\u001b[?25hDownloading rasterio-1.4.3-cp311-cp311-manylinux_2_17_x86_64.manylinux2014_x86_64.whl (22.2 MB)\n",
            "\u001b[2K   \u001b[90m━━━━━━━━━━━━━━━━━━━━━━━━━━━━━━━━━━━━━━━━\u001b[0m \u001b[32m22.2/22.2 MB\u001b[0m \u001b[31m82.1 MB/s\u001b[0m eta \u001b[36m0:00:00\u001b[0m\n",
            "\u001b[?25hDownloading fiona-1.10.1-cp311-cp311-manylinux_2_17_x86_64.manylinux2014_x86_64.whl (17.3 MB)\n",
            "\u001b[2K   \u001b[90m━━━━━━━━━━━━━━━━━━━━━━━━━━━━━━━━━━━━━━━━\u001b[0m \u001b[32m17.3/17.3 MB\u001b[0m \u001b[31m87.1 MB/s\u001b[0m eta \u001b[36m0:00:00\u001b[0m\n",
            "\u001b[?25hDownloading scikit_fuzzy-0.5.0-py2.py3-none-any.whl (920 kB)\n",
            "\u001b[2K   \u001b[90m━━━━━━━━━━━━━━━━━━━━━━━━━━━━━━━━━━━━━━━━\u001b[0m \u001b[32m920.8/920.8 kB\u001b[0m \u001b[31m48.5 MB/s\u001b[0m eta \u001b[36m0:00:00\u001b[0m\n",
            "\u001b[?25hDownloading click_plugins-1.1.1.2-py2.py3-none-any.whl (11 kB)\n",
            "Downloading cligj-0.7.2-py3-none-any.whl (7.1 kB)\n",
            "Downloading affine-2.4.0-py3-none-any.whl (15 kB)\n",
            "Downloading geojson-3.2.0-py3-none-any.whl (15 kB)\n",
            "Downloading looseversion-1.3.0-py2.py3-none-any.whl (8.2 kB)\n",
            "Installing collected packages: scikit-fuzzy, looseversion, geojson, cligj, click-plugins, affine, rasterio, hyp3_sdk, fiona, pysheds, hydrosar, asf_tools\n",
            "Successfully installed affine-2.4.0 asf_tools-0.8.3 click-plugins-1.1.1.2 cligj-0.7.2 fiona-1.10.1 geojson-3.2.0 hydrosar-1.0.0 hyp3_sdk-7.7.2 looseversion-1.3.0 pysheds-0.5 rasterio-1.4.3 scikit-fuzzy-0.5.0\n",
            "Requirement already satisfied: geemap in /usr/local/lib/python3.11/dist-packages (0.34.3)\n",
            "Requirement already satisfied: bqplot in /usr/local/lib/python3.11/dist-packages (from geemap) (0.12.45)\n",
            "Requirement already satisfied: colour in /usr/local/lib/python3.11/dist-packages (from geemap) (0.1.5)\n",
            "Requirement already satisfied: earthengine-api>=1.0.0 in /usr/local/lib/python3.11/dist-packages (from geemap) (1.5.24)\n",
            "Requirement already satisfied: eerepr>=0.0.4 in /usr/local/lib/python3.11/dist-packages (from geemap) (0.1.2)\n",
            "Requirement already satisfied: folium>=0.13.0 in /usr/local/lib/python3.11/dist-packages (from geemap) (0.20.0)\n",
            "Requirement already satisfied: geocoder in /usr/local/lib/python3.11/dist-packages (from geemap) (1.38.1)\n",
            "Requirement already satisfied: ipyevents in /usr/local/lib/python3.11/dist-packages (from geemap) (2.0.2)\n",
            "Requirement already satisfied: ipyfilechooser>=0.6.0 in /usr/local/lib/python3.11/dist-packages (from geemap) (0.6.0)\n",
            "Requirement already satisfied: ipyleaflet>=0.17.0 in /usr/local/lib/python3.11/dist-packages (from geemap) (0.18.2)\n",
            "Requirement already satisfied: ipytree in /usr/local/lib/python3.11/dist-packages (from geemap) (0.2.2)\n",
            "Requirement already satisfied: matplotlib in /usr/local/lib/python3.11/dist-packages (from geemap) (3.10.0)\n",
            "Requirement already satisfied: numpy in /usr/local/lib/python3.11/dist-packages (from geemap) (2.0.2)\n",
            "Requirement already satisfied: pandas in /usr/local/lib/python3.11/dist-packages (from geemap) (2.2.2)\n",
            "Requirement already satisfied: plotly in /usr/local/lib/python3.11/dist-packages (from geemap) (5.24.1)\n",
            "Requirement already satisfied: pyperclip in /usr/local/lib/python3.11/dist-packages (from geemap) (1.9.0)\n",
            "Requirement already satisfied: pyshp>=2.1.3 in /usr/local/lib/python3.11/dist-packages (from geemap) (2.3.1)\n",
            "Requirement already satisfied: python-box in /usr/local/lib/python3.11/dist-packages (from geemap) (7.3.2)\n",
            "Requirement already satisfied: scooby in /usr/local/lib/python3.11/dist-packages (from geemap) (0.10.1)\n",
            "Requirement already satisfied: setuptools in /usr/local/lib/python3.11/dist-packages (from geemap) (75.2.0)\n",
            "Requirement already satisfied: google-cloud-storage in /usr/local/lib/python3.11/dist-packages (from earthengine-api>=1.0.0->geemap) (2.19.0)\n",
            "Requirement already satisfied: google-api-python-client>=1.12.1 in /usr/local/lib/python3.11/dist-packages (from earthengine-api>=1.0.0->geemap) (2.178.0)\n",
            "Requirement already satisfied: google-auth>=1.4.1 in /usr/local/lib/python3.11/dist-packages (from earthengine-api>=1.0.0->geemap) (2.38.0)\n",
            "Requirement already satisfied: google-auth-httplib2>=0.0.3 in /usr/local/lib/python3.11/dist-packages (from earthengine-api>=1.0.0->geemap) (0.2.0)\n",
            "Requirement already satisfied: httplib2<1dev,>=0.9.2 in /usr/local/lib/python3.11/dist-packages (from earthengine-api>=1.0.0->geemap) (0.22.0)\n",
            "Requirement already satisfied: requests in /usr/local/lib/python3.11/dist-packages (from earthengine-api>=1.0.0->geemap) (2.32.3)\n",
            "Requirement already satisfied: branca>=0.6.0 in /usr/local/lib/python3.11/dist-packages (from folium>=0.13.0->geemap) (0.8.1)\n",
            "Requirement already satisfied: jinja2>=2.9 in /usr/local/lib/python3.11/dist-packages (from folium>=0.13.0->geemap) (3.1.6)\n",
            "Requirement already satisfied: xyzservices in /usr/local/lib/python3.11/dist-packages (from folium>=0.13.0->geemap) (2025.4.0)\n",
            "Requirement already satisfied: ipywidgets in /usr/local/lib/python3.11/dist-packages (from ipyfilechooser>=0.6.0->geemap) (7.7.1)\n",
            "Requirement already satisfied: traittypes<3,>=0.2.1 in /usr/local/lib/python3.11/dist-packages (from ipyleaflet>=0.17.0->geemap) (0.2.1)\n",
            "Requirement already satisfied: traitlets>=4.3.0 in /usr/local/lib/python3.11/dist-packages (from bqplot->geemap) (5.7.1)\n",
            "Requirement already satisfied: python-dateutil>=2.8.2 in /usr/local/lib/python3.11/dist-packages (from pandas->geemap) (2.9.0.post0)\n",
            "Requirement already satisfied: pytz>=2020.1 in /usr/local/lib/python3.11/dist-packages (from pandas->geemap) (2025.2)\n",
            "Requirement already satisfied: tzdata>=2022.7 in /usr/local/lib/python3.11/dist-packages (from pandas->geemap) (2025.2)\n",
            "Requirement already satisfied: click in /usr/local/lib/python3.11/dist-packages (from geocoder->geemap) (8.2.1)\n",
            "Requirement already satisfied: future in /usr/local/lib/python3.11/dist-packages (from geocoder->geemap) (1.0.0)\n",
            "Requirement already satisfied: ratelim in /usr/local/lib/python3.11/dist-packages (from geocoder->geemap) (0.1.6)\n",
            "Requirement already satisfied: six in /usr/local/lib/python3.11/dist-packages (from geocoder->geemap) (1.17.0)\n",
            "Requirement already satisfied: contourpy>=1.0.1 in /usr/local/lib/python3.11/dist-packages (from matplotlib->geemap) (1.3.3)\n",
            "Requirement already satisfied: cycler>=0.10 in /usr/local/lib/python3.11/dist-packages (from matplotlib->geemap) (0.12.1)\n",
            "Requirement already satisfied: fonttools>=4.22.0 in /usr/local/lib/python3.11/dist-packages (from matplotlib->geemap) (4.59.0)\n",
            "Requirement already satisfied: kiwisolver>=1.3.1 in /usr/local/lib/python3.11/dist-packages (from matplotlib->geemap) (1.4.9)\n",
            "Requirement already satisfied: packaging>=20.0 in /usr/local/lib/python3.11/dist-packages (from matplotlib->geemap) (25.0)\n",
            "Requirement already satisfied: pillow>=8 in /usr/local/lib/python3.11/dist-packages (from matplotlib->geemap) (11.3.0)\n",
            "Requirement already satisfied: pyparsing>=2.3.1 in /usr/local/lib/python3.11/dist-packages (from matplotlib->geemap) (3.2.3)\n",
            "Requirement already satisfied: tenacity>=6.2.0 in /usr/local/lib/python3.11/dist-packages (from plotly->geemap) (9.1.2)\n",
            "Requirement already satisfied: google-api-core!=2.0.*,!=2.1.*,!=2.2.*,!=2.3.0,<3.0.0,>=1.31.5 in /usr/local/lib/python3.11/dist-packages (from google-api-python-client>=1.12.1->earthengine-api>=1.0.0->geemap) (2.25.1)\n",
            "Requirement already satisfied: uritemplate<5,>=3.0.1 in /usr/local/lib/python3.11/dist-packages (from google-api-python-client>=1.12.1->earthengine-api>=1.0.0->geemap) (4.2.0)\n",
            "Requirement already satisfied: cachetools<6.0,>=2.0.0 in /usr/local/lib/python3.11/dist-packages (from google-auth>=1.4.1->earthengine-api>=1.0.0->geemap) (5.5.2)\n",
            "Requirement already satisfied: pyasn1-modules>=0.2.1 in /usr/local/lib/python3.11/dist-packages (from google-auth>=1.4.1->earthengine-api>=1.0.0->geemap) (0.4.2)\n",
            "Requirement already satisfied: rsa<5,>=3.1.4 in /usr/local/lib/python3.11/dist-packages (from google-auth>=1.4.1->earthengine-api>=1.0.0->geemap) (4.9.1)\n",
            "Requirement already satisfied: ipykernel>=4.5.1 in /usr/local/lib/python3.11/dist-packages (from ipywidgets->ipyfilechooser>=0.6.0->geemap) (6.17.1)\n",
            "Requirement already satisfied: ipython-genutils~=0.2.0 in /usr/local/lib/python3.11/dist-packages (from ipywidgets->ipyfilechooser>=0.6.0->geemap) (0.2.0)\n",
            "Requirement already satisfied: widgetsnbextension~=3.6.0 in /usr/local/lib/python3.11/dist-packages (from ipywidgets->ipyfilechooser>=0.6.0->geemap) (3.6.10)\n",
            "Requirement already satisfied: ipython>=4.0.0 in /usr/local/lib/python3.11/dist-packages (from ipywidgets->ipyfilechooser>=0.6.0->geemap) (7.34.0)\n",
            "Requirement already satisfied: jupyterlab-widgets>=1.0.0 in /usr/local/lib/python3.11/dist-packages (from ipywidgets->ipyfilechooser>=0.6.0->geemap) (3.0.15)\n",
            "Requirement already satisfied: MarkupSafe>=2.0 in /usr/local/lib/python3.11/dist-packages (from jinja2>=2.9->folium>=0.13.0->geemap) (3.0.2)\n",
            "Requirement already satisfied: google-cloud-core<3.0dev,>=2.3.0 in /usr/local/lib/python3.11/dist-packages (from google-cloud-storage->earthengine-api>=1.0.0->geemap) (2.4.3)\n",
            "Requirement already satisfied: google-resumable-media>=2.7.2 in /usr/local/lib/python3.11/dist-packages (from google-cloud-storage->earthengine-api>=1.0.0->geemap) (2.7.2)\n",
            "Requirement already satisfied: google-crc32c<2.0dev,>=1.0 in /usr/local/lib/python3.11/dist-packages (from google-cloud-storage->earthengine-api>=1.0.0->geemap) (1.7.1)\n",
            "Requirement already satisfied: charset-normalizer<4,>=2 in /usr/local/lib/python3.11/dist-packages (from requests->earthengine-api>=1.0.0->geemap) (3.4.3)\n",
            "Requirement already satisfied: idna<4,>=2.5 in /usr/local/lib/python3.11/dist-packages (from requests->earthengine-api>=1.0.0->geemap) (3.10)\n",
            "Requirement already satisfied: urllib3<3,>=1.21.1 in /usr/local/lib/python3.11/dist-packages (from requests->earthengine-api>=1.0.0->geemap) (2.5.0)\n",
            "Requirement already satisfied: certifi>=2017.4.17 in /usr/local/lib/python3.11/dist-packages (from requests->earthengine-api>=1.0.0->geemap) (2025.8.3)\n",
            "Requirement already satisfied: decorator in /usr/local/lib/python3.11/dist-packages (from ratelim->geocoder->geemap) (4.4.2)\n",
            "Requirement already satisfied: googleapis-common-protos<2.0.0,>=1.56.2 in /usr/local/lib/python3.11/dist-packages (from google-api-core!=2.0.*,!=2.1.*,!=2.2.*,!=2.3.0,<3.0.0,>=1.31.5->google-api-python-client>=1.12.1->earthengine-api>=1.0.0->geemap) (1.70.0)\n",
            "Requirement already satisfied: protobuf!=3.20.0,!=3.20.1,!=4.21.0,!=4.21.1,!=4.21.2,!=4.21.3,!=4.21.4,!=4.21.5,<7.0.0,>=3.19.5 in /usr/local/lib/python3.11/dist-packages (from google-api-core!=2.0.*,!=2.1.*,!=2.2.*,!=2.3.0,<3.0.0,>=1.31.5->google-api-python-client>=1.12.1->earthengine-api>=1.0.0->geemap) (5.29.5)\n",
            "Requirement already satisfied: proto-plus<2.0.0,>=1.22.3 in /usr/local/lib/python3.11/dist-packages (from google-api-core!=2.0.*,!=2.1.*,!=2.2.*,!=2.3.0,<3.0.0,>=1.31.5->google-api-python-client>=1.12.1->earthengine-api>=1.0.0->geemap) (1.26.1)\n",
            "Requirement already satisfied: debugpy>=1.0 in /usr/local/lib/python3.11/dist-packages (from ipykernel>=4.5.1->ipywidgets->ipyfilechooser>=0.6.0->geemap) (1.8.15)\n",
            "Requirement already satisfied: jupyter-client>=6.1.12 in /usr/local/lib/python3.11/dist-packages (from ipykernel>=4.5.1->ipywidgets->ipyfilechooser>=0.6.0->geemap) (6.1.12)\n",
            "Requirement already satisfied: matplotlib-inline>=0.1 in /usr/local/lib/python3.11/dist-packages (from ipykernel>=4.5.1->ipywidgets->ipyfilechooser>=0.6.0->geemap) (0.1.7)\n",
            "Requirement already satisfied: nest-asyncio in /usr/local/lib/python3.11/dist-packages (from ipykernel>=4.5.1->ipywidgets->ipyfilechooser>=0.6.0->geemap) (1.6.0)\n",
            "Requirement already satisfied: psutil in /usr/local/lib/python3.11/dist-packages (from ipykernel>=4.5.1->ipywidgets->ipyfilechooser>=0.6.0->geemap) (5.9.5)\n",
            "Requirement already satisfied: pyzmq>=17 in /usr/local/lib/python3.11/dist-packages (from ipykernel>=4.5.1->ipywidgets->ipyfilechooser>=0.6.0->geemap) (26.2.1)\n",
            "Requirement already satisfied: tornado>=6.1 in /usr/local/lib/python3.11/dist-packages (from ipykernel>=4.5.1->ipywidgets->ipyfilechooser>=0.6.0->geemap) (6.4.2)\n",
            "Requirement already satisfied: jedi>=0.16 in /usr/local/lib/python3.11/dist-packages (from ipython>=4.0.0->ipywidgets->ipyfilechooser>=0.6.0->geemap) (0.19.2)\n",
            "Requirement already satisfied: pickleshare in /usr/local/lib/python3.11/dist-packages (from ipython>=4.0.0->ipywidgets->ipyfilechooser>=0.6.0->geemap) (0.7.5)\n",
            "Requirement already satisfied: prompt-toolkit!=3.0.0,!=3.0.1,<3.1.0,>=2.0.0 in /usr/local/lib/python3.11/dist-packages (from ipython>=4.0.0->ipywidgets->ipyfilechooser>=0.6.0->geemap) (3.0.51)\n",
            "Requirement already satisfied: pygments in /usr/local/lib/python3.11/dist-packages (from ipython>=4.0.0->ipywidgets->ipyfilechooser>=0.6.0->geemap) (2.19.2)\n",
            "Requirement already satisfied: backcall in /usr/local/lib/python3.11/dist-packages (from ipython>=4.0.0->ipywidgets->ipyfilechooser>=0.6.0->geemap) (0.2.0)\n",
            "Requirement already satisfied: pexpect>4.3 in /usr/local/lib/python3.11/dist-packages (from ipython>=4.0.0->ipywidgets->ipyfilechooser>=0.6.0->geemap) (4.9.0)\n",
            "Requirement already satisfied: pyasn1<0.7.0,>=0.6.1 in /usr/local/lib/python3.11/dist-packages (from pyasn1-modules>=0.2.1->google-auth>=1.4.1->earthengine-api>=1.0.0->geemap) (0.6.1)\n",
            "Requirement already satisfied: notebook>=4.4.1 in /usr/local/lib/python3.11/dist-packages (from widgetsnbextension~=3.6.0->ipywidgets->ipyfilechooser>=0.6.0->geemap) (6.5.7)\n",
            "Requirement already satisfied: parso<0.9.0,>=0.8.4 in /usr/local/lib/python3.11/dist-packages (from jedi>=0.16->ipython>=4.0.0->ipywidgets->ipyfilechooser>=0.6.0->geemap) (0.8.4)\n",
            "Requirement already satisfied: jupyter-core>=4.6.0 in /usr/local/lib/python3.11/dist-packages (from jupyter-client>=6.1.12->ipykernel>=4.5.1->ipywidgets->ipyfilechooser>=0.6.0->geemap) (5.8.1)\n",
            "Requirement already satisfied: argon2-cffi in /usr/local/lib/python3.11/dist-packages (from notebook>=4.4.1->widgetsnbextension~=3.6.0->ipywidgets->ipyfilechooser>=0.6.0->geemap) (25.1.0)\n",
            "Requirement already satisfied: nbformat in /usr/local/lib/python3.11/dist-packages (from notebook>=4.4.1->widgetsnbextension~=3.6.0->ipywidgets->ipyfilechooser>=0.6.0->geemap) (5.10.4)\n",
            "Requirement already satisfied: nbconvert>=5 in /usr/local/lib/python3.11/dist-packages (from notebook>=4.4.1->widgetsnbextension~=3.6.0->ipywidgets->ipyfilechooser>=0.6.0->geemap) (7.16.6)\n",
            "Requirement already satisfied: Send2Trash>=1.8.0 in /usr/local/lib/python3.11/dist-packages (from notebook>=4.4.1->widgetsnbextension~=3.6.0->ipywidgets->ipyfilechooser>=0.6.0->geemap) (1.8.3)\n",
            "Requirement already satisfied: terminado>=0.8.3 in /usr/local/lib/python3.11/dist-packages (from notebook>=4.4.1->widgetsnbextension~=3.6.0->ipywidgets->ipyfilechooser>=0.6.0->geemap) (0.18.1)\n",
            "Requirement already satisfied: prometheus-client in /usr/local/lib/python3.11/dist-packages (from notebook>=4.4.1->widgetsnbextension~=3.6.0->ipywidgets->ipyfilechooser>=0.6.0->geemap) (0.22.1)\n",
            "Requirement already satisfied: nbclassic>=0.4.7 in /usr/local/lib/python3.11/dist-packages (from notebook>=4.4.1->widgetsnbextension~=3.6.0->ipywidgets->ipyfilechooser>=0.6.0->geemap) (1.3.1)\n",
            "Requirement already satisfied: ptyprocess>=0.5 in /usr/local/lib/python3.11/dist-packages (from pexpect>4.3->ipython>=4.0.0->ipywidgets->ipyfilechooser>=0.6.0->geemap) (0.7.0)\n",
            "Requirement already satisfied: wcwidth in /usr/local/lib/python3.11/dist-packages (from prompt-toolkit!=3.0.0,!=3.0.1,<3.1.0,>=2.0.0->ipython>=4.0.0->ipywidgets->ipyfilechooser>=0.6.0->geemap) (0.2.13)\n",
            "Requirement already satisfied: platformdirs>=2.5 in /usr/local/lib/python3.11/dist-packages (from jupyter-core>=4.6.0->jupyter-client>=6.1.12->ipykernel>=4.5.1->ipywidgets->ipyfilechooser>=0.6.0->geemap) (4.3.8)\n",
            "Requirement already satisfied: notebook-shim>=0.2.3 in /usr/local/lib/python3.11/dist-packages (from nbclassic>=0.4.7->notebook>=4.4.1->widgetsnbextension~=3.6.0->ipywidgets->ipyfilechooser>=0.6.0->geemap) (0.2.4)\n",
            "Requirement already satisfied: beautifulsoup4 in /usr/local/lib/python3.11/dist-packages (from nbconvert>=5->notebook>=4.4.1->widgetsnbextension~=3.6.0->ipywidgets->ipyfilechooser>=0.6.0->geemap) (4.13.4)\n",
            "Requirement already satisfied: bleach!=5.0.0 in /usr/local/lib/python3.11/dist-packages (from bleach[css]!=5.0.0->nbconvert>=5->notebook>=4.4.1->widgetsnbextension~=3.6.0->ipywidgets->ipyfilechooser>=0.6.0->geemap) (6.2.0)\n",
            "Requirement already satisfied: defusedxml in /usr/local/lib/python3.11/dist-packages (from nbconvert>=5->notebook>=4.4.1->widgetsnbextension~=3.6.0->ipywidgets->ipyfilechooser>=0.6.0->geemap) (0.7.1)\n",
            "Requirement already satisfied: jupyterlab-pygments in /usr/local/lib/python3.11/dist-packages (from nbconvert>=5->notebook>=4.4.1->widgetsnbextension~=3.6.0->ipywidgets->ipyfilechooser>=0.6.0->geemap) (0.3.0)\n",
            "Requirement already satisfied: mistune<4,>=2.0.3 in /usr/local/lib/python3.11/dist-packages (from nbconvert>=5->notebook>=4.4.1->widgetsnbextension~=3.6.0->ipywidgets->ipyfilechooser>=0.6.0->geemap) (3.1.3)\n",
            "Requirement already satisfied: nbclient>=0.5.0 in /usr/local/lib/python3.11/dist-packages (from nbconvert>=5->notebook>=4.4.1->widgetsnbextension~=3.6.0->ipywidgets->ipyfilechooser>=0.6.0->geemap) (0.10.2)\n",
            "Requirement already satisfied: pandocfilters>=1.4.1 in /usr/local/lib/python3.11/dist-packages (from nbconvert>=5->notebook>=4.4.1->widgetsnbextension~=3.6.0->ipywidgets->ipyfilechooser>=0.6.0->geemap) (1.5.1)\n",
            "Requirement already satisfied: fastjsonschema>=2.15 in /usr/local/lib/python3.11/dist-packages (from nbformat->notebook>=4.4.1->widgetsnbextension~=3.6.0->ipywidgets->ipyfilechooser>=0.6.0->geemap) (2.21.1)\n",
            "Requirement already satisfied: jsonschema>=2.6 in /usr/local/lib/python3.11/dist-packages (from nbformat->notebook>=4.4.1->widgetsnbextension~=3.6.0->ipywidgets->ipyfilechooser>=0.6.0->geemap) (4.25.0)\n",
            "Requirement already satisfied: argon2-cffi-bindings in /usr/local/lib/python3.11/dist-packages (from argon2-cffi->notebook>=4.4.1->widgetsnbextension~=3.6.0->ipywidgets->ipyfilechooser>=0.6.0->geemap) (25.1.0)\n",
            "Requirement already satisfied: webencodings in /usr/local/lib/python3.11/dist-packages (from bleach!=5.0.0->bleach[css]!=5.0.0->nbconvert>=5->notebook>=4.4.1->widgetsnbextension~=3.6.0->ipywidgets->ipyfilechooser>=0.6.0->geemap) (0.5.1)\n",
            "Requirement already satisfied: tinycss2<1.5,>=1.1.0 in /usr/local/lib/python3.11/dist-packages (from bleach[css]!=5.0.0->nbconvert>=5->notebook>=4.4.1->widgetsnbextension~=3.6.0->ipywidgets->ipyfilechooser>=0.6.0->geemap) (1.4.0)\n",
            "Requirement already satisfied: attrs>=22.2.0 in /usr/local/lib/python3.11/dist-packages (from jsonschema>=2.6->nbformat->notebook>=4.4.1->widgetsnbextension~=3.6.0->ipywidgets->ipyfilechooser>=0.6.0->geemap) (25.3.0)\n",
            "Requirement already satisfied: jsonschema-specifications>=2023.03.6 in /usr/local/lib/python3.11/dist-packages (from jsonschema>=2.6->nbformat->notebook>=4.4.1->widgetsnbextension~=3.6.0->ipywidgets->ipyfilechooser>=0.6.0->geemap) (2025.4.1)\n",
            "Requirement already satisfied: referencing>=0.28.4 in /usr/local/lib/python3.11/dist-packages (from jsonschema>=2.6->nbformat->notebook>=4.4.1->widgetsnbextension~=3.6.0->ipywidgets->ipyfilechooser>=0.6.0->geemap) (0.36.2)\n",
            "Requirement already satisfied: rpds-py>=0.7.1 in /usr/local/lib/python3.11/dist-packages (from jsonschema>=2.6->nbformat->notebook>=4.4.1->widgetsnbextension~=3.6.0->ipywidgets->ipyfilechooser>=0.6.0->geemap) (0.27.0)\n",
            "Requirement already satisfied: jupyter-server<3,>=1.8 in /usr/local/lib/python3.11/dist-packages (from notebook-shim>=0.2.3->nbclassic>=0.4.7->notebook>=4.4.1->widgetsnbextension~=3.6.0->ipywidgets->ipyfilechooser>=0.6.0->geemap) (1.16.0)\n",
            "Requirement already satisfied: cffi>=1.0.1 in /usr/local/lib/python3.11/dist-packages (from argon2-cffi-bindings->argon2-cffi->notebook>=4.4.1->widgetsnbextension~=3.6.0->ipywidgets->ipyfilechooser>=0.6.0->geemap) (1.17.1)\n",
            "Requirement already satisfied: soupsieve>1.2 in /usr/local/lib/python3.11/dist-packages (from beautifulsoup4->nbconvert>=5->notebook>=4.4.1->widgetsnbextension~=3.6.0->ipywidgets->ipyfilechooser>=0.6.0->geemap) (2.7)\n",
            "Requirement already satisfied: typing-extensions>=4.0.0 in /usr/local/lib/python3.11/dist-packages (from beautifulsoup4->nbconvert>=5->notebook>=4.4.1->widgetsnbextension~=3.6.0->ipywidgets->ipyfilechooser>=0.6.0->geemap) (4.14.1)\n",
            "Requirement already satisfied: pycparser in /usr/local/lib/python3.11/dist-packages (from cffi>=1.0.1->argon2-cffi-bindings->argon2-cffi->notebook>=4.4.1->widgetsnbextension~=3.6.0->ipywidgets->ipyfilechooser>=0.6.0->geemap) (2.22)\n",
            "Requirement already satisfied: anyio>=3.1.0 in /usr/local/lib/python3.11/dist-packages (from jupyter-server<3,>=1.8->notebook-shim>=0.2.3->nbclassic>=0.4.7->notebook>=4.4.1->widgetsnbextension~=3.6.0->ipywidgets->ipyfilechooser>=0.6.0->geemap) (4.10.0)\n",
            "Requirement already satisfied: websocket-client in /usr/local/lib/python3.11/dist-packages (from jupyter-server<3,>=1.8->notebook-shim>=0.2.3->nbclassic>=0.4.7->notebook>=4.4.1->widgetsnbextension~=3.6.0->ipywidgets->ipyfilechooser>=0.6.0->geemap) (1.8.0)\n",
            "Requirement already satisfied: sniffio>=1.1 in /usr/local/lib/python3.11/dist-packages (from anyio>=3.1.0->jupyter-server<3,>=1.8->notebook-shim>=0.2.3->nbclassic>=0.4.7->notebook>=4.4.1->widgetsnbextension~=3.6.0->ipywidgets->ipyfilechooser>=0.6.0->geemap) (1.3.1)\n",
            "Collecting opensarlab_lib\n",
            "  Downloading opensarlab_lib-0.0.14-py3-none-any.whl.metadata (2.6 kB)\n",
            "Collecting asf_search (from opensarlab_lib)\n",
            "  Downloading asf_search-10.0.0-py3-none-any.whl.metadata (8.3 kB)\n",
            "Collecting cartopy (from opensarlab_lib)\n",
            "  Downloading cartopy-0.25.0-cp311-cp311-manylinux_2_24_x86_64.manylinux_2_28_x86_64.whl.metadata (6.1 kB)\n",
            "Collecting contextily (from opensarlab_lib)\n",
            "  Downloading contextily-1.6.2-py3-none-any.whl.metadata (2.9 kB)\n",
            "Requirement already satisfied: gdal in /usr/local/lib/python3.11/dist-packages (from opensarlab_lib) (3.8.4)\n",
            "Requirement already satisfied: hyp3_sdk in /usr/local/lib/python3.11/dist-packages (from opensarlab_lib) (7.7.2)\n",
            "Requirement already satisfied: ipywidgets in /usr/local/lib/python3.11/dist-packages (from opensarlab_lib) (7.7.1)\n",
            "Requirement already satisfied: IPython in /usr/local/lib/python3.11/dist-packages (from opensarlab_lib) (7.34.0)\n",
            "Requirement already satisfied: matplotlib in /usr/local/lib/python3.11/dist-packages (from opensarlab_lib) (3.10.0)\n",
            "Requirement already satisfied: numpy in /usr/local/lib/python3.11/dist-packages (from opensarlab_lib) (2.0.2)\n",
            "Requirement already satisfied: pandas in /usr/local/lib/python3.11/dist-packages (from opensarlab_lib) (2.2.2)\n",
            "Requirement already satisfied: pyproj in /usr/local/lib/python3.11/dist-packages (from opensarlab_lib) (3.7.1)\n",
            "Requirement already satisfied: requests in /usr/local/lib/python3.11/dist-packages (from opensarlab_lib) (2.32.3)\n",
            "Requirement already satisfied: shapely in /usr/local/lib/python3.11/dist-packages (from opensarlab_lib) (2.1.1)\n",
            "Requirement already satisfied: pyshp in /usr/local/lib/python3.11/dist-packages (from opensarlab_lib) (2.3.1)\n",
            "Requirement already satisfied: pytz in /usr/local/lib/python3.11/dist-packages (from asf_search->opensarlab_lib) (2025.2)\n",
            "Collecting dateparser (from asf_search->opensarlab_lib)\n",
            "  Downloading dateparser-1.2.2-py3-none-any.whl.metadata (29 kB)\n",
            "Requirement already satisfied: python-dateutil in /usr/local/lib/python3.11/dist-packages (from asf_search->opensarlab_lib) (2.9.0.post0)\n",
            "Requirement already satisfied: tenacity>=8.2.2 in /usr/local/lib/python3.11/dist-packages (from asf_search->opensarlab_lib) (9.1.2)\n",
            "Requirement already satisfied: packaging>=21 in /usr/local/lib/python3.11/dist-packages (from cartopy->opensarlab_lib) (25.0)\n",
            "Requirement already satisfied: contourpy>=1.0.1 in /usr/local/lib/python3.11/dist-packages (from matplotlib->opensarlab_lib) (1.3.3)\n",
            "Requirement already satisfied: cycler>=0.10 in /usr/local/lib/python3.11/dist-packages (from matplotlib->opensarlab_lib) (0.12.1)\n",
            "Requirement already satisfied: fonttools>=4.22.0 in /usr/local/lib/python3.11/dist-packages (from matplotlib->opensarlab_lib) (4.59.0)\n",
            "Requirement already satisfied: kiwisolver>=1.3.1 in /usr/local/lib/python3.11/dist-packages (from matplotlib->opensarlab_lib) (1.4.9)\n",
            "Requirement already satisfied: pillow>=8 in /usr/local/lib/python3.11/dist-packages (from matplotlib->opensarlab_lib) (11.3.0)\n",
            "Requirement already satisfied: pyparsing>=2.3.1 in /usr/local/lib/python3.11/dist-packages (from matplotlib->opensarlab_lib) (3.2.3)\n",
            "Requirement already satisfied: certifi in /usr/local/lib/python3.11/dist-packages (from pyproj->opensarlab_lib) (2025.8.3)\n",
            "Requirement already satisfied: geopy in /usr/local/lib/python3.11/dist-packages (from contextily->opensarlab_lib) (2.4.1)\n",
            "Collecting mercantile (from contextily->opensarlab_lib)\n",
            "  Downloading mercantile-1.2.1-py3-none-any.whl.metadata (4.8 kB)\n",
            "Requirement already satisfied: rasterio in /usr/local/lib/python3.11/dist-packages (from contextily->opensarlab_lib) (1.4.3)\n",
            "Requirement already satisfied: joblib in /usr/local/lib/python3.11/dist-packages (from contextily->opensarlab_lib) (1.5.1)\n",
            "Requirement already satisfied: xyzservices in /usr/local/lib/python3.11/dist-packages (from contextily->opensarlab_lib) (2025.4.0)\n",
            "Requirement already satisfied: urllib3 in /usr/local/lib/python3.11/dist-packages (from hyp3_sdk->opensarlab_lib) (2.5.0)\n",
            "Requirement already satisfied: tqdm in /usr/local/lib/python3.11/dist-packages (from hyp3_sdk->opensarlab_lib) (4.67.1)\n",
            "Requirement already satisfied: setuptools>=18.5 in /usr/local/lib/python3.11/dist-packages (from IPython->opensarlab_lib) (75.2.0)\n",
            "Requirement already satisfied: jedi>=0.16 in /usr/local/lib/python3.11/dist-packages (from IPython->opensarlab_lib) (0.19.2)\n",
            "Requirement already satisfied: decorator in /usr/local/lib/python3.11/dist-packages (from IPython->opensarlab_lib) (4.4.2)\n",
            "Requirement already satisfied: pickleshare in /usr/local/lib/python3.11/dist-packages (from IPython->opensarlab_lib) (0.7.5)\n",
            "Requirement already satisfied: traitlets>=4.2 in /usr/local/lib/python3.11/dist-packages (from IPython->opensarlab_lib) (5.7.1)\n",
            "Requirement already satisfied: prompt-toolkit!=3.0.0,!=3.0.1,<3.1.0,>=2.0.0 in /usr/local/lib/python3.11/dist-packages (from IPython->opensarlab_lib) (3.0.51)\n",
            "Requirement already satisfied: pygments in /usr/local/lib/python3.11/dist-packages (from IPython->opensarlab_lib) (2.19.2)\n",
            "Requirement already satisfied: backcall in /usr/local/lib/python3.11/dist-packages (from IPython->opensarlab_lib) (0.2.0)\n",
            "Requirement already satisfied: matplotlib-inline in /usr/local/lib/python3.11/dist-packages (from IPython->opensarlab_lib) (0.1.7)\n",
            "Requirement already satisfied: pexpect>4.3 in /usr/local/lib/python3.11/dist-packages (from IPython->opensarlab_lib) (4.9.0)\n",
            "Requirement already satisfied: ipykernel>=4.5.1 in /usr/local/lib/python3.11/dist-packages (from ipywidgets->opensarlab_lib) (6.17.1)\n",
            "Requirement already satisfied: ipython-genutils~=0.2.0 in /usr/local/lib/python3.11/dist-packages (from ipywidgets->opensarlab_lib) (0.2.0)\n",
            "Requirement already satisfied: widgetsnbextension~=3.6.0 in /usr/local/lib/python3.11/dist-packages (from ipywidgets->opensarlab_lib) (3.6.10)\n",
            "Requirement already satisfied: jupyterlab-widgets>=1.0.0 in /usr/local/lib/python3.11/dist-packages (from ipywidgets->opensarlab_lib) (3.0.15)\n",
            "Requirement already satisfied: tzdata>=2022.7 in /usr/local/lib/python3.11/dist-packages (from pandas->opensarlab_lib) (2025.2)\n",
            "Requirement already satisfied: charset-normalizer<4,>=2 in /usr/local/lib/python3.11/dist-packages (from requests->opensarlab_lib) (3.4.3)\n",
            "Requirement already satisfied: idna<4,>=2.5 in /usr/local/lib/python3.11/dist-packages (from requests->opensarlab_lib) (3.10)\n",
            "Requirement already satisfied: debugpy>=1.0 in /usr/local/lib/python3.11/dist-packages (from ipykernel>=4.5.1->ipywidgets->opensarlab_lib) (1.8.15)\n",
            "Requirement already satisfied: jupyter-client>=6.1.12 in /usr/local/lib/python3.11/dist-packages (from ipykernel>=4.5.1->ipywidgets->opensarlab_lib) (6.1.12)\n",
            "Requirement already satisfied: nest-asyncio in /usr/local/lib/python3.11/dist-packages (from ipykernel>=4.5.1->ipywidgets->opensarlab_lib) (1.6.0)\n",
            "Requirement already satisfied: psutil in /usr/local/lib/python3.11/dist-packages (from ipykernel>=4.5.1->ipywidgets->opensarlab_lib) (5.9.5)\n",
            "Requirement already satisfied: pyzmq>=17 in /usr/local/lib/python3.11/dist-packages (from ipykernel>=4.5.1->ipywidgets->opensarlab_lib) (26.2.1)\n",
            "Requirement already satisfied: tornado>=6.1 in /usr/local/lib/python3.11/dist-packages (from ipykernel>=4.5.1->ipywidgets->opensarlab_lib) (6.4.2)\n",
            "Requirement already satisfied: parso<0.9.0,>=0.8.4 in /usr/local/lib/python3.11/dist-packages (from jedi>=0.16->IPython->opensarlab_lib) (0.8.4)\n",
            "Requirement already satisfied: ptyprocess>=0.5 in /usr/local/lib/python3.11/dist-packages (from pexpect>4.3->IPython->opensarlab_lib) (0.7.0)\n",
            "Requirement already satisfied: wcwidth in /usr/local/lib/python3.11/dist-packages (from prompt-toolkit!=3.0.0,!=3.0.1,<3.1.0,>=2.0.0->IPython->opensarlab_lib) (0.2.13)\n",
            "Requirement already satisfied: six>=1.5 in /usr/local/lib/python3.11/dist-packages (from python-dateutil->asf_search->opensarlab_lib) (1.17.0)\n",
            "Requirement already satisfied: notebook>=4.4.1 in /usr/local/lib/python3.11/dist-packages (from widgetsnbextension~=3.6.0->ipywidgets->opensarlab_lib) (6.5.7)\n",
            "Requirement already satisfied: regex>=2024.9.11 in /usr/local/lib/python3.11/dist-packages (from dateparser->asf_search->opensarlab_lib) (2024.11.6)\n",
            "Requirement already satisfied: tzlocal>=0.2 in /usr/local/lib/python3.11/dist-packages (from dateparser->asf_search->opensarlab_lib) (5.3.1)\n",
            "Requirement already satisfied: geographiclib<3,>=1.52 in /usr/local/lib/python3.11/dist-packages (from geopy->contextily->opensarlab_lib) (2.0)\n",
            "Requirement already satisfied: click>=3.0 in /usr/local/lib/python3.11/dist-packages (from mercantile->contextily->opensarlab_lib) (8.2.1)\n",
            "Requirement already satisfied: affine in /usr/local/lib/python3.11/dist-packages (from rasterio->contextily->opensarlab_lib) (2.4.0)\n",
            "Requirement already satisfied: attrs in /usr/local/lib/python3.11/dist-packages (from rasterio->contextily->opensarlab_lib) (25.3.0)\n",
            "Requirement already satisfied: cligj>=0.5 in /usr/local/lib/python3.11/dist-packages (from rasterio->contextily->opensarlab_lib) (0.7.2)\n",
            "Requirement already satisfied: click-plugins in /usr/local/lib/python3.11/dist-packages (from rasterio->contextily->opensarlab_lib) (1.1.1.2)\n",
            "Requirement already satisfied: jupyter-core>=4.6.0 in /usr/local/lib/python3.11/dist-packages (from jupyter-client>=6.1.12->ipykernel>=4.5.1->ipywidgets->opensarlab_lib) (5.8.1)\n",
            "Requirement already satisfied: jinja2 in /usr/local/lib/python3.11/dist-packages (from notebook>=4.4.1->widgetsnbextension~=3.6.0->ipywidgets->opensarlab_lib) (3.1.6)\n",
            "Requirement already satisfied: argon2-cffi in /usr/local/lib/python3.11/dist-packages (from notebook>=4.4.1->widgetsnbextension~=3.6.0->ipywidgets->opensarlab_lib) (25.1.0)\n",
            "Requirement already satisfied: nbformat in /usr/local/lib/python3.11/dist-packages (from notebook>=4.4.1->widgetsnbextension~=3.6.0->ipywidgets->opensarlab_lib) (5.10.4)\n",
            "Requirement already satisfied: nbconvert>=5 in /usr/local/lib/python3.11/dist-packages (from notebook>=4.4.1->widgetsnbextension~=3.6.0->ipywidgets->opensarlab_lib) (7.16.6)\n",
            "Requirement already satisfied: Send2Trash>=1.8.0 in /usr/local/lib/python3.11/dist-packages (from notebook>=4.4.1->widgetsnbextension~=3.6.0->ipywidgets->opensarlab_lib) (1.8.3)\n",
            "Requirement already satisfied: terminado>=0.8.3 in /usr/local/lib/python3.11/dist-packages (from notebook>=4.4.1->widgetsnbextension~=3.6.0->ipywidgets->opensarlab_lib) (0.18.1)\n",
            "Requirement already satisfied: prometheus-client in /usr/local/lib/python3.11/dist-packages (from notebook>=4.4.1->widgetsnbextension~=3.6.0->ipywidgets->opensarlab_lib) (0.22.1)\n",
            "Requirement already satisfied: nbclassic>=0.4.7 in /usr/local/lib/python3.11/dist-packages (from notebook>=4.4.1->widgetsnbextension~=3.6.0->ipywidgets->opensarlab_lib) (1.3.1)\n",
            "Requirement already satisfied: platformdirs>=2.5 in /usr/local/lib/python3.11/dist-packages (from jupyter-core>=4.6.0->jupyter-client>=6.1.12->ipykernel>=4.5.1->ipywidgets->opensarlab_lib) (4.3.8)\n",
            "Requirement already satisfied: notebook-shim>=0.2.3 in /usr/local/lib/python3.11/dist-packages (from nbclassic>=0.4.7->notebook>=4.4.1->widgetsnbextension~=3.6.0->ipywidgets->opensarlab_lib) (0.2.4)\n",
            "Requirement already satisfied: beautifulsoup4 in /usr/local/lib/python3.11/dist-packages (from nbconvert>=5->notebook>=4.4.1->widgetsnbextension~=3.6.0->ipywidgets->opensarlab_lib) (4.13.4)\n",
            "Requirement already satisfied: bleach!=5.0.0 in /usr/local/lib/python3.11/dist-packages (from bleach[css]!=5.0.0->nbconvert>=5->notebook>=4.4.1->widgetsnbextension~=3.6.0->ipywidgets->opensarlab_lib) (6.2.0)\n",
            "Requirement already satisfied: defusedxml in /usr/local/lib/python3.11/dist-packages (from nbconvert>=5->notebook>=4.4.1->widgetsnbextension~=3.6.0->ipywidgets->opensarlab_lib) (0.7.1)\n",
            "Requirement already satisfied: jupyterlab-pygments in /usr/local/lib/python3.11/dist-packages (from nbconvert>=5->notebook>=4.4.1->widgetsnbextension~=3.6.0->ipywidgets->opensarlab_lib) (0.3.0)\n",
            "Requirement already satisfied: markupsafe>=2.0 in /usr/local/lib/python3.11/dist-packages (from nbconvert>=5->notebook>=4.4.1->widgetsnbextension~=3.6.0->ipywidgets->opensarlab_lib) (3.0.2)\n",
            "Requirement already satisfied: mistune<4,>=2.0.3 in /usr/local/lib/python3.11/dist-packages (from nbconvert>=5->notebook>=4.4.1->widgetsnbextension~=3.6.0->ipywidgets->opensarlab_lib) (3.1.3)\n",
            "Requirement already satisfied: nbclient>=0.5.0 in /usr/local/lib/python3.11/dist-packages (from nbconvert>=5->notebook>=4.4.1->widgetsnbextension~=3.6.0->ipywidgets->opensarlab_lib) (0.10.2)\n",
            "Requirement already satisfied: pandocfilters>=1.4.1 in /usr/local/lib/python3.11/dist-packages (from nbconvert>=5->notebook>=4.4.1->widgetsnbextension~=3.6.0->ipywidgets->opensarlab_lib) (1.5.1)\n",
            "Requirement already satisfied: fastjsonschema>=2.15 in /usr/local/lib/python3.11/dist-packages (from nbformat->notebook>=4.4.1->widgetsnbextension~=3.6.0->ipywidgets->opensarlab_lib) (2.21.1)\n",
            "Requirement already satisfied: jsonschema>=2.6 in /usr/local/lib/python3.11/dist-packages (from nbformat->notebook>=4.4.1->widgetsnbextension~=3.6.0->ipywidgets->opensarlab_lib) (4.25.0)\n",
            "Requirement already satisfied: argon2-cffi-bindings in /usr/local/lib/python3.11/dist-packages (from argon2-cffi->notebook>=4.4.1->widgetsnbextension~=3.6.0->ipywidgets->opensarlab_lib) (25.1.0)\n",
            "Requirement already satisfied: webencodings in /usr/local/lib/python3.11/dist-packages (from bleach!=5.0.0->bleach[css]!=5.0.0->nbconvert>=5->notebook>=4.4.1->widgetsnbextension~=3.6.0->ipywidgets->opensarlab_lib) (0.5.1)\n",
            "Requirement already satisfied: tinycss2<1.5,>=1.1.0 in /usr/local/lib/python3.11/dist-packages (from bleach[css]!=5.0.0->nbconvert>=5->notebook>=4.4.1->widgetsnbextension~=3.6.0->ipywidgets->opensarlab_lib) (1.4.0)\n",
            "Requirement already satisfied: jsonschema-specifications>=2023.03.6 in /usr/local/lib/python3.11/dist-packages (from jsonschema>=2.6->nbformat->notebook>=4.4.1->widgetsnbextension~=3.6.0->ipywidgets->opensarlab_lib) (2025.4.1)\n",
            "Requirement already satisfied: referencing>=0.28.4 in /usr/local/lib/python3.11/dist-packages (from jsonschema>=2.6->nbformat->notebook>=4.4.1->widgetsnbextension~=3.6.0->ipywidgets->opensarlab_lib) (0.36.2)\n",
            "Requirement already satisfied: rpds-py>=0.7.1 in /usr/local/lib/python3.11/dist-packages (from jsonschema>=2.6->nbformat->notebook>=4.4.1->widgetsnbextension~=3.6.0->ipywidgets->opensarlab_lib) (0.27.0)\n",
            "Requirement already satisfied: jupyter-server<3,>=1.8 in /usr/local/lib/python3.11/dist-packages (from notebook-shim>=0.2.3->nbclassic>=0.4.7->notebook>=4.4.1->widgetsnbextension~=3.6.0->ipywidgets->opensarlab_lib) (1.16.0)\n",
            "Requirement already satisfied: cffi>=1.0.1 in /usr/local/lib/python3.11/dist-packages (from argon2-cffi-bindings->argon2-cffi->notebook>=4.4.1->widgetsnbextension~=3.6.0->ipywidgets->opensarlab_lib) (1.17.1)\n",
            "Requirement already satisfied: soupsieve>1.2 in /usr/local/lib/python3.11/dist-packages (from beautifulsoup4->nbconvert>=5->notebook>=4.4.1->widgetsnbextension~=3.6.0->ipywidgets->opensarlab_lib) (2.7)\n",
            "Requirement already satisfied: typing-extensions>=4.0.0 in /usr/local/lib/python3.11/dist-packages (from beautifulsoup4->nbconvert>=5->notebook>=4.4.1->widgetsnbextension~=3.6.0->ipywidgets->opensarlab_lib) (4.14.1)\n",
            "Requirement already satisfied: pycparser in /usr/local/lib/python3.11/dist-packages (from cffi>=1.0.1->argon2-cffi-bindings->argon2-cffi->notebook>=4.4.1->widgetsnbextension~=3.6.0->ipywidgets->opensarlab_lib) (2.22)\n",
            "Requirement already satisfied: anyio>=3.1.0 in /usr/local/lib/python3.11/dist-packages (from jupyter-server<3,>=1.8->notebook-shim>=0.2.3->nbclassic>=0.4.7->notebook>=4.4.1->widgetsnbextension~=3.6.0->ipywidgets->opensarlab_lib) (4.10.0)\n",
            "Requirement already satisfied: websocket-client in /usr/local/lib/python3.11/dist-packages (from jupyter-server<3,>=1.8->notebook-shim>=0.2.3->nbclassic>=0.4.7->notebook>=4.4.1->widgetsnbextension~=3.6.0->ipywidgets->opensarlab_lib) (1.8.0)\n",
            "Requirement already satisfied: sniffio>=1.1 in /usr/local/lib/python3.11/dist-packages (from anyio>=3.1.0->jupyter-server<3,>=1.8->notebook-shim>=0.2.3->nbclassic>=0.4.7->notebook>=4.4.1->widgetsnbextension~=3.6.0->ipywidgets->opensarlab_lib) (1.3.1)\n",
            "Downloading opensarlab_lib-0.0.14-py3-none-any.whl (14 kB)\n",
            "Downloading asf_search-10.0.0-py3-none-any.whl (108 kB)\n",
            "\u001b[2K   \u001b[90m━━━━━━━━━━━━━━━━━━━━━━━━━━━━━━━━━━━━━━━━\u001b[0m \u001b[32m108.8/108.8 kB\u001b[0m \u001b[31m4.7 MB/s\u001b[0m eta \u001b[36m0:00:00\u001b[0m\n",
            "\u001b[?25hDownloading cartopy-0.25.0-cp311-cp311-manylinux_2_24_x86_64.manylinux_2_28_x86_64.whl (11.8 MB)\n",
            "\u001b[2K   \u001b[90m━━━━━━━━━━━━━━━━━━━━━━━━━━━━━━━━━━━━━━━━\u001b[0m \u001b[32m11.8/11.8 MB\u001b[0m \u001b[31m78.4 MB/s\u001b[0m eta \u001b[36m0:00:00\u001b[0m\n",
            "\u001b[?25hDownloading contextily-1.6.2-py3-none-any.whl (17 kB)\n",
            "Downloading dateparser-1.2.2-py3-none-any.whl (315 kB)\n",
            "\u001b[2K   \u001b[90m━━━━━━━━━━━━━━━━━━━━━━━━━━━━━━━━━━━━━━━━\u001b[0m \u001b[32m315.5/315.5 kB\u001b[0m \u001b[31m20.1 MB/s\u001b[0m eta \u001b[36m0:00:00\u001b[0m\n",
            "\u001b[?25hDownloading mercantile-1.2.1-py3-none-any.whl (14 kB)\n",
            "Installing collected packages: mercantile, dateparser, contextily, cartopy, asf_search, opensarlab_lib\n",
            "Successfully installed asf_search-10.0.0 cartopy-0.25.0 contextily-1.6.2 dateparser-1.2.2 mercantile-1.2.1 opensarlab_lib-0.0.14\n"
          ]
        }
      ]
    },
    {
      "cell_type": "markdown",
      "source": [
        "Import relevant packages below"
      ],
      "metadata": {
        "id": "dCmsxrfSy2Zq"
      }
    },
    {
      "cell_type": "code",
      "source": [
        "from google.colab import drive\n",
        "from osgeo import gdal\n",
        "import earthaccess\n",
        "import os\n",
        "import subprocess\n",
        "import glob\n",
        "from osgeo import gdal\n",
        "import ee\n",
        "import boto3\n",
        "from botocore.client import Config\n",
        "from botocore import UNSIGNED\n",
        "import requests\n",
        "import shutil\n",
        "import hyp3_sdk as sdk\n",
        "from hydrosar.water_map import make_water_map\n",
        "from hydrafloods import corrections\n",
        "import hydrafloods as hf\n",
        "import geemap\n",
        "import numpy as np\n",
        "import zipfile\n",
        "import opensarlab_lib as osl\n",
        "import time"
      ],
      "metadata": {
        "id": "PIlu-rHdFNSI"
      },
      "execution_count": null,
      "outputs": []
    },
    {
      "cell_type": "markdown",
      "source": [
        "###**IMPORTANT**\n",
        "If you get an error that \"no such package exists\" for the above cell, don't worry! We just need to install the gdal package within Google Colab.\n",
        "\n",
        "If you got this error, Uncomment and run the relevant code cell(s) below, then run the code cell above again to complete the import process\n",
        "\n",
        "If you did not get this error, proceed to step 0 part 4"
      ],
      "metadata": {
        "id": "oWFt4wIV1JUL"
      }
    },
    {
      "cell_type": "code",
      "source": [
        "'''\n",
        "################################################################################\n",
        "# INSTALL GDAL ON GOOGLE COLAB\n",
        "################################################################################\n",
        "! wget https://repo.anaconda.com/miniconda/Miniconda3-py37_4.8.2-Linux-x86_64.sh\n",
        "! chmod +x Miniconda3-py37_4.8.2-Linux-x86_64.sh\n",
        "! bash ./Miniconda3-py37_4.8.2-Linux-x86_64.sh -b -f -p /usr/local\n",
        "import sys\n",
        "sys.path.append('/usr/local/lib/python3.7/site-packages/')\n",
        "\n",
        "!conda install -c conda-forge gdal\n",
        "'''"
      ],
      "metadata": {
        "id": "neZ7xEk-1iIj",
        "colab": {
          "base_uri": "https://localhost:8080/",
          "height": 88
        },
        "outputId": "3f19a027-0ee7-4e87-a285-78b2773be6aa"
      },
      "execution_count": null,
      "outputs": [
        {
          "output_type": "display_data",
          "data": {
            "text/plain": [
              "<IPython.core.display.HTML object>"
            ],
            "text/html": [
              "\n",
              "            <style>\n",
              "                .geemap-dark {\n",
              "                    --jp-widgets-color: white;\n",
              "                    --jp-widgets-label-color: white;\n",
              "                    --jp-ui-font-color1: white;\n",
              "                    --jp-layout-color2: #454545;\n",
              "                    background-color: #383838;\n",
              "                }\n",
              "\n",
              "                .geemap-dark .jupyter-button {\n",
              "                    --jp-layout-color3: #383838;\n",
              "                }\n",
              "\n",
              "                .geemap-colab {\n",
              "                    background-color: var(--colab-primary-surface-color, white);\n",
              "                }\n",
              "\n",
              "                .geemap-colab .jupyter-button {\n",
              "                    --jp-layout-color3: var(--colab-primary-surface-color, white);\n",
              "                }\n",
              "            </style>\n",
              "            "
            ]
          },
          "metadata": {}
        },
        {
          "output_type": "execute_result",
          "data": {
            "text/plain": [
              "\"\\n################################################################################\\n# INSTALL GDAL ON GOOGLE COLAB\\n################################################################################\\n! wget https://repo.anaconda.com/miniconda/Miniconda3-py37_4.8.2-Linux-x86_64.sh\\n! chmod +x Miniconda3-py37_4.8.2-Linux-x86_64.sh\\n! bash ./Miniconda3-py37_4.8.2-Linux-x86_64.sh -b -f -p /usr/local\\nimport sys\\nsys.path.append('/usr/local/lib/python3.7/site-packages/')\\n\\n!conda install -c conda-forge gdal\\n\""
            ],
            "application/vnd.google.colaboratory.intrinsic+json": {
              "type": "string"
            }
          },
          "metadata": {},
          "execution_count": 6
        }
      ]
    },
    {
      "cell_type": "markdown",
      "source": [
        "Thank you and credit to Dr. Chanin Nantasenamat and his \"Data Professor\" Youtube Channel for the above code: [https://github.com/dataprofessor](https://github.com/dataprofessor)"
      ],
      "metadata": {
        "id": "F2k3IbWc1rEf"
      }
    },
    {
      "cell_type": "markdown",
      "source": [
        "# Step 0 part 3: Define bounding box from AOI"
      ],
      "metadata": {
        "id": "ZU_rKfo21ooI"
      }
    },
    {
      "cell_type": "code",
      "source": [
        "# Authenticate and initialize earthengine\n",
        "ee.Authenticate()\n",
        "ee.Initialize(project = my_gee_project)"
      ],
      "metadata": {
        "id": "BC6YM_GW2bSB",
        "colab": {
          "base_uri": "https://localhost:8080/",
          "height": 17
        },
        "outputId": "03af0e47-59d4-4085-84ad-f63630076008"
      },
      "execution_count": null,
      "outputs": [
        {
          "output_type": "display_data",
          "data": {
            "text/plain": [
              "<IPython.core.display.HTML object>"
            ],
            "text/html": [
              "\n",
              "            <style>\n",
              "                .geemap-dark {\n",
              "                    --jp-widgets-color: white;\n",
              "                    --jp-widgets-label-color: white;\n",
              "                    --jp-ui-font-color1: white;\n",
              "                    --jp-layout-color2: #454545;\n",
              "                    background-color: #383838;\n",
              "                }\n",
              "\n",
              "                .geemap-dark .jupyter-button {\n",
              "                    --jp-layout-color3: #383838;\n",
              "                }\n",
              "\n",
              "                .geemap-colab {\n",
              "                    background-color: var(--colab-primary-surface-color, white);\n",
              "                }\n",
              "\n",
              "                .geemap-colab .jupyter-button {\n",
              "                    --jp-layout-color3: var(--colab-primary-surface-color, white);\n",
              "                }\n",
              "            </style>\n",
              "            "
            ]
          },
          "metadata": {}
        }
      ]
    },
    {
      "cell_type": "code",
      "source": [
        "my_aoi = ee.FeatureCollection(my_gee_folder + \"aoi\")\n",
        "coords = my_aoi.bounds().getInfo()['coordinates']\n",
        "lon_min = coords[0][0][0]\n",
        "lat_min = coords[0][0][1]\n",
        "lon_max = coords[0][2][0]\n",
        "lat_max = coords[0][2][1]"
      ],
      "metadata": {
        "id": "JZxIG_k63LlR",
        "colab": {
          "base_uri": "https://localhost:8080/",
          "height": 17
        },
        "outputId": "7f5e8291-650c-4f69-cc46-0e319a59c7d7"
      },
      "execution_count": null,
      "outputs": [
        {
          "output_type": "display_data",
          "data": {
            "text/plain": [
              "<IPython.core.display.HTML object>"
            ],
            "text/html": [
              "\n",
              "            <style>\n",
              "                .geemap-dark {\n",
              "                    --jp-widgets-color: white;\n",
              "                    --jp-widgets-label-color: white;\n",
              "                    --jp-ui-font-color1: white;\n",
              "                    --jp-layout-color2: #454545;\n",
              "                    background-color: #383838;\n",
              "                }\n",
              "\n",
              "                .geemap-dark .jupyter-button {\n",
              "                    --jp-layout-color3: #383838;\n",
              "                }\n",
              "\n",
              "                .geemap-colab {\n",
              "                    background-color: var(--colab-primary-surface-color, white);\n",
              "                }\n",
              "\n",
              "                .geemap-colab .jupyter-button {\n",
              "                    --jp-layout-color3: var(--colab-primary-surface-color, white);\n",
              "                }\n",
              "            </style>\n",
              "            "
            ]
          },
          "metadata": {}
        }
      ]
    },
    {
      "cell_type": "markdown",
      "source": [
        "Get day after"
      ],
      "metadata": {
        "id": "Ac7nZwb84OvT"
      }
    },
    {
      "cell_type": "code",
      "source": [
        "myeedate = ee.Date(my_start_date)\n",
        "my_ee_dayafter = myeedate.advance(1, 'day')"
      ],
      "metadata": {
        "id": "KM7HjjIp4QWG",
        "colab": {
          "base_uri": "https://localhost:8080/",
          "height": 17
        },
        "outputId": "2d13e8b2-6bbc-476c-edaa-a865b709979b"
      },
      "execution_count": null,
      "outputs": [
        {
          "output_type": "display_data",
          "data": {
            "text/plain": [
              "<IPython.core.display.HTML object>"
            ],
            "text/html": [
              "\n",
              "            <style>\n",
              "                .geemap-dark {\n",
              "                    --jp-widgets-color: white;\n",
              "                    --jp-widgets-label-color: white;\n",
              "                    --jp-ui-font-color1: white;\n",
              "                    --jp-layout-color2: #454545;\n",
              "                    background-color: #383838;\n",
              "                }\n",
              "\n",
              "                .geemap-dark .jupyter-button {\n",
              "                    --jp-layout-color3: #383838;\n",
              "                }\n",
              "\n",
              "                .geemap-colab {\n",
              "                    background-color: var(--colab-primary-surface-color, white);\n",
              "                }\n",
              "\n",
              "                .geemap-colab .jupyter-button {\n",
              "                    --jp-layout-color3: var(--colab-primary-surface-color, white);\n",
              "                }\n",
              "            </style>\n",
              "            "
            ]
          },
          "metadata": {}
        }
      ]
    },
    {
      "cell_type": "code",
      "source": [
        "mydayafter_year = str(my_ee_dayafter.get('year').getInfo())\n",
        "mydayafter_month = my_ee_dayafter.get('month').getInfo()\n",
        "\n",
        "if mydayafter_month < 10:\n",
        "  monthstr = '0' + str(mydayafter_month)\n",
        "else:\n",
        "  monthstr = str(mydayafter_month)\n",
        "\n",
        "\n",
        "mydayafter_day = my_ee_dayafter.get('day').getInfo()\n",
        "\n",
        "if mydayafter_day < 10:\n",
        "  datestr = '0' + str(mydayafter_day)\n",
        "else:\n",
        "  datestr = str(mydayafter_day)\n",
        "\n",
        "myday_after = mydayafter_year + \"-\" + monthstr + '-' + datestr"
      ],
      "metadata": {
        "id": "kCprmosU4Oc_",
        "colab": {
          "base_uri": "https://localhost:8080/",
          "height": 17
        },
        "outputId": "4ee00e5e-6e81-4c6d-a8da-93804f81873b"
      },
      "execution_count": null,
      "outputs": [
        {
          "output_type": "display_data",
          "data": {
            "text/plain": [
              "<IPython.core.display.HTML object>"
            ],
            "text/html": [
              "\n",
              "            <style>\n",
              "                .geemap-dark {\n",
              "                    --jp-widgets-color: white;\n",
              "                    --jp-widgets-label-color: white;\n",
              "                    --jp-ui-font-color1: white;\n",
              "                    --jp-layout-color2: #454545;\n",
              "                    background-color: #383838;\n",
              "                }\n",
              "\n",
              "                .geemap-dark .jupyter-button {\n",
              "                    --jp-layout-color3: #383838;\n",
              "                }\n",
              "\n",
              "                .geemap-colab {\n",
              "                    background-color: var(--colab-primary-surface-color, white);\n",
              "                }\n",
              "\n",
              "                .geemap-colab .jupyter-button {\n",
              "                    --jp-layout-color3: var(--colab-primary-surface-color, white);\n",
              "                }\n",
              "            </style>\n",
              "            "
            ]
          },
          "metadata": {}
        }
      ]
    },
    {
      "cell_type": "markdown",
      "source": [
        "# Step 0 part 4: Mount Google Drive"
      ],
      "metadata": {
        "id": "spsiJT8xMMwc"
      }
    },
    {
      "cell_type": "code",
      "source": [
        "drive.mount('/content/drive')"
      ],
      "metadata": {
        "id": "lxCkrXfgMMcd",
        "colab": {
          "base_uri": "https://localhost:8080/",
          "height": 34
        },
        "outputId": "fb45f3f0-55a2-4e5a-9492-4638e948e241"
      },
      "execution_count": null,
      "outputs": [
        {
          "output_type": "display_data",
          "data": {
            "text/plain": [
              "<IPython.core.display.HTML object>"
            ],
            "text/html": [
              "\n",
              "            <style>\n",
              "                .geemap-dark {\n",
              "                    --jp-widgets-color: white;\n",
              "                    --jp-widgets-label-color: white;\n",
              "                    --jp-ui-font-color1: white;\n",
              "                    --jp-layout-color2: #454545;\n",
              "                    background-color: #383838;\n",
              "                }\n",
              "\n",
              "                .geemap-dark .jupyter-button {\n",
              "                    --jp-layout-color3: #383838;\n",
              "                }\n",
              "\n",
              "                .geemap-colab {\n",
              "                    background-color: var(--colab-primary-surface-color, white);\n",
              "                }\n",
              "\n",
              "                .geemap-colab .jupyter-button {\n",
              "                    --jp-layout-color3: var(--colab-primary-surface-color, white);\n",
              "                }\n",
              "            </style>\n",
              "            "
            ]
          },
          "metadata": {}
        },
        {
          "output_type": "stream",
          "name": "stdout",
          "text": [
            "Mounted at /content/drive\n"
          ]
        }
      ]
    },
    {
      "cell_type": "code",
      "source": [
        "cd drive/MyDrive/"
      ],
      "metadata": {
        "id": "aiwDHVBt3MQE",
        "colab": {
          "base_uri": "https://localhost:8080/",
          "height": 34
        },
        "outputId": "626500fd-0c5e-43a2-f78e-6fae1a47312e"
      },
      "execution_count": null,
      "outputs": [
        {
          "output_type": "display_data",
          "data": {
            "text/plain": [
              "<IPython.core.display.HTML object>"
            ],
            "text/html": [
              "\n",
              "            <style>\n",
              "                .geemap-dark {\n",
              "                    --jp-widgets-color: white;\n",
              "                    --jp-widgets-label-color: white;\n",
              "                    --jp-ui-font-color1: white;\n",
              "                    --jp-layout-color2: #454545;\n",
              "                    background-color: #383838;\n",
              "                }\n",
              "\n",
              "                .geemap-dark .jupyter-button {\n",
              "                    --jp-layout-color3: #383838;\n",
              "                }\n",
              "\n",
              "                .geemap-colab {\n",
              "                    background-color: var(--colab-primary-surface-color, white);\n",
              "                }\n",
              "\n",
              "                .geemap-colab .jupyter-button {\n",
              "                    --jp-layout-color3: var(--colab-primary-surface-color, white);\n",
              "                }\n",
              "            </style>\n",
              "            "
            ]
          },
          "metadata": {}
        },
        {
          "output_type": "stream",
          "name": "stdout",
          "text": [
            "/content/drive/MyDrive\n"
          ]
        }
      ]
    },
    {
      "cell_type": "code",
      "source": [
        "pwd"
      ],
      "metadata": {
        "id": "sykNQlCMqSyN",
        "colab": {
          "base_uri": "https://localhost:8080/",
          "height": 36
        },
        "outputId": "44e39b63-830f-46b6-a27b-5f3aabae1b4a"
      },
      "execution_count": null,
      "outputs": [
        {
          "output_type": "display_data",
          "data": {
            "text/plain": [
              "<IPython.core.display.HTML object>"
            ],
            "text/html": [
              "\n",
              "            <style>\n",
              "                .geemap-dark {\n",
              "                    --jp-widgets-color: white;\n",
              "                    --jp-widgets-label-color: white;\n",
              "                    --jp-ui-font-color1: white;\n",
              "                    --jp-layout-color2: #454545;\n",
              "                    background-color: #383838;\n",
              "                }\n",
              "\n",
              "                .geemap-dark .jupyter-button {\n",
              "                    --jp-layout-color3: #383838;\n",
              "                }\n",
              "\n",
              "                .geemap-colab {\n",
              "                    background-color: var(--colab-primary-surface-color, white);\n",
              "                }\n",
              "\n",
              "                .geemap-colab .jupyter-button {\n",
              "                    --jp-layout-color3: var(--colab-primary-surface-color, white);\n",
              "                }\n",
              "            </style>\n",
              "            "
            ]
          },
          "metadata": {}
        },
        {
          "output_type": "execute_result",
          "data": {
            "text/plain": [
              "'/content/drive/MyDrive'"
            ],
            "application/vnd.google.colaboratory.intrinsic+json": {
              "type": "string"
            }
          },
          "metadata": {},
          "execution_count": 13
        }
      ]
    },
    {
      "cell_type": "code",
      "source": [
        "gdrive_split = my_Gdrive_folder.split('/')[2:-1]\n",
        "gdrive_split\n",
        "\n",
        "for i in gdrive_split:\n",
        "  stri = str(i)\n",
        "  if os.path.isdir(stri) == True:      #if folder already exists, enter into it\n",
        "    os.chdir(stri)\n",
        "  else:                                # if folder doeesn't yet exist, create it, then enter it.\n",
        "    os.mkdir(stri)\n",
        "    os.chdir(stri)"
      ],
      "metadata": {
        "id": "z0HQ_cRG3Wif",
        "colab": {
          "base_uri": "https://localhost:8080/",
          "height": 17
        },
        "outputId": "718328ee-8684-4f33-8f7d-a7fd0d94eaf8"
      },
      "execution_count": null,
      "outputs": [
        {
          "output_type": "display_data",
          "data": {
            "text/plain": [
              "<IPython.core.display.HTML object>"
            ],
            "text/html": [
              "\n",
              "            <style>\n",
              "                .geemap-dark {\n",
              "                    --jp-widgets-color: white;\n",
              "                    --jp-widgets-label-color: white;\n",
              "                    --jp-ui-font-color1: white;\n",
              "                    --jp-layout-color2: #454545;\n",
              "                    background-color: #383838;\n",
              "                }\n",
              "\n",
              "                .geemap-dark .jupyter-button {\n",
              "                    --jp-layout-color3: #383838;\n",
              "                }\n",
              "\n",
              "                .geemap-colab {\n",
              "                    background-color: var(--colab-primary-surface-color, white);\n",
              "                }\n",
              "\n",
              "                .geemap-colab .jupyter-button {\n",
              "                    --jp-layout-color3: var(--colab-primary-surface-color, white);\n",
              "                }\n",
              "            </style>\n",
              "            "
            ]
          },
          "metadata": {}
        }
      ]
    },
    {
      "cell_type": "markdown",
      "source": [
        "# Part 1: DSWx-HLS"
      ],
      "metadata": {
        "id": "o_a6dDJrMUS-"
      }
    },
    {
      "cell_type": "code",
      "source": [
        "pwd"
      ],
      "metadata": {
        "colab": {
          "base_uri": "https://localhost:8080/",
          "height": 36
        },
        "id": "4yHyN4ROyTgf",
        "outputId": "26823ad4-68ea-4639-c0aa-9f7f0609e31b"
      },
      "execution_count": null,
      "outputs": [
        {
          "output_type": "display_data",
          "data": {
            "text/plain": [
              "<IPython.core.display.HTML object>"
            ],
            "text/html": [
              "\n",
              "            <style>\n",
              "                .geemap-dark {\n",
              "                    --jp-widgets-color: white;\n",
              "                    --jp-widgets-label-color: white;\n",
              "                    --jp-ui-font-color1: white;\n",
              "                    --jp-layout-color2: #454545;\n",
              "                    background-color: #383838;\n",
              "                }\n",
              "\n",
              "                .geemap-dark .jupyter-button {\n",
              "                    --jp-layout-color3: #383838;\n",
              "                }\n",
              "\n",
              "                .geemap-colab {\n",
              "                    background-color: var(--colab-primary-surface-color, white);\n",
              "                }\n",
              "\n",
              "                .geemap-colab .jupyter-button {\n",
              "                    --jp-layout-color3: var(--colab-primary-surface-color, white);\n",
              "                }\n",
              "            </style>\n",
              "            "
            ]
          },
          "metadata": {}
        },
        {
          "output_type": "execute_result",
          "data": {
            "text/plain": [
              "'/content/drive/MyDrive/Flood_Intercomparison/Case_Studies/aug/aug_cambodia_20241001'"
            ],
            "application/vnd.google.colaboratory.intrinsic+json": {
              "type": "string"
            }
          },
          "metadata": {},
          "execution_count": 17
        }
      ]
    },
    {
      "cell_type": "code",
      "source": [
        "ls"
      ],
      "metadata": {
        "colab": {
          "base_uri": "https://localhost:8080/",
          "height": 34
        },
        "id": "dsOgDDCqr_X-",
        "outputId": "f9df613c-06d1-4cfd-c10a-c2c4235adebd"
      },
      "execution_count": null,
      "outputs": [
        {
          "output_type": "display_data",
          "data": {
            "text/plain": [
              "<IPython.core.display.HTML object>"
            ],
            "text/html": [
              "\n",
              "            <style>\n",
              "                .geemap-dark {\n",
              "                    --jp-widgets-color: white;\n",
              "                    --jp-widgets-label-color: white;\n",
              "                    --jp-ui-font-color1: white;\n",
              "                    --jp-layout-color2: #454545;\n",
              "                    background-color: #383838;\n",
              "                }\n",
              "\n",
              "                .geemap-dark .jupyter-button {\n",
              "                    --jp-layout-color3: #383838;\n",
              "                }\n",
              "\n",
              "                .geemap-colab {\n",
              "                    background-color: var(--colab-primary-surface-color, white);\n",
              "                }\n",
              "\n",
              "                .geemap-colab .jupyter-button {\n",
              "                    --jp-layout-color3: var(--colab-primary-surface-color, white);\n",
              "                }\n",
              "            </style>\n",
              "            "
            ]
          },
          "metadata": {}
        },
        {
          "output_type": "stream",
          "name": "stdout",
          "text": [
            "Module_1_Data_Availability_aug_cambodia_20241001.ipynb\n"
          ]
        }
      ]
    },
    {
      "cell_type": "code",
      "source": [
        "auth = earthaccess.login(strategy=\"netrc\")"
      ],
      "metadata": {
        "id": "HAAArcEzFYng",
        "colab": {
          "base_uri": "https://localhost:8080/",
          "height": 17
        },
        "outputId": "ca106ef7-b461-464a-8cca-b703013a68bb"
      },
      "execution_count": null,
      "outputs": [
        {
          "output_type": "display_data",
          "data": {
            "text/plain": [
              "<IPython.core.display.HTML object>"
            ],
            "text/html": [
              "\n",
              "            <style>\n",
              "                .geemap-dark {\n",
              "                    --jp-widgets-color: white;\n",
              "                    --jp-widgets-label-color: white;\n",
              "                    --jp-ui-font-color1: white;\n",
              "                    --jp-layout-color2: #454545;\n",
              "                    background-color: #383838;\n",
              "                }\n",
              "\n",
              "                .geemap-dark .jupyter-button {\n",
              "                    --jp-layout-color3: #383838;\n",
              "                }\n",
              "\n",
              "                .geemap-colab {\n",
              "                    background-color: var(--colab-primary-surface-color, white);\n",
              "                }\n",
              "\n",
              "                .geemap-colab .jupyter-button {\n",
              "                    --jp-layout-color3: var(--colab-primary-surface-color, white);\n",
              "                }\n",
              "            </style>\n",
              "            "
            ]
          },
          "metadata": {}
        }
      ]
    },
    {
      "cell_type": "code",
      "source": [
        "dswx_results = earthaccess.search_data(short_name=\"OPERA_L3_DSWX-HLS_V1\",cloud_hosted=True,\n",
        "                                     temporal=(my_start_date,my_start_date), bounding_box=(lon_min,lat_min,lon_max,lat_max))"
      ],
      "metadata": {
        "id": "4Tq50EC3Fc_W",
        "colab": {
          "base_uri": "https://localhost:8080/",
          "height": 17
        },
        "outputId": "264fcd10-2b6c-4a2b-f999-e0c7693f2314"
      },
      "execution_count": null,
      "outputs": [
        {
          "output_type": "display_data",
          "data": {
            "text/plain": [
              "<IPython.core.display.HTML object>"
            ],
            "text/html": [
              "\n",
              "            <style>\n",
              "                .geemap-dark {\n",
              "                    --jp-widgets-color: white;\n",
              "                    --jp-widgets-label-color: white;\n",
              "                    --jp-ui-font-color1: white;\n",
              "                    --jp-layout-color2: #454545;\n",
              "                    background-color: #383838;\n",
              "                }\n",
              "\n",
              "                .geemap-dark .jupyter-button {\n",
              "                    --jp-layout-color3: #383838;\n",
              "                }\n",
              "\n",
              "                .geemap-colab {\n",
              "                    background-color: var(--colab-primary-surface-color, white);\n",
              "                }\n",
              "\n",
              "                .geemap-colab .jupyter-button {\n",
              "                    --jp-layout-color3: var(--colab-primary-surface-color, white);\n",
              "                }\n",
              "            </style>\n",
              "            "
            ]
          },
          "metadata": {}
        }
      ]
    },
    {
      "cell_type": "code",
      "source": [
        "dswx_path_test = 'drive/My Drive/Flood_Intercomparison/Case_Studies/aug/aug_cambodia_20241001/dswx_hls'\n"
      ],
      "metadata": {
        "colab": {
          "base_uri": "https://localhost:8080/",
          "height": 17
        },
        "id": "LgS6AE68sVzB",
        "outputId": "8d4d7cde-6a7a-46f3-f582-457f9c2fb5cd"
      },
      "execution_count": null,
      "outputs": [
        {
          "output_type": "display_data",
          "data": {
            "text/plain": [
              "<IPython.core.display.HTML object>"
            ],
            "text/html": [
              "\n",
              "            <style>\n",
              "                .geemap-dark {\n",
              "                    --jp-widgets-color: white;\n",
              "                    --jp-widgets-label-color: white;\n",
              "                    --jp-ui-font-color1: white;\n",
              "                    --jp-layout-color2: #454545;\n",
              "                    background-color: #383838;\n",
              "                }\n",
              "\n",
              "                .geemap-dark .jupyter-button {\n",
              "                    --jp-layout-color3: #383838;\n",
              "                }\n",
              "\n",
              "                .geemap-colab {\n",
              "                    background-color: var(--colab-primary-surface-color, white);\n",
              "                }\n",
              "\n",
              "                .geemap-colab .jupyter-button {\n",
              "                    --jp-layout-color3: var(--colab-primary-surface-color, white);\n",
              "                }\n",
              "            </style>\n",
              "            "
            ]
          },
          "metadata": {}
        }
      ]
    },
    {
      "cell_type": "code",
      "source": [
        "downloaded = earthaccess.download(dswx_results, local_path = 'dswx_hls')"
      ],
      "metadata": {
        "id": "4C7nU5uBFmQW",
        "colab": {
          "base_uri": "https://localhost:8080/",
          "height": 113,
          "referenced_widgets": [
            "10dac26a680d422d91110d4e152c3149",
            "0699e9ac180c4130a360c7385b337c9b",
            "e003955773ae4930ad35e530493ea60c",
            "02f7d2740cd84f298d977c86f3d9ce22",
            "0d523d6e4a1746cbabb1907877d7a99a",
            "3a2c5e0a40784aa9a9e192bc401a029d",
            "ab2847d04880423eb9daa390a00397d0",
            "b14dcb0b32a04b9890c51f31c5150399",
            "e16c37d7ec1746c28845b5e2b3887f7c",
            "434dfab0d3ed46d2bc727dbecd4eaee6",
            "a77d2a00f1284b5d8303025a219c175a",
            "a6565b14e9284dbe9c3f64f691dd827c",
            "3de3a3e89b3a42b2a079920fe98f0933",
            "68b8532d854f4f9abf42712edcc82984",
            "f193355398f9485bbd8455434281b141",
            "c9082f8760484244a66e47923be33460",
            "c13896721ed2463cbceec46bef016e5e",
            "b06e474f4150476492435412679a5c02",
            "ee4cd45e8e3c45528d5b2062821e6497",
            "53723c69965f44b388fd05a0267db2ac",
            "0b688e2d88444a3ebdfa7de050ee2520",
            "88637f18d9da4d738d31a96172849c41",
            "3efae3fd503f45d8a92dc2167b26dfd4",
            "9894253dd2054f2b95fd907d54e713e0",
            "59694f46bad54b99b71db40ea1fd04ee",
            "af488968cf31424496d054bcbc767889",
            "a4a11979636e4e5099b0b95adbcec62d",
            "f654c0232f154228b48ffc4aa6d1eaaa",
            "573c3032d2a941988e7e9e9365529532",
            "582d5fa34ef24310a53bc1c5678b288e",
            "443d94554da14c2cad2c8a1377408f74",
            "72772736890f40f6b3a6edf9a105e1c2",
            "bd7b16d23bfd4bc58eb11849ccdecee0"
          ]
        },
        "outputId": "966908f2-0c79-4e7e-d79a-a5d82d845f8c"
      },
      "execution_count": null,
      "outputs": [
        {
          "output_type": "display_data",
          "data": {
            "text/plain": [
              "<IPython.core.display.HTML object>"
            ],
            "text/html": [
              "\n",
              "            <style>\n",
              "                .geemap-dark {\n",
              "                    --jp-widgets-color: white;\n",
              "                    --jp-widgets-label-color: white;\n",
              "                    --jp-ui-font-color1: white;\n",
              "                    --jp-layout-color2: #454545;\n",
              "                    background-color: #383838;\n",
              "                }\n",
              "\n",
              "                .geemap-dark .jupyter-button {\n",
              "                    --jp-layout-color3: #383838;\n",
              "                }\n",
              "\n",
              "                .geemap-colab {\n",
              "                    background-color: var(--colab-primary-surface-color, white);\n",
              "                }\n",
              "\n",
              "                .geemap-colab .jupyter-button {\n",
              "                    --jp-layout-color3: var(--colab-primary-surface-color, white);\n",
              "                }\n",
              "            </style>\n",
              "            "
            ]
          },
          "metadata": {}
        },
        {
          "output_type": "display_data",
          "data": {
            "text/plain": [
              "QUEUEING TASKS | :   0%|          | 0/240 [00:00<?, ?it/s]"
            ],
            "application/vnd.jupyter.widget-view+json": {
              "version_major": 2,
              "version_minor": 0,
              "model_id": "10dac26a680d422d91110d4e152c3149"
            }
          },
          "metadata": {
            "application/vnd.jupyter.widget-view+json": {
              "colab": {
                "custom_widget_manager": {
                  "url": "https://ssl.gstatic.com/colaboratory-static/widgets/colab-cdn-widget-manager/2b70e893a8ba7c0f/manager.min.js"
                }
              }
            }
          }
        },
        {
          "output_type": "display_data",
          "data": {
            "text/plain": [
              "PROCESSING TASKS | :   0%|          | 0/240 [00:00<?, ?it/s]"
            ],
            "application/vnd.jupyter.widget-view+json": {
              "version_major": 2,
              "version_minor": 0,
              "model_id": "a6565b14e9284dbe9c3f64f691dd827c"
            }
          },
          "metadata": {
            "application/vnd.jupyter.widget-view+json": {
              "colab": {
                "custom_widget_manager": {
                  "url": "https://ssl.gstatic.com/colaboratory-static/widgets/colab-cdn-widget-manager/2b70e893a8ba7c0f/manager.min.js"
                }
              }
            }
          }
        },
        {
          "output_type": "display_data",
          "data": {
            "text/plain": [
              "COLLECTING RESULTS | :   0%|          | 0/240 [00:00<?, ?it/s]"
            ],
            "application/vnd.jupyter.widget-view+json": {
              "version_major": 2,
              "version_minor": 0,
              "model_id": "bd7b16d23bfd4bc58eb11849ccdecee0"
            }
          },
          "metadata": {
            "application/vnd.jupyter.widget-view+json": {
              "colab": {
                "custom_widget_manager": {
                  "url": "https://ssl.gstatic.com/colaboratory-static/widgets/colab-cdn-widget-manager/2b70e893a8ba7c0f/manager.min.js"
                }
              }
            }
          }
        }
      ]
    },
    {
      "cell_type": "code",
      "source": [
        "pwd"
      ],
      "metadata": {
        "colab": {
          "base_uri": "https://localhost:8080/",
          "height": 36
        },
        "id": "An_HV5dmq5Fq",
        "outputId": "e57653a2-00c8-42ef-e1f5-8b0e4ba6eee2"
      },
      "execution_count": null,
      "outputs": [
        {
          "output_type": "display_data",
          "data": {
            "text/plain": [
              "<IPython.core.display.HTML object>"
            ],
            "text/html": [
              "\n",
              "            <style>\n",
              "                .geemap-dark {\n",
              "                    --jp-widgets-color: white;\n",
              "                    --jp-widgets-label-color: white;\n",
              "                    --jp-ui-font-color1: white;\n",
              "                    --jp-layout-color2: #454545;\n",
              "                    background-color: #383838;\n",
              "                }\n",
              "\n",
              "                .geemap-dark .jupyter-button {\n",
              "                    --jp-layout-color3: #383838;\n",
              "                }\n",
              "\n",
              "                .geemap-colab {\n",
              "                    background-color: var(--colab-primary-surface-color, white);\n",
              "                }\n",
              "\n",
              "                .geemap-colab .jupyter-button {\n",
              "                    --jp-layout-color3: var(--colab-primary-surface-color, white);\n",
              "                }\n",
              "            </style>\n",
              "            "
            ]
          },
          "metadata": {}
        },
        {
          "output_type": "execute_result",
          "data": {
            "text/plain": [
              "'/content/drive/MyDrive/Flood_Intercomparison/Case_Studies/aug/aug_cambodia_20241001'"
            ],
            "application/vnd.google.colaboratory.intrinsic+json": {
              "type": "string"
            }
          },
          "metadata": {},
          "execution_count": 26
        }
      ]
    },
    {
      "cell_type": "code",
      "source": [
        "ls"
      ],
      "metadata": {
        "colab": {
          "base_uri": "https://localhost:8080/",
          "height": 34
        },
        "id": "SC9tUpxoq_JE",
        "outputId": "17519559-b5f0-4c3f-9255-850804e7e96b"
      },
      "execution_count": null,
      "outputs": [
        {
          "output_type": "display_data",
          "data": {
            "text/plain": [
              "<IPython.core.display.HTML object>"
            ],
            "text/html": [
              "\n",
              "            <style>\n",
              "                .geemap-dark {\n",
              "                    --jp-widgets-color: white;\n",
              "                    --jp-widgets-label-color: white;\n",
              "                    --jp-ui-font-color1: white;\n",
              "                    --jp-layout-color2: #454545;\n",
              "                    background-color: #383838;\n",
              "                }\n",
              "\n",
              "                .geemap-dark .jupyter-button {\n",
              "                    --jp-layout-color3: #383838;\n",
              "                }\n",
              "\n",
              "                .geemap-colab {\n",
              "                    background-color: var(--colab-primary-surface-color, white);\n",
              "                }\n",
              "\n",
              "                .geemap-colab .jupyter-button {\n",
              "                    --jp-layout-color3: var(--colab-primary-surface-color, white);\n",
              "                }\n",
              "            </style>\n",
              "            "
            ]
          },
          "metadata": {}
        },
        {
          "output_type": "stream",
          "name": "stdout",
          "text": [
            "\u001b[0m\u001b[01;34mdswx_hls\u001b[0m/  Module_1_Data_Availability_aug_cambodia_20241001.ipynb\n"
          ]
        }
      ]
    },
    {
      "cell_type": "code",
      "source": [
        "cd dswx_hls"
      ],
      "metadata": {
        "colab": {
          "base_uri": "https://localhost:8080/",
          "height": 34
        },
        "id": "-A0r9SozrAPv",
        "outputId": "391a93a5-2071-4161-fada-10a7967be6eb"
      },
      "execution_count": null,
      "outputs": [
        {
          "output_type": "display_data",
          "data": {
            "text/plain": [
              "<IPython.core.display.HTML object>"
            ],
            "text/html": [
              "\n",
              "            <style>\n",
              "                .geemap-dark {\n",
              "                    --jp-widgets-color: white;\n",
              "                    --jp-widgets-label-color: white;\n",
              "                    --jp-ui-font-color1: white;\n",
              "                    --jp-layout-color2: #454545;\n",
              "                    background-color: #383838;\n",
              "                }\n",
              "\n",
              "                .geemap-dark .jupyter-button {\n",
              "                    --jp-layout-color3: #383838;\n",
              "                }\n",
              "\n",
              "                .geemap-colab {\n",
              "                    background-color: var(--colab-primary-surface-color, white);\n",
              "                }\n",
              "\n",
              "                .geemap-colab .jupyter-button {\n",
              "                    --jp-layout-color3: var(--colab-primary-surface-color, white);\n",
              "                }\n",
              "            </style>\n",
              "            "
            ]
          },
          "metadata": {}
        },
        {
          "output_type": "stream",
          "name": "stdout",
          "text": [
            "/content/drive/MyDrive/Flood_Intercomparison/Case_Studies/aug/aug_cambodia_20241001/dswx_hls\n"
          ]
        }
      ]
    },
    {
      "cell_type": "code",
      "source": [
        "ls"
      ],
      "metadata": {
        "colab": {
          "base_uri": "https://localhost:8080/",
          "height": 1000
        },
        "id": "-YOBnVZYrBXU",
        "outputId": "151a2788-89fb-44cd-ba3c-aae6e7250319"
      },
      "execution_count": null,
      "outputs": [
        {
          "output_type": "display_data",
          "data": {
            "text/plain": [
              "<IPython.core.display.HTML object>"
            ],
            "text/html": [
              "\n",
              "            <style>\n",
              "                .geemap-dark {\n",
              "                    --jp-widgets-color: white;\n",
              "                    --jp-widgets-label-color: white;\n",
              "                    --jp-ui-font-color1: white;\n",
              "                    --jp-layout-color2: #454545;\n",
              "                    background-color: #383838;\n",
              "                }\n",
              "\n",
              "                .geemap-dark .jupyter-button {\n",
              "                    --jp-layout-color3: #383838;\n",
              "                }\n",
              "\n",
              "                .geemap-colab {\n",
              "                    background-color: var(--colab-primary-surface-color, white);\n",
              "                }\n",
              "\n",
              "                .geemap-colab .jupyter-button {\n",
              "                    --jp-layout-color3: var(--colab-primary-surface-color, white);\n",
              "                }\n",
              "            </style>\n",
              "            "
            ]
          },
          "metadata": {}
        },
        {
          "output_type": "stream",
          "name": "stdout",
          "text": [
            "OPERA_L3_DSWx-HLS_T48PVR_20241001T031531Z_20241003T030835Z_S2A_30_v1.0_B01_WTR.tif\n",
            "OPERA_L3_DSWx-HLS_T48PVR_20241001T031531Z_20241003T030835Z_S2A_30_v1.0_B02_BWTR.tif\n",
            "OPERA_L3_DSWx-HLS_T48PVR_20241001T031531Z_20241003T030835Z_S2A_30_v1.0_B03_CONF.tif\n",
            "OPERA_L3_DSWx-HLS_T48PVR_20241001T031531Z_20241003T030835Z_S2A_30_v1.0_B04_DIAG.tif\n",
            "OPERA_L3_DSWx-HLS_T48PVR_20241001T031531Z_20241003T030835Z_S2A_30_v1.0_B05_WTR-1.tif\n",
            "OPERA_L3_DSWx-HLS_T48PVR_20241001T031531Z_20241003T030835Z_S2A_30_v1.0_B06_WTR-2.tif\n",
            "OPERA_L3_DSWx-HLS_T48PVR_20241001T031531Z_20241003T030835Z_S2A_30_v1.0_B07_LAND.tif\n",
            "OPERA_L3_DSWx-HLS_T48PVR_20241001T031531Z_20241003T030835Z_S2A_30_v1.0_B08_SHAD.tif\n",
            "OPERA_L3_DSWx-HLS_T48PVR_20241001T031531Z_20241003T030835Z_S2A_30_v1.0_B09_CLOUD.tif\n",
            "OPERA_L3_DSWx-HLS_T48PVR_20241001T031531Z_20241003T030835Z_S2A_30_v1.0_B10_DEM.tif\n",
            "OPERA_L3_DSWx-HLS_T48PVS_20241001T031531Z_20241003T013539Z_S2A_30_v1.0_B01_WTR.tif\n",
            "OPERA_L3_DSWx-HLS_T48PVS_20241001T031531Z_20241003T013539Z_S2A_30_v1.0_B02_BWTR.tif\n",
            "OPERA_L3_DSWx-HLS_T48PVS_20241001T031531Z_20241003T013539Z_S2A_30_v1.0_B03_CONF.tif\n",
            "OPERA_L3_DSWx-HLS_T48PVS_20241001T031531Z_20241003T013539Z_S2A_30_v1.0_B04_DIAG.tif\n",
            "OPERA_L3_DSWx-HLS_T48PVS_20241001T031531Z_20241003T013539Z_S2A_30_v1.0_B05_WTR-1.tif\n",
            "OPERA_L3_DSWx-HLS_T48PVS_20241001T031531Z_20241003T013539Z_S2A_30_v1.0_B06_WTR-2.tif\n",
            "OPERA_L3_DSWx-HLS_T48PVS_20241001T031531Z_20241003T013539Z_S2A_30_v1.0_B07_LAND.tif\n",
            "OPERA_L3_DSWx-HLS_T48PVS_20241001T031531Z_20241003T013539Z_S2A_30_v1.0_B08_SHAD.tif\n",
            "OPERA_L3_DSWx-HLS_T48PVS_20241001T031531Z_20241003T013539Z_S2A_30_v1.0_B09_CLOUD.tif\n",
            "OPERA_L3_DSWx-HLS_T48PVS_20241001T031531Z_20241003T013539Z_S2A_30_v1.0_B10_DEM.tif\n",
            "OPERA_L3_DSWx-HLS_T48PVS_20241001T031531Z_20241003T040113Z_S2A_30_v1.0_B01_WTR.tif\n",
            "OPERA_L3_DSWx-HLS_T48PVS_20241001T031531Z_20241003T040113Z_S2A_30_v1.0_B02_BWTR.tif\n",
            "OPERA_L3_DSWx-HLS_T48PVS_20241001T031531Z_20241003T040113Z_S2A_30_v1.0_B03_CONF.tif\n",
            "OPERA_L3_DSWx-HLS_T48PVS_20241001T031531Z_20241003T040113Z_S2A_30_v1.0_B04_DIAG.tif\n",
            "OPERA_L3_DSWx-HLS_T48PVS_20241001T031531Z_20241003T040113Z_S2A_30_v1.0_B05_WTR-1.tif\n",
            "OPERA_L3_DSWx-HLS_T48PVS_20241001T031531Z_20241003T040113Z_S2A_30_v1.0_B06_WTR-2.tif\n",
            "OPERA_L3_DSWx-HLS_T48PVS_20241001T031531Z_20241003T040113Z_S2A_30_v1.0_B07_LAND.tif\n",
            "OPERA_L3_DSWx-HLS_T48PVS_20241001T031531Z_20241003T040113Z_S2A_30_v1.0_B08_SHAD.tif\n",
            "OPERA_L3_DSWx-HLS_T48PVS_20241001T031531Z_20241003T040113Z_S2A_30_v1.0_B09_CLOUD.tif\n",
            "OPERA_L3_DSWx-HLS_T48PVS_20241001T031531Z_20241003T040113Z_S2A_30_v1.0_B10_DEM.tif\n",
            "OPERA_L3_DSWx-HLS_T48PVT_20241001T031531Z_20241003T030837Z_S2A_30_v1.0_B01_WTR.tif\n",
            "OPERA_L3_DSWx-HLS_T48PVT_20241001T031531Z_20241003T030837Z_S2A_30_v1.0_B02_BWTR.tif\n",
            "OPERA_L3_DSWx-HLS_T48PVT_20241001T031531Z_20241003T030837Z_S2A_30_v1.0_B03_CONF.tif\n",
            "OPERA_L3_DSWx-HLS_T48PVT_20241001T031531Z_20241003T030837Z_S2A_30_v1.0_B04_DIAG.tif\n",
            "OPERA_L3_DSWx-HLS_T48PVT_20241001T031531Z_20241003T030837Z_S2A_30_v1.0_B05_WTR-1.tif\n",
            "OPERA_L3_DSWx-HLS_T48PVT_20241001T031531Z_20241003T030837Z_S2A_30_v1.0_B06_WTR-2.tif\n",
            "OPERA_L3_DSWx-HLS_T48PVT_20241001T031531Z_20241003T030837Z_S2A_30_v1.0_B07_LAND.tif\n",
            "OPERA_L3_DSWx-HLS_T48PVT_20241001T031531Z_20241003T030837Z_S2A_30_v1.0_B08_SHAD.tif\n",
            "OPERA_L3_DSWx-HLS_T48PVT_20241001T031531Z_20241003T030837Z_S2A_30_v1.0_B09_CLOUD.tif\n",
            "OPERA_L3_DSWx-HLS_T48PVT_20241001T031531Z_20241003T030837Z_S2A_30_v1.0_B10_DEM.tif\n",
            "OPERA_L3_DSWx-HLS_T48PVU_20241001T031531Z_20241003T030843Z_S2A_30_v1.0_B01_WTR.tif\n",
            "OPERA_L3_DSWx-HLS_T48PVU_20241001T031531Z_20241003T030843Z_S2A_30_v1.0_B02_BWTR.tif\n",
            "OPERA_L3_DSWx-HLS_T48PVU_20241001T031531Z_20241003T030843Z_S2A_30_v1.0_B03_CONF.tif\n",
            "OPERA_L3_DSWx-HLS_T48PVU_20241001T031531Z_20241003T030843Z_S2A_30_v1.0_B04_DIAG.tif\n",
            "OPERA_L3_DSWx-HLS_T48PVU_20241001T031531Z_20241003T030843Z_S2A_30_v1.0_B05_WTR-1.tif\n",
            "OPERA_L3_DSWx-HLS_T48PVU_20241001T031531Z_20241003T030843Z_S2A_30_v1.0_B06_WTR-2.tif\n",
            "OPERA_L3_DSWx-HLS_T48PVU_20241001T031531Z_20241003T030843Z_S2A_30_v1.0_B07_LAND.tif\n",
            "OPERA_L3_DSWx-HLS_T48PVU_20241001T031531Z_20241003T030843Z_S2A_30_v1.0_B08_SHAD.tif\n",
            "OPERA_L3_DSWx-HLS_T48PVU_20241001T031531Z_20241003T030843Z_S2A_30_v1.0_B09_CLOUD.tif\n",
            "OPERA_L3_DSWx-HLS_T48PVU_20241001T031531Z_20241003T030843Z_S2A_30_v1.0_B10_DEM.tif\n",
            "OPERA_L3_DSWx-HLS_T48PVV_20241001T031531Z_20241003T030841Z_S2A_30_v1.0_B01_WTR.tif\n",
            "OPERA_L3_DSWx-HLS_T48PVV_20241001T031531Z_20241003T030841Z_S2A_30_v1.0_B02_BWTR.tif\n",
            "OPERA_L3_DSWx-HLS_T48PVV_20241001T031531Z_20241003T030841Z_S2A_30_v1.0_B03_CONF.tif\n",
            "OPERA_L3_DSWx-HLS_T48PVV_20241001T031531Z_20241003T030841Z_S2A_30_v1.0_B04_DIAG.tif\n",
            "OPERA_L3_DSWx-HLS_T48PVV_20241001T031531Z_20241003T030841Z_S2A_30_v1.0_B05_WTR-1.tif\n",
            "OPERA_L3_DSWx-HLS_T48PVV_20241001T031531Z_20241003T030841Z_S2A_30_v1.0_B06_WTR-2.tif\n",
            "OPERA_L3_DSWx-HLS_T48PVV_20241001T031531Z_20241003T030841Z_S2A_30_v1.0_B07_LAND.tif\n",
            "OPERA_L3_DSWx-HLS_T48PVV_20241001T031531Z_20241003T030841Z_S2A_30_v1.0_B08_SHAD.tif\n",
            "OPERA_L3_DSWx-HLS_T48PVV_20241001T031531Z_20241003T030841Z_S2A_30_v1.0_B09_CLOUD.tif\n",
            "OPERA_L3_DSWx-HLS_T48PVV_20241001T031531Z_20241003T030841Z_S2A_30_v1.0_B10_DEM.tif\n",
            "OPERA_L3_DSWx-HLS_T48PWA_20241001T031531Z_20241003T030845Z_S2A_30_v1.0_B01_WTR.tif\n",
            "OPERA_L3_DSWx-HLS_T48PWA_20241001T031531Z_20241003T030845Z_S2A_30_v1.0_B02_BWTR.tif\n",
            "OPERA_L3_DSWx-HLS_T48PWA_20241001T031531Z_20241003T030845Z_S2A_30_v1.0_B03_CONF.tif\n",
            "OPERA_L3_DSWx-HLS_T48PWA_20241001T031531Z_20241003T030845Z_S2A_30_v1.0_B04_DIAG.tif\n",
            "OPERA_L3_DSWx-HLS_T48PWA_20241001T031531Z_20241003T030845Z_S2A_30_v1.0_B05_WTR-1.tif\n",
            "OPERA_L3_DSWx-HLS_T48PWA_20241001T031531Z_20241003T030845Z_S2A_30_v1.0_B06_WTR-2.tif\n",
            "OPERA_L3_DSWx-HLS_T48PWA_20241001T031531Z_20241003T030845Z_S2A_30_v1.0_B07_LAND.tif\n",
            "OPERA_L3_DSWx-HLS_T48PWA_20241001T031531Z_20241003T030845Z_S2A_30_v1.0_B08_SHAD.tif\n",
            "OPERA_L3_DSWx-HLS_T48PWA_20241001T031531Z_20241003T030845Z_S2A_30_v1.0_B09_CLOUD.tif\n",
            "OPERA_L3_DSWx-HLS_T48PWA_20241001T031531Z_20241003T030845Z_S2A_30_v1.0_B10_DEM.tif\n",
            "OPERA_L3_DSWx-HLS_T48PWR_20241001T031531Z_20241003T030847Z_S2A_30_v1.0_B01_WTR.tif\n",
            "OPERA_L3_DSWx-HLS_T48PWR_20241001T031531Z_20241003T030847Z_S2A_30_v1.0_B02_BWTR.tif\n",
            "OPERA_L3_DSWx-HLS_T48PWR_20241001T031531Z_20241003T030847Z_S2A_30_v1.0_B03_CONF.tif\n",
            "OPERA_L3_DSWx-HLS_T48PWR_20241001T031531Z_20241003T030847Z_S2A_30_v1.0_B04_DIAG.tif\n",
            "OPERA_L3_DSWx-HLS_T48PWR_20241001T031531Z_20241003T030847Z_S2A_30_v1.0_B05_WTR-1.tif\n",
            "OPERA_L3_DSWx-HLS_T48PWR_20241001T031531Z_20241003T030847Z_S2A_30_v1.0_B06_WTR-2.tif\n",
            "OPERA_L3_DSWx-HLS_T48PWR_20241001T031531Z_20241003T030847Z_S2A_30_v1.0_B07_LAND.tif\n",
            "OPERA_L3_DSWx-HLS_T48PWR_20241001T031531Z_20241003T030847Z_S2A_30_v1.0_B08_SHAD.tif\n",
            "OPERA_L3_DSWx-HLS_T48PWR_20241001T031531Z_20241003T030847Z_S2A_30_v1.0_B09_CLOUD.tif\n",
            "OPERA_L3_DSWx-HLS_T48PWR_20241001T031531Z_20241003T030847Z_S2A_30_v1.0_B10_DEM.tif\n",
            "OPERA_L3_DSWx-HLS_T48PWR_20241001T031531Z_20241003T040124Z_S2A_30_v1.0_B01_WTR.tif\n",
            "OPERA_L3_DSWx-HLS_T48PWR_20241001T031531Z_20241003T040124Z_S2A_30_v1.0_B02_BWTR.tif\n",
            "OPERA_L3_DSWx-HLS_T48PWR_20241001T031531Z_20241003T040124Z_S2A_30_v1.0_B03_CONF.tif\n",
            "OPERA_L3_DSWx-HLS_T48PWR_20241001T031531Z_20241003T040124Z_S2A_30_v1.0_B04_DIAG.tif\n",
            "OPERA_L3_DSWx-HLS_T48PWR_20241001T031531Z_20241003T040124Z_S2A_30_v1.0_B05_WTR-1.tif\n",
            "OPERA_L3_DSWx-HLS_T48PWR_20241001T031531Z_20241003T040124Z_S2A_30_v1.0_B06_WTR-2.tif\n",
            "OPERA_L3_DSWx-HLS_T48PWR_20241001T031531Z_20241003T040124Z_S2A_30_v1.0_B07_LAND.tif\n",
            "OPERA_L3_DSWx-HLS_T48PWR_20241001T031531Z_20241003T040124Z_S2A_30_v1.0_B08_SHAD.tif\n",
            "OPERA_L3_DSWx-HLS_T48PWR_20241001T031531Z_20241003T040124Z_S2A_30_v1.0_B09_CLOUD.tif\n",
            "OPERA_L3_DSWx-HLS_T48PWR_20241001T031531Z_20241003T040124Z_S2A_30_v1.0_B10_DEM.tif\n",
            "OPERA_L3_DSWx-HLS_T48PWS_20241001T031531Z_20241003T040108Z_S2A_30_v1.0_B01_WTR.tif\n",
            "OPERA_L3_DSWx-HLS_T48PWS_20241001T031531Z_20241003T040108Z_S2A_30_v1.0_B02_BWTR.tif\n",
            "OPERA_L3_DSWx-HLS_T48PWS_20241001T031531Z_20241003T040108Z_S2A_30_v1.0_B03_CONF.tif\n",
            "OPERA_L3_DSWx-HLS_T48PWS_20241001T031531Z_20241003T040108Z_S2A_30_v1.0_B04_DIAG.tif\n",
            "OPERA_L3_DSWx-HLS_T48PWS_20241001T031531Z_20241003T040108Z_S2A_30_v1.0_B05_WTR-1.tif\n",
            "OPERA_L3_DSWx-HLS_T48PWS_20241001T031531Z_20241003T040108Z_S2A_30_v1.0_B06_WTR-2.tif\n",
            "OPERA_L3_DSWx-HLS_T48PWS_20241001T031531Z_20241003T040108Z_S2A_30_v1.0_B07_LAND.tif\n",
            "OPERA_L3_DSWx-HLS_T48PWS_20241001T031531Z_20241003T040108Z_S2A_30_v1.0_B08_SHAD.tif\n",
            "OPERA_L3_DSWx-HLS_T48PWS_20241001T031531Z_20241003T040108Z_S2A_30_v1.0_B09_CLOUD.tif\n",
            "OPERA_L3_DSWx-HLS_T48PWS_20241001T031531Z_20241003T040108Z_S2A_30_v1.0_B10_DEM.tif\n",
            "OPERA_L3_DSWx-HLS_T48PWS_20241001T031531Z_20241003T072148Z_S2A_30_v1.0_B01_WTR.tif\n",
            "OPERA_L3_DSWx-HLS_T48PWS_20241001T031531Z_20241003T072148Z_S2A_30_v1.0_B02_BWTR.tif\n",
            "OPERA_L3_DSWx-HLS_T48PWS_20241001T031531Z_20241003T072148Z_S2A_30_v1.0_B03_CONF.tif\n",
            "OPERA_L3_DSWx-HLS_T48PWS_20241001T031531Z_20241003T072148Z_S2A_30_v1.0_B04_DIAG.tif\n",
            "OPERA_L3_DSWx-HLS_T48PWS_20241001T031531Z_20241003T072148Z_S2A_30_v1.0_B05_WTR-1.tif\n",
            "OPERA_L3_DSWx-HLS_T48PWS_20241001T031531Z_20241003T072148Z_S2A_30_v1.0_B06_WTR-2.tif\n",
            "OPERA_L3_DSWx-HLS_T48PWS_20241001T031531Z_20241003T072148Z_S2A_30_v1.0_B07_LAND.tif\n",
            "OPERA_L3_DSWx-HLS_T48PWS_20241001T031531Z_20241003T072148Z_S2A_30_v1.0_B08_SHAD.tif\n",
            "OPERA_L3_DSWx-HLS_T48PWS_20241001T031531Z_20241003T072148Z_S2A_30_v1.0_B09_CLOUD.tif\n",
            "OPERA_L3_DSWx-HLS_T48PWS_20241001T031531Z_20241003T072148Z_S2A_30_v1.0_B10_DEM.tif\n",
            "OPERA_L3_DSWx-HLS_T48PWT_20241001T031531Z_20241003T030838Z_S2A_30_v1.0_B01_WTR.tif\n",
            "OPERA_L3_DSWx-HLS_T48PWT_20241001T031531Z_20241003T030838Z_S2A_30_v1.0_B02_BWTR.tif\n",
            "OPERA_L3_DSWx-HLS_T48PWT_20241001T031531Z_20241003T030838Z_S2A_30_v1.0_B03_CONF.tif\n",
            "OPERA_L3_DSWx-HLS_T48PWT_20241001T031531Z_20241003T030838Z_S2A_30_v1.0_B04_DIAG.tif\n",
            "OPERA_L3_DSWx-HLS_T48PWT_20241001T031531Z_20241003T030838Z_S2A_30_v1.0_B05_WTR-1.tif\n",
            "OPERA_L3_DSWx-HLS_T48PWT_20241001T031531Z_20241003T030838Z_S2A_30_v1.0_B06_WTR-2.tif\n",
            "OPERA_L3_DSWx-HLS_T48PWT_20241001T031531Z_20241003T030838Z_S2A_30_v1.0_B07_LAND.tif\n",
            "OPERA_L3_DSWx-HLS_T48PWT_20241001T031531Z_20241003T030838Z_S2A_30_v1.0_B08_SHAD.tif\n",
            "OPERA_L3_DSWx-HLS_T48PWT_20241001T031531Z_20241003T030838Z_S2A_30_v1.0_B09_CLOUD.tif\n",
            "OPERA_L3_DSWx-HLS_T48PWT_20241001T031531Z_20241003T030838Z_S2A_30_v1.0_B10_DEM.tif\n",
            "OPERA_L3_DSWx-HLS_T48PWU_20241001T031531Z_20241003T030843Z_S2A_30_v1.0_B01_WTR.tif\n",
            "OPERA_L3_DSWx-HLS_T48PWU_20241001T031531Z_20241003T030843Z_S2A_30_v1.0_B02_BWTR.tif\n",
            "OPERA_L3_DSWx-HLS_T48PWU_20241001T031531Z_20241003T030843Z_S2A_30_v1.0_B03_CONF.tif\n",
            "OPERA_L3_DSWx-HLS_T48PWU_20241001T031531Z_20241003T030843Z_S2A_30_v1.0_B04_DIAG.tif\n",
            "OPERA_L3_DSWx-HLS_T48PWU_20241001T031531Z_20241003T030843Z_S2A_30_v1.0_B05_WTR-1.tif\n",
            "OPERA_L3_DSWx-HLS_T48PWU_20241001T031531Z_20241003T030843Z_S2A_30_v1.0_B06_WTR-2.tif\n",
            "OPERA_L3_DSWx-HLS_T48PWU_20241001T031531Z_20241003T030843Z_S2A_30_v1.0_B07_LAND.tif\n",
            "OPERA_L3_DSWx-HLS_T48PWU_20241001T031531Z_20241003T030843Z_S2A_30_v1.0_B08_SHAD.tif\n",
            "OPERA_L3_DSWx-HLS_T48PWU_20241001T031531Z_20241003T030843Z_S2A_30_v1.0_B09_CLOUD.tif\n",
            "OPERA_L3_DSWx-HLS_T48PWU_20241001T031531Z_20241003T030843Z_S2A_30_v1.0_B10_DEM.tif\n",
            "OPERA_L3_DSWx-HLS_T48PWV_20241001T031531Z_20241003T030845Z_S2A_30_v1.0_B01_WTR.tif\n",
            "OPERA_L3_DSWx-HLS_T48PWV_20241001T031531Z_20241003T030845Z_S2A_30_v1.0_B02_BWTR.tif\n",
            "OPERA_L3_DSWx-HLS_T48PWV_20241001T031531Z_20241003T030845Z_S2A_30_v1.0_B03_CONF.tif\n",
            "OPERA_L3_DSWx-HLS_T48PWV_20241001T031531Z_20241003T030845Z_S2A_30_v1.0_B04_DIAG.tif\n",
            "OPERA_L3_DSWx-HLS_T48PWV_20241001T031531Z_20241003T030845Z_S2A_30_v1.0_B05_WTR-1.tif\n",
            "OPERA_L3_DSWx-HLS_T48PWV_20241001T031531Z_20241003T030845Z_S2A_30_v1.0_B06_WTR-2.tif\n",
            "OPERA_L3_DSWx-HLS_T48PWV_20241001T031531Z_20241003T030845Z_S2A_30_v1.0_B07_LAND.tif\n",
            "OPERA_L3_DSWx-HLS_T48PWV_20241001T031531Z_20241003T030845Z_S2A_30_v1.0_B08_SHAD.tif\n",
            "OPERA_L3_DSWx-HLS_T48PWV_20241001T031531Z_20241003T030845Z_S2A_30_v1.0_B09_CLOUD.tif\n",
            "OPERA_L3_DSWx-HLS_T48PWV_20241001T031531Z_20241003T030845Z_S2A_30_v1.0_B10_DEM.tif\n",
            "OPERA_L3_DSWx-HLS_T48PXA_20241001T031531Z_20241003T030844Z_S2A_30_v1.0_B01_WTR.tif\n",
            "OPERA_L3_DSWx-HLS_T48PXA_20241001T031531Z_20241003T030844Z_S2A_30_v1.0_B02_BWTR.tif\n",
            "OPERA_L3_DSWx-HLS_T48PXA_20241001T031531Z_20241003T030844Z_S2A_30_v1.0_B03_CONF.tif\n",
            "OPERA_L3_DSWx-HLS_T48PXA_20241001T031531Z_20241003T030844Z_S2A_30_v1.0_B04_DIAG.tif\n",
            "OPERA_L3_DSWx-HLS_T48PXA_20241001T031531Z_20241003T030844Z_S2A_30_v1.0_B05_WTR-1.tif\n",
            "OPERA_L3_DSWx-HLS_T48PXA_20241001T031531Z_20241003T030844Z_S2A_30_v1.0_B06_WTR-2.tif\n",
            "OPERA_L3_DSWx-HLS_T48PXA_20241001T031531Z_20241003T030844Z_S2A_30_v1.0_B07_LAND.tif\n",
            "OPERA_L3_DSWx-HLS_T48PXA_20241001T031531Z_20241003T030844Z_S2A_30_v1.0_B08_SHAD.tif\n",
            "OPERA_L3_DSWx-HLS_T48PXA_20241001T031531Z_20241003T030844Z_S2A_30_v1.0_B09_CLOUD.tif\n",
            "OPERA_L3_DSWx-HLS_T48PXA_20241001T031531Z_20241003T030844Z_S2A_30_v1.0_B10_DEM.tif\n",
            "OPERA_L3_DSWx-HLS_T48PXR_20241001T031531Z_20241003T030834Z_S2A_30_v1.0_B01_WTR.tif\n",
            "OPERA_L3_DSWx-HLS_T48PXR_20241001T031531Z_20241003T030834Z_S2A_30_v1.0_B02_BWTR.tif\n",
            "OPERA_L3_DSWx-HLS_T48PXR_20241001T031531Z_20241003T030834Z_S2A_30_v1.0_B03_CONF.tif\n",
            "OPERA_L3_DSWx-HLS_T48PXR_20241001T031531Z_20241003T030834Z_S2A_30_v1.0_B04_DIAG.tif\n",
            "OPERA_L3_DSWx-HLS_T48PXR_20241001T031531Z_20241003T030834Z_S2A_30_v1.0_B05_WTR-1.tif\n",
            "OPERA_L3_DSWx-HLS_T48PXR_20241001T031531Z_20241003T030834Z_S2A_30_v1.0_B06_WTR-2.tif\n",
            "OPERA_L3_DSWx-HLS_T48PXR_20241001T031531Z_20241003T030834Z_S2A_30_v1.0_B07_LAND.tif\n",
            "OPERA_L3_DSWx-HLS_T48PXR_20241001T031531Z_20241003T030834Z_S2A_30_v1.0_B08_SHAD.tif\n",
            "OPERA_L3_DSWx-HLS_T48PXR_20241001T031531Z_20241003T030834Z_S2A_30_v1.0_B09_CLOUD.tif\n",
            "OPERA_L3_DSWx-HLS_T48PXR_20241001T031531Z_20241003T030834Z_S2A_30_v1.0_B10_DEM.tif\n",
            "OPERA_L3_DSWx-HLS_T48PXS_20241001T031531Z_20241003T040116Z_S2A_30_v1.0_B01_WTR.tif\n",
            "OPERA_L3_DSWx-HLS_T48PXS_20241001T031531Z_20241003T040116Z_S2A_30_v1.0_B02_BWTR.tif\n",
            "OPERA_L3_DSWx-HLS_T48PXS_20241001T031531Z_20241003T040116Z_S2A_30_v1.0_B03_CONF.tif\n",
            "OPERA_L3_DSWx-HLS_T48PXS_20241001T031531Z_20241003T040116Z_S2A_30_v1.0_B04_DIAG.tif\n",
            "OPERA_L3_DSWx-HLS_T48PXS_20241001T031531Z_20241003T040116Z_S2A_30_v1.0_B05_WTR-1.tif\n",
            "OPERA_L3_DSWx-HLS_T48PXS_20241001T031531Z_20241003T040116Z_S2A_30_v1.0_B06_WTR-2.tif\n",
            "OPERA_L3_DSWx-HLS_T48PXS_20241001T031531Z_20241003T040116Z_S2A_30_v1.0_B07_LAND.tif\n",
            "OPERA_L3_DSWx-HLS_T48PXS_20241001T031531Z_20241003T040116Z_S2A_30_v1.0_B08_SHAD.tif\n",
            "OPERA_L3_DSWx-HLS_T48PXS_20241001T031531Z_20241003T040116Z_S2A_30_v1.0_B09_CLOUD.tif\n",
            "OPERA_L3_DSWx-HLS_T48PXS_20241001T031531Z_20241003T040116Z_S2A_30_v1.0_B10_DEM.tif\n",
            "OPERA_L3_DSWx-HLS_T48PXT_20241001T031531Z_20241003T030841Z_S2A_30_v1.0_B01_WTR.tif\n",
            "OPERA_L3_DSWx-HLS_T48PXT_20241001T031531Z_20241003T030841Z_S2A_30_v1.0_B02_BWTR.tif\n",
            "OPERA_L3_DSWx-HLS_T48PXT_20241001T031531Z_20241003T030841Z_S2A_30_v1.0_B03_CONF.tif\n",
            "OPERA_L3_DSWx-HLS_T48PXT_20241001T031531Z_20241003T030841Z_S2A_30_v1.0_B04_DIAG.tif\n",
            "OPERA_L3_DSWx-HLS_T48PXT_20241001T031531Z_20241003T030841Z_S2A_30_v1.0_B05_WTR-1.tif\n",
            "OPERA_L3_DSWx-HLS_T48PXT_20241001T031531Z_20241003T030841Z_S2A_30_v1.0_B06_WTR-2.tif\n",
            "OPERA_L3_DSWx-HLS_T48PXT_20241001T031531Z_20241003T030841Z_S2A_30_v1.0_B07_LAND.tif\n",
            "OPERA_L3_DSWx-HLS_T48PXT_20241001T031531Z_20241003T030841Z_S2A_30_v1.0_B08_SHAD.tif\n",
            "OPERA_L3_DSWx-HLS_T48PXT_20241001T031531Z_20241003T030841Z_S2A_30_v1.0_B09_CLOUD.tif\n",
            "OPERA_L3_DSWx-HLS_T48PXT_20241001T031531Z_20241003T030841Z_S2A_30_v1.0_B10_DEM.tif\n",
            "OPERA_L3_DSWx-HLS_T48PXU_20241001T031531Z_20241003T030840Z_S2A_30_v1.0_B01_WTR.tif\n",
            "OPERA_L3_DSWx-HLS_T48PXU_20241001T031531Z_20241003T030840Z_S2A_30_v1.0_B02_BWTR.tif\n",
            "OPERA_L3_DSWx-HLS_T48PXU_20241001T031531Z_20241003T030840Z_S2A_30_v1.0_B03_CONF.tif\n",
            "OPERA_L3_DSWx-HLS_T48PXU_20241001T031531Z_20241003T030840Z_S2A_30_v1.0_B04_DIAG.tif\n",
            "OPERA_L3_DSWx-HLS_T48PXU_20241001T031531Z_20241003T030840Z_S2A_30_v1.0_B05_WTR-1.tif\n",
            "OPERA_L3_DSWx-HLS_T48PXU_20241001T031531Z_20241003T030840Z_S2A_30_v1.0_B06_WTR-2.tif\n",
            "OPERA_L3_DSWx-HLS_T48PXU_20241001T031531Z_20241003T030840Z_S2A_30_v1.0_B07_LAND.tif\n",
            "OPERA_L3_DSWx-HLS_T48PXU_20241001T031531Z_20241003T030840Z_S2A_30_v1.0_B08_SHAD.tif\n",
            "OPERA_L3_DSWx-HLS_T48PXU_20241001T031531Z_20241003T030840Z_S2A_30_v1.0_B09_CLOUD.tif\n",
            "OPERA_L3_DSWx-HLS_T48PXU_20241001T031531Z_20241003T030840Z_S2A_30_v1.0_B10_DEM.tif\n",
            "OPERA_L3_DSWx-HLS_T48PXV_20241001T031531Z_20241003T030852Z_S2A_30_v1.0_B01_WTR.tif\n",
            "OPERA_L3_DSWx-HLS_T48PXV_20241001T031531Z_20241003T030852Z_S2A_30_v1.0_B02_BWTR.tif\n",
            "OPERA_L3_DSWx-HLS_T48PXV_20241001T031531Z_20241003T030852Z_S2A_30_v1.0_B03_CONF.tif\n",
            "OPERA_L3_DSWx-HLS_T48PXV_20241001T031531Z_20241003T030852Z_S2A_30_v1.0_B04_DIAG.tif\n",
            "OPERA_L3_DSWx-HLS_T48PXV_20241001T031531Z_20241003T030852Z_S2A_30_v1.0_B05_WTR-1.tif\n",
            "OPERA_L3_DSWx-HLS_T48PXV_20241001T031531Z_20241003T030852Z_S2A_30_v1.0_B06_WTR-2.tif\n",
            "OPERA_L3_DSWx-HLS_T48PXV_20241001T031531Z_20241003T030852Z_S2A_30_v1.0_B07_LAND.tif\n",
            "OPERA_L3_DSWx-HLS_T48PXV_20241001T031531Z_20241003T030852Z_S2A_30_v1.0_B08_SHAD.tif\n",
            "OPERA_L3_DSWx-HLS_T48PXV_20241001T031531Z_20241003T030852Z_S2A_30_v1.0_B09_CLOUD.tif\n",
            "OPERA_L3_DSWx-HLS_T48PXV_20241001T031531Z_20241003T030852Z_S2A_30_v1.0_B10_DEM.tif\n",
            "OPERA_L3_DSWx-HLS_T48PYA_20241001T031531Z_20241003T030854Z_S2A_30_v1.0_B01_WTR.tif\n",
            "OPERA_L3_DSWx-HLS_T48PYA_20241001T031531Z_20241003T030854Z_S2A_30_v1.0_B02_BWTR.tif\n",
            "OPERA_L3_DSWx-HLS_T48PYA_20241001T031531Z_20241003T030854Z_S2A_30_v1.0_B03_CONF.tif\n",
            "OPERA_L3_DSWx-HLS_T48PYA_20241001T031531Z_20241003T030854Z_S2A_30_v1.0_B04_DIAG.tif\n",
            "OPERA_L3_DSWx-HLS_T48PYA_20241001T031531Z_20241003T030854Z_S2A_30_v1.0_B05_WTR-1.tif\n",
            "OPERA_L3_DSWx-HLS_T48PYA_20241001T031531Z_20241003T030854Z_S2A_30_v1.0_B06_WTR-2.tif\n",
            "OPERA_L3_DSWx-HLS_T48PYA_20241001T031531Z_20241003T030854Z_S2A_30_v1.0_B07_LAND.tif\n",
            "OPERA_L3_DSWx-HLS_T48PYA_20241001T031531Z_20241003T030854Z_S2A_30_v1.0_B08_SHAD.tif\n",
            "OPERA_L3_DSWx-HLS_T48PYA_20241001T031531Z_20241003T030854Z_S2A_30_v1.0_B09_CLOUD.tif\n",
            "OPERA_L3_DSWx-HLS_T48PYA_20241001T031531Z_20241003T030854Z_S2A_30_v1.0_B10_DEM.tif\n",
            "OPERA_L3_DSWx-HLS_T48PYT_20241001T031531Z_20241003T013535Z_S2A_30_v1.0_B01_WTR.tif\n",
            "OPERA_L3_DSWx-HLS_T48PYT_20241001T031531Z_20241003T013535Z_S2A_30_v1.0_B02_BWTR.tif\n",
            "OPERA_L3_DSWx-HLS_T48PYT_20241001T031531Z_20241003T013535Z_S2A_30_v1.0_B03_CONF.tif\n",
            "OPERA_L3_DSWx-HLS_T48PYT_20241001T031531Z_20241003T013535Z_S2A_30_v1.0_B04_DIAG.tif\n",
            "OPERA_L3_DSWx-HLS_T48PYT_20241001T031531Z_20241003T013535Z_S2A_30_v1.0_B05_WTR-1.tif\n",
            "OPERA_L3_DSWx-HLS_T48PYT_20241001T031531Z_20241003T013535Z_S2A_30_v1.0_B06_WTR-2.tif\n",
            "OPERA_L3_DSWx-HLS_T48PYT_20241001T031531Z_20241003T013535Z_S2A_30_v1.0_B07_LAND.tif\n",
            "OPERA_L3_DSWx-HLS_T48PYT_20241001T031531Z_20241003T013535Z_S2A_30_v1.0_B08_SHAD.tif\n",
            "OPERA_L3_DSWx-HLS_T48PYT_20241001T031531Z_20241003T013535Z_S2A_30_v1.0_B09_CLOUD.tif\n",
            "OPERA_L3_DSWx-HLS_T48PYT_20241001T031531Z_20241003T013535Z_S2A_30_v1.0_B10_DEM.tif\n",
            "OPERA_L3_DSWx-HLS_T48PYU_20241001T031531Z_20241003T030841Z_S2A_30_v1.0_B01_WTR.tif\n",
            "OPERA_L3_DSWx-HLS_T48PYU_20241001T031531Z_20241003T030841Z_S2A_30_v1.0_B02_BWTR.tif\n",
            "OPERA_L3_DSWx-HLS_T48PYU_20241001T031531Z_20241003T030841Z_S2A_30_v1.0_B03_CONF.tif\n",
            "OPERA_L3_DSWx-HLS_T48PYU_20241001T031531Z_20241003T030841Z_S2A_30_v1.0_B04_DIAG.tif\n",
            "OPERA_L3_DSWx-HLS_T48PYU_20241001T031531Z_20241003T030841Z_S2A_30_v1.0_B05_WTR-1.tif\n",
            "OPERA_L3_DSWx-HLS_T48PYU_20241001T031531Z_20241003T030841Z_S2A_30_v1.0_B06_WTR-2.tif\n",
            "OPERA_L3_DSWx-HLS_T48PYU_20241001T031531Z_20241003T030841Z_S2A_30_v1.0_B07_LAND.tif\n",
            "OPERA_L3_DSWx-HLS_T48PYU_20241001T031531Z_20241003T030841Z_S2A_30_v1.0_B08_SHAD.tif\n",
            "OPERA_L3_DSWx-HLS_T48PYU_20241001T031531Z_20241003T030841Z_S2A_30_v1.0_B09_CLOUD.tif\n",
            "OPERA_L3_DSWx-HLS_T48PYU_20241001T031531Z_20241003T030841Z_S2A_30_v1.0_B10_DEM.tif\n",
            "OPERA_L3_DSWx-HLS_T48PYV_20241001T031531Z_20241003T030841Z_S2A_30_v1.0_B01_WTR.tif\n",
            "OPERA_L3_DSWx-HLS_T48PYV_20241001T031531Z_20241003T030841Z_S2A_30_v1.0_B02_BWTR.tif\n",
            "OPERA_L3_DSWx-HLS_T48PYV_20241001T031531Z_20241003T030841Z_S2A_30_v1.0_B03_CONF.tif\n",
            "OPERA_L3_DSWx-HLS_T48PYV_20241001T031531Z_20241003T030841Z_S2A_30_v1.0_B04_DIAG.tif\n",
            "OPERA_L3_DSWx-HLS_T48PYV_20241001T031531Z_20241003T030841Z_S2A_30_v1.0_B05_WTR-1.tif\n",
            "OPERA_L3_DSWx-HLS_T48PYV_20241001T031531Z_20241003T030841Z_S2A_30_v1.0_B06_WTR-2.tif\n",
            "OPERA_L3_DSWx-HLS_T48PYV_20241001T031531Z_20241003T030841Z_S2A_30_v1.0_B07_LAND.tif\n",
            "OPERA_L3_DSWx-HLS_T48PYV_20241001T031531Z_20241003T030841Z_S2A_30_v1.0_B08_SHAD.tif\n",
            "OPERA_L3_DSWx-HLS_T48PYV_20241001T031531Z_20241003T030841Z_S2A_30_v1.0_B09_CLOUD.tif\n",
            "OPERA_L3_DSWx-HLS_T48PYV_20241001T031531Z_20241003T030841Z_S2A_30_v1.0_B10_DEM.tif\n"
          ]
        }
      ]
    },
    {
      "cell_type": "markdown",
      "source": [
        "We want to extract only the files that end in \"B02_BWTR.tif\", as these are the binary water maps for each string. We can make a list of just these scenes using the glob method"
      ],
      "metadata": {
        "id": "rRcBpfgNAGAx"
      }
    },
    {
      "cell_type": "code",
      "source": [
        "# Note that the 'S2A portion of the string below may need to change depending on if the HLS image is derived from a Sentinel-2 image or a Landsat-8 image'\n",
        "dswxhls_list = glob.glob(\"OPERA_L3_DSWx-HLS*B01*.tif\")"
      ],
      "metadata": {
        "id": "z964cc0PGnMq",
        "colab": {
          "base_uri": "https://localhost:8080/",
          "height": 17
        },
        "outputId": "f90238f1-26cf-4c78-a641-4ae550f776aa"
      },
      "execution_count": null,
      "outputs": [
        {
          "output_type": "display_data",
          "data": {
            "text/plain": [
              "<IPython.core.display.HTML object>"
            ],
            "text/html": [
              "\n",
              "            <style>\n",
              "                .geemap-dark {\n",
              "                    --jp-widgets-color: white;\n",
              "                    --jp-widgets-label-color: white;\n",
              "                    --jp-ui-font-color1: white;\n",
              "                    --jp-layout-color2: #454545;\n",
              "                    background-color: #383838;\n",
              "                }\n",
              "\n",
              "                .geemap-dark .jupyter-button {\n",
              "                    --jp-layout-color3: #383838;\n",
              "                }\n",
              "\n",
              "                .geemap-colab {\n",
              "                    background-color: var(--colab-primary-surface-color, white);\n",
              "                }\n",
              "\n",
              "                .geemap-colab .jupyter-button {\n",
              "                    --jp-layout-color3: var(--colab-primary-surface-color, white);\n",
              "                }\n",
              "            </style>\n",
              "            "
            ]
          },
          "metadata": {}
        }
      ]
    },
    {
      "cell_type": "code",
      "source": [
        "pwd"
      ],
      "metadata": {
        "colab": {
          "base_uri": "https://localhost:8080/",
          "height": 36
        },
        "id": "1LM1O4n7sg4-",
        "outputId": "829ada9f-3a67-47c6-d1d6-2b804ffa2839"
      },
      "execution_count": null,
      "outputs": [
        {
          "output_type": "display_data",
          "data": {
            "text/plain": [
              "<IPython.core.display.HTML object>"
            ],
            "text/html": [
              "\n",
              "            <style>\n",
              "                .geemap-dark {\n",
              "                    --jp-widgets-color: white;\n",
              "                    --jp-widgets-label-color: white;\n",
              "                    --jp-ui-font-color1: white;\n",
              "                    --jp-layout-color2: #454545;\n",
              "                    background-color: #383838;\n",
              "                }\n",
              "\n",
              "                .geemap-dark .jupyter-button {\n",
              "                    --jp-layout-color3: #383838;\n",
              "                }\n",
              "\n",
              "                .geemap-colab {\n",
              "                    background-color: var(--colab-primary-surface-color, white);\n",
              "                }\n",
              "\n",
              "                .geemap-colab .jupyter-button {\n",
              "                    --jp-layout-color3: var(--colab-primary-surface-color, white);\n",
              "                }\n",
              "            </style>\n",
              "            "
            ]
          },
          "metadata": {}
        },
        {
          "output_type": "execute_result",
          "data": {
            "text/plain": [
              "'/content/drive/MyDrive/Flood_Intercomparison/Case_Studies/aug/aug_cambodia_20241001/dswx_hls'"
            ],
            "application/vnd.google.colaboratory.intrinsic+json": {
              "type": "string"
            }
          },
          "metadata": {},
          "execution_count": 31
        }
      ]
    },
    {
      "cell_type": "code",
      "source": [
        "ls"
      ],
      "metadata": {
        "colab": {
          "base_uri": "https://localhost:8080/",
          "height": 1000
        },
        "id": "ZkH0o--Zs3Xp",
        "outputId": "c8814c59-c9e8-44a2-8f11-19d1fe1f0bb7"
      },
      "execution_count": null,
      "outputs": [
        {
          "output_type": "display_data",
          "data": {
            "text/plain": [
              "<IPython.core.display.HTML object>"
            ],
            "text/html": [
              "\n",
              "            <style>\n",
              "                .geemap-dark {\n",
              "                    --jp-widgets-color: white;\n",
              "                    --jp-widgets-label-color: white;\n",
              "                    --jp-ui-font-color1: white;\n",
              "                    --jp-layout-color2: #454545;\n",
              "                    background-color: #383838;\n",
              "                }\n",
              "\n",
              "                .geemap-dark .jupyter-button {\n",
              "                    --jp-layout-color3: #383838;\n",
              "                }\n",
              "\n",
              "                .geemap-colab {\n",
              "                    background-color: var(--colab-primary-surface-color, white);\n",
              "                }\n",
              "\n",
              "                .geemap-colab .jupyter-button {\n",
              "                    --jp-layout-color3: var(--colab-primary-surface-color, white);\n",
              "                }\n",
              "            </style>\n",
              "            "
            ]
          },
          "metadata": {}
        },
        {
          "output_type": "stream",
          "name": "stdout",
          "text": [
            "OPERA_L3_DSWx-HLS_T48PVR_20241001T031531Z_20241003T030835Z_S2A_30_v1.0_B01_WTR.tif\n",
            "OPERA_L3_DSWx-HLS_T48PVR_20241001T031531Z_20241003T030835Z_S2A_30_v1.0_B02_BWTR.tif\n",
            "OPERA_L3_DSWx-HLS_T48PVR_20241001T031531Z_20241003T030835Z_S2A_30_v1.0_B03_CONF.tif\n",
            "OPERA_L3_DSWx-HLS_T48PVR_20241001T031531Z_20241003T030835Z_S2A_30_v1.0_B04_DIAG.tif\n",
            "OPERA_L3_DSWx-HLS_T48PVR_20241001T031531Z_20241003T030835Z_S2A_30_v1.0_B05_WTR-1.tif\n",
            "OPERA_L3_DSWx-HLS_T48PVR_20241001T031531Z_20241003T030835Z_S2A_30_v1.0_B06_WTR-2.tif\n",
            "OPERA_L3_DSWx-HLS_T48PVR_20241001T031531Z_20241003T030835Z_S2A_30_v1.0_B07_LAND.tif\n",
            "OPERA_L3_DSWx-HLS_T48PVR_20241001T031531Z_20241003T030835Z_S2A_30_v1.0_B08_SHAD.tif\n",
            "OPERA_L3_DSWx-HLS_T48PVR_20241001T031531Z_20241003T030835Z_S2A_30_v1.0_B09_CLOUD.tif\n",
            "OPERA_L3_DSWx-HLS_T48PVR_20241001T031531Z_20241003T030835Z_S2A_30_v1.0_B10_DEM.tif\n",
            "OPERA_L3_DSWx-HLS_T48PVS_20241001T031531Z_20241003T013539Z_S2A_30_v1.0_B01_WTR.tif\n",
            "OPERA_L3_DSWx-HLS_T48PVS_20241001T031531Z_20241003T013539Z_S2A_30_v1.0_B02_BWTR.tif\n",
            "OPERA_L3_DSWx-HLS_T48PVS_20241001T031531Z_20241003T013539Z_S2A_30_v1.0_B03_CONF.tif\n",
            "OPERA_L3_DSWx-HLS_T48PVS_20241001T031531Z_20241003T013539Z_S2A_30_v1.0_B04_DIAG.tif\n",
            "OPERA_L3_DSWx-HLS_T48PVS_20241001T031531Z_20241003T013539Z_S2A_30_v1.0_B05_WTR-1.tif\n",
            "OPERA_L3_DSWx-HLS_T48PVS_20241001T031531Z_20241003T013539Z_S2A_30_v1.0_B06_WTR-2.tif\n",
            "OPERA_L3_DSWx-HLS_T48PVS_20241001T031531Z_20241003T013539Z_S2A_30_v1.0_B07_LAND.tif\n",
            "OPERA_L3_DSWx-HLS_T48PVS_20241001T031531Z_20241003T013539Z_S2A_30_v1.0_B08_SHAD.tif\n",
            "OPERA_L3_DSWx-HLS_T48PVS_20241001T031531Z_20241003T013539Z_S2A_30_v1.0_B09_CLOUD.tif\n",
            "OPERA_L3_DSWx-HLS_T48PVS_20241001T031531Z_20241003T013539Z_S2A_30_v1.0_B10_DEM.tif\n",
            "OPERA_L3_DSWx-HLS_T48PVS_20241001T031531Z_20241003T040113Z_S2A_30_v1.0_B01_WTR.tif\n",
            "OPERA_L3_DSWx-HLS_T48PVS_20241001T031531Z_20241003T040113Z_S2A_30_v1.0_B02_BWTR.tif\n",
            "OPERA_L3_DSWx-HLS_T48PVS_20241001T031531Z_20241003T040113Z_S2A_30_v1.0_B03_CONF.tif\n",
            "OPERA_L3_DSWx-HLS_T48PVS_20241001T031531Z_20241003T040113Z_S2A_30_v1.0_B04_DIAG.tif\n",
            "OPERA_L3_DSWx-HLS_T48PVS_20241001T031531Z_20241003T040113Z_S2A_30_v1.0_B05_WTR-1.tif\n",
            "OPERA_L3_DSWx-HLS_T48PVS_20241001T031531Z_20241003T040113Z_S2A_30_v1.0_B06_WTR-2.tif\n",
            "OPERA_L3_DSWx-HLS_T48PVS_20241001T031531Z_20241003T040113Z_S2A_30_v1.0_B07_LAND.tif\n",
            "OPERA_L3_DSWx-HLS_T48PVS_20241001T031531Z_20241003T040113Z_S2A_30_v1.0_B08_SHAD.tif\n",
            "OPERA_L3_DSWx-HLS_T48PVS_20241001T031531Z_20241003T040113Z_S2A_30_v1.0_B09_CLOUD.tif\n",
            "OPERA_L3_DSWx-HLS_T48PVS_20241001T031531Z_20241003T040113Z_S2A_30_v1.0_B10_DEM.tif\n",
            "OPERA_L3_DSWx-HLS_T48PVT_20241001T031531Z_20241003T030837Z_S2A_30_v1.0_B01_WTR.tif\n",
            "OPERA_L3_DSWx-HLS_T48PVT_20241001T031531Z_20241003T030837Z_S2A_30_v1.0_B02_BWTR.tif\n",
            "OPERA_L3_DSWx-HLS_T48PVT_20241001T031531Z_20241003T030837Z_S2A_30_v1.0_B03_CONF.tif\n",
            "OPERA_L3_DSWx-HLS_T48PVT_20241001T031531Z_20241003T030837Z_S2A_30_v1.0_B04_DIAG.tif\n",
            "OPERA_L3_DSWx-HLS_T48PVT_20241001T031531Z_20241003T030837Z_S2A_30_v1.0_B05_WTR-1.tif\n",
            "OPERA_L3_DSWx-HLS_T48PVT_20241001T031531Z_20241003T030837Z_S2A_30_v1.0_B06_WTR-2.tif\n",
            "OPERA_L3_DSWx-HLS_T48PVT_20241001T031531Z_20241003T030837Z_S2A_30_v1.0_B07_LAND.tif\n",
            "OPERA_L3_DSWx-HLS_T48PVT_20241001T031531Z_20241003T030837Z_S2A_30_v1.0_B08_SHAD.tif\n",
            "OPERA_L3_DSWx-HLS_T48PVT_20241001T031531Z_20241003T030837Z_S2A_30_v1.0_B09_CLOUD.tif\n",
            "OPERA_L3_DSWx-HLS_T48PVT_20241001T031531Z_20241003T030837Z_S2A_30_v1.0_B10_DEM.tif\n",
            "OPERA_L3_DSWx-HLS_T48PVU_20241001T031531Z_20241003T030843Z_S2A_30_v1.0_B01_WTR.tif\n",
            "OPERA_L3_DSWx-HLS_T48PVU_20241001T031531Z_20241003T030843Z_S2A_30_v1.0_B02_BWTR.tif\n",
            "OPERA_L3_DSWx-HLS_T48PVU_20241001T031531Z_20241003T030843Z_S2A_30_v1.0_B03_CONF.tif\n",
            "OPERA_L3_DSWx-HLS_T48PVU_20241001T031531Z_20241003T030843Z_S2A_30_v1.0_B04_DIAG.tif\n",
            "OPERA_L3_DSWx-HLS_T48PVU_20241001T031531Z_20241003T030843Z_S2A_30_v1.0_B05_WTR-1.tif\n",
            "OPERA_L3_DSWx-HLS_T48PVU_20241001T031531Z_20241003T030843Z_S2A_30_v1.0_B06_WTR-2.tif\n",
            "OPERA_L3_DSWx-HLS_T48PVU_20241001T031531Z_20241003T030843Z_S2A_30_v1.0_B07_LAND.tif\n",
            "OPERA_L3_DSWx-HLS_T48PVU_20241001T031531Z_20241003T030843Z_S2A_30_v1.0_B08_SHAD.tif\n",
            "OPERA_L3_DSWx-HLS_T48PVU_20241001T031531Z_20241003T030843Z_S2A_30_v1.0_B09_CLOUD.tif\n",
            "OPERA_L3_DSWx-HLS_T48PVU_20241001T031531Z_20241003T030843Z_S2A_30_v1.0_B10_DEM.tif\n",
            "OPERA_L3_DSWx-HLS_T48PVV_20241001T031531Z_20241003T030841Z_S2A_30_v1.0_B01_WTR.tif\n",
            "OPERA_L3_DSWx-HLS_T48PVV_20241001T031531Z_20241003T030841Z_S2A_30_v1.0_B02_BWTR.tif\n",
            "OPERA_L3_DSWx-HLS_T48PVV_20241001T031531Z_20241003T030841Z_S2A_30_v1.0_B03_CONF.tif\n",
            "OPERA_L3_DSWx-HLS_T48PVV_20241001T031531Z_20241003T030841Z_S2A_30_v1.0_B04_DIAG.tif\n",
            "OPERA_L3_DSWx-HLS_T48PVV_20241001T031531Z_20241003T030841Z_S2A_30_v1.0_B05_WTR-1.tif\n",
            "OPERA_L3_DSWx-HLS_T48PVV_20241001T031531Z_20241003T030841Z_S2A_30_v1.0_B06_WTR-2.tif\n",
            "OPERA_L3_DSWx-HLS_T48PVV_20241001T031531Z_20241003T030841Z_S2A_30_v1.0_B07_LAND.tif\n",
            "OPERA_L3_DSWx-HLS_T48PVV_20241001T031531Z_20241003T030841Z_S2A_30_v1.0_B08_SHAD.tif\n",
            "OPERA_L3_DSWx-HLS_T48PVV_20241001T031531Z_20241003T030841Z_S2A_30_v1.0_B09_CLOUD.tif\n",
            "OPERA_L3_DSWx-HLS_T48PVV_20241001T031531Z_20241003T030841Z_S2A_30_v1.0_B10_DEM.tif\n",
            "OPERA_L3_DSWx-HLS_T48PWA_20241001T031531Z_20241003T030845Z_S2A_30_v1.0_B01_WTR.tif\n",
            "OPERA_L3_DSWx-HLS_T48PWA_20241001T031531Z_20241003T030845Z_S2A_30_v1.0_B02_BWTR.tif\n",
            "OPERA_L3_DSWx-HLS_T48PWA_20241001T031531Z_20241003T030845Z_S2A_30_v1.0_B03_CONF.tif\n",
            "OPERA_L3_DSWx-HLS_T48PWA_20241001T031531Z_20241003T030845Z_S2A_30_v1.0_B04_DIAG.tif\n",
            "OPERA_L3_DSWx-HLS_T48PWA_20241001T031531Z_20241003T030845Z_S2A_30_v1.0_B05_WTR-1.tif\n",
            "OPERA_L3_DSWx-HLS_T48PWA_20241001T031531Z_20241003T030845Z_S2A_30_v1.0_B06_WTR-2.tif\n",
            "OPERA_L3_DSWx-HLS_T48PWA_20241001T031531Z_20241003T030845Z_S2A_30_v1.0_B07_LAND.tif\n",
            "OPERA_L3_DSWx-HLS_T48PWA_20241001T031531Z_20241003T030845Z_S2A_30_v1.0_B08_SHAD.tif\n",
            "OPERA_L3_DSWx-HLS_T48PWA_20241001T031531Z_20241003T030845Z_S2A_30_v1.0_B09_CLOUD.tif\n",
            "OPERA_L3_DSWx-HLS_T48PWA_20241001T031531Z_20241003T030845Z_S2A_30_v1.0_B10_DEM.tif\n",
            "OPERA_L3_DSWx-HLS_T48PWR_20241001T031531Z_20241003T030847Z_S2A_30_v1.0_B01_WTR.tif\n",
            "OPERA_L3_DSWx-HLS_T48PWR_20241001T031531Z_20241003T030847Z_S2A_30_v1.0_B02_BWTR.tif\n",
            "OPERA_L3_DSWx-HLS_T48PWR_20241001T031531Z_20241003T030847Z_S2A_30_v1.0_B03_CONF.tif\n",
            "OPERA_L3_DSWx-HLS_T48PWR_20241001T031531Z_20241003T030847Z_S2A_30_v1.0_B04_DIAG.tif\n",
            "OPERA_L3_DSWx-HLS_T48PWR_20241001T031531Z_20241003T030847Z_S2A_30_v1.0_B05_WTR-1.tif\n",
            "OPERA_L3_DSWx-HLS_T48PWR_20241001T031531Z_20241003T030847Z_S2A_30_v1.0_B06_WTR-2.tif\n",
            "OPERA_L3_DSWx-HLS_T48PWR_20241001T031531Z_20241003T030847Z_S2A_30_v1.0_B07_LAND.tif\n",
            "OPERA_L3_DSWx-HLS_T48PWR_20241001T031531Z_20241003T030847Z_S2A_30_v1.0_B08_SHAD.tif\n",
            "OPERA_L3_DSWx-HLS_T48PWR_20241001T031531Z_20241003T030847Z_S2A_30_v1.0_B09_CLOUD.tif\n",
            "OPERA_L3_DSWx-HLS_T48PWR_20241001T031531Z_20241003T030847Z_S2A_30_v1.0_B10_DEM.tif\n",
            "OPERA_L3_DSWx-HLS_T48PWR_20241001T031531Z_20241003T040124Z_S2A_30_v1.0_B01_WTR.tif\n",
            "OPERA_L3_DSWx-HLS_T48PWR_20241001T031531Z_20241003T040124Z_S2A_30_v1.0_B02_BWTR.tif\n",
            "OPERA_L3_DSWx-HLS_T48PWR_20241001T031531Z_20241003T040124Z_S2A_30_v1.0_B03_CONF.tif\n",
            "OPERA_L3_DSWx-HLS_T48PWR_20241001T031531Z_20241003T040124Z_S2A_30_v1.0_B04_DIAG.tif\n",
            "OPERA_L3_DSWx-HLS_T48PWR_20241001T031531Z_20241003T040124Z_S2A_30_v1.0_B05_WTR-1.tif\n",
            "OPERA_L3_DSWx-HLS_T48PWR_20241001T031531Z_20241003T040124Z_S2A_30_v1.0_B06_WTR-2.tif\n",
            "OPERA_L3_DSWx-HLS_T48PWR_20241001T031531Z_20241003T040124Z_S2A_30_v1.0_B07_LAND.tif\n",
            "OPERA_L3_DSWx-HLS_T48PWR_20241001T031531Z_20241003T040124Z_S2A_30_v1.0_B08_SHAD.tif\n",
            "OPERA_L3_DSWx-HLS_T48PWR_20241001T031531Z_20241003T040124Z_S2A_30_v1.0_B09_CLOUD.tif\n",
            "OPERA_L3_DSWx-HLS_T48PWR_20241001T031531Z_20241003T040124Z_S2A_30_v1.0_B10_DEM.tif\n",
            "OPERA_L3_DSWx-HLS_T48PWS_20241001T031531Z_20241003T040108Z_S2A_30_v1.0_B01_WTR.tif\n",
            "OPERA_L3_DSWx-HLS_T48PWS_20241001T031531Z_20241003T040108Z_S2A_30_v1.0_B02_BWTR.tif\n",
            "OPERA_L3_DSWx-HLS_T48PWS_20241001T031531Z_20241003T040108Z_S2A_30_v1.0_B03_CONF.tif\n",
            "OPERA_L3_DSWx-HLS_T48PWS_20241001T031531Z_20241003T040108Z_S2A_30_v1.0_B04_DIAG.tif\n",
            "OPERA_L3_DSWx-HLS_T48PWS_20241001T031531Z_20241003T040108Z_S2A_30_v1.0_B05_WTR-1.tif\n",
            "OPERA_L3_DSWx-HLS_T48PWS_20241001T031531Z_20241003T040108Z_S2A_30_v1.0_B06_WTR-2.tif\n",
            "OPERA_L3_DSWx-HLS_T48PWS_20241001T031531Z_20241003T040108Z_S2A_30_v1.0_B07_LAND.tif\n",
            "OPERA_L3_DSWx-HLS_T48PWS_20241001T031531Z_20241003T040108Z_S2A_30_v1.0_B08_SHAD.tif\n",
            "OPERA_L3_DSWx-HLS_T48PWS_20241001T031531Z_20241003T040108Z_S2A_30_v1.0_B09_CLOUD.tif\n",
            "OPERA_L3_DSWx-HLS_T48PWS_20241001T031531Z_20241003T040108Z_S2A_30_v1.0_B10_DEM.tif\n",
            "OPERA_L3_DSWx-HLS_T48PWS_20241001T031531Z_20241003T072148Z_S2A_30_v1.0_B01_WTR.tif\n",
            "OPERA_L3_DSWx-HLS_T48PWS_20241001T031531Z_20241003T072148Z_S2A_30_v1.0_B02_BWTR.tif\n",
            "OPERA_L3_DSWx-HLS_T48PWS_20241001T031531Z_20241003T072148Z_S2A_30_v1.0_B03_CONF.tif\n",
            "OPERA_L3_DSWx-HLS_T48PWS_20241001T031531Z_20241003T072148Z_S2A_30_v1.0_B04_DIAG.tif\n",
            "OPERA_L3_DSWx-HLS_T48PWS_20241001T031531Z_20241003T072148Z_S2A_30_v1.0_B05_WTR-1.tif\n",
            "OPERA_L3_DSWx-HLS_T48PWS_20241001T031531Z_20241003T072148Z_S2A_30_v1.0_B06_WTR-2.tif\n",
            "OPERA_L3_DSWx-HLS_T48PWS_20241001T031531Z_20241003T072148Z_S2A_30_v1.0_B07_LAND.tif\n",
            "OPERA_L3_DSWx-HLS_T48PWS_20241001T031531Z_20241003T072148Z_S2A_30_v1.0_B08_SHAD.tif\n",
            "OPERA_L3_DSWx-HLS_T48PWS_20241001T031531Z_20241003T072148Z_S2A_30_v1.0_B09_CLOUD.tif\n",
            "OPERA_L3_DSWx-HLS_T48PWS_20241001T031531Z_20241003T072148Z_S2A_30_v1.0_B10_DEM.tif\n",
            "OPERA_L3_DSWx-HLS_T48PWT_20241001T031531Z_20241003T030838Z_S2A_30_v1.0_B01_WTR.tif\n",
            "OPERA_L3_DSWx-HLS_T48PWT_20241001T031531Z_20241003T030838Z_S2A_30_v1.0_B02_BWTR.tif\n",
            "OPERA_L3_DSWx-HLS_T48PWT_20241001T031531Z_20241003T030838Z_S2A_30_v1.0_B03_CONF.tif\n",
            "OPERA_L3_DSWx-HLS_T48PWT_20241001T031531Z_20241003T030838Z_S2A_30_v1.0_B04_DIAG.tif\n",
            "OPERA_L3_DSWx-HLS_T48PWT_20241001T031531Z_20241003T030838Z_S2A_30_v1.0_B05_WTR-1.tif\n",
            "OPERA_L3_DSWx-HLS_T48PWT_20241001T031531Z_20241003T030838Z_S2A_30_v1.0_B06_WTR-2.tif\n",
            "OPERA_L3_DSWx-HLS_T48PWT_20241001T031531Z_20241003T030838Z_S2A_30_v1.0_B07_LAND.tif\n",
            "OPERA_L3_DSWx-HLS_T48PWT_20241001T031531Z_20241003T030838Z_S2A_30_v1.0_B08_SHAD.tif\n",
            "OPERA_L3_DSWx-HLS_T48PWT_20241001T031531Z_20241003T030838Z_S2A_30_v1.0_B09_CLOUD.tif\n",
            "OPERA_L3_DSWx-HLS_T48PWT_20241001T031531Z_20241003T030838Z_S2A_30_v1.0_B10_DEM.tif\n",
            "OPERA_L3_DSWx-HLS_T48PWU_20241001T031531Z_20241003T030843Z_S2A_30_v1.0_B01_WTR.tif\n",
            "OPERA_L3_DSWx-HLS_T48PWU_20241001T031531Z_20241003T030843Z_S2A_30_v1.0_B02_BWTR.tif\n",
            "OPERA_L3_DSWx-HLS_T48PWU_20241001T031531Z_20241003T030843Z_S2A_30_v1.0_B03_CONF.tif\n",
            "OPERA_L3_DSWx-HLS_T48PWU_20241001T031531Z_20241003T030843Z_S2A_30_v1.0_B04_DIAG.tif\n",
            "OPERA_L3_DSWx-HLS_T48PWU_20241001T031531Z_20241003T030843Z_S2A_30_v1.0_B05_WTR-1.tif\n",
            "OPERA_L3_DSWx-HLS_T48PWU_20241001T031531Z_20241003T030843Z_S2A_30_v1.0_B06_WTR-2.tif\n",
            "OPERA_L3_DSWx-HLS_T48PWU_20241001T031531Z_20241003T030843Z_S2A_30_v1.0_B07_LAND.tif\n",
            "OPERA_L3_DSWx-HLS_T48PWU_20241001T031531Z_20241003T030843Z_S2A_30_v1.0_B08_SHAD.tif\n",
            "OPERA_L3_DSWx-HLS_T48PWU_20241001T031531Z_20241003T030843Z_S2A_30_v1.0_B09_CLOUD.tif\n",
            "OPERA_L3_DSWx-HLS_T48PWU_20241001T031531Z_20241003T030843Z_S2A_30_v1.0_B10_DEM.tif\n",
            "OPERA_L3_DSWx-HLS_T48PWV_20241001T031531Z_20241003T030845Z_S2A_30_v1.0_B01_WTR.tif\n",
            "OPERA_L3_DSWx-HLS_T48PWV_20241001T031531Z_20241003T030845Z_S2A_30_v1.0_B02_BWTR.tif\n",
            "OPERA_L3_DSWx-HLS_T48PWV_20241001T031531Z_20241003T030845Z_S2A_30_v1.0_B03_CONF.tif\n",
            "OPERA_L3_DSWx-HLS_T48PWV_20241001T031531Z_20241003T030845Z_S2A_30_v1.0_B04_DIAG.tif\n",
            "OPERA_L3_DSWx-HLS_T48PWV_20241001T031531Z_20241003T030845Z_S2A_30_v1.0_B05_WTR-1.tif\n",
            "OPERA_L3_DSWx-HLS_T48PWV_20241001T031531Z_20241003T030845Z_S2A_30_v1.0_B06_WTR-2.tif\n",
            "OPERA_L3_DSWx-HLS_T48PWV_20241001T031531Z_20241003T030845Z_S2A_30_v1.0_B07_LAND.tif\n",
            "OPERA_L3_DSWx-HLS_T48PWV_20241001T031531Z_20241003T030845Z_S2A_30_v1.0_B08_SHAD.tif\n",
            "OPERA_L3_DSWx-HLS_T48PWV_20241001T031531Z_20241003T030845Z_S2A_30_v1.0_B09_CLOUD.tif\n",
            "OPERA_L3_DSWx-HLS_T48PWV_20241001T031531Z_20241003T030845Z_S2A_30_v1.0_B10_DEM.tif\n",
            "OPERA_L3_DSWx-HLS_T48PXA_20241001T031531Z_20241003T030844Z_S2A_30_v1.0_B01_WTR.tif\n",
            "OPERA_L3_DSWx-HLS_T48PXA_20241001T031531Z_20241003T030844Z_S2A_30_v1.0_B02_BWTR.tif\n",
            "OPERA_L3_DSWx-HLS_T48PXA_20241001T031531Z_20241003T030844Z_S2A_30_v1.0_B03_CONF.tif\n",
            "OPERA_L3_DSWx-HLS_T48PXA_20241001T031531Z_20241003T030844Z_S2A_30_v1.0_B04_DIAG.tif\n",
            "OPERA_L3_DSWx-HLS_T48PXA_20241001T031531Z_20241003T030844Z_S2A_30_v1.0_B05_WTR-1.tif\n",
            "OPERA_L3_DSWx-HLS_T48PXA_20241001T031531Z_20241003T030844Z_S2A_30_v1.0_B06_WTR-2.tif\n",
            "OPERA_L3_DSWx-HLS_T48PXA_20241001T031531Z_20241003T030844Z_S2A_30_v1.0_B07_LAND.tif\n",
            "OPERA_L3_DSWx-HLS_T48PXA_20241001T031531Z_20241003T030844Z_S2A_30_v1.0_B08_SHAD.tif\n",
            "OPERA_L3_DSWx-HLS_T48PXA_20241001T031531Z_20241003T030844Z_S2A_30_v1.0_B09_CLOUD.tif\n",
            "OPERA_L3_DSWx-HLS_T48PXA_20241001T031531Z_20241003T030844Z_S2A_30_v1.0_B10_DEM.tif\n",
            "OPERA_L3_DSWx-HLS_T48PXR_20241001T031531Z_20241003T030834Z_S2A_30_v1.0_B01_WTR.tif\n",
            "OPERA_L3_DSWx-HLS_T48PXR_20241001T031531Z_20241003T030834Z_S2A_30_v1.0_B02_BWTR.tif\n",
            "OPERA_L3_DSWx-HLS_T48PXR_20241001T031531Z_20241003T030834Z_S2A_30_v1.0_B03_CONF.tif\n",
            "OPERA_L3_DSWx-HLS_T48PXR_20241001T031531Z_20241003T030834Z_S2A_30_v1.0_B04_DIAG.tif\n",
            "OPERA_L3_DSWx-HLS_T48PXR_20241001T031531Z_20241003T030834Z_S2A_30_v1.0_B05_WTR-1.tif\n",
            "OPERA_L3_DSWx-HLS_T48PXR_20241001T031531Z_20241003T030834Z_S2A_30_v1.0_B06_WTR-2.tif\n",
            "OPERA_L3_DSWx-HLS_T48PXR_20241001T031531Z_20241003T030834Z_S2A_30_v1.0_B07_LAND.tif\n",
            "OPERA_L3_DSWx-HLS_T48PXR_20241001T031531Z_20241003T030834Z_S2A_30_v1.0_B08_SHAD.tif\n",
            "OPERA_L3_DSWx-HLS_T48PXR_20241001T031531Z_20241003T030834Z_S2A_30_v1.0_B09_CLOUD.tif\n",
            "OPERA_L3_DSWx-HLS_T48PXR_20241001T031531Z_20241003T030834Z_S2A_30_v1.0_B10_DEM.tif\n",
            "OPERA_L3_DSWx-HLS_T48PXS_20241001T031531Z_20241003T040116Z_S2A_30_v1.0_B01_WTR.tif\n",
            "OPERA_L3_DSWx-HLS_T48PXS_20241001T031531Z_20241003T040116Z_S2A_30_v1.0_B02_BWTR.tif\n",
            "OPERA_L3_DSWx-HLS_T48PXS_20241001T031531Z_20241003T040116Z_S2A_30_v1.0_B03_CONF.tif\n",
            "OPERA_L3_DSWx-HLS_T48PXS_20241001T031531Z_20241003T040116Z_S2A_30_v1.0_B04_DIAG.tif\n",
            "OPERA_L3_DSWx-HLS_T48PXS_20241001T031531Z_20241003T040116Z_S2A_30_v1.0_B05_WTR-1.tif\n",
            "OPERA_L3_DSWx-HLS_T48PXS_20241001T031531Z_20241003T040116Z_S2A_30_v1.0_B06_WTR-2.tif\n",
            "OPERA_L3_DSWx-HLS_T48PXS_20241001T031531Z_20241003T040116Z_S2A_30_v1.0_B07_LAND.tif\n",
            "OPERA_L3_DSWx-HLS_T48PXS_20241001T031531Z_20241003T040116Z_S2A_30_v1.0_B08_SHAD.tif\n",
            "OPERA_L3_DSWx-HLS_T48PXS_20241001T031531Z_20241003T040116Z_S2A_30_v1.0_B09_CLOUD.tif\n",
            "OPERA_L3_DSWx-HLS_T48PXS_20241001T031531Z_20241003T040116Z_S2A_30_v1.0_B10_DEM.tif\n",
            "OPERA_L3_DSWx-HLS_T48PXT_20241001T031531Z_20241003T030841Z_S2A_30_v1.0_B01_WTR.tif\n",
            "OPERA_L3_DSWx-HLS_T48PXT_20241001T031531Z_20241003T030841Z_S2A_30_v1.0_B02_BWTR.tif\n",
            "OPERA_L3_DSWx-HLS_T48PXT_20241001T031531Z_20241003T030841Z_S2A_30_v1.0_B03_CONF.tif\n",
            "OPERA_L3_DSWx-HLS_T48PXT_20241001T031531Z_20241003T030841Z_S2A_30_v1.0_B04_DIAG.tif\n",
            "OPERA_L3_DSWx-HLS_T48PXT_20241001T031531Z_20241003T030841Z_S2A_30_v1.0_B05_WTR-1.tif\n",
            "OPERA_L3_DSWx-HLS_T48PXT_20241001T031531Z_20241003T030841Z_S2A_30_v1.0_B06_WTR-2.tif\n",
            "OPERA_L3_DSWx-HLS_T48PXT_20241001T031531Z_20241003T030841Z_S2A_30_v1.0_B07_LAND.tif\n",
            "OPERA_L3_DSWx-HLS_T48PXT_20241001T031531Z_20241003T030841Z_S2A_30_v1.0_B08_SHAD.tif\n",
            "OPERA_L3_DSWx-HLS_T48PXT_20241001T031531Z_20241003T030841Z_S2A_30_v1.0_B09_CLOUD.tif\n",
            "OPERA_L3_DSWx-HLS_T48PXT_20241001T031531Z_20241003T030841Z_S2A_30_v1.0_B10_DEM.tif\n",
            "OPERA_L3_DSWx-HLS_T48PXU_20241001T031531Z_20241003T030840Z_S2A_30_v1.0_B01_WTR.tif\n",
            "OPERA_L3_DSWx-HLS_T48PXU_20241001T031531Z_20241003T030840Z_S2A_30_v1.0_B02_BWTR.tif\n",
            "OPERA_L3_DSWx-HLS_T48PXU_20241001T031531Z_20241003T030840Z_S2A_30_v1.0_B03_CONF.tif\n",
            "OPERA_L3_DSWx-HLS_T48PXU_20241001T031531Z_20241003T030840Z_S2A_30_v1.0_B04_DIAG.tif\n",
            "OPERA_L3_DSWx-HLS_T48PXU_20241001T031531Z_20241003T030840Z_S2A_30_v1.0_B05_WTR-1.tif\n",
            "OPERA_L3_DSWx-HLS_T48PXU_20241001T031531Z_20241003T030840Z_S2A_30_v1.0_B06_WTR-2.tif\n",
            "OPERA_L3_DSWx-HLS_T48PXU_20241001T031531Z_20241003T030840Z_S2A_30_v1.0_B07_LAND.tif\n",
            "OPERA_L3_DSWx-HLS_T48PXU_20241001T031531Z_20241003T030840Z_S2A_30_v1.0_B08_SHAD.tif\n",
            "OPERA_L3_DSWx-HLS_T48PXU_20241001T031531Z_20241003T030840Z_S2A_30_v1.0_B09_CLOUD.tif\n",
            "OPERA_L3_DSWx-HLS_T48PXU_20241001T031531Z_20241003T030840Z_S2A_30_v1.0_B10_DEM.tif\n",
            "OPERA_L3_DSWx-HLS_T48PXV_20241001T031531Z_20241003T030852Z_S2A_30_v1.0_B01_WTR.tif\n",
            "OPERA_L3_DSWx-HLS_T48PXV_20241001T031531Z_20241003T030852Z_S2A_30_v1.0_B02_BWTR.tif\n",
            "OPERA_L3_DSWx-HLS_T48PXV_20241001T031531Z_20241003T030852Z_S2A_30_v1.0_B03_CONF.tif\n",
            "OPERA_L3_DSWx-HLS_T48PXV_20241001T031531Z_20241003T030852Z_S2A_30_v1.0_B04_DIAG.tif\n",
            "OPERA_L3_DSWx-HLS_T48PXV_20241001T031531Z_20241003T030852Z_S2A_30_v1.0_B05_WTR-1.tif\n",
            "OPERA_L3_DSWx-HLS_T48PXV_20241001T031531Z_20241003T030852Z_S2A_30_v1.0_B06_WTR-2.tif\n",
            "OPERA_L3_DSWx-HLS_T48PXV_20241001T031531Z_20241003T030852Z_S2A_30_v1.0_B07_LAND.tif\n",
            "OPERA_L3_DSWx-HLS_T48PXV_20241001T031531Z_20241003T030852Z_S2A_30_v1.0_B08_SHAD.tif\n",
            "OPERA_L3_DSWx-HLS_T48PXV_20241001T031531Z_20241003T030852Z_S2A_30_v1.0_B09_CLOUD.tif\n",
            "OPERA_L3_DSWx-HLS_T48PXV_20241001T031531Z_20241003T030852Z_S2A_30_v1.0_B10_DEM.tif\n",
            "OPERA_L3_DSWx-HLS_T48PYA_20241001T031531Z_20241003T030854Z_S2A_30_v1.0_B01_WTR.tif\n",
            "OPERA_L3_DSWx-HLS_T48PYA_20241001T031531Z_20241003T030854Z_S2A_30_v1.0_B02_BWTR.tif\n",
            "OPERA_L3_DSWx-HLS_T48PYA_20241001T031531Z_20241003T030854Z_S2A_30_v1.0_B03_CONF.tif\n",
            "OPERA_L3_DSWx-HLS_T48PYA_20241001T031531Z_20241003T030854Z_S2A_30_v1.0_B04_DIAG.tif\n",
            "OPERA_L3_DSWx-HLS_T48PYA_20241001T031531Z_20241003T030854Z_S2A_30_v1.0_B05_WTR-1.tif\n",
            "OPERA_L3_DSWx-HLS_T48PYA_20241001T031531Z_20241003T030854Z_S2A_30_v1.0_B06_WTR-2.tif\n",
            "OPERA_L3_DSWx-HLS_T48PYA_20241001T031531Z_20241003T030854Z_S2A_30_v1.0_B07_LAND.tif\n",
            "OPERA_L3_DSWx-HLS_T48PYA_20241001T031531Z_20241003T030854Z_S2A_30_v1.0_B08_SHAD.tif\n",
            "OPERA_L3_DSWx-HLS_T48PYA_20241001T031531Z_20241003T030854Z_S2A_30_v1.0_B09_CLOUD.tif\n",
            "OPERA_L3_DSWx-HLS_T48PYA_20241001T031531Z_20241003T030854Z_S2A_30_v1.0_B10_DEM.tif\n",
            "OPERA_L3_DSWx-HLS_T48PYT_20241001T031531Z_20241003T013535Z_S2A_30_v1.0_B01_WTR.tif\n",
            "OPERA_L3_DSWx-HLS_T48PYT_20241001T031531Z_20241003T013535Z_S2A_30_v1.0_B02_BWTR.tif\n",
            "OPERA_L3_DSWx-HLS_T48PYT_20241001T031531Z_20241003T013535Z_S2A_30_v1.0_B03_CONF.tif\n",
            "OPERA_L3_DSWx-HLS_T48PYT_20241001T031531Z_20241003T013535Z_S2A_30_v1.0_B04_DIAG.tif\n",
            "OPERA_L3_DSWx-HLS_T48PYT_20241001T031531Z_20241003T013535Z_S2A_30_v1.0_B05_WTR-1.tif\n",
            "OPERA_L3_DSWx-HLS_T48PYT_20241001T031531Z_20241003T013535Z_S2A_30_v1.0_B06_WTR-2.tif\n",
            "OPERA_L3_DSWx-HLS_T48PYT_20241001T031531Z_20241003T013535Z_S2A_30_v1.0_B07_LAND.tif\n",
            "OPERA_L3_DSWx-HLS_T48PYT_20241001T031531Z_20241003T013535Z_S2A_30_v1.0_B08_SHAD.tif\n",
            "OPERA_L3_DSWx-HLS_T48PYT_20241001T031531Z_20241003T013535Z_S2A_30_v1.0_B09_CLOUD.tif\n",
            "OPERA_L3_DSWx-HLS_T48PYT_20241001T031531Z_20241003T013535Z_S2A_30_v1.0_B10_DEM.tif\n",
            "OPERA_L3_DSWx-HLS_T48PYU_20241001T031531Z_20241003T030841Z_S2A_30_v1.0_B01_WTR.tif\n",
            "OPERA_L3_DSWx-HLS_T48PYU_20241001T031531Z_20241003T030841Z_S2A_30_v1.0_B02_BWTR.tif\n",
            "OPERA_L3_DSWx-HLS_T48PYU_20241001T031531Z_20241003T030841Z_S2A_30_v1.0_B03_CONF.tif\n",
            "OPERA_L3_DSWx-HLS_T48PYU_20241001T031531Z_20241003T030841Z_S2A_30_v1.0_B04_DIAG.tif\n",
            "OPERA_L3_DSWx-HLS_T48PYU_20241001T031531Z_20241003T030841Z_S2A_30_v1.0_B05_WTR-1.tif\n",
            "OPERA_L3_DSWx-HLS_T48PYU_20241001T031531Z_20241003T030841Z_S2A_30_v1.0_B06_WTR-2.tif\n",
            "OPERA_L3_DSWx-HLS_T48PYU_20241001T031531Z_20241003T030841Z_S2A_30_v1.0_B07_LAND.tif\n",
            "OPERA_L3_DSWx-HLS_T48PYU_20241001T031531Z_20241003T030841Z_S2A_30_v1.0_B08_SHAD.tif\n",
            "OPERA_L3_DSWx-HLS_T48PYU_20241001T031531Z_20241003T030841Z_S2A_30_v1.0_B09_CLOUD.tif\n",
            "OPERA_L3_DSWx-HLS_T48PYU_20241001T031531Z_20241003T030841Z_S2A_30_v1.0_B10_DEM.tif\n",
            "OPERA_L3_DSWx-HLS_T48PYV_20241001T031531Z_20241003T030841Z_S2A_30_v1.0_B01_WTR.tif\n",
            "OPERA_L3_DSWx-HLS_T48PYV_20241001T031531Z_20241003T030841Z_S2A_30_v1.0_B02_BWTR.tif\n",
            "OPERA_L3_DSWx-HLS_T48PYV_20241001T031531Z_20241003T030841Z_S2A_30_v1.0_B03_CONF.tif\n",
            "OPERA_L3_DSWx-HLS_T48PYV_20241001T031531Z_20241003T030841Z_S2A_30_v1.0_B04_DIAG.tif\n",
            "OPERA_L3_DSWx-HLS_T48PYV_20241001T031531Z_20241003T030841Z_S2A_30_v1.0_B05_WTR-1.tif\n",
            "OPERA_L3_DSWx-HLS_T48PYV_20241001T031531Z_20241003T030841Z_S2A_30_v1.0_B06_WTR-2.tif\n",
            "OPERA_L3_DSWx-HLS_T48PYV_20241001T031531Z_20241003T030841Z_S2A_30_v1.0_B07_LAND.tif\n",
            "OPERA_L3_DSWx-HLS_T48PYV_20241001T031531Z_20241003T030841Z_S2A_30_v1.0_B08_SHAD.tif\n",
            "OPERA_L3_DSWx-HLS_T48PYV_20241001T031531Z_20241003T030841Z_S2A_30_v1.0_B09_CLOUD.tif\n",
            "OPERA_L3_DSWx-HLS_T48PYV_20241001T031531Z_20241003T030841Z_S2A_30_v1.0_B10_DEM.tif\n"
          ]
        }
      ]
    },
    {
      "cell_type": "code",
      "source": [
        "dswxhls_list"
      ],
      "metadata": {
        "id": "Ivmvv1t8LR6b",
        "colab": {
          "base_uri": "https://localhost:8080/",
          "height": 434
        },
        "outputId": "051464b3-a7d1-4de4-e2e8-8aafd25bf905"
      },
      "execution_count": null,
      "outputs": [
        {
          "output_type": "display_data",
          "data": {
            "text/plain": [
              "<IPython.core.display.HTML object>"
            ],
            "text/html": [
              "\n",
              "            <style>\n",
              "                .geemap-dark {\n",
              "                    --jp-widgets-color: white;\n",
              "                    --jp-widgets-label-color: white;\n",
              "                    --jp-ui-font-color1: white;\n",
              "                    --jp-layout-color2: #454545;\n",
              "                    background-color: #383838;\n",
              "                }\n",
              "\n",
              "                .geemap-dark .jupyter-button {\n",
              "                    --jp-layout-color3: #383838;\n",
              "                }\n",
              "\n",
              "                .geemap-colab {\n",
              "                    background-color: var(--colab-primary-surface-color, white);\n",
              "                }\n",
              "\n",
              "                .geemap-colab .jupyter-button {\n",
              "                    --jp-layout-color3: var(--colab-primary-surface-color, white);\n",
              "                }\n",
              "            </style>\n",
              "            "
            ]
          },
          "metadata": {}
        },
        {
          "output_type": "execute_result",
          "data": {
            "text/plain": [
              "['OPERA_L3_DSWx-HLS_T48PYA_20241001T031531Z_20241003T030854Z_S2A_30_v1.0_B01_WTR.tif',\n",
              " 'OPERA_L3_DSWx-HLS_T48PXA_20241001T031531Z_20241003T030844Z_S2A_30_v1.0_B01_WTR.tif',\n",
              " 'OPERA_L3_DSWx-HLS_T48PWA_20241001T031531Z_20241003T030845Z_S2A_30_v1.0_B01_WTR.tif',\n",
              " 'OPERA_L3_DSWx-HLS_T48PYV_20241001T031531Z_20241003T030841Z_S2A_30_v1.0_B01_WTR.tif',\n",
              " 'OPERA_L3_DSWx-HLS_T48PXV_20241001T031531Z_20241003T030852Z_S2A_30_v1.0_B01_WTR.tif',\n",
              " 'OPERA_L3_DSWx-HLS_T48PWV_20241001T031531Z_20241003T030845Z_S2A_30_v1.0_B01_WTR.tif',\n",
              " 'OPERA_L3_DSWx-HLS_T48PVV_20241001T031531Z_20241003T030841Z_S2A_30_v1.0_B01_WTR.tif',\n",
              " 'OPERA_L3_DSWx-HLS_T48PYU_20241001T031531Z_20241003T030841Z_S2A_30_v1.0_B01_WTR.tif',\n",
              " 'OPERA_L3_DSWx-HLS_T48PXU_20241001T031531Z_20241003T030840Z_S2A_30_v1.0_B01_WTR.tif',\n",
              " 'OPERA_L3_DSWx-HLS_T48PWU_20241001T031531Z_20241003T030843Z_S2A_30_v1.0_B01_WTR.tif',\n",
              " 'OPERA_L3_DSWx-HLS_T48PVU_20241001T031531Z_20241003T030843Z_S2A_30_v1.0_B01_WTR.tif',\n",
              " 'OPERA_L3_DSWx-HLS_T48PYT_20241001T031531Z_20241003T013535Z_S2A_30_v1.0_B01_WTR.tif',\n",
              " 'OPERA_L3_DSWx-HLS_T48PXT_20241001T031531Z_20241003T030841Z_S2A_30_v1.0_B01_WTR.tif',\n",
              " 'OPERA_L3_DSWx-HLS_T48PWT_20241001T031531Z_20241003T030838Z_S2A_30_v1.0_B01_WTR.tif',\n",
              " 'OPERA_L3_DSWx-HLS_T48PVT_20241001T031531Z_20241003T030837Z_S2A_30_v1.0_B01_WTR.tif',\n",
              " 'OPERA_L3_DSWx-HLS_T48PXS_20241001T031531Z_20241003T040116Z_S2A_30_v1.0_B01_WTR.tif',\n",
              " 'OPERA_L3_DSWx-HLS_T48PWS_20241001T031531Z_20241003T072148Z_S2A_30_v1.0_B01_WTR.tif',\n",
              " 'OPERA_L3_DSWx-HLS_T48PVS_20241001T031531Z_20241003T040113Z_S2A_30_v1.0_B01_WTR.tif',\n",
              " 'OPERA_L3_DSWx-HLS_T48PWS_20241001T031531Z_20241003T040108Z_S2A_30_v1.0_B01_WTR.tif',\n",
              " 'OPERA_L3_DSWx-HLS_T48PWR_20241001T031531Z_20241003T030847Z_S2A_30_v1.0_B01_WTR.tif',\n",
              " 'OPERA_L3_DSWx-HLS_T48PWR_20241001T031531Z_20241003T040124Z_S2A_30_v1.0_B01_WTR.tif',\n",
              " 'OPERA_L3_DSWx-HLS_T48PVS_20241001T031531Z_20241003T013539Z_S2A_30_v1.0_B01_WTR.tif',\n",
              " 'OPERA_L3_DSWx-HLS_T48PXR_20241001T031531Z_20241003T030834Z_S2A_30_v1.0_B01_WTR.tif',\n",
              " 'OPERA_L3_DSWx-HLS_T48PVR_20241001T031531Z_20241003T030835Z_S2A_30_v1.0_B01_WTR.tif']"
            ]
          },
          "metadata": {},
          "execution_count": 33
        }
      ]
    },
    {
      "cell_type": "code",
      "source": [
        "info = gdal.Info(dswxhls_list[0])                                    # Extract the info from the first file in the list\n",
        "projection_info_index = info.find('EPSG\",32')                        # Find the projection of the file. We know they use the UTM projection which uses the EPSG code 32XXX, where XXX relates to the specific UTM zone\n",
        "theproj = info[projection_info_index:projection_info_index + 12]     # slice the string to extract the substring containing the UTM projection\n",
        "final_proj_string = theproj[0:4] + ':' + theproj[6:11]               # reformat the string into the projection format GDAL requires for us to reproject our imagery/"
      ],
      "metadata": {
        "id": "3Zr4fioG-hce",
        "colab": {
          "base_uri": "https://localhost:8080/",
          "height": 17
        },
        "outputId": "f47e7234-a715-4541-ba80-178fa364a5de"
      },
      "execution_count": null,
      "outputs": [
        {
          "output_type": "display_data",
          "data": {
            "text/plain": [
              "<IPython.core.display.HTML object>"
            ],
            "text/html": [
              "\n",
              "            <style>\n",
              "                .geemap-dark {\n",
              "                    --jp-widgets-color: white;\n",
              "                    --jp-widgets-label-color: white;\n",
              "                    --jp-ui-font-color1: white;\n",
              "                    --jp-layout-color2: #454545;\n",
              "                    background-color: #383838;\n",
              "                }\n",
              "\n",
              "                .geemap-dark .jupyter-button {\n",
              "                    --jp-layout-color3: #383838;\n",
              "                }\n",
              "\n",
              "                .geemap-colab {\n",
              "                    background-color: var(--colab-primary-surface-color, white);\n",
              "                }\n",
              "\n",
              "                .geemap-colab .jupyter-button {\n",
              "                    --jp-layout-color3: var(--colab-primary-surface-color, white);\n",
              "                }\n",
              "            </style>\n",
              "            "
            ]
          },
          "metadata": {}
        }
      ]
    },
    {
      "cell_type": "code",
      "source": [
        "print(final_proj_string)"
      ],
      "metadata": {
        "id": "yqPuPNVQGguv",
        "colab": {
          "base_uri": "https://localhost:8080/",
          "height": 34
        },
        "outputId": "a3651eda-c016-4f7a-ded3-a30ab49a546e"
      },
      "execution_count": null,
      "outputs": [
        {
          "output_type": "display_data",
          "data": {
            "text/plain": [
              "<IPython.core.display.HTML object>"
            ],
            "text/html": [
              "\n",
              "            <style>\n",
              "                .geemap-dark {\n",
              "                    --jp-widgets-color: white;\n",
              "                    --jp-widgets-label-color: white;\n",
              "                    --jp-ui-font-color1: white;\n",
              "                    --jp-layout-color2: #454545;\n",
              "                    background-color: #383838;\n",
              "                }\n",
              "\n",
              "                .geemap-dark .jupyter-button {\n",
              "                    --jp-layout-color3: #383838;\n",
              "                }\n",
              "\n",
              "                .geemap-colab {\n",
              "                    background-color: var(--colab-primary-surface-color, white);\n",
              "                }\n",
              "\n",
              "                .geemap-colab .jupyter-button {\n",
              "                    --jp-layout-color3: var(--colab-primary-surface-color, white);\n",
              "                }\n",
              "            </style>\n",
              "            "
            ]
          },
          "metadata": {}
        },
        {
          "output_type": "stream",
          "name": "stdout",
          "text": [
            "EPSG:32648\n"
          ]
        }
      ]
    },
    {
      "cell_type": "code",
      "source": [
        "# Create a list of output files\n",
        "\n",
        "new_dswxhls_names = []\n",
        "num_dswxhls_scenes = len(dswxhls_list)\n",
        "for j in range(num_dswxhls_scenes):\n",
        "  if j < 9:\n",
        "    dswxhls_string = \"dswxhls_pt0\" + str(j+1) + \".tif\"\n",
        "  else:\n",
        "    dswxhls_string = \"dswxhls_pt\" + str(j+1) + \".tif\"\n",
        "\n",
        "  new_dswxhls_names.append(dswxhls_string)"
      ],
      "metadata": {
        "id": "HXG4NqxUAFF0",
        "colab": {
          "base_uri": "https://localhost:8080/",
          "height": 17
        },
        "outputId": "49768141-ca1c-48f2-905f-5e558b387c1c"
      },
      "execution_count": null,
      "outputs": [
        {
          "output_type": "display_data",
          "data": {
            "text/plain": [
              "<IPython.core.display.HTML object>"
            ],
            "text/html": [
              "\n",
              "            <style>\n",
              "                .geemap-dark {\n",
              "                    --jp-widgets-color: white;\n",
              "                    --jp-widgets-label-color: white;\n",
              "                    --jp-ui-font-color1: white;\n",
              "                    --jp-layout-color2: #454545;\n",
              "                    background-color: #383838;\n",
              "                }\n",
              "\n",
              "                .geemap-dark .jupyter-button {\n",
              "                    --jp-layout-color3: #383838;\n",
              "                }\n",
              "\n",
              "                .geemap-colab {\n",
              "                    background-color: var(--colab-primary-surface-color, white);\n",
              "                }\n",
              "\n",
              "                .geemap-colab .jupyter-button {\n",
              "                    --jp-layout-color3: var(--colab-primary-surface-color, white);\n",
              "                }\n",
              "            </style>\n",
              "            "
            ]
          },
          "metadata": {}
        }
      ]
    },
    {
      "cell_type": "code",
      "source": [
        "for k in range(num_dswxhls_scenes):\n",
        "  outfile_name = new_dswxhls_names[k]\n",
        "  infile_name = dswxhls_list[k]\n",
        "  gdal.Warp(outfile_name, infile_name, dstSRS = final_proj_string)"
      ],
      "metadata": {
        "id": "D8aDuuj8Au7Q",
        "colab": {
          "base_uri": "https://localhost:8080/",
          "height": 17
        },
        "outputId": "af92c45c-302b-4eb7-eb69-2761c354ddb4"
      },
      "execution_count": null,
      "outputs": [
        {
          "output_type": "display_data",
          "data": {
            "text/plain": [
              "<IPython.core.display.HTML object>"
            ],
            "text/html": [
              "\n",
              "            <style>\n",
              "                .geemap-dark {\n",
              "                    --jp-widgets-color: white;\n",
              "                    --jp-widgets-label-color: white;\n",
              "                    --jp-ui-font-color1: white;\n",
              "                    --jp-layout-color2: #454545;\n",
              "                    background-color: #383838;\n",
              "                }\n",
              "\n",
              "                .geemap-dark .jupyter-button {\n",
              "                    --jp-layout-color3: #383838;\n",
              "                }\n",
              "\n",
              "                .geemap-colab {\n",
              "                    background-color: var(--colab-primary-surface-color, white);\n",
              "                }\n",
              "\n",
              "                .geemap-colab .jupyter-button {\n",
              "                    --jp-layout-color3: var(--colab-primary-surface-color, white);\n",
              "                }\n",
              "            </style>\n",
              "            "
            ]
          },
          "metadata": {}
        }
      ]
    },
    {
      "cell_type": "code",
      "source": [
        "dswxhls_warped_list = glob.glob(\"dswxhls_pt[0-9][0-9].tif\")\n",
        "\n",
        "if len(dswxhls_warped_list) > 0:\n",
        "  if len(dswxhls_warped_list) == 1:\n",
        "    print('path2')\n",
        "    os.rename(dswxhls_warped_list[0], 'merged_dswxhls_' + flood_event_desc + '.tif')\n",
        "  else:\n",
        "    print('path1')\n",
        "    #vfm_warped_list = glob.glob(\"_reproj_pt[0-9].tif\")\n",
        "    cmd_dswxhls = \"gdal_merge.py -o merged_dswxhls_\" + flood_event_desc + \".tif\"\n",
        "    subprocess.call(cmd_dswxhls.split()+dswxhls_warped_list)\n",
        "else:\n",
        "    print('path3')\n",
        "    print(\"No entries in dswxhls_warped_list. Something went wrong.\")"
      ],
      "metadata": {
        "id": "dgoQHkG8114V",
        "colab": {
          "base_uri": "https://localhost:8080/",
          "height": 34
        },
        "outputId": "6d9ffb66-5d3e-4969-a066-dfcd410c741a"
      },
      "execution_count": null,
      "outputs": [
        {
          "output_type": "display_data",
          "data": {
            "text/plain": [
              "<IPython.core.display.HTML object>"
            ],
            "text/html": [
              "\n",
              "            <style>\n",
              "                .geemap-dark {\n",
              "                    --jp-widgets-color: white;\n",
              "                    --jp-widgets-label-color: white;\n",
              "                    --jp-ui-font-color1: white;\n",
              "                    --jp-layout-color2: #454545;\n",
              "                    background-color: #383838;\n",
              "                }\n",
              "\n",
              "                .geemap-dark .jupyter-button {\n",
              "                    --jp-layout-color3: #383838;\n",
              "                }\n",
              "\n",
              "                .geemap-colab {\n",
              "                    background-color: var(--colab-primary-surface-color, white);\n",
              "                }\n",
              "\n",
              "                .geemap-colab .jupyter-button {\n",
              "                    --jp-layout-color3: var(--colab-primary-surface-color, white);\n",
              "                }\n",
              "            </style>\n",
              "            "
            ]
          },
          "metadata": {}
        },
        {
          "output_type": "stream",
          "name": "stdout",
          "text": [
            "path1\n"
          ]
        }
      ]
    },
    {
      "cell_type": "markdown",
      "source": [
        "# **Part 2: DSWx-S1**"
      ],
      "metadata": {
        "id": "9s4DgHMjJUgr"
      }
    },
    {
      "cell_type": "code",
      "source": [
        "os.chdir('..')                                           # Return to the parent folder"
      ],
      "metadata": {
        "id": "tZq4U2CLKYIz",
        "colab": {
          "base_uri": "https://localhost:8080/",
          "height": 17
        },
        "outputId": "2ab7ea95-ea3b-49ef-e933-9d13c680ac34"
      },
      "execution_count": null,
      "outputs": [
        {
          "output_type": "display_data",
          "data": {
            "text/plain": [
              "<IPython.core.display.HTML object>"
            ],
            "text/html": [
              "\n",
              "            <style>\n",
              "                .geemap-dark {\n",
              "                    --jp-widgets-color: white;\n",
              "                    --jp-widgets-label-color: white;\n",
              "                    --jp-ui-font-color1: white;\n",
              "                    --jp-layout-color2: #454545;\n",
              "                    background-color: #383838;\n",
              "                }\n",
              "\n",
              "                .geemap-dark .jupyter-button {\n",
              "                    --jp-layout-color3: #383838;\n",
              "                }\n",
              "\n",
              "                .geemap-colab {\n",
              "                    background-color: var(--colab-primary-surface-color, white);\n",
              "                }\n",
              "\n",
              "                .geemap-colab .jupyter-button {\n",
              "                    --jp-layout-color3: var(--colab-primary-surface-color, white);\n",
              "                }\n",
              "            </style>\n",
              "            "
            ]
          },
          "metadata": {}
        }
      ]
    },
    {
      "cell_type": "code",
      "source": [
        "dswxs1_results = earthaccess.search_data(short_name=\"OPERA_L3_DSWX-S1_V1\",cloud_hosted=True,\n",
        "                                     temporal=(my_start_date,my_start_date), bounding_box=(lon_min,lat_min,lon_max,lat_max))"
      ],
      "metadata": {
        "id": "HZJDtqXBJPNd",
        "colab": {
          "base_uri": "https://localhost:8080/",
          "height": 17
        },
        "outputId": "92bf5c36-87aa-4a35-dfa5-2ebd6efed2c4"
      },
      "execution_count": null,
      "outputs": [
        {
          "output_type": "display_data",
          "data": {
            "text/plain": [
              "<IPython.core.display.HTML object>"
            ],
            "text/html": [
              "\n",
              "            <style>\n",
              "                .geemap-dark {\n",
              "                    --jp-widgets-color: white;\n",
              "                    --jp-widgets-label-color: white;\n",
              "                    --jp-ui-font-color1: white;\n",
              "                    --jp-layout-color2: #454545;\n",
              "                    background-color: #383838;\n",
              "                }\n",
              "\n",
              "                .geemap-dark .jupyter-button {\n",
              "                    --jp-layout-color3: #383838;\n",
              "                }\n",
              "\n",
              "                .geemap-colab {\n",
              "                    background-color: var(--colab-primary-surface-color, white);\n",
              "                }\n",
              "\n",
              "                .geemap-colab .jupyter-button {\n",
              "                    --jp-layout-color3: var(--colab-primary-surface-color, white);\n",
              "                }\n",
              "            </style>\n",
              "            "
            ]
          },
          "metadata": {}
        }
      ]
    },
    {
      "cell_type": "code",
      "source": [
        "dswxs1_downloaded = earthaccess.download(dswxs1_results, local_path = 'dswxs1')"
      ],
      "metadata": {
        "id": "_zr43By6KTEL",
        "colab": {
          "base_uri": "https://localhost:8080/",
          "height": 113,
          "referenced_widgets": [
            "d566477ac20b430487a34f11ba73a42f",
            "b7c59622d4514614ba1cbf27a3281eb9",
            "c1a21fc21ee94c5e9a1c457a6e81ce50",
            "9eeb495149cc407998dc3228f6286c29",
            "455f9735a6b1473383fd24cc09e28427",
            "c272b36123b64066aef6558a2a5437d6",
            "799537dbc9184421bb5d26c7fa232548",
            "75aef8e6cc794e5d85390705bd9ee6fb",
            "a31ddd757ff34bc4bedb6e67ec85511b",
            "b98cc3d5a6ea41e48e7c5f06ea3f7b07",
            "63df29a277394684a572d2fb2e17f0f5",
            "d54c74bdbd334599b33a9a1dd055d1eb",
            "68e9beb22597474090f06cdf13ee9951",
            "f12b2ab1f37b4f86bf50135008fab7b7",
            "ed9e53b21bc14f63976d1f185ec2fd86",
            "b3dad0ab3f494a9fa327d30ef3d31ae8",
            "e6cd3dc302e64d1eb3893fa206d621a9",
            "3e75de87400842289f0742f6e4f2958e",
            "e85eb0863b25433d8642cacb6a9da12f",
            "a6641cfda9d34031972ee759a674b581",
            "b8d07ec4294b45769352ca965b064615",
            "ac9797ac9a1a45d99f23250f3e646d0a",
            "5a2d07bb49564c9682db5a6e3ab6638f",
            "bee25ba6f2cf410296977789472ed294",
            "4dc5b3b718fc4acdbd46bd622a6d5f89",
            "9f24a917b8f249bc874a5070a79eb3a7",
            "dba7c1ab107a428eb21a309aa0333720",
            "ce05e4f880ea4ec8bcacb7cd2e990d89",
            "d13d557e07b440e69657bf20ccf78d0d",
            "ffe2ab23ef684ebe8ab7c738f0d60357",
            "118ef71abe364e5297f65641ce3a498d",
            "c457ab7c08aa4fc6b1da7c32e4dc68b7",
            "f3e7cb0511b447ac851cfc5b241f40fd"
          ]
        },
        "outputId": "80b0cd17-a675-4f70-b867-5c821595f644"
      },
      "execution_count": null,
      "outputs": [
        {
          "output_type": "display_data",
          "data": {
            "text/plain": [
              "<IPython.core.display.HTML object>"
            ],
            "text/html": [
              "\n",
              "            <style>\n",
              "                .geemap-dark {\n",
              "                    --jp-widgets-color: white;\n",
              "                    --jp-widgets-label-color: white;\n",
              "                    --jp-ui-font-color1: white;\n",
              "                    --jp-layout-color2: #454545;\n",
              "                    background-color: #383838;\n",
              "                }\n",
              "\n",
              "                .geemap-dark .jupyter-button {\n",
              "                    --jp-layout-color3: #383838;\n",
              "                }\n",
              "\n",
              "                .geemap-colab {\n",
              "                    background-color: var(--colab-primary-surface-color, white);\n",
              "                }\n",
              "\n",
              "                .geemap-colab .jupyter-button {\n",
              "                    --jp-layout-color3: var(--colab-primary-surface-color, white);\n",
              "                }\n",
              "            </style>\n",
              "            "
            ]
          },
          "metadata": {}
        },
        {
          "output_type": "display_data",
          "data": {
            "text/plain": [
              "QUEUEING TASKS | :   0%|          | 0/104 [00:00<?, ?it/s]"
            ],
            "application/vnd.jupyter.widget-view+json": {
              "version_major": 2,
              "version_minor": 0,
              "model_id": "d566477ac20b430487a34f11ba73a42f"
            }
          },
          "metadata": {
            "application/vnd.jupyter.widget-view+json": {
              "colab": {
                "custom_widget_manager": {
                  "url": "https://ssl.gstatic.com/colaboratory-static/widgets/colab-cdn-widget-manager/2b70e893a8ba7c0f/manager.min.js"
                }
              }
            }
          }
        },
        {
          "output_type": "display_data",
          "data": {
            "text/plain": [
              "PROCESSING TASKS | :   0%|          | 0/104 [00:00<?, ?it/s]"
            ],
            "application/vnd.jupyter.widget-view+json": {
              "version_major": 2,
              "version_minor": 0,
              "model_id": "ac9797ac9a1a45d99f23250f3e646d0a"
            }
          },
          "metadata": {
            "application/vnd.jupyter.widget-view+json": {
              "colab": {
                "custom_widget_manager": {
                  "url": "https://ssl.gstatic.com/colaboratory-static/widgets/colab-cdn-widget-manager/2b70e893a8ba7c0f/manager.min.js"
                }
              }
            }
          }
        },
        {
          "output_type": "display_data",
          "data": {
            "text/plain": [
              "COLLECTING RESULTS | :   0%|          | 0/104 [00:00<?, ?it/s]"
            ],
            "application/vnd.jupyter.widget-view+json": {
              "version_major": 2,
              "version_minor": 0,
              "model_id": "f3e7cb0511b447ac851cfc5b241f40fd"
            }
          },
          "metadata": {
            "application/vnd.jupyter.widget-view+json": {
              "colab": {
                "custom_widget_manager": {
                  "url": "https://ssl.gstatic.com/colaboratory-static/widgets/colab-cdn-widget-manager/2b70e893a8ba7c0f/manager.min.js"
                }
              }
            }
          }
        }
      ]
    },
    {
      "cell_type": "code",
      "source": [
        "os.chdir('dswxs1')"
      ],
      "metadata": {
        "id": "JTCOqljzJAa8",
        "colab": {
          "base_uri": "https://localhost:8080/",
          "height": 17
        },
        "outputId": "38af577e-344d-42a0-dfcf-646c6ad632a9"
      },
      "execution_count": null,
      "outputs": [
        {
          "output_type": "display_data",
          "data": {
            "text/plain": [
              "<IPython.core.display.HTML object>"
            ],
            "text/html": [
              "\n",
              "            <style>\n",
              "                .geemap-dark {\n",
              "                    --jp-widgets-color: white;\n",
              "                    --jp-widgets-label-color: white;\n",
              "                    --jp-ui-font-color1: white;\n",
              "                    --jp-layout-color2: #454545;\n",
              "                    background-color: #383838;\n",
              "                }\n",
              "\n",
              "                .geemap-dark .jupyter-button {\n",
              "                    --jp-layout-color3: #383838;\n",
              "                }\n",
              "\n",
              "                .geemap-colab {\n",
              "                    background-color: var(--colab-primary-surface-color, white);\n",
              "                }\n",
              "\n",
              "                .geemap-colab .jupyter-button {\n",
              "                    --jp-layout-color3: var(--colab-primary-surface-color, white);\n",
              "                }\n",
              "            </style>\n",
              "            "
            ]
          },
          "metadata": {}
        }
      ]
    },
    {
      "cell_type": "code",
      "source": [
        "dswxs1_list = glob.glob(\"OPERA_L3_DSWx-S1*_B02*.tif\")"
      ],
      "metadata": {
        "id": "tqgv8I8vBN4z",
        "colab": {
          "base_uri": "https://localhost:8080/",
          "height": 17
        },
        "outputId": "c3f4792e-4433-47b7-8af6-4bfd077831ae"
      },
      "execution_count": null,
      "outputs": [
        {
          "output_type": "display_data",
          "data": {
            "text/plain": [
              "<IPython.core.display.HTML object>"
            ],
            "text/html": [
              "\n",
              "            <style>\n",
              "                .geemap-dark {\n",
              "                    --jp-widgets-color: white;\n",
              "                    --jp-widgets-label-color: white;\n",
              "                    --jp-ui-font-color1: white;\n",
              "                    --jp-layout-color2: #454545;\n",
              "                    background-color: #383838;\n",
              "                }\n",
              "\n",
              "                .geemap-dark .jupyter-button {\n",
              "                    --jp-layout-color3: #383838;\n",
              "                }\n",
              "\n",
              "                .geemap-colab {\n",
              "                    background-color: var(--colab-primary-surface-color, white);\n",
              "                }\n",
              "\n",
              "                .geemap-colab .jupyter-button {\n",
              "                    --jp-layout-color3: var(--colab-primary-surface-color, white);\n",
              "                }\n",
              "            </style>\n",
              "            "
            ]
          },
          "metadata": {}
        }
      ]
    },
    {
      "cell_type": "code",
      "source": [
        "# Create a list of output files\n",
        "\n",
        "new_dswxs1_names = []\n",
        "num_dswxs1_scenes = len(dswxs1_list)\n",
        "for i in range(num_dswxs1_scenes):\n",
        "  if i < 9:\n",
        "    dswxs1_string = \"dswxs1_pt0\" + str(i+1) + \".tif\"\n",
        "  else:\n",
        "    dswxs1_string = \"dswxs1_pt\" + str(i+1) + \".tif\"\n",
        "\n",
        "  infile = dswxs1_list[i]\n",
        "\n",
        "  gdal.Warp(dswxs1_string, infile, dstSRS = final_proj_string)"
      ],
      "metadata": {
        "id": "vJLObIKXK4Jk",
        "colab": {
          "base_uri": "https://localhost:8080/",
          "height": 17
        },
        "outputId": "184f2c2a-808a-4b86-e4bf-da2407a28a8b"
      },
      "execution_count": null,
      "outputs": [
        {
          "output_type": "display_data",
          "data": {
            "text/plain": [
              "<IPython.core.display.HTML object>"
            ],
            "text/html": [
              "\n",
              "            <style>\n",
              "                .geemap-dark {\n",
              "                    --jp-widgets-color: white;\n",
              "                    --jp-widgets-label-color: white;\n",
              "                    --jp-ui-font-color1: white;\n",
              "                    --jp-layout-color2: #454545;\n",
              "                    background-color: #383838;\n",
              "                }\n",
              "\n",
              "                .geemap-dark .jupyter-button {\n",
              "                    --jp-layout-color3: #383838;\n",
              "                }\n",
              "\n",
              "                .geemap-colab {\n",
              "                    background-color: var(--colab-primary-surface-color, white);\n",
              "                }\n",
              "\n",
              "                .geemap-colab .jupyter-button {\n",
              "                    --jp-layout-color3: var(--colab-primary-surface-color, white);\n",
              "                }\n",
              "            </style>\n",
              "            "
            ]
          },
          "metadata": {}
        }
      ]
    },
    {
      "cell_type": "code",
      "source": [
        "dswxs1_warped_list = glob.glob(\"dswxs1_pt[0-9][0-9].tif\")\n",
        "\n",
        "if len(dswxs1_warped_list) > 0:\n",
        "  if len(dswxs1_warped_list) == 1:\n",
        "    print('path2')\n",
        "    os.rename(dswxs1_warped_list[0], 'merged_dswxs1_' + flood_event_desc + '.tif')\n",
        "  else:\n",
        "    print('path1')\n",
        "    cmd_dswxs1 = \"gdal_merge.py -o merged_dswxs1_\" + flood_event_desc + \".tif\"\n",
        "    subprocess.call(cmd_dswxs1.split()+dswxs1_warped_list)\n",
        "else:\n",
        "    print('path3')\n",
        "    print(\"No entries in dswxs1_warped_list. Something went wrong.\")"
      ],
      "metadata": {
        "id": "cAF65baA1a_L",
        "colab": {
          "base_uri": "https://localhost:8080/",
          "height": 34
        },
        "outputId": "3584cf4d-6b99-4251-ed0e-8ad6311cda52"
      },
      "execution_count": null,
      "outputs": [
        {
          "output_type": "display_data",
          "data": {
            "text/plain": [
              "<IPython.core.display.HTML object>"
            ],
            "text/html": [
              "\n",
              "            <style>\n",
              "                .geemap-dark {\n",
              "                    --jp-widgets-color: white;\n",
              "                    --jp-widgets-label-color: white;\n",
              "                    --jp-ui-font-color1: white;\n",
              "                    --jp-layout-color2: #454545;\n",
              "                    background-color: #383838;\n",
              "                }\n",
              "\n",
              "                .geemap-dark .jupyter-button {\n",
              "                    --jp-layout-color3: #383838;\n",
              "                }\n",
              "\n",
              "                .geemap-colab {\n",
              "                    background-color: var(--colab-primary-surface-color, white);\n",
              "                }\n",
              "\n",
              "                .geemap-colab .jupyter-button {\n",
              "                    --jp-layout-color3: var(--colab-primary-surface-color, white);\n",
              "                }\n",
              "            </style>\n",
              "            "
            ]
          },
          "metadata": {}
        },
        {
          "output_type": "stream",
          "name": "stdout",
          "text": [
            "path1\n"
          ]
        }
      ]
    },
    {
      "cell_type": "code",
      "source": [
        "ls m*"
      ],
      "metadata": {
        "id": "3U0gWeBfIkra",
        "colab": {
          "base_uri": "https://localhost:8080/",
          "height": 34
        },
        "outputId": "854ffefc-bbb6-48e1-8621-9c41015b2944"
      },
      "execution_count": null,
      "outputs": [
        {
          "output_type": "display_data",
          "data": {
            "text/plain": [
              "<IPython.core.display.HTML object>"
            ],
            "text/html": [
              "\n",
              "            <style>\n",
              "                .geemap-dark {\n",
              "                    --jp-widgets-color: white;\n",
              "                    --jp-widgets-label-color: white;\n",
              "                    --jp-ui-font-color1: white;\n",
              "                    --jp-layout-color2: #454545;\n",
              "                    background-color: #383838;\n",
              "                }\n",
              "\n",
              "                .geemap-dark .jupyter-button {\n",
              "                    --jp-layout-color3: #383838;\n",
              "                }\n",
              "\n",
              "                .geemap-colab {\n",
              "                    background-color: var(--colab-primary-surface-color, white);\n",
              "                }\n",
              "\n",
              "                .geemap-colab .jupyter-button {\n",
              "                    --jp-layout-color3: var(--colab-primary-surface-color, white);\n",
              "                }\n",
              "            </style>\n",
              "            "
            ]
          },
          "metadata": {}
        },
        {
          "output_type": "stream",
          "name": "stdout",
          "text": [
            "merged_dswxs1_cambodia_testing.tif\n"
          ]
        }
      ]
    },
    {
      "cell_type": "markdown",
      "source": [
        "# Part 3: VFM"
      ],
      "metadata": {
        "id": "imRW8vGEQO6g"
      }
    },
    {
      "cell_type": "markdown",
      "source": [
        "Initialize the AWS client. The credentials for this are blank because the AWS bucket we are pulling from is public."
      ],
      "metadata": {
        "id": "mJMyXUCzUs9U"
      }
    },
    {
      "cell_type": "code",
      "source": [
        "cred = {\n",
        "    \"aws_access_key_id\": \"\",\n",
        "    \"aws_secret_access_key\": \"\",\n",
        "    \"config\": Config(signature_version = UNSIGNED)\n",
        "}\n",
        "\n",
        "session = boto3.Session()\n",
        "client = session.client('s3', **cred)"
      ],
      "metadata": {
        "id": "eUofAnqh6Szs"
      },
      "execution_count": null,
      "outputs": []
    },
    {
      "cell_type": "markdown",
      "source": [
        "VFM divides its tiles into 15 degree by 15 degree tiles"
      ],
      "metadata": {
        "id": "Naw7nSfH7HIc"
      }
    },
    {
      "cell_type": "code",
      "source": [
        "def vfm_tile_reporter(lon, lat):\n",
        "  if lat > 75:\n",
        "    if lon > 90 and lon < 105:\n",
        "      vfm_tile = 50\n",
        "    if lon > 105 and lon < 120:\n",
        "      vfm_tile = 51\n",
        "  if lat > 60 and lat < 75:\n",
        "    if lon < -165:\n",
        "      vfm_tile = 1\n",
        "    if lon > -165 and lon < -150:\n",
        "      vfm_tile = 2\n",
        "    if lon > -150 and lon < -135:\n",
        "      vfm_tile = 3\n",
        "    if lon > -135 and lon < -120:\n",
        "      vfm_tile = 4\n",
        "    if lon > -120 and lon < -105:\n",
        "      vfm_tile = 5\n",
        "    if lon > -105 and lon < -90:\n",
        "      vfm_tile = 6\n",
        "    if lon > -90 and lon < -75:\n",
        "      vfm_tile = 7\n",
        "    if lon > -75 and lon < -60:\n",
        "      vfm_tile = 8\n",
        "    if lon > -60 and lon < -45:\n",
        "      vfm_tile = 130\n",
        "    if lon > -45 and lon < -30:\n",
        "      vfm_tile = 131\n",
        "    if lon > -30 and lon < -15:\n",
        "      vfm_tile = 132\n",
        "    if lon > -15 and lon < 0:\n",
        "      vfm_tile = 42\n",
        "    if lon > 0 and lon < 15:\n",
        "      vfm_tile = 43\n",
        "    if lon > 15 and lon < 30:\n",
        "      vfm_tile = 44\n",
        "    if lon > 30 and lon < 45:\n",
        "      vfm_tile = 45\n",
        "    if lon > 45 and lon < 60:\n",
        "      vfm_tile = 46\n",
        "    if lon > 60 and lon < 75:\n",
        "      vfm_tile = 47\n",
        "    if lon > 75 and lon < 90:\n",
        "      vfm_tile = 48\n",
        "    if lon > 90 and lon < 105:\n",
        "      vfm_tile = 49\n",
        "    if lon > 105 and lon < 120:\n",
        "      vfm_tile = 52\n",
        "    if lon > 120 and lon < 135:\n",
        "      vfm_tile = 53\n",
        "    if lon > 135 and lon < 150:\n",
        "      vfm_tile = 54\n",
        "    if lon > 150 and lon < 165:\n",
        "      vfm_tile = 55\n",
        "    if lon > 165 and lon < 180:\n",
        "      vfm_tile = 56\n",
        "  if lat > 45 and lat < 60:\n",
        "    if lon < -165:\n",
        "      vfm_tile = 9\n",
        "    if lon > -165 and lon < -150:\n",
        "      vfm_tile = 10\n",
        "    if lon > -150 and lon < -135:\n",
        "      vfm_tile = 129\n",
        "    if lon > -135 and lon < -120:\n",
        "      vfm_tile = 11\n",
        "    if lon > -120 and lon < -105:\n",
        "      vfm_tile = 12\n",
        "    if lon > -105 and lon < -90:\n",
        "      vfm_tile = 13\n",
        "    if lon > -90 and lon < -75:\n",
        "      vfm_tile = 14\n",
        "    if lon > -75 and lon < -60:\n",
        "      vfm_tile = 15\n",
        "    if lon > -60 and lon < -45:\n",
        "      vfm_tile = 16\n",
        "    if lon > -15 and lon < 0:\n",
        "      vfm_tile = 57\n",
        "    if lon > 0 and lon < 15:\n",
        "      vfm_tile = 58\n",
        "    if lon > 15 and lon < 30:\n",
        "      vfm_tile = 59\n",
        "    if lon > 30 and lon < 45:\n",
        "      vfm_tile = 60\n",
        "    if lon > 45 and lon < 60:\n",
        "      vfm_tile = 61\n",
        "    if lon > 60 and lon < 75:\n",
        "      vfm_tile = 62\n",
        "    if lon > 75 and lon < 90:\n",
        "      vfm_tile = 63\n",
        "    if lon > 90 and lon < 105:\n",
        "      vfm_tile = 64\n",
        "    if lon > 105 and lon < 120:\n",
        "      vfm_tile = 65\n",
        "    if lon > 120 and lon < 135:\n",
        "      vfm_tile = 66\n",
        "    if lon > 135 and lon < 150:\n",
        "      vfm_tile = 67\n",
        "    if lon > 150 and lon < 165:\n",
        "      vfm_tile = 68\n",
        "    if lon > 165 and lon < 180:\n",
        "      vfm_tile = 69\n",
        "  if lat > 30 and lat < 45:\n",
        "    if lon > -135 and lon < -120:\n",
        "      vfm_tile = 17\n",
        "    if lon > -120 and lon < -105:\n",
        "      vfm_tile = 18\n",
        "    if lon > -105 and lon < -90:\n",
        "      vfm_tile = 19\n",
        "    if lon > -90 and lon < -75:\n",
        "      vfm_tile = 20\n",
        "    if lon > -75 and lon < -60:\n",
        "      vfm_tile = 21\n",
        "    if lon > -15 and lon < 0:\n",
        "      vfm_tile = 70\n",
        "    if lon > 0 and lon < 15:\n",
        "      vfm_tile = 71\n",
        "    if lon > 15 and lon < 30:\n",
        "      vfm_tile = 72\n",
        "    if lon > 30 and lon < 45:\n",
        "      vfm_tile = 73\n",
        "    if lon > 45 and lon < 60:\n",
        "      vfm_tile = 74\n",
        "    if lon > 60 and lon < 75:\n",
        "      vfm_tile = 75\n",
        "    if lon > 75 and lon < 90:\n",
        "      vfm_tile = 76\n",
        "    if lon > 90 and lon < 105:\n",
        "      vfm_tile = 77\n",
        "    if lon > 105 and lon < 120:\n",
        "      vfm_tile = 78\n",
        "    if lon > 120 and lon < 135:\n",
        "      vfm_tile = 79\n",
        "    if lon > 135 and lon < 150:\n",
        "      vfm_tile = 80\n",
        "    if lon > 150 and lon < 165:\n",
        "      vfm_tile = 81\n",
        "  if lat > 15 and lat < 30:\n",
        "    if lon > -165 and lon < -150:\n",
        "      vfm_tile = 133\n",
        "    if lon > -120 and lon < -105:\n",
        "      vfm_tile = 22\n",
        "    if lon > -105 and lon < -90:\n",
        "      vfm_tile = 23\n",
        "    if lon > -90 and lon < -75:\n",
        "      vfm_tile = 24\n",
        "    if lon > -75 and lon < -60:\n",
        "      vfm_tile = 25\n",
        "    if lon > -30 and lon < -15:\n",
        "      vfm_tile = 82\n",
        "    if lon > -15 and lon < 0:\n",
        "      vfm_tile = 83\n",
        "    if lon > 0 and lon < 15:\n",
        "      vfm_tile = 84\n",
        "    if lon > 15 and lon < 30:\n",
        "      vfm_tile = 85\n",
        "    if lon > 30 and lon < 45:\n",
        "      vfm_tile = 86\n",
        "    if lon > 45 and lon < 60:\n",
        "      vfm_tile = 87\n",
        "    if lon > 60 and lon < 75:\n",
        "      vfm_tile = 88\n",
        "    if lon > 75 and lon < 90:\n",
        "      vfm_tile = 89\n",
        "    if lon > 90 and lon < 105:\n",
        "      vfm_tile = 90\n",
        "    if lon > 105 and lon < 120:\n",
        "      vfm_tile = 91\n",
        "    if lon > 120 and lon < 135:\n",
        "      vfm_tile = 92\n",
        "  if lat > 0 and lat < 15:\n",
        "    if lon > -105 and lon < -90:\n",
        "      vfm_tile = 26\n",
        "    if lon > -90 and lon < -75:\n",
        "      vfm_tile = 27\n",
        "    if lon > -75 and lon < -60:\n",
        "      vfm_tile = 28\n",
        "    if lon > -60 and lon < -45:\n",
        "      vfm_tile = 29\n",
        "    if lon > -30 and lon < -15:\n",
        "      vfm_tile = 93\n",
        "    if lon > -15 and lon < 0:\n",
        "      vfm_tile = 94\n",
        "    if lon > 0 and lon < 15:\n",
        "      vfm_tile = 95\n",
        "    if lon > 15 and lon < 30:\n",
        "      vfm_tile = 96\n",
        "    if lon > 30 and lon < 45:\n",
        "      vfm_tile = 97\n",
        "    if lon > 45 and lon < 60:\n",
        "      vfm_tile = 98\n",
        "    if lon > 60 and lon < 75:\n",
        "      vfm_tile = 99\n",
        "    if lon > 75 and lon < 90:\n",
        "      vfm_tile = 100\n",
        "    if lon > 90 and lon < 105:\n",
        "      vfm_tile = 101\n",
        "    if lon > 105 and lon < 120:\n",
        "      vfm_tile = 102\n",
        "    if lon > 120 and lon < 135:\n",
        "      vfm_tile = 103\n",
        "  if lat > -15 and lat < 0:\n",
        "    if lon < -165:\n",
        "      vfm_tile = 136\n",
        "    if lon > -90 and lon < -75:\n",
        "      vfm_tile = 30\n",
        "    if lon > -75 and lon < -60:\n",
        "      vfm_tile = 31\n",
        "    if lon > -60 and lon < -45:\n",
        "      vfm_tile = 32\n",
        "    if lon > -45 and lon < -30:\n",
        "      vfm_tile = 33\n",
        "    if lon > 0 and lon < 15:\n",
        "      vfm_tile = 104\n",
        "    if lon > 15 and lon < 30:\n",
        "      vfm_tile = 105\n",
        "    if lon > 30 and lon < 45:\n",
        "      vfm_tile = 106\n",
        "    if lon > 45 and lon < 60:\n",
        "      vfm_tile = 107\n",
        "    if lon > 75 and lon < 90:\n",
        "      vfm_tile = 108\n",
        "    if lon > 90 and lon < 105:\n",
        "      vfm_tile = 109\n",
        "    if lon > 105 and lon < 120:\n",
        "      vfm_tile = 110\n",
        "    if lon > 120 and lon < 135:\n",
        "      vfm_tile = 111\n",
        "    if lon > 135 and lon < 150:\n",
        "      vfm_tile = 112\n",
        "    if lon > 150 and lon < 165:\n",
        "      vfm_tile = 134\n",
        "  if lat > -30 and lat < -15:\n",
        "    if lon > -75 and lon < -60:\n",
        "      vfm_tile = 34\n",
        "    if lon > -60 and lon < -45:\n",
        "      vfm_tile = 35\n",
        "    if lon > -45 and lon < -30:\n",
        "      vfm_tile = 36\n",
        "    if lon > 0 and lon < 15:\n",
        "      vfm_tile = 113\n",
        "    if lon > 15 and lon < 30:\n",
        "      vfm_tile = 114\n",
        "    if lon > 30 and lon < 45:\n",
        "      vfm_tile = 115\n",
        "    if lon > 45 and lon < 60:\n",
        "      vfm_tile = 116\n",
        "    if lon > 105 and lon < 120:\n",
        "      vfm_tile = 117\n",
        "    if lon > 120 and lon < 135:\n",
        "      vfm_tile = 118\n",
        "    if lon > 135 and lon < 150:\n",
        "      vfm_tile = 119\n",
        "    if lon > 150 and lon < 165:\n",
        "      vfm_tile = 120\n",
        "    if lon > 165 and lon < 180:\n",
        "      vfm_tile = 135\n",
        "  if lat > -45 and lat < -30:\n",
        "    if lon > -75 and lon < -60:\n",
        "      vfm_tile = 37\n",
        "    if lon > -60 and lon < -45:\n",
        "      vfm_tile = 38\n",
        "    if lon > 15 and lon < 30:\n",
        "      vfm_tile = 121\n",
        "    if lon > 30 and lon < 45:\n",
        "      vfm_tile = 122\n",
        "    if lon > 105 and lon < 120:\n",
        "      vfm_tile = 123\n",
        "    if lon > 120 and lon < 135:\n",
        "      vfm_tile = 124\n",
        "    if lon > 135 and lon < 150:\n",
        "      vfm_tile = 125\n",
        "    if lon > 150 and lon < 165:\n",
        "      vfm_tile = 126\n",
        "    if lon > 165 and lon < 180:\n",
        "      vfm_tile = 127\n",
        "  if lat > -60 and lat < -45:\n",
        "    if lon > -90 and lon < -75:\n",
        "      vfm_tile = 39\n",
        "    if lon < -75 and lon < -60:\n",
        "      vfm_tile = 40\n",
        "    if lon < -60 and lon < -45:\n",
        "      vfm_tile = 41\n",
        "    if lon > 165:\n",
        "      vfm_tile = 128\n",
        "\n",
        "  return vfm_tile"
      ],
      "metadata": {
        "id": "E5e6A0PYU11E"
      },
      "execution_count": null,
      "outputs": []
    },
    {
      "cell_type": "code",
      "source": [
        "vfm_tile_list = []"
      ],
      "metadata": {
        "id": "d7PCB84TfADq"
      },
      "execution_count": null,
      "outputs": []
    },
    {
      "cell_type": "code",
      "source": [
        "tile1 = vfm_tile_reporter(lon_min, lat_min)\n",
        "if tile1 < 100:\n",
        "  tile1str = '0' + str(tile1)\n",
        "else:\n",
        "  tile1str = str(tile1)\n",
        "\n",
        "tile2 = vfm_tile_reporter(lon_min, lat_max)\n",
        "if tile1 < 100:\n",
        "  tile2str = '0' + str(tile2)\n",
        "else:\n",
        "  tile2str = str(tile2)\n",
        "\n",
        "tile3 = vfm_tile_reporter(lon_max, lat_min)\n",
        "if tile3 < 100:\n",
        "  tile3str = '0' + str(tile3)\n",
        "else:\n",
        "  tile3str = str(tile3)\n",
        "\n",
        "tile4 = vfm_tile_reporter(lon_max, lat_max)\n",
        "if tile4 < 100:\n",
        "  tile4str = '0' + str(tile4)\n",
        "else:\n",
        "  tile4str = str(tile4)"
      ],
      "metadata": {
        "id": "iFrybsd7Wu8-"
      },
      "execution_count": null,
      "outputs": []
    },
    {
      "cell_type": "code",
      "source": [
        "vfm_tile_list.append(tile1str)\n",
        "if tile2str not in vfm_tile_list:\n",
        "  vfm_tile_list.append(tile2str)\n",
        "if tile3str not in vfm_tile_list:\n",
        "  vfm_tile_list.append(tile3str)\n",
        "if tile4str not in vfm_tile_list:\n",
        "  vfm_tile_list.append(tile4str)"
      ],
      "metadata": {
        "id": "_RX43V8eQRDI"
      },
      "execution_count": null,
      "outputs": []
    },
    {
      "cell_type": "code",
      "source": [
        "my_date_formatted = my_start_date.replace('-', '/')"
      ],
      "metadata": {
        "id": "3ION5BCIf4KL"
      },
      "execution_count": null,
      "outputs": []
    },
    {
      "cell_type": "code",
      "source": [
        "pwd"
      ],
      "metadata": {
        "id": "csjYS2ESL-ml"
      },
      "execution_count": null,
      "outputs": []
    },
    {
      "cell_type": "code",
      "source": [
        "os.chdir('..')\n",
        "os.mkdir('VFM')\n",
        "os.chdir('VFM')"
      ],
      "metadata": {
        "id": "ANArs0I0hsKS"
      },
      "execution_count": null,
      "outputs": []
    },
    {
      "cell_type": "code",
      "source": [
        "ls"
      ],
      "metadata": {
        "id": "g0DQQFQDzZUY"
      },
      "execution_count": null,
      "outputs": []
    },
    {
      "cell_type": "code",
      "source": [
        "vfm_paths_list = []\n",
        "gdrive_paths_list = []\n",
        "vfm_bucket = 'noaa-jpss'\n",
        "\n",
        "\n",
        "\n",
        "for j in range(len(vfm_tile_list)):\n",
        "  # Get tile number\n",
        "  vfm_tile = vfm_tile_list[j]\n",
        "\n",
        "  # Use paginator\n",
        "  paginator = client.get_paginator('list_objects_v2')\n",
        "  operation_parameters = {'Bucket': 'noaa-jpss',\n",
        "                        'Prefix': 'JPSS_Blended_Products/VFM_1day_GLB/TIF/' + my_date_formatted + '/VIIRS-Flood-1day-GLB' + vfm_tile}\n",
        "  page_iterator = paginator.paginate(**operation_parameters)\n",
        "  for page in page_iterator:\n",
        "    my_key = page['Contents'][0]['Key']\n",
        "    print(my_key)\n",
        "\n",
        "  my_gdrive_path = my_Gdrive_folder + 'VFM/vfm_pt' + str(j+1) + '.tif'\n",
        "  client.download_file(vfm_bucket, my_key, my_gdrive_path)"
      ],
      "metadata": {
        "id": "3jjBe3yOgAoS"
      },
      "execution_count": null,
      "outputs": []
    },
    {
      "cell_type": "code",
      "source": [
        "ls"
      ],
      "metadata": {
        "id": "2yoVJk6h89Gq"
      },
      "execution_count": null,
      "outputs": []
    },
    {
      "cell_type": "code",
      "source": [
        "vfm_list = glob.glob(\"vfm_pt[0-9].tif\")\n",
        "\n",
        "for h in range(len(vfm_list)):\n",
        "  vfm_img = vfm_list[int(h)]\n",
        "  vfm_outstring = 'vfm_reproj_pt' + str(h+1) + '.tif'\n",
        "  gdal.Warp(vfm_outstring, vfm_img, dstSRS = final_proj_string)"
      ],
      "metadata": {
        "id": "eyRGIcPH57WV"
      },
      "execution_count": null,
      "outputs": []
    },
    {
      "cell_type": "code",
      "source": [
        "ls"
      ],
      "metadata": {
        "id": "YZc4TPsr0AGN"
      },
      "execution_count": null,
      "outputs": []
    },
    {
      "cell_type": "code",
      "source": [
        "vfm_warped_list = glob.glob(\"vfm_reproj_pt[0-9].tif\")"
      ],
      "metadata": {
        "id": "-8prGJCy86a7"
      },
      "execution_count": null,
      "outputs": []
    },
    {
      "cell_type": "code",
      "source": [
        "if len(vfm_warped_list) > 0:\n",
        "  if len(vfm_warped_list) == 1:\n",
        "    print('path2')\n",
        "    os.rename(vfm_warped_list[0], 'merged_vfm_' + flood_event_desc + '.tif')\n",
        "  else:\n",
        "    print('path1')\n",
        "    vfm_warped_list = glob.glob(\"vfm_reproj_pt[0-9].tif\")\n",
        "    cmd_vfm = \"gdal_merge.py -o merged_vfm_\" + flood_event_desc + \".tif\"\n",
        "    subprocess.call(cmd_vfm.split()+vfm_warped_list)\n",
        "else:\n",
        "    print('path3')\n",
        "    print(\"No entries in vfm_warped_list. Something went wrong.\")\n"
      ],
      "metadata": {
        "id": "zpWpv3oxPnIq"
      },
      "execution_count": null,
      "outputs": []
    },
    {
      "cell_type": "code",
      "source": [
        "ls"
      ],
      "metadata": {
        "id": "745AlTS90aZQ"
      },
      "execution_count": null,
      "outputs": []
    },
    {
      "cell_type": "markdown",
      "source": [
        "#Part 4: GFM"
      ],
      "metadata": {
        "id": "60wfAu7nM7FH"
      }
    },
    {
      "cell_type": "code",
      "source": [
        "os.chdir('..')\n",
        "os.mkdir('GFM')\n",
        "os.chdir('GFM')"
      ],
      "metadata": {
        "id": "oZ1Ylp_tLbor"
      },
      "execution_count": null,
      "outputs": []
    },
    {
      "cell_type": "code",
      "source": [
        "pwd"
      ],
      "metadata": {
        "id": "v6wIT9nsIBg7"
      },
      "execution_count": null,
      "outputs": []
    },
    {
      "cell_type": "markdown",
      "source": [
        "## Part 4 Step 1: Get client_id and access token"
      ],
      "metadata": {
        "id": "hG24Sj6CP_sT"
      }
    },
    {
      "cell_type": "code",
      "source": [
        "base_url = 'https://api.gfm.eodc.eu/v2' #base_url = 'https://api.gfm.eodc.eu/v1'\n",
        "\n",
        "data = {\n",
        "    \"email\": my_gfm_email,\n",
        "    \"password\": my_gfm_password\n",
        "}\n",
        "\n",
        "auth_url = f\"{base_url}/auth/login\"\n",
        "\n",
        "auth_response = requests.post(auth_url, json=data)\n",
        "\n",
        "client_id = auth_response.json()[\"client_id\"]\n",
        "access_token = auth_response.json()[\"access_token\"]"
      ],
      "metadata": {
        "id": "04ka4aR5Gr2n"
      },
      "execution_count": null,
      "outputs": []
    },
    {
      "cell_type": "markdown",
      "source": [
        "## Part 4 Step 2: Create AOI"
      ],
      "metadata": {
        "id": "V3V94YKESA5h"
      }
    },
    {
      "cell_type": "code",
      "source": [
        "aoi_data = {\n",
        "  \"aoi_name\": flood_event_desc,\n",
        "  \"description\": flood_event_desc,\n",
        "  \"user_id\": client_id,\n",
        "  \"geoJSON\": {\n",
        "    \"type\": \"Polygon\",\n",
        "    \"coordinates\": [\n",
        "      [\n",
        "        [\n",
        "          lon_min,\n",
        "          lat_min\n",
        "        ],\n",
        "        [\n",
        "          lon_max,\n",
        "          lat_min\n",
        "        ],\n",
        "        [\n",
        "          lon_max,\n",
        "          lat_max\n",
        "        ],\n",
        "        [\n",
        "          lon_min,\n",
        "          lat_max\n",
        "        ],\n",
        "        [\n",
        "          lon_min,\n",
        "          lat_min\n",
        "        ]\n",
        "      ]\n",
        "    ]\n",
        "  },\n",
        "  \"region\": \"AUT/Tirol\",\n",
        "  \"skip_aoi_check\": False\n",
        "}\n",
        "\n",
        "aoi_url = f\"{base_url}/aoi/create\"\n",
        "\n",
        "headers = {\"Authorization\": f\"bearer {access_token}\"}\n",
        "headers2 = {\"Authorization\": f\"Bearer {access_token}\"}\n",
        "aoi_request = requests.post(aoi_url, json=aoi_data, headers=headers)\n",
        "\n",
        "final_aoi_id = aoi_request.json()[\"aoi_id\"]"
      ],
      "metadata": {
        "id": "0I7-SylUHr_g"
      },
      "execution_count": null,
      "outputs": []
    },
    {
      "cell_type": "code",
      "source": [
        "aoi_request.status_code"
      ],
      "metadata": {
        "id": "GW_w1kvyM2Kt"
      },
      "execution_count": null,
      "outputs": []
    },
    {
      "cell_type": "code",
      "source": [
        "final_aoi_id"
      ],
      "metadata": {
        "id": "43PkulXAlMNo"
      },
      "execution_count": null,
      "outputs": []
    },
    {
      "cell_type": "markdown",
      "source": [
        "## Part 4 Step 3: Get Product ID's for the aoi_id we retrieved in step 2"
      ],
      "metadata": {
        "id": "ZacL2oGKlp2f"
      }
    },
    {
      "cell_type": "code",
      "source": [
        "my_start_date_gfm = my_start_date + 'T00:00:00'\n",
        "myday_after_gfm = myday_after + 'T00:00:00'"
      ],
      "metadata": {
        "id": "3GxCkglPmgPc"
      },
      "execution_count": null,
      "outputs": []
    },
    {
      "cell_type": "code",
      "source": [
        "product_url = f\"{base_url}/aoi/{final_aoi_id}/products\"\n",
        "\n",
        "product_params = {\n",
        "    \"time\": \"range\",\n",
        "    \"from\": my_start_date_gfm,\n",
        "    \"to\": myday_after_gfm\n",
        "}\n",
        "\n",
        "product_response = requests.get(product_url, headers=headers, params = product_params)\n",
        "\n",
        "if product_response.status_code == 200:\n",
        "    print(\"Available Products:\", product_response.json())\n",
        "else:\n",
        "  print(\"Error:\", product_response.status_code, product_response.text)"
      ],
      "metadata": {
        "id": "Qdq0oByDl9iv"
      },
      "execution_count": null,
      "outputs": []
    },
    {
      "cell_type": "code",
      "source": [
        "product_dict = product_response.json()\n",
        "gfm_products = product_dict['products']\n",
        "product_ids = []\n",
        "\n",
        "for j in range(len(gfm_products)):\n",
        "  product_of_interest = gfm_products[j]\n",
        "  prodid = product_of_interest['product_id']\n",
        "  product_ids.append(prodid)"
      ],
      "metadata": {
        "id": "WDTEKRGgtjJl"
      },
      "execution_count": null,
      "outputs": []
    },
    {
      "cell_type": "code",
      "source": [
        "cell_codes = []\n",
        "for k in range(len(gfm_products)):\n",
        "  prodofint = gfm_products[k]\n",
        "  sceneid = prodofint['cell_code']\n",
        "  cell_codes.append(sceneid)"
      ],
      "metadata": {
        "id": "DWR4sw44KnSj"
      },
      "execution_count": null,
      "outputs": []
    },
    {
      "cell_type": "code",
      "source": [
        "cell_codes"
      ],
      "metadata": {
        "id": "Ier6bdPfLAaG"
      },
      "execution_count": null,
      "outputs": []
    },
    {
      "cell_type": "markdown",
      "source": [
        "## Part 4 Step 4: Download product IDs"
      ],
      "metadata": {
        "id": "9noJEplAEzBx"
      }
    },
    {
      "cell_type": "code",
      "source": [
        "my_layer_id = '2'"
      ],
      "metadata": {
        "id": "SGyhoGAmE4Wq"
      },
      "execution_count": null,
      "outputs": []
    },
    {
      "cell_type": "code",
      "source": [
        "def download(url: str, dest_folder: str, file_name):\n",
        "    if not os.path.exists(dest_folder):\n",
        "        os.makedirs(dest_folder)  # create folder if it does not exist\n",
        "\n",
        "    filename = file_name\n",
        "    file_path = os.path.join(dest_folder, filename)\n",
        "\n",
        "    r = requests.get(url, stream=True)\n",
        "    if r.ok:\n",
        "        print(\"saving to\", os.path.abspath(file_path))\n",
        "        with open(file_path, 'wb') as f:\n",
        "            for chunk in r.iter_content(chunk_size=1024 * 8):\n",
        "                if chunk:\n",
        "                    f.write(chunk)\n",
        "                    f.flush()\n",
        "                    os.fsync(f.fileno())\n",
        "    else:  # HTTP status code 4XX/5XX\n",
        "        print(\"Download failed: status code {}\\n{}\".format(r.status_code, r.text))"
      ],
      "metadata": {
        "id": "NQSaR-9y_sQ4"
      },
      "execution_count": null,
      "outputs": []
    },
    {
      "cell_type": "markdown",
      "source": [
        "Thank you and credit to user Ivan Vinogradov on stackoverflow for the piece of code above"
      ],
      "metadata": {
        "id": "b-s1rb4RFv8N"
      }
    },
    {
      "cell_type": "code",
      "source": [
        "pwd"
      ],
      "metadata": {
        "id": "OeRwEbga_7Pj"
      },
      "execution_count": null,
      "outputs": []
    },
    {
      "cell_type": "code",
      "source": [
        "ls"
      ],
      "metadata": {
        "id": "-b1capWw__R0"
      },
      "execution_count": null,
      "outputs": []
    },
    {
      "cell_type": "code",
      "source": [
        "for r in range(len(cell_codes)):\n",
        "  my_cell_code = cell_codes[r]\n",
        "  #download_url = f\"{base_url}/download/product/{product_ids[j]}\"\n",
        "  download_url = f\"{base_url}/download/scene-file/{my_cell_code}/{final_aoi_id}/{my_layer_id}\"\n",
        "  download_response = requests.get(download_url, headers=headers)\n",
        "  url_to_download = download_response.json()['download_link']\n",
        "  zip_folder = 'gfm_zip_pt' + str(r + 1) + '.zip'\n",
        "  download(url_to_download, my_Gdrive_folder + 'GFM', zip_folder)\n",
        "  with zipfile.ZipFile(my_Gdrive_folder + 'GFM/' + zip_folder, 'r') as zip_ref:\n",
        "    zip_ref.extractall(my_Gdrive_folder + 'GFM')"
      ],
      "metadata": {
        "id": "Wk-8WdTB_yiJ"
      },
      "execution_count": null,
      "outputs": []
    },
    {
      "cell_type": "markdown",
      "source": [
        "## Part 4 Step 5: Reproject and Merge"
      ],
      "metadata": {
        "id": "5EJszXCo21n-"
      }
    },
    {
      "cell_type": "markdown",
      "source": [
        "Now we want to get the ENSEMBLE_FLOOD layers, and warp them to the projection we need"
      ],
      "metadata": {
        "id": "_r0OdM_7TpQO"
      }
    },
    {
      "cell_type": "code",
      "source": [
        "pwd"
      ],
      "metadata": {
        "id": "t06R8LcQHAfm"
      },
      "execution_count": null,
      "outputs": []
    },
    {
      "cell_type": "code",
      "source": [
        "os.chdir('..')\n",
        "os.chdir('GFM')"
      ],
      "metadata": {
        "id": "81ZSx8fDHBaF"
      },
      "execution_count": null,
      "outputs": []
    },
    {
      "cell_type": "code",
      "source": [
        "ls *ENSEMBLE*"
      ],
      "metadata": {
        "id": "aLIQcc0QKTpL"
      },
      "execution_count": null,
      "outputs": []
    },
    {
      "cell_type": "code",
      "source": [
        "gfm_list = glob.glob('*ENSEMBLE_OBSWATER*.tif')\n",
        "\n",
        "for i in range(len(gfm_list)):\n",
        "  instring = gfm_list[i]\n",
        "  outstring = 'gfm_pt' + str(i + 1) + '.tif'\n",
        "  gdal.Warp(outstring, instring, dstSRS = final_proj_string)"
      ],
      "metadata": {
        "id": "MTQbZ_7EKXn0"
      },
      "execution_count": null,
      "outputs": []
    },
    {
      "cell_type": "code",
      "source": [
        "ls"
      ],
      "metadata": {
        "id": "KaXP__0BHXGG"
      },
      "execution_count": null,
      "outputs": []
    },
    {
      "cell_type": "code",
      "source": [
        "gfm_list = glob.glob(\"gfm_pt*.tif\")\n",
        "cmd_gfm = \"gdal_merge.py -o merged_gfm_\" + flood_event_desc + '.tif'\n",
        "subprocess.call(cmd_gfm.split()+gfm_list)"
      ],
      "metadata": {
        "id": "YrvZdIj_LXaE"
      },
      "execution_count": null,
      "outputs": []
    },
    {
      "cell_type": "code",
      "source": [
        "ls m*"
      ],
      "metadata": {
        "id": "OU_bhlJMH4Mg"
      },
      "execution_count": null,
      "outputs": []
    },
    {
      "cell_type": "markdown",
      "source": [
        "# Part 5: MCDWD"
      ],
      "metadata": {
        "id": "mVCi2wdVMUtl"
      }
    },
    {
      "cell_type": "markdown",
      "source": [
        "**IMPORTANT:** There is no way to access MCDWD files for  more than a week in the past."
      ],
      "metadata": {
        "id": "hZEs9n74PULB"
      }
    },
    {
      "cell_type": "markdown",
      "source": [
        "## Part 5 Step 1: Find the MODIS tiles corresponding to your area of interest"
      ],
      "metadata": {
        "id": "N7TIV6JFUJJ8"
      }
    },
    {
      "cell_type": "code",
      "source": [
        "!wget --no-check-certificate https://modis-land.gsfc.nasa.gov/pdf/sn_bound_10deg.txt"
      ],
      "metadata": {
        "id": "HE5LBYWtY3-8"
      },
      "execution_count": null,
      "outputs": []
    },
    {
      "cell_type": "code",
      "source": [
        "def modis_tile_reporter(lon, lat):\n",
        "\n",
        "  data = np.genfromtxt('sn_bound_10deg.txt',\n",
        "                     skip_header = 7,\n",
        "                     skip_footer = 3)\n",
        "\n",
        "  in_tile = False\n",
        "  i = 0\n",
        "  while(not in_tile):\n",
        "    in_tile = lat >= data[i, 4] and lat <= data[i, 5] and lon >= data[i, 2] and lon <= data[i, 3]\n",
        "    i += 1\n",
        "\n",
        "  vert = data[i-1, 0]\n",
        "  horiz = data[i-1, 1]\n",
        "  #print('Vertical Tile:', vert, 'Horizontal Tile:', horiz)\n",
        "  if vert < 10:\n",
        "    vertstring = '0' + str(int(vert))\n",
        "  else:\n",
        "    vertstring = str(int(vert))\n",
        "  if horiz < 10:\n",
        "    horizstring = '0' + str(int(horiz))\n",
        "  else:\n",
        "    horizstring = str(int(horiz))\n",
        "  final_string = 'h'+horizstring+'v'+vertstring\n",
        "  return final_string\n"
      ],
      "metadata": {
        "id": "OMN-v4c6U84L"
      },
      "execution_count": null,
      "outputs": []
    },
    {
      "cell_type": "markdown",
      "source": [
        "Credit to the [this website](https://www.earthdatascience.org/tutorials/convert-modis-tile-to-lat-lon/), from which I adapted the code above."
      ],
      "metadata": {
        "id": "WsXnZUE8ZEx9"
      }
    },
    {
      "cell_type": "code",
      "source": [
        "bounds = [[lon_min, lat_min], [lon_max, lat_min], [lon_max, lat_max], [lon_min, lat_max]]\n",
        "modtiles = []\n",
        "\n",
        "for j in range(len(bounds)):\n",
        "  coordpair = bounds[j]\n",
        "  lon = coordpair[0]\n",
        "  lat = coordpair[1]\n",
        "  modtile = modis_tile_reporter(lon, lat)\n",
        "  if modtile not in modtiles:\n",
        "    modtiles.append(modtile)"
      ],
      "metadata": {
        "id": "NaCY2FvGZPwJ"
      },
      "execution_count": null,
      "outputs": []
    },
    {
      "cell_type": "code",
      "source": [
        "modtiles\n"
      ],
      "metadata": {
        "id": "z_7tXXLdZM0Q"
      },
      "execution_count": null,
      "outputs": []
    },
    {
      "cell_type": "markdown",
      "source": [
        "## Part 5 Step 2: Find the Julian Day corresponding to your area of interest\n",
        "\n",
        "Use [this website](https://www-air.larc.nasa.gov/tools/jday.htm) to convert your date of interest to the Julian Day."
      ],
      "metadata": {
        "id": "CssssI-G72-E"
      }
    },
    {
      "cell_type": "markdown",
      "source": [
        "- Step 1: Email earthdata-support@nasa.gov, and put \"lance flood\" in the subject line. In the body of the email, include the h-v tile, and the julian date and year for which your flood event occurs. Request the HDF file of the MCDWD product for this region and time period of interest.\n",
        "- Step 2: Wait. NASA will email you the HDF files associated with the product for your date of interest.\n",
        "- Step 3: Open Google Drive, and navigate to the Google Drive folder shown below"
      ],
      "metadata": {
        "id": "SVoAJ118YUGh"
      }
    },
    {
      "cell_type": "code",
      "source": [
        "os.chdir('..')"
      ],
      "metadata": {
        "id": "_o64Ma9__JYn"
      },
      "execution_count": null,
      "outputs": []
    },
    {
      "cell_type": "code",
      "source": [
        "pwd"
      ],
      "metadata": {
        "id": "hXAZxcQm_M8U"
      },
      "execution_count": null,
      "outputs": []
    },
    {
      "cell_type": "markdown",
      "source": [
        "* Step 4: Create a folder called \"MCDWD\"\n",
        "* Step 5: Navigate into the MCDWD file\n",
        "* Step 6: Upload the HDF file you downloaded in Step 2"
      ],
      "metadata": {
        "id": "E-H72lyI_PyE"
      }
    },
    {
      "cell_type": "code",
      "source": [
        "os.chdir('MCDWD')"
      ],
      "metadata": {
        "id": "p9Ec45hU_cwX"
      },
      "execution_count": null,
      "outputs": []
    },
    {
      "cell_type": "code",
      "source": [
        "ls"
      ],
      "metadata": {
        "id": "LEYM87v5_p9L"
      },
      "execution_count": null,
      "outputs": []
    },
    {
      "cell_type": "code",
      "source": [
        "mydir = my_Gdrive_folder + '/MCDWD'"
      ],
      "metadata": {
        "id": "Tn8GDAWg_Pi9"
      },
      "execution_count": null,
      "outputs": []
    },
    {
      "cell_type": "code",
      "source": [
        "for filename in os.listdir(mydir):\n",
        "  file_info = gdal.Info(filename)         # Use the gdal.Open method\n",
        "  print(file_info)\n",
        "  break                                   # Break the for loop so we just get the first file"
      ],
      "metadata": {
        "id": "QxhaDq3G_xW9"
      },
      "execution_count": null,
      "outputs": []
    },
    {
      "cell_type": "code",
      "source": [
        "count = 0    # Set a count variable that we will use to name the output files\n",
        "\n",
        "for filename in os.listdir(mydir):   # For each HDF file in the directory\n",
        "  gdaldataset = gdal.Open(filename)                                # Open the HDF file\n",
        "  subdataset = gdaldataset.GetSubDatasets()[0][0]                  # Navigate to the Subdataset of interest. In this case, we want Subdataset 1, which corresponds to the 0th index, since we start counting at 0.\n",
        "  count_str = str(count + 1)                                       # Convert the counter to a string for filename purposes\n",
        "  output_filename = 'mcdwd_pt' + count_str + '.tif'                # Each output file will be called 'mcdwd_pt1.tif', 'mcdwd_pt2.tif', etc.\n",
        "  gdal.Translate(output_filename, subdataset)                      # use the gdal.Translate method to create tifs from subdataset_1 of each hdf file\n",
        "  count += 1"
      ],
      "metadata": {
        "id": "_5_chyFo_1uF"
      },
      "execution_count": null,
      "outputs": []
    },
    {
      "cell_type": "code",
      "source": [
        "ls"
      ],
      "metadata": {
        "id": "0Mtj9QRAA22D"
      },
      "execution_count": null,
      "outputs": []
    },
    {
      "cell_type": "code",
      "source": [
        "mcdwd_list = glob.glob(\"mcdwd_pt*.tif\")\n",
        "mcdwd_list"
      ],
      "metadata": {
        "id": "_cbWCc-vCF5I"
      },
      "execution_count": null,
      "outputs": []
    },
    {
      "cell_type": "code",
      "source": [
        "for t in range(len(mcdwd_list)):\n",
        "  outfile = 'mcdwd_reproj_pt_' + str(t) + '.tif'\n",
        "  infile = mcdwd_list[t]\n",
        "  gdal.Warp(outfile, infile, dstSRS = final_proj_string)"
      ],
      "metadata": {
        "id": "ccWfbNysA30u"
      },
      "execution_count": null,
      "outputs": []
    },
    {
      "cell_type": "code",
      "source": [
        "mcdwd_warped_list = glob.glob(\"mcdwd_reproj_pt*.tif\")\n",
        "\n",
        "if len(mcdwd_warped_list) > 0:\n",
        "  if len(mcdwd_warped_list) == 1:\n",
        "    print('path2')\n",
        "    os.rename(mcdwd_warped_list[0], 'merged_mcdwd_' + flood_event_desc + '.tif')\n",
        "  else:\n",
        "    print('path1')\n",
        "    #vfm_warped_list = glob.glob(\"_reproj_pt[0-9].tif\")\n",
        "    cmd_mcdwd = \"gdal_merge.py -o merged_mcdwd_\" + flood_event_desc + \".tif\"\n",
        "    subprocess.call(cmd_mcdwd.split()+mcdwd_warped_list)\n",
        "else:\n",
        "    print('path3')\n",
        "    print(\"No entries in dswxs1_warped_list. Something went wrong.\")"
      ],
      "metadata": {
        "id": "ISiIkWrtBCQh"
      },
      "execution_count": null,
      "outputs": []
    },
    {
      "cell_type": "code",
      "source": [
        "ls"
      ],
      "metadata": {
        "id": "6PTfGI2RCr3U"
      },
      "execution_count": null,
      "outputs": []
    },
    {
      "cell_type": "markdown",
      "source": [
        "#Part 6: HydroSAR"
      ],
      "metadata": {
        "id": "4tVFFoKUPa50"
      }
    },
    {
      "cell_type": "markdown",
      "source": [
        "Before we can run HYDROSAR, we need to find out the Sentinel-1 granule names for our flood event of interest. We can use NASA's Common Metadata Repository (CMR) API to do so."
      ],
      "metadata": {
        "id": "5a29LVPliOvE"
      }
    },
    {
      "cell_type": "markdown",
      "source": [
        "## Part 6 Step 1: Identify Sentinel-1 Granules for time period and region of interest"
      ],
      "metadata": {
        "id": "wGbOnin9X5PH"
      }
    },
    {
      "cell_type": "code",
      "source": [
        "granule_ids = []\n",
        "#import requests\n",
        "\n",
        "# Define the API endpoint\n",
        "cmr_url = \"https://cmr.earthdata.nasa.gov/search/granules.json\"\n",
        "\n",
        "# Define the search parameters\n",
        "params = {\n",
        "    #\"short_name\": \"SENTINEL-1A_SLC\",\n",
        "    \"bounding_box\": f\"{lon_min},{lat_min},{lon_max},{lat_max}\",\n",
        "    \"temporal\":  f\"{my_start_date}T00:00:00Z,{my_start_date}T23:59:59Z\",\n",
        "    \"provider\": \"ASF\",\n",
        "    \"page_size\": 2000,  # Number of results per request\n",
        "}\n",
        "\n",
        "# Make the GET request\n",
        "response = requests.get(cmr_url, params=params)\n",
        "\n",
        "# Check if the request was successful\n",
        "if response.status_code == 200:\n",
        "    data = response.json()\n",
        "    granules = data.get(\"feed\", {}).get(\"entry\", [])\n",
        "\n",
        "    if granules:\n",
        "        #print(\"Sentinel-1 Granule IDs for Chad on September 26, 2024:\")\n",
        "        for granule in granules:\n",
        "            gran_title = granule[\"title\"]\n",
        "            if \"-GRD_HD\" in gran_title:\n",
        "              granule_ids.append(gran_title[:-7])\n",
        "              #print(gran_title)\n",
        "            #print(granule[\"title\"])  # Print granule ID\n",
        "    else:\n",
        "        print(\"No granules found for the specified date and location.\")\n",
        "else:\n",
        "    print(\"Error:\", response.status_code, response.text)\n"
      ],
      "metadata": {
        "id": "zQoQ-0yENkww"
      },
      "execution_count": null,
      "outputs": []
    },
    {
      "cell_type": "markdown",
      "source": [
        "## Part 6 Step 2: Conduct RTC processing and run HYDROSAR Algorithm on Sentinel-1 Granules"
      ],
      "metadata": {
        "id": "CkcFH31VYDej"
      }
    },
    {
      "cell_type": "code",
      "source": [
        "hyp3 = sdk.HyP3(username = my_earthdata_login, password = my_earthdata_password)"
      ],
      "metadata": {
        "id": "45G-psabo38P"
      },
      "execution_count": null,
      "outputs": []
    },
    {
      "cell_type": "code",
      "source": [
        "os.chdir('..')\n",
        "os.mkdir('HYDROSAR')\n",
        "os.chdir('HYDROSAR')"
      ],
      "metadata": {
        "id": "fVTcuhqdcCph"
      },
      "execution_count": null,
      "outputs": []
    },
    {
      "cell_type": "markdown",
      "source": [
        "Now we will iterate through each of the s1 granules we found and iterate through them. For each granule, we will conduct Radiometric Terrain Correction (RTC) before running the HYDROSAR algorithm on the image. This will take approximately 30 minutes for each sentinel-1 granule you have"
      ],
      "metadata": {
        "id": "RpCby3hui64_"
      }
    },
    {
      "cell_type": "code",
      "source": [
        "names = []\n",
        "for t in range(len(granule_ids)):\n",
        "  mygran = granule_ids[t]\n",
        "  print(mygran)\n",
        "  t2 = t+1\n",
        "\n",
        "  name_ = f\"granule_{t2}\"\n",
        "\n",
        "  job = hyp3.submit_rtc_job(\n",
        "    mygran, name=name_,\n",
        "    radiometry='gamma0', scale='power', resolution=30, dem_name='copernicus',\n",
        "    include_dem=True, include_rgb=True,\n",
        "    speckle_filter=True, dem_matching=False\n",
        "  )\n",
        "\n",
        "  job = hyp3.watch(job)\n",
        "\n",
        "  product_zip = job.download_files()[0]\n",
        "  shutil.unpack_archive(product_zip)\n",
        "  vv_raster = product_zip.parent / product_zip.stem / f'{product_zip.stem}_VV.tif'\n",
        "  vh_raster = product_zip.parent / product_zip.stem / f'{product_zip.stem}_VH.tif'\n",
        "\n",
        "  make_water_map(f\"water_extent_pt{t2}.tif\", vv_raster, vh_raster, tile_shape=(100, 100),\n",
        "               max_vv_threshold=-15.5, max_vh_threshold=-23., hand_threshold=15., hand_fraction=0.8)\n"
      ],
      "metadata": {
        "id": "x19QfOE-bckQ"
      },
      "execution_count": null,
      "outputs": []
    },
    {
      "cell_type": "markdown",
      "source": [
        "## Step 6 Part 3: Mosaic HYDROSAR images into a single map"
      ],
      "metadata": {
        "id": "iPRRjNzqYKYW"
      }
    },
    {
      "cell_type": "code",
      "source": [
        "hydrosar_list = glob.glob(\"water_extent_pt[0-9].tif\")\n",
        "\n",
        "for p in range(len(hydrosar_list)):\n",
        "  p2 = p + 1\n",
        "  hs_img = hydrosar_list[p]\n",
        "  gdal.Warp(f\"hydrosar_pt{p2}.tif\", hs_img, dstSRS = final_proj_string)\n",
        "\n",
        "hydrosar_list = glob.glob(\"hydrosar_pt[0-9].tif\")\n",
        "cmd_hydrosar = \"gdal_merge.py -o merged_hydrosar\" + flood_event_desc + '.tif'\n",
        "subprocess.call(cmd_hydrosar.split()+hydrosar_list)"
      ],
      "metadata": {
        "id": "AYno-TDTjizE"
      },
      "execution_count": null,
      "outputs": []
    },
    {
      "cell_type": "markdown",
      "source": [
        "# Part 7: HYDRAFloods"
      ],
      "metadata": {
        "id": "kqX0-QhDjTEs"
      }
    },
    {
      "cell_type": "code",
      "source": [
        "roi = ee.FeatureCollection(my_gee_folder + 'aoi').geometry()"
      ],
      "metadata": {
        "id": "OpHRjzAAle_0",
        "colab": {
          "base_uri": "https://localhost:8080/",
          "height": 17
        },
        "outputId": "d092cd0f-fcbc-4ce0-d08c-123873156473"
      },
      "execution_count": null,
      "outputs": [
        {
          "output_type": "display_data",
          "data": {
            "text/plain": [
              "<IPython.core.display.HTML object>"
            ],
            "text/html": [
              "\n",
              "            <style>\n",
              "                .geemap-dark {\n",
              "                    --jp-widgets-color: white;\n",
              "                    --jp-widgets-label-color: white;\n",
              "                    --jp-ui-font-color1: white;\n",
              "                    --jp-layout-color2: #454545;\n",
              "                    background-color: #383838;\n",
              "                }\n",
              "\n",
              "                .geemap-dark .jupyter-button {\n",
              "                    --jp-layout-color3: #383838;\n",
              "                }\n",
              "\n",
              "                .geemap-colab {\n",
              "                    background-color: var(--colab-primary-surface-color, white);\n",
              "                }\n",
              "\n",
              "                .geemap-colab .jupyter-button {\n",
              "                    --jp-layout-color3: var(--colab-primary-surface-color, white);\n",
              "                }\n",
              "            </style>\n",
              "            "
            ]
          },
          "metadata": {}
        }
      ]
    },
    {
      "cell_type": "code",
      "source": [
        "roi"
      ],
      "metadata": {
        "colab": {
          "base_uri": "https://localhost:8080/",
          "height": 325
        },
        "id": "zyqVh2jrrY8o",
        "outputId": "452c6718-d6e6-40fe-bc8b-aa60d6bc52d0"
      },
      "execution_count": null,
      "outputs": [
        {
          "output_type": "display_data",
          "data": {
            "text/plain": [
              "<IPython.core.display.HTML object>"
            ],
            "text/html": [
              "\n",
              "            <style>\n",
              "                .geemap-dark {\n",
              "                    --jp-widgets-color: white;\n",
              "                    --jp-widgets-label-color: white;\n",
              "                    --jp-ui-font-color1: white;\n",
              "                    --jp-layout-color2: #454545;\n",
              "                    background-color: #383838;\n",
              "                }\n",
              "\n",
              "                .geemap-dark .jupyter-button {\n",
              "                    --jp-layout-color3: #383838;\n",
              "                }\n",
              "\n",
              "                .geemap-colab {\n",
              "                    background-color: var(--colab-primary-surface-color, white);\n",
              "                }\n",
              "\n",
              "                .geemap-colab .jupyter-button {\n",
              "                    --jp-layout-color3: var(--colab-primary-surface-color, white);\n",
              "                }\n",
              "            </style>\n",
              "            "
            ]
          },
          "metadata": {}
        },
        {
          "output_type": "execute_result",
          "data": {
            "text/plain": [
              "ee.Geometry({\n",
              "  \"functionInvocationValue\": {\n",
              "    \"functionName\": \"Collection.geometry\",\n",
              "    \"arguments\": {\n",
              "      \"collection\": {\n",
              "        \"functionInvocationValue\": {\n",
              "          \"functionName\": \"Collection.loadTable\",\n",
              "          \"arguments\": {\n",
              "            \"tableId\": {\n",
              "              \"constantValue\": \"users/mickymags/semi_fmi_cambodia_20241001/aoi\"\n",
              "            }\n",
              "          }\n",
              "        }\n",
              "      }\n",
              "    }\n",
              "  }\n",
              "})"
            ]
          },
          "metadata": {},
          "execution_count": 25
        }
      ]
    },
    {
      "cell_type": "code",
      "source": [
        "my_start_date"
      ],
      "metadata": {
        "colab": {
          "base_uri": "https://localhost:8080/",
          "height": 36
        },
        "id": "0PURThmCrVk4",
        "outputId": "e1863bea-019a-4321-fe9e-ffeeb4ad6eee"
      },
      "execution_count": null,
      "outputs": [
        {
          "output_type": "display_data",
          "data": {
            "text/plain": [
              "<IPython.core.display.HTML object>"
            ],
            "text/html": [
              "\n",
              "            <style>\n",
              "                .geemap-dark {\n",
              "                    --jp-widgets-color: white;\n",
              "                    --jp-widgets-label-color: white;\n",
              "                    --jp-ui-font-color1: white;\n",
              "                    --jp-layout-color2: #454545;\n",
              "                    background-color: #383838;\n",
              "                }\n",
              "\n",
              "                .geemap-dark .jupyter-button {\n",
              "                    --jp-layout-color3: #383838;\n",
              "                }\n",
              "\n",
              "                .geemap-colab {\n",
              "                    background-color: var(--colab-primary-surface-color, white);\n",
              "                }\n",
              "\n",
              "                .geemap-colab .jupyter-button {\n",
              "                    --jp-layout-color3: var(--colab-primary-surface-color, white);\n",
              "                }\n",
              "            </style>\n",
              "            "
            ]
          },
          "metadata": {}
        },
        {
          "output_type": "execute_result",
          "data": {
            "text/plain": [
              "'2024-10-01'"
            ],
            "application/vnd.google.colaboratory.intrinsic+json": {
              "type": "string"
            }
          },
          "metadata": {},
          "execution_count": 26
        }
      ]
    },
    {
      "cell_type": "code",
      "source": [
        "myday_after"
      ],
      "metadata": {
        "id": "YlG7izEpMN4R",
        "colab": {
          "base_uri": "https://localhost:8080/",
          "height": 36
        },
        "outputId": "6de070a2-34cb-426b-8105-a966b06e8e82"
      },
      "execution_count": null,
      "outputs": [
        {
          "output_type": "display_data",
          "data": {
            "text/plain": [
              "<IPython.core.display.HTML object>"
            ],
            "text/html": [
              "\n",
              "            <style>\n",
              "                .geemap-dark {\n",
              "                    --jp-widgets-color: white;\n",
              "                    --jp-widgets-label-color: white;\n",
              "                    --jp-ui-font-color1: white;\n",
              "                    --jp-layout-color2: #454545;\n",
              "                    background-color: #383838;\n",
              "                }\n",
              "\n",
              "                .geemap-dark .jupyter-button {\n",
              "                    --jp-layout-color3: #383838;\n",
              "                }\n",
              "\n",
              "                .geemap-colab {\n",
              "                    background-color: var(--colab-primary-surface-color, white);\n",
              "                }\n",
              "\n",
              "                .geemap-colab .jupyter-button {\n",
              "                    --jp-layout-color3: var(--colab-primary-surface-color, white);\n",
              "                }\n",
              "            </style>\n",
              "            "
            ]
          },
          "metadata": {}
        },
        {
          "output_type": "execute_result",
          "data": {
            "text/plain": [
              "'2024-10-02'"
            ],
            "application/vnd.google.colaboratory.intrinsic+json": {
              "type": "string"
            }
          },
          "metadata": {},
          "execution_count": 27
        }
      ]
    },
    {
      "cell_type": "code",
      "source": [
        "sent1 = hf.Dataset(\n",
        "    region = roi,\n",
        "    start_time = my_start_date,\n",
        "    end_time = myday_after,\n",
        "    asset_id = 'COPERNICUS/S1_GRD'\n",
        ")"
      ],
      "metadata": {
        "id": "3XJSbiSWM_FR",
        "colab": {
          "base_uri": "https://localhost:8080/",
          "height": 17
        },
        "outputId": "82f8cf7d-37de-466b-9667-ddc35f4f9c7f"
      },
      "execution_count": null,
      "outputs": [
        {
          "output_type": "display_data",
          "data": {
            "text/plain": [
              "<IPython.core.display.HTML object>"
            ],
            "text/html": [
              "\n",
              "            <style>\n",
              "                .geemap-dark {\n",
              "                    --jp-widgets-color: white;\n",
              "                    --jp-widgets-label-color: white;\n",
              "                    --jp-ui-font-color1: white;\n",
              "                    --jp-layout-color2: #454545;\n",
              "                    background-color: #383838;\n",
              "                }\n",
              "\n",
              "                .geemap-dark .jupyter-button {\n",
              "                    --jp-layout-color3: #383838;\n",
              "                }\n",
              "\n",
              "                .geemap-colab {\n",
              "                    background-color: var(--colab-primary-surface-color, white);\n",
              "                }\n",
              "\n",
              "                .geemap-colab .jupyter-button {\n",
              "                    --jp-layout-color3: var(--colab-primary-surface-color, white);\n",
              "                }\n",
              "            </style>\n",
              "            "
            ]
          },
          "metadata": {}
        }
      ]
    },
    {
      "cell_type": "code",
      "source": [
        "sent1.n_images"
      ],
      "metadata": {
        "id": "iC8eBb3TMPDi",
        "colab": {
          "base_uri": "https://localhost:8080/",
          "height": 35
        },
        "outputId": "faa9b79c-c749-4081-da33-7a31967919ea"
      },
      "execution_count": null,
      "outputs": [
        {
          "output_type": "display_data",
          "data": {
            "text/plain": [
              "<IPython.core.display.HTML object>"
            ],
            "text/html": [
              "\n",
              "            <style>\n",
              "                .geemap-dark {\n",
              "                    --jp-widgets-color: white;\n",
              "                    --jp-widgets-label-color: white;\n",
              "                    --jp-ui-font-color1: white;\n",
              "                    --jp-layout-color2: #454545;\n",
              "                    background-color: #383838;\n",
              "                }\n",
              "\n",
              "                .geemap-dark .jupyter-button {\n",
              "                    --jp-layout-color3: #383838;\n",
              "                }\n",
              "\n",
              "                .geemap-colab {\n",
              "                    background-color: var(--colab-primary-surface-color, white);\n",
              "                }\n",
              "\n",
              "                .geemap-colab .jupyter-button {\n",
              "                    --jp-layout-color3: var(--colab-primary-surface-color, white);\n",
              "                }\n",
              "            </style>\n",
              "            "
            ]
          },
          "metadata": {}
        },
        {
          "output_type": "execute_result",
          "data": {
            "text/plain": [
              "3"
            ]
          },
          "metadata": {},
          "execution_count": 29
        }
      ]
    },
    {
      "cell_type": "code",
      "source": [
        "sent1.dates"
      ],
      "metadata": {
        "id": "GgHE5lH1Oe0F",
        "colab": {
          "base_uri": "https://localhost:8080/",
          "height": 71
        },
        "outputId": "97f8d236-9c93-4632-bd07-7600517feff3"
      },
      "execution_count": null,
      "outputs": [
        {
          "output_type": "display_data",
          "data": {
            "text/plain": [
              "<IPython.core.display.HTML object>"
            ],
            "text/html": [
              "\n",
              "            <style>\n",
              "                .geemap-dark {\n",
              "                    --jp-widgets-color: white;\n",
              "                    --jp-widgets-label-color: white;\n",
              "                    --jp-ui-font-color1: white;\n",
              "                    --jp-layout-color2: #454545;\n",
              "                    background-color: #383838;\n",
              "                }\n",
              "\n",
              "                .geemap-dark .jupyter-button {\n",
              "                    --jp-layout-color3: #383838;\n",
              "                }\n",
              "\n",
              "                .geemap-colab {\n",
              "                    background-color: var(--colab-primary-surface-color, white);\n",
              "                }\n",
              "\n",
              "                .geemap-colab .jupyter-button {\n",
              "                    --jp-layout-color3: var(--colab-primary-surface-color, white);\n",
              "                }\n",
              "            </style>\n",
              "            "
            ]
          },
          "metadata": {}
        },
        {
          "output_type": "execute_result",
          "data": {
            "text/plain": [
              "['2024-10-01 22:45:13.000',\n",
              " '2024-10-01 22:45:38.000',\n",
              " '2024-10-01 22:46:03.000']"
            ]
          },
          "metadata": {},
          "execution_count": 30
        }
      ]
    },
    {
      "cell_type": "code",
      "source": [
        "sent1_med2 = sent1.collection.median()"
      ],
      "metadata": {
        "id": "c9HlAFOJMixu",
        "colab": {
          "base_uri": "https://localhost:8080/",
          "height": 17
        },
        "outputId": "c9b27c22-70dd-40e4-9f4b-274ac440c1de"
      },
      "execution_count": null,
      "outputs": [
        {
          "output_type": "display_data",
          "data": {
            "text/plain": [
              "<IPython.core.display.HTML object>"
            ],
            "text/html": [
              "\n",
              "            <style>\n",
              "                .geemap-dark {\n",
              "                    --jp-widgets-color: white;\n",
              "                    --jp-widgets-label-color: white;\n",
              "                    --jp-ui-font-color1: white;\n",
              "                    --jp-layout-color2: #454545;\n",
              "                    background-color: #383838;\n",
              "                }\n",
              "\n",
              "                .geemap-dark .jupyter-button {\n",
              "                    --jp-layout-color3: #383838;\n",
              "                }\n",
              "\n",
              "                .geemap-colab {\n",
              "                    background-color: var(--colab-primary-surface-color, white);\n",
              "                }\n",
              "\n",
              "                .geemap-colab .jupyter-button {\n",
              "                    --jp-layout-color3: var(--colab-primary-surface-color, white);\n",
              "                }\n",
              "            </style>\n",
              "            "
            ]
          },
          "metadata": {}
        }
      ]
    },
    {
      "cell_type": "code",
      "source": [
        "elv = ee.Image(\"JAXA/ALOS/AW3D30/V2_2\").select(\"AVE_DSM\")\n",
        "\n",
        "sent1_speckle = sent1.apply_func(hf.gamma_map)\n",
        "\n",
        "sent1_tc = sent1_speckle.apply_func(corrections.slope_correction, elevation=elv, buffer=30)"
      ],
      "metadata": {
        "id": "FOdXMrA4lpLY",
        "colab": {
          "base_uri": "https://localhost:8080/",
          "height": 144
        },
        "outputId": "b8d5679c-b02b-4d78-d1b6-41ca28e238c9"
      },
      "execution_count": null,
      "outputs": [
        {
          "output_type": "display_data",
          "data": {
            "text/plain": [
              "<IPython.core.display.HTML object>"
            ],
            "text/html": [
              "\n",
              "            <style>\n",
              "                .geemap-dark {\n",
              "                    --jp-widgets-color: white;\n",
              "                    --jp-widgets-label-color: white;\n",
              "                    --jp-ui-font-color1: white;\n",
              "                    --jp-layout-color2: #454545;\n",
              "                    background-color: #383838;\n",
              "                }\n",
              "\n",
              "                .geemap-dark .jupyter-button {\n",
              "                    --jp-layout-color3: #383838;\n",
              "                }\n",
              "\n",
              "                .geemap-colab {\n",
              "                    background-color: var(--colab-primary-surface-color, white);\n",
              "                }\n",
              "\n",
              "                .geemap-colab .jupyter-button {\n",
              "                    --jp-layout-color3: var(--colab-primary-surface-color, white);\n",
              "                }\n",
              "            </style>\n",
              "            "
            ]
          },
          "metadata": {}
        },
        {
          "output_type": "stream",
          "name": "stderr",
          "text": [
            "/usr/local/lib/python3.11/dist-packages/ee/deprecation.py:207: DeprecationWarning: \n",
            "\n",
            "Attention required for JAXA/ALOS/AW3D30/V2_2! You are using a deprecated asset.\n",
            "To make sure your code keeps working, please update it.\n",
            "Learn more: https://developers.google.com/earth-engine/datasets/catalog/JAXA_ALOS_AW3D30_V2_2\n",
            "\n",
            "  warnings.warn(warning, category=DeprecationWarning)\n"
          ]
        }
      ]
    },
    {
      "cell_type": "code",
      "source": [
        "sent1_tc.n_images"
      ],
      "metadata": {
        "id": "1NKzKYAsNpJx",
        "colab": {
          "base_uri": "https://localhost:8080/",
          "height": 35
        },
        "outputId": "80d7c57f-de54-44a1-ca9d-b55b4c03d8bb"
      },
      "execution_count": null,
      "outputs": [
        {
          "output_type": "display_data",
          "data": {
            "text/plain": [
              "<IPython.core.display.HTML object>"
            ],
            "text/html": [
              "\n",
              "            <style>\n",
              "                .geemap-dark {\n",
              "                    --jp-widgets-color: white;\n",
              "                    --jp-widgets-label-color: white;\n",
              "                    --jp-ui-font-color1: white;\n",
              "                    --jp-layout-color2: #454545;\n",
              "                    background-color: #383838;\n",
              "                }\n",
              "\n",
              "                .geemap-dark .jupyter-button {\n",
              "                    --jp-layout-color3: #383838;\n",
              "                }\n",
              "\n",
              "                .geemap-colab {\n",
              "                    background-color: var(--colab-primary-surface-color, white);\n",
              "                }\n",
              "\n",
              "                .geemap-colab .jupyter-button {\n",
              "                    --jp-layout-color3: var(--colab-primary-surface-color, white);\n",
              "                }\n",
              "            </style>\n",
              "            "
            ]
          },
          "metadata": {}
        },
        {
          "output_type": "execute_result",
          "data": {
            "text/plain": [
              "3"
            ]
          },
          "metadata": {},
          "execution_count": 33
        }
      ]
    },
    {
      "cell_type": "code",
      "source": [
        "sent1_med = sent1_tc.collection.median()"
      ],
      "metadata": {
        "id": "909d6lY-lqth",
        "colab": {
          "base_uri": "https://localhost:8080/",
          "height": 17
        },
        "outputId": "7af208ba-1a6b-4e1d-9715-e5ff7c4b06f6"
      },
      "execution_count": null,
      "outputs": [
        {
          "output_type": "display_data",
          "data": {
            "text/plain": [
              "<IPython.core.display.HTML object>"
            ],
            "text/html": [
              "\n",
              "            <style>\n",
              "                .geemap-dark {\n",
              "                    --jp-widgets-color: white;\n",
              "                    --jp-widgets-label-color: white;\n",
              "                    --jp-ui-font-color1: white;\n",
              "                    --jp-layout-color2: #454545;\n",
              "                    background-color: #383838;\n",
              "                }\n",
              "\n",
              "                .geemap-dark .jupyter-button {\n",
              "                    --jp-layout-color3: #383838;\n",
              "                }\n",
              "\n",
              "                .geemap-colab {\n",
              "                    background-color: var(--colab-primary-surface-color, white);\n",
              "                }\n",
              "\n",
              "                .geemap-colab .jupyter-button {\n",
              "                    --jp-layout-color3: var(--colab-primary-surface-color, white);\n",
              "                }\n",
              "            </style>\n",
              "            "
            ]
          },
          "metadata": {}
        }
      ]
    },
    {
      "cell_type": "markdown",
      "source": [
        "## Part 7 Step 1: Initial Threshold Determination\n",
        "\n",
        "Next, we will run the HYDRAFloods algorithm. But first, we would like to know what a typical backscatter value of water will be in this region. To do this, let's get the Joint Research Center's Water Occurrence dataset to find permanent water bodies, then sample the permanent water bodies to get an estimate of the average backscatter value in the VV polarization."
      ],
      "metadata": {
        "id": "i0Y9ZERNpSvf"
      }
    },
    {
      "cell_type": "code",
      "source": [
        "my_start_date"
      ],
      "metadata": {
        "id": "iOIxb2aBrHOx",
        "colab": {
          "base_uri": "https://localhost:8080/",
          "height": 36
        },
        "outputId": "fdfb88ac-0952-42ef-92b4-fe67c8d16873"
      },
      "execution_count": null,
      "outputs": [
        {
          "output_type": "display_data",
          "data": {
            "text/plain": [
              "<IPython.core.display.HTML object>"
            ],
            "text/html": [
              "\n",
              "            <style>\n",
              "                .geemap-dark {\n",
              "                    --jp-widgets-color: white;\n",
              "                    --jp-widgets-label-color: white;\n",
              "                    --jp-ui-font-color1: white;\n",
              "                    --jp-layout-color2: #454545;\n",
              "                    background-color: #383838;\n",
              "                }\n",
              "\n",
              "                .geemap-dark .jupyter-button {\n",
              "                    --jp-layout-color3: #383838;\n",
              "                }\n",
              "\n",
              "                .geemap-colab {\n",
              "                    background-color: var(--colab-primary-surface-color, white);\n",
              "                }\n",
              "\n",
              "                .geemap-colab .jupyter-button {\n",
              "                    --jp-layout-color3: var(--colab-primary-surface-color, white);\n",
              "                }\n",
              "            </style>\n",
              "            "
            ]
          },
          "metadata": {}
        },
        {
          "output_type": "execute_result",
          "data": {
            "text/plain": [
              "'2024-10-01'"
            ],
            "application/vnd.google.colaboratory.intrinsic+json": {
              "type": "string"
            }
          },
          "metadata": {},
          "execution_count": 35
        }
      ]
    },
    {
      "cell_type": "code",
      "source": [
        "aoi = ee.FeatureCollection(my_gee_folder + 'aoi')\n",
        "\n",
        "final_geom = aoi.geometry()"
      ],
      "metadata": {
        "id": "hxYjAznB8Jz4",
        "colab": {
          "base_uri": "https://localhost:8080/",
          "height": 17
        },
        "outputId": "e5984f2c-8de3-43b2-9b9f-8590b497c6ff"
      },
      "execution_count": null,
      "outputs": [
        {
          "output_type": "display_data",
          "data": {
            "text/plain": [
              "<IPython.core.display.HTML object>"
            ],
            "text/html": [
              "\n",
              "            <style>\n",
              "                .geemap-dark {\n",
              "                    --jp-widgets-color: white;\n",
              "                    --jp-widgets-label-color: white;\n",
              "                    --jp-ui-font-color1: white;\n",
              "                    --jp-layout-color2: #454545;\n",
              "                    background-color: #383838;\n",
              "                }\n",
              "\n",
              "                .geemap-dark .jupyter-button {\n",
              "                    --jp-layout-color3: #383838;\n",
              "                }\n",
              "\n",
              "                .geemap-colab {\n",
              "                    background-color: var(--colab-primary-surface-color, white);\n",
              "                }\n",
              "\n",
              "                .geemap-colab .jupyter-button {\n",
              "                    --jp-layout-color3: var(--colab-primary-surface-color, white);\n",
              "                }\n",
              "            </style>\n",
              "            "
            ]
          },
          "metadata": {}
        }
      ]
    },
    {
      "cell_type": "code",
      "source": [
        "my_month = int(my_start_date[5:7])\n",
        "my_month"
      ],
      "metadata": {
        "id": "iEoRmgpVrNb-",
        "colab": {
          "base_uri": "https://localhost:8080/",
          "height": 35
        },
        "outputId": "03ec736d-d52e-448d-f1d3-8e7c190bf6e7"
      },
      "execution_count": null,
      "outputs": [
        {
          "output_type": "display_data",
          "data": {
            "text/plain": [
              "<IPython.core.display.HTML object>"
            ],
            "text/html": [
              "\n",
              "            <style>\n",
              "                .geemap-dark {\n",
              "                    --jp-widgets-color: white;\n",
              "                    --jp-widgets-label-color: white;\n",
              "                    --jp-ui-font-color1: white;\n",
              "                    --jp-layout-color2: #454545;\n",
              "                    background-color: #383838;\n",
              "                }\n",
              "\n",
              "                .geemap-dark .jupyter-button {\n",
              "                    --jp-layout-color3: #383838;\n",
              "                }\n",
              "\n",
              "                .geemap-colab {\n",
              "                    background-color: var(--colab-primary-surface-color, white);\n",
              "                }\n",
              "\n",
              "                .geemap-colab .jupyter-button {\n",
              "                    --jp-layout-color3: var(--colab-primary-surface-color, white);\n",
              "                }\n",
              "            </style>\n",
              "            "
            ]
          },
          "metadata": {}
        },
        {
          "output_type": "execute_result",
          "data": {
            "text/plain": [
              "10"
            ]
          },
          "metadata": {},
          "execution_count": 42
        }
      ]
    },
    {
      "cell_type": "code",
      "source": [
        "jrc = ee.ImageCollection(\"JRC/GSW1_4/MonthlyRecurrence\")\n",
        "jrc_size= jrc.size().getInfo()"
      ],
      "metadata": {
        "id": "DsjezAd36HuC",
        "colab": {
          "base_uri": "https://localhost:8080/",
          "height": 17
        },
        "outputId": "a7d67691-69d9-405c-b777-50722ea68caf"
      },
      "execution_count": null,
      "outputs": [
        {
          "output_type": "display_data",
          "data": {
            "text/plain": [
              "<IPython.core.display.HTML object>"
            ],
            "text/html": [
              "\n",
              "            <style>\n",
              "                .geemap-dark {\n",
              "                    --jp-widgets-color: white;\n",
              "                    --jp-widgets-label-color: white;\n",
              "                    --jp-ui-font-color1: white;\n",
              "                    --jp-layout-color2: #454545;\n",
              "                    background-color: #383838;\n",
              "                }\n",
              "\n",
              "                .geemap-dark .jupyter-button {\n",
              "                    --jp-layout-color3: #383838;\n",
              "                }\n",
              "\n",
              "                .geemap-colab {\n",
              "                    background-color: var(--colab-primary-surface-color, white);\n",
              "                }\n",
              "\n",
              "                .geemap-colab .jupyter-button {\n",
              "                    --jp-layout-color3: var(--colab-primary-surface-color, white);\n",
              "                }\n",
              "            </style>\n",
              "            "
            ]
          },
          "metadata": {}
        }
      ]
    },
    {
      "cell_type": "code",
      "source": [
        "for j in range(jrc_size):\n",
        "  jrc_img = ee.Image(jrc.toList(jrc_size).get(j))\n",
        "  jrc_month = jrc_img.get('month').getInfo()\n",
        "  if jrc_month == my_month:\n",
        "    monthly_image = jrc_img.select(['monthly_recurrence'])"
      ],
      "metadata": {
        "id": "8NNm2OLN6V8B",
        "colab": {
          "base_uri": "https://localhost:8080/",
          "height": 55
        },
        "outputId": "672f9f12-9422-4c91-8788-55bb7b87c3b4"
      },
      "execution_count": null,
      "outputs": [
        {
          "output_type": "display_data",
          "data": {
            "text/plain": [
              "<IPython.core.display.HTML object>"
            ],
            "text/html": [
              "\n",
              "            <style>\n",
              "                .geemap-dark {\n",
              "                    --jp-widgets-color: white;\n",
              "                    --jp-widgets-label-color: white;\n",
              "                    --jp-ui-font-color1: white;\n",
              "                    --jp-layout-color2: #454545;\n",
              "                    background-color: #383838;\n",
              "                }\n",
              "\n",
              "                .geemap-dark .jupyter-button {\n",
              "                    --jp-layout-color3: #383838;\n",
              "                }\n",
              "\n",
              "                .geemap-colab {\n",
              "                    background-color: var(--colab-primary-surface-color, white);\n",
              "                }\n",
              "\n",
              "                .geemap-colab .jupyter-button {\n",
              "                    --jp-layout-color3: var(--colab-primary-surface-color, white);\n",
              "                }\n",
              "            </style>\n",
              "            "
            ]
          },
          "metadata": {}
        },
        {
          "output_type": "stream",
          "name": "stderr",
          "text": [
            "WARNING:googleapiclient.http:Sleeping 0.85 seconds before retry 1 of 5 for request: POST https://earthengine.googleapis.com/v1/projects/servir-sco-assets/value:compute?prettyPrint=false&alt=json, after 503\n"
          ]
        }
      ]
    },
    {
      "cell_type": "code",
      "source": [
        "Map = geemap.Map(center = (0, 0), zoom = 4)\n",
        "\n",
        "Map.addLayer(monthly_image)\n",
        "Map.addLayer(final_geom)\n",
        "\n",
        "Map"
      ],
      "metadata": {
        "id": "XDckLnGZuG1p",
        "colab": {
          "base_uri": "https://localhost:8080/",
          "height": 621,
          "referenced_widgets": [
            "2a2ea6e17a224b47905d9423cb7fb196",
            "163f84f7381146c8be09867ca293bbec",
            "8a4f388505334ba480c40c66f4dfd13b",
            "38bf1ce159cd44a7b9a0b73bbb789372",
            "9c9dd6f6ec074af6b6a407b7073e0681",
            "5afe79261c2a429fa2d64022727638bd",
            "3633bdaac98b4f6cbdc7c218d341cf3e",
            "2f6302d5cc204ad4996373c2f106e540",
            "7327b1357f1c4ea6a6d01c0e20ed7af4",
            "5aa9be2611e64e9cbc873bbbb1f491fb",
            "793abdb1c10a46549cb49aeb54042cd0",
            "b9e3010a109048b3a68e7f49a407e5d2",
            "693cc258548c4a9d9529287f7267715a",
            "a2ce434f06524e0a8c84e7bc15cabc59",
            "97e19860ed4b4561a3f517c71239c37c",
            "62125bd1189346fa905886ca1e78fe3a",
            "14f8068ac0b145feab0f8c158b04032f",
            "cafe18fcc2ce4304b4ca0cc5c597c2e2",
            "66ab8848bc15433387869d03d889a4ec",
            "7b4f1b785d8e4a92a5f4c82579ff0451",
            "fe8589f362c741e1b0bbba158917682b",
            "7c0c4f187d7042e88dd53193cd575e47",
            "fa8459d1008b48fc9b26105b53abbacf",
            "3dac82539a0e466dabb11140b7932c09",
            "89d8a62cdf314b7597c2c3b268b084f8",
            "72ef0ad217ec4464a2e19fc76efadaa5",
            "a2c5e887d2384baaa8a8a75c1273c3d6",
            "62c1fa3071a84b54a4a91978bf909275",
            "2001cd425c084321ab87933373c8f228",
            "20b8530fabe545179e8d74627ab2356c",
            "7dda7d1b47994090b2e1e85a35887a3a",
            "51617de86cd041d483f1a3351e56fc67",
            "a85bd8060319464cb0509320ee3ffcf3",
            "791e12d4fb5742f683279cd038b07baf",
            "d56b21fabb39408ea9a21d29258068cb",
            "b226c2610db84d5295ac99741bbde7c5",
            "23a0e2aafaf04ba492021fb4927a653f",
            "844b98ebe7064db18fddb323568b3a00",
            "bbd3aad2fc84429ab70ac68594561574",
            "b19d6b6ad5e848348b64b40d0e3b3b21",
            "b6a7b9d9d221420d946e43a20100340b",
            "f7230a5fcc6246d88aef7399d0c0f91c",
            "aec100982f2c4af993d91fbdd313a0aa",
            "1b7880ccdcb74bcc91119787a64185c6",
            "b18f2093e2454201bc18ca5bf09c92c7",
            "a412b4e241b4457c98153add088e8fe7",
            "e2e4c80e6b744fb7be75e98c3fd30ed4",
            "44e2d27d751c4fb4962dd73d00cbf9d4",
            "9a06f546bb4c4c91be0c955f0beef123",
            "0bc29f4a453d4d3484104e9b08d17f4f",
            "eb7a96f3df83423d94c30a2f13b733de",
            "a0dd9d48ca24440684b771d4432b8401",
            "b804c61621fb463294bb2f6128effec8",
            "15a6f721162e44f8a1b4e3a08b7da908",
            "bb6c0546b47442419c4fbe19a12229c0",
            "beafb7e379be4eac8bc67e493cd040b5",
            "0a0044e67c0d408e80f47595dc88cf0b",
            "cb59958039ff4f96adb6e3cef4240cc0",
            "e5678b12009c4a2b8b07e6df5a4630ca",
            "07d39ebc52464af9bfb74469669e8f04",
            "6ad1804f29f64029b2e811628a93900e",
            "1c79969c8e344ebeaa9c0e7f79c94a29",
            "b4faca158418425cb4bdfb72638d4a87",
            "9a81f82961874dee847025afa8ddd76b",
            "c67e37a72b1a4cc6bdb44d155318cb7c",
            "f7d5fe50a22d4233a178462da3a0f1e1",
            "7327bd69f30d4fc6aad536fcf9db04e3",
            "4c69ad98a5074211b77e9b10106ca378",
            "630d33a46a16406685c408fa91d3fa86",
            "d243427fa93e4a818b5a28d27facbcc2",
            "1daecdffae49407ab3cf46e8ce1d6829",
            "1a852a4783d14023b1b39259af40d0ea",
            "6fd2ff27108e4329b6aff65fedcd734b",
            "8681c62815454662bb8dcfd2abbe1792",
            "fc1ce7519eb34032b1d43b6a681c5d8c",
            "cd7853a6ce5c4abe8341a2f1c9d61d81",
            "53e3de31147848d3a2089b2eba10714c",
            "19162ecc549247e1a9a3245de994606d",
            "a50587193e99448488b6e7b6e2136b75",
            "0a1989eedb474c9b9dbc05b2e7da5cdc",
            "0dc3e3fa48a14d8390f28cb448c6c77d",
            "5ca9051d6c914957a981058a51059a90",
            "5439f69a34674ababcbe813cb741d009",
            "2070a2591d1e4ec8bc3bf0c2e8bbc109",
            "055b00a0e937476ab99e9e3605bbf8dc",
            "e90c17ff5c0e4271a0c5777afa132067",
            "31f79a2c062a40daaef5428e3234fdce",
            "cf1262792f9f4a86bea35c258bd66314",
            "65086229ad1a4e93b389c16ad7f2f315",
            "efcc89b1f6a54ca694035cfdf56c41a7"
          ]
        },
        "outputId": "d4fe4202-7065-4b4c-eb9b-daa53ed33528"
      },
      "execution_count": null,
      "outputs": [
        {
          "output_type": "display_data",
          "data": {
            "text/plain": [
              "<IPython.core.display.HTML object>"
            ],
            "text/html": [
              "\n",
              "            <style>\n",
              "                .geemap-dark {\n",
              "                    --jp-widgets-color: white;\n",
              "                    --jp-widgets-label-color: white;\n",
              "                    --jp-ui-font-color1: white;\n",
              "                    --jp-layout-color2: #454545;\n",
              "                    background-color: #383838;\n",
              "                }\n",
              "\n",
              "                .geemap-dark .jupyter-button {\n",
              "                    --jp-layout-color3: #383838;\n",
              "                }\n",
              "\n",
              "                .geemap-colab {\n",
              "                    background-color: var(--colab-primary-surface-color, white);\n",
              "                }\n",
              "\n",
              "                .geemap-colab .jupyter-button {\n",
              "                    --jp-layout-color3: var(--colab-primary-surface-color, white);\n",
              "                }\n",
              "            </style>\n",
              "            "
            ]
          },
          "metadata": {}
        },
        {
          "output_type": "display_data",
          "data": {
            "text/plain": [
              "Map(center=[0, 0], controls=(WidgetControl(options=['position', 'transparent_bg'], widget=SearchDataGUI(childr…"
            ],
            "application/vnd.jupyter.widget-view+json": {
              "version_major": 2,
              "version_minor": 0,
              "model_id": "2a2ea6e17a224b47905d9423cb7fb196"
            }
          },
          "metadata": {
            "application/vnd.jupyter.widget-view+json": {
              "colab": {
                "custom_widget_manager": {
                  "url": "https://ssl.gstatic.com/colaboratory-static/widgets/colab-cdn-widget-manager/2b70e893a8ba7c0f/manager.min.js"
                }
              }
            }
          }
        }
      ]
    },
    {
      "cell_type": "code",
      "source": [
        "num_points = 1e3"
      ],
      "metadata": {
        "id": "ZNAHHeuzPD3c",
        "colab": {
          "base_uri": "https://localhost:8080/",
          "height": 17
        },
        "outputId": "55aea107-2373-466e-98a7-d9e7ec9ecffd"
      },
      "execution_count": null,
      "outputs": [
        {
          "output_type": "display_data",
          "data": {
            "text/plain": [
              "<IPython.core.display.HTML object>"
            ],
            "text/html": [
              "\n",
              "            <style>\n",
              "                .geemap-dark {\n",
              "                    --jp-widgets-color: white;\n",
              "                    --jp-widgets-label-color: white;\n",
              "                    --jp-ui-font-color1: white;\n",
              "                    --jp-layout-color2: #454545;\n",
              "                    background-color: #383838;\n",
              "                }\n",
              "\n",
              "                .geemap-dark .jupyter-button {\n",
              "                    --jp-layout-color3: #383838;\n",
              "                }\n",
              "\n",
              "                .geemap-colab {\n",
              "                    background-color: var(--colab-primary-surface-color, white);\n",
              "                }\n",
              "\n",
              "                .geemap-colab .jupyter-button {\n",
              "                    --jp-layout-color3: var(--colab-primary-surface-color, white);\n",
              "                }\n",
              "            </style>\n",
              "            "
            ]
          },
          "metadata": {}
        }
      ]
    },
    {
      "cell_type": "code",
      "source": [
        "my_strat_sample = monthly_image.stratifiedSample(\n",
        "    numPoints = 0,\n",
        "    classValues = [75, 76, 77, 78, 79, 80, 81, 82, 83, 84, 85, 86, 87, 88, 89, 90, 91, 92, 93, 94, 95, 96, 97, 98, 99, 100],\n",
        "    classPoints = [num_points, num_points, num_points, num_points, num_points,\n",
        "                   num_points, num_points, num_points, num_points, num_points,\n",
        "                   num_points, num_points, num_points, num_points, num_points,\n",
        "                   num_points, num_points, num_points, num_points, num_points,\n",
        "                   num_points, num_points, num_points, num_points, num_points, num_points],\n",
        "    region = aoi,\n",
        "    geometries = True,\n",
        "    scale = 30,\n",
        "    projection = final_proj_string\n",
        ")"
      ],
      "metadata": {
        "id": "tRvuPGBm8zgh",
        "colab": {
          "base_uri": "https://localhost:8080/",
          "height": 17
        },
        "outputId": "d1bfc115-a8e2-4014-bb95-cd0f32bc8466"
      },
      "execution_count": null,
      "outputs": [
        {
          "output_type": "display_data",
          "data": {
            "text/plain": [
              "<IPython.core.display.HTML object>"
            ],
            "text/html": [
              "\n",
              "            <style>\n",
              "                .geemap-dark {\n",
              "                    --jp-widgets-color: white;\n",
              "                    --jp-widgets-label-color: white;\n",
              "                    --jp-ui-font-color1: white;\n",
              "                    --jp-layout-color2: #454545;\n",
              "                    background-color: #383838;\n",
              "                }\n",
              "\n",
              "                .geemap-dark .jupyter-button {\n",
              "                    --jp-layout-color3: #383838;\n",
              "                }\n",
              "\n",
              "                .geemap-colab {\n",
              "                    background-color: var(--colab-primary-surface-color, white);\n",
              "                }\n",
              "\n",
              "                .geemap-colab .jupyter-button {\n",
              "                    --jp-layout-color3: var(--colab-primary-surface-color, white);\n",
              "                }\n",
              "            </style>\n",
              "            "
            ]
          },
          "metadata": {}
        }
      ]
    },
    {
      "cell_type": "code",
      "source": [
        "s1_sampled = sent1_med.select(['VV']).sampleRegions(\n",
        "    collection=my_strat_sample,\n",
        "    properties=['water'],\n",
        "    projection=final_proj_string,\n",
        "    scale=30\n",
        ")"
      ],
      "metadata": {
        "id": "bVpQCSlh92fl",
        "colab": {
          "base_uri": "https://localhost:8080/",
          "height": 17
        },
        "outputId": "bd1bef9a-edd1-41a6-9d6f-4f72ec35e4bb"
      },
      "execution_count": null,
      "outputs": [
        {
          "output_type": "display_data",
          "data": {
            "text/plain": [
              "<IPython.core.display.HTML object>"
            ],
            "text/html": [
              "\n",
              "            <style>\n",
              "                .geemap-dark {\n",
              "                    --jp-widgets-color: white;\n",
              "                    --jp-widgets-label-color: white;\n",
              "                    --jp-ui-font-color1: white;\n",
              "                    --jp-layout-color2: #454545;\n",
              "                    background-color: #383838;\n",
              "                }\n",
              "\n",
              "                .geemap-dark .jupyter-button {\n",
              "                    --jp-layout-color3: #383838;\n",
              "                }\n",
              "\n",
              "                .geemap-colab {\n",
              "                    background-color: var(--colab-primary-surface-color, white);\n",
              "                }\n",
              "\n",
              "                .geemap-colab .jupyter-button {\n",
              "                    --jp-layout-color3: var(--colab-primary-surface-color, white);\n",
              "                }\n",
              "            </style>\n",
              "            "
            ]
          },
          "metadata": {}
        }
      ]
    },
    {
      "cell_type": "markdown",
      "source": [
        "The following cell will take a couple minutes to work."
      ],
      "metadata": {
        "id": "NtRsfLGnUXeT"
      }
    },
    {
      "cell_type": "code",
      "source": [
        "s1_size = s1_sampled.size().getInfo()\n",
        "listed = s1_sampled.toList(s1_size).getInfo()\n",
        "\n",
        "vv_values = []\n",
        "\n",
        "for j in range(s1_size):\n",
        "  myfeat = listed[j]['properties']['VV']\n",
        "  vv_values.append(myfeat)\n",
        "\n",
        "vv_mean = np.mean(vv_values)\n",
        "vv_mean"
      ],
      "metadata": {
        "id": "TmpsUweKQ7_Q",
        "colab": {
          "base_uri": "https://localhost:8080/",
          "height": 35
        },
        "outputId": "248806ce-3cde-4886-dfda-4f186f99dbcf"
      },
      "execution_count": null,
      "outputs": [
        {
          "output_type": "display_data",
          "data": {
            "text/plain": [
              "<IPython.core.display.HTML object>"
            ],
            "text/html": [
              "\n",
              "            <style>\n",
              "                .geemap-dark {\n",
              "                    --jp-widgets-color: white;\n",
              "                    --jp-widgets-label-color: white;\n",
              "                    --jp-ui-font-color1: white;\n",
              "                    --jp-layout-color2: #454545;\n",
              "                    background-color: #383838;\n",
              "                }\n",
              "\n",
              "                .geemap-dark .jupyter-button {\n",
              "                    --jp-layout-color3: #383838;\n",
              "                }\n",
              "\n",
              "                .geemap-colab {\n",
              "                    background-color: var(--colab-primary-surface-color, white);\n",
              "                }\n",
              "\n",
              "                .geemap-colab .jupyter-button {\n",
              "                    --jp-layout-color3: var(--colab-primary-surface-color, white);\n",
              "                }\n",
              "            </style>\n",
              "            "
            ]
          },
          "metadata": {}
        },
        {
          "output_type": "execute_result",
          "data": {
            "text/plain": [
              "np.float64(-13.848508648337301)"
            ]
          },
          "metadata": {},
          "execution_count": 49
        }
      ]
    },
    {
      "cell_type": "code",
      "source": [
        "vv_mean"
      ],
      "metadata": {
        "id": "VwoafANPXEnP",
        "colab": {
          "base_uri": "https://localhost:8080/",
          "height": 35
        },
        "outputId": "0a31f4ef-2ddf-456f-b2fd-58eeebdb7b4a"
      },
      "execution_count": null,
      "outputs": [
        {
          "output_type": "display_data",
          "data": {
            "text/plain": [
              "<IPython.core.display.HTML object>"
            ],
            "text/html": [
              "\n",
              "            <style>\n",
              "                .geemap-dark {\n",
              "                    --jp-widgets-color: white;\n",
              "                    --jp-widgets-label-color: white;\n",
              "                    --jp-ui-font-color1: white;\n",
              "                    --jp-layout-color2: #454545;\n",
              "                    background-color: #383838;\n",
              "                }\n",
              "\n",
              "                .geemap-dark .jupyter-button {\n",
              "                    --jp-layout-color3: #383838;\n",
              "                }\n",
              "\n",
              "                .geemap-colab {\n",
              "                    background-color: var(--colab-primary-surface-color, white);\n",
              "                }\n",
              "\n",
              "                .geemap-colab .jupyter-button {\n",
              "                    --jp-layout-color3: var(--colab-primary-surface-color, white);\n",
              "                }\n",
              "            </style>\n",
              "            "
            ]
          },
          "metadata": {}
        },
        {
          "output_type": "execute_result",
          "data": {
            "text/plain": [
              "np.float64(-13.848508648337301)"
            ]
          },
          "metadata": {},
          "execution_count": 50
        }
      ]
    },
    {
      "cell_type": "markdown",
      "source": [
        "## Part 7 Step 2: Run Edge Otsu Algorithm"
      ],
      "metadata": {
        "id": "NBWuODxeqXDP"
      }
    },
    {
      "cell_type": "code",
      "source": [
        "edge = hf.edge_otsu(\n",
        "    sent1_med, #Sent1_med\n",
        "    band = 'VV',\n",
        "    region = roi,\n",
        "    edge_buffer = 100,\n",
        "    initial_threshold = vv_mean,\n",
        "    thresh_no_data = -15,\n",
        "    scale = 30\n",
        ").clip(roi)"
      ],
      "metadata": {
        "id": "98Z3fs5hltIa",
        "colab": {
          "base_uri": "https://localhost:8080/",
          "height": 17
        },
        "outputId": "e9c65cf9-a862-42b3-cc93-c2773be95dd7"
      },
      "execution_count": null,
      "outputs": [
        {
          "output_type": "display_data",
          "data": {
            "text/plain": [
              "<IPython.core.display.HTML object>"
            ],
            "text/html": [
              "\n",
              "            <style>\n",
              "                .geemap-dark {\n",
              "                    --jp-widgets-color: white;\n",
              "                    --jp-widgets-label-color: white;\n",
              "                    --jp-ui-font-color1: white;\n",
              "                    --jp-layout-color2: #454545;\n",
              "                    background-color: #383838;\n",
              "                }\n",
              "\n",
              "                .geemap-dark .jupyter-button {\n",
              "                    --jp-layout-color3: #383838;\n",
              "                }\n",
              "\n",
              "                .geemap-colab {\n",
              "                    background-color: var(--colab-primary-surface-color, white);\n",
              "                }\n",
              "\n",
              "                .geemap-colab .jupyter-button {\n",
              "                    --jp-layout-color3: var(--colab-primary-surface-color, white);\n",
              "                }\n",
              "            </style>\n",
              "            "
            ]
          },
          "metadata": {}
        }
      ]
    },
    {
      "cell_type": "code",
      "source": [
        "my_Gdrive_folder"
      ],
      "metadata": {
        "colab": {
          "base_uri": "https://localhost:8080/",
          "height": 36
        },
        "id": "xLXRY_3yw8at",
        "outputId": "35073ddc-5389-4ed0-e637-d2a249c091d4"
      },
      "execution_count": null,
      "outputs": [
        {
          "output_type": "display_data",
          "data": {
            "text/plain": [
              "<IPython.core.display.HTML object>"
            ],
            "text/html": [
              "\n",
              "            <style>\n",
              "                .geemap-dark {\n",
              "                    --jp-widgets-color: white;\n",
              "                    --jp-widgets-label-color: white;\n",
              "                    --jp-ui-font-color1: white;\n",
              "                    --jp-layout-color2: #454545;\n",
              "                    background-color: #383838;\n",
              "                }\n",
              "\n",
              "                .geemap-dark .jupyter-button {\n",
              "                    --jp-layout-color3: #383838;\n",
              "                }\n",
              "\n",
              "                .geemap-colab {\n",
              "                    background-color: var(--colab-primary-surface-color, white);\n",
              "                }\n",
              "\n",
              "                .geemap-colab .jupyter-button {\n",
              "                    --jp-layout-color3: var(--colab-primary-surface-color, white);\n",
              "                }\n",
              "            </style>\n",
              "            "
            ]
          },
          "metadata": {}
        },
        {
          "output_type": "execute_result",
          "data": {
            "text/plain": [
              "'drive/My Drive/Flood_Intercomparison/Case_Studies/semifinal/sf_cambodia_20241001'"
            ],
            "application/vnd.google.colaboratory.intrinsic+json": {
              "type": "string"
            }
          },
          "metadata": {},
          "execution_count": 52
        }
      ]
    },
    {
      "cell_type": "code",
      "source": [
        "def img_exporter(img, scale_):\n",
        "  region = roi\n",
        "  geemap.ee_export_image_to_drive(\n",
        "      image = img,\n",
        "      description = 'hydrafloods_' + flood_event_desc,\n",
        "      region = region,\n",
        "      scale = scale_,\n",
        "      crs = final_proj_string,\n",
        "      maxPixels = 1e13\n",
        "  )"
      ],
      "metadata": {
        "id": "rhDf6QgYlza2",
        "colab": {
          "base_uri": "https://localhost:8080/",
          "height": 17
        },
        "outputId": "dda1c9d2-30f3-4186-810e-17603838bdc7"
      },
      "execution_count": null,
      "outputs": [
        {
          "output_type": "display_data",
          "data": {
            "text/plain": [
              "<IPython.core.display.HTML object>"
            ],
            "text/html": [
              "\n",
              "            <style>\n",
              "                .geemap-dark {\n",
              "                    --jp-widgets-color: white;\n",
              "                    --jp-widgets-label-color: white;\n",
              "                    --jp-ui-font-color1: white;\n",
              "                    --jp-layout-color2: #454545;\n",
              "                    background-color: #383838;\n",
              "                }\n",
              "\n",
              "                .geemap-dark .jupyter-button {\n",
              "                    --jp-layout-color3: #383838;\n",
              "                }\n",
              "\n",
              "                .geemap-colab {\n",
              "                    background-color: var(--colab-primary-surface-color, white);\n",
              "                }\n",
              "\n",
              "                .geemap-colab .jupyter-button {\n",
              "                    --jp-layout-color3: var(--colab-primary-surface-color, white);\n",
              "                }\n",
              "            </style>\n",
              "            "
            ]
          },
          "metadata": {}
        }
      ]
    },
    {
      "cell_type": "code",
      "source": [
        "'''\n",
        "# Define a function that exports an Image to a Google Earth Engine Asset.\n",
        "def img_exporter(img, scale_):\n",
        "\n",
        "  #desc = 'Flood_Map_Export_'\n",
        "  region_ = roi#.geometry()\n",
        "  geemap.ee_export_image_to_asset(image = img,\n",
        "                                  assetId = my_gee_folder + 'hydrafloods_mosaic', #my_gee_folder + 'hydrafloods_mosaic,\n",
        "                                  description = 'hydrafloods_export' + flood_event_desc,\n",
        "                                  region = region_,\n",
        "                                  crs = final_proj_string,\n",
        "                                  scale = scale_,\n",
        "                                  maxPixels = 1e13)\n",
        "  return 0\n",
        "'''"
      ],
      "metadata": {
        "id": "TTLYTc-mxbEL",
        "colab": {
          "base_uri": "https://localhost:8080/",
          "height": 126
        },
        "outputId": "3850186c-5804-4335-98e7-76eed755671b"
      },
      "execution_count": null,
      "outputs": [
        {
          "output_type": "display_data",
          "data": {
            "text/plain": [
              "<IPython.core.display.HTML object>"
            ],
            "text/html": [
              "\n",
              "            <style>\n",
              "                .geemap-dark {\n",
              "                    --jp-widgets-color: white;\n",
              "                    --jp-widgets-label-color: white;\n",
              "                    --jp-ui-font-color1: white;\n",
              "                    --jp-layout-color2: #454545;\n",
              "                    background-color: #383838;\n",
              "                }\n",
              "\n",
              "                .geemap-dark .jupyter-button {\n",
              "                    --jp-layout-color3: #383838;\n",
              "                }\n",
              "\n",
              "                .geemap-colab {\n",
              "                    background-color: var(--colab-primary-surface-color, white);\n",
              "                }\n",
              "\n",
              "                .geemap-colab .jupyter-button {\n",
              "                    --jp-layout-color3: var(--colab-primary-surface-color, white);\n",
              "                }\n",
              "            </style>\n",
              "            "
            ]
          },
          "metadata": {}
        },
        {
          "output_type": "execute_result",
          "data": {
            "text/plain": [
              "\"\\n# Define a function that exports an Image to a Google Earth Engine Asset.\\ndef img_exporter(img, scale_):\\n\\n  #desc = 'Flood_Map_Export_'\\n  region_ = roi#.geometry()\\n  geemap.ee_export_image_to_asset(image = img,\\n                                  assetId = my_gee_folder + 'hydrafloods_mosaic', #my_gee_folder + 'hydrafloods_mosaic,\\n                                  description = 'hydrafloods_export' + flood_event_desc,\\n                                  region = region_,\\n                                  crs = final_proj_string,\\n                                  scale = scale_,\\n                                  maxPixels = 1e13)\\n  return 0\\n\""
            ],
            "application/vnd.google.colaboratory.intrinsic+json": {
              "type": "string"
            }
          },
          "metadata": {},
          "execution_count": 54
        }
      ]
    },
    {
      "cell_type": "code",
      "source": [
        "img_exporter(edge, 30)"
      ],
      "metadata": {
        "id": "cWhZtlF4mHHC",
        "colab": {
          "base_uri": "https://localhost:8080/",
          "height": 17
        },
        "outputId": "3ce086a6-dc5c-4dff-ff7a-d747b05a07b1"
      },
      "execution_count": null,
      "outputs": [
        {
          "output_type": "display_data",
          "data": {
            "text/plain": [
              "<IPython.core.display.HTML object>"
            ],
            "text/html": [
              "\n",
              "            <style>\n",
              "                .geemap-dark {\n",
              "                    --jp-widgets-color: white;\n",
              "                    --jp-widgets-label-color: white;\n",
              "                    --jp-ui-font-color1: white;\n",
              "                    --jp-layout-color2: #454545;\n",
              "                    background-color: #383838;\n",
              "                }\n",
              "\n",
              "                .geemap-dark .jupyter-button {\n",
              "                    --jp-layout-color3: #383838;\n",
              "                }\n",
              "\n",
              "                .geemap-colab {\n",
              "                    background-color: var(--colab-primary-surface-color, white);\n",
              "                }\n",
              "\n",
              "                .geemap-colab .jupyter-button {\n",
              "                    --jp-layout-color3: var(--colab-primary-surface-color, white);\n",
              "                }\n",
              "            </style>\n",
              "            "
            ]
          },
          "metadata": {}
        }
      ]
    },
    {
      "cell_type": "code",
      "source": [
        "pwd"
      ],
      "metadata": {
        "colab": {
          "base_uri": "https://localhost:8080/",
          "height": 36
        },
        "id": "cw6ltfUXySN6",
        "outputId": "589aea6e-bef7-4dc9-c41a-d43b9386a74b"
      },
      "execution_count": null,
      "outputs": [
        {
          "output_type": "display_data",
          "data": {
            "text/plain": [
              "<IPython.core.display.HTML object>"
            ],
            "text/html": [
              "\n",
              "            <style>\n",
              "                .geemap-dark {\n",
              "                    --jp-widgets-color: white;\n",
              "                    --jp-widgets-label-color: white;\n",
              "                    --jp-ui-font-color1: white;\n",
              "                    --jp-layout-color2: #454545;\n",
              "                    background-color: #383838;\n",
              "                }\n",
              "\n",
              "                .geemap-dark .jupyter-button {\n",
              "                    --jp-layout-color3: #383838;\n",
              "                }\n",
              "\n",
              "                .geemap-colab {\n",
              "                    background-color: var(--colab-primary-surface-color, white);\n",
              "                }\n",
              "\n",
              "                .geemap-colab .jupyter-button {\n",
              "                    --jp-layout-color3: var(--colab-primary-surface-color, white);\n",
              "                }\n",
              "            </style>\n",
              "            "
            ]
          },
          "metadata": {}
        },
        {
          "output_type": "execute_result",
          "data": {
            "text/plain": [
              "'/content/drive/MyDrive/Flood_Intercomparison/Case_Studies/semifinal/sf_cambodia_20241001/dswx_hls'"
            ],
            "application/vnd.google.colaboratory.intrinsic+json": {
              "type": "string"
            }
          },
          "metadata": {},
          "execution_count": 56
        }
      ]
    },
    {
      "cell_type": "code",
      "source": [
        "time.sleep(10 * 60)    # Comment this line out if you have already waited for the export to finish running.\n",
        "source_path = '/content/drive/MyDrive/hydrafloods_'+ flood_event_desc+'.tif'\n",
        "dest_path = '/content/' + my_Gdrive_folder + '/hydrafloods_' + flood_event_desc + '.tif'\n",
        "\n",
        "shutil.move(source_path, dest_path)"
      ],
      "metadata": {
        "colab": {
          "base_uri": "https://localhost:8080/",
          "height": 441
        },
        "id": "kqaRCV4px875",
        "outputId": "1b909699-76e3-459c-85d5-6246771423e4"
      },
      "execution_count": null,
      "outputs": [
        {
          "output_type": "display_data",
          "data": {
            "text/plain": [
              "<IPython.core.display.HTML object>"
            ],
            "text/html": [
              "\n",
              "            <style>\n",
              "                .geemap-dark {\n",
              "                    --jp-widgets-color: white;\n",
              "                    --jp-widgets-label-color: white;\n",
              "                    --jp-ui-font-color1: white;\n",
              "                    --jp-layout-color2: #454545;\n",
              "                    background-color: #383838;\n",
              "                }\n",
              "\n",
              "                .geemap-dark .jupyter-button {\n",
              "                    --jp-layout-color3: #383838;\n",
              "                }\n",
              "\n",
              "                .geemap-colab {\n",
              "                    background-color: var(--colab-primary-surface-color, white);\n",
              "                }\n",
              "\n",
              "                .geemap-colab .jupyter-button {\n",
              "                    --jp-layout-color3: var(--colab-primary-surface-color, white);\n",
              "                }\n",
              "            </style>\n",
              "            "
            ]
          },
          "metadata": {}
        },
        {
          "output_type": "error",
          "ename": "FileNotFoundError",
          "evalue": "[Errno 2] No such file or directory: '/content/drive/MyDrive/hydrafloods_cambodia_testing.tif'",
          "traceback": [
            "\u001b[0;31m---------------------------------------------------------------------------\u001b[0m",
            "\u001b[0;31mFileNotFoundError\u001b[0m                         Traceback (most recent call last)",
            "\u001b[0;32m/usr/lib/python3.11/shutil.py\u001b[0m in \u001b[0;36mmove\u001b[0;34m(src, dst, copy_function)\u001b[0m\n\u001b[1;32m    852\u001b[0m     \u001b[0;32mtry\u001b[0m\u001b[0;34m:\u001b[0m\u001b[0;34m\u001b[0m\u001b[0;34m\u001b[0m\u001b[0m\n\u001b[0;32m--> 853\u001b[0;31m         \u001b[0mos\u001b[0m\u001b[0;34m.\u001b[0m\u001b[0mrename\u001b[0m\u001b[0;34m(\u001b[0m\u001b[0msrc\u001b[0m\u001b[0;34m,\u001b[0m \u001b[0mreal_dst\u001b[0m\u001b[0;34m)\u001b[0m\u001b[0;34m\u001b[0m\u001b[0;34m\u001b[0m\u001b[0m\n\u001b[0m\u001b[1;32m    854\u001b[0m     \u001b[0;32mexcept\u001b[0m \u001b[0mOSError\u001b[0m\u001b[0;34m:\u001b[0m\u001b[0;34m\u001b[0m\u001b[0;34m\u001b[0m\u001b[0m\n",
            "\u001b[0;31mFileNotFoundError\u001b[0m: [Errno 2] No such file or directory: '/content/drive/MyDrive/hydrafloods_cambodia_testing.tif' -> '/content/drive/My Drive/Flood_Intercomparison/Case_Studies/semifinal/sf_cambodia_20241001/hydrafloods_cambodia_testing.tif'",
            "\nDuring handling of the above exception, another exception occurred:\n",
            "\u001b[0;31mFileNotFoundError\u001b[0m                         Traceback (most recent call last)",
            "\u001b[0;32m/tmp/ipython-input-784222685.py\u001b[0m in \u001b[0;36m<cell line: 0>\u001b[0;34m()\u001b[0m\n\u001b[1;32m      3\u001b[0m \u001b[0mdest_path\u001b[0m \u001b[0;34m=\u001b[0m \u001b[0;34m'/content/'\u001b[0m \u001b[0;34m+\u001b[0m \u001b[0mmy_Gdrive_folder\u001b[0m \u001b[0;34m+\u001b[0m \u001b[0;34m'/hydrafloods_'\u001b[0m \u001b[0;34m+\u001b[0m \u001b[0mflood_event_desc\u001b[0m \u001b[0;34m+\u001b[0m \u001b[0;34m'.tif'\u001b[0m\u001b[0;34m\u001b[0m\u001b[0;34m\u001b[0m\u001b[0m\n\u001b[1;32m      4\u001b[0m \u001b[0;34m\u001b[0m\u001b[0m\n\u001b[0;32m----> 5\u001b[0;31m \u001b[0mshutil\u001b[0m\u001b[0;34m.\u001b[0m\u001b[0mmove\u001b[0m\u001b[0;34m(\u001b[0m\u001b[0msource_path\u001b[0m\u001b[0;34m,\u001b[0m \u001b[0mdest_path\u001b[0m\u001b[0;34m)\u001b[0m\u001b[0;34m\u001b[0m\u001b[0;34m\u001b[0m\u001b[0m\n\u001b[0m",
            "\u001b[0;32m/usr/lib/python3.11/shutil.py\u001b[0m in \u001b[0;36mmove\u001b[0;34m(src, dst, copy_function)\u001b[0m\n\u001b[1;32m    871\u001b[0m             \u001b[0mrmtree\u001b[0m\u001b[0;34m(\u001b[0m\u001b[0msrc\u001b[0m\u001b[0;34m)\u001b[0m\u001b[0;34m\u001b[0m\u001b[0;34m\u001b[0m\u001b[0m\n\u001b[1;32m    872\u001b[0m         \u001b[0;32melse\u001b[0m\u001b[0;34m:\u001b[0m\u001b[0;34m\u001b[0m\u001b[0;34m\u001b[0m\u001b[0m\n\u001b[0;32m--> 873\u001b[0;31m             \u001b[0mcopy_function\u001b[0m\u001b[0;34m(\u001b[0m\u001b[0msrc\u001b[0m\u001b[0;34m,\u001b[0m \u001b[0mreal_dst\u001b[0m\u001b[0;34m)\u001b[0m\u001b[0;34m\u001b[0m\u001b[0;34m\u001b[0m\u001b[0m\n\u001b[0m\u001b[1;32m    874\u001b[0m             \u001b[0mos\u001b[0m\u001b[0;34m.\u001b[0m\u001b[0munlink\u001b[0m\u001b[0;34m(\u001b[0m\u001b[0msrc\u001b[0m\u001b[0;34m)\u001b[0m\u001b[0;34m\u001b[0m\u001b[0;34m\u001b[0m\u001b[0m\n\u001b[1;32m    875\u001b[0m     \u001b[0;32mreturn\u001b[0m \u001b[0mreal_dst\u001b[0m\u001b[0;34m\u001b[0m\u001b[0;34m\u001b[0m\u001b[0m\n",
            "\u001b[0;32m/usr/lib/python3.11/shutil.py\u001b[0m in \u001b[0;36mcopy2\u001b[0;34m(src, dst, follow_symlinks)\u001b[0m\n\u001b[1;32m    446\u001b[0m     \u001b[0;32mif\u001b[0m \u001b[0mos\u001b[0m\u001b[0;34m.\u001b[0m\u001b[0mpath\u001b[0m\u001b[0;34m.\u001b[0m\u001b[0misdir\u001b[0m\u001b[0;34m(\u001b[0m\u001b[0mdst\u001b[0m\u001b[0;34m)\u001b[0m\u001b[0;34m:\u001b[0m\u001b[0;34m\u001b[0m\u001b[0;34m\u001b[0m\u001b[0m\n\u001b[1;32m    447\u001b[0m         \u001b[0mdst\u001b[0m \u001b[0;34m=\u001b[0m \u001b[0mos\u001b[0m\u001b[0;34m.\u001b[0m\u001b[0mpath\u001b[0m\u001b[0;34m.\u001b[0m\u001b[0mjoin\u001b[0m\u001b[0;34m(\u001b[0m\u001b[0mdst\u001b[0m\u001b[0;34m,\u001b[0m \u001b[0mos\u001b[0m\u001b[0;34m.\u001b[0m\u001b[0mpath\u001b[0m\u001b[0;34m.\u001b[0m\u001b[0mbasename\u001b[0m\u001b[0;34m(\u001b[0m\u001b[0msrc\u001b[0m\u001b[0;34m)\u001b[0m\u001b[0;34m)\u001b[0m\u001b[0;34m\u001b[0m\u001b[0;34m\u001b[0m\u001b[0m\n\u001b[0;32m--> 448\u001b[0;31m     \u001b[0mcopyfile\u001b[0m\u001b[0;34m(\u001b[0m\u001b[0msrc\u001b[0m\u001b[0;34m,\u001b[0m \u001b[0mdst\u001b[0m\u001b[0;34m,\u001b[0m \u001b[0mfollow_symlinks\u001b[0m\u001b[0;34m=\u001b[0m\u001b[0mfollow_symlinks\u001b[0m\u001b[0;34m)\u001b[0m\u001b[0;34m\u001b[0m\u001b[0;34m\u001b[0m\u001b[0m\n\u001b[0m\u001b[1;32m    449\u001b[0m     \u001b[0mcopystat\u001b[0m\u001b[0;34m(\u001b[0m\u001b[0msrc\u001b[0m\u001b[0;34m,\u001b[0m \u001b[0mdst\u001b[0m\u001b[0;34m,\u001b[0m \u001b[0mfollow_symlinks\u001b[0m\u001b[0;34m=\u001b[0m\u001b[0mfollow_symlinks\u001b[0m\u001b[0;34m)\u001b[0m\u001b[0;34m\u001b[0m\u001b[0;34m\u001b[0m\u001b[0m\n\u001b[1;32m    450\u001b[0m     \u001b[0;32mreturn\u001b[0m \u001b[0mdst\u001b[0m\u001b[0;34m\u001b[0m\u001b[0;34m\u001b[0m\u001b[0m\n",
            "\u001b[0;32m/usr/lib/python3.11/shutil.py\u001b[0m in \u001b[0;36mcopyfile\u001b[0;34m(src, dst, follow_symlinks)\u001b[0m\n\u001b[1;32m    254\u001b[0m         \u001b[0mos\u001b[0m\u001b[0;34m.\u001b[0m\u001b[0msymlink\u001b[0m\u001b[0;34m(\u001b[0m\u001b[0mos\u001b[0m\u001b[0;34m.\u001b[0m\u001b[0mreadlink\u001b[0m\u001b[0;34m(\u001b[0m\u001b[0msrc\u001b[0m\u001b[0;34m)\u001b[0m\u001b[0;34m,\u001b[0m \u001b[0mdst\u001b[0m\u001b[0;34m)\u001b[0m\u001b[0;34m\u001b[0m\u001b[0;34m\u001b[0m\u001b[0m\n\u001b[1;32m    255\u001b[0m     \u001b[0;32melse\u001b[0m\u001b[0;34m:\u001b[0m\u001b[0;34m\u001b[0m\u001b[0;34m\u001b[0m\u001b[0m\n\u001b[0;32m--> 256\u001b[0;31m         \u001b[0;32mwith\u001b[0m \u001b[0mopen\u001b[0m\u001b[0;34m(\u001b[0m\u001b[0msrc\u001b[0m\u001b[0;34m,\u001b[0m \u001b[0;34m'rb'\u001b[0m\u001b[0;34m)\u001b[0m \u001b[0;32mas\u001b[0m \u001b[0mfsrc\u001b[0m\u001b[0;34m:\u001b[0m\u001b[0;34m\u001b[0m\u001b[0;34m\u001b[0m\u001b[0m\n\u001b[0m\u001b[1;32m    257\u001b[0m             \u001b[0;32mtry\u001b[0m\u001b[0;34m:\u001b[0m\u001b[0;34m\u001b[0m\u001b[0;34m\u001b[0m\u001b[0m\n\u001b[1;32m    258\u001b[0m                 \u001b[0;32mwith\u001b[0m \u001b[0mopen\u001b[0m\u001b[0;34m(\u001b[0m\u001b[0mdst\u001b[0m\u001b[0;34m,\u001b[0m \u001b[0;34m'wb'\u001b[0m\u001b[0;34m)\u001b[0m \u001b[0;32mas\u001b[0m \u001b[0mfdst\u001b[0m\u001b[0;34m:\u001b[0m\u001b[0;34m\u001b[0m\u001b[0;34m\u001b[0m\u001b[0m\n",
            "\u001b[0;31mFileNotFoundError\u001b[0m: [Errno 2] No such file or directory: '/content/drive/MyDrive/hydrafloods_cambodia_testing.tif'"
          ]
        }
      ]
    },
    {
      "cell_type": "code",
      "source": [
        "cd .."
      ],
      "metadata": {
        "colab": {
          "base_uri": "https://localhost:8080/",
          "height": 35
        },
        "id": "wt0zRfRFyl3F",
        "outputId": "6683499a-651f-46c7-c484-d022b13b531f"
      },
      "execution_count": null,
      "outputs": [
        {
          "output_type": "display_data",
          "data": {
            "text/plain": [
              "<IPython.core.display.HTML object>"
            ],
            "text/html": [
              "\n",
              "            <style>\n",
              "                .geemap-dark {\n",
              "                    --jp-widgets-color: white;\n",
              "                    --jp-widgets-label-color: white;\n",
              "                    --jp-ui-font-color1: white;\n",
              "                    --jp-layout-color2: #454545;\n",
              "                    background-color: #383838;\n",
              "                }\n",
              "\n",
              "                .geemap-dark .jupyter-button {\n",
              "                    --jp-layout-color3: #383838;\n",
              "                }\n",
              "\n",
              "                .geemap-colab {\n",
              "                    background-color: var(--colab-primary-surface-color, white);\n",
              "                }\n",
              "\n",
              "                .geemap-colab .jupyter-button {\n",
              "                    --jp-layout-color3: var(--colab-primary-surface-color, white);\n",
              "                }\n",
              "            </style>\n",
              "            "
            ]
          },
          "metadata": {}
        },
        {
          "output_type": "stream",
          "name": "stdout",
          "text": [
            "/content/drive/My Drive/Flood_Intercomparison/Case_Studies/semifinal/sf_arkansas_20250409\n"
          ]
        }
      ]
    },
    {
      "cell_type": "code",
      "source": [
        "ls"
      ],
      "metadata": {
        "colab": {
          "base_uri": "https://localhost:8080/",
          "height": 234
        },
        "id": "t6OJb-OK0Zq_",
        "outputId": "e6409af4-a6d8-4586-91ba-139a81b19d5e"
      },
      "execution_count": null,
      "outputs": [
        {
          "output_type": "display_data",
          "data": {
            "text/plain": [
              "<IPython.core.display.HTML object>"
            ],
            "text/html": [
              "\n",
              "            <style>\n",
              "                .geemap-dark {\n",
              "                    --jp-widgets-color: white;\n",
              "                    --jp-widgets-label-color: white;\n",
              "                    --jp-ui-font-color1: white;\n",
              "                    --jp-layout-color2: #454545;\n",
              "                    background-color: #383838;\n",
              "                }\n",
              "\n",
              "                .geemap-dark .jupyter-button {\n",
              "                    --jp-layout-color3: #383838;\n",
              "                }\n",
              "\n",
              "                .geemap-colab {\n",
              "                    background-color: var(--colab-primary-surface-color, white);\n",
              "                }\n",
              "\n",
              "                .geemap-colab .jupyter-button {\n",
              "                    --jp-layout-color3: var(--colab-primary-surface-color, white);\n",
              "                }\n",
              "            </style>\n",
              "            "
            ]
          },
          "metadata": {}
        },
        {
          "output_type": "stream",
          "name": "stdout",
          "text": [
            "arkansas_aoi.geojson\n",
            "\u001b[0m\u001b[01;34mdswx_hls\u001b[0m/\n",
            "\u001b[01;34mdswxs1\u001b[0m/\n",
            "\u001b[01;34mFlood_Intercomparison\u001b[0m/\n",
            "\u001b[01;34mGFM\u001b[0m/\n",
            "hydrafloods_arkansas_testing.tif\n",
            "\u001b[01;34mHYDROSAR\u001b[0m/\n",
            "\u001b[01;34mMCDWD\u001b[0m/\n",
            "Module_2_Scripted_Product_Access_sf_arkansas_20250409.ipynb\n",
            "Module_3_Harmonization_And_Visualization_semifinal_arkansas_20250409.ipynb\n",
            "Module_7_Intersection_Over_Union_semifinal_arkansas_20250409.ipynb\n",
            "\u001b[01;34mVFM\u001b[0m/\n"
          ]
        }
      ]
    },
    {
      "cell_type": "markdown",
      "source": [
        "# Part 8: Upload Flood Maps to GEE (USER INPUT REQUIRED)"
      ],
      "metadata": {
        "id": "VhOFDVI1ldIr"
      }
    },
    {
      "cell_type": "markdown",
      "source": [
        "For each flood map (except for HYDRAFloods), do the following steps:\n",
        "\n",
        "1. Navigate to your Google Drive Folder defined at the beginning of this notebook\n",
        "2. Navigate to the subfolder corresponding to the product of interest\n",
        "3. Download the product named \"merged_..._.tif\"\n",
        "4. Go to the Google Earth Engine code editor\n",
        "5. Click \"Assets\" in the top corner\n",
        "6. Click \"New\"\n",
        "7. Click \"GEOTIFF\"\n",
        "8. Under the text that says \"Asset ID\", type in the path to your Google Earth Engine folder you defined at the beginning of this notebook. Then, type in the name of the flood product you are uploading followed by \"_mosaic\".\n",
        "  * Example: If I am uploading the hydrosar product and my GEE parent folder is \"users/mickymags/flood_intercomparison\", under the asset id text I would type in \"users/mickymags/flood_intercomparison/hydrosar_mosaic\"\n",
        "9. Click upload\n",
        "10. Repeat for the other 5 flood products"
      ],
      "metadata": {
        "id": "gIl8Yx0opqBa"
      }
    }
  ],
  "metadata": {
    "colab": {
      "provenance": [],
      "toc_visible": true,
      "include_colab_link": true
    },
    "kernelspec": {
      "display_name": "Python 3",
      "name": "python3"
    },
    "language_info": {
      "name": "python"
    },
    "widgets": {
      "application/vnd.jupyter.widget-state+json": {
        "2a2ea6e17a224b47905d9423cb7fb196": {
          "model_module": "jupyter-leaflet",
          "model_name": "LeafletMapModel",
          "model_module_version": "^0.18",
          "state": {
            "_dom_classes": [],
            "_model_module": "jupyter-leaflet",
            "_model_module_version": "^0.18",
            "_model_name": "LeafletMapModel",
            "_view_count": null,
            "_view_module": "jupyter-leaflet",
            "_view_module_version": "^0.18",
            "_view_name": "LeafletMapView",
            "bottom": 2348,
            "bounce_at_zoom_limits": true,
            "box_zoom": true,
            "center": [
              0,
              0
            ],
            "close_popup_on_click": true,
            "controls": [
              "IPY_MODEL_163f84f7381146c8be09867ca293bbec",
              "IPY_MODEL_8a4f388505334ba480c40c66f4dfd13b",
              "IPY_MODEL_38bf1ce159cd44a7b9a0b73bbb789372",
              "IPY_MODEL_9c9dd6f6ec074af6b6a407b7073e0681",
              "IPY_MODEL_5afe79261c2a429fa2d64022727638bd",
              "IPY_MODEL_3633bdaac98b4f6cbdc7c218d341cf3e",
              "IPY_MODEL_2f6302d5cc204ad4996373c2f106e540",
              "IPY_MODEL_7327b1357f1c4ea6a6d01c0e20ed7af4"
            ],
            "crs": {
              "name": "EPSG3857",
              "custom": false
            },
            "default_style": "IPY_MODEL_5aa9be2611e64e9cbc873bbbb1f491fb",
            "double_click_zoom": true,
            "dragging": true,
            "dragging_style": "IPY_MODEL_793abdb1c10a46549cb49aeb54042cd0",
            "east": 43.76953125,
            "fullscreen": false,
            "inertia": true,
            "inertia_deceleration": 3000,
            "inertia_max_speed": 1500,
            "interpolation": "bilinear",
            "keyboard": true,
            "keyboard_pan_offset": 80,
            "keyboard_zoom_offset": 1,
            "layers": [
              "IPY_MODEL_b9e3010a109048b3a68e7f49a407e5d2",
              "IPY_MODEL_693cc258548c4a9d9529287f7267715a",
              "IPY_MODEL_a2ce434f06524e0a8c84e7bc15cabc59"
            ],
            "layout": "IPY_MODEL_97e19860ed4b4561a3f517c71239c37c",
            "left": 1551,
            "max_zoom": 24,
            "min_zoom": null,
            "modisdate": "2025-08-12",
            "north": 25.48295117535531,
            "options": [
              "bounce_at_zoom_limits",
              "box_zoom",
              "center",
              "close_popup_on_click",
              "double_click_zoom",
              "dragging",
              "fullscreen",
              "inertia",
              "inertia_deceleration",
              "inertia_max_speed",
              "interpolation",
              "keyboard",
              "keyboard_pan_offset",
              "keyboard_zoom_offset",
              "max_zoom",
              "min_zoom",
              "prefer_canvas",
              "scroll_wheel_zoom",
              "tap",
              "tap_tolerance",
              "touch_zoom",
              "world_copy_jump",
              "zoom",
              "zoom_animation_threshold",
              "zoom_delta",
              "zoom_snap"
            ],
            "panes": {},
            "prefer_canvas": false,
            "right": 2546,
            "scroll_wheel_zoom": true,
            "south": -25.48295117535532,
            "style": "IPY_MODEL_62125bd1189346fa905886ca1e78fe3a",
            "tap": true,
            "tap_tolerance": 15,
            "top": 1748,
            "touch_zoom": true,
            "west": -43.68164062500001,
            "window_url": "https://9er81pb1ihv-496ff2e9c6d22116-0-colab.googleusercontent.com/outputframe.html?vrz=colab_20250811-060043_RC00_793579265",
            "world_copy_jump": false,
            "zoom": 4,
            "zoom_animation_threshold": 4,
            "zoom_delta": 1,
            "zoom_snap": 1
          }
        },
        "163f84f7381146c8be09867ca293bbec": {
          "model_module": "jupyter-leaflet",
          "model_name": "LeafletWidgetControlModel",
          "model_module_version": "^0.18",
          "state": {
            "_model_module": "jupyter-leaflet",
            "_model_module_version": "^0.18",
            "_model_name": "LeafletWidgetControlModel",
            "_view_count": null,
            "_view_module": "jupyter-leaflet",
            "_view_module_version": "^0.18",
            "_view_name": "LeafletWidgetControlView",
            "max_height": null,
            "max_width": null,
            "min_height": null,
            "min_width": null,
            "options": [
              "position",
              "transparent_bg"
            ],
            "position": "topleft",
            "transparent_bg": false,
            "widget": "IPY_MODEL_14f8068ac0b145feab0f8c158b04032f"
          }
        },
        "8a4f388505334ba480c40c66f4dfd13b": {
          "model_module": "jupyter-leaflet",
          "model_name": "LeafletZoomControlModel",
          "model_module_version": "^0.18",
          "state": {
            "_model_module": "jupyter-leaflet",
            "_model_module_version": "^0.18",
            "_model_name": "LeafletZoomControlModel",
            "_view_count": null,
            "_view_module": "jupyter-leaflet",
            "_view_module_version": "^0.18",
            "_view_name": "LeafletZoomControlView",
            "options": [
              "position",
              "zoom_in_text",
              "zoom_in_title",
              "zoom_out_text",
              "zoom_out_title"
            ],
            "position": "topleft",
            "zoom_in_text": "+",
            "zoom_in_title": "Zoom in",
            "zoom_out_text": "-",
            "zoom_out_title": "Zoom out"
          }
        },
        "38bf1ce159cd44a7b9a0b73bbb789372": {
          "model_module": "jupyter-leaflet",
          "model_name": "LeafletFullScreenControlModel",
          "model_module_version": "^0.18",
          "state": {
            "_model_module": "jupyter-leaflet",
            "_model_module_version": "^0.18",
            "_model_name": "LeafletFullScreenControlModel",
            "_view_count": null,
            "_view_module": "jupyter-leaflet",
            "_view_module_version": "^0.18",
            "_view_name": "LeafletFullScreenControlView",
            "options": [
              "position"
            ],
            "position": "topleft"
          }
        },
        "9c9dd6f6ec074af6b6a407b7073e0681": {
          "model_module": "jupyter-leaflet",
          "model_name": "LeafletDrawControlModel",
          "model_module_version": "^0.18",
          "state": {
            "_model_module": "jupyter-leaflet",
            "_model_module_version": "^0.18",
            "_model_name": "LeafletDrawControlModel",
            "_view_count": null,
            "_view_module": "jupyter-leaflet",
            "_view_module_version": "^0.18",
            "_view_name": "LeafletDrawControlView",
            "circle": {},
            "circlemarker": {},
            "data": [],
            "edit": true,
            "marker": {
              "shapeOptions": {
                "color": "#3388ff"
              }
            },
            "options": [
              "position"
            ],
            "polygon": {
              "shapeOptions": {}
            },
            "polyline": {
              "shapeOptions": {}
            },
            "position": "topleft",
            "rectangle": {
              "shapeOptions": {
                "color": "#3388ff"
              }
            },
            "remove": true
          }
        },
        "5afe79261c2a429fa2d64022727638bd": {
          "model_module": "jupyter-leaflet",
          "model_name": "LeafletScaleControlModel",
          "model_module_version": "^0.18",
          "state": {
            "_model_module": "jupyter-leaflet",
            "_model_module_version": "^0.18",
            "_model_name": "LeafletScaleControlModel",
            "_view_count": null,
            "_view_module": "jupyter-leaflet",
            "_view_module_version": "^0.18",
            "_view_name": "LeafletScaleControlView",
            "imperial": true,
            "max_width": 100,
            "metric": true,
            "options": [
              "imperial",
              "max_width",
              "metric",
              "position",
              "update_when_idle"
            ],
            "position": "bottomleft",
            "update_when_idle": false
          }
        },
        "3633bdaac98b4f6cbdc7c218d341cf3e": {
          "model_module": "jupyter-leaflet",
          "model_name": "LeafletMeasureControlModel",
          "model_module_version": "^0.18",
          "state": {
            "_custom_units": {},
            "_model_module": "jupyter-leaflet",
            "_model_module_version": "^0.18",
            "_model_name": "LeafletMeasureControlModel",
            "_view_count": null,
            "_view_module": "jupyter-leaflet",
            "_view_module_version": "^0.18",
            "_view_name": "LeafletMeasureControlView",
            "active_color": "orange",
            "capture_z_index": 10000,
            "completed_color": "#C8F2BE",
            "options": [
              "active_color",
              "capture_z_index",
              "completed_color",
              "popup_options",
              "position",
              "primary_area_unit",
              "primary_length_unit",
              "secondary_area_unit",
              "secondary_length_unit"
            ],
            "popup_options": {
              "className": "leaflet-measure-resultpopup",
              "autoPanPadding": [
                10,
                10
              ]
            },
            "position": "bottomleft",
            "primary_area_unit": "acres",
            "primary_length_unit": "kilometers",
            "secondary_area_unit": null,
            "secondary_length_unit": null
          }
        },
        "2f6302d5cc204ad4996373c2f106e540": {
          "model_module": "jupyter-leaflet",
          "model_name": "LeafletWidgetControlModel",
          "model_module_version": "^0.18",
          "state": {
            "_model_module": "jupyter-leaflet",
            "_model_module_version": "^0.18",
            "_model_name": "LeafletWidgetControlModel",
            "_view_count": null,
            "_view_module": "jupyter-leaflet",
            "_view_module_version": "^0.18",
            "_view_name": "LeafletWidgetControlView",
            "max_height": null,
            "max_width": null,
            "min_height": null,
            "min_width": null,
            "options": [
              "position",
              "transparent_bg"
            ],
            "position": "topright",
            "transparent_bg": false,
            "widget": "IPY_MODEL_cafe18fcc2ce4304b4ca0cc5c597c2e2"
          }
        },
        "7327b1357f1c4ea6a6d01c0e20ed7af4": {
          "model_module": "jupyter-leaflet",
          "model_name": "LeafletAttributionControlModel",
          "model_module_version": "^0.18",
          "state": {
            "_model_module": "jupyter-leaflet",
            "_model_module_version": "^0.18",
            "_model_name": "LeafletAttributionControlModel",
            "_view_count": null,
            "_view_module": "jupyter-leaflet",
            "_view_module_version": "^0.18",
            "_view_name": "LeafletAttributionControlView",
            "options": [
              "position",
              "prefix"
            ],
            "position": "bottomright",
            "prefix": "ipyleaflet"
          }
        },
        "5aa9be2611e64e9cbc873bbbb1f491fb": {
          "model_module": "jupyter-leaflet",
          "model_name": "LeafletMapStyleModel",
          "model_module_version": "^0.18",
          "state": {
            "_model_module": "jupyter-leaflet",
            "_model_module_version": "^0.18",
            "_model_name": "LeafletMapStyleModel",
            "_view_count": null,
            "_view_module": "@jupyter-widgets/base",
            "_view_module_version": "1.2.0",
            "_view_name": "StyleView",
            "cursor": "grab"
          }
        },
        "793abdb1c10a46549cb49aeb54042cd0": {
          "model_module": "jupyter-leaflet",
          "model_name": "LeafletMapStyleModel",
          "model_module_version": "^0.18",
          "state": {
            "_model_module": "jupyter-leaflet",
            "_model_module_version": "^0.18",
            "_model_name": "LeafletMapStyleModel",
            "_view_count": null,
            "_view_module": "@jupyter-widgets/base",
            "_view_module_version": "1.2.0",
            "_view_name": "StyleView",
            "cursor": "move"
          }
        },
        "b9e3010a109048b3a68e7f49a407e5d2": {
          "model_module": "jupyter-leaflet",
          "model_name": "LeafletTileLayerModel",
          "model_module_version": "^0.18",
          "state": {
            "_model_module": "jupyter-leaflet",
            "_model_module_version": "^0.18",
            "_model_name": "LeafletTileLayerModel",
            "_view_count": null,
            "_view_module": "jupyter-leaflet",
            "_view_module_version": "^0.18",
            "_view_name": "LeafletTileLayerView",
            "attribution": "&copy; <a href=\"https://www.openstreetmap.org/copyright\">OpenStreetMap</a> contributors",
            "base": true,
            "bottom": true,
            "bounds": null,
            "detect_retina": false,
            "loading": false,
            "max_native_zoom": null,
            "max_zoom": 19,
            "min_native_zoom": null,
            "min_zoom": 1,
            "name": "OpenStreetMap.Mapnik",
            "no_wrap": false,
            "opacity": 1,
            "options": [
              "attribution",
              "bounds",
              "detect_retina",
              "max_native_zoom",
              "max_zoom",
              "min_native_zoom",
              "min_zoom",
              "no_wrap",
              "tile_size",
              "tms",
              "zoom_offset"
            ],
            "pane": "",
            "popup": null,
            "popup_max_height": null,
            "popup_max_width": 300,
            "popup_min_width": 50,
            "show_loading": false,
            "subitems": [],
            "tile_size": 256,
            "tms": false,
            "url": "https://tile.openstreetmap.org/{z}/{x}/{y}.png",
            "visible": true,
            "zoom_offset": 0
          }
        },
        "693cc258548c4a9d9529287f7267715a": {
          "model_module": "jupyter-leaflet",
          "model_name": "LeafletTileLayerModel",
          "model_module_version": "^0.18",
          "state": {
            "_model_module": "jupyter-leaflet",
            "_model_module_version": "^0.18",
            "_model_name": "LeafletTileLayerModel",
            "_view_count": null,
            "_view_module": "jupyter-leaflet",
            "_view_module_version": "^0.18",
            "_view_name": "LeafletTileLayerView",
            "attribution": "Google Earth Engine",
            "base": false,
            "bottom": true,
            "bounds": null,
            "detect_retina": false,
            "loading": false,
            "max_native_zoom": null,
            "max_zoom": 24,
            "min_native_zoom": null,
            "min_zoom": 0,
            "name": "Layer 1",
            "no_wrap": false,
            "opacity": 1,
            "options": [
              "attribution",
              "bounds",
              "detect_retina",
              "max_native_zoom",
              "max_zoom",
              "min_native_zoom",
              "min_zoom",
              "no_wrap",
              "tile_size",
              "tms",
              "zoom_offset"
            ],
            "pane": "",
            "popup": null,
            "popup_max_height": null,
            "popup_max_width": 300,
            "popup_min_width": 50,
            "show_loading": false,
            "subitems": [],
            "tile_size": 256,
            "tms": false,
            "url": "https://earthengine.googleapis.com/v1/projects/servir-sco-assets/maps/286721540863ff57a30dfbdc1823ef07-a19d7979328f7618310374ead592ea3c/tiles/{z}/{x}/{y}",
            "visible": true,
            "zoom_offset": 0
          }
        },
        "a2ce434f06524e0a8c84e7bc15cabc59": {
          "model_module": "jupyter-leaflet",
          "model_name": "LeafletTileLayerModel",
          "model_module_version": "^0.18",
          "state": {
            "_model_module": "jupyter-leaflet",
            "_model_module_version": "^0.18",
            "_model_name": "LeafletTileLayerModel",
            "_view_count": null,
            "_view_module": "jupyter-leaflet",
            "_view_module_version": "^0.18",
            "_view_name": "LeafletTileLayerView",
            "attribution": "Google Earth Engine",
            "base": false,
            "bottom": true,
            "bounds": null,
            "detect_retina": false,
            "loading": false,
            "max_native_zoom": null,
            "max_zoom": 24,
            "min_native_zoom": null,
            "min_zoom": 0,
            "name": "Layer 2",
            "no_wrap": false,
            "opacity": 1,
            "options": [
              "attribution",
              "bounds",
              "detect_retina",
              "max_native_zoom",
              "max_zoom",
              "min_native_zoom",
              "min_zoom",
              "no_wrap",
              "tile_size",
              "tms",
              "zoom_offset"
            ],
            "pane": "",
            "popup": null,
            "popup_max_height": null,
            "popup_max_width": 300,
            "popup_min_width": 50,
            "show_loading": false,
            "subitems": [],
            "tile_size": 256,
            "tms": false,
            "url": "https://earthengine.googleapis.com/v1/projects/servir-sco-assets/maps/e7d705b6c44d04cca3edbdc1bf46582b-747dd0a51fc9cdfa4675bff02c681897/tiles/{z}/{x}/{y}",
            "visible": true,
            "zoom_offset": 0
          }
        },
        "97e19860ed4b4561a3f517c71239c37c": {
          "model_module": "@jupyter-widgets/base",
          "model_name": "LayoutModel",
          "model_module_version": "1.2.0",
          "state": {
            "_model_module": "@jupyter-widgets/base",
            "_model_module_version": "1.2.0",
            "_model_name": "LayoutModel",
            "_view_count": null,
            "_view_module": "@jupyter-widgets/base",
            "_view_module_version": "1.2.0",
            "_view_name": "LayoutView",
            "align_content": null,
            "align_items": null,
            "align_self": null,
            "border": null,
            "bottom": null,
            "display": null,
            "flex": null,
            "flex_flow": null,
            "grid_area": null,
            "grid_auto_columns": null,
            "grid_auto_flow": null,
            "grid_auto_rows": null,
            "grid_column": null,
            "grid_gap": null,
            "grid_row": null,
            "grid_template_areas": null,
            "grid_template_columns": null,
            "grid_template_rows": null,
            "height": "600px",
            "justify_content": null,
            "justify_items": null,
            "left": null,
            "margin": null,
            "max_height": null,
            "max_width": null,
            "min_height": null,
            "min_width": null,
            "object_fit": null,
            "object_position": null,
            "order": null,
            "overflow": null,
            "overflow_x": null,
            "overflow_y": null,
            "padding": null,
            "right": null,
            "top": null,
            "visibility": null,
            "width": null
          }
        },
        "62125bd1189346fa905886ca1e78fe3a": {
          "model_module": "jupyter-leaflet",
          "model_name": "LeafletMapStyleModel",
          "model_module_version": "^0.18",
          "state": {
            "_model_module": "jupyter-leaflet",
            "_model_module_version": "^0.18",
            "_model_name": "LeafletMapStyleModel",
            "_view_count": null,
            "_view_module": "@jupyter-widgets/base",
            "_view_module_version": "1.2.0",
            "_view_name": "StyleView",
            "cursor": "grab"
          }
        },
        "14f8068ac0b145feab0f8c158b04032f": {
          "model_module": "@jupyter-widgets/controls",
          "model_name": "HBoxModel",
          "model_module_version": "1.5.0",
          "state": {
            "_dom_classes": [
              "geemap-colab"
            ],
            "_model_module": "@jupyter-widgets/controls",
            "_model_module_version": "1.5.0",
            "_model_name": "HBoxModel",
            "_view_count": null,
            "_view_module": "@jupyter-widgets/controls",
            "_view_module_version": "1.5.0",
            "_view_name": "HBoxView",
            "box_style": "",
            "children": [
              "IPY_MODEL_66ab8848bc15433387869d03d889a4ec"
            ],
            "layout": "IPY_MODEL_7b4f1b785d8e4a92a5f4c82579ff0451"
          }
        },
        "cafe18fcc2ce4304b4ca0cc5c597c2e2": {
          "model_module": "@jupyter-widgets/controls",
          "model_name": "VBoxModel",
          "model_module_version": "1.5.0",
          "state": {
            "_dom_classes": [
              "geemap-colab"
            ],
            "_model_module": "@jupyter-widgets/controls",
            "_model_module_version": "1.5.0",
            "_model_name": "VBoxModel",
            "_view_count": null,
            "_view_module": "@jupyter-widgets/controls",
            "_view_module_version": "1.5.0",
            "_view_name": "VBoxView",
            "box_style": "",
            "children": [
              "IPY_MODEL_fe8589f362c741e1b0bbba158917682b",
              "IPY_MODEL_7c0c4f187d7042e88dd53193cd575e47"
            ],
            "layout": "IPY_MODEL_fa8459d1008b48fc9b26105b53abbacf"
          }
        },
        "66ab8848bc15433387869d03d889a4ec": {
          "model_module": "@jupyter-widgets/controls",
          "model_name": "ToggleButtonModel",
          "model_module_version": "1.5.0",
          "state": {
            "_dom_classes": [],
            "_model_module": "@jupyter-widgets/controls",
            "_model_module_version": "1.5.0",
            "_model_name": "ToggleButtonModel",
            "_view_count": null,
            "_view_module": "@jupyter-widgets/controls",
            "_view_module_version": "1.5.0",
            "_view_name": "ToggleButtonView",
            "button_style": "",
            "description": "",
            "description_tooltip": null,
            "disabled": false,
            "icon": "globe",
            "layout": "IPY_MODEL_3dac82539a0e466dabb11140b7932c09",
            "style": "IPY_MODEL_89d8a62cdf314b7597c2c3b268b084f8",
            "tooltip": "Search location/data",
            "value": false
          }
        },
        "7b4f1b785d8e4a92a5f4c82579ff0451": {
          "model_module": "@jupyter-widgets/base",
          "model_name": "LayoutModel",
          "model_module_version": "1.2.0",
          "state": {
            "_model_module": "@jupyter-widgets/base",
            "_model_module_version": "1.2.0",
            "_model_name": "LayoutModel",
            "_view_count": null,
            "_view_module": "@jupyter-widgets/base",
            "_view_module_version": "1.2.0",
            "_view_name": "LayoutView",
            "align_content": null,
            "align_items": null,
            "align_self": null,
            "border": null,
            "bottom": null,
            "display": null,
            "flex": null,
            "flex_flow": null,
            "grid_area": null,
            "grid_auto_columns": null,
            "grid_auto_flow": null,
            "grid_auto_rows": null,
            "grid_column": null,
            "grid_gap": null,
            "grid_row": null,
            "grid_template_areas": null,
            "grid_template_columns": null,
            "grid_template_rows": null,
            "height": null,
            "justify_content": null,
            "justify_items": null,
            "left": null,
            "margin": null,
            "max_height": null,
            "max_width": null,
            "min_height": null,
            "min_width": null,
            "object_fit": null,
            "object_position": null,
            "order": null,
            "overflow": null,
            "overflow_x": null,
            "overflow_y": null,
            "padding": null,
            "right": null,
            "top": null,
            "visibility": null,
            "width": null
          }
        },
        "fe8589f362c741e1b0bbba158917682b": {
          "model_module": "@jupyter-widgets/controls",
          "model_name": "HBoxModel",
          "model_module_version": "1.5.0",
          "state": {
            "_dom_classes": [],
            "_model_module": "@jupyter-widgets/controls",
            "_model_module_version": "1.5.0",
            "_model_name": "HBoxModel",
            "_view_count": null,
            "_view_module": "@jupyter-widgets/controls",
            "_view_module_version": "1.5.0",
            "_view_name": "HBoxView",
            "box_style": "",
            "children": [
              "IPY_MODEL_72ef0ad217ec4464a2e19fc76efadaa5",
              "IPY_MODEL_a2c5e887d2384baaa8a8a75c1273c3d6"
            ],
            "layout": "IPY_MODEL_62c1fa3071a84b54a4a91978bf909275"
          }
        },
        "7c0c4f187d7042e88dd53193cd575e47": {
          "model_module": "@jupyter-widgets/controls",
          "model_name": "VBoxModel",
          "model_module_version": "1.5.0",
          "state": {
            "_dom_classes": [],
            "_model_module": "@jupyter-widgets/controls",
            "_model_module_version": "1.5.0",
            "_model_name": "VBoxModel",
            "_view_count": null,
            "_view_module": "@jupyter-widgets/controls",
            "_view_module_version": "1.5.0",
            "_view_name": "VBoxView",
            "box_style": "",
            "children": [
              "IPY_MODEL_2001cd425c084321ab87933373c8f228"
            ],
            "layout": "IPY_MODEL_20b8530fabe545179e8d74627ab2356c"
          }
        },
        "fa8459d1008b48fc9b26105b53abbacf": {
          "model_module": "@jupyter-widgets/base",
          "model_name": "LayoutModel",
          "model_module_version": "1.2.0",
          "state": {
            "_model_module": "@jupyter-widgets/base",
            "_model_module_version": "1.2.0",
            "_model_name": "LayoutModel",
            "_view_count": null,
            "_view_module": "@jupyter-widgets/base",
            "_view_module_version": "1.2.0",
            "_view_name": "LayoutView",
            "align_content": null,
            "align_items": null,
            "align_self": null,
            "border": null,
            "bottom": null,
            "display": null,
            "flex": null,
            "flex_flow": null,
            "grid_area": null,
            "grid_auto_columns": null,
            "grid_auto_flow": null,
            "grid_auto_rows": null,
            "grid_column": null,
            "grid_gap": null,
            "grid_row": null,
            "grid_template_areas": null,
            "grid_template_columns": null,
            "grid_template_rows": null,
            "height": null,
            "justify_content": null,
            "justify_items": null,
            "left": null,
            "margin": null,
            "max_height": null,
            "max_width": null,
            "min_height": null,
            "min_width": null,
            "object_fit": null,
            "object_position": null,
            "order": null,
            "overflow": null,
            "overflow_x": null,
            "overflow_y": null,
            "padding": null,
            "right": null,
            "top": null,
            "visibility": null,
            "width": null
          }
        },
        "3dac82539a0e466dabb11140b7932c09": {
          "model_module": "@jupyter-widgets/base",
          "model_name": "LayoutModel",
          "model_module_version": "1.2.0",
          "state": {
            "_model_module": "@jupyter-widgets/base",
            "_model_module_version": "1.2.0",
            "_model_name": "LayoutModel",
            "_view_count": null,
            "_view_module": "@jupyter-widgets/base",
            "_view_module_version": "1.2.0",
            "_view_name": "LayoutView",
            "align_content": null,
            "align_items": null,
            "align_self": null,
            "border": null,
            "bottom": null,
            "display": null,
            "flex": null,
            "flex_flow": null,
            "grid_area": null,
            "grid_auto_columns": null,
            "grid_auto_flow": null,
            "grid_auto_rows": null,
            "grid_column": null,
            "grid_gap": null,
            "grid_row": null,
            "grid_template_areas": null,
            "grid_template_columns": null,
            "grid_template_rows": null,
            "height": "28px",
            "justify_content": null,
            "justify_items": null,
            "left": null,
            "margin": null,
            "max_height": null,
            "max_width": null,
            "min_height": null,
            "min_width": null,
            "object_fit": null,
            "object_position": null,
            "order": null,
            "overflow": null,
            "overflow_x": null,
            "overflow_y": null,
            "padding": "0px 0px 0px 4px",
            "right": null,
            "top": null,
            "visibility": null,
            "width": "28px"
          }
        },
        "89d8a62cdf314b7597c2c3b268b084f8": {
          "model_module": "@jupyter-widgets/controls",
          "model_name": "DescriptionStyleModel",
          "model_module_version": "1.5.0",
          "state": {
            "_model_module": "@jupyter-widgets/controls",
            "_model_module_version": "1.5.0",
            "_model_name": "DescriptionStyleModel",
            "_view_count": null,
            "_view_module": "@jupyter-widgets/base",
            "_view_module_version": "1.2.0",
            "_view_name": "StyleView",
            "description_width": ""
          }
        },
        "72ef0ad217ec4464a2e19fc76efadaa5": {
          "model_module": "@jupyter-widgets/controls",
          "model_name": "ToggleButtonModel",
          "model_module_version": "1.5.0",
          "state": {
            "_dom_classes": [],
            "_model_module": "@jupyter-widgets/controls",
            "_model_module_version": "1.5.0",
            "_model_name": "ToggleButtonModel",
            "_view_count": null,
            "_view_module": "@jupyter-widgets/controls",
            "_view_module_version": "1.5.0",
            "_view_name": "ToggleButtonView",
            "button_style": "",
            "description": "",
            "description_tooltip": null,
            "disabled": false,
            "icon": "server",
            "layout": "IPY_MODEL_7dda7d1b47994090b2e1e85a35887a3a",
            "style": "IPY_MODEL_51617de86cd041d483f1a3351e56fc67",
            "tooltip": "Layers",
            "value": true
          }
        },
        "a2c5e887d2384baaa8a8a75c1273c3d6": {
          "model_module": "@jupyter-widgets/controls",
          "model_name": "ToggleButtonModel",
          "model_module_version": "1.5.0",
          "state": {
            "_dom_classes": [],
            "_model_module": "@jupyter-widgets/controls",
            "_model_module_version": "1.5.0",
            "_model_name": "ToggleButtonModel",
            "_view_count": null,
            "_view_module": "@jupyter-widgets/controls",
            "_view_module_version": "1.5.0",
            "_view_name": "ToggleButtonView",
            "button_style": "",
            "description": "",
            "description_tooltip": null,
            "disabled": false,
            "icon": "wrench",
            "layout": "IPY_MODEL_a85bd8060319464cb0509320ee3ffcf3",
            "style": "IPY_MODEL_791e12d4fb5742f683279cd038b07baf",
            "tooltip": "Toolbar",
            "value": false
          }
        },
        "62c1fa3071a84b54a4a91978bf909275": {
          "model_module": "@jupyter-widgets/base",
          "model_name": "LayoutModel",
          "model_module_version": "1.2.0",
          "state": {
            "_model_module": "@jupyter-widgets/base",
            "_model_module_version": "1.2.0",
            "_model_name": "LayoutModel",
            "_view_count": null,
            "_view_module": "@jupyter-widgets/base",
            "_view_module_version": "1.2.0",
            "_view_name": "LayoutView",
            "align_content": null,
            "align_items": "center",
            "align_self": null,
            "border": null,
            "bottom": null,
            "display": "flex",
            "flex": null,
            "flex_flow": null,
            "grid_area": null,
            "grid_auto_columns": null,
            "grid_auto_flow": null,
            "grid_auto_rows": null,
            "grid_column": null,
            "grid_gap": null,
            "grid_row": null,
            "grid_template_areas": null,
            "grid_template_columns": null,
            "grid_template_rows": null,
            "height": null,
            "justify_content": "flex-end",
            "justify_items": null,
            "left": null,
            "margin": null,
            "max_height": null,
            "max_width": null,
            "min_height": null,
            "min_width": null,
            "object_fit": null,
            "object_position": null,
            "order": null,
            "overflow": null,
            "overflow_x": null,
            "overflow_y": null,
            "padding": null,
            "right": null,
            "top": null,
            "visibility": null,
            "width": null
          }
        },
        "2001cd425c084321ab87933373c8f228": {
          "model_module": "@jupyter-widgets/controls",
          "model_name": "VBoxModel",
          "model_module_version": "1.5.0",
          "state": {
            "_dom_classes": [
              "geemap-colab"
            ],
            "_model_module": "@jupyter-widgets/controls",
            "_model_module_version": "1.5.0",
            "_model_name": "VBoxModel",
            "_view_count": null,
            "_view_module": "@jupyter-widgets/controls",
            "_view_module_version": "1.5.0",
            "_view_name": "VBoxView",
            "box_style": "",
            "children": [
              "IPY_MODEL_d56b21fabb39408ea9a21d29258068cb",
              "IPY_MODEL_b226c2610db84d5295ac99741bbde7c5"
            ],
            "layout": "IPY_MODEL_23a0e2aafaf04ba492021fb4927a653f"
          }
        },
        "20b8530fabe545179e8d74627ab2356c": {
          "model_module": "@jupyter-widgets/base",
          "model_name": "LayoutModel",
          "model_module_version": "1.2.0",
          "state": {
            "_model_module": "@jupyter-widgets/base",
            "_model_module_version": "1.2.0",
            "_model_name": "LayoutModel",
            "_view_count": null,
            "_view_module": "@jupyter-widgets/base",
            "_view_module_version": "1.2.0",
            "_view_name": "LayoutView",
            "align_content": null,
            "align_items": null,
            "align_self": null,
            "border": null,
            "bottom": null,
            "display": null,
            "flex": null,
            "flex_flow": null,
            "grid_area": null,
            "grid_auto_columns": null,
            "grid_auto_flow": null,
            "grid_auto_rows": null,
            "grid_column": null,
            "grid_gap": null,
            "grid_row": null,
            "grid_template_areas": null,
            "grid_template_columns": null,
            "grid_template_rows": null,
            "height": null,
            "justify_content": null,
            "justify_items": null,
            "left": null,
            "margin": null,
            "max_height": null,
            "max_width": null,
            "min_height": null,
            "min_width": null,
            "object_fit": null,
            "object_position": null,
            "order": null,
            "overflow": null,
            "overflow_x": null,
            "overflow_y": null,
            "padding": null,
            "right": null,
            "top": null,
            "visibility": null,
            "width": null
          }
        },
        "7dda7d1b47994090b2e1e85a35887a3a": {
          "model_module": "@jupyter-widgets/base",
          "model_name": "LayoutModel",
          "model_module_version": "1.2.0",
          "state": {
            "_model_module": "@jupyter-widgets/base",
            "_model_module_version": "1.2.0",
            "_model_name": "LayoutModel",
            "_view_count": null,
            "_view_module": "@jupyter-widgets/base",
            "_view_module_version": "1.2.0",
            "_view_name": "LayoutView",
            "align_content": null,
            "align_items": null,
            "align_self": null,
            "border": null,
            "bottom": null,
            "display": null,
            "flex": null,
            "flex_flow": null,
            "grid_area": null,
            "grid_auto_columns": null,
            "grid_auto_flow": null,
            "grid_auto_rows": null,
            "grid_column": null,
            "grid_gap": null,
            "grid_row": null,
            "grid_template_areas": null,
            "grid_template_columns": null,
            "grid_template_rows": null,
            "height": "28px",
            "justify_content": null,
            "justify_items": null,
            "left": null,
            "margin": null,
            "max_height": null,
            "max_width": null,
            "min_height": null,
            "min_width": null,
            "object_fit": null,
            "object_position": null,
            "order": null,
            "overflow": null,
            "overflow_x": null,
            "overflow_y": null,
            "padding": null,
            "right": null,
            "top": null,
            "visibility": null,
            "width": "72px"
          }
        },
        "51617de86cd041d483f1a3351e56fc67": {
          "model_module": "@jupyter-widgets/controls",
          "model_name": "DescriptionStyleModel",
          "model_module_version": "1.5.0",
          "state": {
            "_model_module": "@jupyter-widgets/controls",
            "_model_module_version": "1.5.0",
            "_model_name": "DescriptionStyleModel",
            "_view_count": null,
            "_view_module": "@jupyter-widgets/base",
            "_view_module_version": "1.2.0",
            "_view_name": "StyleView",
            "description_width": ""
          }
        },
        "a85bd8060319464cb0509320ee3ffcf3": {
          "model_module": "@jupyter-widgets/base",
          "model_name": "LayoutModel",
          "model_module_version": "1.2.0",
          "state": {
            "_model_module": "@jupyter-widgets/base",
            "_model_module_version": "1.2.0",
            "_model_name": "LayoutModel",
            "_view_count": null,
            "_view_module": "@jupyter-widgets/base",
            "_view_module_version": "1.2.0",
            "_view_name": "LayoutView",
            "align_content": null,
            "align_items": null,
            "align_self": null,
            "border": null,
            "bottom": null,
            "display": null,
            "flex": null,
            "flex_flow": null,
            "grid_area": null,
            "grid_auto_columns": null,
            "grid_auto_flow": null,
            "grid_auto_rows": null,
            "grid_column": null,
            "grid_gap": null,
            "grid_row": null,
            "grid_template_areas": null,
            "grid_template_columns": null,
            "grid_template_rows": null,
            "height": "28px",
            "justify_content": null,
            "justify_items": null,
            "left": null,
            "margin": null,
            "max_height": null,
            "max_width": null,
            "min_height": null,
            "min_width": null,
            "object_fit": null,
            "object_position": null,
            "order": null,
            "overflow": null,
            "overflow_x": null,
            "overflow_y": null,
            "padding": "0px 0px 0px 4px",
            "right": null,
            "top": null,
            "visibility": null,
            "width": "28px"
          }
        },
        "791e12d4fb5742f683279cd038b07baf": {
          "model_module": "@jupyter-widgets/controls",
          "model_name": "DescriptionStyleModel",
          "model_module_version": "1.5.0",
          "state": {
            "_model_module": "@jupyter-widgets/controls",
            "_model_module_version": "1.5.0",
            "_model_name": "DescriptionStyleModel",
            "_view_count": null,
            "_view_module": "@jupyter-widgets/base",
            "_view_module_version": "1.2.0",
            "_view_name": "StyleView",
            "description_width": ""
          }
        },
        "d56b21fabb39408ea9a21d29258068cb": {
          "model_module": "@jupyter-widgets/controls",
          "model_name": "HBoxModel",
          "model_module_version": "1.5.0",
          "state": {
            "_dom_classes": [],
            "_model_module": "@jupyter-widgets/controls",
            "_model_module_version": "1.5.0",
            "_model_name": "HBoxModel",
            "_view_count": null,
            "_view_module": "@jupyter-widgets/controls",
            "_view_module_version": "1.5.0",
            "_view_name": "HBoxView",
            "box_style": "",
            "children": [
              "IPY_MODEL_844b98ebe7064db18fddb323568b3a00",
              "IPY_MODEL_bbd3aad2fc84429ab70ac68594561574"
            ],
            "layout": "IPY_MODEL_b19d6b6ad5e848348b64b40d0e3b3b21"
          }
        },
        "b226c2610db84d5295ac99741bbde7c5": {
          "model_module": "@jupyter-widgets/controls",
          "model_name": "VBoxModel",
          "model_module_version": "1.5.0",
          "state": {
            "_dom_classes": [],
            "_model_module": "@jupyter-widgets/controls",
            "_model_module_version": "1.5.0",
            "_model_name": "VBoxModel",
            "_view_count": null,
            "_view_module": "@jupyter-widgets/controls",
            "_view_module_version": "1.5.0",
            "_view_name": "VBoxView",
            "box_style": "",
            "children": [
              "IPY_MODEL_b6a7b9d9d221420d946e43a20100340b",
              "IPY_MODEL_f7230a5fcc6246d88aef7399d0c0f91c",
              "IPY_MODEL_aec100982f2c4af993d91fbdd313a0aa",
              "IPY_MODEL_1b7880ccdcb74bcc91119787a64185c6"
            ],
            "layout": "IPY_MODEL_b18f2093e2454201bc18ca5bf09c92c7"
          }
        },
        "23a0e2aafaf04ba492021fb4927a653f": {
          "model_module": "@jupyter-widgets/base",
          "model_name": "LayoutModel",
          "model_module_version": "1.2.0",
          "state": {
            "_model_module": "@jupyter-widgets/base",
            "_model_module_version": "1.2.0",
            "_model_name": "LayoutModel",
            "_view_count": null,
            "_view_module": "@jupyter-widgets/base",
            "_view_module_version": "1.2.0",
            "_view_name": "LayoutView",
            "align_content": null,
            "align_items": null,
            "align_self": null,
            "border": null,
            "bottom": null,
            "display": null,
            "flex": null,
            "flex_flow": null,
            "grid_area": null,
            "grid_auto_columns": null,
            "grid_auto_flow": null,
            "grid_auto_rows": null,
            "grid_column": null,
            "grid_gap": null,
            "grid_row": null,
            "grid_template_areas": null,
            "grid_template_columns": null,
            "grid_template_rows": null,
            "height": null,
            "justify_content": null,
            "justify_items": null,
            "left": null,
            "margin": null,
            "max_height": null,
            "max_width": null,
            "min_height": null,
            "min_width": null,
            "object_fit": null,
            "object_position": null,
            "order": null,
            "overflow": null,
            "overflow_x": null,
            "overflow_y": null,
            "padding": null,
            "right": null,
            "top": null,
            "visibility": null,
            "width": null
          }
        },
        "844b98ebe7064db18fddb323568b3a00": {
          "model_module": "@jupyter-widgets/controls",
          "model_name": "ButtonModel",
          "model_module_version": "1.5.0",
          "state": {
            "_dom_classes": [],
            "_model_module": "@jupyter-widgets/controls",
            "_model_module_version": "1.5.0",
            "_model_name": "ButtonModel",
            "_view_count": null,
            "_view_module": "@jupyter-widgets/controls",
            "_view_module_version": "1.5.0",
            "_view_name": "ButtonView",
            "button_style": "primary",
            "description": "",
            "disabled": false,
            "icon": "times",
            "layout": "IPY_MODEL_a412b4e241b4457c98153add088e8fe7",
            "style": "IPY_MODEL_e2e4c80e6b744fb7be75e98c3fd30ed4",
            "tooltip": "Close the tool"
          }
        },
        "bbd3aad2fc84429ab70ac68594561574": {
          "model_module": "@jupyter-widgets/controls",
          "model_name": "ToggleButtonModel",
          "model_module_version": "1.5.0",
          "state": {
            "_dom_classes": [],
            "_model_module": "@jupyter-widgets/controls",
            "_model_module_version": "1.5.0",
            "_model_name": "ToggleButtonModel",
            "_view_count": null,
            "_view_module": "@jupyter-widgets/controls",
            "_view_module_version": "1.5.0",
            "_view_name": "ToggleButtonView",
            "button_style": "",
            "description": "",
            "description_tooltip": null,
            "disabled": false,
            "icon": "server",
            "layout": "IPY_MODEL_44e2d27d751c4fb4962dd73d00cbf9d4",
            "style": "IPY_MODEL_9a06f546bb4c4c91be0c955f0beef123",
            "tooltip": "Layer Manager",
            "value": true
          }
        },
        "b19d6b6ad5e848348b64b40d0e3b3b21": {
          "model_module": "@jupyter-widgets/base",
          "model_name": "LayoutModel",
          "model_module_version": "1.2.0",
          "state": {
            "_model_module": "@jupyter-widgets/base",
            "_model_module_version": "1.2.0",
            "_model_name": "LayoutModel",
            "_view_count": null,
            "_view_module": "@jupyter-widgets/base",
            "_view_module_version": "1.2.0",
            "_view_name": "LayoutView",
            "align_content": null,
            "align_items": null,
            "align_self": null,
            "border": null,
            "bottom": null,
            "display": "none",
            "flex": null,
            "flex_flow": null,
            "grid_area": null,
            "grid_auto_columns": null,
            "grid_auto_flow": null,
            "grid_auto_rows": null,
            "grid_column": null,
            "grid_gap": null,
            "grid_row": null,
            "grid_template_areas": null,
            "grid_template_columns": null,
            "grid_template_rows": null,
            "height": null,
            "justify_content": null,
            "justify_items": null,
            "left": null,
            "margin": null,
            "max_height": null,
            "max_width": null,
            "min_height": null,
            "min_width": null,
            "object_fit": null,
            "object_position": null,
            "order": null,
            "overflow": null,
            "overflow_x": null,
            "overflow_y": null,
            "padding": null,
            "right": null,
            "top": null,
            "visibility": null,
            "width": null
          }
        },
        "b6a7b9d9d221420d946e43a20100340b": {
          "model_module": "@jupyter-widgets/controls",
          "model_name": "CheckboxModel",
          "model_module_version": "1.5.0",
          "state": {
            "_dom_classes": [],
            "_model_module": "@jupyter-widgets/controls",
            "_model_module_version": "1.5.0",
            "_model_name": "CheckboxModel",
            "_view_count": null,
            "_view_module": "@jupyter-widgets/controls",
            "_view_module_version": "1.5.0",
            "_view_name": "CheckboxView",
            "description": "All layers on/off",
            "description_tooltip": null,
            "disabled": false,
            "indent": false,
            "layout": "IPY_MODEL_0bc29f4a453d4d3484104e9b08d17f4f",
            "style": "IPY_MODEL_eb7a96f3df83423d94c30a2f13b733de",
            "value": false
          }
        },
        "f7230a5fcc6246d88aef7399d0c0f91c": {
          "model_module": "@jupyter-widgets/controls",
          "model_name": "HBoxModel",
          "model_module_version": "1.5.0",
          "state": {
            "_dom_classes": [],
            "_model_module": "@jupyter-widgets/controls",
            "_model_module_version": "1.5.0",
            "_model_name": "HBoxModel",
            "_view_count": null,
            "_view_module": "@jupyter-widgets/controls",
            "_view_module_version": "1.5.0",
            "_view_name": "HBoxView",
            "box_style": "",
            "children": [
              "IPY_MODEL_a0dd9d48ca24440684b771d4432b8401",
              "IPY_MODEL_b804c61621fb463294bb2f6128effec8",
              "IPY_MODEL_15a6f721162e44f8a1b4e3a08b7da908",
              "IPY_MODEL_bb6c0546b47442419c4fbe19a12229c0"
            ],
            "layout": "IPY_MODEL_beafb7e379be4eac8bc67e493cd040b5"
          }
        },
        "aec100982f2c4af993d91fbdd313a0aa": {
          "model_module": "@jupyter-widgets/controls",
          "model_name": "HBoxModel",
          "model_module_version": "1.5.0",
          "state": {
            "_dom_classes": [],
            "_model_module": "@jupyter-widgets/controls",
            "_model_module_version": "1.5.0",
            "_model_name": "HBoxModel",
            "_view_count": null,
            "_view_module": "@jupyter-widgets/controls",
            "_view_module_version": "1.5.0",
            "_view_name": "HBoxView",
            "box_style": "",
            "children": [
              "IPY_MODEL_0a0044e67c0d408e80f47595dc88cf0b",
              "IPY_MODEL_cb59958039ff4f96adb6e3cef4240cc0",
              "IPY_MODEL_e5678b12009c4a2b8b07e6df5a4630ca",
              "IPY_MODEL_07d39ebc52464af9bfb74469669e8f04"
            ],
            "layout": "IPY_MODEL_6ad1804f29f64029b2e811628a93900e"
          }
        },
        "1b7880ccdcb74bcc91119787a64185c6": {
          "model_module": "@jupyter-widgets/controls",
          "model_name": "HBoxModel",
          "model_module_version": "1.5.0",
          "state": {
            "_dom_classes": [],
            "_model_module": "@jupyter-widgets/controls",
            "_model_module_version": "1.5.0",
            "_model_name": "HBoxModel",
            "_view_count": null,
            "_view_module": "@jupyter-widgets/controls",
            "_view_module_version": "1.5.0",
            "_view_name": "HBoxView",
            "box_style": "",
            "children": [
              "IPY_MODEL_1c79969c8e344ebeaa9c0e7f79c94a29",
              "IPY_MODEL_b4faca158418425cb4bdfb72638d4a87",
              "IPY_MODEL_9a81f82961874dee847025afa8ddd76b",
              "IPY_MODEL_c67e37a72b1a4cc6bdb44d155318cb7c"
            ],
            "layout": "IPY_MODEL_f7d5fe50a22d4233a178462da3a0f1e1"
          }
        },
        "b18f2093e2454201bc18ca5bf09c92c7": {
          "model_module": "@jupyter-widgets/base",
          "model_name": "LayoutModel",
          "model_module_version": "1.2.0",
          "state": {
            "_model_module": "@jupyter-widgets/base",
            "_model_module_version": "1.2.0",
            "_model_name": "LayoutModel",
            "_view_count": null,
            "_view_module": "@jupyter-widgets/base",
            "_view_module_version": "1.2.0",
            "_view_name": "LayoutView",
            "align_content": null,
            "align_items": null,
            "align_self": null,
            "border": null,
            "bottom": null,
            "display": null,
            "flex": null,
            "flex_flow": null,
            "grid_area": null,
            "grid_auto_columns": null,
            "grid_auto_flow": null,
            "grid_auto_rows": null,
            "grid_column": null,
            "grid_gap": null,
            "grid_row": null,
            "grid_template_areas": null,
            "grid_template_columns": null,
            "grid_template_rows": null,
            "height": null,
            "justify_content": null,
            "justify_items": null,
            "left": null,
            "margin": null,
            "max_height": null,
            "max_width": null,
            "min_height": null,
            "min_width": null,
            "object_fit": null,
            "object_position": null,
            "order": null,
            "overflow": null,
            "overflow_x": null,
            "overflow_y": null,
            "padding": null,
            "right": null,
            "top": null,
            "visibility": null,
            "width": null
          }
        },
        "a412b4e241b4457c98153add088e8fe7": {
          "model_module": "@jupyter-widgets/base",
          "model_name": "LayoutModel",
          "model_module_version": "1.2.0",
          "state": {
            "_model_module": "@jupyter-widgets/base",
            "_model_module_version": "1.2.0",
            "_model_name": "LayoutModel",
            "_view_count": null,
            "_view_module": "@jupyter-widgets/base",
            "_view_module_version": "1.2.0",
            "_view_name": "LayoutView",
            "align_content": null,
            "align_items": null,
            "align_self": null,
            "border": null,
            "bottom": null,
            "display": null,
            "flex": null,
            "flex_flow": null,
            "grid_area": null,
            "grid_auto_columns": null,
            "grid_auto_flow": null,
            "grid_auto_rows": null,
            "grid_column": null,
            "grid_gap": null,
            "grid_row": null,
            "grid_template_areas": null,
            "grid_template_columns": null,
            "grid_template_rows": null,
            "height": "28px",
            "justify_content": null,
            "justify_items": null,
            "left": null,
            "margin": null,
            "max_height": null,
            "max_width": null,
            "min_height": null,
            "min_width": null,
            "object_fit": null,
            "object_position": null,
            "order": null,
            "overflow": null,
            "overflow_x": null,
            "overflow_y": null,
            "padding": "0px",
            "right": null,
            "top": null,
            "visibility": null,
            "width": "28px"
          }
        },
        "e2e4c80e6b744fb7be75e98c3fd30ed4": {
          "model_module": "@jupyter-widgets/controls",
          "model_name": "ButtonStyleModel",
          "model_module_version": "1.5.0",
          "state": {
            "_model_module": "@jupyter-widgets/controls",
            "_model_module_version": "1.5.0",
            "_model_name": "ButtonStyleModel",
            "_view_count": null,
            "_view_module": "@jupyter-widgets/base",
            "_view_module_version": "1.2.0",
            "_view_name": "StyleView",
            "button_color": null,
            "font_weight": ""
          }
        },
        "44e2d27d751c4fb4962dd73d00cbf9d4": {
          "model_module": "@jupyter-widgets/base",
          "model_name": "LayoutModel",
          "model_module_version": "1.2.0",
          "state": {
            "_model_module": "@jupyter-widgets/base",
            "_model_module_version": "1.2.0",
            "_model_name": "LayoutModel",
            "_view_count": null,
            "_view_module": "@jupyter-widgets/base",
            "_view_module_version": "1.2.0",
            "_view_name": "LayoutView",
            "align_content": null,
            "align_items": null,
            "align_self": null,
            "border": null,
            "bottom": null,
            "display": null,
            "flex": null,
            "flex_flow": null,
            "grid_area": null,
            "grid_auto_columns": null,
            "grid_auto_flow": null,
            "grid_auto_rows": null,
            "grid_column": null,
            "grid_gap": null,
            "grid_row": null,
            "grid_template_areas": null,
            "grid_template_columns": null,
            "grid_template_rows": null,
            "height": "28px",
            "justify_content": null,
            "justify_items": null,
            "left": null,
            "margin": null,
            "max_height": null,
            "max_width": null,
            "min_height": null,
            "min_width": null,
            "object_fit": null,
            "object_position": null,
            "order": null,
            "overflow": null,
            "overflow_x": null,
            "overflow_y": null,
            "padding": "0px 0px 0px 4px",
            "right": null,
            "top": null,
            "visibility": null,
            "width": "28px"
          }
        },
        "9a06f546bb4c4c91be0c955f0beef123": {
          "model_module": "@jupyter-widgets/controls",
          "model_name": "DescriptionStyleModel",
          "model_module_version": "1.5.0",
          "state": {
            "_model_module": "@jupyter-widgets/controls",
            "_model_module_version": "1.5.0",
            "_model_name": "DescriptionStyleModel",
            "_view_count": null,
            "_view_module": "@jupyter-widgets/base",
            "_view_module_version": "1.2.0",
            "_view_name": "StyleView",
            "description_width": ""
          }
        },
        "0bc29f4a453d4d3484104e9b08d17f4f": {
          "model_module": "@jupyter-widgets/base",
          "model_name": "LayoutModel",
          "model_module_version": "1.2.0",
          "state": {
            "_model_module": "@jupyter-widgets/base",
            "_model_module_version": "1.2.0",
            "_model_name": "LayoutModel",
            "_view_count": null,
            "_view_module": "@jupyter-widgets/base",
            "_view_module_version": "1.2.0",
            "_view_name": "LayoutView",
            "align_content": null,
            "align_items": null,
            "align_self": null,
            "border": null,
            "bottom": null,
            "display": null,
            "flex": null,
            "flex_flow": null,
            "grid_area": null,
            "grid_auto_columns": null,
            "grid_auto_flow": null,
            "grid_auto_rows": null,
            "grid_column": null,
            "grid_gap": null,
            "grid_row": null,
            "grid_template_areas": null,
            "grid_template_columns": null,
            "grid_template_rows": null,
            "height": "18px",
            "justify_content": null,
            "justify_items": null,
            "left": null,
            "margin": null,
            "max_height": null,
            "max_width": null,
            "min_height": null,
            "min_width": null,
            "object_fit": null,
            "object_position": null,
            "order": null,
            "overflow": null,
            "overflow_x": null,
            "overflow_y": null,
            "padding": "0px 4px 25px 4px",
            "right": null,
            "top": null,
            "visibility": null,
            "width": "30ex"
          }
        },
        "eb7a96f3df83423d94c30a2f13b733de": {
          "model_module": "@jupyter-widgets/controls",
          "model_name": "DescriptionStyleModel",
          "model_module_version": "1.5.0",
          "state": {
            "_model_module": "@jupyter-widgets/controls",
            "_model_module_version": "1.5.0",
            "_model_name": "DescriptionStyleModel",
            "_view_count": null,
            "_view_module": "@jupyter-widgets/base",
            "_view_module_version": "1.2.0",
            "_view_name": "StyleView",
            "description_width": ""
          }
        },
        "a0dd9d48ca24440684b771d4432b8401": {
          "model_module": "@jupyter-widgets/controls",
          "model_name": "CheckboxModel",
          "model_module_version": "1.5.0",
          "state": {
            "_dom_classes": [],
            "_model_module": "@jupyter-widgets/controls",
            "_model_module_version": "1.5.0",
            "_model_name": "CheckboxModel",
            "_view_count": null,
            "_view_module": "@jupyter-widgets/controls",
            "_view_module_version": "1.5.0",
            "_view_name": "CheckboxView",
            "description": "OpenStreetMap.Mapnik",
            "description_tooltip": null,
            "disabled": false,
            "indent": false,
            "layout": "IPY_MODEL_7327bd69f30d4fc6aad536fcf9db04e3",
            "style": "IPY_MODEL_4c69ad98a5074211b77e9b10106ca378",
            "value": true
          }
        },
        "b804c61621fb463294bb2f6128effec8": {
          "model_module": "@jupyter-widgets/controls",
          "model_name": "FloatSliderModel",
          "model_module_version": "1.5.0",
          "state": {
            "_dom_classes": [],
            "_model_module": "@jupyter-widgets/controls",
            "_model_module_version": "1.5.0",
            "_model_name": "FloatSliderModel",
            "_view_count": null,
            "_view_module": "@jupyter-widgets/controls",
            "_view_module_version": "1.5.0",
            "_view_name": "FloatSliderView",
            "continuous_update": true,
            "description": "",
            "description_tooltip": null,
            "disabled": false,
            "layout": "IPY_MODEL_630d33a46a16406685c408fa91d3fa86",
            "max": 1,
            "min": 0,
            "orientation": "horizontal",
            "readout": false,
            "readout_format": ".2f",
            "step": 0.01,
            "style": "IPY_MODEL_d243427fa93e4a818b5a28d27facbcc2",
            "value": 1
          }
        },
        "15a6f721162e44f8a1b4e3a08b7da908": {
          "model_module": "@jupyter-widgets/controls",
          "model_name": "ButtonModel",
          "model_module_version": "1.5.0",
          "state": {
            "_dom_classes": [],
            "_model_module": "@jupyter-widgets/controls",
            "_model_module_version": "1.5.0",
            "_model_name": "ButtonModel",
            "_view_count": null,
            "_view_module": "@jupyter-widgets/controls",
            "_view_module_version": "1.5.0",
            "_view_name": "ButtonView",
            "button_style": "",
            "description": "",
            "disabled": false,
            "icon": "gear",
            "layout": "IPY_MODEL_1daecdffae49407ab3cf46e8ce1d6829",
            "style": "IPY_MODEL_1a852a4783d14023b1b39259af40d0ea",
            "tooltip": "OpenStreetMap.Mapnik"
          }
        },
        "bb6c0546b47442419c4fbe19a12229c0": {
          "model_module": "@jupyter-widgets/controls",
          "model_name": "ButtonModel",
          "model_module_version": "1.5.0",
          "state": {
            "_dom_classes": [],
            "_model_module": "@jupyter-widgets/controls",
            "_model_module_version": "1.5.0",
            "_model_name": "ButtonModel",
            "_view_count": null,
            "_view_module": "@jupyter-widgets/controls",
            "_view_module_version": "1.5.0",
            "_view_name": "ButtonView",
            "button_style": "",
            "description": "",
            "disabled": false,
            "icon": "times",
            "layout": "IPY_MODEL_6fd2ff27108e4329b6aff65fedcd734b",
            "style": "IPY_MODEL_8681c62815454662bb8dcfd2abbe1792",
            "tooltip": "Loaded"
          }
        },
        "beafb7e379be4eac8bc67e493cd040b5": {
          "model_module": "@jupyter-widgets/base",
          "model_name": "LayoutModel",
          "model_module_version": "1.2.0",
          "state": {
            "_model_module": "@jupyter-widgets/base",
            "_model_module_version": "1.2.0",
            "_model_name": "LayoutModel",
            "_view_count": null,
            "_view_module": "@jupyter-widgets/base",
            "_view_module_version": "1.2.0",
            "_view_name": "LayoutView",
            "align_content": null,
            "align_items": null,
            "align_self": null,
            "border": null,
            "bottom": null,
            "display": null,
            "flex": null,
            "flex_flow": null,
            "grid_area": null,
            "grid_auto_columns": null,
            "grid_auto_flow": null,
            "grid_auto_rows": null,
            "grid_column": null,
            "grid_gap": null,
            "grid_row": null,
            "grid_template_areas": null,
            "grid_template_columns": null,
            "grid_template_rows": null,
            "height": null,
            "justify_content": null,
            "justify_items": null,
            "left": null,
            "margin": null,
            "max_height": null,
            "max_width": null,
            "min_height": null,
            "min_width": null,
            "object_fit": null,
            "object_position": null,
            "order": null,
            "overflow": null,
            "overflow_x": null,
            "overflow_y": null,
            "padding": "0px 4px 0px 4px",
            "right": null,
            "top": null,
            "visibility": null,
            "width": null
          }
        },
        "0a0044e67c0d408e80f47595dc88cf0b": {
          "model_module": "@jupyter-widgets/controls",
          "model_name": "CheckboxModel",
          "model_module_version": "1.5.0",
          "state": {
            "_dom_classes": [],
            "_model_module": "@jupyter-widgets/controls",
            "_model_module_version": "1.5.0",
            "_model_name": "CheckboxModel",
            "_view_count": null,
            "_view_module": "@jupyter-widgets/controls",
            "_view_module_version": "1.5.0",
            "_view_name": "CheckboxView",
            "description": "Layer 1",
            "description_tooltip": null,
            "disabled": false,
            "indent": false,
            "layout": "IPY_MODEL_fc1ce7519eb34032b1d43b6a681c5d8c",
            "style": "IPY_MODEL_cd7853a6ce5c4abe8341a2f1c9d61d81",
            "value": true
          }
        },
        "cb59958039ff4f96adb6e3cef4240cc0": {
          "model_module": "@jupyter-widgets/controls",
          "model_name": "FloatSliderModel",
          "model_module_version": "1.5.0",
          "state": {
            "_dom_classes": [],
            "_model_module": "@jupyter-widgets/controls",
            "_model_module_version": "1.5.0",
            "_model_name": "FloatSliderModel",
            "_view_count": null,
            "_view_module": "@jupyter-widgets/controls",
            "_view_module_version": "1.5.0",
            "_view_name": "FloatSliderView",
            "continuous_update": true,
            "description": "",
            "description_tooltip": null,
            "disabled": false,
            "layout": "IPY_MODEL_53e3de31147848d3a2089b2eba10714c",
            "max": 1,
            "min": 0,
            "orientation": "horizontal",
            "readout": false,
            "readout_format": ".2f",
            "step": 0.01,
            "style": "IPY_MODEL_19162ecc549247e1a9a3245de994606d",
            "value": 1
          }
        },
        "e5678b12009c4a2b8b07e6df5a4630ca": {
          "model_module": "@jupyter-widgets/controls",
          "model_name": "ButtonModel",
          "model_module_version": "1.5.0",
          "state": {
            "_dom_classes": [],
            "_model_module": "@jupyter-widgets/controls",
            "_model_module_version": "1.5.0",
            "_model_name": "ButtonModel",
            "_view_count": null,
            "_view_module": "@jupyter-widgets/controls",
            "_view_module_version": "1.5.0",
            "_view_name": "ButtonView",
            "button_style": "",
            "description": "",
            "disabled": false,
            "icon": "gear",
            "layout": "IPY_MODEL_a50587193e99448488b6e7b6e2136b75",
            "style": "IPY_MODEL_0a1989eedb474c9b9dbc05b2e7da5cdc",
            "tooltip": "Layer 1"
          }
        },
        "07d39ebc52464af9bfb74469669e8f04": {
          "model_module": "@jupyter-widgets/controls",
          "model_name": "ButtonModel",
          "model_module_version": "1.5.0",
          "state": {
            "_dom_classes": [],
            "_model_module": "@jupyter-widgets/controls",
            "_model_module_version": "1.5.0",
            "_model_name": "ButtonModel",
            "_view_count": null,
            "_view_module": "@jupyter-widgets/controls",
            "_view_module_version": "1.5.0",
            "_view_name": "ButtonView",
            "button_style": "",
            "description": "",
            "disabled": false,
            "icon": "times",
            "layout": "IPY_MODEL_0dc3e3fa48a14d8390f28cb448c6c77d",
            "style": "IPY_MODEL_5ca9051d6c914957a981058a51059a90",
            "tooltip": "Loaded"
          }
        },
        "6ad1804f29f64029b2e811628a93900e": {
          "model_module": "@jupyter-widgets/base",
          "model_name": "LayoutModel",
          "model_module_version": "1.2.0",
          "state": {
            "_model_module": "@jupyter-widgets/base",
            "_model_module_version": "1.2.0",
            "_model_name": "LayoutModel",
            "_view_count": null,
            "_view_module": "@jupyter-widgets/base",
            "_view_module_version": "1.2.0",
            "_view_name": "LayoutView",
            "align_content": null,
            "align_items": null,
            "align_self": null,
            "border": null,
            "bottom": null,
            "display": null,
            "flex": null,
            "flex_flow": null,
            "grid_area": null,
            "grid_auto_columns": null,
            "grid_auto_flow": null,
            "grid_auto_rows": null,
            "grid_column": null,
            "grid_gap": null,
            "grid_row": null,
            "grid_template_areas": null,
            "grid_template_columns": null,
            "grid_template_rows": null,
            "height": null,
            "justify_content": null,
            "justify_items": null,
            "left": null,
            "margin": null,
            "max_height": null,
            "max_width": null,
            "min_height": null,
            "min_width": null,
            "object_fit": null,
            "object_position": null,
            "order": null,
            "overflow": null,
            "overflow_x": null,
            "overflow_y": null,
            "padding": "0px 4px 0px 4px",
            "right": null,
            "top": null,
            "visibility": null,
            "width": null
          }
        },
        "1c79969c8e344ebeaa9c0e7f79c94a29": {
          "model_module": "@jupyter-widgets/controls",
          "model_name": "CheckboxModel",
          "model_module_version": "1.5.0",
          "state": {
            "_dom_classes": [],
            "_model_module": "@jupyter-widgets/controls",
            "_model_module_version": "1.5.0",
            "_model_name": "CheckboxModel",
            "_view_count": null,
            "_view_module": "@jupyter-widgets/controls",
            "_view_module_version": "1.5.0",
            "_view_name": "CheckboxView",
            "description": "Layer 2",
            "description_tooltip": null,
            "disabled": false,
            "indent": false,
            "layout": "IPY_MODEL_5439f69a34674ababcbe813cb741d009",
            "style": "IPY_MODEL_2070a2591d1e4ec8bc3bf0c2e8bbc109",
            "value": true
          }
        },
        "b4faca158418425cb4bdfb72638d4a87": {
          "model_module": "@jupyter-widgets/controls",
          "model_name": "FloatSliderModel",
          "model_module_version": "1.5.0",
          "state": {
            "_dom_classes": [],
            "_model_module": "@jupyter-widgets/controls",
            "_model_module_version": "1.5.0",
            "_model_name": "FloatSliderModel",
            "_view_count": null,
            "_view_module": "@jupyter-widgets/controls",
            "_view_module_version": "1.5.0",
            "_view_name": "FloatSliderView",
            "continuous_update": true,
            "description": "",
            "description_tooltip": null,
            "disabled": false,
            "layout": "IPY_MODEL_055b00a0e937476ab99e9e3605bbf8dc",
            "max": 1,
            "min": 0,
            "orientation": "horizontal",
            "readout": false,
            "readout_format": ".2f",
            "step": 0.01,
            "style": "IPY_MODEL_e90c17ff5c0e4271a0c5777afa132067",
            "value": 1
          }
        },
        "9a81f82961874dee847025afa8ddd76b": {
          "model_module": "@jupyter-widgets/controls",
          "model_name": "ButtonModel",
          "model_module_version": "1.5.0",
          "state": {
            "_dom_classes": [],
            "_model_module": "@jupyter-widgets/controls",
            "_model_module_version": "1.5.0",
            "_model_name": "ButtonModel",
            "_view_count": null,
            "_view_module": "@jupyter-widgets/controls",
            "_view_module_version": "1.5.0",
            "_view_name": "ButtonView",
            "button_style": "",
            "description": "",
            "disabled": false,
            "icon": "gear",
            "layout": "IPY_MODEL_31f79a2c062a40daaef5428e3234fdce",
            "style": "IPY_MODEL_cf1262792f9f4a86bea35c258bd66314",
            "tooltip": "Layer 2"
          }
        },
        "c67e37a72b1a4cc6bdb44d155318cb7c": {
          "model_module": "@jupyter-widgets/controls",
          "model_name": "ButtonModel",
          "model_module_version": "1.5.0",
          "state": {
            "_dom_classes": [],
            "_model_module": "@jupyter-widgets/controls",
            "_model_module_version": "1.5.0",
            "_model_name": "ButtonModel",
            "_view_count": null,
            "_view_module": "@jupyter-widgets/controls",
            "_view_module_version": "1.5.0",
            "_view_name": "ButtonView",
            "button_style": "",
            "description": "",
            "disabled": false,
            "icon": "times",
            "layout": "IPY_MODEL_65086229ad1a4e93b389c16ad7f2f315",
            "style": "IPY_MODEL_efcc89b1f6a54ca694035cfdf56c41a7",
            "tooltip": "Loaded"
          }
        },
        "f7d5fe50a22d4233a178462da3a0f1e1": {
          "model_module": "@jupyter-widgets/base",
          "model_name": "LayoutModel",
          "model_module_version": "1.2.0",
          "state": {
            "_model_module": "@jupyter-widgets/base",
            "_model_module_version": "1.2.0",
            "_model_name": "LayoutModel",
            "_view_count": null,
            "_view_module": "@jupyter-widgets/base",
            "_view_module_version": "1.2.0",
            "_view_name": "LayoutView",
            "align_content": null,
            "align_items": null,
            "align_self": null,
            "border": null,
            "bottom": null,
            "display": null,
            "flex": null,
            "flex_flow": null,
            "grid_area": null,
            "grid_auto_columns": null,
            "grid_auto_flow": null,
            "grid_auto_rows": null,
            "grid_column": null,
            "grid_gap": null,
            "grid_row": null,
            "grid_template_areas": null,
            "grid_template_columns": null,
            "grid_template_rows": null,
            "height": null,
            "justify_content": null,
            "justify_items": null,
            "left": null,
            "margin": null,
            "max_height": null,
            "max_width": null,
            "min_height": null,
            "min_width": null,
            "object_fit": null,
            "object_position": null,
            "order": null,
            "overflow": null,
            "overflow_x": null,
            "overflow_y": null,
            "padding": "0px 4px 0px 4px",
            "right": null,
            "top": null,
            "visibility": null,
            "width": null
          }
        },
        "7327bd69f30d4fc6aad536fcf9db04e3": {
          "model_module": "@jupyter-widgets/base",
          "model_name": "LayoutModel",
          "model_module_version": "1.2.0",
          "state": {
            "_model_module": "@jupyter-widgets/base",
            "_model_module_version": "1.2.0",
            "_model_name": "LayoutModel",
            "_view_count": null,
            "_view_module": "@jupyter-widgets/base",
            "_view_module_version": "1.2.0",
            "_view_name": "LayoutView",
            "align_content": null,
            "align_items": null,
            "align_self": null,
            "border": null,
            "bottom": null,
            "display": null,
            "flex": null,
            "flex_flow": null,
            "grid_area": null,
            "grid_auto_columns": null,
            "grid_auto_flow": null,
            "grid_auto_rows": null,
            "grid_column": null,
            "grid_gap": null,
            "grid_row": null,
            "grid_template_areas": null,
            "grid_template_columns": null,
            "grid_template_rows": null,
            "height": "18px",
            "justify_content": null,
            "justify_items": null,
            "left": null,
            "margin": null,
            "max_height": null,
            "max_width": null,
            "min_height": null,
            "min_width": null,
            "object_fit": null,
            "object_position": null,
            "order": null,
            "overflow": null,
            "overflow_x": null,
            "overflow_y": null,
            "padding": null,
            "right": null,
            "top": null,
            "visibility": null,
            "width": "140px"
          }
        },
        "4c69ad98a5074211b77e9b10106ca378": {
          "model_module": "@jupyter-widgets/controls",
          "model_name": "DescriptionStyleModel",
          "model_module_version": "1.5.0",
          "state": {
            "_model_module": "@jupyter-widgets/controls",
            "_model_module_version": "1.5.0",
            "_model_name": "DescriptionStyleModel",
            "_view_count": null,
            "_view_module": "@jupyter-widgets/base",
            "_view_module_version": "1.2.0",
            "_view_name": "StyleView",
            "description_width": ""
          }
        },
        "630d33a46a16406685c408fa91d3fa86": {
          "model_module": "@jupyter-widgets/base",
          "model_name": "LayoutModel",
          "model_module_version": "1.2.0",
          "state": {
            "_model_module": "@jupyter-widgets/base",
            "_model_module_version": "1.2.0",
            "_model_name": "LayoutModel",
            "_view_count": null,
            "_view_module": "@jupyter-widgets/base",
            "_view_module_version": "1.2.0",
            "_view_name": "LayoutView",
            "align_content": null,
            "align_items": null,
            "align_self": null,
            "border": null,
            "bottom": null,
            "display": null,
            "flex": null,
            "flex_flow": null,
            "grid_area": null,
            "grid_auto_columns": null,
            "grid_auto_flow": null,
            "grid_auto_rows": null,
            "grid_column": null,
            "grid_gap": null,
            "grid_row": null,
            "grid_template_areas": null,
            "grid_template_columns": null,
            "grid_template_rows": null,
            "height": null,
            "justify_content": null,
            "justify_items": null,
            "left": null,
            "margin": null,
            "max_height": null,
            "max_width": null,
            "min_height": null,
            "min_width": null,
            "object_fit": null,
            "object_position": null,
            "order": null,
            "overflow": null,
            "overflow_x": null,
            "overflow_y": null,
            "padding": "0px 3px 0px 0px",
            "right": null,
            "top": null,
            "visibility": null,
            "width": "70px"
          }
        },
        "d243427fa93e4a818b5a28d27facbcc2": {
          "model_module": "@jupyter-widgets/controls",
          "model_name": "SliderStyleModel",
          "model_module_version": "1.5.0",
          "state": {
            "_model_module": "@jupyter-widgets/controls",
            "_model_module_version": "1.5.0",
            "_model_name": "SliderStyleModel",
            "_view_count": null,
            "_view_module": "@jupyter-widgets/base",
            "_view_module_version": "1.2.0",
            "_view_name": "StyleView",
            "description_width": "",
            "handle_color": null
          }
        },
        "1daecdffae49407ab3cf46e8ce1d6829": {
          "model_module": "@jupyter-widgets/base",
          "model_name": "LayoutModel",
          "model_module_version": "1.2.0",
          "state": {
            "_model_module": "@jupyter-widgets/base",
            "_model_module_version": "1.2.0",
            "_model_name": "LayoutModel",
            "_view_count": null,
            "_view_module": "@jupyter-widgets/base",
            "_view_module_version": "1.2.0",
            "_view_name": "LayoutView",
            "align_content": null,
            "align_items": null,
            "align_self": null,
            "border": null,
            "bottom": null,
            "display": null,
            "flex": null,
            "flex_flow": null,
            "grid_area": null,
            "grid_auto_columns": null,
            "grid_auto_flow": null,
            "grid_auto_rows": null,
            "grid_column": null,
            "grid_gap": null,
            "grid_row": null,
            "grid_template_areas": null,
            "grid_template_columns": null,
            "grid_template_rows": null,
            "height": "25px",
            "justify_content": null,
            "justify_items": null,
            "left": null,
            "margin": null,
            "max_height": null,
            "max_width": null,
            "min_height": null,
            "min_width": null,
            "object_fit": null,
            "object_position": null,
            "order": null,
            "overflow": null,
            "overflow_x": null,
            "overflow_y": null,
            "padding": "0px",
            "right": null,
            "top": null,
            "visibility": null,
            "width": "25px"
          }
        },
        "1a852a4783d14023b1b39259af40d0ea": {
          "model_module": "@jupyter-widgets/controls",
          "model_name": "ButtonStyleModel",
          "model_module_version": "1.5.0",
          "state": {
            "_model_module": "@jupyter-widgets/controls",
            "_model_module_version": "1.5.0",
            "_model_name": "ButtonStyleModel",
            "_view_count": null,
            "_view_module": "@jupyter-widgets/base",
            "_view_module_version": "1.2.0",
            "_view_name": "StyleView",
            "button_color": null,
            "font_weight": ""
          }
        },
        "6fd2ff27108e4329b6aff65fedcd734b": {
          "model_module": "@jupyter-widgets/base",
          "model_name": "LayoutModel",
          "model_module_version": "1.2.0",
          "state": {
            "_model_module": "@jupyter-widgets/base",
            "_model_module_version": "1.2.0",
            "_model_name": "LayoutModel",
            "_view_count": null,
            "_view_module": "@jupyter-widgets/base",
            "_view_module_version": "1.2.0",
            "_view_name": "LayoutView",
            "align_content": null,
            "align_items": null,
            "align_self": null,
            "border": null,
            "bottom": null,
            "display": null,
            "flex": null,
            "flex_flow": null,
            "grid_area": null,
            "grid_auto_columns": null,
            "grid_auto_flow": null,
            "grid_auto_rows": null,
            "grid_column": null,
            "grid_gap": null,
            "grid_row": null,
            "grid_template_areas": null,
            "grid_template_columns": null,
            "grid_template_rows": null,
            "height": "25px",
            "justify_content": null,
            "justify_items": null,
            "left": null,
            "margin": null,
            "max_height": null,
            "max_width": null,
            "min_height": null,
            "min_width": null,
            "object_fit": null,
            "object_position": null,
            "order": null,
            "overflow": null,
            "overflow_x": null,
            "overflow_y": null,
            "padding": "0px",
            "right": null,
            "top": null,
            "visibility": null,
            "width": "25px"
          }
        },
        "8681c62815454662bb8dcfd2abbe1792": {
          "model_module": "@jupyter-widgets/controls",
          "model_name": "ButtonStyleModel",
          "model_module_version": "1.5.0",
          "state": {
            "_model_module": "@jupyter-widgets/controls",
            "_model_module_version": "1.5.0",
            "_model_name": "ButtonStyleModel",
            "_view_count": null,
            "_view_module": "@jupyter-widgets/base",
            "_view_module_version": "1.2.0",
            "_view_name": "StyleView",
            "button_color": null,
            "font_weight": ""
          }
        },
        "fc1ce7519eb34032b1d43b6a681c5d8c": {
          "model_module": "@jupyter-widgets/base",
          "model_name": "LayoutModel",
          "model_module_version": "1.2.0",
          "state": {
            "_model_module": "@jupyter-widgets/base",
            "_model_module_version": "1.2.0",
            "_model_name": "LayoutModel",
            "_view_count": null,
            "_view_module": "@jupyter-widgets/base",
            "_view_module_version": "1.2.0",
            "_view_name": "LayoutView",
            "align_content": null,
            "align_items": null,
            "align_self": null,
            "border": null,
            "bottom": null,
            "display": null,
            "flex": null,
            "flex_flow": null,
            "grid_area": null,
            "grid_auto_columns": null,
            "grid_auto_flow": null,
            "grid_auto_rows": null,
            "grid_column": null,
            "grid_gap": null,
            "grid_row": null,
            "grid_template_areas": null,
            "grid_template_columns": null,
            "grid_template_rows": null,
            "height": "18px",
            "justify_content": null,
            "justify_items": null,
            "left": null,
            "margin": null,
            "max_height": null,
            "max_width": null,
            "min_height": null,
            "min_width": null,
            "object_fit": null,
            "object_position": null,
            "order": null,
            "overflow": null,
            "overflow_x": null,
            "overflow_y": null,
            "padding": null,
            "right": null,
            "top": null,
            "visibility": null,
            "width": "140px"
          }
        },
        "cd7853a6ce5c4abe8341a2f1c9d61d81": {
          "model_module": "@jupyter-widgets/controls",
          "model_name": "DescriptionStyleModel",
          "model_module_version": "1.5.0",
          "state": {
            "_model_module": "@jupyter-widgets/controls",
            "_model_module_version": "1.5.0",
            "_model_name": "DescriptionStyleModel",
            "_view_count": null,
            "_view_module": "@jupyter-widgets/base",
            "_view_module_version": "1.2.0",
            "_view_name": "StyleView",
            "description_width": ""
          }
        },
        "53e3de31147848d3a2089b2eba10714c": {
          "model_module": "@jupyter-widgets/base",
          "model_name": "LayoutModel",
          "model_module_version": "1.2.0",
          "state": {
            "_model_module": "@jupyter-widgets/base",
            "_model_module_version": "1.2.0",
            "_model_name": "LayoutModel",
            "_view_count": null,
            "_view_module": "@jupyter-widgets/base",
            "_view_module_version": "1.2.0",
            "_view_name": "LayoutView",
            "align_content": null,
            "align_items": null,
            "align_self": null,
            "border": null,
            "bottom": null,
            "display": null,
            "flex": null,
            "flex_flow": null,
            "grid_area": null,
            "grid_auto_columns": null,
            "grid_auto_flow": null,
            "grid_auto_rows": null,
            "grid_column": null,
            "grid_gap": null,
            "grid_row": null,
            "grid_template_areas": null,
            "grid_template_columns": null,
            "grid_template_rows": null,
            "height": null,
            "justify_content": null,
            "justify_items": null,
            "left": null,
            "margin": null,
            "max_height": null,
            "max_width": null,
            "min_height": null,
            "min_width": null,
            "object_fit": null,
            "object_position": null,
            "order": null,
            "overflow": null,
            "overflow_x": null,
            "overflow_y": null,
            "padding": "0px 3px 0px 0px",
            "right": null,
            "top": null,
            "visibility": null,
            "width": "70px"
          }
        },
        "19162ecc549247e1a9a3245de994606d": {
          "model_module": "@jupyter-widgets/controls",
          "model_name": "SliderStyleModel",
          "model_module_version": "1.5.0",
          "state": {
            "_model_module": "@jupyter-widgets/controls",
            "_model_module_version": "1.5.0",
            "_model_name": "SliderStyleModel",
            "_view_count": null,
            "_view_module": "@jupyter-widgets/base",
            "_view_module_version": "1.2.0",
            "_view_name": "StyleView",
            "description_width": "",
            "handle_color": null
          }
        },
        "a50587193e99448488b6e7b6e2136b75": {
          "model_module": "@jupyter-widgets/base",
          "model_name": "LayoutModel",
          "model_module_version": "1.2.0",
          "state": {
            "_model_module": "@jupyter-widgets/base",
            "_model_module_version": "1.2.0",
            "_model_name": "LayoutModel",
            "_view_count": null,
            "_view_module": "@jupyter-widgets/base",
            "_view_module_version": "1.2.0",
            "_view_name": "LayoutView",
            "align_content": null,
            "align_items": null,
            "align_self": null,
            "border": null,
            "bottom": null,
            "display": null,
            "flex": null,
            "flex_flow": null,
            "grid_area": null,
            "grid_auto_columns": null,
            "grid_auto_flow": null,
            "grid_auto_rows": null,
            "grid_column": null,
            "grid_gap": null,
            "grid_row": null,
            "grid_template_areas": null,
            "grid_template_columns": null,
            "grid_template_rows": null,
            "height": "25px",
            "justify_content": null,
            "justify_items": null,
            "left": null,
            "margin": null,
            "max_height": null,
            "max_width": null,
            "min_height": null,
            "min_width": null,
            "object_fit": null,
            "object_position": null,
            "order": null,
            "overflow": null,
            "overflow_x": null,
            "overflow_y": null,
            "padding": "0px",
            "right": null,
            "top": null,
            "visibility": null,
            "width": "25px"
          }
        },
        "0a1989eedb474c9b9dbc05b2e7da5cdc": {
          "model_module": "@jupyter-widgets/controls",
          "model_name": "ButtonStyleModel",
          "model_module_version": "1.5.0",
          "state": {
            "_model_module": "@jupyter-widgets/controls",
            "_model_module_version": "1.5.0",
            "_model_name": "ButtonStyleModel",
            "_view_count": null,
            "_view_module": "@jupyter-widgets/base",
            "_view_module_version": "1.2.0",
            "_view_name": "StyleView",
            "button_color": null,
            "font_weight": ""
          }
        },
        "0dc3e3fa48a14d8390f28cb448c6c77d": {
          "model_module": "@jupyter-widgets/base",
          "model_name": "LayoutModel",
          "model_module_version": "1.2.0",
          "state": {
            "_model_module": "@jupyter-widgets/base",
            "_model_module_version": "1.2.0",
            "_model_name": "LayoutModel",
            "_view_count": null,
            "_view_module": "@jupyter-widgets/base",
            "_view_module_version": "1.2.0",
            "_view_name": "LayoutView",
            "align_content": null,
            "align_items": null,
            "align_self": null,
            "border": null,
            "bottom": null,
            "display": null,
            "flex": null,
            "flex_flow": null,
            "grid_area": null,
            "grid_auto_columns": null,
            "grid_auto_flow": null,
            "grid_auto_rows": null,
            "grid_column": null,
            "grid_gap": null,
            "grid_row": null,
            "grid_template_areas": null,
            "grid_template_columns": null,
            "grid_template_rows": null,
            "height": "25px",
            "justify_content": null,
            "justify_items": null,
            "left": null,
            "margin": null,
            "max_height": null,
            "max_width": null,
            "min_height": null,
            "min_width": null,
            "object_fit": null,
            "object_position": null,
            "order": null,
            "overflow": null,
            "overflow_x": null,
            "overflow_y": null,
            "padding": "0px",
            "right": null,
            "top": null,
            "visibility": null,
            "width": "25px"
          }
        },
        "5ca9051d6c914957a981058a51059a90": {
          "model_module": "@jupyter-widgets/controls",
          "model_name": "ButtonStyleModel",
          "model_module_version": "1.5.0",
          "state": {
            "_model_module": "@jupyter-widgets/controls",
            "_model_module_version": "1.5.0",
            "_model_name": "ButtonStyleModel",
            "_view_count": null,
            "_view_module": "@jupyter-widgets/base",
            "_view_module_version": "1.2.0",
            "_view_name": "StyleView",
            "button_color": null,
            "font_weight": ""
          }
        },
        "5439f69a34674ababcbe813cb741d009": {
          "model_module": "@jupyter-widgets/base",
          "model_name": "LayoutModel",
          "model_module_version": "1.2.0",
          "state": {
            "_model_module": "@jupyter-widgets/base",
            "_model_module_version": "1.2.0",
            "_model_name": "LayoutModel",
            "_view_count": null,
            "_view_module": "@jupyter-widgets/base",
            "_view_module_version": "1.2.0",
            "_view_name": "LayoutView",
            "align_content": null,
            "align_items": null,
            "align_self": null,
            "border": null,
            "bottom": null,
            "display": null,
            "flex": null,
            "flex_flow": null,
            "grid_area": null,
            "grid_auto_columns": null,
            "grid_auto_flow": null,
            "grid_auto_rows": null,
            "grid_column": null,
            "grid_gap": null,
            "grid_row": null,
            "grid_template_areas": null,
            "grid_template_columns": null,
            "grid_template_rows": null,
            "height": "18px",
            "justify_content": null,
            "justify_items": null,
            "left": null,
            "margin": null,
            "max_height": null,
            "max_width": null,
            "min_height": null,
            "min_width": null,
            "object_fit": null,
            "object_position": null,
            "order": null,
            "overflow": null,
            "overflow_x": null,
            "overflow_y": null,
            "padding": null,
            "right": null,
            "top": null,
            "visibility": null,
            "width": "140px"
          }
        },
        "2070a2591d1e4ec8bc3bf0c2e8bbc109": {
          "model_module": "@jupyter-widgets/controls",
          "model_name": "DescriptionStyleModel",
          "model_module_version": "1.5.0",
          "state": {
            "_model_module": "@jupyter-widgets/controls",
            "_model_module_version": "1.5.0",
            "_model_name": "DescriptionStyleModel",
            "_view_count": null,
            "_view_module": "@jupyter-widgets/base",
            "_view_module_version": "1.2.0",
            "_view_name": "StyleView",
            "description_width": ""
          }
        },
        "055b00a0e937476ab99e9e3605bbf8dc": {
          "model_module": "@jupyter-widgets/base",
          "model_name": "LayoutModel",
          "model_module_version": "1.2.0",
          "state": {
            "_model_module": "@jupyter-widgets/base",
            "_model_module_version": "1.2.0",
            "_model_name": "LayoutModel",
            "_view_count": null,
            "_view_module": "@jupyter-widgets/base",
            "_view_module_version": "1.2.0",
            "_view_name": "LayoutView",
            "align_content": null,
            "align_items": null,
            "align_self": null,
            "border": null,
            "bottom": null,
            "display": null,
            "flex": null,
            "flex_flow": null,
            "grid_area": null,
            "grid_auto_columns": null,
            "grid_auto_flow": null,
            "grid_auto_rows": null,
            "grid_column": null,
            "grid_gap": null,
            "grid_row": null,
            "grid_template_areas": null,
            "grid_template_columns": null,
            "grid_template_rows": null,
            "height": null,
            "justify_content": null,
            "justify_items": null,
            "left": null,
            "margin": null,
            "max_height": null,
            "max_width": null,
            "min_height": null,
            "min_width": null,
            "object_fit": null,
            "object_position": null,
            "order": null,
            "overflow": null,
            "overflow_x": null,
            "overflow_y": null,
            "padding": "0px 3px 0px 0px",
            "right": null,
            "top": null,
            "visibility": null,
            "width": "70px"
          }
        },
        "e90c17ff5c0e4271a0c5777afa132067": {
          "model_module": "@jupyter-widgets/controls",
          "model_name": "SliderStyleModel",
          "model_module_version": "1.5.0",
          "state": {
            "_model_module": "@jupyter-widgets/controls",
            "_model_module_version": "1.5.0",
            "_model_name": "SliderStyleModel",
            "_view_count": null,
            "_view_module": "@jupyter-widgets/base",
            "_view_module_version": "1.2.0",
            "_view_name": "StyleView",
            "description_width": "",
            "handle_color": null
          }
        },
        "31f79a2c062a40daaef5428e3234fdce": {
          "model_module": "@jupyter-widgets/base",
          "model_name": "LayoutModel",
          "model_module_version": "1.2.0",
          "state": {
            "_model_module": "@jupyter-widgets/base",
            "_model_module_version": "1.2.0",
            "_model_name": "LayoutModel",
            "_view_count": null,
            "_view_module": "@jupyter-widgets/base",
            "_view_module_version": "1.2.0",
            "_view_name": "LayoutView",
            "align_content": null,
            "align_items": null,
            "align_self": null,
            "border": null,
            "bottom": null,
            "display": null,
            "flex": null,
            "flex_flow": null,
            "grid_area": null,
            "grid_auto_columns": null,
            "grid_auto_flow": null,
            "grid_auto_rows": null,
            "grid_column": null,
            "grid_gap": null,
            "grid_row": null,
            "grid_template_areas": null,
            "grid_template_columns": null,
            "grid_template_rows": null,
            "height": "25px",
            "justify_content": null,
            "justify_items": null,
            "left": null,
            "margin": null,
            "max_height": null,
            "max_width": null,
            "min_height": null,
            "min_width": null,
            "object_fit": null,
            "object_position": null,
            "order": null,
            "overflow": null,
            "overflow_x": null,
            "overflow_y": null,
            "padding": "0px",
            "right": null,
            "top": null,
            "visibility": null,
            "width": "25px"
          }
        },
        "cf1262792f9f4a86bea35c258bd66314": {
          "model_module": "@jupyter-widgets/controls",
          "model_name": "ButtonStyleModel",
          "model_module_version": "1.5.0",
          "state": {
            "_model_module": "@jupyter-widgets/controls",
            "_model_module_version": "1.5.0",
            "_model_name": "ButtonStyleModel",
            "_view_count": null,
            "_view_module": "@jupyter-widgets/base",
            "_view_module_version": "1.2.0",
            "_view_name": "StyleView",
            "button_color": null,
            "font_weight": ""
          }
        },
        "65086229ad1a4e93b389c16ad7f2f315": {
          "model_module": "@jupyter-widgets/base",
          "model_name": "LayoutModel",
          "model_module_version": "1.2.0",
          "state": {
            "_model_module": "@jupyter-widgets/base",
            "_model_module_version": "1.2.0",
            "_model_name": "LayoutModel",
            "_view_count": null,
            "_view_module": "@jupyter-widgets/base",
            "_view_module_version": "1.2.0",
            "_view_name": "LayoutView",
            "align_content": null,
            "align_items": null,
            "align_self": null,
            "border": null,
            "bottom": null,
            "display": null,
            "flex": null,
            "flex_flow": null,
            "grid_area": null,
            "grid_auto_columns": null,
            "grid_auto_flow": null,
            "grid_auto_rows": null,
            "grid_column": null,
            "grid_gap": null,
            "grid_row": null,
            "grid_template_areas": null,
            "grid_template_columns": null,
            "grid_template_rows": null,
            "height": "25px",
            "justify_content": null,
            "justify_items": null,
            "left": null,
            "margin": null,
            "max_height": null,
            "max_width": null,
            "min_height": null,
            "min_width": null,
            "object_fit": null,
            "object_position": null,
            "order": null,
            "overflow": null,
            "overflow_x": null,
            "overflow_y": null,
            "padding": "0px",
            "right": null,
            "top": null,
            "visibility": null,
            "width": "25px"
          }
        },
        "efcc89b1f6a54ca694035cfdf56c41a7": {
          "model_module": "@jupyter-widgets/controls",
          "model_name": "ButtonStyleModel",
          "model_module_version": "1.5.0",
          "state": {
            "_model_module": "@jupyter-widgets/controls",
            "_model_module_version": "1.5.0",
            "_model_name": "ButtonStyleModel",
            "_view_count": null,
            "_view_module": "@jupyter-widgets/base",
            "_view_module_version": "1.2.0",
            "_view_name": "StyleView",
            "button_color": null,
            "font_weight": ""
          }
        },
        "10dac26a680d422d91110d4e152c3149": {
          "model_module": "@jupyter-widgets/controls",
          "model_name": "HBoxModel",
          "model_module_version": "1.5.0",
          "state": {
            "_dom_classes": [],
            "_model_module": "@jupyter-widgets/controls",
            "_model_module_version": "1.5.0",
            "_model_name": "HBoxModel",
            "_view_count": null,
            "_view_module": "@jupyter-widgets/controls",
            "_view_module_version": "1.5.0",
            "_view_name": "HBoxView",
            "box_style": "",
            "children": [
              "IPY_MODEL_0699e9ac180c4130a360c7385b337c9b",
              "IPY_MODEL_e003955773ae4930ad35e530493ea60c",
              "IPY_MODEL_02f7d2740cd84f298d977c86f3d9ce22"
            ],
            "layout": "IPY_MODEL_0d523d6e4a1746cbabb1907877d7a99a"
          }
        },
        "0699e9ac180c4130a360c7385b337c9b": {
          "model_module": "@jupyter-widgets/controls",
          "model_name": "HTMLModel",
          "model_module_version": "1.5.0",
          "state": {
            "_dom_classes": [],
            "_model_module": "@jupyter-widgets/controls",
            "_model_module_version": "1.5.0",
            "_model_name": "HTMLModel",
            "_view_count": null,
            "_view_module": "@jupyter-widgets/controls",
            "_view_module_version": "1.5.0",
            "_view_name": "HTMLView",
            "description": "",
            "description_tooltip": null,
            "layout": "IPY_MODEL_3a2c5e0a40784aa9a9e192bc401a029d",
            "placeholder": "​",
            "style": "IPY_MODEL_ab2847d04880423eb9daa390a00397d0",
            "value": "QUEUEING TASKS | : 100%"
          }
        },
        "e003955773ae4930ad35e530493ea60c": {
          "model_module": "@jupyter-widgets/controls",
          "model_name": "FloatProgressModel",
          "model_module_version": "1.5.0",
          "state": {
            "_dom_classes": [],
            "_model_module": "@jupyter-widgets/controls",
            "_model_module_version": "1.5.0",
            "_model_name": "FloatProgressModel",
            "_view_count": null,
            "_view_module": "@jupyter-widgets/controls",
            "_view_module_version": "1.5.0",
            "_view_name": "ProgressView",
            "bar_style": "success",
            "description": "",
            "description_tooltip": null,
            "layout": "IPY_MODEL_b14dcb0b32a04b9890c51f31c5150399",
            "max": 240,
            "min": 0,
            "orientation": "horizontal",
            "style": "IPY_MODEL_e16c37d7ec1746c28845b5e2b3887f7c",
            "value": 240
          }
        },
        "02f7d2740cd84f298d977c86f3d9ce22": {
          "model_module": "@jupyter-widgets/controls",
          "model_name": "HTMLModel",
          "model_module_version": "1.5.0",
          "state": {
            "_dom_classes": [],
            "_model_module": "@jupyter-widgets/controls",
            "_model_module_version": "1.5.0",
            "_model_name": "HTMLModel",
            "_view_count": null,
            "_view_module": "@jupyter-widgets/controls",
            "_view_module_version": "1.5.0",
            "_view_name": "HTMLView",
            "description": "",
            "description_tooltip": null,
            "layout": "IPY_MODEL_434dfab0d3ed46d2bc727dbecd4eaee6",
            "placeholder": "​",
            "style": "IPY_MODEL_a77d2a00f1284b5d8303025a219c175a",
            "value": " 240/240 [00:00&lt;00:00, 5303.54it/s]"
          }
        },
        "0d523d6e4a1746cbabb1907877d7a99a": {
          "model_module": "@jupyter-widgets/base",
          "model_name": "LayoutModel",
          "model_module_version": "1.2.0",
          "state": {
            "_model_module": "@jupyter-widgets/base",
            "_model_module_version": "1.2.0",
            "_model_name": "LayoutModel",
            "_view_count": null,
            "_view_module": "@jupyter-widgets/base",
            "_view_module_version": "1.2.0",
            "_view_name": "LayoutView",
            "align_content": null,
            "align_items": null,
            "align_self": null,
            "border": null,
            "bottom": null,
            "display": null,
            "flex": null,
            "flex_flow": null,
            "grid_area": null,
            "grid_auto_columns": null,
            "grid_auto_flow": null,
            "grid_auto_rows": null,
            "grid_column": null,
            "grid_gap": null,
            "grid_row": null,
            "grid_template_areas": null,
            "grid_template_columns": null,
            "grid_template_rows": null,
            "height": null,
            "justify_content": null,
            "justify_items": null,
            "left": null,
            "margin": null,
            "max_height": null,
            "max_width": null,
            "min_height": null,
            "min_width": null,
            "object_fit": null,
            "object_position": null,
            "order": null,
            "overflow": null,
            "overflow_x": null,
            "overflow_y": null,
            "padding": null,
            "right": null,
            "top": null,
            "visibility": null,
            "width": null
          }
        },
        "3a2c5e0a40784aa9a9e192bc401a029d": {
          "model_module": "@jupyter-widgets/base",
          "model_name": "LayoutModel",
          "model_module_version": "1.2.0",
          "state": {
            "_model_module": "@jupyter-widgets/base",
            "_model_module_version": "1.2.0",
            "_model_name": "LayoutModel",
            "_view_count": null,
            "_view_module": "@jupyter-widgets/base",
            "_view_module_version": "1.2.0",
            "_view_name": "LayoutView",
            "align_content": null,
            "align_items": null,
            "align_self": null,
            "border": null,
            "bottom": null,
            "display": null,
            "flex": null,
            "flex_flow": null,
            "grid_area": null,
            "grid_auto_columns": null,
            "grid_auto_flow": null,
            "grid_auto_rows": null,
            "grid_column": null,
            "grid_gap": null,
            "grid_row": null,
            "grid_template_areas": null,
            "grid_template_columns": null,
            "grid_template_rows": null,
            "height": null,
            "justify_content": null,
            "justify_items": null,
            "left": null,
            "margin": null,
            "max_height": null,
            "max_width": null,
            "min_height": null,
            "min_width": null,
            "object_fit": null,
            "object_position": null,
            "order": null,
            "overflow": null,
            "overflow_x": null,
            "overflow_y": null,
            "padding": null,
            "right": null,
            "top": null,
            "visibility": null,
            "width": null
          }
        },
        "ab2847d04880423eb9daa390a00397d0": {
          "model_module": "@jupyter-widgets/controls",
          "model_name": "DescriptionStyleModel",
          "model_module_version": "1.5.0",
          "state": {
            "_model_module": "@jupyter-widgets/controls",
            "_model_module_version": "1.5.0",
            "_model_name": "DescriptionStyleModel",
            "_view_count": null,
            "_view_module": "@jupyter-widgets/base",
            "_view_module_version": "1.2.0",
            "_view_name": "StyleView",
            "description_width": ""
          }
        },
        "b14dcb0b32a04b9890c51f31c5150399": {
          "model_module": "@jupyter-widgets/base",
          "model_name": "LayoutModel",
          "model_module_version": "1.2.0",
          "state": {
            "_model_module": "@jupyter-widgets/base",
            "_model_module_version": "1.2.0",
            "_model_name": "LayoutModel",
            "_view_count": null,
            "_view_module": "@jupyter-widgets/base",
            "_view_module_version": "1.2.0",
            "_view_name": "LayoutView",
            "align_content": null,
            "align_items": null,
            "align_self": null,
            "border": null,
            "bottom": null,
            "display": null,
            "flex": null,
            "flex_flow": null,
            "grid_area": null,
            "grid_auto_columns": null,
            "grid_auto_flow": null,
            "grid_auto_rows": null,
            "grid_column": null,
            "grid_gap": null,
            "grid_row": null,
            "grid_template_areas": null,
            "grid_template_columns": null,
            "grid_template_rows": null,
            "height": null,
            "justify_content": null,
            "justify_items": null,
            "left": null,
            "margin": null,
            "max_height": null,
            "max_width": null,
            "min_height": null,
            "min_width": null,
            "object_fit": null,
            "object_position": null,
            "order": null,
            "overflow": null,
            "overflow_x": null,
            "overflow_y": null,
            "padding": null,
            "right": null,
            "top": null,
            "visibility": null,
            "width": null
          }
        },
        "e16c37d7ec1746c28845b5e2b3887f7c": {
          "model_module": "@jupyter-widgets/controls",
          "model_name": "ProgressStyleModel",
          "model_module_version": "1.5.0",
          "state": {
            "_model_module": "@jupyter-widgets/controls",
            "_model_module_version": "1.5.0",
            "_model_name": "ProgressStyleModel",
            "_view_count": null,
            "_view_module": "@jupyter-widgets/base",
            "_view_module_version": "1.2.0",
            "_view_name": "StyleView",
            "bar_color": null,
            "description_width": ""
          }
        },
        "434dfab0d3ed46d2bc727dbecd4eaee6": {
          "model_module": "@jupyter-widgets/base",
          "model_name": "LayoutModel",
          "model_module_version": "1.2.0",
          "state": {
            "_model_module": "@jupyter-widgets/base",
            "_model_module_version": "1.2.0",
            "_model_name": "LayoutModel",
            "_view_count": null,
            "_view_module": "@jupyter-widgets/base",
            "_view_module_version": "1.2.0",
            "_view_name": "LayoutView",
            "align_content": null,
            "align_items": null,
            "align_self": null,
            "border": null,
            "bottom": null,
            "display": null,
            "flex": null,
            "flex_flow": null,
            "grid_area": null,
            "grid_auto_columns": null,
            "grid_auto_flow": null,
            "grid_auto_rows": null,
            "grid_column": null,
            "grid_gap": null,
            "grid_row": null,
            "grid_template_areas": null,
            "grid_template_columns": null,
            "grid_template_rows": null,
            "height": null,
            "justify_content": null,
            "justify_items": null,
            "left": null,
            "margin": null,
            "max_height": null,
            "max_width": null,
            "min_height": null,
            "min_width": null,
            "object_fit": null,
            "object_position": null,
            "order": null,
            "overflow": null,
            "overflow_x": null,
            "overflow_y": null,
            "padding": null,
            "right": null,
            "top": null,
            "visibility": null,
            "width": null
          }
        },
        "a77d2a00f1284b5d8303025a219c175a": {
          "model_module": "@jupyter-widgets/controls",
          "model_name": "DescriptionStyleModel",
          "model_module_version": "1.5.0",
          "state": {
            "_model_module": "@jupyter-widgets/controls",
            "_model_module_version": "1.5.0",
            "_model_name": "DescriptionStyleModel",
            "_view_count": null,
            "_view_module": "@jupyter-widgets/base",
            "_view_module_version": "1.2.0",
            "_view_name": "StyleView",
            "description_width": ""
          }
        },
        "a6565b14e9284dbe9c3f64f691dd827c": {
          "model_module": "@jupyter-widgets/controls",
          "model_name": "HBoxModel",
          "model_module_version": "1.5.0",
          "state": {
            "_dom_classes": [],
            "_model_module": "@jupyter-widgets/controls",
            "_model_module_version": "1.5.0",
            "_model_name": "HBoxModel",
            "_view_count": null,
            "_view_module": "@jupyter-widgets/controls",
            "_view_module_version": "1.5.0",
            "_view_name": "HBoxView",
            "box_style": "",
            "children": [
              "IPY_MODEL_3de3a3e89b3a42b2a079920fe98f0933",
              "IPY_MODEL_68b8532d854f4f9abf42712edcc82984",
              "IPY_MODEL_f193355398f9485bbd8455434281b141"
            ],
            "layout": "IPY_MODEL_c9082f8760484244a66e47923be33460"
          }
        },
        "3de3a3e89b3a42b2a079920fe98f0933": {
          "model_module": "@jupyter-widgets/controls",
          "model_name": "HTMLModel",
          "model_module_version": "1.5.0",
          "state": {
            "_dom_classes": [],
            "_model_module": "@jupyter-widgets/controls",
            "_model_module_version": "1.5.0",
            "_model_name": "HTMLModel",
            "_view_count": null,
            "_view_module": "@jupyter-widgets/controls",
            "_view_module_version": "1.5.0",
            "_view_name": "HTMLView",
            "description": "",
            "description_tooltip": null,
            "layout": "IPY_MODEL_c13896721ed2463cbceec46bef016e5e",
            "placeholder": "​",
            "style": "IPY_MODEL_b06e474f4150476492435412679a5c02",
            "value": "PROCESSING TASKS | : 100%"
          }
        },
        "68b8532d854f4f9abf42712edcc82984": {
          "model_module": "@jupyter-widgets/controls",
          "model_name": "FloatProgressModel",
          "model_module_version": "1.5.0",
          "state": {
            "_dom_classes": [],
            "_model_module": "@jupyter-widgets/controls",
            "_model_module_version": "1.5.0",
            "_model_name": "FloatProgressModel",
            "_view_count": null,
            "_view_module": "@jupyter-widgets/controls",
            "_view_module_version": "1.5.0",
            "_view_name": "ProgressView",
            "bar_style": "success",
            "description": "",
            "description_tooltip": null,
            "layout": "IPY_MODEL_ee4cd45e8e3c45528d5b2062821e6497",
            "max": 240,
            "min": 0,
            "orientation": "horizontal",
            "style": "IPY_MODEL_53723c69965f44b388fd05a0267db2ac",
            "value": 240
          }
        },
        "f193355398f9485bbd8455434281b141": {
          "model_module": "@jupyter-widgets/controls",
          "model_name": "HTMLModel",
          "model_module_version": "1.5.0",
          "state": {
            "_dom_classes": [],
            "_model_module": "@jupyter-widgets/controls",
            "_model_module_version": "1.5.0",
            "_model_name": "HTMLModel",
            "_view_count": null,
            "_view_module": "@jupyter-widgets/controls",
            "_view_module_version": "1.5.0",
            "_view_name": "HTMLView",
            "description": "",
            "description_tooltip": null,
            "layout": "IPY_MODEL_0b688e2d88444a3ebdfa7de050ee2520",
            "placeholder": "​",
            "style": "IPY_MODEL_88637f18d9da4d738d31a96172849c41",
            "value": " 240/240 [00:42&lt;00:00,  3.51it/s]"
          }
        },
        "c9082f8760484244a66e47923be33460": {
          "model_module": "@jupyter-widgets/base",
          "model_name": "LayoutModel",
          "model_module_version": "1.2.0",
          "state": {
            "_model_module": "@jupyter-widgets/base",
            "_model_module_version": "1.2.0",
            "_model_name": "LayoutModel",
            "_view_count": null,
            "_view_module": "@jupyter-widgets/base",
            "_view_module_version": "1.2.0",
            "_view_name": "LayoutView",
            "align_content": null,
            "align_items": null,
            "align_self": null,
            "border": null,
            "bottom": null,
            "display": null,
            "flex": null,
            "flex_flow": null,
            "grid_area": null,
            "grid_auto_columns": null,
            "grid_auto_flow": null,
            "grid_auto_rows": null,
            "grid_column": null,
            "grid_gap": null,
            "grid_row": null,
            "grid_template_areas": null,
            "grid_template_columns": null,
            "grid_template_rows": null,
            "height": null,
            "justify_content": null,
            "justify_items": null,
            "left": null,
            "margin": null,
            "max_height": null,
            "max_width": null,
            "min_height": null,
            "min_width": null,
            "object_fit": null,
            "object_position": null,
            "order": null,
            "overflow": null,
            "overflow_x": null,
            "overflow_y": null,
            "padding": null,
            "right": null,
            "top": null,
            "visibility": null,
            "width": null
          }
        },
        "c13896721ed2463cbceec46bef016e5e": {
          "model_module": "@jupyter-widgets/base",
          "model_name": "LayoutModel",
          "model_module_version": "1.2.0",
          "state": {
            "_model_module": "@jupyter-widgets/base",
            "_model_module_version": "1.2.0",
            "_model_name": "LayoutModel",
            "_view_count": null,
            "_view_module": "@jupyter-widgets/base",
            "_view_module_version": "1.2.0",
            "_view_name": "LayoutView",
            "align_content": null,
            "align_items": null,
            "align_self": null,
            "border": null,
            "bottom": null,
            "display": null,
            "flex": null,
            "flex_flow": null,
            "grid_area": null,
            "grid_auto_columns": null,
            "grid_auto_flow": null,
            "grid_auto_rows": null,
            "grid_column": null,
            "grid_gap": null,
            "grid_row": null,
            "grid_template_areas": null,
            "grid_template_columns": null,
            "grid_template_rows": null,
            "height": null,
            "justify_content": null,
            "justify_items": null,
            "left": null,
            "margin": null,
            "max_height": null,
            "max_width": null,
            "min_height": null,
            "min_width": null,
            "object_fit": null,
            "object_position": null,
            "order": null,
            "overflow": null,
            "overflow_x": null,
            "overflow_y": null,
            "padding": null,
            "right": null,
            "top": null,
            "visibility": null,
            "width": null
          }
        },
        "b06e474f4150476492435412679a5c02": {
          "model_module": "@jupyter-widgets/controls",
          "model_name": "DescriptionStyleModel",
          "model_module_version": "1.5.0",
          "state": {
            "_model_module": "@jupyter-widgets/controls",
            "_model_module_version": "1.5.0",
            "_model_name": "DescriptionStyleModel",
            "_view_count": null,
            "_view_module": "@jupyter-widgets/base",
            "_view_module_version": "1.2.0",
            "_view_name": "StyleView",
            "description_width": ""
          }
        },
        "ee4cd45e8e3c45528d5b2062821e6497": {
          "model_module": "@jupyter-widgets/base",
          "model_name": "LayoutModel",
          "model_module_version": "1.2.0",
          "state": {
            "_model_module": "@jupyter-widgets/base",
            "_model_module_version": "1.2.0",
            "_model_name": "LayoutModel",
            "_view_count": null,
            "_view_module": "@jupyter-widgets/base",
            "_view_module_version": "1.2.0",
            "_view_name": "LayoutView",
            "align_content": null,
            "align_items": null,
            "align_self": null,
            "border": null,
            "bottom": null,
            "display": null,
            "flex": null,
            "flex_flow": null,
            "grid_area": null,
            "grid_auto_columns": null,
            "grid_auto_flow": null,
            "grid_auto_rows": null,
            "grid_column": null,
            "grid_gap": null,
            "grid_row": null,
            "grid_template_areas": null,
            "grid_template_columns": null,
            "grid_template_rows": null,
            "height": null,
            "justify_content": null,
            "justify_items": null,
            "left": null,
            "margin": null,
            "max_height": null,
            "max_width": null,
            "min_height": null,
            "min_width": null,
            "object_fit": null,
            "object_position": null,
            "order": null,
            "overflow": null,
            "overflow_x": null,
            "overflow_y": null,
            "padding": null,
            "right": null,
            "top": null,
            "visibility": null,
            "width": null
          }
        },
        "53723c69965f44b388fd05a0267db2ac": {
          "model_module": "@jupyter-widgets/controls",
          "model_name": "ProgressStyleModel",
          "model_module_version": "1.5.0",
          "state": {
            "_model_module": "@jupyter-widgets/controls",
            "_model_module_version": "1.5.0",
            "_model_name": "ProgressStyleModel",
            "_view_count": null,
            "_view_module": "@jupyter-widgets/base",
            "_view_module_version": "1.2.0",
            "_view_name": "StyleView",
            "bar_color": null,
            "description_width": ""
          }
        },
        "0b688e2d88444a3ebdfa7de050ee2520": {
          "model_module": "@jupyter-widgets/base",
          "model_name": "LayoutModel",
          "model_module_version": "1.2.0",
          "state": {
            "_model_module": "@jupyter-widgets/base",
            "_model_module_version": "1.2.0",
            "_model_name": "LayoutModel",
            "_view_count": null,
            "_view_module": "@jupyter-widgets/base",
            "_view_module_version": "1.2.0",
            "_view_name": "LayoutView",
            "align_content": null,
            "align_items": null,
            "align_self": null,
            "border": null,
            "bottom": null,
            "display": null,
            "flex": null,
            "flex_flow": null,
            "grid_area": null,
            "grid_auto_columns": null,
            "grid_auto_flow": null,
            "grid_auto_rows": null,
            "grid_column": null,
            "grid_gap": null,
            "grid_row": null,
            "grid_template_areas": null,
            "grid_template_columns": null,
            "grid_template_rows": null,
            "height": null,
            "justify_content": null,
            "justify_items": null,
            "left": null,
            "margin": null,
            "max_height": null,
            "max_width": null,
            "min_height": null,
            "min_width": null,
            "object_fit": null,
            "object_position": null,
            "order": null,
            "overflow": null,
            "overflow_x": null,
            "overflow_y": null,
            "padding": null,
            "right": null,
            "top": null,
            "visibility": null,
            "width": null
          }
        },
        "88637f18d9da4d738d31a96172849c41": {
          "model_module": "@jupyter-widgets/controls",
          "model_name": "DescriptionStyleModel",
          "model_module_version": "1.5.0",
          "state": {
            "_model_module": "@jupyter-widgets/controls",
            "_model_module_version": "1.5.0",
            "_model_name": "DescriptionStyleModel",
            "_view_count": null,
            "_view_module": "@jupyter-widgets/base",
            "_view_module_version": "1.2.0",
            "_view_name": "StyleView",
            "description_width": ""
          }
        },
        "3efae3fd503f45d8a92dc2167b26dfd4": {
          "model_module": "@jupyter-widgets/base",
          "model_name": "LayoutModel",
          "model_module_version": "1.2.0",
          "state": {
            "_model_module": "@jupyter-widgets/base",
            "_model_module_version": "1.2.0",
            "_model_name": "LayoutModel",
            "_view_count": null,
            "_view_module": "@jupyter-widgets/base",
            "_view_module_version": "1.2.0",
            "_view_name": "LayoutView",
            "align_content": null,
            "align_items": null,
            "align_self": null,
            "border": null,
            "bottom": null,
            "display": null,
            "flex": null,
            "flex_flow": null,
            "grid_area": null,
            "grid_auto_columns": null,
            "grid_auto_flow": null,
            "grid_auto_rows": null,
            "grid_column": null,
            "grid_gap": null,
            "grid_row": null,
            "grid_template_areas": null,
            "grid_template_columns": null,
            "grid_template_rows": null,
            "height": null,
            "justify_content": null,
            "justify_items": null,
            "left": null,
            "margin": null,
            "max_height": null,
            "max_width": null,
            "min_height": null,
            "min_width": null,
            "object_fit": null,
            "object_position": null,
            "order": null,
            "overflow": null,
            "overflow_x": null,
            "overflow_y": null,
            "padding": null,
            "right": null,
            "top": null,
            "visibility": null,
            "width": null
          }
        },
        "9894253dd2054f2b95fd907d54e713e0": {
          "model_module": "@jupyter-widgets/controls",
          "model_name": "ProgressStyleModel",
          "model_module_version": "1.5.0",
          "state": {
            "_model_module": "@jupyter-widgets/controls",
            "_model_module_version": "1.5.0",
            "_model_name": "ProgressStyleModel",
            "_view_count": null,
            "_view_module": "@jupyter-widgets/base",
            "_view_module_version": "1.2.0",
            "_view_name": "StyleView",
            "bar_color": null,
            "description_width": ""
          }
        },
        "59694f46bad54b99b71db40ea1fd04ee": {
          "model_module": "@jupyter-widgets/base",
          "model_name": "LayoutModel",
          "model_module_version": "1.2.0",
          "state": {
            "_model_module": "@jupyter-widgets/base",
            "_model_module_version": "1.2.0",
            "_model_name": "LayoutModel",
            "_view_count": null,
            "_view_module": "@jupyter-widgets/base",
            "_view_module_version": "1.2.0",
            "_view_name": "LayoutView",
            "align_content": null,
            "align_items": null,
            "align_self": null,
            "border": null,
            "bottom": null,
            "display": null,
            "flex": null,
            "flex_flow": null,
            "grid_area": null,
            "grid_auto_columns": null,
            "grid_auto_flow": null,
            "grid_auto_rows": null,
            "grid_column": null,
            "grid_gap": null,
            "grid_row": null,
            "grid_template_areas": null,
            "grid_template_columns": null,
            "grid_template_rows": null,
            "height": null,
            "justify_content": null,
            "justify_items": null,
            "left": null,
            "margin": null,
            "max_height": null,
            "max_width": null,
            "min_height": null,
            "min_width": null,
            "object_fit": null,
            "object_position": null,
            "order": null,
            "overflow": null,
            "overflow_x": null,
            "overflow_y": null,
            "padding": null,
            "right": null,
            "top": null,
            "visibility": null,
            "width": null
          }
        },
        "af488968cf31424496d054bcbc767889": {
          "model_module": "@jupyter-widgets/controls",
          "model_name": "DescriptionStyleModel",
          "model_module_version": "1.5.0",
          "state": {
            "_model_module": "@jupyter-widgets/controls",
            "_model_module_version": "1.5.0",
            "_model_name": "DescriptionStyleModel",
            "_view_count": null,
            "_view_module": "@jupyter-widgets/base",
            "_view_module_version": "1.2.0",
            "_view_name": "StyleView",
            "description_width": ""
          }
        },
        "a4a11979636e4e5099b0b95adbcec62d": {
          "model_module": "@jupyter-widgets/base",
          "model_name": "LayoutModel",
          "model_module_version": "1.2.0",
          "state": {
            "_model_module": "@jupyter-widgets/base",
            "_model_module_version": "1.2.0",
            "_model_name": "LayoutModel",
            "_view_count": null,
            "_view_module": "@jupyter-widgets/base",
            "_view_module_version": "1.2.0",
            "_view_name": "LayoutView",
            "align_content": null,
            "align_items": null,
            "align_self": null,
            "border": null,
            "bottom": null,
            "display": null,
            "flex": null,
            "flex_flow": null,
            "grid_area": null,
            "grid_auto_columns": null,
            "grid_auto_flow": null,
            "grid_auto_rows": null,
            "grid_column": null,
            "grid_gap": null,
            "grid_row": null,
            "grid_template_areas": null,
            "grid_template_columns": null,
            "grid_template_rows": null,
            "height": null,
            "justify_content": null,
            "justify_items": null,
            "left": null,
            "margin": null,
            "max_height": null,
            "max_width": null,
            "min_height": null,
            "min_width": null,
            "object_fit": null,
            "object_position": null,
            "order": null,
            "overflow": null,
            "overflow_x": null,
            "overflow_y": null,
            "padding": null,
            "right": null,
            "top": null,
            "visibility": null,
            "width": null
          }
        },
        "f654c0232f154228b48ffc4aa6d1eaaa": {
          "model_module": "@jupyter-widgets/controls",
          "model_name": "DescriptionStyleModel",
          "model_module_version": "1.5.0",
          "state": {
            "_model_module": "@jupyter-widgets/controls",
            "_model_module_version": "1.5.0",
            "_model_name": "DescriptionStyleModel",
            "_view_count": null,
            "_view_module": "@jupyter-widgets/base",
            "_view_module_version": "1.2.0",
            "_view_name": "StyleView",
            "description_width": ""
          }
        },
        "573c3032d2a941988e7e9e9365529532": {
          "model_module": "@jupyter-widgets/controls",
          "model_name": "HTMLModel",
          "model_module_version": "1.5.0",
          "state": {
            "_dom_classes": [],
            "_model_module": "@jupyter-widgets/controls",
            "_model_module_version": "1.5.0",
            "_model_name": "HTMLModel",
            "_view_count": null,
            "_view_module": "@jupyter-widgets/controls",
            "_view_module_version": "1.5.0",
            "_view_name": "HTMLView",
            "description": "",
            "description_tooltip": null,
            "layout": "IPY_MODEL_59694f46bad54b99b71db40ea1fd04ee",
            "placeholder": "​",
            "style": "IPY_MODEL_af488968cf31424496d054bcbc767889",
            "value": "COLLECTING RESULTS | : 100%"
          }
        },
        "582d5fa34ef24310a53bc1c5678b288e": {
          "model_module": "@jupyter-widgets/controls",
          "model_name": "FloatProgressModel",
          "model_module_version": "1.5.0",
          "state": {
            "_dom_classes": [],
            "_model_module": "@jupyter-widgets/controls",
            "_model_module_version": "1.5.0",
            "_model_name": "FloatProgressModel",
            "_view_count": null,
            "_view_module": "@jupyter-widgets/controls",
            "_view_module_version": "1.5.0",
            "_view_name": "ProgressView",
            "bar_style": "success",
            "description": "",
            "description_tooltip": null,
            "layout": "IPY_MODEL_3efae3fd503f45d8a92dc2167b26dfd4",
            "max": 240,
            "min": 0,
            "orientation": "horizontal",
            "style": "IPY_MODEL_9894253dd2054f2b95fd907d54e713e0",
            "value": 240
          }
        },
        "443d94554da14c2cad2c8a1377408f74": {
          "model_module": "@jupyter-widgets/controls",
          "model_name": "HTMLModel",
          "model_module_version": "1.5.0",
          "state": {
            "_dom_classes": [],
            "_model_module": "@jupyter-widgets/controls",
            "_model_module_version": "1.5.0",
            "_model_name": "HTMLModel",
            "_view_count": null,
            "_view_module": "@jupyter-widgets/controls",
            "_view_module_version": "1.5.0",
            "_view_name": "HTMLView",
            "description": "",
            "description_tooltip": null,
            "layout": "IPY_MODEL_a4a11979636e4e5099b0b95adbcec62d",
            "placeholder": "​",
            "style": "IPY_MODEL_f654c0232f154228b48ffc4aa6d1eaaa",
            "value": " 240/240 [00:00&lt;00:00, 14760.88it/s]"
          }
        },
        "72772736890f40f6b3a6edf9a105e1c2": {
          "model_module": "@jupyter-widgets/base",
          "model_name": "LayoutModel",
          "model_module_version": "1.2.0",
          "state": {
            "_model_module": "@jupyter-widgets/base",
            "_model_module_version": "1.2.0",
            "_model_name": "LayoutModel",
            "_view_count": null,
            "_view_module": "@jupyter-widgets/base",
            "_view_module_version": "1.2.0",
            "_view_name": "LayoutView",
            "align_content": null,
            "align_items": null,
            "align_self": null,
            "border": null,
            "bottom": null,
            "display": null,
            "flex": null,
            "flex_flow": null,
            "grid_area": null,
            "grid_auto_columns": null,
            "grid_auto_flow": null,
            "grid_auto_rows": null,
            "grid_column": null,
            "grid_gap": null,
            "grid_row": null,
            "grid_template_areas": null,
            "grid_template_columns": null,
            "grid_template_rows": null,
            "height": null,
            "justify_content": null,
            "justify_items": null,
            "left": null,
            "margin": null,
            "max_height": null,
            "max_width": null,
            "min_height": null,
            "min_width": null,
            "object_fit": null,
            "object_position": null,
            "order": null,
            "overflow": null,
            "overflow_x": null,
            "overflow_y": null,
            "padding": null,
            "right": null,
            "top": null,
            "visibility": null,
            "width": null
          }
        },
        "bd7b16d23bfd4bc58eb11849ccdecee0": {
          "model_module": "@jupyter-widgets/controls",
          "model_name": "HBoxModel",
          "model_module_version": "1.5.0",
          "state": {
            "_dom_classes": [],
            "_model_module": "@jupyter-widgets/controls",
            "_model_module_version": "1.5.0",
            "_model_name": "HBoxModel",
            "_view_count": null,
            "_view_module": "@jupyter-widgets/controls",
            "_view_module_version": "1.5.0",
            "_view_name": "HBoxView",
            "box_style": "",
            "children": [
              "IPY_MODEL_573c3032d2a941988e7e9e9365529532",
              "IPY_MODEL_582d5fa34ef24310a53bc1c5678b288e",
              "IPY_MODEL_443d94554da14c2cad2c8a1377408f74"
            ],
            "layout": "IPY_MODEL_72772736890f40f6b3a6edf9a105e1c2"
          }
        },
        "d566477ac20b430487a34f11ba73a42f": {
          "model_module": "@jupyter-widgets/controls",
          "model_name": "HBoxModel",
          "model_module_version": "1.5.0",
          "state": {
            "_dom_classes": [],
            "_model_module": "@jupyter-widgets/controls",
            "_model_module_version": "1.5.0",
            "_model_name": "HBoxModel",
            "_view_count": null,
            "_view_module": "@jupyter-widgets/controls",
            "_view_module_version": "1.5.0",
            "_view_name": "HBoxView",
            "box_style": "",
            "children": [
              "IPY_MODEL_b7c59622d4514614ba1cbf27a3281eb9",
              "IPY_MODEL_c1a21fc21ee94c5e9a1c457a6e81ce50",
              "IPY_MODEL_9eeb495149cc407998dc3228f6286c29"
            ],
            "layout": "IPY_MODEL_455f9735a6b1473383fd24cc09e28427"
          }
        },
        "b7c59622d4514614ba1cbf27a3281eb9": {
          "model_module": "@jupyter-widgets/controls",
          "model_name": "HTMLModel",
          "model_module_version": "1.5.0",
          "state": {
            "_dom_classes": [],
            "_model_module": "@jupyter-widgets/controls",
            "_model_module_version": "1.5.0",
            "_model_name": "HTMLModel",
            "_view_count": null,
            "_view_module": "@jupyter-widgets/controls",
            "_view_module_version": "1.5.0",
            "_view_name": "HTMLView",
            "description": "",
            "description_tooltip": null,
            "layout": "IPY_MODEL_c272b36123b64066aef6558a2a5437d6",
            "placeholder": "​",
            "style": "IPY_MODEL_799537dbc9184421bb5d26c7fa232548",
            "value": "QUEUEING TASKS | : 100%"
          }
        },
        "c1a21fc21ee94c5e9a1c457a6e81ce50": {
          "model_module": "@jupyter-widgets/controls",
          "model_name": "FloatProgressModel",
          "model_module_version": "1.5.0",
          "state": {
            "_dom_classes": [],
            "_model_module": "@jupyter-widgets/controls",
            "_model_module_version": "1.5.0",
            "_model_name": "FloatProgressModel",
            "_view_count": null,
            "_view_module": "@jupyter-widgets/controls",
            "_view_module_version": "1.5.0",
            "_view_name": "ProgressView",
            "bar_style": "success",
            "description": "",
            "description_tooltip": null,
            "layout": "IPY_MODEL_75aef8e6cc794e5d85390705bd9ee6fb",
            "max": 104,
            "min": 0,
            "orientation": "horizontal",
            "style": "IPY_MODEL_a31ddd757ff34bc4bedb6e67ec85511b",
            "value": 104
          }
        },
        "9eeb495149cc407998dc3228f6286c29": {
          "model_module": "@jupyter-widgets/controls",
          "model_name": "HTMLModel",
          "model_module_version": "1.5.0",
          "state": {
            "_dom_classes": [],
            "_model_module": "@jupyter-widgets/controls",
            "_model_module_version": "1.5.0",
            "_model_name": "HTMLModel",
            "_view_count": null,
            "_view_module": "@jupyter-widgets/controls",
            "_view_module_version": "1.5.0",
            "_view_name": "HTMLView",
            "description": "",
            "description_tooltip": null,
            "layout": "IPY_MODEL_b98cc3d5a6ea41e48e7c5f06ea3f7b07",
            "placeholder": "​",
            "style": "IPY_MODEL_63df29a277394684a572d2fb2e17f0f5",
            "value": " 104/104 [00:00&lt;00:00, 2693.17it/s]"
          }
        },
        "455f9735a6b1473383fd24cc09e28427": {
          "model_module": "@jupyter-widgets/base",
          "model_name": "LayoutModel",
          "model_module_version": "1.2.0",
          "state": {
            "_model_module": "@jupyter-widgets/base",
            "_model_module_version": "1.2.0",
            "_model_name": "LayoutModel",
            "_view_count": null,
            "_view_module": "@jupyter-widgets/base",
            "_view_module_version": "1.2.0",
            "_view_name": "LayoutView",
            "align_content": null,
            "align_items": null,
            "align_self": null,
            "border": null,
            "bottom": null,
            "display": null,
            "flex": null,
            "flex_flow": null,
            "grid_area": null,
            "grid_auto_columns": null,
            "grid_auto_flow": null,
            "grid_auto_rows": null,
            "grid_column": null,
            "grid_gap": null,
            "grid_row": null,
            "grid_template_areas": null,
            "grid_template_columns": null,
            "grid_template_rows": null,
            "height": null,
            "justify_content": null,
            "justify_items": null,
            "left": null,
            "margin": null,
            "max_height": null,
            "max_width": null,
            "min_height": null,
            "min_width": null,
            "object_fit": null,
            "object_position": null,
            "order": null,
            "overflow": null,
            "overflow_x": null,
            "overflow_y": null,
            "padding": null,
            "right": null,
            "top": null,
            "visibility": null,
            "width": null
          }
        },
        "c272b36123b64066aef6558a2a5437d6": {
          "model_module": "@jupyter-widgets/base",
          "model_name": "LayoutModel",
          "model_module_version": "1.2.0",
          "state": {
            "_model_module": "@jupyter-widgets/base",
            "_model_module_version": "1.2.0",
            "_model_name": "LayoutModel",
            "_view_count": null,
            "_view_module": "@jupyter-widgets/base",
            "_view_module_version": "1.2.0",
            "_view_name": "LayoutView",
            "align_content": null,
            "align_items": null,
            "align_self": null,
            "border": null,
            "bottom": null,
            "display": null,
            "flex": null,
            "flex_flow": null,
            "grid_area": null,
            "grid_auto_columns": null,
            "grid_auto_flow": null,
            "grid_auto_rows": null,
            "grid_column": null,
            "grid_gap": null,
            "grid_row": null,
            "grid_template_areas": null,
            "grid_template_columns": null,
            "grid_template_rows": null,
            "height": null,
            "justify_content": null,
            "justify_items": null,
            "left": null,
            "margin": null,
            "max_height": null,
            "max_width": null,
            "min_height": null,
            "min_width": null,
            "object_fit": null,
            "object_position": null,
            "order": null,
            "overflow": null,
            "overflow_x": null,
            "overflow_y": null,
            "padding": null,
            "right": null,
            "top": null,
            "visibility": null,
            "width": null
          }
        },
        "799537dbc9184421bb5d26c7fa232548": {
          "model_module": "@jupyter-widgets/controls",
          "model_name": "DescriptionStyleModel",
          "model_module_version": "1.5.0",
          "state": {
            "_model_module": "@jupyter-widgets/controls",
            "_model_module_version": "1.5.0",
            "_model_name": "DescriptionStyleModel",
            "_view_count": null,
            "_view_module": "@jupyter-widgets/base",
            "_view_module_version": "1.2.0",
            "_view_name": "StyleView",
            "description_width": ""
          }
        },
        "75aef8e6cc794e5d85390705bd9ee6fb": {
          "model_module": "@jupyter-widgets/base",
          "model_name": "LayoutModel",
          "model_module_version": "1.2.0",
          "state": {
            "_model_module": "@jupyter-widgets/base",
            "_model_module_version": "1.2.0",
            "_model_name": "LayoutModel",
            "_view_count": null,
            "_view_module": "@jupyter-widgets/base",
            "_view_module_version": "1.2.0",
            "_view_name": "LayoutView",
            "align_content": null,
            "align_items": null,
            "align_self": null,
            "border": null,
            "bottom": null,
            "display": null,
            "flex": null,
            "flex_flow": null,
            "grid_area": null,
            "grid_auto_columns": null,
            "grid_auto_flow": null,
            "grid_auto_rows": null,
            "grid_column": null,
            "grid_gap": null,
            "grid_row": null,
            "grid_template_areas": null,
            "grid_template_columns": null,
            "grid_template_rows": null,
            "height": null,
            "justify_content": null,
            "justify_items": null,
            "left": null,
            "margin": null,
            "max_height": null,
            "max_width": null,
            "min_height": null,
            "min_width": null,
            "object_fit": null,
            "object_position": null,
            "order": null,
            "overflow": null,
            "overflow_x": null,
            "overflow_y": null,
            "padding": null,
            "right": null,
            "top": null,
            "visibility": null,
            "width": null
          }
        },
        "a31ddd757ff34bc4bedb6e67ec85511b": {
          "model_module": "@jupyter-widgets/controls",
          "model_name": "ProgressStyleModel",
          "model_module_version": "1.5.0",
          "state": {
            "_model_module": "@jupyter-widgets/controls",
            "_model_module_version": "1.5.0",
            "_model_name": "ProgressStyleModel",
            "_view_count": null,
            "_view_module": "@jupyter-widgets/base",
            "_view_module_version": "1.2.0",
            "_view_name": "StyleView",
            "bar_color": null,
            "description_width": ""
          }
        },
        "b98cc3d5a6ea41e48e7c5f06ea3f7b07": {
          "model_module": "@jupyter-widgets/base",
          "model_name": "LayoutModel",
          "model_module_version": "1.2.0",
          "state": {
            "_model_module": "@jupyter-widgets/base",
            "_model_module_version": "1.2.0",
            "_model_name": "LayoutModel",
            "_view_count": null,
            "_view_module": "@jupyter-widgets/base",
            "_view_module_version": "1.2.0",
            "_view_name": "LayoutView",
            "align_content": null,
            "align_items": null,
            "align_self": null,
            "border": null,
            "bottom": null,
            "display": null,
            "flex": null,
            "flex_flow": null,
            "grid_area": null,
            "grid_auto_columns": null,
            "grid_auto_flow": null,
            "grid_auto_rows": null,
            "grid_column": null,
            "grid_gap": null,
            "grid_row": null,
            "grid_template_areas": null,
            "grid_template_columns": null,
            "grid_template_rows": null,
            "height": null,
            "justify_content": null,
            "justify_items": null,
            "left": null,
            "margin": null,
            "max_height": null,
            "max_width": null,
            "min_height": null,
            "min_width": null,
            "object_fit": null,
            "object_position": null,
            "order": null,
            "overflow": null,
            "overflow_x": null,
            "overflow_y": null,
            "padding": null,
            "right": null,
            "top": null,
            "visibility": null,
            "width": null
          }
        },
        "63df29a277394684a572d2fb2e17f0f5": {
          "model_module": "@jupyter-widgets/controls",
          "model_name": "DescriptionStyleModel",
          "model_module_version": "1.5.0",
          "state": {
            "_model_module": "@jupyter-widgets/controls",
            "_model_module_version": "1.5.0",
            "_model_name": "DescriptionStyleModel",
            "_view_count": null,
            "_view_module": "@jupyter-widgets/base",
            "_view_module_version": "1.2.0",
            "_view_name": "StyleView",
            "description_width": ""
          }
        },
        "d54c74bdbd334599b33a9a1dd055d1eb": {
          "model_module": "@jupyter-widgets/base",
          "model_name": "LayoutModel",
          "model_module_version": "1.2.0",
          "state": {
            "_model_module": "@jupyter-widgets/base",
            "_model_module_version": "1.2.0",
            "_model_name": "LayoutModel",
            "_view_count": null,
            "_view_module": "@jupyter-widgets/base",
            "_view_module_version": "1.2.0",
            "_view_name": "LayoutView",
            "align_content": null,
            "align_items": null,
            "align_self": null,
            "border": null,
            "bottom": null,
            "display": null,
            "flex": null,
            "flex_flow": null,
            "grid_area": null,
            "grid_auto_columns": null,
            "grid_auto_flow": null,
            "grid_auto_rows": null,
            "grid_column": null,
            "grid_gap": null,
            "grid_row": null,
            "grid_template_areas": null,
            "grid_template_columns": null,
            "grid_template_rows": null,
            "height": null,
            "justify_content": null,
            "justify_items": null,
            "left": null,
            "margin": null,
            "max_height": null,
            "max_width": null,
            "min_height": null,
            "min_width": null,
            "object_fit": null,
            "object_position": null,
            "order": null,
            "overflow": null,
            "overflow_x": null,
            "overflow_y": null,
            "padding": null,
            "right": null,
            "top": null,
            "visibility": null,
            "width": null
          }
        },
        "68e9beb22597474090f06cdf13ee9951": {
          "model_module": "@jupyter-widgets/controls",
          "model_name": "ProgressStyleModel",
          "model_module_version": "1.5.0",
          "state": {
            "_model_module": "@jupyter-widgets/controls",
            "_model_module_version": "1.5.0",
            "_model_name": "ProgressStyleModel",
            "_view_count": null,
            "_view_module": "@jupyter-widgets/base",
            "_view_module_version": "1.2.0",
            "_view_name": "StyleView",
            "bar_color": null,
            "description_width": ""
          }
        },
        "f12b2ab1f37b4f86bf50135008fab7b7": {
          "model_module": "@jupyter-widgets/base",
          "model_name": "LayoutModel",
          "model_module_version": "1.2.0",
          "state": {
            "_model_module": "@jupyter-widgets/base",
            "_model_module_version": "1.2.0",
            "_model_name": "LayoutModel",
            "_view_count": null,
            "_view_module": "@jupyter-widgets/base",
            "_view_module_version": "1.2.0",
            "_view_name": "LayoutView",
            "align_content": null,
            "align_items": null,
            "align_self": null,
            "border": null,
            "bottom": null,
            "display": null,
            "flex": null,
            "flex_flow": null,
            "grid_area": null,
            "grid_auto_columns": null,
            "grid_auto_flow": null,
            "grid_auto_rows": null,
            "grid_column": null,
            "grid_gap": null,
            "grid_row": null,
            "grid_template_areas": null,
            "grid_template_columns": null,
            "grid_template_rows": null,
            "height": null,
            "justify_content": null,
            "justify_items": null,
            "left": null,
            "margin": null,
            "max_height": null,
            "max_width": null,
            "min_height": null,
            "min_width": null,
            "object_fit": null,
            "object_position": null,
            "order": null,
            "overflow": null,
            "overflow_x": null,
            "overflow_y": null,
            "padding": null,
            "right": null,
            "top": null,
            "visibility": null,
            "width": null
          }
        },
        "ed9e53b21bc14f63976d1f185ec2fd86": {
          "model_module": "@jupyter-widgets/controls",
          "model_name": "DescriptionStyleModel",
          "model_module_version": "1.5.0",
          "state": {
            "_model_module": "@jupyter-widgets/controls",
            "_model_module_version": "1.5.0",
            "_model_name": "DescriptionStyleModel",
            "_view_count": null,
            "_view_module": "@jupyter-widgets/base",
            "_view_module_version": "1.2.0",
            "_view_name": "StyleView",
            "description_width": ""
          }
        },
        "b3dad0ab3f494a9fa327d30ef3d31ae8": {
          "model_module": "@jupyter-widgets/base",
          "model_name": "LayoutModel",
          "model_module_version": "1.2.0",
          "state": {
            "_model_module": "@jupyter-widgets/base",
            "_model_module_version": "1.2.0",
            "_model_name": "LayoutModel",
            "_view_count": null,
            "_view_module": "@jupyter-widgets/base",
            "_view_module_version": "1.2.0",
            "_view_name": "LayoutView",
            "align_content": null,
            "align_items": null,
            "align_self": null,
            "border": null,
            "bottom": null,
            "display": null,
            "flex": null,
            "flex_flow": null,
            "grid_area": null,
            "grid_auto_columns": null,
            "grid_auto_flow": null,
            "grid_auto_rows": null,
            "grid_column": null,
            "grid_gap": null,
            "grid_row": null,
            "grid_template_areas": null,
            "grid_template_columns": null,
            "grid_template_rows": null,
            "height": null,
            "justify_content": null,
            "justify_items": null,
            "left": null,
            "margin": null,
            "max_height": null,
            "max_width": null,
            "min_height": null,
            "min_width": null,
            "object_fit": null,
            "object_position": null,
            "order": null,
            "overflow": null,
            "overflow_x": null,
            "overflow_y": null,
            "padding": null,
            "right": null,
            "top": null,
            "visibility": null,
            "width": null
          }
        },
        "e6cd3dc302e64d1eb3893fa206d621a9": {
          "model_module": "@jupyter-widgets/controls",
          "model_name": "DescriptionStyleModel",
          "model_module_version": "1.5.0",
          "state": {
            "_model_module": "@jupyter-widgets/controls",
            "_model_module_version": "1.5.0",
            "_model_name": "DescriptionStyleModel",
            "_view_count": null,
            "_view_module": "@jupyter-widgets/base",
            "_view_module_version": "1.2.0",
            "_view_name": "StyleView",
            "description_width": ""
          }
        },
        "3e75de87400842289f0742f6e4f2958e": {
          "model_module": "@jupyter-widgets/controls",
          "model_name": "HTMLModel",
          "model_module_version": "1.5.0",
          "state": {
            "_dom_classes": [],
            "_model_module": "@jupyter-widgets/controls",
            "_model_module_version": "1.5.0",
            "_model_name": "HTMLModel",
            "_view_count": null,
            "_view_module": "@jupyter-widgets/controls",
            "_view_module_version": "1.5.0",
            "_view_name": "HTMLView",
            "description": "",
            "description_tooltip": null,
            "layout": "IPY_MODEL_f12b2ab1f37b4f86bf50135008fab7b7",
            "placeholder": "​",
            "style": "IPY_MODEL_ed9e53b21bc14f63976d1f185ec2fd86",
            "value": "PROCESSING TASKS | : 100%"
          }
        },
        "e85eb0863b25433d8642cacb6a9da12f": {
          "model_module": "@jupyter-widgets/controls",
          "model_name": "FloatProgressModel",
          "model_module_version": "1.5.0",
          "state": {
            "_dom_classes": [],
            "_model_module": "@jupyter-widgets/controls",
            "_model_module_version": "1.5.0",
            "_model_name": "FloatProgressModel",
            "_view_count": null,
            "_view_module": "@jupyter-widgets/controls",
            "_view_module_version": "1.5.0",
            "_view_name": "ProgressView",
            "bar_style": "success",
            "description": "",
            "description_tooltip": null,
            "layout": "IPY_MODEL_d54c74bdbd334599b33a9a1dd055d1eb",
            "max": 104,
            "min": 0,
            "orientation": "horizontal",
            "style": "IPY_MODEL_68e9beb22597474090f06cdf13ee9951",
            "value": 104
          }
        },
        "a6641cfda9d34031972ee759a674b581": {
          "model_module": "@jupyter-widgets/controls",
          "model_name": "HTMLModel",
          "model_module_version": "1.5.0",
          "state": {
            "_dom_classes": [],
            "_model_module": "@jupyter-widgets/controls",
            "_model_module_version": "1.5.0",
            "_model_name": "HTMLModel",
            "_view_count": null,
            "_view_module": "@jupyter-widgets/controls",
            "_view_module_version": "1.5.0",
            "_view_name": "HTMLView",
            "description": "",
            "description_tooltip": null,
            "layout": "IPY_MODEL_b3dad0ab3f494a9fa327d30ef3d31ae8",
            "placeholder": "​",
            "style": "IPY_MODEL_e6cd3dc302e64d1eb3893fa206d621a9",
            "value": " 104/104 [00:17&lt;00:00,  7.64it/s]"
          }
        },
        "b8d07ec4294b45769352ca965b064615": {
          "model_module": "@jupyter-widgets/base",
          "model_name": "LayoutModel",
          "model_module_version": "1.2.0",
          "state": {
            "_model_module": "@jupyter-widgets/base",
            "_model_module_version": "1.2.0",
            "_model_name": "LayoutModel",
            "_view_count": null,
            "_view_module": "@jupyter-widgets/base",
            "_view_module_version": "1.2.0",
            "_view_name": "LayoutView",
            "align_content": null,
            "align_items": null,
            "align_self": null,
            "border": null,
            "bottom": null,
            "display": null,
            "flex": null,
            "flex_flow": null,
            "grid_area": null,
            "grid_auto_columns": null,
            "grid_auto_flow": null,
            "grid_auto_rows": null,
            "grid_column": null,
            "grid_gap": null,
            "grid_row": null,
            "grid_template_areas": null,
            "grid_template_columns": null,
            "grid_template_rows": null,
            "height": null,
            "justify_content": null,
            "justify_items": null,
            "left": null,
            "margin": null,
            "max_height": null,
            "max_width": null,
            "min_height": null,
            "min_width": null,
            "object_fit": null,
            "object_position": null,
            "order": null,
            "overflow": null,
            "overflow_x": null,
            "overflow_y": null,
            "padding": null,
            "right": null,
            "top": null,
            "visibility": null,
            "width": null
          }
        },
        "ac9797ac9a1a45d99f23250f3e646d0a": {
          "model_module": "@jupyter-widgets/controls",
          "model_name": "HBoxModel",
          "model_module_version": "1.5.0",
          "state": {
            "_dom_classes": [],
            "_model_module": "@jupyter-widgets/controls",
            "_model_module_version": "1.5.0",
            "_model_name": "HBoxModel",
            "_view_count": null,
            "_view_module": "@jupyter-widgets/controls",
            "_view_module_version": "1.5.0",
            "_view_name": "HBoxView",
            "box_style": "",
            "children": [
              "IPY_MODEL_3e75de87400842289f0742f6e4f2958e",
              "IPY_MODEL_e85eb0863b25433d8642cacb6a9da12f",
              "IPY_MODEL_a6641cfda9d34031972ee759a674b581"
            ],
            "layout": "IPY_MODEL_b8d07ec4294b45769352ca965b064615"
          }
        },
        "5a2d07bb49564c9682db5a6e3ab6638f": {
          "model_module": "@jupyter-widgets/base",
          "model_name": "LayoutModel",
          "model_module_version": "1.2.0",
          "state": {
            "_model_module": "@jupyter-widgets/base",
            "_model_module_version": "1.2.0",
            "_model_name": "LayoutModel",
            "_view_count": null,
            "_view_module": "@jupyter-widgets/base",
            "_view_module_version": "1.2.0",
            "_view_name": "LayoutView",
            "align_content": null,
            "align_items": null,
            "align_self": null,
            "border": null,
            "bottom": null,
            "display": null,
            "flex": null,
            "flex_flow": null,
            "grid_area": null,
            "grid_auto_columns": null,
            "grid_auto_flow": null,
            "grid_auto_rows": null,
            "grid_column": null,
            "grid_gap": null,
            "grid_row": null,
            "grid_template_areas": null,
            "grid_template_columns": null,
            "grid_template_rows": null,
            "height": null,
            "justify_content": null,
            "justify_items": null,
            "left": null,
            "margin": null,
            "max_height": null,
            "max_width": null,
            "min_height": null,
            "min_width": null,
            "object_fit": null,
            "object_position": null,
            "order": null,
            "overflow": null,
            "overflow_x": null,
            "overflow_y": null,
            "padding": null,
            "right": null,
            "top": null,
            "visibility": null,
            "width": null
          }
        },
        "bee25ba6f2cf410296977789472ed294": {
          "model_module": "@jupyter-widgets/controls",
          "model_name": "ProgressStyleModel",
          "model_module_version": "1.5.0",
          "state": {
            "_model_module": "@jupyter-widgets/controls",
            "_model_module_version": "1.5.0",
            "_model_name": "ProgressStyleModel",
            "_view_count": null,
            "_view_module": "@jupyter-widgets/base",
            "_view_module_version": "1.2.0",
            "_view_name": "StyleView",
            "bar_color": null,
            "description_width": ""
          }
        },
        "4dc5b3b718fc4acdbd46bd622a6d5f89": {
          "model_module": "@jupyter-widgets/base",
          "model_name": "LayoutModel",
          "model_module_version": "1.2.0",
          "state": {
            "_model_module": "@jupyter-widgets/base",
            "_model_module_version": "1.2.0",
            "_model_name": "LayoutModel",
            "_view_count": null,
            "_view_module": "@jupyter-widgets/base",
            "_view_module_version": "1.2.0",
            "_view_name": "LayoutView",
            "align_content": null,
            "align_items": null,
            "align_self": null,
            "border": null,
            "bottom": null,
            "display": null,
            "flex": null,
            "flex_flow": null,
            "grid_area": null,
            "grid_auto_columns": null,
            "grid_auto_flow": null,
            "grid_auto_rows": null,
            "grid_column": null,
            "grid_gap": null,
            "grid_row": null,
            "grid_template_areas": null,
            "grid_template_columns": null,
            "grid_template_rows": null,
            "height": null,
            "justify_content": null,
            "justify_items": null,
            "left": null,
            "margin": null,
            "max_height": null,
            "max_width": null,
            "min_height": null,
            "min_width": null,
            "object_fit": null,
            "object_position": null,
            "order": null,
            "overflow": null,
            "overflow_x": null,
            "overflow_y": null,
            "padding": null,
            "right": null,
            "top": null,
            "visibility": null,
            "width": null
          }
        },
        "9f24a917b8f249bc874a5070a79eb3a7": {
          "model_module": "@jupyter-widgets/controls",
          "model_name": "DescriptionStyleModel",
          "model_module_version": "1.5.0",
          "state": {
            "_model_module": "@jupyter-widgets/controls",
            "_model_module_version": "1.5.0",
            "_model_name": "DescriptionStyleModel",
            "_view_count": null,
            "_view_module": "@jupyter-widgets/base",
            "_view_module_version": "1.2.0",
            "_view_name": "StyleView",
            "description_width": ""
          }
        },
        "dba7c1ab107a428eb21a309aa0333720": {
          "model_module": "@jupyter-widgets/base",
          "model_name": "LayoutModel",
          "model_module_version": "1.2.0",
          "state": {
            "_model_module": "@jupyter-widgets/base",
            "_model_module_version": "1.2.0",
            "_model_name": "LayoutModel",
            "_view_count": null,
            "_view_module": "@jupyter-widgets/base",
            "_view_module_version": "1.2.0",
            "_view_name": "LayoutView",
            "align_content": null,
            "align_items": null,
            "align_self": null,
            "border": null,
            "bottom": null,
            "display": null,
            "flex": null,
            "flex_flow": null,
            "grid_area": null,
            "grid_auto_columns": null,
            "grid_auto_flow": null,
            "grid_auto_rows": null,
            "grid_column": null,
            "grid_gap": null,
            "grid_row": null,
            "grid_template_areas": null,
            "grid_template_columns": null,
            "grid_template_rows": null,
            "height": null,
            "justify_content": null,
            "justify_items": null,
            "left": null,
            "margin": null,
            "max_height": null,
            "max_width": null,
            "min_height": null,
            "min_width": null,
            "object_fit": null,
            "object_position": null,
            "order": null,
            "overflow": null,
            "overflow_x": null,
            "overflow_y": null,
            "padding": null,
            "right": null,
            "top": null,
            "visibility": null,
            "width": null
          }
        },
        "ce05e4f880ea4ec8bcacb7cd2e990d89": {
          "model_module": "@jupyter-widgets/controls",
          "model_name": "DescriptionStyleModel",
          "model_module_version": "1.5.0",
          "state": {
            "_model_module": "@jupyter-widgets/controls",
            "_model_module_version": "1.5.0",
            "_model_name": "DescriptionStyleModel",
            "_view_count": null,
            "_view_module": "@jupyter-widgets/base",
            "_view_module_version": "1.2.0",
            "_view_name": "StyleView",
            "description_width": ""
          }
        },
        "d13d557e07b440e69657bf20ccf78d0d": {
          "model_module": "@jupyter-widgets/controls",
          "model_name": "HTMLModel",
          "model_module_version": "1.5.0",
          "state": {
            "_dom_classes": [],
            "_model_module": "@jupyter-widgets/controls",
            "_model_module_version": "1.5.0",
            "_model_name": "HTMLModel",
            "_view_count": null,
            "_view_module": "@jupyter-widgets/controls",
            "_view_module_version": "1.5.0",
            "_view_name": "HTMLView",
            "description": "",
            "description_tooltip": null,
            "layout": "IPY_MODEL_4dc5b3b718fc4acdbd46bd622a6d5f89",
            "placeholder": "​",
            "style": "IPY_MODEL_9f24a917b8f249bc874a5070a79eb3a7",
            "value": "COLLECTING RESULTS | : 100%"
          }
        },
        "ffe2ab23ef684ebe8ab7c738f0d60357": {
          "model_module": "@jupyter-widgets/controls",
          "model_name": "FloatProgressModel",
          "model_module_version": "1.5.0",
          "state": {
            "_dom_classes": [],
            "_model_module": "@jupyter-widgets/controls",
            "_model_module_version": "1.5.0",
            "_model_name": "FloatProgressModel",
            "_view_count": null,
            "_view_module": "@jupyter-widgets/controls",
            "_view_module_version": "1.5.0",
            "_view_name": "ProgressView",
            "bar_style": "success",
            "description": "",
            "description_tooltip": null,
            "layout": "IPY_MODEL_5a2d07bb49564c9682db5a6e3ab6638f",
            "max": 104,
            "min": 0,
            "orientation": "horizontal",
            "style": "IPY_MODEL_bee25ba6f2cf410296977789472ed294",
            "value": 104
          }
        },
        "118ef71abe364e5297f65641ce3a498d": {
          "model_module": "@jupyter-widgets/controls",
          "model_name": "HTMLModel",
          "model_module_version": "1.5.0",
          "state": {
            "_dom_classes": [],
            "_model_module": "@jupyter-widgets/controls",
            "_model_module_version": "1.5.0",
            "_model_name": "HTMLModel",
            "_view_count": null,
            "_view_module": "@jupyter-widgets/controls",
            "_view_module_version": "1.5.0",
            "_view_name": "HTMLView",
            "description": "",
            "description_tooltip": null,
            "layout": "IPY_MODEL_dba7c1ab107a428eb21a309aa0333720",
            "placeholder": "​",
            "style": "IPY_MODEL_ce05e4f880ea4ec8bcacb7cd2e990d89",
            "value": " 104/104 [00:00&lt;00:00, 5320.77it/s]"
          }
        },
        "c457ab7c08aa4fc6b1da7c32e4dc68b7": {
          "model_module": "@jupyter-widgets/base",
          "model_name": "LayoutModel",
          "model_module_version": "1.2.0",
          "state": {
            "_model_module": "@jupyter-widgets/base",
            "_model_module_version": "1.2.0",
            "_model_name": "LayoutModel",
            "_view_count": null,
            "_view_module": "@jupyter-widgets/base",
            "_view_module_version": "1.2.0",
            "_view_name": "LayoutView",
            "align_content": null,
            "align_items": null,
            "align_self": null,
            "border": null,
            "bottom": null,
            "display": null,
            "flex": null,
            "flex_flow": null,
            "grid_area": null,
            "grid_auto_columns": null,
            "grid_auto_flow": null,
            "grid_auto_rows": null,
            "grid_column": null,
            "grid_gap": null,
            "grid_row": null,
            "grid_template_areas": null,
            "grid_template_columns": null,
            "grid_template_rows": null,
            "height": null,
            "justify_content": null,
            "justify_items": null,
            "left": null,
            "margin": null,
            "max_height": null,
            "max_width": null,
            "min_height": null,
            "min_width": null,
            "object_fit": null,
            "object_position": null,
            "order": null,
            "overflow": null,
            "overflow_x": null,
            "overflow_y": null,
            "padding": null,
            "right": null,
            "top": null,
            "visibility": null,
            "width": null
          }
        },
        "f3e7cb0511b447ac851cfc5b241f40fd": {
          "model_module": "@jupyter-widgets/controls",
          "model_name": "HBoxModel",
          "model_module_version": "1.5.0",
          "state": {
            "_dom_classes": [],
            "_model_module": "@jupyter-widgets/controls",
            "_model_module_version": "1.5.0",
            "_model_name": "HBoxModel",
            "_view_count": null,
            "_view_module": "@jupyter-widgets/controls",
            "_view_module_version": "1.5.0",
            "_view_name": "HBoxView",
            "box_style": "",
            "children": [
              "IPY_MODEL_d13d557e07b440e69657bf20ccf78d0d",
              "IPY_MODEL_ffe2ab23ef684ebe8ab7c738f0d60357",
              "IPY_MODEL_118ef71abe364e5297f65641ce3a498d"
            ],
            "layout": "IPY_MODEL_c457ab7c08aa4fc6b1da7c32e4dc68b7"
          }
        }
      }
    }
  },
  "nbformat": 4,
  "nbformat_minor": 0
}