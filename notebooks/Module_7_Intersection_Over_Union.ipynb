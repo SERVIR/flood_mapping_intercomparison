{
  "cells": [
    {
      "cell_type": "markdown",
      "metadata": {
        "id": "view-in-github",
        "colab_type": "text"
      },
      "source": [
        "<a href=\"https://colab.research.google.com/github/SERVIR/flood_mapping_intercomparison/blob/main/notebooks/Module_7_Intersection_Over_Union.ipynb\" target=\"_parent\"><img src=\"https://colab.research.google.com/assets/colab-badge.svg\" alt=\"Open In Colab\"/></a>"
      ]
    },
    {
      "cell_type": "markdown",
      "source": [
        "In this module, we will calculate the intersection over union between flood maps. To do this, we will first need to export all of our flood maps to a common resolution."
      ],
      "metadata": {
        "id": "Bd4ryEn2lszm"
      }
    },
    {
      "cell_type": "code",
      "source": [],
      "metadata": {
        "id": "5W7nqTw_l3lJ"
      },
      "execution_count": null,
      "outputs": []
    },
    {
      "cell_type": "markdown",
      "metadata": {
        "id": "xxb7X-hvMnLP"
      },
      "source": [
        "# Step 1: Import packages"
      ]
    },
    {
      "cell_type": "code",
      "execution_count": null,
      "metadata": {
        "id": "n07orLu6Mpt1"
      },
      "outputs": [],
      "source": [
        "import ee\n",
        "import geemap\n",
        "from google.colab import drive\n",
        "import os\n",
        "import glob\n",
        "from osgeo import gdal\n",
        "import numpy as np\n",
        "import pandas as pd\n",
        "import time"
      ]
    },
    {
      "cell_type": "code",
      "execution_count": null,
      "metadata": {
        "id": "kuDFCKyQpawK",
        "colab": {
          "base_uri": "https://localhost:8080/",
          "height": 17
        },
        "outputId": "2e3d6a30-9dc5-45fc-e42d-c09c2a0930a0"
      },
      "outputs": [
        {
          "output_type": "display_data",
          "data": {
            "text/plain": [
              "<IPython.core.display.HTML object>"
            ],
            "text/html": [
              "\n",
              "            <style>\n",
              "                .geemap-dark {\n",
              "                    --jp-widgets-color: white;\n",
              "                    --jp-widgets-label-color: white;\n",
              "                    --jp-ui-font-color1: white;\n",
              "                    --jp-layout-color2: #454545;\n",
              "                    background-color: #383838;\n",
              "                }\n",
              "\n",
              "                .geemap-dark .jupyter-button {\n",
              "                    --jp-layout-color3: #383838;\n",
              "                }\n",
              "\n",
              "                .geemap-colab {\n",
              "                    background-color: var(--colab-primary-surface-color, white);\n",
              "                }\n",
              "\n",
              "                .geemap-colab .jupyter-button {\n",
              "                    --jp-layout-color3: var(--colab-primary-surface-color, white);\n",
              "                }\n",
              "            </style>\n",
              "            "
            ]
          },
          "metadata": {}
        }
      ],
      "source": [
        "ee.Authenticate()\n",
        "\n",
        "ee.Initialize(project='servir-sco-assets')"
      ]
    },
    {
      "cell_type": "markdown",
      "metadata": {
        "id": "W6y1FZ23uqkR"
      },
      "source": [
        "# MODIFIABLE VARIABLE ALERT"
      ]
    },
    {
      "cell_type": "code",
      "execution_count": null,
      "metadata": {
        "id": "SoEql5pmrtiC",
        "colab": {
          "base_uri": "https://localhost:8080/",
          "height": 17
        },
        "outputId": "984a5fa7-40e8-4788-fb56-3738ebd31142"
      },
      "outputs": [
        {
          "output_type": "display_data",
          "data": {
            "text/plain": [
              "<IPython.core.display.HTML object>"
            ],
            "text/html": [
              "\n",
              "            <style>\n",
              "                .geemap-dark {\n",
              "                    --jp-widgets-color: white;\n",
              "                    --jp-widgets-label-color: white;\n",
              "                    --jp-ui-font-color1: white;\n",
              "                    --jp-layout-color2: #454545;\n",
              "                    background-color: #383838;\n",
              "                }\n",
              "\n",
              "                .geemap-dark .jupyter-button {\n",
              "                    --jp-layout-color3: #383838;\n",
              "                }\n",
              "\n",
              "                .geemap-colab {\n",
              "                    background-color: var(--colab-primary-surface-color, white);\n",
              "                }\n",
              "\n",
              "                .geemap-colab .jupyter-button {\n",
              "                    --jp-layout-color3: var(--colab-primary-surface-color, white);\n",
              "                }\n",
              "            </style>\n",
              "            "
            ]
          },
          "metadata": {}
        }
      ],
      "source": [
        "my_gee_folder = \"users/mickymags/flood_intercomparison_chad_09_26_take2/\"\n",
        "my_Gdrive_folder = \"/content/drive/MyDrive/Flood_Intercomparison/Case_Studies/confirmed_case_studies/cambodia_20241001/\"\n",
        "other_Gdrive_folder = \"/content/drive/MyDrive/Flood_Intercomparison/Case_Studies/Flood_Intercomparison/\"\n",
        "flood_event_desc = 'chad_20240926'\n",
        "time_id = '05280442'                # put in a string correlating to the current time which you are running the code -- will help with identifying exports"
      ]
    },
    {
      "cell_type": "code",
      "execution_count": null,
      "metadata": {
        "id": "YyLO0Vj2u0Py",
        "colab": {
          "base_uri": "https://localhost:8080/",
          "height": 17
        },
        "outputId": "39d929ad-5631-47e5-876d-5f070227bd67"
      },
      "outputs": [
        {
          "output_type": "display_data",
          "data": {
            "text/plain": [
              "<IPython.core.display.HTML object>"
            ],
            "text/html": [
              "\n",
              "            <style>\n",
              "                .geemap-dark {\n",
              "                    --jp-widgets-color: white;\n",
              "                    --jp-widgets-label-color: white;\n",
              "                    --jp-ui-font-color1: white;\n",
              "                    --jp-layout-color2: #454545;\n",
              "                    background-color: #383838;\n",
              "                }\n",
              "\n",
              "                .geemap-dark .jupyter-button {\n",
              "                    --jp-layout-color3: #383838;\n",
              "                }\n",
              "\n",
              "                .geemap-colab {\n",
              "                    background-color: var(--colab-primary-surface-color, white);\n",
              "                }\n",
              "\n",
              "                .geemap-colab .jupyter-button {\n",
              "                    --jp-layout-color3: var(--colab-primary-surface-color, white);\n",
              "                }\n",
              "            </style>\n",
              "            "
            ]
          },
          "metadata": {}
        }
      ],
      "source": [
        "aoi = ee.FeatureCollection(my_gee_folder + \"aoi\")\n",
        "roi = aoi.geometry()\n",
        "aoi_centroid = aoi.geometry().centroid()             # Get the center of the AOI\n",
        "lon = aoi_centroid.coordinates().get(0).getInfo()    # Extract the longitude from the centroid\n",
        "lat = aoi_centroid.coordinates().get(1).getInfo()    # Extract the latitude from the centroid"
      ]
    },
    {
      "cell_type": "markdown",
      "metadata": {
        "id": "bfFuTWdUMixD"
      },
      "source": [
        "# Step 2: Resample GFM, MCDWD, and VFM products\n",
        "\n",
        "In order to run object extraction statistics, we must have all products in a common projection. Thus, we will use gdal.Warp to resample these products to 30 meters"
      ]
    },
    {
      "cell_type": "code",
      "source": [
        "drive.mount('/content/drive/')"
      ],
      "metadata": {
        "id": "KSeP-QI_nbNv",
        "colab": {
          "base_uri": "https://localhost:8080/",
          "height": 35
        },
        "outputId": "71eb65f9-5b7c-44e6-d21d-d04ed175a534"
      },
      "execution_count": null,
      "outputs": [
        {
          "output_type": "display_data",
          "data": {
            "text/plain": [
              "<IPython.core.display.HTML object>"
            ],
            "text/html": [
              "\n",
              "            <style>\n",
              "                .geemap-dark {\n",
              "                    --jp-widgets-color: white;\n",
              "                    --jp-widgets-label-color: white;\n",
              "                    --jp-ui-font-color1: white;\n",
              "                    --jp-layout-color2: #454545;\n",
              "                    background-color: #383838;\n",
              "                }\n",
              "\n",
              "                .geemap-dark .jupyter-button {\n",
              "                    --jp-layout-color3: #383838;\n",
              "                }\n",
              "\n",
              "                .geemap-colab {\n",
              "                    background-color: var(--colab-primary-surface-color, white);\n",
              "                }\n",
              "\n",
              "                .geemap-colab .jupyter-button {\n",
              "                    --jp-layout-color3: var(--colab-primary-surface-color, white);\n",
              "                }\n",
              "            </style>\n",
              "            "
            ]
          },
          "metadata": {}
        },
        {
          "output_type": "stream",
          "name": "stdout",
          "text": [
            "Mounted at /content/drive/\n"
          ]
        }
      ]
    },
    {
      "cell_type": "code",
      "source": [
        "os.chdir(my_Gdrive_folder)"
      ],
      "metadata": {
        "id": "XmqXXoodnlGp",
        "colab": {
          "base_uri": "https://localhost:8080/",
          "height": 17
        },
        "outputId": "784c8e9a-1c1e-47f9-d1cb-e5bd9876edb0"
      },
      "execution_count": null,
      "outputs": [
        {
          "output_type": "display_data",
          "data": {
            "text/plain": [
              "<IPython.core.display.HTML object>"
            ],
            "text/html": [
              "\n",
              "            <style>\n",
              "                .geemap-dark {\n",
              "                    --jp-widgets-color: white;\n",
              "                    --jp-widgets-label-color: white;\n",
              "                    --jp-ui-font-color1: white;\n",
              "                    --jp-layout-color2: #454545;\n",
              "                    background-color: #383838;\n",
              "                }\n",
              "\n",
              "                .geemap-dark .jupyter-button {\n",
              "                    --jp-layout-color3: #383838;\n",
              "                }\n",
              "\n",
              "                .geemap-colab {\n",
              "                    background-color: var(--colab-primary-surface-color, white);\n",
              "                }\n",
              "\n",
              "                .geemap-colab .jupyter-button {\n",
              "                    --jp-layout-color3: var(--colab-primary-surface-color, white);\n",
              "                }\n",
              "            </style>\n",
              "            "
            ]
          },
          "metadata": {}
        }
      ]
    },
    {
      "cell_type": "code",
      "source": [
        "pwd"
      ],
      "metadata": {
        "id": "7GT6ArQ1nouI",
        "colab": {
          "base_uri": "https://localhost:8080/",
          "height": 36
        },
        "outputId": "08f88ff7-0d38-4c5c-f0e1-3f4c21616a8c"
      },
      "execution_count": null,
      "outputs": [
        {
          "output_type": "display_data",
          "data": {
            "text/plain": [
              "<IPython.core.display.HTML object>"
            ],
            "text/html": [
              "\n",
              "            <style>\n",
              "                .geemap-dark {\n",
              "                    --jp-widgets-color: white;\n",
              "                    --jp-widgets-label-color: white;\n",
              "                    --jp-ui-font-color1: white;\n",
              "                    --jp-layout-color2: #454545;\n",
              "                    background-color: #383838;\n",
              "                }\n",
              "\n",
              "                .geemap-dark .jupyter-button {\n",
              "                    --jp-layout-color3: #383838;\n",
              "                }\n",
              "\n",
              "                .geemap-colab {\n",
              "                    background-color: var(--colab-primary-surface-color, white);\n",
              "                }\n",
              "\n",
              "                .geemap-colab .jupyter-button {\n",
              "                    --jp-layout-color3: var(--colab-primary-surface-color, white);\n",
              "                }\n",
              "            </style>\n",
              "            "
            ]
          },
          "metadata": {}
        },
        {
          "output_type": "execute_result",
          "data": {
            "text/plain": [
              "'/content/drive/MyDrive/Flood_Intercomparison/Case_Studies/confirmed_case_studies/cambodia_20241001'"
            ],
            "application/vnd.google.colaboratory.intrinsic+json": {
              "type": "string"
            }
          },
          "metadata": {},
          "execution_count": 15
        }
      ]
    },
    {
      "cell_type": "code",
      "source": [
        "ls"
      ],
      "metadata": {
        "id": "Q2yb3FDnnpbm"
      },
      "execution_count": null,
      "outputs": []
    },
    {
      "cell_type": "markdown",
      "source": [
        "## Step 2 Part 1: GFM"
      ],
      "metadata": {
        "id": "edVXR6I0pxtc"
      }
    },
    {
      "cell_type": "code",
      "source": [
        "os.chdir('GFM')"
      ],
      "metadata": {
        "id": "ff32kA6-nrIN"
      },
      "execution_count": null,
      "outputs": []
    },
    {
      "cell_type": "code",
      "source": [
        "ls m*"
      ],
      "metadata": {
        "id": "3c8G0rI9ns4x"
      },
      "execution_count": null,
      "outputs": []
    },
    {
      "cell_type": "code",
      "source": [
        "infile = glob.glob('merged*')[0]"
      ],
      "metadata": {
        "id": "B1LrqAL4ntrB"
      },
      "execution_count": null,
      "outputs": []
    },
    {
      "cell_type": "code",
      "source": [
        "infile"
      ],
      "metadata": {
        "id": "MKkgQtshn16g"
      },
      "execution_count": null,
      "outputs": []
    },
    {
      "cell_type": "code",
      "source": [
        "outfile = 'gfm_resampled_' + flood_event_desc + '.tif'"
      ],
      "metadata": {
        "id": "FIdKeS5mn2gQ"
      },
      "execution_count": null,
      "outputs": []
    },
    {
      "cell_type": "code",
      "source": [
        "info = gdal.Info(infile)\n",
        "find = info.find('Data axis')\n",
        "proj = info[find-8:find-3]\n",
        "my_proj = 'EPSG:'+proj\n",
        "print(my_proj)"
      ],
      "metadata": {
        "id": "laRB8fskoZsa"
      },
      "execution_count": null,
      "outputs": []
    },
    {
      "cell_type": "code",
      "source": [
        "gdal.Warp(outfile, infile, dstSRS=my_proj, resampleAlg='mode', xRes=30, yRes=30)"
      ],
      "metadata": {
        "id": "0BpQ54SdoF1t"
      },
      "execution_count": null,
      "outputs": []
    },
    {
      "cell_type": "code",
      "source": [
        "ls gfm_re*"
      ],
      "metadata": {
        "id": "z50_Uw9rpkg4"
      },
      "execution_count": null,
      "outputs": []
    },
    {
      "cell_type": "markdown",
      "source": [
        "# Step 2 Part 2: MCDWD"
      ],
      "metadata": {
        "id": "-20SlKoIp1Pz"
      }
    },
    {
      "cell_type": "code",
      "source": [
        "os.chdir('../MCDWD')"
      ],
      "metadata": {
        "id": "YjwQxu9fp5gf"
      },
      "execution_count": null,
      "outputs": []
    },
    {
      "cell_type": "code",
      "source": [
        "pwd"
      ],
      "metadata": {
        "id": "HHfiwgqsp7r9"
      },
      "execution_count": null,
      "outputs": []
    },
    {
      "cell_type": "code",
      "source": [
        "mcdwd_infile = infile = glob.glob('merged*')[0]"
      ],
      "metadata": {
        "id": "5wQp1yuPp8HA"
      },
      "execution_count": null,
      "outputs": []
    },
    {
      "cell_type": "code",
      "source": [
        "mcdwd_infile"
      ],
      "metadata": {
        "id": "sQjuPZNaqBWI"
      },
      "execution_count": null,
      "outputs": []
    },
    {
      "cell_type": "code",
      "source": [
        "ls m*"
      ],
      "metadata": {
        "id": "ibhzmHgiCXDB"
      },
      "execution_count": null,
      "outputs": []
    },
    {
      "cell_type": "code",
      "source": [
        "mcdwd_outfile = 'mcdwd_resampled_' + flood_event_desc + '.tif'"
      ],
      "metadata": {
        "id": "UKtsEhiYqEmk"
      },
      "execution_count": null,
      "outputs": []
    },
    {
      "cell_type": "code",
      "source": [
        "gdal.Warp(mcdwd_outfile, mcdwd_infile, dstSRS=my_proj, resampleAlg='mode', xRes=30, yRes=30)"
      ],
      "metadata": {
        "id": "rdpyR30MqJP9"
      },
      "execution_count": null,
      "outputs": []
    },
    {
      "cell_type": "code",
      "source": [
        "ls mcdwd_re*"
      ],
      "metadata": {
        "id": "FQWL-VmvF4B3"
      },
      "execution_count": null,
      "outputs": []
    },
    {
      "cell_type": "markdown",
      "source": [
        "## Step 2 Part 3: VFM"
      ],
      "metadata": {
        "id": "iQtXx68Yp26z"
      }
    },
    {
      "cell_type": "code",
      "source": [
        "os.chdir('../VFM')"
      ],
      "metadata": {
        "id": "PAqMesUEpru2"
      },
      "execution_count": null,
      "outputs": []
    },
    {
      "cell_type": "code",
      "source": [
        "pwd"
      ],
      "metadata": {
        "id": "pctt_cFF51T3"
      },
      "execution_count": null,
      "outputs": []
    },
    {
      "cell_type": "code",
      "source": [
        "vfm_infile = infile = glob.glob('merged*')[0]"
      ],
      "metadata": {
        "id": "BtaDcvGOqUqU"
      },
      "execution_count": null,
      "outputs": []
    },
    {
      "cell_type": "code",
      "source": [
        "vfm_outfile = 'vfm_resampled_' + flood_event_desc + '.tif'"
      ],
      "metadata": {
        "id": "J0nTMVTz52cL"
      },
      "execution_count": null,
      "outputs": []
    },
    {
      "cell_type": "code",
      "source": [
        "vfm_infile"
      ],
      "metadata": {
        "id": "DGiqx-6ZF8xO"
      },
      "execution_count": null,
      "outputs": []
    },
    {
      "cell_type": "code",
      "source": [
        "gdal.Warp(vfm_outfile, vfm_infile, dstSRS=my_proj, resampleAlg='mode', xRes=30, yRes=30)"
      ],
      "metadata": {
        "id": "QDaPLTnz6Bh5"
      },
      "execution_count": null,
      "outputs": []
    },
    {
      "cell_type": "code",
      "source": [
        "ls v*"
      ],
      "metadata": {
        "id": "6INtuj76VmkC"
      },
      "execution_count": null,
      "outputs": []
    },
    {
      "cell_type": "code",
      "source": [
        "pwd"
      ],
      "metadata": {
        "id": "DgMl46m5Vo8n"
      },
      "execution_count": null,
      "outputs": []
    },
    {
      "cell_type": "markdown",
      "source": [
        "# Step 3: Run Harmonization Module again\n",
        "\n",
        "For GFM, MCDWD, and VFM, upload the resampled images to Google Earth Engine. Now we will rerun the harmonization module on each image"
      ],
      "metadata": {
        "id": "wG7pfdnvrWVs"
      }
    },
    {
      "cell_type": "code",
      "source": [
        "mcdwd_resampled = ee.Image(my_gee_folder + 'mcdwd_resampled_mosaic')\n",
        "gfm_resampled = ee.Image(my_gee_folder + 'gfm_resampled_mosaic')\n",
        "vfm_resampled = ee.Image(my_gee_folder + 'vfm_resampled_mosaic')"
      ],
      "metadata": {
        "id": "j7CntKkmrykH",
        "colab": {
          "base_uri": "https://localhost:8080/",
          "height": 17
        },
        "outputId": "b4e6dd22-634c-42c0-9ec7-94774fd39291"
      },
      "execution_count": null,
      "outputs": [
        {
          "output_type": "display_data",
          "data": {
            "text/plain": [
              "<IPython.core.display.HTML object>"
            ],
            "text/html": [
              "\n",
              "            <style>\n",
              "                .geemap-dark {\n",
              "                    --jp-widgets-color: white;\n",
              "                    --jp-widgets-label-color: white;\n",
              "                    --jp-ui-font-color1: white;\n",
              "                    --jp-layout-color2: #454545;\n",
              "                    background-color: #383838;\n",
              "                }\n",
              "\n",
              "                .geemap-dark .jupyter-button {\n",
              "                    --jp-layout-color3: #383838;\n",
              "                }\n",
              "\n",
              "                .geemap-colab {\n",
              "                    background-color: var(--colab-primary-surface-color, white);\n",
              "                }\n",
              "\n",
              "                .geemap-colab .jupyter-button {\n",
              "                    --jp-layout-color3: var(--colab-primary-surface-color, white);\n",
              "                }\n",
              "            </style>\n",
              "            "
            ]
          },
          "metadata": {}
        }
      ]
    },
    {
      "cell_type": "markdown",
      "source": [
        "## Step 3 Part 1: VFM Resampled Harmonization"
      ],
      "metadata": {
        "id": "ccJMqPplsWqB"
      }
    },
    {
      "cell_type": "code",
      "source": [
        "#############################################################################\n",
        "#   Part 2: Create a function to reassign pixel values to our new schema    #\n",
        "#############################################################################\n",
        "# Define a function to transform VFM maps into common schema. This function takes an image as\n",
        "#its input and outputs an image with the schema mentioned in Table 1\n",
        "def vng_sch(image):\n",
        "\n",
        "  ################ Get Water Pixels ####################\n",
        "\n",
        "  # Raster Values of 15 indicate open water without water fraction retrieval\n",
        "  # Raster Values of 99 indicate\n",
        "  # Raster Values of 100 indicate Open Normal Water, from a river, lake, reservoir, or ocean\n",
        "  # Raster Values of 101-200 idnicate water fractions of floodwater. We selected 50 as the percent threshold\n",
        "  # to consider a pixel as water/nonwater. Thus, for the purposes of this study, we selected 150 as the threshold\n",
        "  # above which pixels are considered as floodwater pixels.\n",
        "  vfm_water = image.eq(15).Or(image.eq(99)).Or(image.eq(100)).Or(image.gte(150))\n",
        "\n",
        "  ############## Get Nonwater Pixels ########################\n",
        "\n",
        "  # Part 1 will get pixels that have floodwater but have less than 50% of the pixel covered in floodwater\n",
        "  # Raster Values of 16 indicate clear-sky bare land\n",
        "  # Raster Values of 17 indicate clear-sky vegetation\n",
        "  # Raster Values of 20 indicate snow cover\n",
        "  # Raster Values of 27 indicate river/lake covered in ice\n",
        "  # Raster values of 38 indicate supra-snow ice water, mixed ice and water, or ice in melting status\n",
        "  pt1 = image.gt(100).And(image.lt(150))\n",
        "  pt2 = image.eq(16).Or(image.eq(17)).Or(image.eq(20)).Or(image.eq(27)).Or(image.eq(38))\n",
        "  vfm_nonwater = pt1.Or(pt2)\n",
        "\n",
        "  ############## Get Pixels where we do not have clear observations #############\n",
        "\n",
        "  # Values of 1 indicate bad data pixels\n",
        "  # Values of 30 indicate pixels where there is cloud cover\n",
        "  # Values of 50 indicate pixels that have shadows from clouds or terrain.\n",
        "  vfm_mask = image.eq(1).Or(image.eq(30)).Or(image.eq(50))\n",
        "\n",
        "  # This section of the\n",
        "  #ones = ee.Image(1)   # Dummy Image where every pixel has a value of 1\n",
        "  #zeros = ee.Image(0)  # Dummy Image where every pixel has a value of 0\n",
        "  #twos = ee.Image(2)   # Dummy Image where every pixel has a value of 2\n",
        "\n",
        "  # This section of the code will replace the VFM raster values with our classification schema (see Table 1).\n",
        "  vfm_mod = image.where(vfm_nonwater, ee.Image(0))   # Replace Nonwater Pixels as found by this code with a value of 0   # zeros\n",
        "  vfm_v2 = vfm_mod.where(vfm_water, ee.Image(1))     # Replace Water Pixels as found by this code with a value of 1    # ones\n",
        "  vfm_v3 = vfm_v2.where(vfm_mask, ee.Image(2))       # Replace Mask Pixels as found by this code with a value of 2    # twos\n",
        "\n",
        "  return ee.Image(vfm_v3)\n",
        "\n",
        "#################################################\n",
        "#   Part 3: Apply our function from Part 2      #\n",
        "#################################################\n",
        "# Apply the dswx_sch function to our clipped dswx mosaic to the schema\n",
        "# shown in table 1.\n",
        "# Run the function on the mosaic\n",
        "vfm_resampled_final = ee.Image(vng_sch(vfm_resampled)).clip(aoi)"
      ],
      "metadata": {
        "id": "zvihI3A5yws_"
      },
      "execution_count": null,
      "outputs": []
    },
    {
      "cell_type": "markdown",
      "source": [
        "## Step 3 Part 2: GFM Resampled Harmonization"
      ],
      "metadata": {
        "id": "rfGF7xepsbdD"
      }
    },
    {
      "cell_type": "code",
      "source": [
        "# We want to assign the pixels that were masked in the GFM image to have a value of 2.\n",
        "def gfm_sch(image):\n",
        "  twos = ee.Image(2)\n",
        "  #wawa = image.eq(1)\n",
        "  #nowawa = image.eq(0)\n",
        "  masked = image.gte(2)\n",
        "\n",
        "  #ones = ee.Image(1)\n",
        "  #zeros = ee.Image(0)\n",
        "\n",
        "  #gfm_new = img_2.where(wawa, ones)\n",
        "  #gfm_fin = gfm_new.where(nowawa, zeros)\n",
        "  gfm_fin = image.where(masked, twos)\n",
        "  return gfm_fin\n",
        "\n",
        "# Mosaic the individual GFM images and clip the mosaic to the area of interest\n",
        "gfm_resampled_final = gfm_sch(gfm_resampled).clip(aoi)"
      ],
      "metadata": {
        "id": "iGxMKliQzHgh"
      },
      "execution_count": null,
      "outputs": []
    },
    {
      "cell_type": "markdown",
      "source": [
        "## Step 3 Part 3: MCDWD Resampled Harmonization"
      ],
      "metadata": {
        "id": "Kv5B4OKWseUq"
      }
    },
    {
      "cell_type": "code",
      "source": [
        "#####################################################\n",
        "#  Part 1: Mosaic MCDWD Images, Clip them to aoi    #\n",
        "#####################################################\n",
        "#mcdwd_mos = ee.ImageCollection([mcdwd1, mcdwd2, mcdwd3]).mosaic().clip(aoi)\n",
        "\n",
        "#############################################################################\n",
        "#   Part 2: Create a function to reassign pixel values to our new schema    #\n",
        "#############################################################################\n",
        "def mcdwd_sch(image):\n",
        "\n",
        "  #image = image.unmask()\n",
        "\n",
        "  ################ Get Water Pixels ####################\n",
        "\n",
        "  # Pixel Values of 1 indicate regular surface water according to the MCDWD algorithm\n",
        "  # Pixel Values of 2 indicate a recurring flood according to the MCDWD algorithm\n",
        "  # Pixel values of 3 indicate floodwater according to the MCDWD algorithm\n",
        "  mcdwd_water = image.eq(1).Or(image.eq(2)).Or(image.eq(3))\n",
        "\n",
        "  ############## Get Nonwater Values ########################\n",
        "  # Pixel values of 0 indicate no water is present according to the MCDWD algorithm\n",
        "  mcdwd_nonwater = image.eq(0)\n",
        "\n",
        "  ############## Get Pixels where we do not have clear observations #############\n",
        "  # Pixel values of 255 indicate insufficient data\n",
        "  #mcdwd_mask = image.mask()               # Get the mask of the MCDWD map\n",
        "  #mcdwd_maskdata = mcdwd_mask.eq(0)       # Find values where the MCDWD mask is equal to 0\n",
        "  #mcdwd_insufficient = image.eq(255)            # Get the MCDWD values with insufficient data\n",
        "  #mcdwd_unclear = mcdwd_maskdata.Or(mcdwd_insufficient)\n",
        "\n",
        "  # Replace MCDWD pixel values with our classification schema (see Table 1)\n",
        "  #mcdwd_mod = image.where(mcdwd_nonwater, ee.Image(0))\n",
        "  #mcdwd_v2 = mcdwd_mod.where(mcdwd_water, ee.Image(1))\n",
        "  #mcdwd_v3 = mcdwd_v2.where(mcdwd_unclear, ee.Image(2))\n",
        "  #mcdwd_v3 = image.where(mcdwd_maskdata, ee.Image(2))\n",
        "\n",
        "  mcdwd_mask = image.mask().clip(aoi)\n",
        "  mcdwd_maskdata = mcdwd_mask.eq(0)\n",
        "  mcdwd_insufficient = image.unmask().eq(255)\n",
        "  mcdwd_unclear = mcdwd_maskdata.Or(mcdwd_insufficient)\n",
        "\n",
        "  #mcdwd_v3 = image.unmask().where(mcdwd_maskdata, ee.Image(2))\n",
        "  mcdwd_v0 = image.unmask()\n",
        "  mcdwd_v1 = mcdwd_v0.where(mcdwd_nonwater, ee.Image(0))\n",
        "  mcdwd_v2 = mcdwd_v1.where(mcdwd_water, ee.Image(1))\n",
        "  mcdwd_v3 = mcdwd_v2.where(mcdwd_unclear, ee.Image(2))\n",
        "  mcdwd_v4 = mcdwd_v3.clip(aoi)\n",
        "\n",
        "  #return mcdwd_v3#.clip(aoi)\n",
        "  return mcdwd_v4\n",
        "\n",
        "#################################################\n",
        "#   Part 3: Apply our function from Part 2      #\n",
        "#################################################\n",
        "# Apply the mcdwd_sch function to our clipped dswx mosaic to the schema\n",
        "# shown in table 1.\n",
        "mcdwd_resampled_final = mcdwd_sch(mcdwd_resampled).clip(aoi)"
      ],
      "metadata": {
        "id": "wV8GpHO8zLXx"
      },
      "execution_count": null,
      "outputs": []
    },
    {
      "cell_type": "markdown",
      "source": [
        "## Step 3 Part 4: Exporting to Google Earth Engine"
      ],
      "metadata": {
        "id": "8Z7KFMKmsk5Z"
      }
    },
    {
      "cell_type": "code",
      "source": [
        "proj = mcdwd_resampled.projection().getInfo()['crs']\n",
        "\n",
        "# Define a function that exports an Image to a Google Earth Engine Asset.\n",
        "def exporter(img, asset_id):\n",
        "\n",
        "  desc = 'Flood_Map_Export_'\n",
        "  region_ = aoi.geometry()\n",
        "  geemap.ee_export_image_to_asset(image = img,\n",
        "                                  assetId = asset_id,\n",
        "                                  description = desc,\n",
        "                                  region = region_,\n",
        "                                  crs = proj,\n",
        "                                  scale = 30,\n",
        "                                  maxPixels = 1e13)\n",
        "  return 0"
      ],
      "metadata": {
        "id": "k7tQ18UmsWGB"
      },
      "execution_count": null,
      "outputs": []
    },
    {
      "cell_type": "code",
      "source": [
        "# Export VFM\n",
        "vfm_resampled_harmonized_aid = my_gee_folder + 'vfm_resampled_harmonized'\n",
        "exporter(vfm_resampled_final, vfm_resampled_harmonized_aid)\n",
        "\n",
        "# Export GFM\n",
        "gfm_resampled_harmonized_aid = my_gee_folder + 'gfm_resampled_harmonized'\n",
        "exporter(gfm_resampled_final, gfm_resampled_harmonized_aid)\n",
        "\n",
        "# Export MCDWD\n",
        "mcdwd_resampled_harmonized_aid = my_gee_folder + 'mcdwd_resampled_harmonized'\n",
        "exporter(mcdwd_resampled_final, mcdwd_resampled_harmonized_aid)"
      ],
      "metadata": {
        "id": "E_iv184Lze4c"
      },
      "execution_count": null,
      "outputs": []
    },
    {
      "cell_type": "markdown",
      "source": [
        "# Step 4: Sampling"
      ],
      "metadata": {
        "id": "oVZhBJ0xmmXy"
      }
    },
    {
      "cell_type": "code",
      "source": [
        "dswxhls = ee.Image(my_gee_folder + 'dswxhls_harmonized_30')\n",
        "dswxs1 = ee.Image(my_gee_folder + 'dswxs1_harmonized_30')\n",
        "gfm = ee.Image(my_gee_folder + 'gfm_harmonized')\n",
        "hydrafloods = ee.Image(my_gee_folder + 'hydrafloods_harmonized_30')\n",
        "hydrosar = ee.Image(my_gee_folder + 'hydrosar_harmonized')\n",
        "mcdwd = ee.Image(my_gee_folder + 'mcdwd_harmonized_30')\n",
        "vfm = ee.Image(my_gee_folder + 'vfm_harmonized_30')\n",
        "aoi = ee.FeatureCollection(my_gee_folder + \"aoi\")"
      ],
      "metadata": {
        "id": "qm_4J-xPtBkv",
        "colab": {
          "base_uri": "https://localhost:8080/",
          "height": 17
        },
        "outputId": "342cd0d2-08d4-4b7b-9cdc-fb9c2a5b8604"
      },
      "execution_count": null,
      "outputs": [
        {
          "output_type": "display_data",
          "data": {
            "text/plain": [
              "<IPython.core.display.HTML object>"
            ],
            "text/html": [
              "\n",
              "            <style>\n",
              "                .geemap-dark {\n",
              "                    --jp-widgets-color: white;\n",
              "                    --jp-widgets-label-color: white;\n",
              "                    --jp-ui-font-color1: white;\n",
              "                    --jp-layout-color2: #454545;\n",
              "                    background-color: #383838;\n",
              "                }\n",
              "\n",
              "                .geemap-dark .jupyter-button {\n",
              "                    --jp-layout-color3: #383838;\n",
              "                }\n",
              "\n",
              "                .geemap-colab {\n",
              "                    background-color: var(--colab-primary-surface-color, white);\n",
              "                }\n",
              "\n",
              "                .geemap-colab .jupyter-button {\n",
              "                    --jp-layout-color3: var(--colab-primary-surface-color, white);\n",
              "                }\n",
              "            </style>\n",
              "            "
            ]
          },
          "metadata": {}
        }
      ]
    },
    {
      "cell_type": "code",
      "source": [
        "drive.mount('/content/drive/')"
      ],
      "metadata": {
        "id": "u6rMwxUD0Gps"
      },
      "execution_count": null,
      "outputs": []
    },
    {
      "cell_type": "code",
      "source": [
        "os.chdir(other_Gdrive_folder)"
      ],
      "metadata": {
        "id": "UK2bKtbM0UbV",
        "colab": {
          "base_uri": "https://localhost:8080/",
          "height": 17
        },
        "outputId": "14d76ffc-42a4-4d8d-f6c9-b34e9dd96833"
      },
      "execution_count": null,
      "outputs": [
        {
          "output_type": "display_data",
          "data": {
            "text/plain": [
              "<IPython.core.display.HTML object>"
            ],
            "text/html": [
              "\n",
              "            <style>\n",
              "                .geemap-dark {\n",
              "                    --jp-widgets-color: white;\n",
              "                    --jp-widgets-label-color: white;\n",
              "                    --jp-ui-font-color1: white;\n",
              "                    --jp-layout-color2: #454545;\n",
              "                    background-color: #383838;\n",
              "                }\n",
              "\n",
              "                .geemap-dark .jupyter-button {\n",
              "                    --jp-layout-color3: #383838;\n",
              "                }\n",
              "\n",
              "                .geemap-colab {\n",
              "                    background-color: var(--colab-primary-surface-color, white);\n",
              "                }\n",
              "\n",
              "                .geemap-colab .jupyter-button {\n",
              "                    --jp-layout-color3: var(--colab-primary-surface-color, white);\n",
              "                }\n",
              "            </style>\n",
              "            "
            ]
          },
          "metadata": {}
        }
      ]
    },
    {
      "cell_type": "code",
      "source": [
        "pwd"
      ],
      "metadata": {
        "colab": {
          "base_uri": "https://localhost:8080/",
          "height": 36
        },
        "id": "Qyf45CqLjxjW",
        "outputId": "3692fb7c-5ecf-4939-cc52-fe8374ed1c0e"
      },
      "execution_count": null,
      "outputs": [
        {
          "output_type": "display_data",
          "data": {
            "text/plain": [
              "<IPython.core.display.HTML object>"
            ],
            "text/html": [
              "\n",
              "            <style>\n",
              "                .geemap-dark {\n",
              "                    --jp-widgets-color: white;\n",
              "                    --jp-widgets-label-color: white;\n",
              "                    --jp-ui-font-color1: white;\n",
              "                    --jp-layout-color2: #454545;\n",
              "                    background-color: #383838;\n",
              "                }\n",
              "\n",
              "                .geemap-dark .jupyter-button {\n",
              "                    --jp-layout-color3: #383838;\n",
              "                }\n",
              "\n",
              "                .geemap-colab {\n",
              "                    background-color: var(--colab-primary-surface-color, white);\n",
              "                }\n",
              "\n",
              "                .geemap-colab .jupyter-button {\n",
              "                    --jp-layout-color3: var(--colab-primary-surface-color, white);\n",
              "                }\n",
              "            </style>\n",
              "            "
            ]
          },
          "metadata": {}
        },
        {
          "output_type": "execute_result",
          "data": {
            "text/plain": [
              "'/content/drive/MyDrive/Flood_Intercomparison/Case_Studies/Flood_Intercomparison'"
            ],
            "application/vnd.google.colaboratory.intrinsic+json": {
              "type": "string"
            }
          },
          "metadata": {},
          "execution_count": 19
        }
      ]
    },
    {
      "cell_type": "code",
      "source": [
        "#mydesc = a string of the time you submitted\n",
        "def iou(img1, img2, desc1, desc2, aoi, myproj, mydesc):   #num_pixels\n",
        "  img1_renamed = img1.rename(desc1)\n",
        "  img2_renamed = img2.rename(desc2)\n",
        "\n",
        "  combo = img1_renamed.addBands(img2_renamed)\n",
        "\n",
        "  # Add a random number to the end of the export string\n",
        "  #random = np.random.randint(1e7)\n",
        "  #randstr = str(random)\n",
        "\n",
        "  # Tile aoi\n",
        "  covering_grid = aoi.geometry().coveringGrid(myproj, 2e5)\n",
        "\n",
        "  num_tiles = covering_grid.size().getInfo()\n",
        "\n",
        "  for j in range(num_tiles):\n",
        "    my_tile = ee.Feature(covering_grid.toList(num_tiles).get(j))\n",
        "    my_tile_clipped = my_tile.geometry().intersection(aoi, 0.001)\n",
        "    tile_id = str(j)\n",
        "    tile_export_string = 'iou_'+desc1 + '_and_' + desc2 + '_' + mydesc + 'pt' + tile_id\n",
        "\n",
        "    sample = combo.sample(\n",
        "      region= my_tile_clipped,\n",
        "      scale=30,\n",
        "      projection = myproj,\n",
        "      numPixels = 1e13#num_pixels\n",
        "    )\n",
        "\n",
        "    #export_string = 'iou_'+desc1 + '_and_' + desc2 + '_' + randstr\n",
        "\n",
        "    print('sampling...')\n",
        "\n",
        "    geemap.ee_export_vector_to_drive(\n",
        "        collection=sample,\n",
        "        description= tile_export_string,\n",
        "        fileFormat='CSV',\n",
        "        folder='Flood_Intercomparison',\n",
        "        selectors = [desc1, desc2]\n",
        "    )\n",
        "\n",
        "  print('sleeping...')\n",
        "  time.sleep(60)\n",
        "  print('still sleeping...')\n",
        "  time.sleep(120)\n",
        "\n",
        "  # For each tile\n",
        "\n",
        "  dataframes = []\n",
        "  combined_dataframe = pd.DataFrame()\n",
        "\n",
        "  for k in range(num_tiles):\n",
        "    #Read file in\n",
        "    another_id = str(k)\n",
        "    tile_input_string = 'iou_'+desc1 + '_and_' + desc2 + '_'  + mydesc + 'pt' + another_id\n",
        "    data = pd.read_csv(tile_input_string + '.csv')\n",
        "    combined_dataframe = pd.concat([combined_dataframe, data])\n",
        "    #dataframes.append(data)\n",
        "    ######\n",
        "  #data = pd.read_csv(export_string + '.csv')\n",
        "\n",
        "  intersection = 0\n",
        "  union = 0\n",
        "\n",
        "  print('calculating iou...')\n",
        "\n",
        "  #num_rows = int(num_pixels - 1)\n",
        "  num_rows = int(np.floor(combined_dataframe.size / 2))\n",
        "  print(num_rows)\n",
        "\n",
        "  for j in range(num_rows):\n",
        "    row = combined_dataframe.iloc[j]\n",
        "    feat1 = row[desc1]\n",
        "    feat2 = row[desc2]\n",
        "\n",
        "    perc = j * 100 / num_rows\n",
        "\n",
        "    if j % 500000 == 0:\n",
        "      print('iou calculation is {0:0.1f} % complete'.format(perc))\n",
        "\n",
        "    if feat1 == 2 or feat2 == 2:\n",
        "      continue\n",
        "    if feat1 == 1 and feat2 == 1:\n",
        "      intersection += 1\n",
        "    if feat1 == 1 or feat2 == 1:\n",
        "      union += 1\n",
        "\n",
        "  return intersection/union"
      ],
      "metadata": {
        "id": "nrUbrE8pH0KS",
        "colab": {
          "base_uri": "https://localhost:8080/",
          "height": 17
        },
        "outputId": "b680728b-dbe9-43d7-a7ac-09f811a1620a"
      },
      "execution_count": null,
      "outputs": [
        {
          "output_type": "display_data",
          "data": {
            "text/plain": [
              "<IPython.core.display.HTML object>"
            ],
            "text/html": [
              "\n",
              "            <style>\n",
              "                .geemap-dark {\n",
              "                    --jp-widgets-color: white;\n",
              "                    --jp-widgets-label-color: white;\n",
              "                    --jp-ui-font-color1: white;\n",
              "                    --jp-layout-color2: #454545;\n",
              "                    background-color: #383838;\n",
              "                }\n",
              "\n",
              "                .geemap-dark .jupyter-button {\n",
              "                    --jp-layout-color3: #383838;\n",
              "                }\n",
              "\n",
              "                .geemap-colab {\n",
              "                    background-color: var(--colab-primary-surface-color, white);\n",
              "                }\n",
              "\n",
              "                .geemap-colab .jupyter-button {\n",
              "                    --jp-layout-color3: var(--colab-primary-surface-color, white);\n",
              "                }\n",
              "            </style>\n",
              "            "
            ]
          },
          "metadata": {}
        }
      ]
    },
    {
      "cell_type": "code",
      "source": [
        "my_proj_code = gfm.projection().getInfo()['crs']"
      ],
      "metadata": {
        "id": "tgfbj6nnuN7u",
        "colab": {
          "base_uri": "https://localhost:8080/",
          "height": 17
        },
        "outputId": "8d8ca493-0f49-42d6-bd3d-89073c18b58e"
      },
      "execution_count": null,
      "outputs": [
        {
          "output_type": "display_data",
          "data": {
            "text/plain": [
              "<IPython.core.display.HTML object>"
            ],
            "text/html": [
              "\n",
              "            <style>\n",
              "                .geemap-dark {\n",
              "                    --jp-widgets-color: white;\n",
              "                    --jp-widgets-label-color: white;\n",
              "                    --jp-ui-font-color1: white;\n",
              "                    --jp-layout-color2: #454545;\n",
              "                    background-color: #383838;\n",
              "                }\n",
              "\n",
              "                .geemap-dark .jupyter-button {\n",
              "                    --jp-layout-color3: #383838;\n",
              "                }\n",
              "\n",
              "                .geemap-colab {\n",
              "                    background-color: var(--colab-primary-surface-color, white);\n",
              "                }\n",
              "\n",
              "                .geemap-colab .jupyter-button {\n",
              "                    --jp-layout-color3: var(--colab-primary-surface-color, white);\n",
              "                }\n",
              "            </style>\n",
              "            "
            ]
          },
          "metadata": {}
        }
      ]
    },
    {
      "cell_type": "code",
      "source": [
        "pwd"
      ],
      "metadata": {
        "id": "x6MG1IQm0EHC",
        "colab": {
          "base_uri": "https://localhost:8080/",
          "height": 36
        },
        "outputId": "f1adb513-6c2d-42e4-ec9c-2609ef4c9edf"
      },
      "execution_count": null,
      "outputs": [
        {
          "output_type": "display_data",
          "data": {
            "text/plain": [
              "<IPython.core.display.HTML object>"
            ],
            "text/html": [
              "\n",
              "            <style>\n",
              "                .geemap-dark {\n",
              "                    --jp-widgets-color: white;\n",
              "                    --jp-widgets-label-color: white;\n",
              "                    --jp-ui-font-color1: white;\n",
              "                    --jp-layout-color2: #454545;\n",
              "                    background-color: #383838;\n",
              "                }\n",
              "\n",
              "                .geemap-dark .jupyter-button {\n",
              "                    --jp-layout-color3: #383838;\n",
              "                }\n",
              "\n",
              "                .geemap-colab {\n",
              "                    background-color: var(--colab-primary-surface-color, white);\n",
              "                }\n",
              "\n",
              "                .geemap-colab .jupyter-button {\n",
              "                    --jp-layout-color3: var(--colab-primary-surface-color, white);\n",
              "                }\n",
              "            </style>\n",
              "            "
            ]
          },
          "metadata": {}
        },
        {
          "output_type": "execute_result",
          "data": {
            "text/plain": [
              "'/content/drive/MyDrive/Flood_Intercomparison/Case_Studies/confirmed_case_studies/cambodia_20241001'"
            ],
            "application/vnd.google.colaboratory.intrinsic+json": {
              "type": "string"
            }
          },
          "metadata": {},
          "execution_count": 16
        }
      ]
    },
    {
      "cell_type": "code",
      "source": [
        "chad_gfm_hydrosar_iou = iou(gfm, hydrosar, 'gfm', 'hydrosar', aoi, my_proj_code, '06031110')"
      ],
      "metadata": {
        "collapsed": true,
        "id": "-pek1UtqNlTy",
        "colab": {
          "base_uri": "https://localhost:8080/",
          "height": 1000
        },
        "outputId": "3680623e-e625-43b8-ca93-3a69c9a36c3f"
      },
      "execution_count": null,
      "outputs": [
        {
          "output_type": "display_data",
          "data": {
            "text/plain": [
              "<IPython.core.display.HTML object>"
            ],
            "text/html": [
              "\n",
              "            <style>\n",
              "                .geemap-dark {\n",
              "                    --jp-widgets-color: white;\n",
              "                    --jp-widgets-label-color: white;\n",
              "                    --jp-ui-font-color1: white;\n",
              "                    --jp-layout-color2: #454545;\n",
              "                    background-color: #383838;\n",
              "                }\n",
              "\n",
              "                .geemap-dark .jupyter-button {\n",
              "                    --jp-layout-color3: #383838;\n",
              "                }\n",
              "\n",
              "                .geemap-colab {\n",
              "                    background-color: var(--colab-primary-surface-color, white);\n",
              "                }\n",
              "\n",
              "                .geemap-colab .jupyter-button {\n",
              "                    --jp-layout-color3: var(--colab-primary-surface-color, white);\n",
              "                }\n",
              "            </style>\n",
              "            "
            ]
          },
          "metadata": {}
        },
        {
          "output_type": "stream",
          "name": "stdout",
          "text": [
            "sampling...\n",
            "Exporting iou_gfm_and_hydrosar_06031110pt0... Please check the Task Manager from the JavaScript Code Editor.\n",
            "sampling...\n",
            "Exporting iou_gfm_and_hydrosar_06031110pt1... Please check the Task Manager from the JavaScript Code Editor.\n",
            "sampling...\n",
            "Exporting iou_gfm_and_hydrosar_06031110pt2... Please check the Task Manager from the JavaScript Code Editor.\n",
            "sampling...\n",
            "Exporting iou_gfm_and_hydrosar_06031110pt3... Please check the Task Manager from the JavaScript Code Editor.\n",
            "sampling...\n",
            "Exporting iou_gfm_and_hydrosar_06031110pt4... Please check the Task Manager from the JavaScript Code Editor.\n",
            "sampling...\n",
            "Exporting iou_gfm_and_hydrosar_06031110pt5... Please check the Task Manager from the JavaScript Code Editor.\n",
            "sleeping...\n",
            "still sleeping...\n",
            "calculating iou...\n",
            "38251216\n",
            "iou calculation is 0.0 % complete\n",
            "iou calculation is 1.3 % complete\n",
            "iou calculation is 2.6 % complete\n",
            "iou calculation is 3.9 % complete\n",
            "iou calculation is 5.2 % complete\n",
            "iou calculation is 6.5 % complete\n",
            "iou calculation is 7.8 % complete\n",
            "iou calculation is 9.2 % complete\n",
            "iou calculation is 10.5 % complete\n",
            "iou calculation is 11.8 % complete\n",
            "iou calculation is 13.1 % complete\n",
            "iou calculation is 14.4 % complete\n",
            "iou calculation is 15.7 % complete\n",
            "iou calculation is 17.0 % complete\n",
            "iou calculation is 18.3 % complete\n",
            "iou calculation is 19.6 % complete\n",
            "iou calculation is 20.9 % complete\n",
            "iou calculation is 22.2 % complete\n",
            "iou calculation is 23.5 % complete\n",
            "iou calculation is 24.8 % complete\n",
            "iou calculation is 26.1 % complete\n",
            "iou calculation is 27.5 % complete\n",
            "iou calculation is 28.8 % complete\n",
            "iou calculation is 30.1 % complete\n",
            "iou calculation is 31.4 % complete\n",
            "iou calculation is 32.7 % complete\n",
            "iou calculation is 34.0 % complete\n",
            "iou calculation is 35.3 % complete\n",
            "iou calculation is 36.6 % complete\n",
            "iou calculation is 37.9 % complete\n",
            "iou calculation is 39.2 % complete\n",
            "iou calculation is 40.5 % complete\n",
            "iou calculation is 41.8 % complete\n",
            "iou calculation is 43.1 % complete\n",
            "iou calculation is 44.4 % complete\n",
            "iou calculation is 45.8 % complete\n",
            "iou calculation is 47.1 % complete\n",
            "iou calculation is 48.4 % complete\n",
            "iou calculation is 49.7 % complete\n",
            "iou calculation is 51.0 % complete\n",
            "iou calculation is 52.3 % complete\n",
            "iou calculation is 53.6 % complete\n",
            "iou calculation is 54.9 % complete\n",
            "iou calculation is 56.2 % complete\n",
            "iou calculation is 57.5 % complete\n",
            "iou calculation is 58.8 % complete\n",
            "iou calculation is 60.1 % complete\n",
            "iou calculation is 61.4 % complete\n",
            "iou calculation is 62.7 % complete\n",
            "iou calculation is 64.1 % complete\n",
            "iou calculation is 65.4 % complete\n",
            "iou calculation is 66.7 % complete\n",
            "iou calculation is 68.0 % complete\n",
            "iou calculation is 69.3 % complete\n",
            "iou calculation is 70.6 % complete\n",
            "iou calculation is 71.9 % complete\n",
            "iou calculation is 73.2 % complete\n",
            "iou calculation is 74.5 % complete\n",
            "iou calculation is 75.8 % complete\n",
            "iou calculation is 77.1 % complete\n",
            "iou calculation is 78.4 % complete\n",
            "iou calculation is 79.7 % complete\n",
            "iou calculation is 81.0 % complete\n",
            "iou calculation is 82.4 % complete\n",
            "iou calculation is 83.7 % complete\n",
            "iou calculation is 85.0 % complete\n",
            "iou calculation is 86.3 % complete\n",
            "iou calculation is 87.6 % complete\n",
            "iou calculation is 88.9 % complete\n",
            "iou calculation is 90.2 % complete\n",
            "iou calculation is 91.5 % complete\n",
            "iou calculation is 92.8 % complete\n",
            "iou calculation is 94.1 % complete\n",
            "iou calculation is 95.4 % complete\n",
            "iou calculation is 96.7 % complete\n",
            "iou calculation is 98.0 % complete\n",
            "iou calculation is 99.3 % complete\n"
          ]
        }
      ]
    },
    {
      "cell_type": "code",
      "source": [
        "chad_gfm_hydrosar_iou"
      ],
      "metadata": {
        "id": "vVdc3E4v4Dyn",
        "colab": {
          "base_uri": "https://localhost:8080/",
          "height": 35
        },
        "outputId": "82ca8c75-3086-4424-947f-841a1c613498"
      },
      "execution_count": null,
      "outputs": [
        {
          "output_type": "display_data",
          "data": {
            "text/plain": [
              "<IPython.core.display.HTML object>"
            ],
            "text/html": [
              "\n",
              "            <style>\n",
              "                .geemap-dark {\n",
              "                    --jp-widgets-color: white;\n",
              "                    --jp-widgets-label-color: white;\n",
              "                    --jp-ui-font-color1: white;\n",
              "                    --jp-layout-color2: #454545;\n",
              "                    background-color: #383838;\n",
              "                }\n",
              "\n",
              "                .geemap-dark .jupyter-button {\n",
              "                    --jp-layout-color3: #383838;\n",
              "                }\n",
              "\n",
              "                .geemap-colab {\n",
              "                    background-color: var(--colab-primary-surface-color, white);\n",
              "                }\n",
              "\n",
              "                .geemap-colab .jupyter-button {\n",
              "                    --jp-layout-color3: var(--colab-primary-surface-color, white);\n",
              "                }\n",
              "            </style>\n",
              "            "
            ]
          },
          "metadata": {}
        },
        {
          "output_type": "execute_result",
          "data": {
            "text/plain": [
              "0.18841999080835117"
            ]
          },
          "metadata": {},
          "execution_count": 22
        }
      ]
    },
    {
      "cell_type": "code",
      "source": [
        "chad_gfm_hydrafloods_iou = iou(gfm, hydrafloods, 'gfm', 'hydrafloods', aoi, my_proj_code, time_id)"
      ],
      "metadata": {
        "id": "8m9U7nrY12l3",
        "colab": {
          "base_uri": "https://localhost:8080/",
          "height": 508
        },
        "outputId": "81cd21f8-7a16-4871-c8c8-3599937fa464"
      },
      "execution_count": null,
      "outputs": [
        {
          "output_type": "display_data",
          "data": {
            "text/plain": [
              "<IPython.core.display.HTML object>"
            ],
            "text/html": [
              "\n",
              "            <style>\n",
              "                .geemap-dark {\n",
              "                    --jp-widgets-color: white;\n",
              "                    --jp-widgets-label-color: white;\n",
              "                    --jp-ui-font-color1: white;\n",
              "                    --jp-layout-color2: #454545;\n",
              "                    background-color: #383838;\n",
              "                }\n",
              "\n",
              "                .geemap-dark .jupyter-button {\n",
              "                    --jp-layout-color3: #383838;\n",
              "                }\n",
              "\n",
              "                .geemap-colab {\n",
              "                    background-color: var(--colab-primary-surface-color, white);\n",
              "                }\n",
              "\n",
              "                .geemap-colab .jupyter-button {\n",
              "                    --jp-layout-color3: var(--colab-primary-surface-color, white);\n",
              "                }\n",
              "            </style>\n",
              "            "
            ]
          },
          "metadata": {}
        },
        {
          "output_type": "stream",
          "name": "stdout",
          "text": [
            "sampling...\n",
            "Exporting iou_gfm_and_hydrafloods_05280442pt0... Please check the Task Manager from the JavaScript Code Editor.\n",
            "sampling...\n",
            "Exporting iou_gfm_and_hydrafloods_05280442pt1... Please check the Task Manager from the JavaScript Code Editor.\n",
            "sampling...\n",
            "Exporting iou_gfm_and_hydrafloods_05280442pt2... Please check the Task Manager from the JavaScript Code Editor.\n",
            "sampling...\n",
            "Exporting iou_gfm_and_hydrafloods_05280442pt3... Please check the Task Manager from the JavaScript Code Editor.\n",
            "sampling...\n",
            "Exporting iou_gfm_and_hydrafloods_05280442pt4... Please check the Task Manager from the JavaScript Code Editor.\n",
            "sampling...\n",
            "Exporting iou_gfm_and_hydrafloods_05280442pt5... Please check the Task Manager from the JavaScript Code Editor.\n",
            "sleeping...\n"
          ]
        },
        {
          "output_type": "error",
          "ename": "KeyboardInterrupt",
          "evalue": "",
          "traceback": [
            "\u001b[0;31m---------------------------------------------------------------------------\u001b[0m",
            "\u001b[0;31mKeyboardInterrupt\u001b[0m                         Traceback (most recent call last)",
            "\u001b[0;32m<ipython-input-23-9e0e35f9d027>\u001b[0m in \u001b[0;36m<cell line: 0>\u001b[0;34m()\u001b[0m\n\u001b[0;32m----> 1\u001b[0;31m \u001b[0mchad_gfm_hydrafloods_iou\u001b[0m \u001b[0;34m=\u001b[0m \u001b[0miou\u001b[0m\u001b[0;34m(\u001b[0m\u001b[0mgfm\u001b[0m\u001b[0;34m,\u001b[0m \u001b[0mhydrafloods\u001b[0m\u001b[0;34m,\u001b[0m \u001b[0;34m'gfm'\u001b[0m\u001b[0;34m,\u001b[0m \u001b[0;34m'hydrafloods'\u001b[0m\u001b[0;34m,\u001b[0m \u001b[0maoi\u001b[0m\u001b[0;34m,\u001b[0m \u001b[0mmy_proj_code\u001b[0m\u001b[0;34m,\u001b[0m \u001b[0mtime_id\u001b[0m\u001b[0;34m)\u001b[0m\u001b[0;34m\u001b[0m\u001b[0;34m\u001b[0m\u001b[0m\n\u001b[0m",
            "\u001b[0;32m<ipython-input-20-d635ac71df9a>\u001b[0m in \u001b[0;36miou\u001b[0;34m(img1, img2, desc1, desc2, aoi, myproj, mydesc)\u001b[0m\n\u001b[1;32m     41\u001b[0m \u001b[0;34m\u001b[0m\u001b[0m\n\u001b[1;32m     42\u001b[0m   \u001b[0mprint\u001b[0m\u001b[0;34m(\u001b[0m\u001b[0;34m'sleeping...'\u001b[0m\u001b[0;34m)\u001b[0m\u001b[0;34m\u001b[0m\u001b[0;34m\u001b[0m\u001b[0m\n\u001b[0;32m---> 43\u001b[0;31m   \u001b[0mtime\u001b[0m\u001b[0;34m.\u001b[0m\u001b[0msleep\u001b[0m\u001b[0;34m(\u001b[0m\u001b[0;36m60\u001b[0m\u001b[0;34m)\u001b[0m\u001b[0;34m\u001b[0m\u001b[0;34m\u001b[0m\u001b[0m\n\u001b[0m\u001b[1;32m     44\u001b[0m   \u001b[0mprint\u001b[0m\u001b[0;34m(\u001b[0m\u001b[0;34m'still sleeping...'\u001b[0m\u001b[0;34m)\u001b[0m\u001b[0;34m\u001b[0m\u001b[0;34m\u001b[0m\u001b[0m\n\u001b[1;32m     45\u001b[0m   \u001b[0mtime\u001b[0m\u001b[0;34m.\u001b[0m\u001b[0msleep\u001b[0m\u001b[0;34m(\u001b[0m\u001b[0;36m120\u001b[0m\u001b[0;34m)\u001b[0m\u001b[0;34m\u001b[0m\u001b[0;34m\u001b[0m\u001b[0m\n",
            "\u001b[0;31mKeyboardInterrupt\u001b[0m: "
          ]
        }
      ]
    },
    {
      "cell_type": "code",
      "source": [
        "chad_hydrafloods_hydrosar_iou = iou(hydrafloods, hydrosar, 'hydrafloods', 'hydrosar', aoi, my_proj_code, '06031148')"
      ],
      "metadata": {
        "id": "aVcIbgu13NV3",
        "colab": {
          "base_uri": "https://localhost:8080/",
          "height": 1000
        },
        "outputId": "7426d838-2b36-4b10-eb93-566c9a26ab76"
      },
      "execution_count": null,
      "outputs": [
        {
          "output_type": "display_data",
          "data": {
            "text/plain": [
              "<IPython.core.display.HTML object>"
            ],
            "text/html": [
              "\n",
              "            <style>\n",
              "                .geemap-dark {\n",
              "                    --jp-widgets-color: white;\n",
              "                    --jp-widgets-label-color: white;\n",
              "                    --jp-ui-font-color1: white;\n",
              "                    --jp-layout-color2: #454545;\n",
              "                    background-color: #383838;\n",
              "                }\n",
              "\n",
              "                .geemap-dark .jupyter-button {\n",
              "                    --jp-layout-color3: #383838;\n",
              "                }\n",
              "\n",
              "                .geemap-colab {\n",
              "                    background-color: var(--colab-primary-surface-color, white);\n",
              "                }\n",
              "\n",
              "                .geemap-colab .jupyter-button {\n",
              "                    --jp-layout-color3: var(--colab-primary-surface-color, white);\n",
              "                }\n",
              "            </style>\n",
              "            "
            ]
          },
          "metadata": {}
        },
        {
          "output_type": "stream",
          "name": "stdout",
          "text": [
            "sampling...\n",
            "Exporting iou_hydrafloods_and_hydrosar_06031148pt0... Please check the Task Manager from the JavaScript Code Editor.\n",
            "sampling...\n",
            "Exporting iou_hydrafloods_and_hydrosar_06031148pt1... Please check the Task Manager from the JavaScript Code Editor.\n",
            "sampling...\n",
            "Exporting iou_hydrafloods_and_hydrosar_06031148pt2... Please check the Task Manager from the JavaScript Code Editor.\n",
            "sampling...\n",
            "Exporting iou_hydrafloods_and_hydrosar_06031148pt3... Please check the Task Manager from the JavaScript Code Editor.\n",
            "sampling...\n",
            "Exporting iou_hydrafloods_and_hydrosar_06031148pt4... Please check the Task Manager from the JavaScript Code Editor.\n",
            "sampling...\n",
            "Exporting iou_hydrafloods_and_hydrosar_06031148pt5... Please check the Task Manager from the JavaScript Code Editor.\n",
            "sleeping...\n",
            "still sleeping...\n",
            "calculating iou...\n",
            "38251216\n",
            "iou calculation is 0.0 % complete\n",
            "iou calculation is 1.3 % complete\n",
            "iou calculation is 2.6 % complete\n",
            "iou calculation is 3.9 % complete\n",
            "iou calculation is 5.2 % complete\n",
            "iou calculation is 6.5 % complete\n",
            "iou calculation is 7.8 % complete\n",
            "iou calculation is 9.2 % complete\n",
            "iou calculation is 10.5 % complete\n",
            "iou calculation is 11.8 % complete\n",
            "iou calculation is 13.1 % complete\n",
            "iou calculation is 14.4 % complete\n",
            "iou calculation is 15.7 % complete\n",
            "iou calculation is 17.0 % complete\n",
            "iou calculation is 18.3 % complete\n",
            "iou calculation is 19.6 % complete\n",
            "iou calculation is 20.9 % complete\n",
            "iou calculation is 22.2 % complete\n",
            "iou calculation is 23.5 % complete\n",
            "iou calculation is 24.8 % complete\n",
            "iou calculation is 26.1 % complete\n",
            "iou calculation is 27.5 % complete\n",
            "iou calculation is 28.8 % complete\n",
            "iou calculation is 30.1 % complete\n",
            "iou calculation is 31.4 % complete\n",
            "iou calculation is 32.7 % complete\n",
            "iou calculation is 34.0 % complete\n",
            "iou calculation is 35.3 % complete\n",
            "iou calculation is 36.6 % complete\n",
            "iou calculation is 37.9 % complete\n",
            "iou calculation is 39.2 % complete\n",
            "iou calculation is 40.5 % complete\n",
            "iou calculation is 41.8 % complete\n",
            "iou calculation is 43.1 % complete\n",
            "iou calculation is 44.4 % complete\n",
            "iou calculation is 45.8 % complete\n",
            "iou calculation is 47.1 % complete\n",
            "iou calculation is 48.4 % complete\n",
            "iou calculation is 49.7 % complete\n",
            "iou calculation is 51.0 % complete\n",
            "iou calculation is 52.3 % complete\n",
            "iou calculation is 53.6 % complete\n",
            "iou calculation is 54.9 % complete\n",
            "iou calculation is 56.2 % complete\n",
            "iou calculation is 57.5 % complete\n",
            "iou calculation is 58.8 % complete\n",
            "iou calculation is 60.1 % complete\n",
            "iou calculation is 61.4 % complete\n",
            "iou calculation is 62.7 % complete\n",
            "iou calculation is 64.1 % complete\n",
            "iou calculation is 65.4 % complete\n",
            "iou calculation is 66.7 % complete\n",
            "iou calculation is 68.0 % complete\n",
            "iou calculation is 69.3 % complete\n",
            "iou calculation is 70.6 % complete\n",
            "iou calculation is 71.9 % complete\n",
            "iou calculation is 73.2 % complete\n",
            "iou calculation is 74.5 % complete\n",
            "iou calculation is 75.8 % complete\n",
            "iou calculation is 77.1 % complete\n",
            "iou calculation is 78.4 % complete\n",
            "iou calculation is 79.7 % complete\n",
            "iou calculation is 81.0 % complete\n",
            "iou calculation is 82.4 % complete\n",
            "iou calculation is 83.7 % complete\n",
            "iou calculation is 85.0 % complete\n",
            "iou calculation is 86.3 % complete\n",
            "iou calculation is 87.6 % complete\n",
            "iou calculation is 88.9 % complete\n",
            "iou calculation is 90.2 % complete\n",
            "iou calculation is 91.5 % complete\n",
            "iou calculation is 92.8 % complete\n",
            "iou calculation is 94.1 % complete\n",
            "iou calculation is 95.4 % complete\n",
            "iou calculation is 96.7 % complete\n",
            "iou calculation is 98.0 % complete\n",
            "iou calculation is 99.3 % complete\n"
          ]
        }
      ]
    },
    {
      "cell_type": "code",
      "source": [],
      "metadata": {
        "id": "b9CHE1eascfU"
      },
      "execution_count": null,
      "outputs": []
    }
  ],
  "metadata": {
    "colab": {
      "provenance": [],
      "toc_visible": true,
      "include_colab_link": true
    },
    "kernelspec": {
      "display_name": "Python 3",
      "name": "python3"
    },
    "language_info": {
      "name": "python"
    }
  },
  "nbformat": 4,
  "nbformat_minor": 0
}